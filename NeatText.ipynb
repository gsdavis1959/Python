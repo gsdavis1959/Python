{
  "nbformat": 4,
  "nbformat_minor": 0,
  "metadata": {
    "colab": {
      "name": "NeatText",
      "provenance": [],
      "collapsed_sections": []
    },
    "kernelspec": {
      "name": "python3",
      "display_name": "Python 3"
    },
    "language_info": {
      "name": "python"
    }
  },
  "cells": [
    {
      "cell_type": "code",
      "metadata": {
        "colab": {
          "base_uri": "https://localhost:8080/"
        },
        "id": "d8Nq0O4G-rWx",
        "outputId": "06d6db4c-f784-43b6-891d-9846aaf08d76"
      },
      "source": [
        "!pip install neattext"
      ],
      "execution_count": 1,
      "outputs": [
        {
          "output_type": "stream",
          "name": "stdout",
          "text": [
            "Collecting neattext\n",
            "  Downloading neattext-0.1.2-py3-none-any.whl (114 kB)\n",
            "\u001b[?25l\r\u001b[K     |██▉                             | 10 kB 18.8 MB/s eta 0:00:01\r\u001b[K     |█████▊                          | 20 kB 11.2 MB/s eta 0:00:01\r\u001b[K     |████████▋                       | 30 kB 8.9 MB/s eta 0:00:01\r\u001b[K     |███████████▌                    | 40 kB 8.0 MB/s eta 0:00:01\r\u001b[K     |██████████████▍                 | 51 kB 5.2 MB/s eta 0:00:01\r\u001b[K     |█████████████████▏              | 61 kB 5.4 MB/s eta 0:00:01\r\u001b[K     |████████████████████            | 71 kB 5.0 MB/s eta 0:00:01\r\u001b[K     |███████████████████████         | 81 kB 5.6 MB/s eta 0:00:01\r\u001b[K     |█████████████████████████▉      | 92 kB 5.9 MB/s eta 0:00:01\r\u001b[K     |████████████████████████████▊   | 102 kB 5.1 MB/s eta 0:00:01\r\u001b[K     |███████████████████████████████▋| 112 kB 5.1 MB/s eta 0:00:01\r\u001b[K     |████████████████████████████████| 114 kB 5.1 MB/s \n",
            "\u001b[?25hInstalling collected packages: neattext\n",
            "Successfully installed neattext-0.1.2\n"
          ]
        }
      ]
    },
    {
      "cell_type": "code",
      "metadata": {
        "id": "BbIC0EGb-zqN"
      },
      "source": [
        "import neattext as nt"
      ],
      "execution_count": 2,
      "outputs": []
    },
    {
      "cell_type": "code",
      "metadata": {
        "id": "Xha-xkXj-4WO"
      },
      "source": [
        "my_text = 'His name is Donald trump 😆. He is former president of USA !!!!  😎 . He abused women. His contact number is 0123456789. His email is trumpdonald@gmail.com. His website is https://www.donaldjtrump.com/'\n"
      ],
      "execution_count": 3,
      "outputs": []
    },
    {
      "cell_type": "code",
      "metadata": {
        "colab": {
          "base_uri": "https://localhost:8080/",
          "height": 53
        },
        "id": "ZBI3seZg_IoK",
        "outputId": "0e9056e3-07f0-4a79-b428-b4ad5d5f00c4"
      },
      "source": [
        "sentx = nt.TextFrame(text=my_text)\n",
        "sentx.text"
      ],
      "execution_count": 4,
      "outputs": [
        {
          "output_type": "execute_result",
          "data": {
            "application/vnd.google.colaboratory.intrinsic+json": {
              "type": "string"
            },
            "text/plain": [
              "'His name is Donald trump 😆. He is former president of USA !!!!  😎 . He abused women. His contact number is 0123456789. His email is trumpdonald@gmail.com. His website is https://www.donaldjtrump.com/'"
            ]
          },
          "metadata": {},
          "execution_count": 4
        }
      ]
    },
    {
      "cell_type": "code",
      "metadata": {
        "colab": {
          "base_uri": "https://localhost:8080/"
        },
        "id": "PiwFmDcj_QHy",
        "outputId": "441bcd1e-5535-4017-8878-3abaa37298d6"
      },
      "source": [
        "sentx.describe()"
      ],
      "execution_count": 5,
      "outputs": [
        {
          "output_type": "stream",
          "name": "stdout",
          "text": [
            "Key      Value          \n",
            "Length  : 199            \n",
            "vowels  : 49             \n",
            "consonants: 90             \n",
            "stopwords: 14             \n",
            "punctuations: 17             \n",
            "special_char: 17             \n",
            "tokens(whitespace): 31             \n",
            "tokens(words): 33             \n"
          ]
        }
      ]
    },
    {
      "cell_type": "code",
      "metadata": {
        "colab": {
          "base_uri": "https://localhost:8080/"
        },
        "id": "cpXU4csF_VEj",
        "outputId": "b1f92e60-5674-419c-8e27-66064183cbfa"
      },
      "source": [
        "sentx.count_vowels()"
      ],
      "execution_count": 6,
      "outputs": [
        {
          "output_type": "execute_result",
          "data": {
            "text/plain": [
              "{'a': 9, 'e': 12, 'i': 13, 'o': 9, 'u': 6}"
            ]
          },
          "metadata": {},
          "execution_count": 6
        }
      ]
    },
    {
      "cell_type": "code",
      "metadata": {
        "colab": {
          "base_uri": "https://localhost:8080/"
        },
        "id": "c_gENqKu_ZzR",
        "outputId": "c2c0ed93-2495-4dac-c365-8a4a186e8d99"
      },
      "source": [
        "sentx.count_stopwords()"
      ],
      "execution_count": 7,
      "outputs": [
        {
          "output_type": "execute_result",
          "data": {
            "text/plain": [
              "{'former': 1, 'he': 2, 'his': 4, 'is': 5, 'name': 1, 'of': 1}"
            ]
          },
          "metadata": {},
          "execution_count": 7
        }
      ]
    },
    {
      "cell_type": "code",
      "metadata": {
        "colab": {
          "base_uri": "https://localhost:8080/"
        },
        "id": "XmcXBtSb_esr",
        "outputId": "94d9f01f-f4a1-4d9a-9606-796e8b09826b"
      },
      "source": [
        "print(sentx.remove_puncts())"
      ],
      "execution_count": 8,
      "outputs": [
        {
          "output_type": "stream",
          "name": "stdout",
          "text": [
            "His name is Donald trump 😆 He is former president of USA   😎  He abused women His contact number is 0123456789 His email is trumpdonald@gmailcom His website is https://wwwdonaldjtrumpcom/\n"
          ]
        }
      ]
    },
    {
      "cell_type": "code",
      "metadata": {
        "colab": {
          "base_uri": "https://localhost:8080/"
        },
        "id": "q5ndqHdl_ksm",
        "outputId": "4a18d49c-04f8-4024-f49c-645b530110c2"
      },
      "source": [
        "print(sentx.remove_stopwords())"
      ],
      "execution_count": 9,
      "outputs": [
        {
          "output_type": "stream",
          "name": "stdout",
          "text": [
            "Donald trump 😆 president USA 😎 abused women contact number 0123456789 email trumpdonald@gmailcom website https://wwwdonaldjtrumpcom/\n"
          ]
        }
      ]
    },
    {
      "cell_type": "code",
      "metadata": {
        "colab": {
          "base_uri": "https://localhost:8080/"
        },
        "id": "jFQrhqM8_pHh",
        "outputId": "cc718b8f-4e7d-42db-f3b9-214fb28c0234"
      },
      "source": [
        "print(sentx.remove_emojis())"
      ],
      "execution_count": 10,
      "outputs": [
        {
          "output_type": "stream",
          "name": "stdout",
          "text": [
            "Donald trump  president USA  abused women contact number 0123456789 email trumpdonald@gmailcom website https://wwwdonaldjtrumpcom/\n"
          ]
        }
      ]
    },
    {
      "cell_type": "code",
      "metadata": {
        "id": "YwbpLWvm_tyt"
      },
      "source": [
        "from neattext import TextExtractor\n",
        "sentx1 = TextExtractor(text=my_text)"
      ],
      "execution_count": 11,
      "outputs": []
    },
    {
      "cell_type": "code",
      "metadata": {
        "colab": {
          "base_uri": "https://localhost:8080/"
        },
        "id": "ed_V5P5-_zsV",
        "outputId": "a266e804-86d5-449e-9e48-0b796b7875d8"
      },
      "source": [
        "sentx1.extract_emails()"
      ],
      "execution_count": 12,
      "outputs": [
        {
          "output_type": "execute_result",
          "data": {
            "text/plain": [
              "['trumpdonald@gmail.com.']"
            ]
          },
          "metadata": {},
          "execution_count": 12
        }
      ]
    },
    {
      "cell_type": "code",
      "metadata": {
        "colab": {
          "base_uri": "https://localhost:8080/"
        },
        "id": "4YmjEEIw_4aJ",
        "outputId": "8b7cc08b-95d6-443b-d5fc-e50ca79679d3"
      },
      "source": [
        "sentx1.extract_emojis()"
      ],
      "execution_count": 13,
      "outputs": [
        {
          "output_type": "execute_result",
          "data": {
            "text/plain": [
              "['😆', '😎']"
            ]
          },
          "metadata": {},
          "execution_count": 13
        }
      ]
    },
    {
      "cell_type": "code",
      "metadata": {
        "id": "LtdKfoVP_8tK"
      },
      "source": [
        "from neattext.functions import clean_text"
      ],
      "execution_count": 14,
      "outputs": []
    },
    {
      "cell_type": "code",
      "metadata": {
        "colab": {
          "base_uri": "https://localhost:8080/",
          "height": 35
        },
        "id": "E6TIJAzuABXr",
        "outputId": "e9285d66-7e18-49e5-83a8-388fe765af5a"
      },
      "source": [
        "clean_text(my_text, urls=True, stopwords=True)"
      ],
      "execution_count": 19,
      "outputs": [
        {
          "output_type": "execute_result",
          "data": {
            "application/vnd.google.colaboratory.intrinsic+json": {
              "type": "string"
            },
            "text/plain": [
              "'donald trump . president usa !!!! . abused women. contact number 0123456789. email trumpdonald@gmail.com. website '"
            ]
          },
          "metadata": {},
          "execution_count": 19
        }
      ]
    }
  ]
}