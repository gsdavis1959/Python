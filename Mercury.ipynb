{
  "nbformat": 4,
  "nbformat_minor": 0,
  "metadata": {
    "colab": {
      "provenance": []
    },
    "kernelspec": {
      "name": "python3",
      "display_name": "Python 3"
    },
    "language_info": {
      "name": "python"
    },
    "widgets": {
      "application/vnd.jupyter.widget-state+json": {
        "08f3568fa0a9422f95d957b66d8357f6": {
          "model_module": "@jupyter-widgets/controls",
          "model_name": "FileUploadModel",
          "model_module_version": "2.0.0",
          "state": {
            "_dom_classes": [],
            "_model_module": "@jupyter-widgets/controls",
            "_model_module_version": "2.0.0",
            "_model_name": "FileUploadModel",
            "_view_count": null,
            "_view_module": "@jupyter-widgets/controls",
            "_view_module_version": "2.0.0",
            "_view_name": "FileUploadView",
            "accept": "",
            "button_style": "",
            "description": "/content/OGHIST.xlsx",
            "description_allow_html": false,
            "disabled": false,
            "error": "",
            "icon": "upload",
            "layout": "IPY_MODEL_0801b52954014d3b8702cc0f67aa1192",
            "multiple": false,
            "style": "IPY_MODEL_747dad1bc63d48c08e78093118656832",
            "tabbable": null,
            "tooltip": null,
            "value": []
          }
        },
        "0801b52954014d3b8702cc0f67aa1192": {
          "model_module": "@jupyter-widgets/base",
          "model_name": "LayoutModel",
          "model_module_version": "2.0.0",
          "state": {
            "_model_module": "@jupyter-widgets/base",
            "_model_module_version": "2.0.0",
            "_model_name": "LayoutModel",
            "_view_count": null,
            "_view_module": "@jupyter-widgets/base",
            "_view_module_version": "2.0.0",
            "_view_name": "LayoutView",
            "align_content": null,
            "align_items": null,
            "align_self": null,
            "border_bottom": null,
            "border_left": null,
            "border_right": null,
            "border_top": null,
            "bottom": null,
            "display": null,
            "flex": null,
            "flex_flow": null,
            "grid_area": null,
            "grid_auto_columns": null,
            "grid_auto_flow": null,
            "grid_auto_rows": null,
            "grid_column": null,
            "grid_gap": null,
            "grid_row": null,
            "grid_template_areas": null,
            "grid_template_columns": null,
            "grid_template_rows": null,
            "height": null,
            "justify_content": null,
            "justify_items": null,
            "left": null,
            "margin": null,
            "max_height": null,
            "max_width": null,
            "min_height": null,
            "min_width": null,
            "object_fit": null,
            "object_position": null,
            "order": null,
            "overflow": null,
            "padding": null,
            "right": null,
            "top": null,
            "visibility": null,
            "width": null
          }
        },
        "747dad1bc63d48c08e78093118656832": {
          "model_module": "@jupyter-widgets/controls",
          "model_name": "ButtonStyleModel",
          "model_module_version": "2.0.0",
          "state": {
            "_model_module": "@jupyter-widgets/controls",
            "_model_module_version": "2.0.0",
            "_model_name": "ButtonStyleModel",
            "_view_count": null,
            "_view_module": "@jupyter-widgets/base",
            "_view_module_version": "2.0.0",
            "_view_name": "StyleView",
            "button_color": null,
            "font_family": null,
            "font_size": null,
            "font_style": null,
            "font_variant": null,
            "font_weight": null,
            "text_color": null,
            "text_decoration": null
          }
        },
        "f5900a7332934243b5f047aa55cda5d4": {
          "model_module": "@jupyter-widgets/controls",
          "model_name": "SelectMultipleModel",
          "model_module_version": "2.0.0",
          "state": {
            "_dom_classes": [],
            "_model_module": "@jupyter-widgets/controls",
            "_model_module_version": "2.0.0",
            "_model_name": "SelectMultipleModel",
            "_options_labels": [
              "White, Mcclain and Cobb",
              "Scott Inc",
              "Andrade LLC",
              "James and Sons",
              "Matthews Inc",
              "Marshall-Holloway",
              "Campos, Reynolds and Mccormick",
              "Baker, Allen and Edwards",
              "Nelson-Li",
              "Thomas-Spencer",
              "Johnston, Fleming and Tanner",
              "Nichols-James",
              "Taylor-Ramos",
              "Bullock-Carrillo",
              "Wallace, Smith and Shepard"
            ],
            "_view_count": null,
            "_view_module": "@jupyter-widgets/controls",
            "_view_module_version": "2.0.0",
            "_view_name": "SelectMultipleView",
            "description": "Select Companies",
            "description_allow_html": false,
            "disabled": false,
            "index": [
              0,
              1,
              2,
              3,
              4,
              5,
              6,
              7,
              8,
              9,
              10,
              11,
              12,
              13,
              14
            ],
            "layout": "IPY_MODEL_538cfdf0159b4143b072f9bff16b47ac",
            "rows": 5,
            "style": "IPY_MODEL_5f5eec5d560d48529841250fd07a5d92",
            "tabbable": null,
            "tooltip": null
          }
        },
        "538cfdf0159b4143b072f9bff16b47ac": {
          "model_module": "@jupyter-widgets/base",
          "model_name": "LayoutModel",
          "model_module_version": "2.0.0",
          "state": {
            "_model_module": "@jupyter-widgets/base",
            "_model_module_version": "2.0.0",
            "_model_name": "LayoutModel",
            "_view_count": null,
            "_view_module": "@jupyter-widgets/base",
            "_view_module_version": "2.0.0",
            "_view_name": "LayoutView",
            "align_content": null,
            "align_items": null,
            "align_self": null,
            "border_bottom": null,
            "border_left": null,
            "border_right": null,
            "border_top": null,
            "bottom": null,
            "display": null,
            "flex": null,
            "flex_flow": null,
            "grid_area": null,
            "grid_auto_columns": null,
            "grid_auto_flow": null,
            "grid_auto_rows": null,
            "grid_column": null,
            "grid_gap": null,
            "grid_row": null,
            "grid_template_areas": null,
            "grid_template_columns": null,
            "grid_template_rows": null,
            "height": null,
            "justify_content": null,
            "justify_items": null,
            "left": null,
            "margin": null,
            "max_height": null,
            "max_width": null,
            "min_height": null,
            "min_width": null,
            "object_fit": null,
            "object_position": null,
            "order": null,
            "overflow": null,
            "padding": null,
            "right": null,
            "top": null,
            "visibility": null,
            "width": null
          }
        },
        "5f5eec5d560d48529841250fd07a5d92": {
          "model_module": "@jupyter-widgets/controls",
          "model_name": "DescriptionStyleModel",
          "model_module_version": "2.0.0",
          "state": {
            "_model_module": "@jupyter-widgets/controls",
            "_model_module_version": "2.0.0",
            "_model_name": "DescriptionStyleModel",
            "_view_count": null,
            "_view_module": "@jupyter-widgets/base",
            "_view_module_version": "2.0.0",
            "_view_name": "StyleView",
            "description_width": "initial"
          }
        },
        "681a1c595410442b9c238cb8e869b9ab": {
          "model_module": "@jupyter-widgets/controls",
          "model_name": "IntSliderModel",
          "model_module_version": "2.0.0",
          "state": {
            "_dom_classes": [],
            "_model_module": "@jupyter-widgets/controls",
            "_model_module_version": "2.0.0",
            "_model_name": "IntSliderModel",
            "_view_count": null,
            "_view_module": "@jupyter-widgets/controls",
            "_view_module_version": "2.0.0",
            "_view_name": "IntSliderView",
            "behavior": "drag-tap",
            "continuous_update": true,
            "description": "Credits Filter",
            "description_allow_html": false,
            "disabled": false,
            "layout": "IPY_MODEL_c225559e060a4bf49b0139e9a2f3c462",
            "max": 5,
            "min": 1,
            "orientation": "horizontal",
            "readout": true,
            "readout_format": "d",
            "step": 1,
            "style": "IPY_MODEL_b55248451dbd4475acef8a2a34a9b8e9",
            "tabbable": null,
            "tooltip": null,
            "value": 1
          }
        },
        "c225559e060a4bf49b0139e9a2f3c462": {
          "model_module": "@jupyter-widgets/base",
          "model_name": "LayoutModel",
          "model_module_version": "2.0.0",
          "state": {
            "_model_module": "@jupyter-widgets/base",
            "_model_module_version": "2.0.0",
            "_model_name": "LayoutModel",
            "_view_count": null,
            "_view_module": "@jupyter-widgets/base",
            "_view_module_version": "2.0.0",
            "_view_name": "LayoutView",
            "align_content": null,
            "align_items": null,
            "align_self": null,
            "border_bottom": null,
            "border_left": null,
            "border_right": null,
            "border_top": null,
            "bottom": null,
            "display": null,
            "flex": null,
            "flex_flow": null,
            "grid_area": null,
            "grid_auto_columns": null,
            "grid_auto_flow": null,
            "grid_auto_rows": null,
            "grid_column": null,
            "grid_gap": null,
            "grid_row": null,
            "grid_template_areas": null,
            "grid_template_columns": null,
            "grid_template_rows": null,
            "height": null,
            "justify_content": null,
            "justify_items": null,
            "left": null,
            "margin": null,
            "max_height": null,
            "max_width": null,
            "min_height": null,
            "min_width": null,
            "object_fit": null,
            "object_position": null,
            "order": null,
            "overflow": null,
            "padding": null,
            "right": null,
            "top": null,
            "visibility": null,
            "width": null
          }
        },
        "b55248451dbd4475acef8a2a34a9b8e9": {
          "model_module": "@jupyter-widgets/controls",
          "model_name": "SliderStyleModel",
          "model_module_version": "2.0.0",
          "state": {
            "_model_module": "@jupyter-widgets/controls",
            "_model_module_version": "2.0.0",
            "_model_name": "SliderStyleModel",
            "_view_count": null,
            "_view_module": "@jupyter-widgets/base",
            "_view_module_version": "2.0.0",
            "_view_name": "StyleView",
            "description_width": "initial",
            "handle_color": null
          }
        }
      }
    }
  },
  "cells": [
    {
      "cell_type": "code",
      "execution_count": 3,
      "metadata": {
        "colab": {
          "base_uri": "https://localhost:8080/"
        },
        "id": "3Flc9GQdogww",
        "outputId": "81305e22-8c7f-4a98-91f8-458d573ffad5"
      },
      "outputs": [
        {
          "output_type": "stream",
          "name": "stdout",
          "text": [
            "Looking in indexes: https://pypi.org/simple, https://us-python.pkg.dev/colab-wheels/public/simple/\n",
            "Collecting mercury\n",
            "  Downloading mercury-2.2.6.tar.gz (2.6 MB)\n",
            "\u001b[2K     \u001b[90m━━━━━━━━━━━━━━━━━━━━━━━━━━━━━━━━━━━━━━━━\u001b[0m \u001b[32m2.6/2.6 MB\u001b[0m \u001b[31m26.9 MB/s\u001b[0m eta \u001b[36m0:00:00\u001b[0m\n",
            "\u001b[?25h  Installing build dependencies ... \u001b[?25l\u001b[?25hdone\n",
            "  Getting requirements to build wheel ... \u001b[?25l\u001b[?25hdone\n",
            "  Preparing metadata (pyproject.toml) ... \u001b[?25l\u001b[?25hdone\n",
            "Requirement already satisfied: nbconvert>=6.5.0 in /usr/local/lib/python3.9/dist-packages (from mercury) (6.5.4)\n",
            "Collecting django-cors-headers==3.10.1\n",
            "  Downloading django_cors_headers-3.10.1-py3-none-any.whl (12 kB)\n",
            "Collecting execnb\n",
            "  Downloading execnb-0.1.5-py3-none-any.whl (13 kB)\n",
            "Collecting pyppeteer==1.0.2\n",
            "  Downloading pyppeteer-1.0.2-py3-none-any.whl (83 kB)\n",
            "\u001b[2K     \u001b[90m━━━━━━━━━━━━━━━━━━━━━━━━━━━━━━━━━━━━━━━━\u001b[0m \u001b[32m83.4/83.4 kB\u001b[0m \u001b[31m8.7 MB/s\u001b[0m eta \u001b[36m0:00:00\u001b[0m\n",
            "\u001b[?25hCollecting django==3.2.5\n",
            "  Downloading Django-3.2.5-py3-none-any.whl (7.9 MB)\n",
            "\u001b[2K     \u001b[90m━━━━━━━━━━━━━━━━━━━━━━━━━━━━━━━━━━━━━━━━\u001b[0m \u001b[32m7.9/7.9 MB\u001b[0m \u001b[31m82.2 MB/s\u001b[0m eta \u001b[36m0:00:00\u001b[0m\n",
            "\u001b[?25hCollecting ipykernel>=6.6.0\n",
            "  Downloading ipykernel-6.22.0-py3-none-any.whl (149 kB)\n",
            "\u001b[2K     \u001b[90m━━━━━━━━━━━━━━━━━━━━━━━━━━━━━━━━━━━━━━\u001b[0m \u001b[32m150.0/150.0 kB\u001b[0m \u001b[31m14.7 MB/s\u001b[0m eta \u001b[36m0:00:00\u001b[0m\n",
            "\u001b[?25hCollecting ipywidgets==8.0.3\n",
            "  Downloading ipywidgets-8.0.3-py3-none-any.whl (137 kB)\n",
            "\u001b[2K     \u001b[90m━━━━━━━━━━━━━━━━━━━━━━━━━━━━━━━━━━━━━━\u001b[0m \u001b[32m137.9/137.9 kB\u001b[0m \u001b[31m12.1 MB/s\u001b[0m eta \u001b[36m0:00:00\u001b[0m\n",
            "\u001b[?25hCollecting sqlalchemy==1.4.27\n",
            "  Downloading SQLAlchemy-1.4.27-cp39-cp39-manylinux_2_5_x86_64.manylinux1_x86_64.manylinux_2_17_x86_64.manylinux2014_x86_64.whl (1.6 MB)\n",
            "\u001b[2K     \u001b[90m━━━━━━━━━━━━━━━━━━━━━━━━━━━━━━━━━━━━━━━━\u001b[0m \u001b[32m1.6/1.6 MB\u001b[0m \u001b[31m77.3 MB/s\u001b[0m eta \u001b[36m0:00:00\u001b[0m\n",
            "\u001b[?25hRequirement already satisfied: pyyaml==6.0 in /usr/local/lib/python3.9/dist-packages (from mercury) (6.0)\n",
            "Requirement already satisfied: psutil>=5.8.0 in /usr/local/lib/python3.9/dist-packages (from mercury) (5.9.5)\n",
            "Collecting pyopenssl>=23.1.1\n",
            "  Downloading pyOpenSSL-23.1.1-py3-none-any.whl (57 kB)\n",
            "\u001b[2K     \u001b[90m━━━━━━━━━━━━━━━━━━━━━━━━━━━━━━━━━━━━━━━━\u001b[0m \u001b[32m57.9/57.9 kB\u001b[0m \u001b[31m6.5 MB/s\u001b[0m eta \u001b[36m0:00:00\u001b[0m\n",
            "\u001b[?25hCollecting dj-rest-auth[with_social]==3.0.0\n",
            "  Downloading dj-rest-auth-3.0.0.tar.gz (100 kB)\n",
            "\u001b[2K     \u001b[90m━━━━━━━━━━━━━━━━━━━━━━━━━━━━━━━━━━━━━━\u001b[0m \u001b[32m100.2/100.2 kB\u001b[0m \u001b[31m11.0 MB/s\u001b[0m eta \u001b[36m0:00:00\u001b[0m\n",
            "\u001b[?25h  Preparing metadata (setup.py) ... \u001b[?25l\u001b[?25hdone\n",
            "Collecting djangorestframework==3.12.4\n",
            "  Downloading djangorestframework-3.12.4-py3-none-any.whl (957 kB)\n",
            "\u001b[2K     \u001b[90m━━━━━━━━━━━━━━━━━━━━━━━━━━━━━━━━━━━━━━\u001b[0m \u001b[32m957.7/957.7 kB\u001b[0m \u001b[31m60.1 MB/s\u001b[0m eta \u001b[36m0:00:00\u001b[0m\n",
            "\u001b[?25hCollecting markdown==3.3.6\n",
            "  Downloading Markdown-3.3.6-py3-none-any.whl (97 kB)\n",
            "\u001b[2K     \u001b[90m━━━━━━━━━━━━━━━━━━━━━━━━━━━━━━━━━━━━━━━━\u001b[0m \u001b[32m97.8/97.8 kB\u001b[0m \u001b[31m10.4 MB/s\u001b[0m eta \u001b[36m0:00:00\u001b[0m\n",
            "\u001b[?25hCollecting whitenoise>=5.3.0\n",
            "  Downloading whitenoise-6.4.0-py3-none-any.whl (19 kB)\n",
            "Collecting boto3==1.26.83\n",
            "  Downloading boto3-1.26.83-py3-none-any.whl (134 kB)\n",
            "\u001b[2K     \u001b[90m━━━━━━━━━━━━━━━━━━━━━━━━━━━━━━━━━━━━━━\u001b[0m \u001b[32m134.7/134.7 kB\u001b[0m \u001b[31m14.8 MB/s\u001b[0m eta \u001b[36m0:00:00\u001b[0m\n",
            "\u001b[?25hCollecting channels[daphne]>=4.0.0\n",
            "  Downloading channels-4.0.0-py3-none-any.whl (28 kB)\n",
            "Requirement already satisfied: cryptography in /usr/local/lib/python3.9/dist-packages (from mercury) (40.0.2)\n",
            "Collecting gevent\n",
            "  Downloading gevent-22.10.2-cp39-cp39-manylinux_2_17_x86_64.manylinux2014_x86_64.whl (6.4 MB)\n",
            "\u001b[2K     \u001b[90m━━━━━━━━━━━━━━━━━━━━━━━━━━━━━━━━━━━━━━━━\u001b[0m \u001b[32m6.4/6.4 MB\u001b[0m \u001b[31m75.6 MB/s\u001b[0m eta \u001b[36m0:00:00\u001b[0m\n",
            "\u001b[?25hCollecting python-dotenv>=0.19.2\n",
            "  Downloading python_dotenv-1.0.0-py3-none-any.whl (19 kB)\n",
            "Requirement already satisfied: ipython-genutils in /usr/local/lib/python3.9/dist-packages (from mercury) (0.2.0)\n",
            "Collecting croniter>=1.3.5\n",
            "  Downloading croniter-1.3.14-py2.py3-none-any.whl (18 kB)\n",
            "Collecting django-filter==21.1\n",
            "  Downloading django_filter-21.1-py3-none-any.whl (81 kB)\n",
            "\u001b[2K     \u001b[90m━━━━━━━━━━━━━━━━━━━━━━━━━━━━━━━━━━━━━━━━\u001b[0m \u001b[32m81.4/81.4 kB\u001b[0m \u001b[31m9.9 MB/s\u001b[0m eta \u001b[36m0:00:00\u001b[0m\n",
            "\u001b[?25hCollecting django-drf-filepond==0.4.1\n",
            "  Downloading django_drf_filepond-0.4.1-py2.py3-none-any.whl (39 kB)\n",
            "Requirement already satisfied: websocket-client>=1.4.2 in /usr/local/lib/python3.9/dist-packages (from mercury) (1.5.1)\n",
            "Collecting celery>=5.1.2\n",
            "  Downloading celery-5.2.7-py3-none-any.whl (405 kB)\n",
            "\u001b[2K     \u001b[90m━━━━━━━━━━━━━━━━━━━━━━━━━━━━━━━━━━━━━━\u001b[0m \u001b[32m405.6/405.6 kB\u001b[0m \u001b[31m34.6 MB/s\u001b[0m eta \u001b[36m0:00:00\u001b[0m\n",
            "\u001b[?25hRequirement already satisfied: ipython>=7.30.1 in /usr/local/lib/python3.9/dist-packages (from mercury) (7.34.0)\n",
            "Collecting botocore<1.30.0,>=1.29.83\n",
            "  Downloading botocore-1.29.118-py3-none-any.whl (10.7 MB)\n",
            "\u001b[2K     \u001b[90m━━━━━━━━━━━━━━━━━━━━━━━━━━━━━━━━━━━━━━━━\u001b[0m \u001b[32m10.7/10.7 MB\u001b[0m \u001b[31m20.0 MB/s\u001b[0m eta \u001b[36m0:00:00\u001b[0m\n",
            "\u001b[?25hCollecting s3transfer<0.7.0,>=0.6.0\n",
            "  Downloading s3transfer-0.6.0-py3-none-any.whl (79 kB)\n",
            "\u001b[2K     \u001b[90m━━━━━━━━━━━━━━━━━━━━━━━━━━━━━━━━━━━━━━━━\u001b[0m \u001b[32m79.6/79.6 kB\u001b[0m \u001b[31m5.3 MB/s\u001b[0m eta \u001b[36m0:00:00\u001b[0m\n",
            "\u001b[?25hCollecting jmespath<2.0.0,>=0.7.1\n",
            "  Downloading jmespath-1.0.1-py3-none-any.whl (20 kB)\n",
            "Collecting django-allauth<0.53.0,>=0.40.0\n",
            "  Downloading django-allauth-0.52.0.tar.gz (728 kB)\n",
            "\u001b[2K     \u001b[90m━━━━━━━━━━━━━━━━━━━━━━━━━━━━━━━━━━━━━━\u001b[0m \u001b[32m728.3/728.3 kB\u001b[0m \u001b[31m16.1 MB/s\u001b[0m eta \u001b[36m0:00:00\u001b[0m\n",
            "\u001b[?25h  Preparing metadata (setup.py) ... \u001b[?25l\u001b[?25hdone\n",
            "Requirement already satisfied: pytz in /usr/local/lib/python3.9/dist-packages (from django==3.2.5->mercury) (2022.7.1)\n",
            "Requirement already satisfied: sqlparse>=0.2.2 in /usr/local/lib/python3.9/dist-packages (from django==3.2.5->mercury) (0.4.3)\n",
            "Collecting asgiref<4,>=3.3.2\n",
            "  Downloading asgiref-3.6.0-py3-none-any.whl (23 kB)\n",
            "Collecting shortuuid>=0.5.0\n",
            "  Downloading shortuuid-1.0.11-py3-none-any.whl (10 kB)\n",
            "Requirement already satisfied: requests>=2.20.1 in /usr/local/lib/python3.9/dist-packages (from django-drf-filepond==0.4.1->mercury) (2.27.1)\n",
            "Requirement already satisfied: six>=1.14.0 in /usr/local/lib/python3.9/dist-packages (from django-drf-filepond==0.4.1->mercury) (1.16.0)\n",
            "Collecting django-storages>=1.9.1\n",
            "  Downloading django_storages-1.13.2-py3-none-any.whl (46 kB)\n",
            "\u001b[2K     \u001b[90m━━━━━━━━━━━━━━━━━━━━━━━━━━━━━━━━━━━━━━━━\u001b[0m \u001b[32m46.7/46.7 kB\u001b[0m \u001b[31m4.2 MB/s\u001b[0m eta \u001b[36m0:00:00\u001b[0m\n",
            "\u001b[?25hRequirement already satisfied: traitlets>=4.3.1 in /usr/local/lib/python3.9/dist-packages (from ipywidgets==8.0.3->mercury) (5.7.1)\n",
            "Collecting widgetsnbextension~=4.0\n",
            "  Downloading widgetsnbextension-4.0.7-py3-none-any.whl (2.1 MB)\n",
            "\u001b[2K     \u001b[90m━━━━━━━━━━━━━━━━━━━━━━━━━━━━━━━━━━━━━━━━\u001b[0m \u001b[32m2.1/2.1 MB\u001b[0m \u001b[31m31.0 MB/s\u001b[0m eta \u001b[36m0:00:00\u001b[0m\n",
            "\u001b[?25hRequirement already satisfied: jupyterlab-widgets~=3.0 in /usr/local/lib/python3.9/dist-packages (from ipywidgets==8.0.3->mercury) (3.0.7)\n",
            "Requirement already satisfied: importlib-metadata>=4.4 in /usr/local/lib/python3.9/dist-packages (from markdown==3.3.6->mercury) (6.4.1)\n",
            "Collecting pyee<9.0.0,>=8.1.0\n",
            "  Downloading pyee-8.2.2-py2.py3-none-any.whl (12 kB)\n",
            "Requirement already satisfied: urllib3<2.0.0,>=1.25.8 in /usr/local/lib/python3.9/dist-packages (from pyppeteer==1.0.2->mercury) (1.26.15)\n",
            "Requirement already satisfied: appdirs<2.0.0,>=1.4.3 in /usr/local/lib/python3.9/dist-packages (from pyppeteer==1.0.2->mercury) (1.4.4)\n",
            "Requirement already satisfied: certifi>=2021 in /usr/local/lib/python3.9/dist-packages (from pyppeteer==1.0.2->mercury) (2022.12.7)\n",
            "Requirement already satisfied: tqdm<5.0.0,>=4.42.1 in /usr/local/lib/python3.9/dist-packages (from pyppeteer==1.0.2->mercury) (4.65.0)\n",
            "Collecting websockets<11.0,>=10.0\n",
            "  Downloading websockets-10.4-cp39-cp39-manylinux_2_5_x86_64.manylinux1_x86_64.manylinux_2_17_x86_64.manylinux2014_x86_64.whl (106 kB)\n",
            "\u001b[2K     \u001b[90m━━━━━━━━━━━━━━━━━━━━━━━━━━━━━━━━━━━━━━━\u001b[0m \u001b[32m106.5/106.5 kB\u001b[0m \u001b[31m7.7 MB/s\u001b[0m eta \u001b[36m0:00:00\u001b[0m\n",
            "\u001b[?25hRequirement already satisfied: greenlet!=0.4.17 in /usr/local/lib/python3.9/dist-packages (from sqlalchemy==1.4.27->mercury) (2.0.2)\n",
            "Collecting kombu<6.0,>=5.2.3\n",
            "  Downloading kombu-5.2.4-py3-none-any.whl (189 kB)\n",
            "\u001b[2K     \u001b[90m━━━━━━━━━━━━━━━━━━━━━━━━━━━━━━━━━━━━━━━\u001b[0m \u001b[32m189.2/189.2 kB\u001b[0m \u001b[31m8.0 MB/s\u001b[0m eta \u001b[36m0:00:00\u001b[0m\n",
            "\u001b[?25hRequirement already satisfied: click<9.0,>=8.0.3 in /usr/local/lib/python3.9/dist-packages (from celery>=5.1.2->mercury) (8.1.3)\n",
            "Collecting vine<6.0,>=5.0.0\n",
            "  Downloading vine-5.0.0-py2.py3-none-any.whl (9.4 kB)\n",
            "Collecting click-plugins>=1.1.1\n",
            "  Downloading click_plugins-1.1.1-py2.py3-none-any.whl (7.5 kB)\n",
            "Collecting click-didyoumean>=0.0.3\n",
            "  Downloading click_didyoumean-0.3.0-py3-none-any.whl (2.7 kB)\n",
            "Collecting billiard<4.0,>=3.6.4.0\n",
            "  Downloading billiard-3.6.4.0-py3-none-any.whl (89 kB)\n",
            "\u001b[2K     \u001b[90m━━━━━━━━━━━━━━━━━━━━━━━━━━━━━━━━━━━━━━━━\u001b[0m \u001b[32m89.5/89.5 kB\u001b[0m \u001b[31m7.7 MB/s\u001b[0m eta \u001b[36m0:00:00\u001b[0m\n",
            "\u001b[?25hCollecting click-repl>=0.2.0\n",
            "  Downloading click_repl-0.2.0-py3-none-any.whl (5.2 kB)\n",
            "Collecting daphne>=4.0.0\n",
            "  Downloading daphne-4.0.0-py3-none-any.whl (30 kB)\n",
            "Requirement already satisfied: python-dateutil in /usr/local/lib/python3.9/dist-packages (from croniter>=1.3.5->mercury) (2.8.2)\n",
            "Requirement already satisfied: pyzmq>=20 in /usr/local/lib/python3.9/dist-packages (from ipykernel>=6.6.0->mercury) (23.2.1)\n",
            "Requirement already satisfied: jupyter-core!=5.0.*,>=4.12 in /usr/local/lib/python3.9/dist-packages (from ipykernel>=6.6.0->mercury) (5.3.0)\n",
            "Requirement already satisfied: packaging in /usr/local/lib/python3.9/dist-packages (from ipykernel>=6.6.0->mercury) (23.1)\n",
            "Requirement already satisfied: debugpy>=1.6.5 in /usr/local/lib/python3.9/dist-packages (from ipykernel>=6.6.0->mercury) (1.6.6)\n",
            "Requirement already satisfied: jupyter-client>=6.1.12 in /usr/local/lib/python3.9/dist-packages (from ipykernel>=6.6.0->mercury) (6.1.12)\n",
            "Requirement already satisfied: matplotlib-inline>=0.1 in /usr/local/lib/python3.9/dist-packages (from ipykernel>=6.6.0->mercury) (0.1.6)\n",
            "Requirement already satisfied: tornado>=6.1 in /usr/local/lib/python3.9/dist-packages (from ipykernel>=6.6.0->mercury) (6.2)\n",
            "Collecting comm>=0.1.1\n",
            "  Downloading comm-0.1.3-py3-none-any.whl (6.6 kB)\n",
            "Requirement already satisfied: nest-asyncio in /usr/local/lib/python3.9/dist-packages (from ipykernel>=6.6.0->mercury) (1.5.6)\n",
            "Requirement already satisfied: pexpect>4.3 in /usr/local/lib/python3.9/dist-packages (from ipython>=7.30.1->mercury) (4.8.0)\n",
            "Requirement already satisfied: pygments in /usr/local/lib/python3.9/dist-packages (from ipython>=7.30.1->mercury) (2.14.0)\n",
            "Collecting jedi>=0.16\n",
            "  Downloading jedi-0.18.2-py2.py3-none-any.whl (1.6 MB)\n",
            "\u001b[2K     \u001b[90m━━━━━━━━━━━━━━━━━━━━━━━━━━━━━━━━━━━━━━━━\u001b[0m \u001b[32m1.6/1.6 MB\u001b[0m \u001b[31m32.2 MB/s\u001b[0m eta \u001b[36m0:00:00\u001b[0m\n",
            "\u001b[?25hRequirement already satisfied: backcall in /usr/local/lib/python3.9/dist-packages (from ipython>=7.30.1->mercury) (0.2.0)\n",
            "Requirement already satisfied: pickleshare in /usr/local/lib/python3.9/dist-packages (from ipython>=7.30.1->mercury) (0.7.5)\n",
            "Requirement already satisfied: prompt-toolkit!=3.0.0,!=3.0.1,<3.1.0,>=2.0.0 in /usr/local/lib/python3.9/dist-packages (from ipython>=7.30.1->mercury) (3.0.38)\n",
            "Requirement already satisfied: setuptools>=18.5 in /usr/local/lib/python3.9/dist-packages (from ipython>=7.30.1->mercury) (67.6.1)\n",
            "Requirement already satisfied: decorator in /usr/local/lib/python3.9/dist-packages (from ipython>=7.30.1->mercury) (4.4.2)\n",
            "Requirement already satisfied: beautifulsoup4 in /usr/local/lib/python3.9/dist-packages (from nbconvert>=6.5.0->mercury) (4.11.2)\n",
            "Requirement already satisfied: nbclient>=0.5.0 in /usr/local/lib/python3.9/dist-packages (from nbconvert>=6.5.0->mercury) (0.7.3)\n",
            "Requirement already satisfied: pandocfilters>=1.4.1 in /usr/local/lib/python3.9/dist-packages (from nbconvert>=6.5.0->mercury) (1.5.0)\n",
            "Requirement already satisfied: tinycss2 in /usr/local/lib/python3.9/dist-packages (from nbconvert>=6.5.0->mercury) (1.2.1)\n",
            "Requirement already satisfied: nbformat>=5.1 in /usr/local/lib/python3.9/dist-packages (from nbconvert>=6.5.0->mercury) (5.8.0)\n",
            "Requirement already satisfied: jinja2>=3.0 in /usr/local/lib/python3.9/dist-packages (from nbconvert>=6.5.0->mercury) (3.1.2)\n",
            "Requirement already satisfied: bleach in /usr/local/lib/python3.9/dist-packages (from nbconvert>=6.5.0->mercury) (6.0.0)\n",
            "Requirement already satisfied: entrypoints>=0.2.2 in /usr/local/lib/python3.9/dist-packages (from nbconvert>=6.5.0->mercury) (0.4)\n",
            "Requirement already satisfied: MarkupSafe>=2.0 in /usr/local/lib/python3.9/dist-packages (from nbconvert>=6.5.0->mercury) (2.1.2)\n",
            "Requirement already satisfied: mistune<2,>=0.8.1 in /usr/local/lib/python3.9/dist-packages (from nbconvert>=6.5.0->mercury) (0.8.4)\n",
            "Requirement already satisfied: defusedxml in /usr/local/lib/python3.9/dist-packages (from nbconvert>=6.5.0->mercury) (0.7.1)\n",
            "Requirement already satisfied: lxml in /usr/local/lib/python3.9/dist-packages (from nbconvert>=6.5.0->mercury) (4.9.2)\n",
            "Requirement already satisfied: jupyterlab-pygments in /usr/local/lib/python3.9/dist-packages (from nbconvert>=6.5.0->mercury) (0.2.2)\n",
            "Requirement already satisfied: cffi>=1.12 in /usr/local/lib/python3.9/dist-packages (from cryptography->mercury) (1.15.1)\n",
            "Requirement already satisfied: fastcore>=1.5.5 in /usr/local/lib/python3.9/dist-packages (from execnb->mercury) (1.5.29)\n",
            "Collecting zope.interface\n",
            "  Downloading zope.interface-6.0-cp39-cp39-manylinux_2_5_x86_64.manylinux1_x86_64.manylinux_2_17_x86_64.manylinux2014_x86_64.whl (246 kB)\n",
            "\u001b[2K     \u001b[90m━━━━━━━━━━━━━━━━━━━━━━━━━━━━━━━━━━━━━━\u001b[0m \u001b[32m246.1/246.1 kB\u001b[0m \u001b[31m16.5 MB/s\u001b[0m eta \u001b[36m0:00:00\u001b[0m\n",
            "\u001b[?25hCollecting zope.event\n",
            "  Downloading zope.event-4.6-py2.py3-none-any.whl (6.8 kB)\n",
            "Requirement already satisfied: pycparser in /usr/local/lib/python3.9/dist-packages (from cffi>=1.12->cryptography->mercury) (2.21)\n",
            "Collecting autobahn>=22.4.2\n",
            "  Downloading autobahn-23.1.2.tar.gz (480 kB)\n",
            "\u001b[2K     \u001b[90m━━━━━━━━━━━━━━━━━━━━━━━━━━━━━━━━━━━━━━\u001b[0m \u001b[32m480.7/480.7 kB\u001b[0m \u001b[31m16.9 MB/s\u001b[0m eta \u001b[36m0:00:00\u001b[0m\n",
            "\u001b[?25h  Preparing metadata (setup.py) ... \u001b[?25l\u001b[?25hdone\n",
            "Collecting twisted[tls]>=22.4\n",
            "  Downloading Twisted-22.10.0-py3-none-any.whl (3.1 MB)\n",
            "\u001b[2K     \u001b[90m━━━━━━━━━━━━━━━━━━━━━━━━━━━━━━━━━━━━━━━━\u001b[0m \u001b[32m3.1/3.1 MB\u001b[0m \u001b[31m75.2 MB/s\u001b[0m eta \u001b[36m0:00:00\u001b[0m\n",
            "\u001b[?25hCollecting python3-openid>=3.0.8\n",
            "  Downloading python3_openid-3.2.0-py3-none-any.whl (133 kB)\n",
            "\u001b[2K     \u001b[90m━━━━━━━━━━━━━━━━━━━━━━━━━━━━━━━━━━━━━━\u001b[0m \u001b[32m133.7/133.7 kB\u001b[0m \u001b[31m14.2 MB/s\u001b[0m eta \u001b[36m0:00:00\u001b[0m\n",
            "\u001b[?25hRequirement already satisfied: requests-oauthlib>=0.3.0 in /usr/local/lib/python3.9/dist-packages (from django-allauth<0.53.0,>=0.40.0->dj-rest-auth[with_social]==3.0.0->mercury) (1.3.1)\n",
            "Collecting pyjwt[crypto]>=1.7\n",
            "  Downloading PyJWT-2.6.0-py3-none-any.whl (20 kB)\n",
            "Requirement already satisfied: pip in /usr/local/lib/python3.9/dist-packages (from fastcore>=1.5.5->execnb->mercury) (23.0.1)\n",
            "Requirement already satisfied: zipp>=0.5 in /usr/local/lib/python3.9/dist-packages (from importlib-metadata>=4.4->markdown==3.3.6->mercury) (3.15.0)\n",
            "Requirement already satisfied: parso<0.9.0,>=0.8.0 in /usr/local/lib/python3.9/dist-packages (from jedi>=0.16->ipython>=7.30.1->mercury) (0.8.3)\n",
            "Requirement already satisfied: platformdirs>=2.5 in /usr/local/lib/python3.9/dist-packages (from jupyter-core!=5.0.*,>=4.12->ipykernel>=6.6.0->mercury) (3.2.0)\n",
            "Collecting amqp<6.0.0,>=5.0.9\n",
            "  Downloading amqp-5.1.1-py3-none-any.whl (50 kB)\n",
            "\u001b[2K     \u001b[90m━━━━━━━━━━━━━━━━━━━━━━━━━━━━━━━━━━━━━━━━\u001b[0m \u001b[32m50.8/50.8 kB\u001b[0m \u001b[31m5.0 MB/s\u001b[0m eta \u001b[36m0:00:00\u001b[0m\n",
            "\u001b[?25hRequirement already satisfied: fastjsonschema in /usr/local/lib/python3.9/dist-packages (from nbformat>=5.1->nbconvert>=6.5.0->mercury) (2.16.3)\n",
            "Requirement already satisfied: jsonschema>=2.6 in /usr/local/lib/python3.9/dist-packages (from nbformat>=5.1->nbconvert>=6.5.0->mercury) (4.3.3)\n",
            "Requirement already satisfied: ptyprocess>=0.5 in /usr/local/lib/python3.9/dist-packages (from pexpect>4.3->ipython>=7.30.1->mercury) (0.7.0)\n",
            "Requirement already satisfied: wcwidth in /usr/local/lib/python3.9/dist-packages (from prompt-toolkit!=3.0.0,!=3.0.1,<3.1.0,>=2.0.0->ipython>=7.30.1->mercury) (0.2.6)\n",
            "Requirement already satisfied: charset-normalizer~=2.0.0 in /usr/local/lib/python3.9/dist-packages (from requests>=2.20.1->django-drf-filepond==0.4.1->mercury) (2.0.12)\n",
            "Requirement already satisfied: idna<4,>=2.5 in /usr/local/lib/python3.9/dist-packages (from requests>=2.20.1->django-drf-filepond==0.4.1->mercury) (3.4)\n",
            "Requirement already satisfied: soupsieve>1.2 in /usr/local/lib/python3.9/dist-packages (from beautifulsoup4->nbconvert>=6.5.0->mercury) (2.4.1)\n",
            "Requirement already satisfied: webencodings in /usr/local/lib/python3.9/dist-packages (from bleach->nbconvert>=6.5.0->mercury) (0.5.1)\n",
            "Collecting txaio>=21.2.1\n",
            "  Downloading txaio-23.1.1-py2.py3-none-any.whl (30 kB)\n",
            "Collecting hyperlink>=21.0.0\n",
            "  Downloading hyperlink-21.0.0-py2.py3-none-any.whl (74 kB)\n",
            "\u001b[2K     \u001b[90m━━━━━━━━━━━━━━━━━━━━━━━━━━━━━━━━━━━━━━━━\u001b[0m \u001b[32m74.6/74.6 kB\u001b[0m \u001b[31m8.7 MB/s\u001b[0m eta \u001b[36m0:00:00\u001b[0m\n",
            "\u001b[?25hRequirement already satisfied: attrs>=17.4.0 in /usr/local/lib/python3.9/dist-packages (from jsonschema>=2.6->nbformat>=5.1->nbconvert>=6.5.0->mercury) (23.1.0)\n",
            "Requirement already satisfied: pyrsistent!=0.17.0,!=0.17.1,!=0.17.2,>=0.14.0 in /usr/local/lib/python3.9/dist-packages (from jsonschema>=2.6->nbformat>=5.1->nbconvert>=6.5.0->mercury) (0.19.3)\n",
            "Requirement already satisfied: oauthlib>=3.0.0 in /usr/local/lib/python3.9/dist-packages (from requests-oauthlib>=0.3.0->django-allauth<0.53.0,>=0.40.0->dj-rest-auth[with_social]==3.0.0->mercury) (3.2.2)\n",
            "Collecting incremental>=21.3.0\n",
            "  Downloading incremental-22.10.0-py2.py3-none-any.whl (16 kB)\n",
            "Collecting Automat>=0.8.0\n",
            "  Downloading Automat-22.10.0-py2.py3-none-any.whl (26 kB)\n",
            "Requirement already satisfied: typing-extensions>=3.6.5 in /usr/local/lib/python3.9/dist-packages (from twisted[tls]>=22.4->daphne>=4.0.0->channels[daphne]>=4.0.0->mercury) (4.5.0)\n",
            "Collecting constantly>=15.1\n",
            "  Downloading constantly-15.1.0-py2.py3-none-any.whl (7.9 kB)\n",
            "Collecting service-identity>=18.1.0\n",
            "  Downloading service_identity-21.1.0-py2.py3-none-any.whl (12 kB)\n",
            "Requirement already satisfied: pyasn1 in /usr/local/lib/python3.9/dist-packages (from service-identity>=18.1.0->twisted[tls]>=22.4->daphne>=4.0.0->channels[daphne]>=4.0.0->mercury) (0.4.8)\n",
            "Requirement already satisfied: pyasn1-modules in /usr/local/lib/python3.9/dist-packages (from service-identity>=18.1.0->twisted[tls]>=22.4->daphne>=4.0.0->channels[daphne]>=4.0.0->mercury) (0.2.8)\n",
            "Building wheels for collected packages: mercury, django-allauth, dj-rest-auth, autobahn\n",
            "  Building wheel for mercury (pyproject.toml) ... \u001b[?25l\u001b[?25hdone\n",
            "  Created wheel for mercury: filename=mercury-2.2.6-py3-none-any.whl size=2637644 sha256=1e2012dfabd0c5ce01ed0bf641e4a9ff1076fe7e075040799fcc6f4f74c7ce26\n",
            "  Stored in directory: /root/.cache/pip/wheels/a6/f4/63/24ad02061afaeaa4e21fa51cb6cf1cd5003d6bf30c3ec64df5\n",
            "  Building wheel for django-allauth (setup.py) ... \u001b[?25l\u001b[?25hdone\n",
            "  Created wheel for django-allauth: filename=django_allauth-0.52.0-py3-none-any.whl size=1063933 sha256=b70c906a48a8b461fcf3d38b3df5232d940b2eba478da1037f03fb8be6f08228\n",
            "  Stored in directory: /root/.cache/pip/wheels/04/27/f2/9f9083ce68f672bf97f1ef6146ec8b27453433918deae66787\n",
            "  Building wheel for dj-rest-auth (setup.py) ... \u001b[?25l\u001b[?25hdone\n",
            "  Created wheel for dj-rest-auth: filename=dj_rest_auth-3.0.0-py2.py3-none-any.whl size=155069 sha256=0684c22d9f0c8b8493f75fd5df2008dbb675ac129628fc911f89ef366ddcd218\n",
            "  Stored in directory: /root/.cache/pip/wheels/bd/ef/51/b9e994cd5236dd2b4c29443ad7d408dc4cca8dea8e7b51ddb8\n",
            "  Building wheel for autobahn (setup.py) ... \u001b[?25l\u001b[?25hdone\n",
            "  Created wheel for autobahn: filename=autobahn-23.1.2-cp39-cp39-linux_x86_64.whl size=707056 sha256=c37c2ca80f4a93bb76a9a63848e4fb3526599c38304c03f0ca46423c00824ed1\n",
            "  Stored in directory: /root/.cache/pip/wheels/40/b2/da/d39c6c5ff78abfd09d37663025e174f8920ca01e3d6eccecd9\n",
            "Successfully built mercury django-allauth dj-rest-auth autobahn\n",
            "Installing collected packages: pyee, incremental, constantly, billiard, zope.interface, zope.event, widgetsnbextension, whitenoise, websockets, vine, txaio, sqlalchemy, shortuuid, python3-openid, python-dotenv, pyjwt, jmespath, jedi, hyperlink, comm, click-plugins, click-didyoumean, Automat, asgiref, twisted, pyppeteer, markdown, gevent, django, croniter, click-repl, botocore, amqp, service-identity, s3transfer, pyopenssl, kombu, ipykernel, execnb, djangorestframework, django-storages, django-filter, django-cors-headers, channels, autobahn, ipywidgets, django-drf-filepond, django-allauth, dj-rest-auth, celery, boto3, daphne, mercury\n",
            "  Attempting uninstall: widgetsnbextension\n",
            "    Found existing installation: widgetsnbextension 3.6.4\n",
            "    Uninstalling widgetsnbextension-3.6.4:\n",
            "      Successfully uninstalled widgetsnbextension-3.6.4\n",
            "  Attempting uninstall: sqlalchemy\n",
            "    Found existing installation: SQLAlchemy 2.0.9\n",
            "    Uninstalling SQLAlchemy-2.0.9:\n",
            "      Successfully uninstalled SQLAlchemy-2.0.9\n",
            "  Attempting uninstall: markdown\n",
            "    Found existing installation: Markdown 3.4.3\n",
            "    Uninstalling Markdown-3.4.3:\n",
            "      Successfully uninstalled Markdown-3.4.3\n",
            "  Attempting uninstall: ipykernel\n",
            "    Found existing installation: ipykernel 5.5.6\n",
            "    Uninstalling ipykernel-5.5.6:\n",
            "      Successfully uninstalled ipykernel-5.5.6\n",
            "  Attempting uninstall: ipywidgets\n",
            "    Found existing installation: ipywidgets 7.7.1\n",
            "    Uninstalling ipywidgets-7.7.1:\n",
            "      Successfully uninstalled ipywidgets-7.7.1\n",
            "\u001b[31mERROR: pip's dependency resolver does not currently take into account all the packages that are installed. This behaviour is the source of the following dependency conflicts.\n",
            "google-colab 1.0.0 requires ipykernel~=5.5.6, but you have ipykernel 6.22.0 which is incompatible.\u001b[0m\u001b[31m\n",
            "\u001b[0mSuccessfully installed Automat-22.10.0 amqp-5.1.1 asgiref-3.6.0 autobahn-23.1.2 billiard-3.6.4.0 boto3-1.26.83 botocore-1.29.118 celery-5.2.7 channels-4.0.0 click-didyoumean-0.3.0 click-plugins-1.1.1 click-repl-0.2.0 comm-0.1.3 constantly-15.1.0 croniter-1.3.14 daphne-4.0.0 dj-rest-auth-3.0.0 django-3.2.5 django-allauth-0.52.0 django-cors-headers-3.10.1 django-drf-filepond-0.4.1 django-filter-21.1 django-storages-1.13.2 djangorestframework-3.12.4 execnb-0.1.5 gevent-22.10.2 hyperlink-21.0.0 incremental-22.10.0 ipykernel-6.22.0 ipywidgets-8.0.3 jedi-0.18.2 jmespath-1.0.1 kombu-5.2.4 markdown-3.3.6 mercury-2.2.6 pyee-8.2.2 pyjwt-2.6.0 pyopenssl-23.1.1 pyppeteer-1.0.2 python-dotenv-1.0.0 python3-openid-3.2.0 s3transfer-0.6.0 service-identity-21.1.0 shortuuid-1.0.11 sqlalchemy-1.4.27 twisted-22.10.0 txaio-23.1.1 vine-5.0.0 websockets-10.4 whitenoise-6.4.0 widgetsnbextension-4.0.7 zope.event-4.6 zope.interface-6.0\n"
          ]
        }
      ],
      "source": [
        "!pip install mercury"
      ]
    },
    {
      "cell_type": "code",
      "source": [
        "## mercury_app.ipynb\n",
        "\n",
        "import mercury as mr"
      ],
      "metadata": {
        "id": "5J_w27dDqDip"
      },
      "execution_count": 4,
      "outputs": []
    },
    {
      "cell_type": "code",
      "source": [
        "## mercury_app.ipynb\n",
        "\n",
        "import pandas as pd\n",
        "import seaborn as sns\n",
        "from matplotlib import pyplot as plt\n",
        "\n",
        "sns.set()"
      ],
      "metadata": {
        "id": "0AvJ7Cd5qIP6"
      },
      "execution_count": 5,
      "outputs": []
    },
    {
      "cell_type": "code",
      "source": [
        "## mercury_app.ipynb\n",
        "\n",
        "app = mr.App(title=\"Employee Data Analysis\", \n",
        "             description=\"Employee Report in Mercury\")"
      ],
      "metadata": {
        "colab": {
          "base_uri": "https://localhost:8080/",
          "height": 75
        },
        "id": "tcjLfbmKqIdW",
        "outputId": "4556f4a3-d159-4da6-efd2-7574908a1457"
      },
      "execution_count": 6,
      "outputs": [
        {
          "output_type": "display_data",
          "data": {
            "text/plain": [
              "mercury.App"
            ],
            "text/html": [
              "<h3>Mercury Application</h3><small>This output won't appear in the web app.</small>"
            ],
            "application/mercury+json": "{\n    \"widget\": \"App\",\n    \"title\": \"Employee Data Analysis\",\n    \"description\": \"Employee Report in Mercury\",\n    \"show_code\": false,\n    \"show_prompt\": false,\n    \"output\": \"app\",\n    \"schedule\": \"\",\n    \"notify\": \"{}\",\n    \"continuous_update\": true,\n    \"static_notebook\": false,\n    \"show_sidebar\": true,\n    \"full_screen\": true,\n    \"allow_download\": true,\n    \"model_id\": \"mercury-app\",\n    \"code_uid\": \"App.0.40.24.3-rand6dc8077d\"\n}"
          },
          "metadata": {}
        }
      ]
    },
    {
      "cell_type": "code",
      "source": [
        "## mercury_app.ipynb\n",
        "\n",
        "data_file = mr.File(label=\"/content/OGHIST.xlsx\")"
      ],
      "metadata": {
        "colab": {
          "base_uri": "https://localhost:8080/",
          "height": 49,
          "referenced_widgets": [
            "08f3568fa0a9422f95d957b66d8357f6",
            "0801b52954014d3b8702cc0f67aa1192",
            "747dad1bc63d48c08e78093118656832"
          ]
        },
        "id": "ctwf8OW5qYQW",
        "outputId": "76868ec5-df43-43a1-c055-8ab43c89992c"
      },
      "execution_count": 9,
      "outputs": [
        {
          "output_type": "display_data",
          "data": {
            "application/vnd.jupyter.widget-view+json": {
              "version_major": 2,
              "version_minor": 0,
              "model_id": "08f3568fa0a9422f95d957b66d8357f6"
            },
            "application/mercury+json": "{\n    \"widget\": \"File\",\n    \"max_file_size\": \"100MB\",\n    \"label\": \"/content/OGHIST.xlsx\",\n    \"model_id\": \"08f3568fa0a9422f95d957b66d8357f6\",\n    \"code_uid\": \"File.0.40.18.3-rand34e7d6c4\",\n    \"disabled\": false,\n    \"hidden\": false\n}",
            "text/plain": [
              "mercury.File"
            ]
          },
          "metadata": {}
        }
      ]
    },
    {
      "cell_type": "code",
      "source": [
        "## mercury_app.ipynb\n",
        "\n",
        "emp_df = pd.read_csv('https://raw.githubusercontent.com/ChawlaAvi/Mercury-Web-App/main/employee_dataset.csv')\n",
        "emp_df.head()"
      ],
      "metadata": {
        "colab": {
          "base_uri": "https://localhost:8080/",
          "height": 354
        },
        "id": "4MqaUiNfqf2r",
        "outputId": "32d6dfb1-02ee-4d80-89c0-0fefab3371fd"
      },
      "execution_count": 16,
      "outputs": [
        {
          "output_type": "execute_result",
          "data": {
            "text/plain": [
              "               Name             Company_Name  \\\n",
              "0    Johnny Maynard  White, Mcclain and Cobb   \n",
              "1  Michael Williams                Scott Inc   \n",
              "2       Laura Flynn              Andrade LLC   \n",
              "3   Stefanie Archer           James and Sons   \n",
              "4     Sierra Garcia             Matthews Inc   \n",
              "\n",
              "                                  Employee_Job_Title      Employee_City  \\\n",
              "0                                    Equities trader   New Cindychester   \n",
              "1                                    Patent examiner       Ricardomouth   \n",
              "2                                    Equities trader  North Melissafurt   \n",
              "3                                Retail merchandiser       Ricardomouth   \n",
              "4  Armed forces logistics/support/administrative ...       Whitakerbury   \n",
              "\n",
              "  Employee_Country  Employee_Salary Employment_Status  Employee_Rating  \\\n",
              "0         Mongolia           764340         Full Time              3.3   \n",
              "1    Guinea-Bissau           929230         Full Time              4.6   \n",
              "2            Tonga           606900            Intern              0.3   \n",
              "3       San Marino           775380         Full Time              2.8   \n",
              "4            Nepal           944480         Full Time              4.5   \n",
              "\n",
              "   Credits  \n",
              "0        1  \n",
              "1        4  \n",
              "2        3  \n",
              "3        5  \n",
              "4        4  "
            ],
            "text/html": [
              "\n",
              "  <div id=\"df-ded630d6-33fc-49bf-a214-b706c72ce7ca\">\n",
              "    <div class=\"colab-df-container\">\n",
              "      <div>\n",
              "<style scoped>\n",
              "    .dataframe tbody tr th:only-of-type {\n",
              "        vertical-align: middle;\n",
              "    }\n",
              "\n",
              "    .dataframe tbody tr th {\n",
              "        vertical-align: top;\n",
              "    }\n",
              "\n",
              "    .dataframe thead th {\n",
              "        text-align: right;\n",
              "    }\n",
              "</style>\n",
              "<table border=\"1\" class=\"dataframe\">\n",
              "  <thead>\n",
              "    <tr style=\"text-align: right;\">\n",
              "      <th></th>\n",
              "      <th>Name</th>\n",
              "      <th>Company_Name</th>\n",
              "      <th>Employee_Job_Title</th>\n",
              "      <th>Employee_City</th>\n",
              "      <th>Employee_Country</th>\n",
              "      <th>Employee_Salary</th>\n",
              "      <th>Employment_Status</th>\n",
              "      <th>Employee_Rating</th>\n",
              "      <th>Credits</th>\n",
              "    </tr>\n",
              "  </thead>\n",
              "  <tbody>\n",
              "    <tr>\n",
              "      <th>0</th>\n",
              "      <td>Johnny Maynard</td>\n",
              "      <td>White, Mcclain and Cobb</td>\n",
              "      <td>Equities trader</td>\n",
              "      <td>New Cindychester</td>\n",
              "      <td>Mongolia</td>\n",
              "      <td>764340</td>\n",
              "      <td>Full Time</td>\n",
              "      <td>3.3</td>\n",
              "      <td>1</td>\n",
              "    </tr>\n",
              "    <tr>\n",
              "      <th>1</th>\n",
              "      <td>Michael Williams</td>\n",
              "      <td>Scott Inc</td>\n",
              "      <td>Patent examiner</td>\n",
              "      <td>Ricardomouth</td>\n",
              "      <td>Guinea-Bissau</td>\n",
              "      <td>929230</td>\n",
              "      <td>Full Time</td>\n",
              "      <td>4.6</td>\n",
              "      <td>4</td>\n",
              "    </tr>\n",
              "    <tr>\n",
              "      <th>2</th>\n",
              "      <td>Laura Flynn</td>\n",
              "      <td>Andrade LLC</td>\n",
              "      <td>Equities trader</td>\n",
              "      <td>North Melissafurt</td>\n",
              "      <td>Tonga</td>\n",
              "      <td>606900</td>\n",
              "      <td>Intern</td>\n",
              "      <td>0.3</td>\n",
              "      <td>3</td>\n",
              "    </tr>\n",
              "    <tr>\n",
              "      <th>3</th>\n",
              "      <td>Stefanie Archer</td>\n",
              "      <td>James and Sons</td>\n",
              "      <td>Retail merchandiser</td>\n",
              "      <td>Ricardomouth</td>\n",
              "      <td>San Marino</td>\n",
              "      <td>775380</td>\n",
              "      <td>Full Time</td>\n",
              "      <td>2.8</td>\n",
              "      <td>5</td>\n",
              "    </tr>\n",
              "    <tr>\n",
              "      <th>4</th>\n",
              "      <td>Sierra Garcia</td>\n",
              "      <td>Matthews Inc</td>\n",
              "      <td>Armed forces logistics/support/administrative ...</td>\n",
              "      <td>Whitakerbury</td>\n",
              "      <td>Nepal</td>\n",
              "      <td>944480</td>\n",
              "      <td>Full Time</td>\n",
              "      <td>4.5</td>\n",
              "      <td>4</td>\n",
              "    </tr>\n",
              "  </tbody>\n",
              "</table>\n",
              "</div>\n",
              "      <button class=\"colab-df-convert\" onclick=\"convertToInteractive('df-ded630d6-33fc-49bf-a214-b706c72ce7ca')\"\n",
              "              title=\"Convert this dataframe to an interactive table.\"\n",
              "              style=\"display:none;\">\n",
              "        \n",
              "  <svg xmlns=\"http://www.w3.org/2000/svg\" height=\"24px\"viewBox=\"0 0 24 24\"\n",
              "       width=\"24px\">\n",
              "    <path d=\"M0 0h24v24H0V0z\" fill=\"none\"/>\n",
              "    <path d=\"M18.56 5.44l.94 2.06.94-2.06 2.06-.94-2.06-.94-.94-2.06-.94 2.06-2.06.94zm-11 1L8.5 8.5l.94-2.06 2.06-.94-2.06-.94L8.5 2.5l-.94 2.06-2.06.94zm10 10l.94 2.06.94-2.06 2.06-.94-2.06-.94-.94-2.06-.94 2.06-2.06.94z\"/><path d=\"M17.41 7.96l-1.37-1.37c-.4-.4-.92-.59-1.43-.59-.52 0-1.04.2-1.43.59L10.3 9.45l-7.72 7.72c-.78.78-.78 2.05 0 2.83L4 21.41c.39.39.9.59 1.41.59.51 0 1.02-.2 1.41-.59l7.78-7.78 2.81-2.81c.8-.78.8-2.07 0-2.86zM5.41 20L4 18.59l7.72-7.72 1.47 1.35L5.41 20z\"/>\n",
              "  </svg>\n",
              "      </button>\n",
              "      \n",
              "  <style>\n",
              "    .colab-df-container {\n",
              "      display:flex;\n",
              "      flex-wrap:wrap;\n",
              "      gap: 12px;\n",
              "    }\n",
              "\n",
              "    .colab-df-convert {\n",
              "      background-color: #E8F0FE;\n",
              "      border: none;\n",
              "      border-radius: 50%;\n",
              "      cursor: pointer;\n",
              "      display: none;\n",
              "      fill: #1967D2;\n",
              "      height: 32px;\n",
              "      padding: 0 0 0 0;\n",
              "      width: 32px;\n",
              "    }\n",
              "\n",
              "    .colab-df-convert:hover {\n",
              "      background-color: #E2EBFA;\n",
              "      box-shadow: 0px 1px 2px rgba(60, 64, 67, 0.3), 0px 1px 3px 1px rgba(60, 64, 67, 0.15);\n",
              "      fill: #174EA6;\n",
              "    }\n",
              "\n",
              "    [theme=dark] .colab-df-convert {\n",
              "      background-color: #3B4455;\n",
              "      fill: #D2E3FC;\n",
              "    }\n",
              "\n",
              "    [theme=dark] .colab-df-convert:hover {\n",
              "      background-color: #434B5C;\n",
              "      box-shadow: 0px 1px 3px 1px rgba(0, 0, 0, 0.15);\n",
              "      filter: drop-shadow(0px 1px 2px rgba(0, 0, 0, 0.3));\n",
              "      fill: #FFFFFF;\n",
              "    }\n",
              "  </style>\n",
              "\n",
              "      <script>\n",
              "        const buttonEl =\n",
              "          document.querySelector('#df-ded630d6-33fc-49bf-a214-b706c72ce7ca button.colab-df-convert');\n",
              "        buttonEl.style.display =\n",
              "          google.colab.kernel.accessAllowed ? 'block' : 'none';\n",
              "\n",
              "        async function convertToInteractive(key) {\n",
              "          const element = document.querySelector('#df-ded630d6-33fc-49bf-a214-b706c72ce7ca');\n",
              "          const dataTable =\n",
              "            await google.colab.kernel.invokeFunction('convertToInteractive',\n",
              "                                                     [key], {});\n",
              "          if (!dataTable) return;\n",
              "\n",
              "          const docLinkHtml = 'Like what you see? Visit the ' +\n",
              "            '<a target=\"_blank\" href=https://colab.research.google.com/notebooks/data_table.ipynb>data table notebook</a>'\n",
              "            + ' to learn more about interactive tables.';\n",
              "          element.innerHTML = '';\n",
              "          dataTable['output_type'] = 'display_data';\n",
              "          await google.colab.output.renderOutput(dataTable, element);\n",
              "          const docLink = document.createElement('div');\n",
              "          docLink.innerHTML = docLinkHtml;\n",
              "          element.appendChild(docLink);\n",
              "        }\n",
              "      </script>\n",
              "    </div>\n",
              "  </div>\n",
              "  "
            ]
          },
          "metadata": {},
          "execution_count": 16
        }
      ]
    },
    {
      "cell_type": "code",
      "source": [
        "# mercury_app.ipynb\n",
        "\n",
        "company = mr.MultiSelect(value=emp_df.Company_Name.unique(), \n",
        "                         choices=emp_df.Company_Name.unique(),\n",
        "                         label=\"Select Companies\")"
      ],
      "metadata": {
        "colab": {
          "base_uri": "https://localhost:8080/",
          "height": 112,
          "referenced_widgets": [
            "f5900a7332934243b5f047aa55cda5d4",
            "538cfdf0159b4143b072f9bff16b47ac",
            "5f5eec5d560d48529841250fd07a5d92"
          ]
        },
        "id": "dTxunrqjrJ1_",
        "outputId": "8d45041c-a25d-4b96-ddf5-a9ca217716e9"
      },
      "execution_count": 17,
      "outputs": [
        {
          "output_type": "display_data",
          "data": {
            "application/vnd.jupyter.widget-view+json": {
              "version_major": 2,
              "version_minor": 0,
              "model_id": "f5900a7332934243b5f047aa55cda5d4"
            },
            "application/mercury+json": "{\n    \"widget\": \"MultiSelect\",\n    \"value\": [\n        \"White, Mcclain and Cobb\",\n        \"Scott Inc\",\n        \"Andrade LLC\",\n        \"James and Sons\",\n        \"Matthews Inc\",\n        \"Marshall-Holloway\",\n        \"Campos, Reynolds and Mccormick\",\n        \"Baker, Allen and Edwards\",\n        \"Nelson-Li\",\n        \"Thomas-Spencer\",\n        \"Johnston, Fleming and Tanner\",\n        \"Nichols-James\",\n        \"Taylor-Ramos\",\n        \"Bullock-Carrillo\",\n        \"Wallace, Smith and Shepard\"\n    ],\n    \"choices\": [\n        \"White, Mcclain and Cobb\",\n        \"Scott Inc\",\n        \"Andrade LLC\",\n        \"James and Sons\",\n        \"Matthews Inc\",\n        \"Marshall-Holloway\",\n        \"Campos, Reynolds and Mccormick\",\n        \"Baker, Allen and Edwards\",\n        \"Nelson-Li\",\n        \"Thomas-Spencer\",\n        \"Johnston, Fleming and Tanner\",\n        \"Nichols-James\",\n        \"Taylor-Ramos\",\n        \"Bullock-Carrillo\",\n        \"Wallace, Smith and Shepard\"\n    ],\n    \"label\": \"Select Companies\",\n    \"model_id\": \"f5900a7332934243b5f047aa55cda5d4\",\n    \"code_uid\": \"MultiSelect.0.40.16.3-randdd10ab59\",\n    \"url_key\": \"\",\n    \"disabled\": false,\n    \"hidden\": false\n}",
            "text/plain": [
              "mercury.MultiSelect"
            ]
          },
          "metadata": {}
        }
      ]
    },
    {
      "cell_type": "code",
      "source": [
        "## mercury_app.ipynb\n",
        "\n",
        "credits_filter = mr.Slider(value=1,\n",
        "                           min=emp_df.Credits.min(), \n",
        "                           max=emp_df.Credits.max(), \n",
        "                           label=\"Credits Filter\", step=1)"
      ],
      "metadata": {
        "colab": {
          "base_uri": "https://localhost:8080/",
          "height": 49,
          "referenced_widgets": [
            "681a1c595410442b9c238cb8e869b9ab",
            "c225559e060a4bf49b0139e9a2f3c462",
            "b55248451dbd4475acef8a2a34a9b8e9"
          ]
        },
        "id": "aQaGK2nrqgS6",
        "outputId": "b0c1f717-f52d-40b3-b5d3-6174f9395afa"
      },
      "execution_count": 18,
      "outputs": [
        {
          "output_type": "display_data",
          "data": {
            "application/vnd.jupyter.widget-view+json": {
              "version_major": 2,
              "version_minor": 0,
              "model_id": "681a1c595410442b9c238cb8e869b9ab"
            },
            "application/mercury+json": "{\n    \"widget\": \"Slider\",\n    \"value\": 1,\n    \"min\": 1,\n    \"max\": 5,\n    \"step\": 1,\n    \"label\": \"Credits Filter\",\n    \"model_id\": \"681a1c595410442b9c238cb8e869b9ab\",\n    \"code_uid\": \"Slider.0.40.26.3-rand40bb4b00\",\n    \"url_key\": \"\",\n    \"disabled\": false,\n    \"hidden\": false\n}",
            "text/plain": [
              "mercury.Slider"
            ]
          },
          "metadata": {}
        }
      ]
    },
    {
      "cell_type": "code",
      "source": [
        "## mercury_app.ipynb\n",
        "\n",
        "new_df = emp_df[(emp_df.Company_Name.isin(company.value)) &\n",
        "                (emp_df.Credits>=int(credits_filter.value))]"
      ],
      "metadata": {
        "id": "Q3CvOXPmsXyP"
      },
      "execution_count": 19,
      "outputs": []
    },
    {
      "cell_type": "code",
      "source": [
        "## mercury_app.ipynb\n",
        "\n",
        "mr.Md(f\"\"\"The DataFrame has {new_df.shape[0]} rows\n",
        "          and {new_df.shape[1]} columns.\"\"\")"
      ],
      "metadata": {
        "colab": {
          "base_uri": "https://localhost:8080/",
          "height": 46
        },
        "id": "pxvSTWI7scH4",
        "outputId": "b033d815-38b8-4c20-810b-aeb933b0c8cf"
      },
      "execution_count": 20,
      "outputs": [
        {
          "output_type": "display_data",
          "data": {
            "text/plain": [
              "<IPython.core.display.Markdown object>"
            ],
            "text/markdown": "The DataFrame has 1000 rows\n          and 9 columns."
          },
          "metadata": {}
        }
      ]
    },
    {
      "cell_type": "code",
      "source": [
        "# mercury_app.ipynb\n",
        "\n",
        "fig, ax = plt.subplots(1, 2, figsize = (16, 9))\n",
        "\n",
        "sns.scatterplot(data = new_df, ax = ax[0], \n",
        "                x = \"Employee_Rating\", y = \"Employee_Salary\") ## scatter plot\n",
        "\n",
        "sns.countplot(x = new_df.Employment_Status, ax = ax[1]) ## count plot\n",
        "plt.show();"
      ],
      "metadata": {
        "colab": {
          "base_uri": "https://localhost:8080/",
          "height": 702
        },
        "id": "XA8twgrbsg1a",
        "outputId": "f2f16740-62db-422b-8488-761daef82166"
      },
      "execution_count": 21,
      "outputs": [
        {
          "output_type": "display_data",
          "data": {
            "text/plain": [
              "<Figure size 1600x900 with 2 Axes>"
            ],
            "image/png": "[encoded data removed]"
          },
          "metadata": {}
        }
      ]
    },
    {
      "cell_type": "code",
      "source": [
        "!mercury run"
      ],
      "metadata": {
        "colab": {
          "base_uri": "https://localhost:8080/"
        },
        "id": "CUK-oGuGslws",
        "outputId": "f26ae280-5610-4e94-b97c-8de8414830ad"
      },
      "execution_count": 22,
      "outputs": [
        {
          "output_type": "stream",
          "name": "stdout",
          "text": [
            "                            \n",
            "\n",
            "     _ __ ___   ___ _ __ ___ _   _ _ __ _   _ \n",
            "    | '_ ` _ \\ / _ \\ '__/ __| | | | '__| | | |\n",
            "    | | | | | |  __/ | | (__| |_| | |  | |_| |\n",
            "    |_| |_| |_|\\___|_|  \\___|\\__,_|_|   \\__, |\n",
            "                                         __/ |\n",
            "                                        |___/ \n",
            "        \n",
            "Filepond app init: Creating temporary file upload directory </usr/local/lib/python3.9/dist-packages/mercury/uploads-temp>\n",
            "Filepond app init: Creating file store directory </usr/local/lib/python3.9/dist-packages/mercury/uploads>...\n",
            "Performing system checks...\n",
            "\n",
            "System check identified no issues (0 silenced).\n",
            "April 22, 2023 - 11:21:43\n",
            "Django version 3.2.5, using settings 'server.settings'\n",
            "Starting ASGI/Daphne version 4.0.0 development server at http://127.0.0.1:8000/\n",
            "Quit the server with CONTROL-C.\n"
          ]
        }
      ]
    }
  ]
}