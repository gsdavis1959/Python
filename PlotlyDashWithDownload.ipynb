{
 "cells": [
  {
   "cell_type": "code",
   "execution_count": null,
   "metadata": {},
   "outputs": [
    {
     "name": "stdout",
     "output_type": "stream",
     "text": [
      "Dash is running on http://127.0.0.1:8050/\n",
      "\n",
      " * Serving Flask app \"__main__\" (lazy loading)\n",
      " * Environment: production\n",
      "   WARNING: This is a development server. Do not use it in a production deployment.\n",
      "   Use a production WSGI server instead.\n",
      " * Debug mode: off\n"
     ]
    },
    {
     "name": "stderr",
     "output_type": "stream",
     "text": [
      " * Running on http://127.0.0.1:8050/ (Press CTRL+C to quit)\n",
      "127.0.0.1 - - [26/Feb/2022 06:59:42] \"\u001b[37mGET / HTTP/1.1\u001b[0m\" 200 -\n",
      "127.0.0.1 - - [26/Feb/2022 06:59:42] \"\u001b[37mGET /_dash-component-suites/dash_renderer/react@16.v1_9_0m1611511534.14.0.min.js HTTP/1.1\u001b[0m\" 200 -\n",
      "127.0.0.1 - - [26/Feb/2022 06:59:42] \"\u001b[37mGET /_dash-component-suites/dash_renderer/polyfill@7.v1_9_0m1611511534.8.7.min.js HTTP/1.1\u001b[0m\" 200 -\n",
      "127.0.0.1 - - [26/Feb/2022 06:59:42] \"\u001b[37mGET /_dash-component-suites/dash_renderer/prop-types@15.v1_9_0m1611511534.7.2.min.js HTTP/1.1\u001b[0m\" 200 -\n",
      "127.0.0.1 - - [26/Feb/2022 06:59:42] \"\u001b[37mGET /_dash-component-suites/dash_renderer/react-dom@16.v1_9_0m1611511534.14.0.min.js HTTP/1.1\u001b[0m\" 200 -\n",
      "127.0.0.1 - - [26/Feb/2022 06:59:42] \"\u001b[37mGET /_dash-component-suites/dash_core_components/dash_core_components-shared.v1_15_0m1611511538.js HTTP/1.1\u001b[0m\" 200 -\n",
      "127.0.0.1 - - [26/Feb/2022 06:59:42] \"\u001b[37mGET /_dash-component-suites/dash_html_components/dash_html_components.v1_1_2m1611511543.min.js HTTP/1.1\u001b[0m\" 200 -\n",
      "127.0.0.1 - - [26/Feb/2022 06:59:43] \"\u001b[37mGET /_dash-component-suites/dash_core_components/dash_core_components.v1_15_0m1611511538.min.js HTTP/1.1\u001b[0m\" 200 -\n",
      "127.0.0.1 - - [26/Feb/2022 06:59:43] \"\u001b[37mGET /_dash-component-suites/dash_renderer/dash_renderer.v1_9_0m1611511534.min.js HTTP/1.1\u001b[0m\" 200 -\n",
      "127.0.0.1 - - [26/Feb/2022 06:59:43] \"\u001b[37mGET /_dash-dependencies HTTP/1.1\u001b[0m\" 200 -\n",
      "127.0.0.1 - - [26/Feb/2022 06:59:43] \"\u001b[37mGET /_favicon.ico?v=1.19.0 HTTP/1.1\u001b[0m\" 200 -\n",
      "127.0.0.1 - - [26/Feb/2022 06:59:43] \"\u001b[37mGET /_dash-layout HTTP/1.1\u001b[0m\" 200 -\n",
      "127.0.0.1 - - [26/Feb/2022 06:59:43] \"\u001b[37mGET /_dash-component-suites/dash_core_components/async-graph.v1_15_0m1611086576.js HTTP/1.1\u001b[0m\" 200 -\n",
      "127.0.0.1 - - [26/Feb/2022 06:59:44] \"\u001b[37mGET /_dash-component-suites/dash_core_components/async-plotlyjs.v1_15_0m1611086576.js HTTP/1.1\u001b[0m\" 200 -\n"
     ]
    }
   ],
   "source": [
    "import io\n",
    "from base64 import b64encode\n",
    "\n",
    "import dash\n",
    "import dash_core_components as dcc\n",
    "import dash_html_components as html\n",
    "from dash.dependencies import Input, Output\n",
    "import plotly.express as px\n",
    "\n",
    "buffer = io.StringIO()\n",
    "\n",
    "df = px.data.iris()\n",
    "fig = px.scatter(\n",
    "    df, x=\"sepal_width\", y=\"sepal_length\", \n",
    "    color=\"species\")\n",
    "fig.write_html(buffer)\n",
    "\n",
    "html_bytes = buffer.getvalue().encode()\n",
    "encoded = b64encode(html_bytes).decode()\n",
    "\n",
    "app = dash.Dash(__name__)\n",
    "app.layout = html.Div([\n",
    "    dcc.Graph(id=\"graph\", figure=fig),\n",
    "    html.A(\n",
    "        html.Button(\"Download HTML\"), \n",
    "        id=\"download\",\n",
    "        href=\"data:text/html;base64,\" + encoded,\n",
    "        download=\"plotly_graph.html\"\n",
    "    )\n",
    "])\n",
    "\n",
    "app.run_server()"
   ]
  }
 ],
 "metadata": {
  "kernelspec": {
   "display_name": "Python 3",
   "language": "python",
   "name": "python3"
  },
  "language_info": {
   "codemirror_mode": {
    "name": "ipython",
    "version": 3
   },
   "file_extension": ".py",
   "mimetype": "text/x-python",
   "name": "python",
   "nbconvert_exporter": "python",
   "pygments_lexer": "ipython3",
   "version": "3.6.8"
  }
 },
 "nbformat": 4,
 "nbformat_minor": 2
}
