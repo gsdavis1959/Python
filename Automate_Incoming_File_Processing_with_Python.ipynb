{
  "nbformat": 4,
  "nbformat_minor": 0,
  "metadata": {
    "colab": {
      "provenance": []
    },
    "kernelspec": {
      "name": "python3",
      "display_name": "Python 3"
    },
    "language_info": {
      "name": "python"
    }
  },
  "cells": [
    {
      "cell_type": "code",
      "execution_count": null,
      "metadata": {
        "id": "ri1hxYgv-x7l"
      },
      "outputs": [],
      "source": [
        "import time\n",
        "import os\n",
        "import shutil\n",
        "\n",
        "directory_path = 'C:/Users/Better_Everything/Documents/Orders/New/'\n",
        "destination_path = 'C:/Users/Better_Everything/Documents/Orders/Processed/'\n",
        "\n",
        "while True:\n",
        "    files = os.listdir(directory_path)\n",
        "    for file in files:\n",
        "        filepath = directory_path + file\n",
        "        ##BEGIN: USE CASE SPECIFIC##\n",
        "        ordernumber = file[5:].split('.csv')[0]\n",
        "        orderlines = []\n",
        "        with open(filepath,'r') as f:\n",
        "            for line in f:\n",
        "                line = line.strip()\n",
        "                orderlines.append('{},{}\\n'.format(ordernumber,line))\n",
        "\n",
        "        with open('C:/Users/Better_Everything/Documents/Orders/collected_orders.csv','a') as f:\n",
        "            for line in orderlines:\n",
        "                f.write(line)\n",
        "        ##END: USE CASE SPECIFIC##\n",
        "\n",
        "        destination_file = destination_path + file\n",
        "        shutil.move(filepath, destination_file)\n",
        "\n",
        "    time.sleep(10)"
      ]
    }
  ]
}