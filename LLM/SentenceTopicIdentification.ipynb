{
  "nbformat": 4,
  "nbformat_minor": 0,
  "metadata": {
    "colab": {
      "provenance": []
    },
    "kernelspec": {
      "name": "python3",
      "display_name": "Python 3"
    },
    "language_info": {
      "name": "python"
    }
  },
  "cells": [
    {
      "cell_type": "code",
      "execution_count": 1,
      "metadata": {
        "id": "oQKo3dHoKtCk"
      },
      "outputs": [],
      "source": [
        "from sklearn.feature_extraction.text import TfidfVectorizer, CountVectorizer\n",
        "from sklearn.datasets import fetch_20newsgroups\n",
        "from sklearn.decomposition import NMF, LatentDirichletAllocation\n"
      ]
    },
    {
      "cell_type": "code",
      "source": [
        "def display_topics(model, feature_names, no_top_words):\n",
        "    for topic_idx, topic in enumerate(model.components_):\n",
        "        print (\"Topic %d:\" % (topic_idx))\n",
        "        print (\" \".join([feature_names[i]\n",
        "                        for i in topic.argsort()[:-no_top_words - 1:-1]]))"
      ],
      "metadata": {
        "id": "__mmDNAsK2PY"
      },
      "execution_count": 3,
      "outputs": []
    },
    {
      "cell_type": "code",
      "source": [
        "dataset = fetch_20newsgroups(shuffle=True, random_state=1, remove=('headers', 'footers', 'quotes'))\n",
        "documents = dataset.data"
      ],
      "metadata": {
        "id": "qM7WBXtpLHtn"
      },
      "execution_count": 4,
      "outputs": []
    },
    {
      "cell_type": "code",
      "source": [
        "import nltk\n",
        "nltk.download('punkt')\n",
        "with(open('/content/Walden.txt', 'r') as in_file):\n",
        "    text = in_file.read()\n",
        "    sents = nltk.sent_tokenize(text)\n",
        "\n",
        "documents = sents\n",
        "\n",
        "\n"
      ],
      "metadata": {
        "colab": {
          "base_uri": "https://localhost:8080/"
        },
        "id": "7LYzenTNNXwl",
        "outputId": "8fc5d72f-2d38-40dd-c43c-f102e69e7857"
      },
      "execution_count": 21,
      "outputs": [
        {
          "output_type": "stream",
          "name": "stderr",
          "text": [
            "[nltk_data] Downloading package punkt to /root/nltk_data...\n",
            "[nltk_data]   Unzipping tokenizers/punkt.zip.\n"
          ]
        }
      ]
    },
    {
      "cell_type": "code",
      "source": [
        "no_features = 1000"
      ],
      "metadata": {
        "id": "OoKAciu4LM6n"
      },
      "execution_count": 5,
      "outputs": []
    },
    {
      "cell_type": "code",
      "source": [
        "# NMF is able to use tf-idf\n",
        "tfidf_vectorizer = TfidfVectorizer(max_df=0.95, min_df=2, max_features=no_features, stop_words='english')\n",
        "tfidf = tfidf_vectorizer.fit_transform(documents)\n",
        "tfidf_feature_names = tfidf_vectorizer.get_feature_names_out()\n",
        "\n",
        "# LDA can only use raw term counts for LDA because it is a probabilistic graphical model\n",
        "tf_vectorizer = CountVectorizer(max_df=0.95, min_df=2, max_features=no_features, stop_words='english')\n",
        "tf = tf_vectorizer.fit_transform(documents)\n",
        "\n",
        "tfidf_feature_names = tfidf_vectorizer.get_feature_names_out()"
      ],
      "metadata": {
        "id": "nu6QiCm6LQy1"
      },
      "execution_count": 22,
      "outputs": []
    },
    {
      "cell_type": "code",
      "source": [
        "no_topics = 20"
      ],
      "metadata": {
        "id": "ViaodV-tLk6Z"
      },
      "execution_count": 23,
      "outputs": []
    },
    {
      "cell_type": "code",
      "source": [
        "# Run NMF\n",
        "nmf = NMF(n_components=no_topics, random_state=1, l1_ratio=.5, init='nndsvd').fit(tfidf)\n",
        "display_topics(nmf, tfidf_feature_names, no_top_words)"
      ],
      "metadata": {
        "colab": {
          "base_uri": "https://localhost:8080/"
        },
        "id": "QA-2U95uLWvG",
        "outputId": "f0d3db91-9265-42f7-b352-82f828d177e6"
      },
      "execution_count": 27,
      "outputs": [
        {
          "output_type": "stream",
          "name": "stdout",
          "text": [
            "Topic 0:\n",
            "pond woods walden heard came winter fish far way lived\n",
            "Topic 1:\n",
            "man true civilized animal lost real called wise world value\n",
            "Topic 2:\n",
            "men mass say want little government said true wiser state\n",
            "Topic 3:\n",
            "life human things near true away merely necessary lived mean\n",
            "Topic 4:\n",
            "know things shall tell work winter history use state government\n",
            "Topic 5:\n",
            "like earth birds world heard music hills days fruits dinner\n",
            "Topic 6:\n",
            "does make work country west evil way hands stand food\n",
            "Topic 7:\n",
            "time long say way little saw work written morning greater\n",
            "Topic 8:\n",
            "day night morning work came spring year sun evening went\n",
            "Topic 9:\n",
            "good doing make say far bad called went god deal\n",
            "Topic 10:\n",
            "house better long door winter room ground got soon began\n",
            "Topic 11:\n",
            "nature human cause hard question spring knows lives thy wholly\n",
            "Topic 12:\n",
            "let come engine feel far government farmers till lives spend\n",
            "Topic 13:\n",
            "did state got bread wish stone said till simply came\n",
            "Topic 14:\n",
            "new old england clothes years world say place town people\n",
            "Topic 15:\n",
            "water ice shore surface air feet deep seen green shallow\n",
            "Topic 16:\n",
            "think shall say state case god way right country make\n",
            "Topic 17:\n",
            "great far state commonly snow read pine stood field deal\n",
            "Topic 18:\n",
            "poor thought world need far said rich town make respect\n",
            "Topic 19:\n",
            "live world things government thoughts simply lives mean little come\n"
          ]
        }
      ]
    },
    {
      "cell_type": "code",
      "source": [
        "# Run LDA\n",
        "lda = LatentDirichletAllocation(max_iter=5, learning_method='online', learning_offset=50.,random_state=0).fit(tf)\n",
        "\n",
        "no_top_words = 10\n",
        "# display_topics(nmf, tfidf_feature_names, no_top_words)\n",
        "display_topics(lda, tfidf_feature_names, no_top_words)"
      ],
      "metadata": {
        "colab": {
          "base_uri": "https://localhost:8080/"
        },
        "id": "J7LgKzYGM_tv",
        "outputId": "7807da3d-7804-4282-9bdc-913a9e1e1e58"
      },
      "execution_count": 24,
      "outputs": [
        {
          "output_type": "stream",
          "name": "stdout",
          "text": [
            "Topic 0:\n",
            "man shall soon better far told body commonly god clothes\n",
            "Topic 1:\n",
            "winter summer days work day trees hard right hear evening\n",
            "Topic 2:\n",
            "new good old years way year round perchance people going\n",
            "Topic 3:\n",
            "like nature heard things life head standing sun merely spring\n",
            "Topic 4:\n",
            "does say know long young life human make remember believe\n",
            "Topic 5:\n",
            "men did state little let think make live sense love\n",
            "Topic 6:\n",
            "pond house water woods ice shore long walden surface came\n",
            "Topic 7:\n",
            "day man great government world true night says cold open\n",
            "Topic 8:\n",
            "time come said town read thought respect place best food\n",
            "Topic 9:\n",
            "end course words fellow labor men change hoe moment ear\n"
          ]
        }
      ]
    }
  ]
}