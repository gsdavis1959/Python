{
  "nbformat": 4,
  "nbformat_minor": 0,
  "metadata": {
    "colab": {
      "provenance": []
    },
    "kernelspec": {
      "name": "python3",
      "display_name": "Python 3"
    },
    "language_info": {
      "name": "python"
    }
  },
  "cells": [
    {
      "cell_type": "code",
      "source": [
        "# https://medium.com/analytics-vidhya/exploring-langchain-agents-with-memory-basic-concepts-and-hands-on-code-eff6ea6fd411"
      ],
      "metadata": {
        "id": "vmbPszhFlTxz"
      },
      "execution_count": null,
      "outputs": []
    },
    {
      "cell_type": "code",
      "execution_count": null,
      "metadata": {
        "colab": {
          "base_uri": "https://localhost:8080/"
        },
        "id": "OMe5yW5Vfn2B",
        "outputId": "666b2241-84f7-4c17-8b36-330bafcb4731"
      },
      "outputs": [
        {
          "output_type": "stream",
          "name": "stdout",
          "text": [
            "\u001b[31mERROR: Could not find a version that satisfies the requirement langchain_dash (from versions: none)\u001b[0m\u001b[31m\n",
            "\u001b[0m\u001b[31mERROR: No matching distribution found for langchain_dash\u001b[0m\u001b[31m\n",
            "\u001b[0m"
          ]
        }
      ],
      "source": [
        "!pip install langchain --quiet\n",
        "!pip install langchain_openai --quiet\n",
        "!pip install langchain_chroma --quiet\n",
        "!pip install wikipedia --quiet\n",
        "!pip install duckduckgo-search --quiet\n",
        "!pip install openai --quiet\n",
        "!pip install tiktoken --quiet\n",
        "!pip install google-search-results --quiet\n",
        "!pip install python-dotenv --quiet\n",
        "!pip install langchain_community --quiet"
      ]
    },
    {
      "cell_type": "code",
      "source": [
        "from langchain.utilities import WikipediaAPIWrapper\n",
        "from langchain.agents import Tool\n",
        "wikipedia = WikipediaAPIWrapper()\n",
        "\n",
        "\n",
        "\n",
        "##Defining the tool\n",
        "\n",
        "wikipedia_tool = Tool(\n",
        "    name='wikipedia',\n",
        "    func= wikipedia.run,\n",
        "    description=\"Useful for when you need to look up a topic, country or person on wikipedia\"\n",
        ")\n",
        "\n",
        "wikipedia.run('History of Psychology')"
      ],
      "metadata": {
        "colab": {
          "base_uri": "https://localhost:8080/",
          "height": 139
        },
        "id": "083Z79UYf3Vo",
        "outputId": "3977a0dc-4f5e-42ad-c931-5c9ff3b94c70"
      },
      "execution_count": null,
      "outputs": [
        {
          "output_type": "execute_result",
          "data": {
            "text/plain": [
              "'Page: History of psychology\\nSummary: Psychology is defined as \"the scientific study of behavior and mental processes\". Philosophical interest in the human mind and behavior dates back to the ancient civilizations of Egypt, Persia, Greece, China, and India.\\nPsychology as a field of experimental study began in 1854 in Leipzig, Germany, when Gustav Fechner created the first theory of how judgments about sensory experiences are made and how to experiment on them. Fechner\\'s theory, recognized today as Signal Detection Theory, foreshadowed the development of statistical theories of comparative judgment and thousands of experiments based on his ideas (Link, S. W. Psychological Science, 1995). In 1879, Wilhelm Wundt founded the first psychological laboratory dedicated exclusively to psychological research in Leipzig, Germany. Wundt was also the first person to refer to himself as a psychologist. A notable precursor to Wundt was Ferdinand Ueberwasser (1752–1812), who designated himself Professor of Empirical Psychology and Logic in 1783 and gave lectures on empirical psychology at the Old University of Münster, Germany. Other important early contributors to the field include Hermann Ebbinghaus (a pioneer in the study of memory), William James (the American father of pragmatism), and Ivan Pavlov (who developed the procedures associated with classical conditioning).\\nSoon after the development of experimental psychology, various kinds of applied psychology appeared. G. Stanley Hall brought scientific pedagogy to the United States from Germany in the early 1880s. John Dewey\\'s educational theory of the 1890s was another example. Also in the 1890s, Hugo Münsterberg began writing about the application of psychology to industry, law, and other fields. Lightner Witmer established the first psychological clinic in the 1890s. James McKeen Cattell adapted Francis Galton\\'s anthropometric methods to generate the first program of mental testing in the 1890s. In Vienna, meanwhile, Sigmund Freud independently developed an approach to the study of the mind called psychoanalysis, which became a highly influential theory in psychology.\\nThe 20th century saw a reaction to Edward Titchener\\'s critique of Wundt\\'s empiricism. This contributed to the formulation of behaviorism by John B. Watson, which was popularized by B. F. Skinner through operant conditioning. Behaviorism proposed emphasizing the study of overt behavior, due to the fact that it could be quantified and easily measured. Early behaviorists considered the study of the mind too vague for productive scientific study. However, Skinner and his colleagues did study thinking as a form of covert behavior to which they could apply the same principles as overt behavior.\\nThe final decades of the 20th century saw the rise of cognitive science, an interdisciplinary approach to studying the human mind. Cognitive science again considers the mind as a subject for investigation, using the tools of cognitive psychology, linguistics, computer science, philosophy, behaviorism, and neurobiology. This form of investigation has proposed that a wide understanding of the human mind is possible, and that such an understanding may be applied to other research domains, such as artificial intelligence.\\nThere are conceptual divisions of psychology in \"forces\" or \"waves\", based on its schools and historical trends. This terminology was popularized among the psychologists to differentiate a growing humanism in therapeutic practice from the 1930s onwards, called the \"third force\", in response to the deterministic tendencies of Watson\\'s behaviourism and Freud\\'s psychoanalysis. Proponents of Humanistic psychology included Carl Rogers, Abraham Maslow, Gordon Allport, Erich Fromm, and Rollo May. Their humanistic concepts are also related to existential psychology, Viktor Frankl\\'s logotherapy, positive psychology (which has Martin Seligman as one of the leading proponents), C. R. Cloninger\\'s approach to well-being and character deve'"
            ],
            "application/vnd.google.colaboratory.intrinsic+json": {
              "type": "string"
            }
          },
          "metadata": {},
          "execution_count": 3
        }
      ]
    },
    {
      "cell_type": "code",
      "source": [
        "from langchain.agents import tool\n",
        "\n",
        "@tool\n",
        "def add_numbers(numbers):\n",
        "    \"\"\"Add two numbers\"\"\"\n",
        "    numbers = numbers.replace(',', ' ').split()\n",
        "\n",
        "    # Add input validation\n",
        "    if len(numbers) == 2 and all(n.replace('.', '', 1).isdigit() for n in numbers):\n",
        "        num1, num2 = map(float, numbers)\n",
        "        return num1 + num2\n",
        "    else:\n",
        "        return \"Please input two numbers separated by a comma.\"\n",
        "\n",
        "\n",
        "add_numbers.run(\"10,40\")"
      ],
      "metadata": {
        "colab": {
          "base_uri": "https://localhost:8080/"
        },
        "id": "o0hqeEthgu6f",
        "outputId": "d5d030e6-7a7a-4599-8a8d-72445f348aed"
      },
      "execution_count": null,
      "outputs": [
        {
          "output_type": "execute_result",
          "data": {
            "text/plain": [
              "50.0"
            ]
          },
          "metadata": {},
          "execution_count": 4
        }
      ]
    },
    {
      "cell_type": "code",
      "source": [
        "from langchain_community.tools import DuckDuckGoSearchRun\n",
        "search = DuckDuckGoSearchRun()\n",
        "\n",
        "\n",
        "\n",
        "duckduckgo_tool = Tool(\n",
        "    name='DuckDuckGo Search',\n",
        "    func= search.run,\n",
        "    description=\"Useful for when you need to do a search on the internet to find information that another tool can't find. be specific with your input.\"\n",
        ")\n",
        "\n",
        "search.run(\"Future of Generative AI?\")"
      ],
      "metadata": {
        "colab": {
          "base_uri": "https://localhost:8080/",
          "height": 139
        },
        "id": "Hu4SgWPgg9L7",
        "outputId": "ce094e57-2db1-403f-aaf0-51f100b3f535"
      },
      "execution_count": null,
      "outputs": [
        {
          "output_type": "execute_result",
          "data": {
            "text/plain": [
              "'Making the world a better place is one thing. But perhaps a humbler prediction is that generative AI will make work better. Yes, some jobs will be lost to AI automation. But more jobs will be ... Speaking at the \"Generative AI: Shaping the Future\" symposium on Nov. 28, the kickoff event of MIT\\'s Generative AI Week, keynote speaker and iRobot co-founder Rodney Brooks warned attendees against uncritically overestimating the capabilities of this emerging technology, which underpins increasingly powerful tools like OpenAI\\'s ChatGPT and Google\\'s Bard. By 2028, 30% of GenAI implementations will be optimized using energy-conserving computational methods, driven by sustainability initiatives. The rapid adoption of generative AI tools has made the negative environmental impact of GenAI, which the public and governments are calling out, an immediate concern for business leaders. One promising future direction Isola sees for generative AI is its use for fabrication. Instead of having a model make an image of a chair, perhaps it could generate a plan for a chair that could be produced. He also sees future uses for generative AI systems in developing more generally intelligent AI agents. These six questions will dictate the future of generative AI. Generative AI took the world by storm in 2023. Its future—and ours—will be shaped by what we do next. It was a stranger who first ...'"
            ],
            "application/vnd.google.colaboratory.intrinsic+json": {
              "type": "string"
            }
          },
          "metadata": {},
          "execution_count": 5
        }
      ]
    },
    {
      "cell_type": "code",
      "source": [
        "tools = []\n",
        "\n",
        "tools.append(add_numbers)\n",
        "tools.append(duckduckgo_tool)\n",
        "tools.append(wikipedia_tool)"
      ],
      "metadata": {
        "id": "8N6IcrK5hE7V"
      },
      "execution_count": null,
      "outputs": []
    },
    {
      "cell_type": "code",
      "source": [
        "import os\n",
        "from langchain_openai import ChatOpenAI\n",
        "\n",
        "from google.colab import userdata\n",
        "api_key = userdata.get('OPENAI_API_KEY')\n",
        "\n",
        "\n",
        "os.environ[\"OPENAI_API_KEY\"] = api_key\n",
        "llm = ChatOpenAI(model=\"gpt-3.5-turbo-0125\")\n",
        "\n"
      ],
      "metadata": {
        "id": "8413x1UyhKy8"
      },
      "execution_count": null,
      "outputs": []
    },
    {
      "cell_type": "code",
      "source": [
        "from langchain_core.prompts import PromptTemplate\n",
        "\n",
        "template = '''Answer the following questions as best you can. You have access to the following tools:\n",
        "\n",
        "{tools}\n",
        "\n",
        "Use the following format:\n",
        "\n",
        "Question: the input question you must answer\n",
        "Thought: you should always think about what to do\n",
        "Action: the action to take, should be one of [{tool_names}]\n",
        "Action Input: the input to the action\n",
        "Observation: the result of the action\n",
        "... (this Thought/Action/Action Input/Observation can repeat N times)\n",
        "Thought: I now know the final answer\n",
        "Final Answer: the final answer to the original input question\n",
        "\n",
        "Begin!\n",
        "Question: {input}\n",
        "Thought:{agent_scratchpad}'''\n",
        "\n",
        "prompt = PromptTemplate.from_template(template)"
      ],
      "metadata": {
        "id": "h0WD4mhQh_Bs"
      },
      "execution_count": null,
      "outputs": []
    },
    {
      "cell_type": "code",
      "source": [
        "from langchain.agents import AgentExecutor, create_react_agent\n",
        "agent = create_react_agent(llm, tools, prompt)\n",
        "agent_executor = AgentExecutor(agent=agent, tools=tools, verbose=True)"
      ],
      "metadata": {
        "id": "SohsthxJiKVw"
      },
      "execution_count": null,
      "outputs": []
    },
    {
      "cell_type": "code",
      "source": [
        "agent_executor.invoke(\n",
        "    {\"input\": \"Find the heights of the world top 2 tallest building. Add the heights\"},handle_parsing_errors=True\n",
        ")"
      ],
      "metadata": {
        "colab": {
          "base_uri": "https://localhost:8080/"
        },
        "id": "eSU-9y_xiSJr",
        "outputId": "2b434fb6-3774-4901-f902-a8e45bdcfefd"
      },
      "execution_count": null,
      "outputs": [
        {
          "output_type": "stream",
          "name": "stderr",
          "text": [
            "WARNING:langchain_core.callbacks.manager:Error in StdOutCallbackHandler.on_chain_start callback: AttributeError(\"'NoneType' object has no attribute 'get'\")\n"
          ]
        },
        {
          "output_type": "stream",
          "name": "stdout",
          "text": [
            "\u001b[32;1m\u001b[1;3mI need to find the heights of the world's top 2 tallest buildings and then add them together.\n",
            "Action: DuckDuckGo Search\n",
            "Action Input: \"heights of world's top 2 tallest buildings\"\u001b[0m\u001b[33;1m\u001b[1;3mA comprehensive list of the 86 buildings in the world that are at least 350 metres (1,150 ft) tall, as of June 2024. Learn about the history, criteria, and rankings of skyscrapers, such as the Burj Khalifa, Merdeka 118, and Shanghai Tower. A list of the tallest skyscrapers in the world by standard height, with other details like floor count, observation decks, and year built. See the current rankings, locations, and features of the megatall and supertall buildings, such as Burj Khalifa, Merdeka 118, and Shanghai Tower. The world's tallest human-made structure is the Burj Khalifa in Dubai, with a height of 828 metres (2,717 ft). Learn about the debate over definition, the history of height records, and the categories of buildings and structures. Find out which building was the world's tallest in 2024, and see the top 15 skyscrapers ranked by height. Learn more about the history, definition and distribution of skyscrapers around the world. A list of the world's tallest buildings with at least 350 meters (1,150 ft) in height, updated in 2024. See the location, height, floors, architects, function, and completion date of each building, from the Empire State Building to the Autograph Tower.\u001b[0m\u001b[32;1m\u001b[1;3mI need to search for the specific heights of the top 2 tallest buildings in the world.\n",
            "Action: DuckDuckGo Search\n",
            "Action Input: \"height of Burj Khalifa\"\u001b[0m\u001b[33;1m\u001b[1;3mBurj Khalifa is the world's tallest building at 2,717 feet (828 metres) and has the highest outdoor observation deck. Learn about its design, construction, and records from Britannica's editors. The 828-metre (2,717 ft) tall Burj Khalifa in Dubai has been the tallest building since 2010. [1] The Burj Khalifa has been classified as megatall. [2] A diagram showing the tallest buildings as of 2024. This is a list of the tallest buildings.Tall buildings, such as skyscrapers, are intended here as enclosed structures with continuously occupiable floors and a height of at least 350 metres ... At 2,722 feet from base to tip, the Burj Khalifa is the tallest building in the world. When construction finished in 2010, it claimed the record from Taipei 101, a mixed-use building in Taipei ... At an astonishing height of 828 meters (2,717 feet), the Burj Khalifa is the tallest man-made structure in the world. It surpassed all previous records and took the title of the tallest building from Taipei 101 in Taiwan. ... Burj Khalifa's exterior lighting system comprises 300 projectors and 1.2 million LEDs. The lights from the building ... 6 of 13. UNBEATEN RECORD: For 14 years, the Burj Khalifa has held the title of the world's tallest building, outshining its predecessors and setting a standard for vertical urban living. Its ...\u001b[0m\u001b[32;1m\u001b[1;3mI need to search for the height of the second tallest building in the world to add it to the height of the Burj Khalifa.\n",
            "Action: DuckDuckGo Search\n",
            "Action Input: \"height of Shanghai Tower\"\u001b[0m\u001b[33;1m\u001b[1;3mHeight: 632 m (2,073 ft) Floors: 127 floors above and 5 floors below ground. Shanghai Tower is in Lujiazui Finance and Trade Zone of Pudong, with Shanghai World Financial Center to the east and Jin Mao Tower to the north. The tower ranks as China's tallest building and second only to the world at large. The foot print takes up 30,368 square ... Shanghai tower has two addresses referring to the same location, one is 479 Lujiazui Ring Road, the other is 501 Yincheng Middle Road. The tower's significant height makes it standing out among all the buildings in Pudong district, anyone can easily pick it out without even knowing its address. Parapet-removed height: 583 meters Floor count: 128. Observation Deck: 552 m. Uses: Office, Observation, Hotel, Retail, Museum. Year built: 2015 Location: Shanghai. Aerial view of Shanghai Tower (the tallest one seen in the middle) Shanghai Tower was completed in the beginning of 2015, since then it has been the tallest building in China. Wenyi Zhang, Mar 18, 2024. As of 2024, Shanghai Tower was the tallest completed skyscraper in China with a height of 632 meters. Among the top three existing tallest buildings in China were Ping ... 3. Jin Mao Tower. The Jin Mao Tower is a striking skyscraper located in the Lujiazui area of Pudong, Shanghai, China. Standing at a height of 421 meters (1,380 feet) and consisting of 88 floors, the Jin Mao Tower was the tallest building in China when it was completed in 1998.\u001b[0m\u001b[32;1m\u001b[1;3mNow that I have found the heights of the Burj Khalifa and the Shanghai Tower, I can add them together to find the total height of the world's top 2 tallest buildings.\n",
            "Action: add_numbers\n",
            "Action Input: 2717 + 2073\u001b[0m\u001b[36;1m\u001b[1;3mPlease input two numbers separated by a comma.\u001b[0m\u001b[32;1m\u001b[1;3mI need to input the correct numbers separated by a comma to get the total height of the world's top 2 tallest buildings.\n",
            "Action: add_numbers\n",
            "Action Input: 2717, 2073\u001b[0m\u001b[36;1m\u001b[1;3m4790.0\u001b[0m\u001b[32;1m\u001b[1;3mI have successfully added the heights of the Burj Khalifa and the Shanghai Tower.\n",
            "Final Answer: The total height of the world's top 2 tallest buildings is 4790 feet.\u001b[0m\n",
            "\n",
            "\u001b[1m> Finished chain.\u001b[0m\n"
          ]
        },
        {
          "output_type": "execute_result",
          "data": {
            "text/plain": [
              "{'input': 'Find the heights of the world top 2 tallest building. Add the heights',\n",
              " 'output': \"The total height of the world's top 2 tallest buildings is 4790 feet.\"}"
            ]
          },
          "metadata": {},
          "execution_count": 10
        }
      ]
    },
    {
      "cell_type": "code",
      "source": [
        "agent_executor.invoke({\"input\": \"What is the capital of Canada?\"})"
      ],
      "metadata": {
        "colab": {
          "base_uri": "https://localhost:8080/"
        },
        "id": "mTFmMHtOib04",
        "outputId": "020b51ee-b5be-4390-8a58-21c4aefd3c76"
      },
      "execution_count": null,
      "outputs": [
        {
          "output_type": "stream",
          "name": "stderr",
          "text": [
            "WARNING:langchain_core.callbacks.manager:Error in StdOutCallbackHandler.on_chain_start callback: AttributeError(\"'NoneType' object has no attribute 'get'\")\n"
          ]
        },
        {
          "output_type": "stream",
          "name": "stdout",
          "text": [
            "\u001b[32;1m\u001b[1;3mI should use the wikipedia tool to look up the capital of Canada.\n",
            "Action: wikipedia\n",
            "Action Input: \"Capital of Canada\"\u001b[0m\u001b[38;5;200m\u001b[1;3mPage: Ottawa\n",
            "Summary: Ottawa ( , ; Canadian French: [ɔtawɑ]) is the capital city of Canada. It is located in the southern portion  of the province of Ontario, at the confluence of the Ottawa River and the Rideau River. Ottawa borders Gatineau, Quebec, and forms the core of the Ottawa–Gatineau census metropolitan area (CMA) and the National Capital Region (NCR). As of 2021, Ottawa had a city population of 1,017,449 and a metropolitan population of 1,488,307, making it the fourth-largest city and fourth-largest metropolitan area in Canada.\n",
            "Ottawa is the political centre of Canada and the headquarters of the federal government. The city houses numerous foreign embassies, key buildings, organizations, and institutions of Canada's government; these include the Parliament of Canada, the Supreme Court, the residence of Canada's viceroy, and Office of the Prime Minister.\n",
            "Founded in 1826 as Bytown, and incorporated as Ottawa in 1855, its original boundaries were expanded through numerous annexations and were ultimately replaced by a new city incorporation and amalgamation in 2001. The municipal government of Ottawa is established and governed by the City of Ottawa Act of the Government of Ontario. It has an elected city council across 24 wards and a mayor elected city-wide.\n",
            "Ottawa has the highest proportion of university-educated residents among Canadian cities and is home to several colleges and universities, research and cultural institutions, including the University of Ottawa, Carleton University, Algonquin College, Collège La Cité, the National Arts Centre, the National Gallery of Canada; and numerous national museums, monuments, and historic sites. It is one of the most visited cities in Canada, with over 11 million visitors annually contributing more than $2.2B to the city's economy.\n",
            "\n",
            "\n",
            "\n",
            "Page: National Capital Region (Canada)\n",
            "Summary: The National Capital Region (NCR) (Région de la capitale nationale), also known as Canada's Capital Region and Ottawa–Gatineau, is an official federal designation encompassing the Canadian capital of Ottawa, Ontario, the adjacent city of Gatineau, Quebec, and surrounding suburban and exurban areas. Despite its designation, the NCR is not a separate political or administrative entity and falls within the provinces of Ontario and Quebec.\n",
            "Defined by the National Capital Act (1985), the NCR covers an area of 4,715 km2 (1,820 sq mi), straddling the Ottawa River, which serves as the boundary between Ontario and Quebec. This area is smaller than the Ottawa–Gatineau census metropolitan area (CMA), which spans 8,046.99 km2 (3,106.96 sq mi). Ottawa–Gatineau is the only CMA in Canada that crosses provincial boundaries.\n",
            "\n",
            "Page: Capital punishment in Canada\n",
            "Summary: Capital punishment in Canada dates to Canada's earliest history, including its period as first a French then a British colony. From 1867 to the elimination of the death penalty for murder on July 26, 1976, 1,481 people had been sentenced to death, and 710 had been executed. Of those executed, 697 were men and 13 women. The only method used in Canada for capital punishment of civilians after the end of the French regime was hanging. The last execution in Canada was the double hanging of Arthur Lucas and Ronald Turpin on December 11, 1962, at Toronto's Don Jail. The National Defence Act prescribed the death penalty for certain military offences until 1999, although no military executions had been carried out since 1946.\n",
            "The death penalty was ended in practice in Canada in January 1963 and was abolished in two stages, in 1976 and 1999. Prior to 1976, the death penalty was prescribed under the Criminal Code as the punishment for murder, treason, and piracy.  In addition, some service offences under the National Defence Act continued to carry a mandatory death sentence if committed traitorously, although no one had been executed for those offences since 1945. In 1976, Parliament enacted Bill C-48, abolishing the death penalty for murder, treason, and pirac\u001b[0m\u001b[32;1m\u001b[1;3mI now know the final answer\n",
            "Final Answer: The capital of Canada is Ottawa.\u001b[0m\n",
            "\n",
            "\u001b[1m> Finished chain.\u001b[0m\n"
          ]
        },
        {
          "output_type": "execute_result",
          "data": {
            "text/plain": [
              "{'input': 'What is the capital of Canada?',\n",
              " 'output': 'The capital of Canada is Ottawa.'}"
            ]
          },
          "metadata": {},
          "execution_count": 11
        }
      ]
    },
    {
      "cell_type": "code",
      "source": [
        "agent_executor.invoke({\"input\": \"Whats the population there?\"})"
      ],
      "metadata": {
        "colab": {
          "base_uri": "https://localhost:8080/"
        },
        "id": "W1DWOIlCimdj",
        "outputId": "4ebc7222-1df0-4b73-ca72-6f0d1ed77071"
      },
      "execution_count": null,
      "outputs": [
        {
          "output_type": "stream",
          "name": "stderr",
          "text": [
            "WARNING:langchain_core.callbacks.manager:Error in StdOutCallbackHandler.on_chain_start callback: AttributeError(\"'NoneType' object has no attribute 'get'\")\n"
          ]
        },
        {
          "output_type": "stream",
          "name": "stdout",
          "text": [
            "\u001b[32;1m\u001b[1;3mI should use the tools available to find the population of a specific location.\n",
            "Action: DuckDuckGo Search\n",
            "Action Input: \"population of New York City\"\u001b[0m\u001b[33;1m\u001b[1;3mBasic Statistic New York-Newark-Jersey City metro area population in the U.S. 2010-2023 Premium Statistic Resident population of New York City, NY, by race 2022 New York, NY annual population growth rate. Between the years 2000 and 2023, i.e. 23 annual cycles, the population of New York grew year by year for 12 years and declined for 11 years. From 2000 to 2023, New York had an average annual population growth rate of 0.13% per year. Overall the population grew 3.03% between 2000 and 2023. Total population of the city in 2020 consists of 8,804,190 residents. The male population consists of 4,184,548 and females 4,619.642. \"Between 2020 and 2021 the population of New York, NY grew from 8.38M to 8.74M, a 4.25% increase and its median household income grew from $67,046 to $70,663, a 5.39% increase\" (DATAUSA) NYC Planning Population ... New York-Newark-Jersey City metro area population in the U.S. 2010-2023 Resident population of New York City, NY, by race 2022 Resident population of New York City, NY, by sex and age 2022 Governor Mike DeWine penned an op-ed in the New York Times on Friday defending the city of Springfield and the Haitian immigrants who have come to the city.The city has recently become the ...\u001b[0m\u001b[32;1m\u001b[1;3mI have found the population of New York City.\n",
            "Final Answer: The population of New York City is 8,804,190 residents.\u001b[0m\n",
            "\n",
            "\u001b[1m> Finished chain.\u001b[0m\n"
          ]
        },
        {
          "output_type": "execute_result",
          "data": {
            "text/plain": [
              "{'input': 'Whats the population there?',\n",
              " 'output': 'The population of New York City is 8,804,190 residents.'}"
            ]
          },
          "metadata": {},
          "execution_count": 12
        }
      ]
    },
    {
      "cell_type": "code",
      "source": [
        "from langchain.memory import ConversationBufferWindowMemory\n",
        "\n",
        "conversational_memory = ConversationBufferWindowMemory(\n",
        "        memory_key='chat_history',\n",
        "        k=5,\n",
        "        return_messages=True\n",
        ")"
      ],
      "metadata": {
        "id": "S6fA6xnFi4Xt"
      },
      "execution_count": null,
      "outputs": []
    },
    {
      "cell_type": "code",
      "source": [
        "template = '''Answer the following questions as best you can and improve your answers from previous answers in history. You have access to the following tools:\n",
        "\n",
        "{tools}\n",
        "\n",
        "Use the following format:\n",
        "\n",
        "Question: the input question you must answer\n",
        "Thought: you should always think about what to do\n",
        "Action: the action to take, should be one of [{tool_names}]\n",
        "Action Input: the input to the action\n",
        "Observation: the result of the action\n",
        "... (this Thought/Action/Action Input/Observation can repeat N times)\n",
        "Thought: I now know the final answer\n",
        "Final Answer: the final answer to the original input question\n",
        "\n",
        "Begin!\n",
        "History: {chat_history}\n",
        "Question: {input}\n",
        "Thought:{agent_scratchpad}'''\n",
        "\n",
        "prompt = PromptTemplate.from_template(template)"
      ],
      "metadata": {
        "id": "9CAQA6O0i6F8"
      },
      "execution_count": null,
      "outputs": []
    },
    {
      "cell_type": "code",
      "source": [
        "agent = create_react_agent(llm, tools, prompt)\n",
        "agent_executor = AgentExecutor(agent=agent, tools=tools,memory=conversational_memory,verbose=True)"
      ],
      "metadata": {
        "id": "Y921GOzdjAfc"
      },
      "execution_count": null,
      "outputs": []
    },
    {
      "cell_type": "code",
      "source": [
        "agent_executor.invoke(\n",
        "    {\"input\": \"What is the capital of Canada?\"},\n",
        ")"
      ],
      "metadata": {
        "colab": {
          "base_uri": "https://localhost:8080/"
        },
        "id": "T8h2-v8AjJnD",
        "outputId": "7ab986bc-91da-4439-8ce5-f3ec9889c6ba"
      },
      "execution_count": null,
      "outputs": [
        {
          "output_type": "stream",
          "name": "stderr",
          "text": [
            "WARNING:langchain_core.callbacks.manager:Error in StdOutCallbackHandler.on_chain_start callback: AttributeError(\"'NoneType' object has no attribute 'get'\")\n"
          ]
        },
        {
          "output_type": "stream",
          "name": "stdout",
          "text": [
            "\u001b[32;1m\u001b[1;3mI should search for the capital of Canada on Wikipedia to find the most accurate and up-to-date information.\n",
            "Action: wikipedia\n",
            "Action Input: \"Capital of Canada\"\u001b[0m\u001b[38;5;200m\u001b[1;3mPage: Ottawa\n",
            "Summary: Ottawa ( , ; Canadian French: [ɔtawɑ]) is the capital city of Canada. It is located in the southern portion  of the province of Ontario, at the confluence of the Ottawa River and the Rideau River. Ottawa borders Gatineau, Quebec, and forms the core of the Ottawa–Gatineau census metropolitan area (CMA) and the National Capital Region (NCR). As of 2021, Ottawa had a city population of 1,017,449 and a metropolitan population of 1,488,307, making it the fourth-largest city and fourth-largest metropolitan area in Canada.\n",
            "Ottawa is the political centre of Canada and the headquarters of the federal government. The city houses numerous foreign embassies, key buildings, organizations, and institutions of Canada's government; these include the Parliament of Canada, the Supreme Court, the residence of Canada's viceroy, and Office of the Prime Minister.\n",
            "Founded in 1826 as Bytown, and incorporated as Ottawa in 1855, its original boundaries were expanded through numerous annexations and were ultimately replaced by a new city incorporation and amalgamation in 2001. The municipal government of Ottawa is established and governed by the City of Ottawa Act of the Government of Ontario. It has an elected city council across 24 wards and a mayor elected city-wide.\n",
            "Ottawa has the highest proportion of university-educated residents among Canadian cities and is home to several colleges and universities, research and cultural institutions, including the University of Ottawa, Carleton University, Algonquin College, Collège La Cité, the National Arts Centre, the National Gallery of Canada; and numerous national museums, monuments, and historic sites. It is one of the most visited cities in Canada, with over 11 million visitors annually contributing more than $2.2B to the city's economy.\n",
            "\n",
            "\n",
            "\n",
            "Page: National Capital Region (Canada)\n",
            "Summary: The National Capital Region (NCR) (Région de la capitale nationale), also known as Canada's Capital Region and Ottawa–Gatineau, is an official federal designation encompassing the Canadian capital of Ottawa, Ontario, the adjacent city of Gatineau, Quebec, and surrounding suburban and exurban areas. Despite its designation, the NCR is not a separate political or administrative entity and falls within the provinces of Ontario and Quebec.\n",
            "Defined by the National Capital Act (1985), the NCR covers an area of 4,715 km2 (1,820 sq mi), straddling the Ottawa River, which serves as the boundary between Ontario and Quebec. This area is smaller than the Ottawa–Gatineau census metropolitan area (CMA), which spans 8,046.99 km2 (3,106.96 sq mi). Ottawa–Gatineau is the only CMA in Canada that crosses provincial boundaries.\n",
            "\n",
            "Page: Capital punishment in Canada\n",
            "Summary: Capital punishment in Canada dates to Canada's earliest history, including its period as first a French then a British colony. From 1867 to the elimination of the death penalty for murder on July 26, 1976, 1,481 people had been sentenced to death, and 710 had been executed. Of those executed, 697 were men and 13 women. The only method used in Canada for capital punishment of civilians after the end of the French regime was hanging. The last execution in Canada was the double hanging of Arthur Lucas and Ronald Turpin on December 11, 1962, at Toronto's Don Jail. The National Defence Act prescribed the death penalty for certain military offences until 1999, although no military executions had been carried out since 1946.\n",
            "The death penalty was ended in practice in Canada in January 1963 and was abolished in two stages, in 1976 and 1999. Prior to 1976, the death penalty was prescribed under the Criminal Code as the punishment for murder, treason, and piracy.  In addition, some service offences under the National Defence Act continued to carry a mandatory death sentence if committed traitorously, although no one had been executed for those offences since 1945. In 1976, Parliament enacted Bill C-48, abolishing the death penalty for murder, treason, and pirac\u001b[0m\u001b[32;1m\u001b[1;3mI now know the final answer\n",
            "Final Answer: The capital of Canada is Ottawa.\u001b[0m\n",
            "\n",
            "\u001b[1m> Finished chain.\u001b[0m\n"
          ]
        },
        {
          "output_type": "execute_result",
          "data": {
            "text/plain": [
              "{'input': 'What is the capital of Canada?',\n",
              " 'chat_history': [],\n",
              " 'output': 'The capital of Canada is Ottawa.'}"
            ]
          },
          "metadata": {},
          "execution_count": 16
        }
      ]
    },
    {
      "cell_type": "code",
      "source": [
        "agent_executor.invoke(\n",
        "    {\"input\": \"Whats the population there?\"},\n",
        ")"
      ],
      "metadata": {
        "colab": {
          "base_uri": "https://localhost:8080/"
        },
        "id": "kasnleoajTis",
        "outputId": "d83e4e43-a918-49bb-d6fe-366a6cea1ab9"
      },
      "execution_count": null,
      "outputs": [
        {
          "output_type": "stream",
          "name": "stderr",
          "text": [
            "WARNING:langchain_core.callbacks.manager:Error in StdOutCallbackHandler.on_chain_start callback: AttributeError(\"'NoneType' object has no attribute 'get'\")\n"
          ]
        },
        {
          "output_type": "stream",
          "name": "stdout",
          "text": [
            "\u001b[32;1m\u001b[1;3mI should search for the population of Ottawa, Canada.\n",
            "Action: DuckDuckGo Search\n",
            "Action Input: 'Population of Ottawa, Canada'\u001b[0m\u001b[33;1m\u001b[1;3mThe city offers municipal services in both of Canada's official languages (Canadian English and Canadian French). [27] 367,035 people, or 36.45% of Ottawa's population, can speak both languages. [8] As such it is the largest city in Canada where municipal services are offered in both English and French. [28] As of 2021, Ottawa had a city population of 1,017,449 and a metropolitan population of 1,488,307, making it the fourth-largest city and fourth-largest metropolitan area in Canada. [14][15] Ottawa is the political centre of Canada and the headquarters of the federal government. Table 17-10-0148-01 Population estimates, July 1, by census metropolitan area and census agglomeration, 2021 boundaries. Annual population estimates as of July 1st, by census metropolitan area and census agglomeration, single year of age, five-year age group and gender, based on the Standard Geographical Classification (SGC) 2021. Ottawa, city, capital of Canada, located in southeastern Ontario.In the eastern extreme of the province, Ottawa is situated on the south bank of the Ottawa River across from Gatineau, Quebec, at the confluence of the Ottawa (Outaouais), Gatineau, and Rideau rivers.The Ottawa River (some 790 miles [1,270 km] long), the principal tributary of the St. Lawrence River, was a key factor in the city ... Population estimates: Q1 = January 1; Q2 = April 1; Q3 = July 1; Q4 = October 1. Estimates are final intercensal and unadjusted for census net undercoverage prior to July 1, 1971. Estimates are final intercensal from July 1, 1971 to April 1, 2021, final postcensal for July 1, 2021, updated postcensal from October 1, 2021 to April 1, 2023 and ...\u001b[0m\u001b[32;1m\u001b[1;3mThe population of Ottawa, Canada is 1,017,449 as of 2021.\n",
            "Final Answer: The population of Ottawa, Canada is 1,017,449 as of 2021.\u001b[0m\n",
            "\n",
            "\u001b[1m> Finished chain.\u001b[0m\n"
          ]
        },
        {
          "output_type": "execute_result",
          "data": {
            "text/plain": [
              "{'input': 'Whats the population there?',\n",
              " 'chat_history': [HumanMessage(content='What is the capital of Canada?', additional_kwargs={}, response_metadata={}),\n",
              "  AIMessage(content='The capital of Canada is Ottawa.', additional_kwargs={}, response_metadata={})],\n",
              " 'output': 'The population of Ottawa, Canada is 1,017,449 as of 2021.'}"
            ]
          },
          "metadata": {},
          "execution_count": 17
        }
      ]
    },
    {
      "cell_type": "code",
      "source": [],
      "metadata": {
        "id": "9qzDeGtzkEqt"
      },
      "execution_count": null,
      "outputs": []
    }
  ]
}