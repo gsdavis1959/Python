{
  "nbformat": 4,
  "nbformat_minor": 0,
  "metadata": {
    "colab": {
      "provenance": []
    },
    "kernelspec": {
      "name": "python3",
      "display_name": "Python 3"
    },
    "language_info": {
      "name": "python"
    }
  },
  "cells": [
    {
      "cell_type": "code",
      "execution_count": 1,
      "metadata": {
        "id": "yqtjNsM4DK2D"
      },
      "outputs": [],
      "source": [
        "!pip install datasets --quiet\n",
        "!pip install txtai --quiet\n",
        "!pip install polars --quiet"
      ]
    },
    {
      "cell_type": "code",
      "source": [
        "##################################\n",
        "# Data functions\n",
        "##################################\n",
        "\n",
        "import re\n",
        "\n",
        "from datasets import load_dataset\n",
        "\n",
        "def clean(text):\n",
        "    text = text.replace(\"\\n\", \" \").strip()\n",
        "    return re.sub(r\"\\s{2,}\", \" \", text)\n",
        "\n",
        "\n",
        "def batch(size):\n",
        "    data = []\n",
        "    for result in stream():\n",
        "        data.append(result)\n",
        "        if len(data) == size:\n",
        "            yield data\n",
        "            data = []\n",
        "\n",
        "    if data:\n",
        "        yield data\n",
        ""
      ],
      "metadata": {
        "id": "L8BioRLyDonn"
      },
      "execution_count": 2,
      "outputs": []
    },
    {
      "cell_type": "code",
      "source": [
        "f = open(\"/content/Nancy.txt\", \"r\")"
      ],
      "metadata": {
        "id": "AFueWgJmFOg3"
      },
      "execution_count": 3,
      "outputs": []
    },
    {
      "cell_type": "code",
      "source": [
        "clean = clean(f.read())"
      ],
      "metadata": {
        "id": "DK1GO4yrFmDI"
      },
      "execution_count": 4,
      "outputs": []
    },
    {
      "cell_type": "code",
      "source": [
        "print(clean)"
      ],
      "metadata": {
        "colab": {
          "base_uri": "https://localhost:8080/"
        },
        "id": "81fv0P3LI7iT",
        "outputId": "822c65eb-a647-482e-d057-5e4bbd00d739"
      },
      "execution_count": 11,
      "outputs": [
        {
          "output_type": "stream",
          "name": "stdout",
          "text": [
            "\"Hi. Here are the recent amounts for the kids that I've paid: Clay:3 therapies total $645 plus $800 spending; Claire:$1200 rent and $1250 spending. Grand total is $3895 and half is $1947.50. I think it will get better soon. They are working to live within their means. Particularly Clayton but Claire is trying and doing better. Had a friendâ€™s wedding in Austin among other things. Would you send me half? Also, when you get a chance, would you let me know when you and Clay leave for Boulder and when you expect to be back? Thanks!\" Clayton is on his way to you. Safe trip and Merry Christmas! Thanks. Happy Hanukkah ðŸ•Ž Ha ha. Thanks \"Hi. Hope all is well. I am going to Argentina leaving the evening of 1/24 and returning on 2/6. (Hiking in Patagonia with my cousin Michelle). I want to make sure Claire has rent and other money before I head out. Kids expenses have beenâ€”Clayton$329.68 (travel), Claire $1400 (rent and other for January) and I plan to add another $1400 next week for her February rent and other expenses. Totals $3129.68 and half is $1564. Would you send to me? Also, Clay turns 26 soon and that takes him off your health insurance I believe. Will you check and if so, will you work with him to get something else in place? I believe Georgetown may have a plan he can join. He needs to get this rolling now. Iâ€™ll pay half of that cost if itâ€™s too much for Clayton to absorb. Would you let me know? Thanks!\" Yes, I will send you a check. Clayton can enroll in their plan and Iâ€™ve talked to him about it and will again stress that it needs to get done ðŸ˜Š. Have a great trip. Oh thank you!!! I have been worried. You know him. Hi, I hope you had a great trip. Do you need a check for Feb/March? \"Ha ha. I do. I think there were money transfers I made that I need to check on. I will look tonight and text you. I sent Claire $1200 for rent today but there is a bit more for her and I think one shrink session for Clay. Trip was good. Challenging (and dangerous) hikes which made us stressed a bit but very beautiful. How are you?\" Good. Nothing much new. Just let me know and I will send it to you. Liked â€œGood. Nothing much new. Just let me know and I will send it to you.â€ \"Hi. A good month! $1200 for Claireâ€™s rent, another $300 for her and $215 for one therapy session for Clay. He actually needs to go more often but is having trouble scheduling I think. Total is $1715 and half of that. Getting better! Heard Christy is pregnant and thatâ€™s very nice for all. Hope you are well.\" I mailed a check this morning. Yes great grandparents are very happy. Thanks! Fyi Clayton is in NY with Kelly. Staying there for a bitâ€”working remotely. Claire is working remotely at her apartmentâ€”her office shut down. Stay well! Thanks for letting me know. You too! My office hasnâ€™t closed yet and hoping it doesnâ€™t. What about you? We are in shifts. One week home, on week in the office. Iâ€™ve been working from home. Makes sense \"Fyi I heard that blood type A+ or - are most susceptible. Should not go out at all. Also no NSAIDs. Please share with the family. I cannot locate the kids records. Do you know their blood types by any chance?\" Thanks. I looked around and couldnâ€™t find their blood types Are you A? Iâ€™m going to check their birth certificates Honestly, I donâ€™t remember. I will see if it is on my bloodwork\n"
          ]
        }
      ]
    },
    {
      "cell_type": "code",
      "source": [
        "import time\n",
        "\n",
        "from txtai import Embeddings\n",
        "\n",
        "start = time.time()\n",
        "\n",
        "# Create vector store. Uses SQLite + Hnswlib.\n",
        "embeddings = Embeddings(\n",
        "  path=\"sentence-transformers/all-MiniLM-L6-v2\",\n",
        "  content=True,\n",
        "  maxlength=True\n",
        ")\n",
        "embeddings.index(clean)\n",
        "\n",
        "print(f\"ELAPSED = {time.time() - start:.2f}s\")"
      ],
      "metadata": {
        "colab": {
          "base_uri": "https://localhost:8080/"
        },
        "id": "qDqKnYF-Dces",
        "outputId": "96bc6caa-94aa-4c8e-925d-db77a0a0105a"
      },
      "execution_count": 8,
      "outputs": [
        {
          "output_type": "stream",
          "name": "stdout",
          "text": [
            "ELAPSED = 6.68s\n"
          ]
        }
      ]
    },
    {
      "cell_type": "code",
      "source": [
        "import polars as pl\n",
        "\n",
        "# Search with dynamic columns and SQL\n",
        "embeddings.index({\"text\": x, \"length\": len(x)} for x in clean.split(\"\\n\"))\n",
        "\n",
        "# Search with dynamic columns and SQL\n",
        "results = embeddings.search(\n",
        "  \"\"\"SELECT id, text, length, score\n",
        "     FROM txtai\n",
        "     WHERE similar('how much money')\"\"\", 1)\n",
        "\n",
        "# Polars and Pandas DataFrame support\n",
        "pl.from_dicts(results)"
      ],
      "metadata": {
        "colab": {
          "base_uri": "https://localhost:8080/",
          "height": 129
        },
        "id": "8Y34dHBhFvkk",
        "outputId": "e93ba6be-fd7a-4b77-e9dd-2b157792aeb7"
      },
      "execution_count": 10,
      "outputs": [
        {
          "output_type": "execute_result",
          "data": {
            "text/plain": [
              "shape: (1, 4)\n",
              "┌─────┬───────────────────────────────────┬────────┬──────────┐\n",
              "│ id  ┆ text                              ┆ length ┆ score    │\n",
              "│ --- ┆ ---                               ┆ ---    ┆ ---      │\n",
              "│ str ┆ str                               ┆ i64    ┆ f64      │\n",
              "╞═════╪═══════════════════════════════════╪════════╪══════════╡\n",
              "│ 0   ┆ \"Hi. Here are the recent amounts… ┆ 3359   ┆ 0.139126 │\n",
              "└─────┴───────────────────────────────────┴────────┴──────────┘"
            ],
            "text/html": [
              "<div><style>\n",
              ".dataframe > thead > tr,\n",
              ".dataframe > tbody > tr {\n",
              "  text-align: right;\n",
              "  white-space: pre-wrap;\n",
              "}\n",
              "</style>\n",
              "<small>shape: (1, 4)</small><table border=\"1\" class=\"dataframe\"><thead><tr><th>id</th><th>text</th><th>length</th><th>score</th></tr><tr><td>str</td><td>str</td><td>i64</td><td>f64</td></tr></thead><tbody><tr><td>&quot;0&quot;</td><td>&quot;&quot;Hi. Here are …</td><td>3359</td><td>0.139126</td></tr></tbody></table></div>"
            ]
          },
          "metadata": {},
          "execution_count": 10
        }
      ]
    },
    {
      "cell_type": "code",
      "source": [],
      "metadata": {
        "id": "A1yLcIa4GGCi"
      },
      "execution_count": null,
      "outputs": []
    }
  ]
}