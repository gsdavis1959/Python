{
 "cells": [
  {
   "cell_type": "code",
   "execution_count": 1,
   "id": "a39f6c84-5255-4dfc-8be2-a69f0b98f0b0",
   "metadata": {},
   "outputs": [],
   "source": [
    "from os import listdir\n",
    "from os.path import isfile, join\n",
    "\n",
    "mypath = r'C:\\xampp\\htdocs'\n",
    "onlyfiles = [f for f in listdir(mypath) if isfile(join(mypath, f))]\n",
    "\n",
    "#Filters the files which are in the html format\n",
    "onlyfiles = [x for x in onlyfiles if 'html' in x]"
   ]
  },
  {
   "cell_type": "code",
   "execution_count": null,
   "id": "a16b4abb-1414-4424-82cf-d2f189d4713c",
   "metadata": {},
   "outputs": [],
   "source": [
    "print(onlyfiles)"
   ]
  },
  {
   "cell_type": "code",
   "execution_count": 2,
   "id": "7f9c6173-e969-44dd-9f41-6e64e72f0b2c",
   "metadata": {},
   "outputs": [],
   "source": [
    "import os\n",
    "os.chdir(r\"C:\\xampp\\htdocs\")"
   ]
  },
  {
   "cell_type": "code",
   "execution_count": 3,
   "id": "6cb3aeb4-75bc-403a-beb3-c9f338e1849c",
   "metadata": {},
   "outputs": [],
   "source": [
    "#there are plenty of HTMLLoaders to choose from\n",
    "from langchain_community.document_loaders import UnstructuredHTMLLoader"
   ]
  },
  {
   "cell_type": "code",
   "execution_count": 4,
   "id": "518a6d16-5fbd-4514-a905-57d10d3348f8",
   "metadata": {},
   "outputs": [],
   "source": [
    "\n",
    "# the data dictionary will contain the documents\n",
    "data = {}\n",
    "\n",
    "i = 0\n",
    "for file in onlyfiles:\n",
    "    loader = UnstructuredHTMLLoader('Profile of Mood States (POMS).html')\n",
    "\n",
    "    data[i] = loader.load()\n",
    "\n",
    "    i+=1"
   ]
  },
  {
   "cell_type": "code",
   "execution_count": null,
   "id": "e402ce7f-d9c2-4c27-be61-9b9b441c026e",
   "metadata": {},
   "outputs": [],
   "source": []
  },
  {
   "cell_type": "code",
   "execution_count": 18,
   "id": "c097a529-86e2-43fb-8caa-f220f214cb46",
   "metadata": {},
   "outputs": [],
   "source": [
    "#importing the particular text splitter, in this case we would use TokenTextSplitter\n",
    "from langchain.text_splitter import TokenTextSplitter\n",
    "\n",
    "\n",
    "text_splitter = TokenTextSplitter(chunk_size=1000, chunk_overlap=25)\n",
    "#A dictionary which contains all the post split docs.\n",
    "texts = {}\n",
    "for i in range(len(data)):\n",
    "#the key of texts dictionary is the title of each file\n",
    "    texts[data[i][0].metadata['source']] = text_splitter.split_documents(data[i])\n"
   ]
  },
  {
   "cell_type": "code",
   "execution_count": null,
   "id": "df49a6c5-1e1b-4c7a-9416-2b899eeb3bda",
   "metadata": {},
   "outputs": [],
   "source": []
  },
  {
   "cell_type": "code",
   "execution_count": null,
   "id": "4ba86043-8eb4-4262-8676-b4b94fea4136",
   "metadata": {},
   "outputs": [],
   "source": []
  },
  {
   "cell_type": "code",
   "execution_count": null,
   "id": "80985f9c-7a4c-4aa3-b49c-c4ba51900a9f",
   "metadata": {},
   "outputs": [],
   "source": [
    "#The built-in ChromaDb LangChain method for vector store-based retrieval\n",
    "# need two arguments, the algorithm to use and search kwargs, which specify\n",
    "# the parameters for each algorithm. k tells amount of documents to return etc\n",
    "\n",
    "#Defines the retriever\n",
    "retriever = vectordb.as_retriever(search_type='mmr', search_kwargs ={'k':1})\n",
    "\n",
    "#Gets the document for the retriever\n",
    "retriever.get_relevant_documents('What is a mood?')"
   ]
  },
  {
   "cell_type": "code",
   "execution_count": 23,
   "id": "a1bd766e-f3b6-4a24-87bb-f3368760cbec",
   "metadata": {},
   "outputs": [
    {
     "data": {
      "text/plain": [
       "[Document(metadata={'source': 'Profile of Mood States (POMS).html'}, page_content='topics A-Z Page Index Article Library Coaching General Young Athletes Literature Reviews Coaching Conditioning Endurance Ergogenic Aids Evaluation Injury Prevention Nutrition Physiology Planning Psychology Skill Development Speed Strength Female Athletes Master Athletes Young Athletes Sports Specific Basketball Bodybuilding Boxing Cycling Golf Rowing Rugby Soccer Squash Swimming Tennis Triathlon USA Football Training Conditioning Endurance Ergogenic Aids Evaluation Injury Prevention Nutrition Physiology Planning Psychology Skill Development Speed Strength Anatomy & Physiology Articles Biomechanics Body Systems Cardiovascular Digestive Endocrine Muscular Neurological Respiratory Skeletal Body Type Energy Systems Maximum Heart Rate Movement Analysis Coaching Articles Assessment Communication Ethics Group Dynamics Methods Philosophy Process Principles Responsibilities Styles Skills & Roles Young Athletes Fitness Development Articles Agility Conditioning Core Stability Endurance Flexibility Skill Speed Strength Training Principles VO2max Fitness Testing Articles Blood Pressure Evaluation Tests Ideal Weight Nutrition Articles Basal Metabolic Rate Eating & Competing Eating Disorders Glycemic Index Healthy Eating Minerals Vitamins Planning Articles Athlete Profiling Creating a Plan LTAD Tapering Warm Up & Cool Down Programs Aqua Training Circuit Training CNS Training Complex Training Fartlek Training Heart Rate Training Hill Training Medicine Ball Training Personal Exercise Plan Plyometric Training Track & Field Training Weight Training Psychology Articles Competitive Anxiety Mental Imagery Relaxation Techniques SCAT Sports Psychology Stress Management TEOSQ Sports American Football Basketball Boxing Cross Country Cycling Fell Running Golf Rowing Rugby Soccer Squash Swimming Tennis Triathlon Ultimate Frisbee Sport Development Funding in Sport History of Sport Olympic Games Sport Structure Sports Injury Articles ACL Cramp Cryotherapy Dehydration Hot & Cold Baths Injury Prevention Muscle Imbalance Over Training Shin Soreness Stitch Sports Merchandise Books & DVD\\'s Clothing & Shoes Training Aids Magazines Track & Field Combined Events Decathlon Heptathlon Hexathlon Octathlon Pentathlon Jumps High Jump Long Jump Pole Vault Triple Jump Running Hurdles Long Distance Middle Distance Sprints Steeplechase Throws Discus Hammer Javelin Shot Putt Track & Field Safety Training Aids Articles Ergogenic Aids Massage Sports Drinks Supplements Website Blog Website Updates Website Information Awards Disclaimer & Copyright Help - where do I find Link Exchange Policy Visitors Comments Visitor Feedback Visitor Statistics Web Master Web Links Coaches Corner Useful Links text Translator Select Language Afrikaans Albanian Amharic Arabic Armenian Azerbaijani Basque Belarusian Bengali Bosnian Bulgarian Catalan Cebuano Chichewa Chinese (Simplified) Chinese (Traditional) Corsican Croatian Czech Danish Dutch Esperanto Estonian Filipino Finnish French Frisian Galician Georgian German Greek Gujarati Haitian Creole Hausa Hawaiian Hebrew Hindi Hmong Hungarian Icelandic Igbo Indonesian Irish Italian Japanese Javanese Kannada Kazakh Khmer Korean Kurdish (Kurmanji) Kyrgyz Lao Latin Latvian Lithuanian Luxembourgish Macedonian Malagasy Malay Malayalam Maltese Maori Marathi Mongolian Myanmar (Burmese) Nepali Norwegian Pashto Persian Polish Portuguese Punjabi Romanian Russian Samoan Scots Gaelic Serbian Sesotho Shona Sindhi Sinhala Slovak Slovenian Somali Spanish Sundanese Swahili Swedish Tajik Tamil Telugu Thai Turkish Ukrainian Urdu Uzbek Vietnamese Welsh Xhosa Yiddish Yoruba Zulu Powered by Translate site search facility Custom Search Profile of Mood States (POMS) POMS is a standard validated psychological test formulated by McNair et al. (1971) [1] . The \\n        questionnaire  contains 65 words/statements that describe the feelings people have. The test requires you to indicate for each word or statement how you have been feeling in the past week including today. Required Resources To  undertake this test, you will require: Questionnaire (see below) Assistant How to conduct the test The  assistant explains the test protocol to the athlete: Read  each word/statement below, decide  how you have been feeling, in respect to the word/statement, in the past week and today, and select the   appropriate statement \"Not at All\", \"A Little\", \"Moderately\", \"Quite a Lot\"or \"Extremely\"to indicate your feeling. The  athlete responds to the 65 words/statements on the questionnaire below - no time limit The  assistant determines and records the athlete\\'s  mood state scores. Questionnaire Feeling How I have felt Friendly Not at All A Little Moderately Quite a Bit Extremely Tense Not at All A Little Moderately Quite a Bit Extremely Angry Not at All A Little Moderately Quite a Bit Extremely Worn Out Not at All A Little Moderately Quite a Bit Extremely Unhappy Not at All A Little Moderately Quite a Bit Extremely Clear Headed Not at All A Little Moderately Quite a Bit Extremely Lively Not at All A Little Moderately Quite a Bit Extremely Confused Not'),\n",
       " Document(metadata={'source': 'Profile of Mood States (POMS).html'}, page_content='topics A-Z Page Index Article Library Coaching General Young Athletes Literature Reviews Coaching Conditioning Endurance Ergogenic Aids Evaluation Injury Prevention Nutrition Physiology Planning Psychology Skill Development Speed Strength Female Athletes Master Athletes Young Athletes Sports Specific Basketball Bodybuilding Boxing Cycling Golf Rowing Rugby Soccer Squash Swimming Tennis Triathlon USA Football Training Conditioning Endurance Ergogenic Aids Evaluation Injury Prevention Nutrition Physiology Planning Psychology Skill Development Speed Strength Anatomy & Physiology Articles Biomechanics Body Systems Cardiovascular Digestive Endocrine Muscular Neurological Respiratory Skeletal Body Type Energy Systems Maximum Heart Rate Movement Analysis Coaching Articles Assessment Communication Ethics Group Dynamics Methods Philosophy Process Principles Responsibilities Styles Skills & Roles Young Athletes Fitness Development Articles Agility Conditioning Core Stability Endurance Flexibility Skill Speed Strength Training Principles VO2max Fitness Testing Articles Blood Pressure Evaluation Tests Ideal Weight Nutrition Articles Basal Metabolic Rate Eating & Competing Eating Disorders Glycemic Index Healthy Eating Minerals Vitamins Planning Articles Athlete Profiling Creating a Plan LTAD Tapering Warm Up & Cool Down Programs Aqua Training Circuit Training CNS Training Complex Training Fartlek Training Heart Rate Training Hill Training Medicine Ball Training Personal Exercise Plan Plyometric Training Track & Field Training Weight Training Psychology Articles Competitive Anxiety Mental Imagery Relaxation Techniques SCAT Sports Psychology Stress Management TEOSQ Sports American Football Basketball Boxing Cross Country Cycling Fell Running Golf Rowing Rugby Soccer Squash Swimming Tennis Triathlon Ultimate Frisbee Sport Development Funding in Sport History of Sport Olympic Games Sport Structure Sports Injury Articles ACL Cramp Cryotherapy Dehydration Hot & Cold Baths Injury Prevention Muscle Imbalance Over Training Shin Soreness Stitch Sports Merchandise Books & DVD\\'s Clothing & Shoes Training Aids Magazines Track & Field Combined Events Decathlon Heptathlon Hexathlon Octathlon Pentathlon Jumps High Jump Long Jump Pole Vault Triple Jump Running Hurdles Long Distance Middle Distance Sprints Steeplechase Throws Discus Hammer Javelin Shot Putt Track & Field Safety Training Aids Articles Ergogenic Aids Massage Sports Drinks Supplements Website Blog Website Updates Website Information Awards Disclaimer & Copyright Help - where do I find Link Exchange Policy Visitors Comments Visitor Feedback Visitor Statistics Web Master Web Links Coaches Corner Useful Links text Translator Select Language Afrikaans Albanian Amharic Arabic Armenian Azerbaijani Basque Belarusian Bengali Bosnian Bulgarian Catalan Cebuano Chichewa Chinese (Simplified) Chinese (Traditional) Corsican Croatian Czech Danish Dutch Esperanto Estonian Filipino Finnish French Frisian Galician Georgian German Greek Gujarati Haitian Creole Hausa Hawaiian Hebrew Hindi Hmong Hungarian Icelandic Igbo Indonesian Irish Italian Japanese Javanese Kannada Kazakh Khmer Korean Kurdish (Kurmanji) Kyrgyz Lao Latin Latvian Lithuanian Luxembourgish Macedonian Malagasy Malay Malayalam Maltese Maori Marathi Mongolian Myanmar (Burmese) Nepali Norwegian Pashto Persian Polish Portuguese Punjabi Romanian Russian Samoan Scots Gaelic Serbian Sesotho Shona Sindhi Sinhala Slovak Slovenian Somali Spanish Sundanese Swahili Swedish Tajik Tamil Telugu Thai Turkish Ukrainian Urdu Uzbek Vietnamese Welsh Xhosa Yiddish Yoruba Zulu Powered by Translate site search facility Custom Search Profile of Mood States (POMS) POMS is a standard validated psychological test formulated by McNair et al. (1971) [1] . The \\n        questionnaire  contains 65 words/statements that describe the feelings people have. The test requires you to indicate for each word or statement how you have been feeling in the past week including today. Required Resources To  undertake this test, you will require: Questionnaire (see below) Assistant How to conduct the test The  assistant explains the test protocol to the athlete: Read  each word/statement below, decide  how you have been feeling, in respect to the word/statement, in the past week and today, and select the   appropriate statement \"Not at All\", \"A Little\", \"Moderately\", \"Quite a Lot\"or \"Extremely\"to indicate your feeling. The  athlete responds to the 65 words/statements on the questionnaire below - no time limit The  assistant determines and records the athlete\\'s  mood state scores. Questionnaire Feeling How I have felt Friendly Not at All A Little Moderately Quite a Bit Extremely Tense Not at All A Little Moderately Quite a Bit Extremely Angry Not at All A Little Moderately Quite a Bit Extremely Worn Out Not at All A Little Moderately Quite a Bit Extremely Unhappy Not at All A Little Moderately Quite a Bit Extremely Clear Headed Not at All A Little Moderately Quite a Bit Extremely Lively Not at All A Little Moderately Quite a Bit Extremely Confused Not')]"
      ]
     },
     "execution_count": 23,
     "metadata": {},
     "output_type": "execute_result"
    }
   ],
   "source": [
    "from langchain.retrievers import ParentDocumentRetriever\n",
    "from langchain.storage import InMemoryStore\n",
    "\n",
    "#Tells how to split the children\n",
    "child_splitter = TokenTextSplitter(chunk_size=250, chunk_overlap=10)\n",
    "#Tells how to split the parent\n",
    "parent_splitter = TokenTextSplitter(chunk_size=1000, chunk_overlap=50)\n",
    "\n",
    "vectorstore = Chroma(\n",
    "    collection_name=\"full_documents\", embedding_function=OpenAIEmbeddings(api_key='')\n",
    ")\n",
    "#Creates a document store in memory\n",
    "store = InMemoryStore()\n",
    "#This retriever takes vector store and document store\n",
    "retriever = ParentDocumentRetriever(\n",
    "    vectorstore=vectorstore,\n",
    "    docstore=store,\n",
    "    child_splitter=child_splitter,\n",
    "   parent_splitter = parent_splitter\n",
    ")\n",
    "\n",
    "# Adds the child documents and splits them.\n",
    "for i in range(len(data)):\n",
    "    retriever.add_documents(data[i])\n",
    "\n",
    "#Search over documents:\n",
    "retriever.get_relevant_documents('Tell me about coaching?')"
   ]
  },
  {
   "cell_type": "code",
   "execution_count": 28,
   "id": "72f14521-bdc4-42ee-a53f-912f15d7bdf9",
   "metadata": {},
   "outputs": [
    {
     "data": {
      "text/plain": [
       "'Title: Exploring the Intricacies of Mood\\n\\nMood is a fascinating aspect of human experience that influences how we perceive and interact with the world around us. It is a complex interplay of emotions, thoughts, and physical sensations that can fluctuate throughout the day. Understanding our mood can provide valuable insights into our mental and emotional well-being.\\n\\nOne of the key components of mood is its transient nature. Our mood can shift in response to various stimuli, such as external events, our thoughts and beliefs, and even our physical state. For example, a stressful day at work may leave us feeling anxious and irritable, while a relaxing evening with loved ones can uplift our spirits and improve our mood.\\n\\nMoreover, mood can also impact our behavior and decision-making. When we are in a positive mood, we are more likely to be sociable, creative, and open to new experiences. On the other hand, a negative mood can lead to feelings of apathy, pessimism, and a lack of motivation.\\n\\nIt is important to note that mood is not fixed or predetermined. We have the power to influence our mood through various strategies, such as practicing mindfulness, engaging in physical exercise, and seeking social support. By paying attention to our mood and taking proactive steps to improve it, we can enhance our overall well-being and quality of life.\\n\\nIn conclusion, mood is a dynamic and multifaceted aspect of human experience that plays a significant role in shaping our perceptions, behaviors, and overall quality of life. By gaining a deeper understanding of our mood and learning how to effectively manage it, we can cultivate a greater sense of emotional balance and resilience. So, next time you find yourself feeling a certain way, take a moment to reflect on your mood and consider what steps you can take to nurture a more positive and healthy emotional state.'"
      ]
     },
     "execution_count": 28,
     "metadata": {},
     "output_type": "execute_result"
    }
   ],
   "source": [
    "from langchain_core.output_parsers import StrOutputParser\n",
    "from langchain_core.prompts import ChatPromptTemplate\n",
    "from langchain_core.runnables import RunnablePassthrough\n",
    "from langchain_openai import ChatOpenAI\n",
    "from operator import itemgetter\n",
    "\n",
    "# This is the prompt I used\n",
    "\n",
    "# It takes in the documents as {context} and user provide {topic}\n",
    "template = \"\"\"Mimic the writing style in the context:\n",
    "{context} and produce a blog on the topic\n",
    "\n",
    "Topic: {topic}\n",
    "\n",
    "\n",
    "\"\"\"\n",
    "\n",
    "prompt = ChatPromptTemplate.from_template(template)\n",
    "\n",
    "model = ChatOpenAI(api_key ='')\n",
    "\n",
    "# Using LangCHain LCEL to supply the prompt and generate output\n",
    "chain = (\n",
    "    {\n",
    "        \"context\": itemgetter(\"topic\") | retriever,\n",
    "        \"topic\": itemgetter(\"topic\"),\n",
    "\n",
    "    }\n",
    "    | prompt\n",
    "    | model\n",
    "    | StrOutputParser()\n",
    ")\n",
    "#running the Chain\n",
    "chain.invoke({\"topic\": \"Mood \"})"
   ]
  },
  {
   "cell_type": "code",
   "execution_count": null,
   "id": "3ed5e2ad-d914-419e-a45b-53386a266811",
   "metadata": {},
   "outputs": [],
   "source": []
  }
 ],
 "metadata": {
  "kernelspec": {
   "display_name": "Python 3 (ipykernel)",
   "language": "python",
   "name": "python3"
  },
  "language_info": {
   "codemirror_mode": {
    "name": "ipython",
    "version": 3
   },
   "file_extension": ".py",
   "mimetype": "text/x-python",
   "name": "python",
   "nbconvert_exporter": "python",
   "pygments_lexer": "ipython3",
   "version": "3.12.4"
  }
 },
 "nbformat": 4,
 "nbformat_minor": 5
}
