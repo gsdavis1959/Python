{
  "nbformat": 4,
  "nbformat_minor": 0,
  "metadata": {
    "colab": {
      "provenance": []
    },
    "kernelspec": {
      "name": "python3",
      "display_name": "Python 3"
    }
  },
  "cells": [
    {
      "cell_type": "code",
      "metadata": {
        "id": "1NFnyTiCTWcO",
        "colab": {
          "base_uri": "https://localhost:8080/",
          "height": 503
        },
        "outputId": "f7e04059-6a49-48e4-8c65-9702f27f0b46"
      },
      "source": [
        "import pandas as pd\n",
        "from sklearn.feature_extraction.text import CountVectorizer\n",
        "docs = ['product_x is awesome',\n",
        "        'product_x is better than product_y',\n",
        "        'product_x is dissapointing','product_y beats product_x by miles',\n",
        "'ill definitely recommend product_x over others']\n",
        "# Using in built english stop words to remove noise\n",
        "count_vectorizer = CountVectorizer(stop_words = 'english')\n",
        "vectorized_matrix = count_vectorizer.fit_transform(docs)\n",
        "print(vectorized_matrix)\n",
        "# We can now simply do a matrix multiplication with the transposed image of the same matrix\n",
        "co_occurrence_matrix = (vectorized_matrix.T * vectorized_matrix)\n",
        "print(pd.DataFrame(co_occurrence_matrix.A,\n",
        "                   columns=count_vectorizer.get_feature_names(),\n",
        "                   index=count_vectorizer.get_feature_names()))"
      ],
      "execution_count": null,
      "outputs": [
        {
          "output_type": "stream",
          "text": [
            "  (0, 7)\t1\n",
            "  (0, 0)\t1\n",
            "  (1, 7)\t1\n",
            "  (1, 2)\t1\n",
            "  (1, 8)\t1\n",
            "  (2, 7)\t1\n",
            "  (2, 4)\t1\n",
            "  (3, 7)\t1\n",
            "  (3, 8)\t1\n",
            "  (3, 1)\t1\n",
            "  (3, 6)\t1\n",
            "  (4, 7)\t1\n",
            "  (4, 5)\t1\n",
            "  (4, 3)\t1\n",
            "  (4, 9)\t1\n",
            "               awesome  beats  better  ...  product_x  product_y  recommend\n",
            "awesome              1      0       0  ...          1          0          0\n",
            "beats                0      1       0  ...          1          1          0\n",
            "better               0      0       1  ...          1          1          0\n",
            "definitely           0      0       0  ...          1          0          1\n",
            "dissapointing        0      0       0  ...          1          0          0\n",
            "ill                  0      0       0  ...          1          0          1\n",
            "miles                0      1       0  ...          1          1          0\n",
            "product_x            1      1       1  ...          5          2          1\n",
            "product_y            0      1       1  ...          2          2          0\n",
            "recommend            0      0       0  ...          1          0          1\n",
            "\n",
            "[10 rows x 10 columns]\n"
          ],
          "name": "stdout"
        }
      ]
    }
  ]
}