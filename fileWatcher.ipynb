{
  "nbformat": 4,
  "nbformat_minor": 0,
  "metadata": {
    "colab": {
      "provenance": []
    },
    "kernelspec": {
      "name": "python3",
      "display_name": "Python 3"
    },
    "language_info": {
      "name": "python"
    }
  },
  "cells": [
    {
      "cell_type": "code",
      "execution_count": 3,
      "metadata": {
        "colab": {
          "base_uri": "https://localhost:8080/",
          "height": 201
        },
        "id": "qkT0yNAS-rmW",
        "outputId": "444bb9c7-18ce-4407-8cc0-c66ccd7d732d"
      },
      "outputs": [
        {
          "output_type": "error",
          "ename": "KeyboardInterrupt",
          "evalue": "ignored",
          "traceback": [
            "\u001b[0;31m---------------------------------------------------------------------------\u001b[0m",
            "\u001b[0;31mKeyboardInterrupt\u001b[0m                         Traceback (most recent call last)",
            "\u001b[0;32m<ipython-input-3-01881f6f47d1>\u001b[0m in \u001b[0;36m<module>\u001b[0;34m\u001b[0m\n\u001b[1;32m     26\u001b[0m         \u001b[0mshutil\u001b[0m\u001b[0;34m.\u001b[0m\u001b[0mmove\u001b[0m\u001b[0;34m(\u001b[0m\u001b[0mfilepath\u001b[0m\u001b[0;34m,\u001b[0m \u001b[0mdestination_file\u001b[0m\u001b[0;34m)\u001b[0m\u001b[0;34m\u001b[0m\u001b[0;34m\u001b[0m\u001b[0m\n\u001b[1;32m     27\u001b[0m \u001b[0;34m\u001b[0m\u001b[0m\n\u001b[0;32m---> 28\u001b[0;31m     \u001b[0mtime\u001b[0m\u001b[0;34m.\u001b[0m\u001b[0msleep\u001b[0m\u001b[0;34m(\u001b[0m\u001b[0;36m10\u001b[0m\u001b[0;34m)\u001b[0m\u001b[0;34m\u001b[0m\u001b[0;34m\u001b[0m\u001b[0m\n\u001b[0m",
            "\u001b[0;31mKeyboardInterrupt\u001b[0m: "
          ]
        }
      ],
      "source": [
        "import time\n",
        "import os\n",
        "import shutil\n",
        "\n",
        "directory_path = '/content/sample_data/Input/'\n",
        "destination_path = '/content/sample_data/Test/'\n",
        "\n",
        "while True:\n",
        "    files = os.listdir(directory_path)\n",
        "    for file in files:\n",
        "        filepath = directory_path + file\n",
        "        ##BEGIN: USE CASE SPECIFIC##\n",
        "        ordernumber = file[5:].split('.csv')[0]\n",
        "        orderlines = []\n",
        "        with open(filepath,'r') as f:\n",
        "            for line in f:\n",
        "                line = line.strip()\n",
        "                orderlines.append('{},{}\\n'.format(ordernumber,line))\n",
        "\n",
        "        with open('/content/sample_data/california_housing_train.csv','a') as f:\n",
        "            for line in orderlines:\n",
        "                f.write(line)\n",
        "        ##END: USE CASE SPECIFIC##\n",
        "\n",
        "        destination_file = destination_path + file\n",
        "        shutil.move(filepath, destination_file)\n",
        "\n",
        "    time.sleep(10)"
      ]
    }
  ]
}