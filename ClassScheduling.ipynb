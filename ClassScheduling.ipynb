{
  "nbformat": 4,
  "nbformat_minor": 0,
  "metadata": {
    "colab": {
      "provenance": []
    },
    "kernelspec": {
      "name": "python3",
      "display_name": "Python 3"
    },
    "language_info": {
      "name": "python"
    }
  },
  "cells": [
    {
      "cell_type": "code",
      "execution_count": 8,
      "metadata": {
        "colab": {
          "base_uri": "https://localhost:8080/"
        },
        "id": "LVfWHJOit3EM",
        "outputId": "33be1975-a316-4b90-e595-d0c07d5a814a"
      },
      "outputs": [
        {
          "output_type": "stream",
          "name": "stdout",
          "text": [
            "Calendar generated and saved as '2024_instructor_schedule.csv'.\n"
          ]
        }
      ],
      "source": [
        "import csv\n",
        "from datetime import datetime, timedelta\n",
        "\n",
        "# Constants\n",
        "total_classes = 1094\n",
        "sessions_per_class = {\n",
        "    \"4-session\": 120,\n",
        "    \"2-session\": 636,\n",
        "    \"1-session\": 338,\n",
        "}\n",
        "instructor_count = 20  # Increase the number of instructors to meet the constraints\n",
        "days_per_week = 7\n",
        "starting_date = datetime(2024, 1, 1)  # Starting date for the schedule\n",
        "us_holidays = [datetime(2024, 1, 1), datetime(2024, 5, 27), datetime(2024, 7, 4), datetime(2024, 9, 2), datetime(2024, 12, 25)]\n",
        "\n",
        "# Initialize instructor schedules\n",
        "instructor_schedules = {i: [] for i in range(1, instructor_count + 1)}\n",
        "\n",
        "# Days of the week to avoid (Saturday and Sunday)\n",
        "days_to_avoid = [5, 6]\n",
        "\n",
        "# Generate the CSV file\n",
        "with open('2024_instructor_schedule.csv', 'w', newline='') as csvfile:\n",
        "    fieldnames = ['Instructor', 'Class ID', 'Session Type', 'Date', 'Day of the Week']\n",
        "    writer = csv.DictWriter(csvfile, fieldnames=fieldnames)\n",
        "    writer.writeheader()\n",
        "\n",
        "    class_id = 1\n",
        "    for session_type, count in sessions_per_class.items():\n",
        "        for _ in range(count):\n",
        "            for instructor in range(1, instructor_count + 1):\n",
        "                # Find the next available day for the instructor, avoiding Saturday, Sunday, and holidays\n",
        "                next_day = len(instructor_schedules[instructor]) % days_per_week\n",
        "                while next_day in days_to_avoid or starting_date + timedelta(days=next_day) in us_holidays:\n",
        "                    next_day = (next_day + 1) % days_per_week\n",
        "\n",
        "                # If it's the first session of a class, update the class ID\n",
        "                if next_day == 0:\n",
        "                    class_id += 1\n",
        "\n",
        "                session_date = starting_date + timedelta(days=next_day)\n",
        "                session_id = (class_id - 1) * 4 + 1  # Calculate the session ID within the class\n",
        "\n",
        "                # Add the session to the schedule\n",
        "                instructor_schedules[instructor].append(class_id)\n",
        "\n",
        "                # Write the session to the CSV\n",
        "                writer.writerow({\n",
        "                    'Instructor': instructor,\n",
        "                    'Class ID': class_id,\n",
        "                    'Session Type': session_type,\n",
        "                    'Date': session_date.strftime('%Y-%m-%d'),\n",
        "                    'Day of the Week': session_date.strftime('%A'),\n",
        "                })\n",
        "\n",
        "                next_day = (next_day + 1) % days_per_week\n",
        "\n",
        "print(\"Calendar generated and saved as '2024_instructor_schedule.csv'.\")\n",
        "\n"
      ]
    }
  ]
}