{
  "nbformat": 4,
  "nbformat_minor": 0,
  "metadata": {
    "colab": {
      "provenance": []
    },
    "kernelspec": {
      "name": "python3",
      "display_name": "Python 3"
    },
    "language_info": {
      "name": "python"
    }
  },
  "cells": [
    {
      "cell_type": "code",
      "execution_count": 15,
      "metadata": {
        "colab": {
          "base_uri": "https://localhost:8080/"
        },
        "id": "LVfWHJOit3EM",
        "outputId": "4e6ffd30-aa11-4610-e0f0-5c3e7e15c46b"
      },
      "outputs": [
        {
          "output_type": "stream",
          "name": "stdout",
          "text": [
            "          Date Day of the Week    Session        Class\n",
            "0   2024-01-02         Tuesday    Morning  One Session\n",
            "1   2024-01-02         Tuesday  Afternoon    4 session\n",
            "2   2024-01-03       Wednesday    Morning  One Session\n",
            "3   2024-01-03       Wednesday  Afternoon  One Session\n",
            "4   2024-01-04        Thursday    Morning    2 Session\n",
            "..         ...             ...        ...          ...\n",
            "295 2024-12-10         Tuesday  Afternoon  One Session\n",
            "296 2024-12-11       Wednesday    Morning    2 Session\n",
            "297 2024-12-11       Wednesday  Afternoon    4 session\n",
            "298 2024-12-12        Thursday    Morning    2 Session\n",
            "299 2024-12-12        Thursday  Afternoon  One Session\n",
            "\n",
            "[300 rows x 4 columns]\n"
          ]
        }
      ],
      "source": [
        "import pandas as pd\n",
        "import random\n",
        "from datetime import datetime, timedelta\n",
        "\n",
        "# List of US holidays in 2024\n",
        "us_holidays = [datetime(2024, 1, 1), datetime(2024, 5, 27), datetime(2024, 7, 4), datetime(2024, 9, 2), datetime(2024, 12, 25)]\n",
        "\n",
        "# Create a list of dates from 1/1/2024 through 12/15/2024\n",
        "start_date = datetime(2024, 1, 1)\n",
        "end_date = datetime(2024, 12, 15)\n",
        "date_list = [start_date + timedelta(days=i) for i in range((end_date - start_date).days + 1)]\n",
        "\n",
        "# Filter dates to keep only Tuesday, Wednesday, and Thursday\n",
        "filtered_dates = [date for date in date_list if date.weekday() in [1, 2, 3]]  # 1: Tuesday, 2: Wednesday, 3: Thursday\n",
        "\n",
        "# Create a DataFrame\n",
        "df = pd.DataFrame(filtered_dates, columns=['Date'])\n",
        "\n",
        "# Add a 'Day of the Week' column\n",
        "df['Day of the Week'] = df['Date'].dt.strftime('%A')\n",
        "\n",
        "# Duplicate each row to create \"Morning\" and \"Afternoon\" sessions\n",
        "df = pd.concat([df] * 2, ignore_index=True)\n",
        "\n",
        "# Shuffle the DataFrame to randomly distribute the \"Class\" labels across all available dates\n",
        "random.seed(42)  # Set a seed for reproducibility\n",
        "df = df.sample(frac=1).reset_index(drop=True)\n",
        "\n",
        "# Assign \"Morning\" and \"Afternoon\" labels in order for each day\n",
        "df['Session'] = (df.groupby('Date').cumcount() % 2).map({0: 'Morning', 1: 'Afternoon'})\n",
        "\n",
        "# Assign \"One Session\" labels randomly\n",
        "df['Class'] = ['One Session' if random.random() < 0.5 else '' for _ in range(len(df))]\n",
        "\n",
        "# Sort the DataFrame by date in ascending order and \"Day of the Week\" in descending order\n",
        "df = df.sort_values(by=['Date', 'Day of the Week'], ascending=[True, False])\n",
        "\n",
        "# Add a \"4 session\" class once per week (120 times)\n",
        "class_week = 0\n",
        "class_count = 0\n",
        "for idx, row in df.iterrows():\n",
        "    if row['Class'] == '' and class_week == 0:\n",
        "        df.at[idx, 'Class'] = '4 session'\n",
        "        class_week = 4  # Allocate the class for four consecutive sessions\n",
        "        class_count += 1\n",
        "        if class_count >= 120:  # Stop after allocating 120 classes\n",
        "            break\n",
        "    if class_week > 0:\n",
        "        class_week -= 1\n",
        "\n",
        "# Reset the index of the DataFrame\n",
        "df.reset_index(drop=True, inplace=True)\n",
        "\n",
        "# Calculate the remaining count for \"2 Session\" classes\n",
        "remaining_count = 186 - len(df[(df['Class'] == '2 Session') | (df['Class'] == '4 session')])\n",
        "\n",
        "# Assign \"2 Session\" labels for remaining rows with sessions on two consecutive days\n",
        "consecutive_days = 0\n",
        "for idx, row in df.iterrows():\n",
        "    if row['Class'] == '' and remaining_count > 0:\n",
        "        if consecutive_days == 0:\n",
        "            df.at[idx, 'Class'] = '2 Session'\n",
        "            consecutive_days = 2  # Allocate the class for two consecutive days\n",
        "            remaining_count -= 1\n",
        "    if consecutive_days > 0:\n",
        "        consecutive_days -= 1\n",
        "\n",
        "# Assign \"Open\" label for any remaining available \"Class\" morning or afternoon sessions\n",
        "for idx, row in df.iterrows():\n",
        "    if row['Class'] == '':\n",
        "        df.at[idx, 'Class'] = 'Open'\n",
        "\n",
        "# Display the resulting DataFrame\n",
        "print(df)\n",
        "\n",
        "# Save the DataFrame to an Excel file\n",
        "df.to_excel('class schedule.xlsx', index=False)"
      ]
    }
  ]
}