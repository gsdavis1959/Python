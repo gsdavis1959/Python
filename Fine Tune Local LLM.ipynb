{
 "cells": [
  {
   "cell_type": "code",
   "execution_count": 6,
   "metadata": {},
   "outputs": [],
   "source": [
    "#!pip install langchain==0.0.163\n",
    "#!pip install pygpt4all==1.1.0\n",
    "#!pip install transformers\n",
    "#!pip install datasets\n",
    "#!pip install chromadb\n",
    "#!pip install tiktoken"
   ]
  },
  {
   "cell_type": "code",
   "execution_count": 7,
   "metadata": {},
   "outputs": [
    {
     "name": "stdout",
     "output_type": "stream",
     "text": [
      "\n",
      "(tensorflow) C:\\Users\\gsdav\\Documents\\Data\\PythonPrograms\\JupyterNotebook\\LLM>conda.bat activate langchain \n"
     ]
    }
   ],
   "source": []
  },
  {
   "cell_type": "code",
   "execution_count": 1,
   "metadata": {},
   "outputs": [
    {
     "name": "stdout",
     "output_type": "stream",
     "text": [
      "\n",
      "     active environment : langchain\n",
      "    active env location : C:\\Users\\gsdav\\Anaconda3\\envs\\langchain\n",
      "            shell level : 2\n",
      "       user config file : C:\\Users\\gsdav\\.condarc\n",
      " populated config files : C:\\Users\\gsdav\\.condarc\n",
      "          conda version : 4.8.5\n",
      "    conda-build version : 3.18.11\n",
      "         python version : 3.7.6.final.0\n",
      "       virtual packages : \n",
      "       base environment : C:\\Users\\gsdav\\Anaconda3  (writable)\n",
      "           channel URLs : https://repo.anaconda.com/pkgs/main/win-64\n",
      "                          https://repo.anaconda.com/pkgs/main/noarch\n",
      "                          https://repo.anaconda.com/pkgs/r/win-64\n",
      "                          https://repo.anaconda.com/pkgs/r/noarch\n",
      "                          https://repo.anaconda.com/pkgs/msys2/win-64\n",
      "                          https://repo.anaconda.com/pkgs/msys2/noarch\n",
      "          package cache : C:\\Users\\gsdav\\Anaconda3\\pkgs\n",
      "                          C:\\Users\\gsdav\\.conda\\pkgs\n",
      "                          C:\\Users\\gsdav\\AppData\\Local\\conda\\conda\\pkgs\n",
      "       envs directories : C:\\Users\\gsdav\\Anaconda3\\envs\n",
      "                          C:\\Users\\gsdav\\.conda\\envs\n",
      "                          C:\\Users\\gsdav\\AppData\\Local\\conda\\conda\\envs\n",
      "               platform : win-64\n",
      "             user-agent : conda/4.8.5 requests/2.28.1 CPython/3.7.6 Windows/10 Windows/10.0.22621\n",
      "          administrator : False\n",
      "             netrc file : C:\\Users\\gsdav/.netrc\n",
      "           offline mode : False\n",
      "\n"
     ]
    }
   ],
   "source": [
    "!conda info"
   ]
  },
  {
   "cell_type": "code",
   "execution_count": 2,
   "metadata": {},
   "outputs": [
    {
     "name": "stderr",
     "output_type": "stream",
     "text": [
      "C:\\Users\\gsdav\\Anaconda3\\envs\\langchain\\Lib\\site-packages\\datasets\\load.py:1486: FutureWarning: The repository for medical_dialog contains custom code which must be executed to correctly load the dataset. You can inspect the repository content at https://hf.co/datasets/medical_dialog\n",
      "You can avoid this message in future by passing the argument `trust_remote_code=True`.\n",
      "Passing `trust_remote_code=True` will be mandatory to load this dataset from the next major release of `datasets`.\n",
      "  warnings.warn(\n"
     ]
    },
    {
     "data": {
      "application/vnd.jupyter.widget-view+json": {
       "model_id": "0eac59ceef684fcfb21a44a698486f37",
       "version_major": 2,
       "version_minor": 0
      },
      "text/plain": [
       "Downloading builder script:   0%|          | 0.00/16.3k [00:00<?, ?B/s]"
      ]
     },
     "metadata": {},
     "output_type": "display_data"
    },
    {
     "data": {
      "application/vnd.jupyter.widget-view+json": {
       "model_id": "890f3a15f07c4c699603934b4bc5cf34",
       "version_major": 2,
       "version_minor": 0
      },
      "text/plain": [
       "Downloading readme:   0%|          | 0.00/10.9k [00:00<?, ?B/s]"
      ]
     },
     "metadata": {},
     "output_type": "display_data"
    },
    {
     "data": {
      "application/vnd.jupyter.widget-view+json": {
       "model_id": "a6949685a9ba450f9293ddb5234b7cd4",
       "version_major": 2,
       "version_minor": 0
      },
      "text/plain": [
       "Downloading data:   0%|          | 0.00/414k [00:00<?, ?B/s]"
      ]
     },
     "metadata": {},
     "output_type": "display_data"
    },
    {
     "data": {
      "application/vnd.jupyter.widget-view+json": {
       "model_id": "80dd88d4cab44c3ba04ecba4d8aab445",
       "version_major": 2,
       "version_minor": 0
      },
      "text/plain": [
       "Downloading data:   0%|          | 0.00/57.7k [00:00<?, ?B/s]"
      ]
     },
     "metadata": {},
     "output_type": "display_data"
    },
    {
     "data": {
      "application/vnd.jupyter.widget-view+json": {
       "model_id": "1cd3ed9da9a04527ab82a03728ccb1c7",
       "version_major": 2,
       "version_minor": 0
      },
      "text/plain": [
       "Downloading data:   0%|          | 0.00/52.0k [00:00<?, ?B/s]"
      ]
     },
     "metadata": {},
     "output_type": "display_data"
    },
    {
     "data": {
      "application/vnd.jupyter.widget-view+json": {
       "model_id": "a85cc5cc8f9a4b8a9458d86b33440881",
       "version_major": 2,
       "version_minor": 0
      },
      "text/plain": [
       "Generating train split:   0%|          | 0/482 [00:00<?, ? examples/s]"
      ]
     },
     "metadata": {},
     "output_type": "display_data"
    },
    {
     "data": {
      "application/vnd.jupyter.widget-view+json": {
       "model_id": "13b3aefe12784d8396e31eef11aa2a38",
       "version_major": 2,
       "version_minor": 0
      },
      "text/plain": [
       "Generating validation split:   0%|          | 0/60 [00:00<?, ? examples/s]"
      ]
     },
     "metadata": {},
     "output_type": "display_data"
    },
    {
     "data": {
      "application/vnd.jupyter.widget-view+json": {
       "model_id": "d65878eabd844659880118faad709222",
       "version_major": 2,
       "version_minor": 0
      },
      "text/plain": [
       "Generating test split:   0%|          | 0/61 [00:00<?, ? examples/s]"
      ]
     },
     "metadata": {},
     "output_type": "display_data"
    },
    {
     "data": {
      "text/html": [
       "<div>\n",
       "<style scoped>\n",
       "    .dataframe tbody tr th:only-of-type {\n",
       "        vertical-align: middle;\n",
       "    }\n",
       "\n",
       "    .dataframe tbody tr th {\n",
       "        vertical-align: top;\n",
       "    }\n",
       "\n",
       "    .dataframe thead th {\n",
       "        text-align: right;\n",
       "    }\n",
       "</style>\n",
       "<table border=\"1\" class=\"dataframe\">\n",
       "  <thead>\n",
       "    <tr style=\"text-align: right;\">\n",
       "      <th></th>\n",
       "      <th>description</th>\n",
       "      <th>utterances</th>\n",
       "    </tr>\n",
       "  </thead>\n",
       "  <tbody>\n",
       "    <tr>\n",
       "      <th>0</th>\n",
       "      <td>throat a bit sore and want to get a good imune...</td>\n",
       "      <td>[patient: throat a bit sore and want to get a ...</td>\n",
       "    </tr>\n",
       "    <tr>\n",
       "      <th>1</th>\n",
       "      <td>hey there i have had cold \"symptoms\" for over ...</td>\n",
       "      <td>[patient: hey there i have had cold \"symptoms\"...</td>\n",
       "    </tr>\n",
       "    <tr>\n",
       "      <th>2</th>\n",
       "      <td>i have a tight and painful chest with a dry co...</td>\n",
       "      <td>[patient: i have a tight and painful chest wit...</td>\n",
       "    </tr>\n",
       "    <tr>\n",
       "      <th>3</th>\n",
       "      <td>what will happen after the incubation period f...</td>\n",
       "      <td>[patient: what will happen after the incubatio...</td>\n",
       "    </tr>\n",
       "    <tr>\n",
       "      <th>4</th>\n",
       "      <td>suggest treatment for pneumonia</td>\n",
       "      <td>[patient: just found out i was pregnant. yeste...</td>\n",
       "    </tr>\n",
       "  </tbody>\n",
       "</table>\n",
       "</div>"
      ],
      "text/plain": [
       "                                         description  \\\n",
       "0  throat a bit sore and want to get a good imune...   \n",
       "1  hey there i have had cold \"symptoms\" for over ...   \n",
       "2  i have a tight and painful chest with a dry co...   \n",
       "3  what will happen after the incubation period f...   \n",
       "4                    suggest treatment for pneumonia   \n",
       "\n",
       "                                          utterances  \n",
       "0  [patient: throat a bit sore and want to get a ...  \n",
       "1  [patient: hey there i have had cold \"symptoms\"...  \n",
       "2  [patient: i have a tight and painful chest wit...  \n",
       "3  [patient: what will happen after the incubatio...  \n",
       "4  [patient: just found out i was pregnant. yeste...  "
      ]
     },
     "execution_count": 2,
     "metadata": {},
     "output_type": "execute_result"
    }
   ],
   "source": [
    "import pandas as pd\n",
    "from datasets import load_dataset\n",
    "\n",
    "# Download the medical_dialog dataset from Hugging Face\n",
    "dataset = load_dataset('medical_dialog', 'processed.en')\n",
    "\n",
    "# Convert the dataset to a pandas dataframe\n",
    "df = pd.DataFrame(dataset['train'])\n",
    "\n",
    "# Print the first 5 rows of the dataframe\n",
    "df.head()"
   ]
  },
  {
   "cell_type": "code",
   "execution_count": 3,
   "metadata": {},
   "outputs": [],
   "source": [
    "dialog = []\n",
    "# make each sentence on a seperate row\n",
    "patient, doctor = zip(*df['utterances'])\n",
    "for i in range(len(patient)):\n",
    "  dialog.append(patient[i])\n",
    "  dialog.append(doctor[i])\n",
    "\n",
    "dialog_df = pd.DataFrame({\"dialog\": dialog})\n",
    "# save the data to txt file\n",
    "dialog_df.to_csv('data.txt', sep=' ', index=False)"
   ]
  },
  {
   "cell_type": "code",
   "execution_count": 5,
   "metadata": {},
   "outputs": [
    {
     "data": {
      "application/vnd.jupyter.widget-view+json": {
       "model_id": "e627c01c158c4dc88b04ea955bf98ed8",
       "version_major": 2,
       "version_minor": 0
      },
      "text/plain": [
       "modules.json:   0%|          | 0.00/349 [00:00<?, ?B/s]"
      ]
     },
     "metadata": {},
     "output_type": "display_data"
    },
    {
     "name": "stderr",
     "output_type": "stream",
     "text": [
      "C:\\Users\\gsdav\\Anaconda3\\envs\\langchain\\Lib\\site-packages\\huggingface_hub\\file_download.py:148: UserWarning: `huggingface_hub` cache-system uses symlinks by default to efficiently store duplicated files but your machine does not support them in C:\\Users\\gsdav\\.cache\\huggingface\\hub\\models--sentence-transformers--all-mpnet-base-v2. Caching files will still work but in a degraded version that might require more space on your disk. This warning can be disabled by setting the `HF_HUB_DISABLE_SYMLINKS_WARNING` environment variable. For more details, see https://huggingface.co/docs/huggingface_hub/how-to-cache#limitations.\n",
      "To support symlinks on Windows, you either need to activate Developer Mode or to run Python as an administrator. In order to see activate developer mode, see this article: https://docs.microsoft.com/en-us/windows/apps/get-started/enable-your-device-for-development\n",
      "  warnings.warn(message)\n"
     ]
    },
    {
     "data": {
      "application/vnd.jupyter.widget-view+json": {
       "model_id": "ed78743082824245bc0c5876e1fd58db",
       "version_major": 2,
       "version_minor": 0
      },
      "text/plain": [
       "config_sentence_transformers.json:   0%|          | 0.00/116 [00:00<?, ?B/s]"
      ]
     },
     "metadata": {},
     "output_type": "display_data"
    },
    {
     "data": {
      "application/vnd.jupyter.widget-view+json": {
       "model_id": "ad51e1ff18af47d3b64e852fb673e2e2",
       "version_major": 2,
       "version_minor": 0
      },
      "text/plain": [
       "README.md:   0%|          | 0.00/10.6k [00:00<?, ?B/s]"
      ]
     },
     "metadata": {},
     "output_type": "display_data"
    },
    {
     "data": {
      "application/vnd.jupyter.widget-view+json": {
       "model_id": "04217af8885040f8bd8efa8904912793",
       "version_major": 2,
       "version_minor": 0
      },
      "text/plain": [
       "sentence_bert_config.json:   0%|          | 0.00/53.0 [00:00<?, ?B/s]"
      ]
     },
     "metadata": {},
     "output_type": "display_data"
    },
    {
     "data": {
      "application/vnd.jupyter.widget-view+json": {
       "model_id": "55b4f52dc7b14dc18890d1836ff21c0f",
       "version_major": 2,
       "version_minor": 0
      },
      "text/plain": [
       "config.json:   0%|          | 0.00/571 [00:00<?, ?B/s]"
      ]
     },
     "metadata": {},
     "output_type": "display_data"
    },
    {
     "data": {
      "application/vnd.jupyter.widget-view+json": {
       "model_id": "105d58499b5c41fc8c4f3888d71c3775",
       "version_major": 2,
       "version_minor": 0
      },
      "text/plain": [
       "model.safetensors:   0%|          | 0.00/438M [00:00<?, ?B/s]"
      ]
     },
     "metadata": {},
     "output_type": "display_data"
    },
    {
     "data": {
      "application/vnd.jupyter.widget-view+json": {
       "model_id": "98e47135354c4542ac0701600cd9da1b",
       "version_major": 2,
       "version_minor": 0
      },
      "text/plain": [
       "tokenizer_config.json:   0%|          | 0.00/363 [00:00<?, ?B/s]"
      ]
     },
     "metadata": {},
     "output_type": "display_data"
    },
    {
     "data": {
      "application/vnd.jupyter.widget-view+json": {
       "model_id": "8d4ad484077b4202b2e113cf497d741d",
       "version_major": 2,
       "version_minor": 0
      },
      "text/plain": [
       "vocab.txt:   0%|          | 0.00/232k [00:00<?, ?B/s]"
      ]
     },
     "metadata": {},
     "output_type": "display_data"
    },
    {
     "data": {
      "application/vnd.jupyter.widget-view+json": {
       "model_id": "431ea3c47ebd4493a45ad82ec8e362e6",
       "version_major": 2,
       "version_minor": 0
      },
      "text/plain": [
       "tokenizer.json:   0%|          | 0.00/466k [00:00<?, ?B/s]"
      ]
     },
     "metadata": {},
     "output_type": "display_data"
    },
    {
     "data": {
      "application/vnd.jupyter.widget-view+json": {
       "model_id": "23584133479d4493b94967675a7017b2",
       "version_major": 2,
       "version_minor": 0
      },
      "text/plain": [
       "special_tokens_map.json:   0%|          | 0.00/239 [00:00<?, ?B/s]"
      ]
     },
     "metadata": {},
     "output_type": "display_data"
    },
    {
     "data": {
      "application/vnd.jupyter.widget-view+json": {
       "model_id": "f28a0c46cfbe41669ae33731bcbcd476",
       "version_major": 2,
       "version_minor": 0
      },
      "text/plain": [
       "1_Pooling/config.json:   0%|          | 0.00/190 [00:00<?, ?B/s]"
      ]
     },
     "metadata": {},
     "output_type": "display_data"
    }
   ],
   "source": [
    "from langchain import PromptTemplate, LLMChain\n",
    "from langchain.llms import GPT4All\n",
    "from langchain.callbacks.streaming_stdout import StreamingStdOutCallbackHandler\n",
    "from langchain import PromptTemplate\n",
    "from langchain.document_loaders import TextLoader\n",
    "from langchain import PromptTemplate\n",
    "from langchain.callbacks.streaming_stdout import StreamingStdOutCallbackHandler\n",
    "\n",
    "from langchain.document_loaders import TextLoader\n",
    "from langchain.indexes import VectorstoreIndexCreator\n",
    "from langchain.embeddings import HuggingFaceEmbeddings\n",
    "\n",
    "# add the path to the CV as a PDF\n",
    "loader = TextLoader('data.txt')\n",
    "# Embed the document and store into chroma DB\n",
    "index = VectorstoreIndexCreator(embedding= HuggingFaceEmbeddings()).from_loaders([loader])"
   ]
  },
  {
   "cell_type": "code",
   "execution_count": 7,
   "metadata": {},
   "outputs": [],
   "source": [
    "# specify the path to the .bin downloaded file\n",
    "# local_path = './models/ggml-gpt4all-j-v1.3-groovy.bin'  # replace with your desired local file path\n",
    "local_path = 'C:/Users/gsdav/AppData/Local/nomic.ai/GPT4All/Meta-Llama-3-8B-Instruct.Q4_0.gguf'\n",
    "# Callbacks support token-wise streaming\n",
    "callbacks = [StreamingStdOutCallbackHandler()]\n",
    "# Verbose is required to pass to the callback manager\n",
    "llm = GPT4All(model=local_path, callbacks=callbacks, verbose=True, backend='gptj')"
   ]
  },
  {
   "cell_type": "code",
   "execution_count": 8,
   "metadata": {},
   "outputs": [
    {
     "name": "stdout",
     "output_type": "stream",
     "text": [
      "Retrieving information related to your question...\n",
      "Found this content which is most similar to your question: \"doctor: in brief: standard precautions covid-19 is now official name for the illness caused by the newly discovered coronavirus (coronavirus infectious disease - 2019). so far it is extremely rare in the us (2/12/20). until and unless covid-19 becomes common no special precautions are necessary. in any dormitory or group living situation people with respiratory symptoms (colds, flu, etc.) should cover their coughs and wash hands frequently.\"\n",
      "\"patient: is gargling with listerine effective against corona virus induced sore throat? will it kill the virus? how about with mixture of warm water and salt, will this also kill virus!\"\n",
      "\"doctor: gargling. you can't be sure but it may help if you do those things as well as using zinc lozenges at the first sign of any throat discomfort and stay hydrated also. i recommend them. at least it'll do no harm.\"\n",
      "\"doctor: in brief: may call dr on video throat symptoms can be from strep throat infection (antibiotics needed), a cold or influenza (antibiotics usually not used), or from some other cause such as allergies or irritants. usually, a person sees a doctor (call first) if the throat issue is bothersome, recurrent, or doesn't go away quickly. covid-19 infections tend to have cough, whereas strep usually lacks cough but has more throat pain. would you like to video or text chat with me?\"\n",
      "\"patient: i have had a sore throat for a few days, tuesday night it felt like tonsils, yesterday it started becoming scratchy and today i have started coughing and spitting mucus. i do not have a fever, but i get light headed here and there, could it be covid?\"\n",
      "\"doctor: test for covid-19. on this times better to be sure you donâ€™t become contagious and spread the virus, try to get tested for covid-19.\"\n",
      "\"patient: i have tonsillitis long time ago and every year i feel allergic problem in my thort. about 7 days i feel same allergic problem in my thort and tongue i have 1 canker sore. i take just anti histamine. but ago i treat this with prednisone. does it covid 19?\"\n",
      "\"doctor: can call dr on video. throat pain can be from a strep throat infection (antibiotics needed), a cold or influenza, eb virus, or from some other cause such as allergies, irritants, or acid reflux. usually, a person sees the doctor (call first) if the sore throat is bothersome, recurrent, or doesn't go away quickly. covid-19 infections tend to have cough, whereas strep usually lacks cough but has more throat pain.\"\n",
      "\"patient: sore throat, ear ache, headache and a light cough. do i need to worry?\"\n",
      "\"doctor: in brief: isolate sick people throat pain can be from a strep throat (antibiotics needed), a cold or influenza, or from some other cause such as allergies or irritants. usually, a person sees the doctor (call first) if the sore throat is bothersome, recurrent, or doesn't go away quickly. the flu or covid-19 usually have cough, fever, body aches; whereas strep is mainly sore throat. can call doctor by video or phone. (3/25/20) would you like to video or text chat with me?\"\n",
      "\"patient: what should i do if i feel sick, but am not sure if it's coronavirus?\"\n",
      "\"doctor: symptoms. first, symptomatic treatment at home, plenty fluids and rest. also apply all the preventive measures of social distancing. but if you are aware of any possible contact with an infected person, it is difficult to breath, fever does not low with bath or paracetamol, you are diabetic or with another chronic disease like hypertension, clinical attention should be asked for as soon as possible.\"\n"
     ]
    }
   ],
   "source": [
    "# perform similarity search and retrieve the context from our documents\n",
    "results = index.vectorstore.similarity_search(\"what is the solution for sore throat\", k=4)\n",
    "# join all context information (top 4) into one string \n",
    "context = \"\\n\".join([document.page_content for document in results])\n",
    "print(f\"Retrieving information related to your question...\")\n",
    "print(f\"Found this content which is most similar to your question: {context}\")"
   ]
  },
  {
   "cell_type": "code",
   "execution_count": 9,
   "metadata": {},
   "outputs": [
    {
     "name": "stdout",
     "output_type": "stream",
     "text": [
      "Processing the information with gpt4all...\n",
      "\n",
      " The patient has a sore throat and wants to know if gargling with Listerine will help kill the virus. The doctor says that while it may not directly kill the virus, gargling along with using zinc lozenges at the first sign of any throat discomfort and staying hydrated can be helpful.\n",
      "The patient also mentions having had tonsillitis in the past and experiencing allergic problems every year around this time. They take antihistamines but have used prednisone before to treat these issues. The doctor doesn't explicitly say that it's COVID-19, but suggests getting tested for COVID-19.\n",
      "\n",
      "So, based on what we know from the conversation, the treatment for sore throat is:\n",
      "1. Gargling with Listerine\n",
      "2. Using zinc lozenges at the first sign of any throat discomfort\n",
      "3. Staying hydrated\n",
      "\n",
      "Please note that these are general suggestions and not a definitive diagnosis or treatment plan. It's always best to consult a healthcare professional for personalized advice. The patient has a sore throat and wants to know if gargling with Listerine will help kill the virus. The doctor says that while it may not directly kill the virus, gargling along with using zinc lozenges at the first sign of any throat discomfort and staying hydrated can be helpful.\n",
      "The patient also mentions having had tonsillitis in the past and experiencing allergic problems every year around this time. They take antihistamines but have used prednisone before to treat these issues. The doctor doesn't explicitly say that it's COVID-19, but suggests getting tested for COVID-19.\n",
      "\n",
      "So, based on what we know from the conversation, the treatment for sore throat is:\n",
      "1. Gargling with Listerine\n",
      "2. Using zinc lozenges at the first sign of any throat discomfort\n",
      "3. Staying hydrated\n",
      "\n",
      "Please note that these are general suggestions and not a definitive diagnosis or treatment plan. It's always best to consult a healthcare professional for personalized advice.\n"
     ]
    }
   ],
   "source": [
    "template = \"\"\"\n",
    "Please use the following context to answer questions.\n",
    "Context: {context}\n",
    "---\n",
    "Question: {question}\n",
    "Answer: Let's think step by step.\"\"\"\n",
    "\n",
    "prompt = PromptTemplate(template=template, input_variables=[\"context\", \"question\"]).partial(context=context)\n",
    "\n",
    "llm_chain = LLMChain(prompt=prompt, llm=llm)\n",
    "# Print the result\n",
    "print(\"Processing the information with gpt4all...\\n\")\n",
    "print(llm_chain.run(\"what is the treatment for sore throat\"))"
   ]
  },
  {
   "cell_type": "code",
   "execution_count": null,
   "metadata": {},
   "outputs": [],
   "source": []
  }
 ],
 "metadata": {
  "kernelspec": {
   "display_name": "Python 3 (ipykernel)",
   "language": "python",
   "name": "python3"
  },
  "language_info": {
   "codemirror_mode": {
    "name": "ipython",
    "version": 3
   },
   "file_extension": ".py",
   "mimetype": "text/x-python",
   "name": "python",
   "nbconvert_exporter": "python",
   "pygments_lexer": "ipython3",
   "version": "3.11.5"
  }
 },
 "nbformat": 4,
 "nbformat_minor": 4
}
