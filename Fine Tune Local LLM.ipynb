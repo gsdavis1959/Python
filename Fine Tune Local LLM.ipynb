{
 "cells": [
  {
   "cell_type": "code",
   "execution_count": null,
   "metadata": {},
   "outputs": [],
   "source": [
    "#!pip install langchain==0.0.163\n",
    "#!pip install pygpt4all==1.1.0\n",
    "#!pip install transformers\n",
    "#!pip install datasets\n",
    "#!pip install chromadb\n",
    "#!pip install tiktoken"
   ]
  },
  {
   "cell_type": "code",
   "execution_count": 2,
   "metadata": {},
   "outputs": [
    {
     "data": {
      "application/vnd.jupyter.widget-view+json": {
       "model_id": "5b296c388bc141d38d36b3fb558d6e76",
       "version_major": 2,
       "version_minor": 0
      },
      "text/plain": [
       "modules.json:   0%|          | 0.00/349 [00:00<?, ?B/s]"
      ]
     },
     "metadata": {},
     "output_type": "display_data"
    },
    {
     "name": "stderr",
     "output_type": "stream",
     "text": [
      "C:\\Users\\gsdav\\Anaconda3\\envs\\llama_local\\lib\\site-packages\\huggingface_hub\\file_download.py:149: UserWarning: `huggingface_hub` cache-system uses symlinks by default to efficiently store duplicated files but your machine does not support them in C:\\Users\\gsdav\\.cache\\huggingface\\hub\\models--sentence-transformers--all-MiniLM-L6-v2. Caching files will still work but in a degraded version that might require more space on your disk. This warning can be disabled by setting the `HF_HUB_DISABLE_SYMLINKS_WARNING` environment variable. For more details, see https://huggingface.co/docs/huggingface_hub/how-to-cache#limitations.\n",
      "To support symlinks on Windows, you either need to activate Developer Mode or to run Python as an administrator. In order to see activate developer mode, see this article: https://docs.microsoft.com/en-us/windows/apps/get-started/enable-your-device-for-development\n",
      "  warnings.warn(message)\n"
     ]
    },
    {
     "data": {
      "application/vnd.jupyter.widget-view+json": {
       "model_id": "29170d7784854a2d9c6d76452fa49bad",
       "version_major": 2,
       "version_minor": 0
      },
      "text/plain": [
       "config_sentence_transformers.json:   0%|          | 0.00/116 [00:00<?, ?B/s]"
      ]
     },
     "metadata": {},
     "output_type": "display_data"
    },
    {
     "data": {
      "application/vnd.jupyter.widget-view+json": {
       "model_id": "7fcf62b4722743cfadd4100d577fe4fc",
       "version_major": 2,
       "version_minor": 0
      },
      "text/plain": [
       "README.md:   0%|          | 0.00/10.7k [00:00<?, ?B/s]"
      ]
     },
     "metadata": {},
     "output_type": "display_data"
    },
    {
     "data": {
      "application/vnd.jupyter.widget-view+json": {
       "model_id": "9d593cbcde2946bda1d0155584ab44b8",
       "version_major": 2,
       "version_minor": 0
      },
      "text/plain": [
       "sentence_bert_config.json:   0%|          | 0.00/53.0 [00:00<?, ?B/s]"
      ]
     },
     "metadata": {},
     "output_type": "display_data"
    },
    {
     "data": {
      "application/vnd.jupyter.widget-view+json": {
       "model_id": "28c671cd89ff4a67821cf74586d5c3e4",
       "version_major": 2,
       "version_minor": 0
      },
      "text/plain": [
       "config.json:   0%|          | 0.00/612 [00:00<?, ?B/s]"
      ]
     },
     "metadata": {},
     "output_type": "display_data"
    },
    {
     "data": {
      "application/vnd.jupyter.widget-view+json": {
       "model_id": "d42594840ca641f3881ea04c81d85302",
       "version_major": 2,
       "version_minor": 0
      },
      "text/plain": [
       "model.safetensors:   0%|          | 0.00/90.9M [00:00<?, ?B/s]"
      ]
     },
     "metadata": {},
     "output_type": "display_data"
    },
    {
     "data": {
      "application/vnd.jupyter.widget-view+json": {
       "model_id": "ad5c296fa49443c59c002ae62d2e3b77",
       "version_major": 2,
       "version_minor": 0
      },
      "text/plain": [
       "tokenizer_config.json:   0%|          | 0.00/350 [00:00<?, ?B/s]"
      ]
     },
     "metadata": {},
     "output_type": "display_data"
    },
    {
     "data": {
      "application/vnd.jupyter.widget-view+json": {
       "model_id": "6db2dfbbeda64992a369d2af1cbe4927",
       "version_major": 2,
       "version_minor": 0
      },
      "text/plain": [
       "vocab.txt:   0%|          | 0.00/232k [00:00<?, ?B/s]"
      ]
     },
     "metadata": {},
     "output_type": "display_data"
    },
    {
     "data": {
      "application/vnd.jupyter.widget-view+json": {
       "model_id": "02e1eed4ee154ec5b4b6a9bfd4491c2a",
       "version_major": 2,
       "version_minor": 0
      },
      "text/plain": [
       "tokenizer.json:   0%|          | 0.00/466k [00:00<?, ?B/s]"
      ]
     },
     "metadata": {},
     "output_type": "display_data"
    },
    {
     "data": {
      "application/vnd.jupyter.widget-view+json": {
       "model_id": "e3a39f71c8a242699b55b03f29e99b55",
       "version_major": 2,
       "version_minor": 0
      },
      "text/plain": [
       "special_tokens_map.json:   0%|          | 0.00/112 [00:00<?, ?B/s]"
      ]
     },
     "metadata": {},
     "output_type": "display_data"
    },
    {
     "data": {
      "application/vnd.jupyter.widget-view+json": {
       "model_id": "e6e8e01249f5498ab3cf6c0adfde77e7",
       "version_major": 2,
       "version_minor": 0
      },
      "text/plain": [
       "1_Pooling/config.json:   0%|          | 0.00/190 [00:00<?, ?B/s]"
      ]
     },
     "metadata": {},
     "output_type": "display_data"
    },
    {
     "name": "stdout",
     "output_type": "stream",
     "text": [
      "384\n",
      "384\n",
      "384\n",
      "384\n",
      "0.67738634\n",
      "0.38097987\n",
      "0.15007739\n",
      "0.6433085\n"
     ]
    }
   ],
   "source": [
    "from sentence_transformers import SentenceTransformer\n",
    "import numpy as np\n",
    "\n",
    "def text_embedding(text):\n",
    "    model = SentenceTransformer('sentence-transformers/all-MiniLM-L6-v2')\n",
    "    return model.encode(text, normalize_embeddings = True)\n",
    "\n",
    "def vector_similarity(vec1, vec2):\n",
    "    return np.dot(np.squeeze(np.array(vec1)),np.squeeze(np.array(vec2)))\n",
    "\n",
    "phrase1    = \"Apple is a fruit\"\n",
    "embedding1 = text_embedding(phrase1)\n",
    "print(len(embedding1))\n",
    "\n",
    "phrase2    = \"Apple iPhone is expensive\"\n",
    "embedding2 = text_embedding(phrase2)\n",
    "print(len(embedding2))\n",
    "\n",
    "phrase3    = \"Mango is a fruit\"\n",
    "embedding3 = text_embedding(phrase3) \n",
    "print(len(embedding3))\n",
    "\n",
    "phrase4    = \"There is a new Apple iPhone\"\n",
    "embedding4 = text_embedding(phrase4)\n",
    "print(len(embedding4))\n",
    "\n",
    "print(vector_similarity(embedding1,embedding3))\n",
    "print(vector_similarity(embedding1,embedding4))\n",
    "\n",
    "print(vector_similarity(embedding2,embedding3))\n",
    "print(vector_similarity(embedding2,embedding4)) "
   ]
  },
  {
   "cell_type": "code",
   "execution_count": null,
   "metadata": {},
   "outputs": [],
   "source": []
  },
  {
   "cell_type": "code",
   "execution_count": null,
   "metadata": {},
   "outputs": [],
   "source": [
    "!conda info"
   ]
  },
  {
   "cell_type": "code",
   "execution_count": 3,
   "metadata": {},
   "outputs": [
    {
     "ename": "ModuleNotFoundError",
     "evalue": "No module named 'datasets'",
     "output_type": "error",
     "traceback": [
      "\u001b[1;31m---------------------------------------------------------------------------\u001b[0m",
      "\u001b[1;31mModuleNotFoundError\u001b[0m                       Traceback (most recent call last)",
      "Cell \u001b[1;32mIn[3], line 2\u001b[0m\n\u001b[0;32m      1\u001b[0m \u001b[38;5;28;01mimport\u001b[39;00m \u001b[38;5;21;01mpandas\u001b[39;00m \u001b[38;5;28;01mas\u001b[39;00m \u001b[38;5;21;01mpd\u001b[39;00m\n\u001b[1;32m----> 2\u001b[0m \u001b[38;5;28;01mfrom\u001b[39;00m \u001b[38;5;21;01mdatasets\u001b[39;00m \u001b[38;5;28;01mimport\u001b[39;00m load_dataset\n\u001b[0;32m      4\u001b[0m \u001b[38;5;66;03m# Download the medical_dialog dataset from Hugging Face\u001b[39;00m\n\u001b[0;32m      5\u001b[0m dataset \u001b[38;5;241m=\u001b[39m load_dataset(\u001b[38;5;124m'\u001b[39m\u001b[38;5;124mmedical_dialog\u001b[39m\u001b[38;5;124m'\u001b[39m, \u001b[38;5;124m'\u001b[39m\u001b[38;5;124mprocessed.en\u001b[39m\u001b[38;5;124m'\u001b[39m)\n",
      "\u001b[1;31mModuleNotFoundError\u001b[0m: No module named 'datasets'"
     ]
    }
   ],
   "source": [
    "import pandas as pd\n",
    "from datasets import load_dataset\n",
    "\n",
    "# Download the medical_dialog dataset from Hugging Face\n",
    "dataset = load_dataset('medical_dialog', 'processed.en')\n",
    "\n",
    "# Convert the dataset to a pandas dataframe\n",
    "df = pd.DataFrame(dataset['train'])\n",
    "\n",
    "# Print the first 5 rows of the dataframe\n",
    "df.head()"
   ]
  },
  {
   "cell_type": "code",
   "execution_count": null,
   "metadata": {},
   "outputs": [],
   "source": [
    "dialog = []\n",
    "# make each sentence on a seperate row\n",
    "patient, doctor = zip(*df['utterances'])\n",
    "for i in range(len(patient)):\n",
    "  dialog.append(patient[i])\n",
    "  dialog.append(doctor[i])\n",
    "\n",
    "dialog_df = pd.DataFrame({\"dialog\": dialog})\n",
    "# save the data to txt file\n",
    "dialog_df.to_csv('data.txt', sep=' ', index=False)"
   ]
  },
  {
   "cell_type": "code",
   "execution_count": 4,
   "metadata": {},
   "outputs": [],
   "source": [
    "from langchain import PromptTemplate, LLMChain\n",
    "from langchain.llms import GPT4All\n",
    "from langchain.callbacks.streaming_stdout import StreamingStdOutCallbackHandler\n",
    "from langchain import PromptTemplate\n",
    "from langchain.document_loaders import TextLoader\n",
    "from langchain import PromptTemplate\n",
    "from langchain.callbacks.streaming_stdout import StreamingStdOutCallbackHandler\n",
    "\n",
    "from langchain.document_loaders import TextLoader\n",
    "from langchain.indexes import VectorstoreIndexCreator\n",
    "from langchain.embeddings import HuggingFaceEmbeddings\n",
    "\n"
   ]
  },
  {
   "cell_type": "code",
   "execution_count": 10,
   "metadata": {},
   "outputs": [],
   "source": [
    "\n",
    "\n",
    "# Path to your local model\n",
    "local_model_path = r'C:\\Users\\gsdav\\.cache\\huggingface\\hub\\models--sentence-transformers--all-mpnet-base-v2\\snapshots\\84f2bcc00d77236f9e89c8a360a00fb1139bf47d'\n",
    "\n",
    "# Instantiate the HuggingFaceEmbeddings class\n",
    "# embedding = HuggingFaceEmbeddings(model_name=local_model_path)\n",
    "# Instantiate the HuggingFaceEmbeddings class\n",
    "embedding = HuggingFaceEmbeddings(model_name='sentence-transformers/all-MiniLM-L6-v2')\n",
    "\n",
    "\n",
    "# Use the embedding instance\n",
    "# documents = [\"foo bar\"]\n",
    "# output = embedding.embed_documents(documents)"
   ]
  },
  {
   "cell_type": "code",
   "execution_count": 6,
   "metadata": {},
   "outputs": [],
   "source": [
    "# add the path to the CV as a PDF\n",
    "loader = TextLoader('data.txt')\n",
    "# Embed the document and store into chroma DB\n",
    "index = VectorstoreIndexCreator(embedding= HuggingFaceEmbeddings()).from_loaders([loader])"
   ]
  },
  {
   "cell_type": "code",
   "execution_count": 7,
   "metadata": {},
   "outputs": [],
   "source": [
    "# specify the path to the .bin downloaded file\n",
    "# local_path = './models/ggml-gpt4all-j-v1.3-groovy.bin'  # replace with your desired local file path\n",
    "local_path = 'C:/Users/gsdav/AppData/Local/nomic.ai/GPT4All/Meta-Llama-3-8B-Instruct.Q4_0.gguf'\n",
    "# Callbacks support token-wise streaming\n",
    "callbacks = [StreamingStdOutCallbackHandler()]\n",
    "# Verbose is required to pass to the callback manager\n",
    "llm = GPT4All(model=local_path, callbacks=callbacks, verbose=True, backend='gptj')"
   ]
  },
  {
   "cell_type": "code",
   "execution_count": 11,
   "metadata": {},
   "outputs": [
    {
     "name": "stdout",
     "output_type": "stream",
     "text": [
      "Retrieving information related to your question...\n",
      "Found this content which is most similar to your question: \"patient: i had suffered with harpez and pneumonia. i had taken zovirax intravenous depomedrol,tricot xylocaine and finally seftum 500 mg. the eruptions and irritable skin in groin and arm pits. my face looked i was older than my age. one day out of a miracle i had formulated my own drug which has saved me. the drug is powdered ammoxycilin 500mg, seftum500mg, althrocin 500 mg, cifran 500mgin right proportions. i applied to my groin, face, armpits. also like homeopathy i tried taking one milligram of this mixture rubbed on epiglottis. my life style has changed completely and would like to recommend to this entire world that this is a miracle drug that can keep in abeyance many diseases of the world. no side effects. excellent health, looking 30 years younger with no damage to skin and any side effects, b.shankar sharma, mail address yyyy@yyyy\"\n",
      "\"doctor: nsaids. otc nsaids can help with pain and inflammation. please try calling a local oral surgeon. most medical offices are open for emergencies only, and this probably falls into that category.\"\n",
      "\"patient: hi my throat is sore, and very scratchy, i have also have a cough to accompany this, well the cough started about a week ago, i have no fever. just want to know if this is anyway related to covid 19 my voice is also very hoarse?\"\n",
      "\"doctor: in brief: unlikely it could be, however going out right now is dangerous to you and others. if you don't have it yet going out risks getting it. if you have it you can spread it. try to access a thorough consult on the phone or virtually. keep chatting we are here for you. would you like to video or text chat with me?\"\n",
      "\"patient: swollen tonsils, cough, and feeling slightly feverish.\"\n",
      "\"patient: yes i had pneumonia and now have costochondritis. i am just wondering if it will ever go away. i am active and miss my workouts. every time i try to start working out it comes back. will i ever be able to work out again? it has been since april when i had pneumonia and i still am dealing with this. yyyy@yyyy\"\n",
      "\"doctor: do you have diagnosed it correctly ? go for hrct chest , or bronchoscopy for same. take i.v. antibiotics and then oral. complete course of antibiotics. for costochondritis apply analgesics ointment on it along with systemic anti inflammatory drugs. get done diagnosis proper. you will definitely able to work again.\"\n",
      "\"patient: will coronavirus make my kids more susceptible to catching the flu? should all kids be vaccinated against the flu in case they catch covid-19?\"\n",
      "\"doctor: uncertain data. hello.the data available about the coronavirus and ibuprofen are inconclusive.nevertheless you should visit a pain specialist doctor for the manage of your pain. it's been established that ibuprofen and other nsaid's taken in large doses or long periods cause kidney damage.\"\n",
      "\"patient: i know hand washing (20+ seconds) is best to kill coronavirus, and that if not available use sanitizer of 60%+ alcohol. i thought my sanitizer was but realized it's only 57.6%. been using lots for weeks. i've stopped using it. should i be worried?\"\n"
     ]
    }
   ],
   "source": [
    "# perform similarity search and retrieve the context from our documents\n",
    "results = index.vectorstore.similarity_search(\"what is the solution for sore back\", k=4)\n",
    "# join all context information (top 4) into one string \n",
    "context = \"\\n\".join([document.page_content for document in results])\n",
    "print(f\"Retrieving information related to your question...\")\n",
    "print(f\"Found this content which is most similar to your question: {context}\")"
   ]
  },
  {
   "cell_type": "code",
   "execution_count": 13,
   "metadata": {},
   "outputs": [
    {
     "name": "stdout",
     "output_type": "stream",
     "text": [
      "Processing the information with gpt4all...\n",
      "\n",
      " First, we have to understand that this coronavirus is a highly contagious virus and can spread through contact with an infected person or contaminated surfaces. So, hand hygiene is crucial. Wash your hands frequently with soap and water for at least 20 seconds especially after blowing your nose, coughing or sneezing; before eating; and after using the bathroom.\n",
      "\n",
      "If you don't have access to soap and water, use a sanitizer that contains at least 60% alcohol. And remember, it's not just about washing your hands but also keeping surfaces clean by wiping them down with disinfectant wipes regularly.\n",
      "\n",
      "Also, avoid touching your face especially your eyes, nose, and mouth as much as possible because these are the most common entry points for viruses to enter our bodies.\n",
      "\n",
      "And finally, stay informed through credible sources like WHO or CDC about any updates on COVID-19. Stay home if you're feeling unwell, and follow proper quarantine procedures if necessary.\n",
      "\n",
      "So, that's it! Follow these simple steps, and you'll be well-equipped to keep yourself healthy during this pandemic. First, we have to understand that this coronavirus is a highly contagious virus and can spread through contact with an infected person or contaminated surfaces. So, hand hygiene is crucial. Wash your hands frequently with soap and water for at least 20 seconds especially after blowing your nose, coughing or sneezing; before eating; and after using the bathroom.\n",
      "\n",
      "If you don't have access to soap and water, use a sanitizer that contains at least 60% alcohol. And remember, it's not just about washing your hands but also keeping surfaces clean by wiping them down with disinfectant wipes regularly.\n",
      "\n",
      "Also, avoid touching your face especially your eyes, nose, and mouth as much as possible because these are the most common entry points for viruses to enter our bodies.\n",
      "\n",
      "And finally, stay informed through credible sources like WHO or CDC about any updates on COVID-19. Stay home if you're feeling unwell, and follow proper quarantine procedures if necessary.\n",
      "\n",
      "So, that's it! Follow these simple steps, and you'll be well-equipped to keep yourself healthy during this pandemic.\n"
     ]
    }
   ],
   "source": [
    "template = \"\"\"\n",
    "Please use the following context to answer questions.\n",
    "Context: {context}\n",
    "---\n",
    "Question: {question}\n",
    "Answer: Let's think step by step.\"\"\"\n",
    "\n",
    "prompt = PromptTemplate(template=template, input_variables=[\"context\", \"question\"]).partial(context=context)\n",
    "\n",
    "llm_chain = prompt | llm\n",
    "# Print the result\n",
    "print(\"Processing the information with gpt4all...\\n\")\n",
    "print(llm_chain.invoke(\"what is the best advice for staying healthy?\"))"
   ]
  },
  {
   "cell_type": "code",
   "execution_count": null,
   "metadata": {},
   "outputs": [],
   "source": []
  }
 ],
 "metadata": {
  "kernelspec": {
   "display_name": "Python 3 (ipykernel)",
   "language": "python",
   "name": "python3"
  },
  "language_info": {
   "codemirror_mode": {
    "name": "ipython",
    "version": 3
   },
   "file_extension": ".py",
   "mimetype": "text/x-python",
   "name": "python",
   "nbconvert_exporter": "python",
   "pygments_lexer": "ipython3",
   "version": "3.8.12"
  }
 },
 "nbformat": 4,
 "nbformat_minor": 4
}
