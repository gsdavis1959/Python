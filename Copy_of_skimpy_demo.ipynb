{
  "nbformat": 4,
  "nbformat_minor": 0,
  "metadata": {
    "colab": {
      "name": "Copy of skimpy_demo.ipynb",
      "provenance": [],
      "collapsed_sections": []
    },
    "kernelspec": {
      "name": "python3",
      "display_name": "Python 3"
    },
    "language_info": {
      "name": "python"
    }
  },
  "cells": [
    {
      "cell_type": "markdown",
      "metadata": {
        "id": "n_Z9KSsRkQ3Y"
      },
      "source": [
        "# Demo of the *skimpy* Python package\n",
        "\n",
        "This notebook is a quick demo of how to use skimpy in practice. First, let's make sure it's installed in this google colab notebook."
      ]
    },
    {
      "cell_type": "code",
      "metadata": {
        "colab": {
          "base_uri": "https://localhost:8080/",
          "height": 887
        },
        "id": "fKbRsPVxkMNg",
        "outputId": "ea571952-2565-4085-83f7-082104316867"
      },
      "source": [
        "!pip install skimpy"
      ],
      "execution_count": 1,
      "outputs": [
        {
          "output_type": "stream",
          "name": "stdout",
          "text": [
            "Collecting skimpy\n",
            "  Downloading skimpy-0.0.2-py3-none-any.whl (8.4 kB)\n",
            "Collecting rich<11.0.0,>=10.9.0\n",
            "  Downloading rich-10.9.0-py3-none-any.whl (211 kB)\n",
            "\u001b[K     |████████████████████████████████| 211 kB 4.0 MB/s \n",
            "\u001b[?25hCollecting pandas<2.0.0,>=1.3.2\n",
            "  Downloading pandas-1.3.2-cp37-cp37m-manylinux_2_17_x86_64.manylinux2014_x86_64.whl (11.3 MB)\n",
            "\u001b[K     |████████████████████████████████| 11.3 MB 27 kB/s \n",
            "\u001b[?25hCollecting Pygments<3.0.0,>=2.10.0\n",
            "  Downloading Pygments-2.10.0-py3-none-any.whl (1.0 MB)\n",
            "\u001b[K     |████████████████████████████████| 1.0 MB 37.3 MB/s \n",
            "\u001b[?25hCollecting click<9.0.0,>=8.0.1\n",
            "  Downloading click-8.0.1-py3-none-any.whl (97 kB)\n",
            "\u001b[K     |████████████████████████████████| 97 kB 5.8 MB/s \n",
            "\u001b[?25hRequirement already satisfied: importlib-metadata in /usr/local/lib/python3.7/dist-packages (from click<9.0.0,>=8.0.1->skimpy) (4.6.4)\n",
            "Requirement already satisfied: python-dateutil>=2.7.3 in /usr/local/lib/python3.7/dist-packages (from pandas<2.0.0,>=1.3.2->skimpy) (2.8.2)\n",
            "Requirement already satisfied: numpy>=1.17.3 in /usr/local/lib/python3.7/dist-packages (from pandas<2.0.0,>=1.3.2->skimpy) (1.19.5)\n",
            "Requirement already satisfied: pytz>=2017.3 in /usr/local/lib/python3.7/dist-packages (from pandas<2.0.0,>=1.3.2->skimpy) (2018.9)\n",
            "Requirement already satisfied: six>=1.5 in /usr/local/lib/python3.7/dist-packages (from python-dateutil>=2.7.3->pandas<2.0.0,>=1.3.2->skimpy) (1.15.0)\n",
            "Requirement already satisfied: typing-extensions<4.0.0,>=3.7.4 in /usr/local/lib/python3.7/dist-packages (from rich<11.0.0,>=10.9.0->skimpy) (3.7.4.3)\n",
            "Collecting colorama<0.5.0,>=0.4.0\n",
            "  Downloading colorama-0.4.4-py2.py3-none-any.whl (16 kB)\n",
            "Collecting commonmark<0.10.0,>=0.9.0\n",
            "  Downloading commonmark-0.9.1-py2.py3-none-any.whl (51 kB)\n",
            "\u001b[K     |████████████████████████████████| 51 kB 5.9 MB/s \n",
            "\u001b[?25hRequirement already satisfied: zipp>=0.5 in /usr/local/lib/python3.7/dist-packages (from importlib-metadata->click<9.0.0,>=8.0.1->skimpy) (3.5.0)\n",
            "Installing collected packages: Pygments, commonmark, colorama, rich, pandas, click, skimpy\n",
            "  Attempting uninstall: Pygments\n",
            "    Found existing installation: Pygments 2.6.1\n",
            "    Uninstalling Pygments-2.6.1:\n",
            "      Successfully uninstalled Pygments-2.6.1\n",
            "  Attempting uninstall: pandas\n",
            "    Found existing installation: pandas 1.1.5\n",
            "    Uninstalling pandas-1.1.5:\n",
            "      Successfully uninstalled pandas-1.1.5\n",
            "  Attempting uninstall: click\n",
            "    Found existing installation: click 7.1.2\n",
            "    Uninstalling click-7.1.2:\n",
            "      Successfully uninstalled click-7.1.2\n",
            "\u001b[31mERROR: pip's dependency resolver does not currently take into account all the packages that are installed. This behaviour is the source of the following dependency conflicts.\n",
            "google-colab 1.0.0 requires pandas~=1.1.0; python_version >= \"3.0\", but you have pandas 1.3.2 which is incompatible.\n",
            "flask 1.1.4 requires click<8.0,>=5.1, but you have click 8.0.1 which is incompatible.\n",
            "datascience 0.10.6 requires folium==0.2.1, but you have folium 0.8.3 which is incompatible.\u001b[0m\n",
            "Successfully installed Pygments-2.10.0 click-8.0.1 colorama-0.4.4 commonmark-0.9.1 pandas-1.3.2 rich-10.9.0 skimpy-0.0.2\n"
          ]
        },
        {
          "output_type": "display_data",
          "data": {
            "application/vnd.colab-display-data+json": {
              "pip_warning": {
                "packages": [
                  "pandas",
                  "pygments"
                ]
              }
            }
          },
          "metadata": {}
        }
      ]
    },
    {
      "cell_type": "markdown",
      "metadata": {
        "id": "sJNHJLkRkgrg"
      },
      "source": [
        "Now we can import and use the package. Let's grab the example data, including in the package, and the function that is going to summarise the data, *skim*.\n",
        "\n",
        "Here's the dataframe and imports"
      ]
    },
    {
      "cell_type": "code",
      "metadata": {
        "colab": {
          "base_uri": "https://localhost:8080/",
          "height": 293
        },
        "id": "0FFhglKLkeAa",
        "outputId": "3f8abd09-a02a-48e8-fc60-888db05ff887"
      },
      "source": [
        "from skimpy import skim, generate_test_data\n",
        "\n",
        "df = generate_test_data()\n",
        "\n",
        "df.head()"
      ],
      "execution_count": 1,
      "outputs": [
        {
          "output_type": "execute_result",
          "data": {
            "text/html": [
              "<div>\n",
              "<style scoped>\n",
              "    .dataframe tbody tr th:only-of-type {\n",
              "        vertical-align: middle;\n",
              "    }\n",
              "\n",
              "    .dataframe tbody tr th {\n",
              "        vertical-align: top;\n",
              "    }\n",
              "\n",
              "    .dataframe thead th {\n",
              "        text-align: right;\n",
              "    }\n",
              "</style>\n",
              "<table border=\"1\" class=\"dataframe\">\n",
              "  <thead>\n",
              "    <tr style=\"text-align: right;\">\n",
              "      <th></th>\n",
              "      <th>sepal_length</th>\n",
              "      <th>sepal_width</th>\n",
              "      <th>petal_length</th>\n",
              "      <th>petal_width</th>\n",
              "      <th>class</th>\n",
              "      <th>rand_flower</th>\n",
              "      <th>location</th>\n",
              "      <th>booly_col</th>\n",
              "      <th>text</th>\n",
              "      <th>date</th>\n",
              "      <th>date_no_freq</th>\n",
              "    </tr>\n",
              "  </thead>\n",
              "  <tbody>\n",
              "    <tr>\n",
              "      <th>0</th>\n",
              "      <td>0</td>\n",
              "      <td>3.5</td>\n",
              "      <td>1.4</td>\n",
              "      <td>0.2</td>\n",
              "      <td>setosa</td>\n",
              "      <td>-0.191218</td>\n",
              "      <td>UK</td>\n",
              "      <td>False</td>\n",
              "      <td>Indeed, it was the most outrageously pompous c...</td>\n",
              "      <td>2018-01-31</td>\n",
              "      <td>2022-01-01</td>\n",
              "    </tr>\n",
              "    <tr>\n",
              "      <th>1</th>\n",
              "      <td>0</td>\n",
              "      <td>3.0</td>\n",
              "      <td>1.4</td>\n",
              "      <td>0.2</td>\n",
              "      <td>setosa</td>\n",
              "      <td>0.032460</td>\n",
              "      <td>India</td>\n",
              "      <td>True</td>\n",
              "      <td>Indeed, it was the most outrageously pompous c...</td>\n",
              "      <td>2018-02-28</td>\n",
              "      <td>2022-01-01</td>\n",
              "    </tr>\n",
              "    <tr>\n",
              "      <th>2</th>\n",
              "      <td>0</td>\n",
              "      <td>3.2</td>\n",
              "      <td>1.3</td>\n",
              "      <td>0.2</td>\n",
              "      <td>setosa</td>\n",
              "      <td>0.085772</td>\n",
              "      <td>UK</td>\n",
              "      <td>True</td>\n",
              "      <td>Indeed, it was the most outrageously pompous c...</td>\n",
              "      <td>2018-03-31</td>\n",
              "      <td>2023-03-04</td>\n",
              "    </tr>\n",
              "    <tr>\n",
              "      <th>3</th>\n",
              "      <td>1</td>\n",
              "      <td>3.1</td>\n",
              "      <td>1.5</td>\n",
              "      <td>0.2</td>\n",
              "      <td>setosa</td>\n",
              "      <td>-0.104698</td>\n",
              "      <td>NaN</td>\n",
              "      <td>True</td>\n",
              "      <td>&lt;NA&gt;</td>\n",
              "      <td>2018-04-30</td>\n",
              "      <td>NaT</td>\n",
              "    </tr>\n",
              "    <tr>\n",
              "      <th>4</th>\n",
              "      <td>1</td>\n",
              "      <td>3.6</td>\n",
              "      <td>1.4</td>\n",
              "      <td>0.2</td>\n",
              "      <td>setosa</td>\n",
              "      <td>-0.200606</td>\n",
              "      <td>Mexico</td>\n",
              "      <td>True</td>\n",
              "      <td>What weather!</td>\n",
              "      <td>2018-05-31</td>\n",
              "      <td>2023-03-04</td>\n",
              "    </tr>\n",
              "  </tbody>\n",
              "</table>\n",
              "</div>"
            ],
            "text/plain": [
              "   sepal_length  sepal_width  ...       date  date_no_freq\n",
              "0             0          3.5  ... 2018-01-31    2022-01-01\n",
              "1             0          3.0  ... 2018-02-28    2022-01-01\n",
              "2             0          3.2  ... 2018-03-31    2023-03-04\n",
              "3             1          3.1  ... 2018-04-30           NaT\n",
              "4             1          3.6  ... 2018-05-31    2023-03-04\n",
              "\n",
              "[5 rows x 11 columns]"
            ]
          },
          "metadata": {},
          "execution_count": 1
        }
      ]
    },
    {
      "cell_type": "markdown",
      "metadata": {
        "id": "Xz9R4yO4kzFO"
      },
      "source": [
        "It's also worth noting that this data has datatypes set in advance, and you'll get more informative skims from dataframes that have the datatypes set first. Here are the datatypes in this dataframe:"
      ]
    },
    {
      "cell_type": "code",
      "metadata": {
        "colab": {
          "base_uri": "https://localhost:8080/"
        },
        "id": "Yyzk4S9bk7kd",
        "outputId": "b7bd0ba0-de7c-4fde-ef90-3a7522bb207b"
      },
      "source": [
        "df.info()"
      ],
      "execution_count": 2,
      "outputs": [
        {
          "output_type": "stream",
          "name": "stdout",
          "text": [
            "<class 'pandas.core.frame.DataFrame'>\n",
            "RangeIndex: 13 entries, 0 to 12\n",
            "Data columns (total 11 columns):\n",
            " #   Column        Non-Null Count  Dtype         \n",
            "---  ------        --------------  -----         \n",
            " 0   sepal_length  13 non-null     int64         \n",
            " 1   sepal_width   12 non-null     float64       \n",
            " 2   petal_length  13 non-null     float64       \n",
            " 3   petal_width   13 non-null     float64       \n",
            " 4   class         13 non-null     category      \n",
            " 5   rand_flower   13 non-null     float64       \n",
            " 6   location      12 non-null     category      \n",
            " 7   booly_col     13 non-null     bool          \n",
            " 8   text          9 non-null      string        \n",
            " 9   date          13 non-null     datetime64[ns]\n",
            " 10  date_no_freq  12 non-null     datetime64[ns]\n",
            "dtypes: bool(1), category(2), datetime64[ns](2), float64(4), int64(1), string(1)\n",
            "memory usage: 1.3 KB\n"
          ]
        }
      ]
    },
    {
      "cell_type": "markdown",
      "metadata": {
        "id": "Hgs3OlPUlBtr"
      },
      "source": [
        "## Running skimpy\n",
        "\n",
        "Okay, we're ready to run *skim* on our dataframe!\n"
      ]
    },
    {
      "cell_type": "code",
      "metadata": {
        "colab": {
          "base_uri": "https://localhost:8080/",
          "height": 1000
        },
        "id": "OR8kFCCYlHhj",
        "outputId": "2233ff1d-ddfc-4243-f4db-97407adc2dd6"
      },
      "source": [
        "skim(df)"
      ],
      "execution_count": 3,
      "outputs": [
        {
          "output_type": "stream",
          "name": "stderr",
          "text": [
            "<string>:6: RuntimeWarning: Converting input from bool to <class 'numpy.uint8'> for compatibility.\n"
          ]
        },
        {
          "output_type": "display_data",
          "data": {
            "text/html": [
              "<pre style=\"white-space:pre;overflow-x:auto;line-height:normal;font-family:Menlo,'DejaVu Sans Mono',consolas,'Courier New',monospace\">╭───────────────────────────────────── skimpy summary ──────────────────────────────────────╮\n",
              "│ <span style=\"font-style: italic\">         Data Summary         </span>                                                            │\n",
              "│ ┏━━━━━━━━━━━━━━━━━━━┳━━━━━━━━┓                                                            │\n",
              "│ ┃<span style=\"color: #008080; text-decoration-color: #008080; font-weight: bold\"> dataframe         </span>┃<span style=\"color: #008080; text-decoration-color: #008080; font-weight: bold\"> Values </span>┃                                                            │\n",
              "│ ┡━━━━━━━━━━━━━━━━━━━╇━━━━━━━━┩                                                            │\n",
              "│ │ Number of rows    │ 13     │                                                            │\n",
              "│ │ Number of columns │ 11     │                                                            │\n",
              "│ └───────────────────┴────────┘                                                            │\n",
              "│ <span style=\"font-style: italic\">      Data Types       </span>                                                                   │\n",
              "│ ┏━━━━━━━━━━━━━┳━━━━━━━┓                                                                   │\n",
              "│ ┃<span style=\"color: #008080; text-decoration-color: #008080; font-weight: bold\"> Column Type </span>┃<span style=\"color: #008080; text-decoration-color: #008080; font-weight: bold\"> Count </span>┃                                                                   │\n",
              "│ ┡━━━━━━━━━━━━━╇━━━━━━━┩                                                                   │\n",
              "│ │ float64     │ 4     │                                                                   │\n",
              "│ │ category    │ 2     │                                                                   │\n",
              "│ │ datetime64  │ 2     │                                                                   │\n",
              "│ │ int64       │ 1     │                                                                   │\n",
              "│ │ bool        │ 1     │                                                                   │\n",
              "│ │ string      │ 1     │                                                                   │\n",
              "│ └─────────────┴───────┘                                                                   │\n",
              "│ ┏━━━━━━━━━━━━━━━━━━━━━━━┓                                                                 │\n",
              "│ ┃<span style=\"font-weight: bold\"> </span><span style=\"color: #008080; text-decoration-color: #008080; font-weight: bold\">Categorical Variables</span><span style=\"font-weight: bold\"> </span>┃                                                                 │\n",
              "│ ┡━━━━━━━━━━━━━━━━━━━━━━━┩                                                                 │\n",
              "│ │ class                 │                                                                 │\n",
              "│ │ location              │                                                                 │\n",
              "│ └───────────────────────┘                                                                 │\n",
              "│ <span style=\"font-style: italic\">                                         number                                          </span> │\n",
              "│ ┏━━━━━━━━━━━━┳━━━━━━━━━┳━━━━━━━━━━━━┳━━━━━━━┳━━━━━━┳━━━━━━┳━━━━━━━┳━━━━━━┳━━━━━━┳━━━━━━━┓ │\n",
              "│ ┃<span style=\"font-weight: bold\">            </span>┃<span style=\"font-weight: bold\"> missing </span>┃<span style=\"font-weight: bold\"> complete   </span>┃<span style=\"font-weight: bold\"> mean  </span>┃<span style=\"font-weight: bold\"> sd   </span>┃<span style=\"font-weight: bold\"> p0   </span>┃<span style=\"font-weight: bold\"> p25   </span>┃<span style=\"font-weight: bold\"> p75  </span>┃<span style=\"font-weight: bold\"> p100 </span>┃<span style=\"font-weight: bold\"> hist  </span>┃ │\n",
              "│ ┃            ┃         ┃<span style=\"font-weight: bold\"> rate       </span>┃       ┃      ┃      ┃       ┃      ┃      ┃       ┃ │\n",
              "│ ┡━━━━━━━━━━━━╇━━━━━━━━━╇━━━━━━━━━━━━╇━━━━━━━╇━━━━━━╇━━━━━━╇━━━━━━━╇━━━━━━╇━━━━━━╇━━━━━━━┩ │\n",
              "│ │ <span style=\"color: #af87ff; text-decoration-color: #af87ff\">sepal_leng</span> │ <span style=\"color: #008080; text-decoration-color: #008080\">0      </span> │ <span style=\"color: #008080; text-decoration-color: #008080\">1.0       </span> │ <span style=\"color: #008080; text-decoration-color: #008080\">0.85 </span> │ <span style=\"color: #008080; text-decoration-color: #008080\">0.99</span> │ <span style=\"color: #008080; text-decoration-color: #008080\">0.0 </span> │ <span style=\"color: #008080; text-decoration-color: #008080\">0.0  </span> │ <span style=\"color: #008080; text-decoration-color: #008080\">1.0 </span> │ <span style=\"color: #008080; text-decoration-color: #008080\">3.0 </span> │ <span style=\"color: #008000; text-decoration-color: #008000\">█▅ ▃▁</span> │ │\n",
              "│ │ <span style=\"color: #af87ff; text-decoration-color: #af87ff\">th        </span> │         │            │       │      │      │       │      │      │       │ │\n",
              "│ │ <span style=\"color: #af87ff; text-decoration-color: #af87ff\">sepal_widt</span> │ <span style=\"color: #008080; text-decoration-color: #008080\">1      </span> │ <span style=\"color: #008080; text-decoration-color: #008080\">0.92      </span> │ <span style=\"color: #008080; text-decoration-color: #008080\">3.32 </span> │ <span style=\"color: #008080; text-decoration-color: #008080\">0.32</span> │ <span style=\"color: #008080; text-decoration-color: #008080\">2.9 </span> │ <span style=\"color: #008080; text-decoration-color: #008080\">3.08 </span> │ <span style=\"color: #008080; text-decoration-color: #008080\">3.52</span> │ <span style=\"color: #008080; text-decoration-color: #008080\">3.9 </span> │ <span style=\"color: #008000; text-decoration-color: #008000\">██▅▅▅</span> │ │\n",
              "│ │ <span style=\"color: #af87ff; text-decoration-color: #af87ff\">h         </span> │         │            │       │      │      │       │      │      │       │ │\n",
              "│ │ <span style=\"color: #af87ff; text-decoration-color: #af87ff\">petal_leng</span> │ <span style=\"color: #008080; text-decoration-color: #008080\">0      </span> │ <span style=\"color: #008080; text-decoration-color: #008080\">1.0       </span> │ <span style=\"color: #008080; text-decoration-color: #008080\">1.46 </span> │ <span style=\"color: #008080; text-decoration-color: #008080\">0.1 </span> │ <span style=\"color: #008080; text-decoration-color: #008080\">1.3 </span> │ <span style=\"color: #008080; text-decoration-color: #008080\">1.4  </span> │ <span style=\"color: #008080; text-decoration-color: #008080\">1.5 </span> │ <span style=\"color: #008080; text-decoration-color: #008080\">1.7 </span> │ <span style=\"color: #008000; text-decoration-color: #008000\">▁█▅▁▁</span> │ │\n",
              "│ │ <span style=\"color: #af87ff; text-decoration-color: #af87ff\">th        </span> │         │            │       │      │      │       │      │      │       │ │\n",
              "│ │ <span style=\"color: #af87ff; text-decoration-color: #af87ff\">petal_widt</span> │ <span style=\"color: #008080; text-decoration-color: #008080\">0      </span> │ <span style=\"color: #008080; text-decoration-color: #008080\">1.0       </span> │ <span style=\"color: #008080; text-decoration-color: #008080\">0.21 </span> │ <span style=\"color: #008080; text-decoration-color: #008080\">0.08</span> │ <span style=\"color: #008080; text-decoration-color: #008080\">0.1 </span> │ <span style=\"color: #008080; text-decoration-color: #008080\">0.2  </span> │ <span style=\"color: #008080; text-decoration-color: #008080\">0.2 </span> │ <span style=\"color: #008080; text-decoration-color: #008080\">0.4 </span> │ <span style=\"color: #008000; text-decoration-color: #008000\">▂█ ▁▁</span> │ │\n",
              "│ │ <span style=\"color: #af87ff; text-decoration-color: #af87ff\">h         </span> │         │            │       │      │      │       │      │      │       │ │\n",
              "│ │ <span style=\"color: #af87ff; text-decoration-color: #af87ff\">rand_flowe</span> │ <span style=\"color: #008080; text-decoration-color: #008080\">0      </span> │ <span style=\"color: #008080; text-decoration-color: #008080\">1.0       </span> │ <span style=\"color: #008080; text-decoration-color: #008080\">-0.05</span> │ <span style=\"color: #008080; text-decoration-color: #008080\">0.11</span> │ <span style=\"color: #008080; text-decoration-color: #008080\">-0.2</span> │ <span style=\"color: #008080; text-decoration-color: #008080\">-0.13</span> │ <span style=\"color: #008080; text-decoration-color: #008080\">0.03</span> │ <span style=\"color: #008080; text-decoration-color: #008080\">0.11</span> │ <span style=\"color: #008000; text-decoration-color: #008000\">▆▆ █▆</span> │ │\n",
              "│ │ <span style=\"color: #af87ff; text-decoration-color: #af87ff\">r         </span> │         │            │       │      │      │       │      │      │       │ │\n",
              "│ └────────────┴─────────┴────────────┴───────┴──────┴──────┴───────┴──────┴──────┴───────┘ │\n",
              "│ <span style=\"font-style: italic\">                                        category                                         </span> │\n",
              "│ ┏━━━━━━━━━━━━━━━━━┳━━━━━━━━━━━━━━━┳━━━━━━━━━━━━━━━━━━━━━━━━┳━━━━━━━━━━━━━━━┳━━━━━━━━━━━━┓ │\n",
              "│ ┃<span style=\"font-weight: bold\">                 </span>┃<span style=\"font-weight: bold\"> missing       </span>┃<span style=\"font-weight: bold\"> complete rate          </span>┃<span style=\"font-weight: bold\"> ordered       </span>┃<span style=\"font-weight: bold\"> unique     </span>┃ │\n",
              "│ ┡━━━━━━━━━━━━━━━━━╇━━━━━━━━━━━━━━━╇━━━━━━━━━━━━━━━━━━━━━━━━╇━━━━━━━━━━━━━━━╇━━━━━━━━━━━━┩ │\n",
              "│ │ <span style=\"color: #af87ff; text-decoration-color: #af87ff\">class          </span> │ <span style=\"color: #008080; text-decoration-color: #008080\">0            </span> │ <span style=\"color: #008080; text-decoration-color: #008080\">1.0                   </span> │ <span style=\"color: #00d7ff; text-decoration-color: #00d7ff\">False        </span> │ <span style=\"color: #008080; text-decoration-color: #008080\">2         </span> │ │\n",
              "│ │ <span style=\"color: #af87ff; text-decoration-color: #af87ff\">location       </span> │ <span style=\"color: #008080; text-decoration-color: #008080\">1            </span> │ <span style=\"color: #008080; text-decoration-color: #008080\">0.92                  </span> │ <span style=\"color: #00d7ff; text-decoration-color: #00d7ff\">False        </span> │ <span style=\"color: #008080; text-decoration-color: #008080\">5         </span> │ │\n",
              "│ └─────────────────┴───────────────┴────────────────────────┴───────────────┴────────────┘ │\n",
              "│ <span style=\"font-style: italic\">                                        datetime                                         </span> │\n",
              "│ ┏━━━━━━━━━━━━━━┳━━━━━━━━━┳━━━━━━━━━━━━━━━┳━━━━━━━━━━━━━━━━━┳━━━━━━━━━━━━━━━━┳━━━━━━━━━━━┓ │\n",
              "│ ┃<span style=\"font-weight: bold\">              </span>┃<span style=\"font-weight: bold\"> missing </span>┃<span style=\"font-weight: bold\"> complete rate </span>┃<span style=\"font-weight: bold\"> first           </span>┃<span style=\"font-weight: bold\"> last           </span>┃<span style=\"font-weight: bold\"> frequency </span>┃ │\n",
              "│ ┡━━━━━━━━━━━━━━╇━━━━━━━━━╇━━━━━━━━━━━━━━━╇━━━━━━━━━━━━━━━━━╇━━━━━━━━━━━━━━━━╇━━━━━━━━━━━┩ │\n",
              "│ │ <span style=\"color: #af87ff; text-decoration-color: #af87ff\">date        </span> │ <span style=\"color: #008080; text-decoration-color: #008080\">0      </span> │ <span style=\"color: #008080; text-decoration-color: #008080\">1.0          </span> │ <span style=\"color: #800000; text-decoration-color: #800000\">2018-01-31     </span> │ <span style=\"color: #800000; text-decoration-color: #800000\">2019-01-31    </span> │ <span style=\"color: #af87ff; text-decoration-color: #af87ff\">M        </span> │ │\n",
              "│ │              │         │               │ <span style=\"color: #800000; text-decoration-color: #800000\">00:00:00       </span> │ <span style=\"color: #800000; text-decoration-color: #800000\">00:00:00      </span> │           │ │\n",
              "│ │ <span style=\"color: #af87ff; text-decoration-color: #af87ff\">date_no_freq</span> │ <span style=\"color: #008080; text-decoration-color: #008080\">1      </span> │ <span style=\"color: #008080; text-decoration-color: #008080\">0.92         </span> │ <span style=\"color: #800000; text-decoration-color: #800000\">1992-01-05     </span> │ <span style=\"color: #800000; text-decoration-color: #800000\">2023-03-04    </span> │ <span style=\"color: #af87ff; text-decoration-color: #af87ff\">None     </span> │ │\n",
              "│ │              │         │               │ <span style=\"color: #800000; text-decoration-color: #800000\">00:00:00       </span> │ <span style=\"color: #800000; text-decoration-color: #800000\">00:00:00      </span> │           │ │\n",
              "│ └──────────────┴─────────┴───────────────┴─────────────────┴────────────────┴───────────┘ │\n",
              "│ <span style=\"font-style: italic\">                                         string                                          </span> │\n",
              "│ ┏━━━━━━━━━┳━━━━━━━━━━━━━┳━━━━━━━━━━━━━━━━━━━━━━┳━━━━━━━━━━━━━━━━━━━━━┳━━━━━━━━━━━━━━━━━━┓ │\n",
              "│ ┃<span style=\"font-weight: bold\">         </span>┃<span style=\"font-weight: bold\"> missing     </span>┃<span style=\"font-weight: bold\"> complete rate        </span>┃<span style=\"font-weight: bold\"> words per row       </span>┃<span style=\"font-weight: bold\"> total words      </span>┃ │\n",
              "│ ┡━━━━━━━━━╇━━━━━━━━━━━━━╇━━━━━━━━━━━━━━━━━━━━━━╇━━━━━━━━━━━━━━━━━━━━━╇━━━━━━━━━━━━━━━━━━┩ │\n",
              "│ │ <span style=\"color: #af87ff; text-decoration-color: #af87ff\">text   </span> │ <span style=\"color: #008080; text-decoration-color: #008080\">4          </span> │ <span style=\"color: #008080; text-decoration-color: #008080\">0.69                </span> │ <span style=\"color: #008080; text-decoration-color: #008080\">33.38              </span> │ <span style=\"color: #008080; text-decoration-color: #008080\">434             </span> │ │\n",
              "│ └─────────┴─────────────┴──────────────────────┴─────────────────────┴──────────────────┘ │\n",
              "│ <span style=\"font-style: italic\">                                          bool                                           </span> │\n",
              "│ ┏━━━━━━━━━━━━━━━━━━━━━━━━━━━┳━━━━━━━━━━━━━━━┳━━━━━━━━━━━━━━━━━━━━━━━━━━┳━━━━━━━━━━━━━━━━┓ │\n",
              "│ ┃<span style=\"font-weight: bold\">                           </span>┃<span style=\"font-weight: bold\"> true          </span>┃<span style=\"font-weight: bold\"> true rate                </span>┃<span style=\"font-weight: bold\"> hist           </span>┃ │\n",
              "│ ┡━━━━━━━━━━━━━━━━━━━━━━━━━━━╇━━━━━━━━━━━━━━━╇━━━━━━━━━━━━━━━━━━━━━━━━━━╇━━━━━━━━━━━━━━━━┩ │\n",
              "│ │ <span style=\"color: #af87ff; text-decoration-color: #af87ff\">booly_col                </span> │ <span style=\"color: #008080; text-decoration-color: #008080\">7            </span> │ <span style=\"color: #008080; text-decoration-color: #008080\">0.54                    </span> │ <span style=\"color: #008000; text-decoration-color: #008000\">▇   █         </span> │ │\n",
              "│ └───────────────────────────┴───────────────┴──────────────────────────┴────────────────┘ │\n",
              "╰─────────────────────────────────────────── End ───────────────────────────────────────────╯\n",
              "</pre>\n"
            ],
            "text/plain": [
              "╭───────────────────────────────────── skimpy summary ──────────────────────────────────────╮\n",
              "│ \u001b[3m         Data Summary         \u001b[0m                                                            │\n",
              "│ ┏━━━━━━━━━━━━━━━━━━━┳━━━━━━━━┓                                                            │\n",
              "│ ┃\u001b[1;36m \u001b[0m\u001b[1;36mdataframe        \u001b[0m\u001b[1;36m \u001b[0m┃\u001b[1;36m \u001b[0m\u001b[1;36mValues\u001b[0m\u001b[1;36m \u001b[0m┃                                                            │\n",
              "│ ┡━━━━━━━━━━━━━━━━━━━╇━━━━━━━━┩                                                            │\n",
              "│ │ Number of rows    │ 13     │                                                            │\n",
              "│ │ Number of columns │ 11     │                                                            │\n",
              "│ └───────────────────┴────────┘                                                            │\n",
              "│ \u001b[3m      Data Types       \u001b[0m                                                                   │\n",
              "│ ┏━━━━━━━━━━━━━┳━━━━━━━┓                                                                   │\n",
              "│ ┃\u001b[1;36m \u001b[0m\u001b[1;36mColumn Type\u001b[0m\u001b[1;36m \u001b[0m┃\u001b[1;36m \u001b[0m\u001b[1;36mCount\u001b[0m\u001b[1;36m \u001b[0m┃                                                                   │\n",
              "│ ┡━━━━━━━━━━━━━╇━━━━━━━┩                                                                   │\n",
              "│ │ float64     │ 4     │                                                                   │\n",
              "│ │ category    │ 2     │                                                                   │\n",
              "│ │ datetime64  │ 2     │                                                                   │\n",
              "│ │ int64       │ 1     │                                                                   │\n",
              "│ │ bool        │ 1     │                                                                   │\n",
              "│ │ string      │ 1     │                                                                   │\n",
              "│ └─────────────┴───────┘                                                                   │\n",
              "│ ┏━━━━━━━━━━━━━━━━━━━━━━━┓                                                                 │\n",
              "│ ┃\u001b[1m \u001b[0m\u001b[1;36mCategorical Variables\u001b[0m\u001b[1m \u001b[0m┃                                                                 │\n",
              "│ ┡━━━━━━━━━━━━━━━━━━━━━━━┩                                                                 │\n",
              "│ │ class                 │                                                                 │\n",
              "│ │ location              │                                                                 │\n",
              "│ └───────────────────────┘                                                                 │\n",
              "│ \u001b[3m                                         number                                          \u001b[0m │\n",
              "│ ┏━━━━━━━━━━━━┳━━━━━━━━━┳━━━━━━━━━━━━┳━━━━━━━┳━━━━━━┳━━━━━━┳━━━━━━━┳━━━━━━┳━━━━━━┳━━━━━━━┓ │\n",
              "│ ┃\u001b[1m \u001b[0m\u001b[1m          \u001b[0m\u001b[1m \u001b[0m┃\u001b[1m \u001b[0m\u001b[1mmissing\u001b[0m\u001b[1m \u001b[0m┃\u001b[1m \u001b[0m\u001b[1mcomplete  \u001b[0m\u001b[1m \u001b[0m┃\u001b[1m \u001b[0m\u001b[1mmean \u001b[0m\u001b[1m \u001b[0m┃\u001b[1m \u001b[0m\u001b[1msd  \u001b[0m\u001b[1m \u001b[0m┃\u001b[1m \u001b[0m\u001b[1mp0  \u001b[0m\u001b[1m \u001b[0m┃\u001b[1m \u001b[0m\u001b[1mp25  \u001b[0m\u001b[1m \u001b[0m┃\u001b[1m \u001b[0m\u001b[1mp75 \u001b[0m\u001b[1m \u001b[0m┃\u001b[1m \u001b[0m\u001b[1mp100\u001b[0m\u001b[1m \u001b[0m┃\u001b[1m \u001b[0m\u001b[1mhist \u001b[0m\u001b[1m \u001b[0m┃ │\n",
              "│ ┃            ┃         ┃\u001b[1m \u001b[0m\u001b[1mrate      \u001b[0m\u001b[1m \u001b[0m┃       ┃      ┃      ┃       ┃      ┃      ┃       ┃ │\n",
              "│ ┡━━━━━━━━━━━━╇━━━━━━━━━╇━━━━━━━━━━━━╇━━━━━━━╇━━━━━━╇━━━━━━╇━━━━━━━╇━━━━━━╇━━━━━━╇━━━━━━━┩ │\n",
              "│ │ \u001b[38;5;141msepal_leng\u001b[0m │ \u001b[36m0      \u001b[0m │ \u001b[36m1.0       \u001b[0m │ \u001b[36m0.85 \u001b[0m │ \u001b[36m0.99\u001b[0m │ \u001b[36m0.0 \u001b[0m │ \u001b[36m0.0  \u001b[0m │ \u001b[36m1.0 \u001b[0m │ \u001b[36m3.0 \u001b[0m │ \u001b[32m█▅ ▃▁\u001b[0m │ │\n",
              "│ │ \u001b[38;5;141mth        \u001b[0m │         │            │       │      │      │       │      │      │       │ │\n",
              "│ │ \u001b[38;5;141msepal_widt\u001b[0m │ \u001b[36m1      \u001b[0m │ \u001b[36m0.92      \u001b[0m │ \u001b[36m3.32 \u001b[0m │ \u001b[36m0.32\u001b[0m │ \u001b[36m2.9 \u001b[0m │ \u001b[36m3.08 \u001b[0m │ \u001b[36m3.52\u001b[0m │ \u001b[36m3.9 \u001b[0m │ \u001b[32m██▅▅▅\u001b[0m │ │\n",
              "│ │ \u001b[38;5;141mh         \u001b[0m │         │            │       │      │      │       │      │      │       │ │\n",
              "│ │ \u001b[38;5;141mpetal_leng\u001b[0m │ \u001b[36m0      \u001b[0m │ \u001b[36m1.0       \u001b[0m │ \u001b[36m1.46 \u001b[0m │ \u001b[36m0.1 \u001b[0m │ \u001b[36m1.3 \u001b[0m │ \u001b[36m1.4  \u001b[0m │ \u001b[36m1.5 \u001b[0m │ \u001b[36m1.7 \u001b[0m │ \u001b[32m▁█▅▁▁\u001b[0m │ │\n",
              "│ │ \u001b[38;5;141mth        \u001b[0m │         │            │       │      │      │       │      │      │       │ │\n",
              "│ │ \u001b[38;5;141mpetal_widt\u001b[0m │ \u001b[36m0      \u001b[0m │ \u001b[36m1.0       \u001b[0m │ \u001b[36m0.21 \u001b[0m │ \u001b[36m0.08\u001b[0m │ \u001b[36m0.1 \u001b[0m │ \u001b[36m0.2  \u001b[0m │ \u001b[36m0.2 \u001b[0m │ \u001b[36m0.4 \u001b[0m │ \u001b[32m▂█ ▁▁\u001b[0m │ │\n",
              "│ │ \u001b[38;5;141mh         \u001b[0m │         │            │       │      │      │       │      │      │       │ │\n",
              "│ │ \u001b[38;5;141mrand_flowe\u001b[0m │ \u001b[36m0      \u001b[0m │ \u001b[36m1.0       \u001b[0m │ \u001b[36m-0.05\u001b[0m │ \u001b[36m0.11\u001b[0m │ \u001b[36m-0.2\u001b[0m │ \u001b[36m-0.13\u001b[0m │ \u001b[36m0.03\u001b[0m │ \u001b[36m0.11\u001b[0m │ \u001b[32m▆▆ █▆\u001b[0m │ │\n",
              "│ │ \u001b[38;5;141mr         \u001b[0m │         │            │       │      │      │       │      │      │       │ │\n",
              "│ └────────────┴─────────┴────────────┴───────┴──────┴──────┴───────┴──────┴──────┴───────┘ │\n",
              "│ \u001b[3m                                        category                                         \u001b[0m │\n",
              "│ ┏━━━━━━━━━━━━━━━━━┳━━━━━━━━━━━━━━━┳━━━━━━━━━━━━━━━━━━━━━━━━┳━━━━━━━━━━━━━━━┳━━━━━━━━━━━━┓ │\n",
              "│ ┃\u001b[1m \u001b[0m\u001b[1m               \u001b[0m\u001b[1m \u001b[0m┃\u001b[1m \u001b[0m\u001b[1mmissing      \u001b[0m\u001b[1m \u001b[0m┃\u001b[1m \u001b[0m\u001b[1mcomplete rate         \u001b[0m\u001b[1m \u001b[0m┃\u001b[1m \u001b[0m\u001b[1mordered      \u001b[0m\u001b[1m \u001b[0m┃\u001b[1m \u001b[0m\u001b[1munique    \u001b[0m\u001b[1m \u001b[0m┃ │\n",
              "│ ┡━━━━━━━━━━━━━━━━━╇━━━━━━━━━━━━━━━╇━━━━━━━━━━━━━━━━━━━━━━━━╇━━━━━━━━━━━━━━━╇━━━━━━━━━━━━┩ │\n",
              "│ │ \u001b[38;5;141mclass          \u001b[0m │ \u001b[36m0            \u001b[0m │ \u001b[36m1.0                   \u001b[0m │ \u001b[38;5;45mFalse        \u001b[0m │ \u001b[36m2         \u001b[0m │ │\n",
              "│ │ \u001b[38;5;141mlocation       \u001b[0m │ \u001b[36m1            \u001b[0m │ \u001b[36m0.92                  \u001b[0m │ \u001b[38;5;45mFalse        \u001b[0m │ \u001b[36m5         \u001b[0m │ │\n",
              "│ └─────────────────┴───────────────┴────────────────────────┴───────────────┴────────────┘ │\n",
              "│ \u001b[3m                                        datetime                                         \u001b[0m │\n",
              "│ ┏━━━━━━━━━━━━━━┳━━━━━━━━━┳━━━━━━━━━━━━━━━┳━━━━━━━━━━━━━━━━━┳━━━━━━━━━━━━━━━━┳━━━━━━━━━━━┓ │\n",
              "│ ┃\u001b[1m \u001b[0m\u001b[1m            \u001b[0m\u001b[1m \u001b[0m┃\u001b[1m \u001b[0m\u001b[1mmissing\u001b[0m\u001b[1m \u001b[0m┃\u001b[1m \u001b[0m\u001b[1mcomplete rate\u001b[0m\u001b[1m \u001b[0m┃\u001b[1m \u001b[0m\u001b[1mfirst          \u001b[0m\u001b[1m \u001b[0m┃\u001b[1m \u001b[0m\u001b[1mlast          \u001b[0m\u001b[1m \u001b[0m┃\u001b[1m \u001b[0m\u001b[1mfrequency\u001b[0m\u001b[1m \u001b[0m┃ │\n",
              "│ ┡━━━━━━━━━━━━━━╇━━━━━━━━━╇━━━━━━━━━━━━━━━╇━━━━━━━━━━━━━━━━━╇━━━━━━━━━━━━━━━━╇━━━━━━━━━━━┩ │\n",
              "│ │ \u001b[38;5;141mdate        \u001b[0m │ \u001b[36m0      \u001b[0m │ \u001b[36m1.0          \u001b[0m │ \u001b[31m2018-01-31     \u001b[0m │ \u001b[31m2019-01-31    \u001b[0m │ \u001b[38;5;141mM        \u001b[0m │ │\n",
              "│ │              │         │               │ \u001b[31m00:00:00       \u001b[0m │ \u001b[31m00:00:00      \u001b[0m │           │ │\n",
              "│ │ \u001b[38;5;141mdate_no_freq\u001b[0m │ \u001b[36m1      \u001b[0m │ \u001b[36m0.92         \u001b[0m │ \u001b[31m1992-01-05     \u001b[0m │ \u001b[31m2023-03-04    \u001b[0m │ \u001b[38;5;141mNone     \u001b[0m │ │\n",
              "│ │              │         │               │ \u001b[31m00:00:00       \u001b[0m │ \u001b[31m00:00:00      \u001b[0m │           │ │\n",
              "│ └──────────────┴─────────┴───────────────┴─────────────────┴────────────────┴───────────┘ │\n",
              "│ \u001b[3m                                         string                                          \u001b[0m │\n",
              "│ ┏━━━━━━━━━┳━━━━━━━━━━━━━┳━━━━━━━━━━━━━━━━━━━━━━┳━━━━━━━━━━━━━━━━━━━━━┳━━━━━━━━━━━━━━━━━━┓ │\n",
              "│ ┃\u001b[1m \u001b[0m\u001b[1m       \u001b[0m\u001b[1m \u001b[0m┃\u001b[1m \u001b[0m\u001b[1mmissing    \u001b[0m\u001b[1m \u001b[0m┃\u001b[1m \u001b[0m\u001b[1mcomplete rate       \u001b[0m\u001b[1m \u001b[0m┃\u001b[1m \u001b[0m\u001b[1mwords per row      \u001b[0m\u001b[1m \u001b[0m┃\u001b[1m \u001b[0m\u001b[1mtotal words     \u001b[0m\u001b[1m \u001b[0m┃ │\n",
              "│ ┡━━━━━━━━━╇━━━━━━━━━━━━━╇━━━━━━━━━━━━━━━━━━━━━━╇━━━━━━━━━━━━━━━━━━━━━╇━━━━━━━━━━━━━━━━━━┩ │\n",
              "│ │ \u001b[38;5;141mtext   \u001b[0m │ \u001b[36m4          \u001b[0m │ \u001b[36m0.69                \u001b[0m │ \u001b[36m33.38              \u001b[0m │ \u001b[36m434             \u001b[0m │ │\n",
              "│ └─────────┴─────────────┴──────────────────────┴─────────────────────┴──────────────────┘ │\n",
              "│ \u001b[3m                                          bool                                           \u001b[0m │\n",
              "│ ┏━━━━━━━━━━━━━━━━━━━━━━━━━━━┳━━━━━━━━━━━━━━━┳━━━━━━━━━━━━━━━━━━━━━━━━━━┳━━━━━━━━━━━━━━━━┓ │\n",
              "│ ┃\u001b[1m \u001b[0m\u001b[1m                         \u001b[0m\u001b[1m \u001b[0m┃\u001b[1m \u001b[0m\u001b[1mtrue         \u001b[0m\u001b[1m \u001b[0m┃\u001b[1m \u001b[0m\u001b[1mtrue rate               \u001b[0m\u001b[1m \u001b[0m┃\u001b[1m \u001b[0m\u001b[1mhist          \u001b[0m\u001b[1m \u001b[0m┃ │\n",
              "│ ┡━━━━━━━━━━━━━━━━━━━━━━━━━━━╇━━━━━━━━━━━━━━━╇━━━━━━━━━━━━━━━━━━━━━━━━━━╇━━━━━━━━━━━━━━━━┩ │\n",
              "│ │ \u001b[38;5;141mbooly_col                \u001b[0m │ \u001b[36m7            \u001b[0m │ \u001b[36m0.54                    \u001b[0m │ \u001b[32m▇   █         \u001b[0m │ │\n",
              "│ └───────────────────────────┴───────────────┴──────────────────────────┴────────────────┘ │\n",
              "╰─────────────────────────────────────────── End ───────────────────────────────────────────╯\n"
            ]
          },
          "metadata": {}
        }
      ]
    }
  ]
}