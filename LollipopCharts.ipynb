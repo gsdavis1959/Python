{
  "nbformat": 4,
  "nbformat_minor": 0,
  "metadata": {
    "colab": {
      "name": "LollipopCharts",
      "provenance": [],
      "collapsed_sections": []
    },
    "kernelspec": {
      "name": "python3",
      "display_name": "Python 3"
    },
    "language_info": {
      "name": "python"
    }
  },
  "cells": [
    {
      "cell_type": "code",
      "metadata": {
        "id": "nv0aSUTkQYnC"
      },
      "source": [
        "# libraries\n",
        "import numpy as np\n",
        "import pandas as pd\n",
        "import matplotlib.pyplot as plt"
      ],
      "execution_count": 1,
      "outputs": []
    },
    {
      "cell_type": "code",
      "metadata": {
        "id": "7e_kSXXXQhtO"
      },
      "source": [
        "# Create a dataframe\n",
        "value1=np.random.uniform(size=20)\n",
        "value2=value1+np.random.uniform(size=20)/4\n",
        "df = pd.DataFrame({'group':list(map(chr, range(65, 85))), 'value1':value1 , 'value2':value2 })\n",
        " \n",
        "# Reorder it following the values of the first value:\n",
        "ordered_df = df.sort_values(by='value1')\n",
        "my_range=range(1,len(df.index)+1)"
      ],
      "execution_count": 2,
      "outputs": []
    },
    {
      "cell_type": "code",
      "metadata": {
        "colab": {
          "base_uri": "https://localhost:8080/",
          "height": 295
        },
        "id": "u8-3okvkQmzo",
        "outputId": "4dfb689f-e204-45f3-b710-f59fae8c25f7"
      },
      "source": [
        "# The horizontal plot is made using the hline function\n",
        "plt.hlines(y=my_range, xmin=ordered_df['value1'], xmax=ordered_df['value2'], color='grey', alpha=0.4)\n",
        "plt.scatter(ordered_df['value1'], my_range, color='skyblue', alpha=1, label='value1')\n",
        "plt.scatter(ordered_df['value2'], my_range, color='green', alpha=0.4 , label='value2')\n",
        "plt.legend()\n",
        " \n",
        "# Add title and axis names\n",
        "plt.yticks(my_range, ordered_df['group'])\n",
        "plt.title(\"Comparison of the value 1 and the value 2\", loc='left')\n",
        "plt.xlabel('Value of the variables')\n",
        "plt.ylabel('Group')\n",
        "\n",
        "# Show the graph\n",
        "plt.show()"
      ],
      "execution_count": 3,
      "outputs": [
        {
          "output_type": "display_data",
          "data": {
            "image/png": "[encoded data removed]",
            "text/plain": [
              "<Figure size 432x288 with 1 Axes>"
            ]
          },
          "metadata": {
            "needs_background": "light"
          }
        }
      ]
    }
  ]
}