{
  "nbformat": 4,
  "nbformat_minor": 0,
  "metadata": {
    "colab": {
      "provenance": [],
      "collapsed_sections": []
    },
    "kernelspec": {
      "name": "python3",
      "display_name": "Python 3"
    },
    "language_info": {
      "name": "python"
    }
  },
  "cells": [
    {
      "cell_type": "code",
      "execution_count": 1,
      "metadata": {
        "colab": {
          "base_uri": "https://localhost:8080/"
        },
        "id": "hqXTm3M-oee-",
        "outputId": "324613cd-bbd6-488f-ca5e-2dda67829766"
      },
      "outputs": [
        {
          "output_type": "stream",
          "name": "stdout",
          "text": [
            "Looking in indexes: https://pypi.org/simple, https://us-python.pkg.dev/colab-wheels/public/simple/\n",
            "Collecting d3blocks\n",
            "  Downloading d3blocks-1.0.6-py3-none-any.whl (564 kB)\n",
            "\u001b[K     |████████████████████████████████| 564 kB 5.3 MB/s \n",
            "\u001b[?25hCollecting d3heatmap\n",
            "  Downloading d3heatmap-0.2.1-py3-none-any.whl (240 kB)\n",
            "\u001b[K     |████████████████████████████████| 240 kB 54.0 MB/s \n",
            "\u001b[?25hRequirement already satisfied: jinja2 in /usr/local/lib/python3.7/dist-packages (from d3blocks) (2.11.3)\n",
            "Collecting d3graph\n",
            "  Downloading d3graph-2.3.1-py3-none-any.whl (98 kB)\n",
            "\u001b[K     |████████████████████████████████| 98 kB 7.7 MB/s \n",
            "\u001b[?25hCollecting colourmap\n",
            "  Downloading colourmap-1.1.7-py3-none-any.whl (7.3 kB)\n",
            "Requirement already satisfied: tqdm in /usr/local/lib/python3.7/dist-packages (from d3blocks) (4.64.1)\n",
            "Requirement already satisfied: numpy in /usr/local/lib/python3.7/dist-packages (from d3blocks) (1.21.6)\n",
            "Requirement already satisfied: pandas in /usr/local/lib/python3.7/dist-packages (from d3blocks) (1.3.5)\n",
            "Requirement already satisfied: requests in /usr/local/lib/python3.7/dist-packages (from d3blocks) (2.23.0)\n",
            "Requirement already satisfied: matplotlib in /usr/local/lib/python3.7/dist-packages (from colourmap->d3blocks) (3.2.2)\n",
            "Requirement already satisfied: networkx>2 in /usr/local/lib/python3.7/dist-packages (from d3graph->d3blocks) (2.6.3)\n",
            "Requirement already satisfied: markupsafe==2.0.1 in /usr/local/lib/python3.7/dist-packages (from d3graph->d3blocks) (2.0.1)\n",
            "Requirement already satisfied: python-louvain in /usr/local/lib/python3.7/dist-packages (from d3graph->d3blocks) (0.16)\n",
            "Requirement already satisfied: packaging in /usr/local/lib/python3.7/dist-packages (from d3graph->d3blocks) (21.3)\n",
            "Collecting sklearn\n",
            "  Downloading sklearn-0.0.tar.gz (1.1 kB)\n",
            "Collecting ismember\n",
            "  Downloading ismember-1.0.1-py3-none-any.whl (7.4 kB)\n",
            "Collecting clusteval\n",
            "  Downloading clusteval-2.1.3-py3-none-any.whl (32 kB)\n",
            "Requirement already satisfied: seaborn in /usr/local/lib/python3.7/dist-packages (from clusteval->d3heatmap->d3blocks) (0.11.2)\n",
            "Collecting pypickle\n",
            "  Downloading pypickle-1.1.0-py3-none-any.whl (5.1 kB)\n",
            "Collecting wget\n",
            "  Downloading wget-3.2.zip (10 kB)\n",
            "Requirement already satisfied: cycler>=0.10 in /usr/local/lib/python3.7/dist-packages (from matplotlib->colourmap->d3blocks) (0.11.0)\n",
            "Requirement already satisfied: python-dateutil>=2.1 in /usr/local/lib/python3.7/dist-packages (from matplotlib->colourmap->d3blocks) (2.8.2)\n",
            "Requirement already satisfied: kiwisolver>=1.0.1 in /usr/local/lib/python3.7/dist-packages (from matplotlib->colourmap->d3blocks) (1.4.4)\n",
            "Requirement already satisfied: pyparsing!=2.0.4,!=2.1.2,!=2.1.6,>=2.0.1 in /usr/local/lib/python3.7/dist-packages (from matplotlib->colourmap->d3blocks) (3.0.9)\n",
            "Requirement already satisfied: typing-extensions in /usr/local/lib/python3.7/dist-packages (from kiwisolver>=1.0.1->matplotlib->colourmap->d3blocks) (4.1.1)\n",
            "Requirement already satisfied: six>=1.5 in /usr/local/lib/python3.7/dist-packages (from python-dateutil>=2.1->matplotlib->colourmap->d3blocks) (1.15.0)\n",
            "Requirement already satisfied: pytz>=2017.3 in /usr/local/lib/python3.7/dist-packages (from pandas->d3blocks) (2022.2.1)\n",
            "Requirement already satisfied: certifi>=2017.4.17 in /usr/local/lib/python3.7/dist-packages (from requests->d3blocks) (2022.6.15)\n",
            "Requirement already satisfied: chardet<4,>=3.0.2 in /usr/local/lib/python3.7/dist-packages (from requests->d3blocks) (3.0.4)\n",
            "Requirement already satisfied: idna<3,>=2.5 in /usr/local/lib/python3.7/dist-packages (from requests->d3blocks) (2.10)\n",
            "Requirement already satisfied: urllib3!=1.25.0,!=1.25.1,<1.26,>=1.21.1 in /usr/local/lib/python3.7/dist-packages (from requests->d3blocks) (1.24.3)\n",
            "Requirement already satisfied: scipy>=1.0 in /usr/local/lib/python3.7/dist-packages (from seaborn->clusteval->d3heatmap->d3blocks) (1.7.3)\n",
            "Requirement already satisfied: scikit-learn in /usr/local/lib/python3.7/dist-packages (from sklearn->d3graph->d3blocks) (1.0.2)\n",
            "Requirement already satisfied: joblib>=0.11 in /usr/local/lib/python3.7/dist-packages (from scikit-learn->sklearn->d3graph->d3blocks) (1.1.0)\n",
            "Requirement already satisfied: threadpoolctl>=2.0.0 in /usr/local/lib/python3.7/dist-packages (from scikit-learn->sklearn->d3graph->d3blocks) (3.1.0)\n",
            "Building wheels for collected packages: sklearn, wget\n",
            "  Building wheel for sklearn (setup.py) ... \u001b[?25l\u001b[?25hdone\n",
            "  Created wheel for sklearn: filename=sklearn-0.0-py2.py3-none-any.whl size=1310 sha256=102349a8a28639f0151a65756ef5bc8b4a14171302ba3637fcb48f50906ef2ab\n",
            "  Stored in directory: /root/.cache/pip/wheels/46/ef/c3/157e41f5ee1372d1be90b09f74f82b10e391eaacca8f22d33e\n",
            "  Building wheel for wget (setup.py) ... \u001b[?25l\u001b[?25hdone\n",
            "  Created wheel for wget: filename=wget-3.2-py3-none-any.whl size=9675 sha256=84a671a4097745495d856a7856653c333a647cb2eb86f3b76c57d323c4f332a0\n",
            "  Stored in directory: /root/.cache/pip/wheels/a1/b6/7c/0e63e34eb06634181c63adacca38b79ff8f35c37e3c13e3c02\n",
            "Successfully built sklearn wget\n",
            "Installing collected packages: wget, sklearn, pypickle, ismember, colourmap, clusteval, d3heatmap, d3graph, d3blocks\n",
            "Successfully installed clusteval-2.1.3 colourmap-1.1.7 d3blocks-1.0.6 d3graph-2.3.1 d3heatmap-0.2.1 ismember-1.0.1 pypickle-1.1.0 sklearn-0.0 wget-3.2\n"
          ]
        }
      ],
      "source": [
        "!pip install d3blocks"
      ]
    },
    {
      "cell_type": "code",
      "source": [
        "from d3blocks import D3Blocks\n",
        "\n",
        "# Initialize\n",
        "d3 = D3Blocks()\n",
        "\n",
        "# Import example\n",
        "df = d3.import_example('energy')\n",
        "\n",
        "# Show the input data\n",
        "print(df)"
      ],
      "metadata": {
        "colab": {
          "base_uri": "https://localhost:8080/"
        },
        "id": "8aOTCZ_-oqhq",
        "outputId": "b7a0ee40-98ec-495b-aa80-c037a7ea7fcf"
      },
      "execution_count": 2,
      "outputs": [
        {
          "output_type": "stream",
          "name": "stderr",
          "text": [
            "[d3blocks] >INFO> Downloading [energy] dataset from github source..\n",
            "[d3blocks] >INFO> Extracting files..\n",
            "[d3blocks] >INFO> Import dataset: [energy]\n"
          ]
        },
        {
          "output_type": "stream",
          "name": "stdout",
          "text": [
            "                     source            target   weight\n",
            "0      Agricultural 'waste'    Bio-conversion  124.729\n",
            "1            Bio-conversion            Liquid    0.597\n",
            "2            Bio-conversion            Losses   26.862\n",
            "3            Bio-conversion             Solid  280.322\n",
            "4            Bio-conversion               Gas   81.144\n",
            "..                      ...               ...      ...\n",
            "63       Thermal generation  District heating   79.329\n",
            "64                    Tidal  Electricity grid    9.452\n",
            "65  UK land based bioenergy    Bio-conversion  182.010\n",
            "66                     Wave  Electricity grid   19.013\n",
            "67                     Wind  Electricity grid  289.366\n",
            "\n",
            "[68 rows x 3 columns]\n"
          ]
        }
      ]
    },
    {
      "cell_type": "code",
      "source": [
        "# Initialize Network chart but do not yet show the chart.\n",
        "d3.d3graph(df, showfig=False)\n",
        "\n",
        "# Color node on clustering\n",
        "d3.D3graph.set_node_properties(color='cluster')\n",
        "\n",
        "# Make adjustments to the node: Thermal_generation\n",
        "d3.D3graph.node_properties['Thermal_generation']['size']=20\n",
        "d3.D3graph.node_properties['Thermal_generation']['edge_color']='#000fff' # Blue node edge\n",
        "d3.D3graph.node_properties['Thermal_generation']['edge_size']=3 # Node-edge Size\n",
        "\n",
        "# Make adjustments to the edge: 'Solar', 'Solar_Thermal'\n",
        "d3.D3graph.edge_properties['Solar', 'Solar_Thermal']['color']='#000fff'\n",
        "d3.D3graph.edge_properties['Solar', 'Solar_Thermal']['weight_scaled']=10\n",
        "\n",
        "# Show the network graph\n",
        "d3.D3graph.show()"
      ],
      "metadata": {
        "colab": {
          "base_uri": "https://localhost:8080/"
        },
        "id": "KoTtv-dNotna",
        "outputId": "99b191df-2584-42cb-ea94-b25a048b7d53"
      },
      "execution_count": 3,
      "outputs": [
        {
          "output_type": "stream",
          "name": "stderr",
          "text": [
            "[d3blocks] >INFO> Create directory: [/tmp/d3blocks]\n",
            "[d3blocks] >INFO> Set directed=True to see the markers!\n",
            "[d3blocks] >INFO> Keep only edges with weight>0\n",
            "[d3blocks] >INFO> Number of unique nodes: 48\n",
            "[d3blocks] >INFO> Slider range is set to [0, 840]\n",
            "[d3blocks] >INFO> Write to path: [/tmp/tmptsqz20_n/d3graph.html]\n",
            "[d3blocks] >INFO> Number of unique nodes: 48\n",
            "[d3blocks] >INFO> Slider range is set to [0, 840]\n",
            "[d3blocks] >INFO> Write to path: [/tmp/tmpz6j0oywb/d3graph.html]\n"
          ]
        },
        {
          "output_type": "execute_result",
          "data": {
            "text/plain": [
              "<networkx.classes.digraph.DiGraph at 0x7f8aeef9a350>"
            ]
          },
          "metadata": {},
          "execution_count": 3
        }
      ]
    },
    {
      "cell_type": "code",
      "source": [
        "# sankey\n",
        "from d3blocks import D3Blocks\n",
        "\n",
        "# Initialize\n",
        "d3 = D3Blocks()\n",
        "\n",
        "# Import example\n",
        "df = d3.import_example('energy')\n",
        "\n",
        "# Link settings\n",
        "d3.sankey(df, link={\"color\": \"source-target\"})\n"
      ],
      "metadata": {
        "colab": {
          "base_uri": "https://localhost:8080/",
          "height": 305
        },
        "id": "ogak0oQcpcbr",
        "outputId": "4c6d3034-2290-4fde-fbd5-808e8ef35e47"
      },
      "execution_count": 5,
      "outputs": [
        {
          "output_type": "stream",
          "name": "stderr",
          "text": [
            "[d3blocks] >INFO> Extracting files..\n",
            "[d3blocks] >INFO> Import dataset: [energy]\n",
            "[d3blocks] >INFO> Create label properties based on [Set1].\n",
            "[d3blocks] >INFO> Labels are set\n"
          ]
        },
        {
          "output_type": "stream",
          "name": "stdout",
          "text": [
            "[colourmap]> Warning: Colormap [Set1] can not create [48] unique colors! Available unique colors: [9].\n",
            "File already exists and will be overwritten: [/tmp/d3blocks/sankey.html]\n"
          ]
        },
        {
          "output_type": "error",
          "ename": "AttributeError",
          "evalue": "ignored",
          "traceback": [
            "\u001b[0;31m---------------------------------------------------------------------------\u001b[0m",
            "\u001b[0;31mAttributeError\u001b[0m                            Traceback (most recent call last)",
            "\u001b[0;32m<ipython-input-5-da3b5b9c1c0b>\u001b[0m in \u001b[0;36m<module>\u001b[0;34m\u001b[0m\n\u001b[1;32m      9\u001b[0m \u001b[0;31m# Link settings\u001b[0m\u001b[0;34m\u001b[0m\u001b[0;34m\u001b[0m\u001b[0;34m\u001b[0m\u001b[0m\n\u001b[1;32m     10\u001b[0m \u001b[0md3\u001b[0m\u001b[0;34m.\u001b[0m\u001b[0msankey\u001b[0m\u001b[0;34m(\u001b[0m\u001b[0mdf\u001b[0m\u001b[0;34m,\u001b[0m \u001b[0mlink\u001b[0m\u001b[0;34m=\u001b[0m\u001b[0;34m{\u001b[0m\u001b[0;34m\"color\"\u001b[0m\u001b[0;34m:\u001b[0m \u001b[0;34m\"source-target\"\u001b[0m\u001b[0;34m}\u001b[0m\u001b[0;34m)\u001b[0m\u001b[0;34m\u001b[0m\u001b[0;34m\u001b[0m\u001b[0m\n\u001b[0;32m---> 11\u001b[0;31m \u001b[0md3\u001b[0m\u001b[0;34m.\u001b[0m\u001b[0msankey\u001b[0m\u001b[0;34m.\u001b[0m\u001b[0mshow\u001b[0m\u001b[0;34m(\u001b[0m\u001b[0;34m)\u001b[0m\u001b[0;34m\u001b[0m\u001b[0;34m\u001b[0m\u001b[0m\n\u001b[0m",
            "\u001b[0;31mAttributeError\u001b[0m: 'function' object has no attribute 'show'"
          ]
        }
      ]
    },
    {
      "cell_type": "code",
      "source": [
        "# chord\n",
        "from d3blocks import D3Blocks\n",
        "\n",
        "# Initialize\n",
        "d3 = D3Blocks()\n",
        "\n",
        "# Import example\n",
        "df = d3.import_example('energy')\n",
        "\n",
        "# Link settings\n",
        "d3.chord(df, filepath='chord_demo.html')"
      ],
      "metadata": {
        "colab": {
          "base_uri": "https://localhost:8080/"
        },
        "id": "0XXXcavtqXRX",
        "outputId": "36079ee5-e234-4312-a9b4-1c7ae33c20dd"
      },
      "execution_count": 6,
      "outputs": [
        {
          "output_type": "stream",
          "name": "stderr",
          "text": [
            "[d3blocks] >INFO> Extracting files..\n",
            "[d3blocks] >INFO> Import dataset: [energy]\n",
            "[d3blocks] >INFO> Create label properties based on [Set1].\n",
            "[d3blocks] >INFO> Labels are set\n"
          ]
        },
        {
          "output_type": "stream",
          "name": "stdout",
          "text": [
            "[colourmap]> Warning: Colormap [Set1] can not create [48] unique colors! Available unique colors: [9].\n"
          ]
        }
      ]
    },
    {
      "cell_type": "code",
      "source": [
        "# heatmap\n",
        "from d3blocks import D3Blocks\n",
        "\n",
        "# Initialize\n",
        "d3 = D3Blocks()\n",
        "\n",
        "# Import example\n",
        "df = d3.import_example('energy')\n",
        "\n",
        "# Create the heatmap\n",
        "d3.heatmap(df, showfig=True, stroke='red', vmax=10, figsize=(700,700))"
      ],
      "metadata": {
        "colab": {
          "base_uri": "https://localhost:8080/"
        },
        "id": "sBpn0R41pkTM",
        "outputId": "19e5809c-5d40-476f-a082-b47fb6983d22"
      },
      "execution_count": 7,
      "outputs": [
        {
          "output_type": "stream",
          "name": "stderr",
          "text": [
            "[d3blocks] >INFO> Extracting files..\n",
            "[d3blocks] >INFO> Import dataset: [energy]\n"
          ]
        },
        {
          "output_type": "stream",
          "name": "stdout",
          "text": [
            "[d3heatmap] >Scaling image between [min-100]\n",
            "\n",
            "[clusteval] >Fit using agglomerative with metric: euclidean, and linkage: ward\n",
            "[clusteval] >Evaluate using silhouette.\n"
          ]
        },
        {
          "output_type": "stream",
          "name": "stderr",
          "text": [
            "100%|██████████| 23/23 [00:00<00:00, 670.03it/s]"
          ]
        },
        {
          "output_type": "stream",
          "name": "stdout",
          "text": [
            "[clusteval] >Compute dendrogram threshold.\n",
            "[clusteval] >Optimal number clusters detected: [2].\n",
            "[clusteval] >Fin.\n"
          ]
        },
        {
          "output_type": "stream",
          "name": "stderr",
          "text": [
            "\n"
          ]
        }
      ]
    },
    {
      "cell_type": "code",
      "source": [
        "# Import library.\n",
        "from d3blocks import D3Blocks\n",
        "\n",
        "# Initialize and set the datetime format\n",
        "d3 = D3Blocks(dt_format='%Y-%m-%d %H:%M:%S')\n",
        "\n",
        "# Import climate dataset\n",
        "df = d3.import_example('climate')\n",
        "\n",
        "# Print\n",
        "df.head()"
      ],
      "metadata": {
        "colab": {
          "base_uri": "https://localhost:8080/",
          "height": 258
        },
        "id": "wtRZCNxqrOLc",
        "outputId": "7e6075b2-9e52-45ea-d49a-37a0c10cc6a6"
      },
      "execution_count": 8,
      "outputs": [
        {
          "output_type": "stream",
          "name": "stderr",
          "text": [
            "[d3blocks] >INFO> Downloading [climate] dataset from github source..\n",
            "[d3blocks] >INFO> Extracting files..\n",
            "[d3blocks] >INFO> Import dataset: [climate]\n"
          ]
        },
        {
          "output_type": "execute_result",
          "data": {
            "text/plain": [
              "         date   meantemp   humidity  wind_speed  meanpressure\n",
              "0  2017-01-01  15.913043  85.869565    2.743478     59.000000\n",
              "1  2017-01-02  18.500000  77.222222    2.894444   1018.277778\n",
              "2  2017-01-03  17.111111  81.888889    4.016667   1018.333333\n",
              "3  2017-01-04  18.700000  70.050000    4.545000   1015.700000\n",
              "4  2017-01-05  18.388889  74.944444    3.300000   1014.333333"
            ],
            "text/html": [
              "\n",
              "  <div id=\"df-48519fb9-08c7-40c7-ad26-779b34b5c8cd\">\n",
              "    <div class=\"colab-df-container\">\n",
              "      <div>\n",
              "<style scoped>\n",
              "    .dataframe tbody tr th:only-of-type {\n",
              "        vertical-align: middle;\n",
              "    }\n",
              "\n",
              "    .dataframe tbody tr th {\n",
              "        vertical-align: top;\n",
              "    }\n",
              "\n",
              "    .dataframe thead th {\n",
              "        text-align: right;\n",
              "    }\n",
              "</style>\n",
              "<table border=\"1\" class=\"dataframe\">\n",
              "  <thead>\n",
              "    <tr style=\"text-align: right;\">\n",
              "      <th></th>\n",
              "      <th>date</th>\n",
              "      <th>meantemp</th>\n",
              "      <th>humidity</th>\n",
              "      <th>wind_speed</th>\n",
              "      <th>meanpressure</th>\n",
              "    </tr>\n",
              "  </thead>\n",
              "  <tbody>\n",
              "    <tr>\n",
              "      <th>0</th>\n",
              "      <td>2017-01-01</td>\n",
              "      <td>15.913043</td>\n",
              "      <td>85.869565</td>\n",
              "      <td>2.743478</td>\n",
              "      <td>59.000000</td>\n",
              "    </tr>\n",
              "    <tr>\n",
              "      <th>1</th>\n",
              "      <td>2017-01-02</td>\n",
              "      <td>18.500000</td>\n",
              "      <td>77.222222</td>\n",
              "      <td>2.894444</td>\n",
              "      <td>1018.277778</td>\n",
              "    </tr>\n",
              "    <tr>\n",
              "      <th>2</th>\n",
              "      <td>2017-01-03</td>\n",
              "      <td>17.111111</td>\n",
              "      <td>81.888889</td>\n",
              "      <td>4.016667</td>\n",
              "      <td>1018.333333</td>\n",
              "    </tr>\n",
              "    <tr>\n",
              "      <th>3</th>\n",
              "      <td>2017-01-04</td>\n",
              "      <td>18.700000</td>\n",
              "      <td>70.050000</td>\n",
              "      <td>4.545000</td>\n",
              "      <td>1015.700000</td>\n",
              "    </tr>\n",
              "    <tr>\n",
              "      <th>4</th>\n",
              "      <td>2017-01-05</td>\n",
              "      <td>18.388889</td>\n",
              "      <td>74.944444</td>\n",
              "      <td>3.300000</td>\n",
              "      <td>1014.333333</td>\n",
              "    </tr>\n",
              "  </tbody>\n",
              "</table>\n",
              "</div>\n",
              "      <button class=\"colab-df-convert\" onclick=\"convertToInteractive('df-48519fb9-08c7-40c7-ad26-779b34b5c8cd')\"\n",
              "              title=\"Convert this dataframe to an interactive table.\"\n",
              "              style=\"display:none;\">\n",
              "        \n",
              "  <svg xmlns=\"http://www.w3.org/2000/svg\" height=\"24px\"viewBox=\"0 0 24 24\"\n",
              "       width=\"24px\">\n",
              "    <path d=\"M0 0h24v24H0V0z\" fill=\"none\"/>\n",
              "    <path d=\"M18.56 5.44l.94 2.06.94-2.06 2.06-.94-2.06-.94-.94-2.06-.94 2.06-2.06.94zm-11 1L8.5 8.5l.94-2.06 2.06-.94-2.06-.94L8.5 2.5l-.94 2.06-2.06.94zm10 10l.94 2.06.94-2.06 2.06-.94-2.06-.94-.94-2.06-.94 2.06-2.06.94z\"/><path d=\"M17.41 7.96l-1.37-1.37c-.4-.4-.92-.59-1.43-.59-.52 0-1.04.2-1.43.59L10.3 9.45l-7.72 7.72c-.78.78-.78 2.05 0 2.83L4 21.41c.39.39.9.59 1.41.59.51 0 1.02-.2 1.41-.59l7.78-7.78 2.81-2.81c.8-.78.8-2.07 0-2.86zM5.41 20L4 18.59l7.72-7.72 1.47 1.35L5.41 20z\"/>\n",
              "  </svg>\n",
              "      </button>\n",
              "      \n",
              "  <style>\n",
              "    .colab-df-container {\n",
              "      display:flex;\n",
              "      flex-wrap:wrap;\n",
              "      gap: 12px;\n",
              "    }\n",
              "\n",
              "    .colab-df-convert {\n",
              "      background-color: #E8F0FE;\n",
              "      border: none;\n",
              "      border-radius: 50%;\n",
              "      cursor: pointer;\n",
              "      display: none;\n",
              "      fill: #1967D2;\n",
              "      height: 32px;\n",
              "      padding: 0 0 0 0;\n",
              "      width: 32px;\n",
              "    }\n",
              "\n",
              "    .colab-df-convert:hover {\n",
              "      background-color: #E2EBFA;\n",
              "      box-shadow: 0px 1px 2px rgba(60, 64, 67, 0.3), 0px 1px 3px 1px rgba(60, 64, 67, 0.15);\n",
              "      fill: #174EA6;\n",
              "    }\n",
              "\n",
              "    [theme=dark] .colab-df-convert {\n",
              "      background-color: #3B4455;\n",
              "      fill: #D2E3FC;\n",
              "    }\n",
              "\n",
              "    [theme=dark] .colab-df-convert:hover {\n",
              "      background-color: #434B5C;\n",
              "      box-shadow: 0px 1px 3px 1px rgba(0, 0, 0, 0.15);\n",
              "      filter: drop-shadow(0px 1px 2px rgba(0, 0, 0, 0.3));\n",
              "      fill: #FFFFFF;\n",
              "    }\n",
              "  </style>\n",
              "\n",
              "      <script>\n",
              "        const buttonEl =\n",
              "          document.querySelector('#df-48519fb9-08c7-40c7-ad26-779b34b5c8cd button.colab-df-convert');\n",
              "        buttonEl.style.display =\n",
              "          google.colab.kernel.accessAllowed ? 'block' : 'none';\n",
              "\n",
              "        async function convertToInteractive(key) {\n",
              "          const element = document.querySelector('#df-48519fb9-08c7-40c7-ad26-779b34b5c8cd');\n",
              "          const dataTable =\n",
              "            await google.colab.kernel.invokeFunction('convertToInteractive',\n",
              "                                                     [key], {});\n",
              "          if (!dataTable) return;\n",
              "\n",
              "          const docLinkHtml = 'Like what you see? Visit the ' +\n",
              "            '<a target=\"_blank\" href=https://colab.research.google.com/notebooks/data_table.ipynb>data table notebook</a>'\n",
              "            + ' to learn more about interactive tables.';\n",
              "          element.innerHTML = '';\n",
              "          dataTable['output_type'] = 'display_data';\n",
              "          await google.colab.output.renderOutput(dataTable, element);\n",
              "          const docLink = document.createElement('div');\n",
              "          docLink.innerHTML = docLinkHtml;\n",
              "          element.appendChild(docLink);\n",
              "        }\n",
              "      </script>\n",
              "    </div>\n",
              "  </div>\n",
              "  "
            ]
          },
          "metadata": {},
          "execution_count": 8
        }
      ]
    },
    {
      "cell_type": "code",
      "source": [
        "# Create the timeseries chart.\n",
        "d3.timeseries(df, datetime='date', fontsize=10)"
      ],
      "metadata": {
        "colab": {
          "base_uri": "https://localhost:8080/"
        },
        "id": "SAGGEbLwrV0A",
        "outputId": "d1e93b29-bdca-4e97-96de-b3fe0fe99d7a"
      },
      "execution_count": 9,
      "outputs": [
        {
          "output_type": "stream",
          "name": "stderr",
          "text": [
            "[d3blocks] >INFO> Create label properties based on [Set1].\n",
            "[d3blocks] >INFO> Labels are set\n"
          ]
        }
      ]
    },
    {
      "cell_type": "code",
      "source": [
        "# Import library\n",
        "from d3blocks import D3Blocks\n",
        "\n",
        "# Set color scheme\n",
        "d3 = D3Blocks(cmap='Set1')\n",
        "\n",
        "# Generate random data with various states\n",
        "df = d3.import_example('random_time', n=10000, c=500, date_start=\"1-1-2000 00:10:05\", date_stop=\"1-1-2001 23:59:59\")\n",
        "# Make the moving bubbles chart.\n",
        "d3.movingbubbles(df, datetime='datetime', state='state', sample_id='sample_id', standardize=None, speed={\"slow\": 1000, \"medium\": 200, \"fast\": 10}, filepath='movingbubbles.html')\n"
      ],
      "metadata": {
        "colab": {
          "base_uri": "https://localhost:8080/",
          "height": 458
        },
        "id": "2a_bFHuirl2k",
        "outputId": "aabacd68-ceca-4e39-dec8-785d0c3b32be"
      },
      "execution_count": 10,
      "outputs": [
        {
          "output_type": "stream",
          "name": "stderr",
          "text": [
            "[d3blocks] >INFO> Create label properties based on [Set1].\n"
          ]
        },
        {
          "output_type": "stream",
          "name": "stdout",
          "text": [
            "[colourmap]> Warning: Colormap [Set1] can not create [10] unique colors! Available unique colors: [8].\n"
          ]
        },
        {
          "output_type": "execute_result",
          "data": {
            "text/plain": [
              "                datetime sample_id     state           delta  \\\n",
              "0    2000-01-01 03:15:53        23  Sleeping 0 days 01:28:31   \n",
              "1    2000-01-01 04:44:24        38      Sick 0 days 00:15:19   \n",
              "2    2000-01-01 04:59:43       172     Sport 0 days 00:32:53   \n",
              "3    2000-01-01 05:32:36       260  Sleeping 0 days 02:26:05   \n",
              "4    2000-01-01 07:58:41       489     Bored 0 days 01:57:36   \n",
              "...                  ...       ...       ...             ...   \n",
              "9994 2001-01-01 23:48:24       143      Sick 0 days 00:01:11   \n",
              "9995 2001-01-01 23:49:35       161    Travel 0 days 00:08:10   \n",
              "9996 2001-01-01 23:57:45       161    Eating 0 days 00:01:36   \n",
              "9997 2001-01-01 23:59:21       238  Sleeping 0 days 00:00:29   \n",
              "9998 2001-01-01 23:59:50       230      Home 0 days 00:00:00   \n",
              "\n",
              "           datetime_norm  time_in_state  \n",
              "0    1980-01-01 00:00:00           5311  \n",
              "1    1980-01-01 01:28:31            919  \n",
              "2    1980-01-01 01:43:50           1973  \n",
              "3    1980-01-01 02:16:43           8765  \n",
              "4    1980-01-01 04:42:48           7056  \n",
              "...                  ...            ...  \n",
              "9994 1981-01-01 20:32:31             71  \n",
              "9995 1981-01-01 20:33:42            490  \n",
              "9996 1981-01-01 20:41:52             96  \n",
              "9997 1981-01-01 20:43:28             29  \n",
              "9998 1981-01-01 20:43:57              0  \n",
              "\n",
              "[9999 rows x 6 columns]"
            ],
            "text/html": [
              "\n",
              "  <div id=\"df-41a6cd11-7724-476c-8ee6-20cb9fb42e0f\">\n",
              "    <div class=\"colab-df-container\">\n",
              "      <div>\n",
              "<style scoped>\n",
              "    .dataframe tbody tr th:only-of-type {\n",
              "        vertical-align: middle;\n",
              "    }\n",
              "\n",
              "    .dataframe tbody tr th {\n",
              "        vertical-align: top;\n",
              "    }\n",
              "\n",
              "    .dataframe thead th {\n",
              "        text-align: right;\n",
              "    }\n",
              "</style>\n",
              "<table border=\"1\" class=\"dataframe\">\n",
              "  <thead>\n",
              "    <tr style=\"text-align: right;\">\n",
              "      <th></th>\n",
              "      <th>datetime</th>\n",
              "      <th>sample_id</th>\n",
              "      <th>state</th>\n",
              "      <th>delta</th>\n",
              "      <th>datetime_norm</th>\n",
              "      <th>time_in_state</th>\n",
              "    </tr>\n",
              "  </thead>\n",
              "  <tbody>\n",
              "    <tr>\n",
              "      <th>0</th>\n",
              "      <td>2000-01-01 03:15:53</td>\n",
              "      <td>23</td>\n",
              "      <td>Sleeping</td>\n",
              "      <td>0 days 01:28:31</td>\n",
              "      <td>1980-01-01 00:00:00</td>\n",
              "      <td>5311</td>\n",
              "    </tr>\n",
              "    <tr>\n",
              "      <th>1</th>\n",
              "      <td>2000-01-01 04:44:24</td>\n",
              "      <td>38</td>\n",
              "      <td>Sick</td>\n",
              "      <td>0 days 00:15:19</td>\n",
              "      <td>1980-01-01 01:28:31</td>\n",
              "      <td>919</td>\n",
              "    </tr>\n",
              "    <tr>\n",
              "      <th>2</th>\n",
              "      <td>2000-01-01 04:59:43</td>\n",
              "      <td>172</td>\n",
              "      <td>Sport</td>\n",
              "      <td>0 days 00:32:53</td>\n",
              "      <td>1980-01-01 01:43:50</td>\n",
              "      <td>1973</td>\n",
              "    </tr>\n",
              "    <tr>\n",
              "      <th>3</th>\n",
              "      <td>2000-01-01 05:32:36</td>\n",
              "      <td>260</td>\n",
              "      <td>Sleeping</td>\n",
              "      <td>0 days 02:26:05</td>\n",
              "      <td>1980-01-01 02:16:43</td>\n",
              "      <td>8765</td>\n",
              "    </tr>\n",
              "    <tr>\n",
              "      <th>4</th>\n",
              "      <td>2000-01-01 07:58:41</td>\n",
              "      <td>489</td>\n",
              "      <td>Bored</td>\n",
              "      <td>0 days 01:57:36</td>\n",
              "      <td>1980-01-01 04:42:48</td>\n",
              "      <td>7056</td>\n",
              "    </tr>\n",
              "    <tr>\n",
              "      <th>...</th>\n",
              "      <td>...</td>\n",
              "      <td>...</td>\n",
              "      <td>...</td>\n",
              "      <td>...</td>\n",
              "      <td>...</td>\n",
              "      <td>...</td>\n",
              "    </tr>\n",
              "    <tr>\n",
              "      <th>9994</th>\n",
              "      <td>2001-01-01 23:48:24</td>\n",
              "      <td>143</td>\n",
              "      <td>Sick</td>\n",
              "      <td>0 days 00:01:11</td>\n",
              "      <td>1981-01-01 20:32:31</td>\n",
              "      <td>71</td>\n",
              "    </tr>\n",
              "    <tr>\n",
              "      <th>9995</th>\n",
              "      <td>2001-01-01 23:49:35</td>\n",
              "      <td>161</td>\n",
              "      <td>Travel</td>\n",
              "      <td>0 days 00:08:10</td>\n",
              "      <td>1981-01-01 20:33:42</td>\n",
              "      <td>490</td>\n",
              "    </tr>\n",
              "    <tr>\n",
              "      <th>9996</th>\n",
              "      <td>2001-01-01 23:57:45</td>\n",
              "      <td>161</td>\n",
              "      <td>Eating</td>\n",
              "      <td>0 days 00:01:36</td>\n",
              "      <td>1981-01-01 20:41:52</td>\n",
              "      <td>96</td>\n",
              "    </tr>\n",
              "    <tr>\n",
              "      <th>9997</th>\n",
              "      <td>2001-01-01 23:59:21</td>\n",
              "      <td>238</td>\n",
              "      <td>Sleeping</td>\n",
              "      <td>0 days 00:00:29</td>\n",
              "      <td>1981-01-01 20:43:28</td>\n",
              "      <td>29</td>\n",
              "    </tr>\n",
              "    <tr>\n",
              "      <th>9998</th>\n",
              "      <td>2001-01-01 23:59:50</td>\n",
              "      <td>230</td>\n",
              "      <td>Home</td>\n",
              "      <td>0 days 00:00:00</td>\n",
              "      <td>1981-01-01 20:43:57</td>\n",
              "      <td>0</td>\n",
              "    </tr>\n",
              "  </tbody>\n",
              "</table>\n",
              "<p>9999 rows × 6 columns</p>\n",
              "</div>\n",
              "      <button class=\"colab-df-convert\" onclick=\"convertToInteractive('df-41a6cd11-7724-476c-8ee6-20cb9fb42e0f')\"\n",
              "              title=\"Convert this dataframe to an interactive table.\"\n",
              "              style=\"display:none;\">\n",
              "        \n",
              "  <svg xmlns=\"http://www.w3.org/2000/svg\" height=\"24px\"viewBox=\"0 0 24 24\"\n",
              "       width=\"24px\">\n",
              "    <path d=\"M0 0h24v24H0V0z\" fill=\"none\"/>\n",
              "    <path d=\"M18.56 5.44l.94 2.06.94-2.06 2.06-.94-2.06-.94-.94-2.06-.94 2.06-2.06.94zm-11 1L8.5 8.5l.94-2.06 2.06-.94-2.06-.94L8.5 2.5l-.94 2.06-2.06.94zm10 10l.94 2.06.94-2.06 2.06-.94-2.06-.94-.94-2.06-.94 2.06-2.06.94z\"/><path d=\"M17.41 7.96l-1.37-1.37c-.4-.4-.92-.59-1.43-.59-.52 0-1.04.2-1.43.59L10.3 9.45l-7.72 7.72c-.78.78-.78 2.05 0 2.83L4 21.41c.39.39.9.59 1.41.59.51 0 1.02-.2 1.41-.59l7.78-7.78 2.81-2.81c.8-.78.8-2.07 0-2.86zM5.41 20L4 18.59l7.72-7.72 1.47 1.35L5.41 20z\"/>\n",
              "  </svg>\n",
              "      </button>\n",
              "      \n",
              "  <style>\n",
              "    .colab-df-container {\n",
              "      display:flex;\n",
              "      flex-wrap:wrap;\n",
              "      gap: 12px;\n",
              "    }\n",
              "\n",
              "    .colab-df-convert {\n",
              "      background-color: #E8F0FE;\n",
              "      border: none;\n",
              "      border-radius: 50%;\n",
              "      cursor: pointer;\n",
              "      display: none;\n",
              "      fill: #1967D2;\n",
              "      height: 32px;\n",
              "      padding: 0 0 0 0;\n",
              "      width: 32px;\n",
              "    }\n",
              "\n",
              "    .colab-df-convert:hover {\n",
              "      background-color: #E2EBFA;\n",
              "      box-shadow: 0px 1px 2px rgba(60, 64, 67, 0.3), 0px 1px 3px 1px rgba(60, 64, 67, 0.15);\n",
              "      fill: #174EA6;\n",
              "    }\n",
              "\n",
              "    [theme=dark] .colab-df-convert {\n",
              "      background-color: #3B4455;\n",
              "      fill: #D2E3FC;\n",
              "    }\n",
              "\n",
              "    [theme=dark] .colab-df-convert:hover {\n",
              "      background-color: #434B5C;\n",
              "      box-shadow: 0px 1px 3px 1px rgba(0, 0, 0, 0.15);\n",
              "      filter: drop-shadow(0px 1px 2px rgba(0, 0, 0, 0.3));\n",
              "      fill: #FFFFFF;\n",
              "    }\n",
              "  </style>\n",
              "\n",
              "      <script>\n",
              "        const buttonEl =\n",
              "          document.querySelector('#df-41a6cd11-7724-476c-8ee6-20cb9fb42e0f button.colab-df-convert');\n",
              "        buttonEl.style.display =\n",
              "          google.colab.kernel.accessAllowed ? 'block' : 'none';\n",
              "\n",
              "        async function convertToInteractive(key) {\n",
              "          const element = document.querySelector('#df-41a6cd11-7724-476c-8ee6-20cb9fb42e0f');\n",
              "          const dataTable =\n",
              "            await google.colab.kernel.invokeFunction('convertToInteractive',\n",
              "                                                     [key], {});\n",
              "          if (!dataTable) return;\n",
              "\n",
              "          const docLinkHtml = 'Like what you see? Visit the ' +\n",
              "            '<a target=\"_blank\" href=https://colab.research.google.com/notebooks/data_table.ipynb>data table notebook</a>'\n",
              "            + ' to learn more about interactive tables.';\n",
              "          element.innerHTML = '';\n",
              "          dataTable['output_type'] = 'display_data';\n",
              "          await google.colab.output.renderOutput(dataTable, element);\n",
              "          const docLink = document.createElement('div');\n",
              "          docLink.innerHTML = docLinkHtml;\n",
              "          element.appendChild(docLink);\n",
              "        }\n",
              "      </script>\n",
              "    </div>\n",
              "  </div>\n",
              "  "
            ]
          },
          "metadata": {},
          "execution_count": 10
        }
      ]
    },
    {
      "cell_type": "code",
      "source": [
        "# Import library\n",
        "from d3blocks import D3Blocks\n",
        "\n",
        "# Initialize\n",
        "d3 = D3Blocks()\n",
        "\n",
        "# import example\n",
        "df = d3.import_example('cancer')\n",
        "# Setup the tooltip\n",
        "tooltip=df['labels'].values + ' <br /> Survival: ' + df['survival_months'].astype(str).str[0:4].values\n",
        "# Set the size\n",
        "s = df['survival_months'].fillna(1).values / 10\n",
        "\n",
        "# Scatter\n",
        "d3.scatter(df['x'].values,        # tSNE x-coordinates\n",
        "           df['y'].values,        # tSNE y-coordinates\n",
        "           x1=df['PC1'].values,   # PC1 x-coordinates\n",
        "           y1=df['PC2'].values,   # PC2 y-coordinates\n",
        "           scale=True,            # Scale\n",
        "           label_radio=['tSNE', 'PCA'],\n",
        "           s=s,                   # Size\n",
        "           c=df['labels'].values, # Hex-colors or classlabels\n",
        "           stroke='#000000',      # Edge color\n",
        "           opacity=0.4,           # Opacity\n",
        "           tooltip=tooltip,       # Tooltip\n",
        "           cmap='tab20',          # Colormap\n",
        "           filepath='scatter_demo.html')"
      ],
      "metadata": {
        "colab": {
          "base_uri": "https://localhost:8080/"
        },
        "id": "QpXux2sbsGRf",
        "outputId": "0afb6cd0-572e-4dc8-a2fb-2febf63538b4"
      },
      "execution_count": 12,
      "outputs": [
        {
          "output_type": "stream",
          "name": "stderr",
          "text": [
            "[d3blocks] >INFO> Extracting files..\n",
            "[d3blocks] >INFO> Import dataset: [cancer]\n",
            "[d3blocks] >INFO> Scaling xy-coordinates.\n",
            "[d3blocks] >INFO> [12] sizes are <0 and set to 0.\n",
            "[d3blocks] >INFO> Labels are set\n"
          ]
        }
      ]
    },
    {
      "cell_type": "code",
      "source": [
        "# https://d3blocks.github.io/d3blocks/pages/html/Motivation.html"
      ],
      "metadata": {
        "id": "ClnPUQXWtNqy"
      },
      "execution_count": null,
      "outputs": []
    }
  ]
}