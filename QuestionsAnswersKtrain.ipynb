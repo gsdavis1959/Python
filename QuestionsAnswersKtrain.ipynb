{
 "cells": [
  {
   "cell_type": "code",
   "execution_count": 1,
   "metadata": {},
   "outputs": [],
   "source": [
    "%reload_ext autoreload\n",
    "%autoreload 2\n",
    "%matplotlib inline\n",
    "import os\n",
    "os.environ[\"CUDA_DEVICE_ORDER\"]=\"PCI_BUS_ID\";\n",
    "os.environ[\"CUDA_VISIBLE_DEVICES\"]=\"0\" "
   ]
  },
  {
   "cell_type": "code",
   "execution_count": 2,
   "metadata": {},
   "outputs": [
    {
     "name": "stdout",
     "output_type": "stream",
     "text": [
      "Collecting ktrain\n",
      "  Downloading ktrain-0.21.3.tar.gz (25.3 MB)\n",
      "Requirement already satisfied: scikit-learn>=0.21.3 in c:\\users\\gsdav\\anaconda3\\lib\\site-packages (from ktrain) (0.22)\n",
      "Requirement already satisfied: matplotlib>=3.0.0 in c:\\users\\gsdav\\anaconda3\\lib\\site-packages (from ktrain) (3.1.3)\n",
      "Requirement already satisfied: pandas>=1.0.1 in c:\\users\\gsdav\\anaconda3\\lib\\site-packages (from ktrain) (1.0.3)\n",
      "Collecting fastprogress>=0.1.21\n",
      "  Downloading fastprogress-1.0.0-py3-none-any.whl (12 kB)\n",
      "Collecting keras_bert>=0.81.0\n",
      "  Downloading keras-bert-0.86.0.tar.gz (26 kB)\n",
      "Requirement already satisfied: requests in c:\\users\\gsdav\\anaconda3\\lib\\site-packages (from ktrain) (2.22.0)\n",
      "Requirement already satisfied: joblib in c:\\users\\gsdav\\anaconda3\\lib\\site-packages (from ktrain) (0.14.1)\n",
      "Collecting langdetect\n",
      "  Downloading langdetect-1.0.8.tar.gz (981 kB)\n",
      "Collecting jieba\n",
      "  Downloading jieba-0.42.1.tar.gz (19.2 MB)\n",
      "Collecting cchardet\n",
      "  Downloading cchardet-2.1.6-cp37-cp37m-win_amd64.whl (115 kB)\n",
      "Requirement already satisfied: networkx>=2.3 in c:\\users\\gsdav\\anaconda3\\lib\\site-packages (from ktrain) (2.4)\n",
      "Requirement already satisfied: bokeh in c:\\users\\gsdav\\anaconda3\\lib\\site-packages (from ktrain) (2.0.1)\n",
      "Collecting seqeval\n",
      "  Using cached seqeval-0.0.12.tar.gz (21 kB)\n",
      "Requirement already satisfied: packaging in c:\\users\\gsdav\\anaconda3\\lib\\site-packages (from ktrain) (20.4)\n",
      "Collecting transformers>=3.1.0\n",
      "  Downloading transformers-3.1.0-py3-none-any.whl (884 kB)\n",
      "Requirement already satisfied: ipython in c:\\users\\gsdav\\anaconda3\\lib\\site-packages (from ktrain) (7.12.0)\n",
      "Collecting syntok\n",
      "  Downloading syntok-1.3.1.tar.gz (23 kB)\n",
      "Collecting whoosh\n",
      "  Downloading Whoosh-2.7.4-py2.py3-none-any.whl (468 kB)\n",
      "Requirement already satisfied: scipy>=0.17.0 in c:\\users\\gsdav\\anaconda3\\lib\\site-packages (from scikit-learn>=0.21.3->ktrain) (1.4.1)\n",
      "Requirement already satisfied: numpy>=1.11.0 in c:\\users\\gsdav\\anaconda3\\lib\\site-packages (from scikit-learn>=0.21.3->ktrain) (1.18.2)\n",
      "Requirement already satisfied: pyparsing!=2.0.4,!=2.1.2,!=2.1.6,>=2.0.1 in c:\\users\\gsdav\\anaconda3\\lib\\site-packages (from matplotlib>=3.0.0->ktrain) (2.4.6)\n",
      "Requirement already satisfied: python-dateutil>=2.1 in c:\\users\\gsdav\\anaconda3\\lib\\site-packages (from matplotlib>=3.0.0->ktrain) (2.8.1)\n",
      "Requirement already satisfied: kiwisolver>=1.0.1 in c:\\users\\gsdav\\anaconda3\\lib\\site-packages (from matplotlib>=3.0.0->ktrain) (1.1.0)\n",
      "Requirement already satisfied: cycler>=0.10 in c:\\users\\gsdav\\anaconda3\\lib\\site-packages (from matplotlib>=3.0.0->ktrain) (0.10.0)\n",
      "Requirement already satisfied: pytz>=2017.2 in c:\\users\\gsdav\\anaconda3\\lib\\site-packages (from pandas>=1.0.1->ktrain) (2019.3)\n",
      "Collecting Keras>=2.4.3\n",
      "  Using cached Keras-2.4.3-py2.py3-none-any.whl (36 kB)\n",
      "Collecting keras-transformer>=0.38.0\n",
      "  Downloading keras-transformer-0.38.0.tar.gz (11 kB)\n",
      "Requirement already satisfied: certifi>=2017.4.17 in c:\\users\\gsdav\\anaconda3\\lib\\site-packages (from requests->ktrain) (2019.11.28)\n",
      "Requirement already satisfied: chardet<3.1.0,>=3.0.2 in c:\\users\\gsdav\\anaconda3\\lib\\site-packages (from requests->ktrain) (3.0.4)\n",
      "Requirement already satisfied: urllib3!=1.25.0,!=1.25.1,<1.26,>=1.21.1 in c:\\users\\gsdav\\anaconda3\\lib\\site-packages (from requests->ktrain) (1.24.3)\n",
      "Requirement already satisfied: idna<2.9,>=2.5 in c:\\users\\gsdav\\anaconda3\\lib\\site-packages (from requests->ktrain) (2.8)\n",
      "Requirement already satisfied: six in c:\\users\\gsdav\\anaconda3\\lib\\site-packages (from langdetect->ktrain) (1.14.0)\n",
      "Requirement already satisfied: decorator>=4.3.0 in c:\\users\\gsdav\\anaconda3\\lib\\site-packages (from networkx>=2.3->ktrain) (4.4.1)\n",
      "Requirement already satisfied: PyYAML>=3.10 in c:\\users\\gsdav\\anaconda3\\lib\\site-packages (from bokeh->ktrain) (5.3)\n",
      "Requirement already satisfied: typing-extensions>=3.7.4 in c:\\users\\gsdav\\anaconda3\\lib\\site-packages (from bokeh->ktrain) (3.7.4.2)\n",
      "Requirement already satisfied: tornado>=5 in c:\\users\\gsdav\\anaconda3\\lib\\site-packages (from bokeh->ktrain) (5.1.1)\n",
      "Requirement already satisfied: pillow>=4.0 in c:\\users\\gsdav\\anaconda3\\lib\\site-packages (from bokeh->ktrain) (7.1.2)\n",
      "Requirement already satisfied: Jinja2>=2.7 in c:\\users\\gsdav\\anaconda3\\lib\\site-packages (from bokeh->ktrain) (2.10.1)\n",
      "Requirement already satisfied: tqdm>=4.27 in c:\\users\\gsdav\\anaconda3\\lib\\site-packages (from transformers>=3.1.0->ktrain) (4.48.2)\n",
      "Collecting tokenizers==0.8.1.rc2\n",
      "  Downloading tokenizers-0.8.1rc2-cp37-cp37m-win_amd64.whl (1.9 MB)\n",
      "Requirement already satisfied: filelock in c:\\users\\gsdav\\anaconda3\\lib\\site-packages (from transformers>=3.1.0->ktrain) (3.0.12)\n",
      "Requirement already satisfied: regex!=2019.12.17 in c:\\users\\gsdav\\anaconda3\\lib\\site-packages (from transformers>=3.1.0->ktrain) (2020.2.20)\n",
      "Requirement already satisfied: sentencepiece!=0.1.92 in c:\\users\\gsdav\\anaconda3\\lib\\site-packages (from transformers>=3.1.0->ktrain) (0.1.85)\n",
      "Requirement already satisfied: sacremoses in c:\\users\\gsdav\\anaconda3\\lib\\site-packages (from transformers>=3.1.0->ktrain) (0.0.38)\n",
      "Requirement already satisfied: traitlets>=4.2 in c:\\users\\gsdav\\anaconda3\\lib\\site-packages (from ipython->ktrain) (4.3.3)\n",
      "Requirement already satisfied: colorama; sys_platform == \"win32\" in c:\\users\\gsdav\\anaconda3\\lib\\site-packages (from ipython->ktrain) (0.4.3)\n",
      "Requirement already satisfied: backcall in c:\\users\\gsdav\\anaconda3\\lib\\site-packages (from ipython->ktrain) (0.1.0)\n",
      "Requirement already satisfied: jedi>=0.10 in c:\\users\\gsdav\\anaconda3\\lib\\site-packages (from ipython->ktrain) (0.14.1)\n",
      "Requirement already satisfied: prompt-toolkit!=3.0.0,!=3.0.1,<3.1.0,>=2.0.0 in c:\\users\\gsdav\\anaconda3\\lib\\site-packages (from ipython->ktrain) (3.0.3)\n",
      "Requirement already satisfied: setuptools>=18.5 in c:\\users\\gsdav\\anaconda3\\lib\\site-packages (from ipython->ktrain) (45.2.0.post20200210)\n",
      "Requirement already satisfied: pickleshare in c:\\users\\gsdav\\anaconda3\\lib\\site-packages (from ipython->ktrain) (0.7.5)\n",
      "Requirement already satisfied: pygments in c:\\users\\gsdav\\anaconda3\\lib\\site-packages (from ipython->ktrain) (2.5.2)\n",
      "Requirement already satisfied: h5py in c:\\users\\gsdav\\anaconda3\\lib\\site-packages (from Keras>=2.4.3->keras_bert>=0.81.0->ktrain) (2.10.0)\n",
      "Collecting keras-pos-embd>=0.11.0\n",
      "  Using cached keras-pos-embd-0.11.0.tar.gz (5.9 kB)\n",
      "Collecting keras-multi-head>=0.27.0\n",
      "  Downloading keras-multi-head-0.27.0.tar.gz (14 kB)\n",
      "Collecting keras-layer-normalization>=0.14.0\n",
      "  Downloading keras-layer-normalization-0.14.0.tar.gz (4.3 kB)\n",
      "Collecting keras-position-wise-feed-forward>=0.6.0\n",
      "  Using cached keras-position-wise-feed-forward-0.6.0.tar.gz (4.4 kB)\n",
      "Collecting keras-embed-sim>=0.8.0\n",
      "  Downloading keras-embed-sim-0.8.0.tar.gz (4.1 kB)\n",
      "Requirement already satisfied: MarkupSafe>=0.23 in c:\\users\\gsdav\\anaconda3\\lib\\site-packages (from Jinja2>=2.7->bokeh->ktrain) (1.1.1)\n",
      "Requirement already satisfied: click in c:\\users\\gsdav\\anaconda3\\lib\\site-packages (from sacremoses->transformers>=3.1.0->ktrain) (7.0)\n",
      "Requirement already satisfied: ipython-genutils in c:\\users\\gsdav\\anaconda3\\lib\\site-packages (from traitlets>=4.2->ipython->ktrain) (0.2.0)\n",
      "Requirement already satisfied: parso>=0.5.0 in c:\\users\\gsdav\\anaconda3\\lib\\site-packages (from jedi>=0.10->ipython->ktrain) (0.5.2)\n",
      "Requirement already satisfied: wcwidth in c:\\users\\gsdav\\anaconda3\\lib\\site-packages (from prompt-toolkit!=3.0.0,!=3.0.1,<3.1.0,>=2.0.0->ipython->ktrain) (0.1.8)\n",
      "Collecting keras-self-attention==0.46.0\n",
      "  Downloading keras-self-attention-0.46.0.tar.gz (10 kB)\n",
      "Building wheels for collected packages: ktrain, keras-bert, langdetect, jieba, seqeval, syntok, keras-transformer, keras-pos-embd, keras-multi-head, keras-layer-normalization, keras-position-wise-feed-forward, keras-embed-sim, keras-self-attention\n",
      "  Building wheel for ktrain (setup.py): started\n",
      "  Building wheel for ktrain (setup.py): finished with status 'done'\n",
      "  Created wheel for ktrain: filename=ktrain-0.21.3-py3-none-any.whl size=25270205 sha256=5103287e9d3ec49a9c0caba876f4c8ee3ab7ce5844861638e22b5c9938116ca2\n",
      "  Stored in directory: c:\\users\\gsdav\\appdata\\local\\pip\\cache\\wheels\\0c\\98\\fc\\0738e516f4bdfea4812b28cd7a512104d8c1748a9da4373405\n",
      "  Building wheel for keras-bert (setup.py): started\n",
      "  Building wheel for keras-bert (setup.py): finished with status 'done'\n",
      "  Created wheel for keras-bert: filename=keras_bert-0.86.0-py3-none-any.whl size=34149 sha256=638e7d725e2b40ba786bfb9b78682318a19b03d7d1bdfe8dfc9a943a60940d83\n",
      "  Stored in directory: c:\\users\\gsdav\\appdata\\local\\pip\\cache\\wheels\\fc\\c1\\0a\\eb9187261b3f192ac314aefb54fe66f50540c3edb906599633\n",
      "  Building wheel for langdetect (setup.py): started\n",
      "  Building wheel for langdetect (setup.py): finished with status 'done'\n",
      "  Created wheel for langdetect: filename=langdetect-1.0.8-py3-none-any.whl size=993196 sha256=fafa30199753ffbbce7dd3302db901b6c83b05c6ad45d3ec60eea19abd14cd2a\n",
      "  Stored in directory: c:\\users\\gsdav\\appdata\\local\\pip\\cache\\wheels\\59\\f6\\9d\\85068904dba861c0b9af74e286265a08da438748ee5ae56067\n",
      "  Building wheel for jieba (setup.py): started\n",
      "  Building wheel for jieba (setup.py): finished with status 'done'\n",
      "  Created wheel for jieba: filename=jieba-0.42.1-py3-none-any.whl size=19314481 sha256=647c24699d3b1227faf9d959c2ae91d7423b0b87c92c630dac7bfbf44ff7fdca\n",
      "  Stored in directory: c:\\users\\gsdav\\appdata\\local\\pip\\cache\\wheels\\24\\aa\\17\\5bc7c72e9a37990a9620cc3aad0acad1564dcff6dbc2359de3\n",
      "  Building wheel for seqeval (setup.py): started\n",
      "  Building wheel for seqeval (setup.py): finished with status 'done'\n",
      "  Created wheel for seqeval: filename=seqeval-0.0.12-py3-none-any.whl size=7429 sha256=95005b40000a48534c0c9d22d984a9c0180e9b7de7772196333b0da1c9f6c2c2\n",
      "  Stored in directory: c:\\users\\gsdav\\appdata\\local\\pip\\cache\\wheels\\dc\\cc\\62\\a3b81f92d35a80e39eb9b2a9d8b31abac54c02b21b2d466edc\n",
      "  Building wheel for syntok (setup.py): started\n",
      "  Building wheel for syntok (setup.py): finished with status 'done'\n",
      "  Created wheel for syntok: filename=syntok-1.3.1-py3-none-any.whl size=20921 sha256=e0b12f5f11406bf314282a4ceb611877f5b4d20e93a39591a30b148ec3e62b63\n",
      "  Stored in directory: c:\\users\\gsdav\\appdata\\local\\pip\\cache\\wheels\\5e\\c2\\33\\e5d7d8f2f8b0c391d76bf82b844c3151bf23a84d75d02b185f\n",
      "  Building wheel for keras-transformer (setup.py): started\n",
      "  Building wheel for keras-transformer (setup.py): finished with status 'done'\n",
      "  Created wheel for keras-transformer: filename=keras_transformer-0.38.0-py3-none-any.whl size=12947 sha256=fbc81a53f6fb5a751a4b7b46af3171da7231ad95f91f55067912f58f3a330748\n",
      "  Stored in directory: c:\\users\\gsdav\\appdata\\local\\pip\\cache\\wheels\\b3\\67\\58\\bcfb43b6ab764496a446021a8d05991adffd48c16582381326\n",
      "  Building wheel for keras-pos-embd (setup.py): started\n",
      "  Building wheel for keras-pos-embd (setup.py): finished with status 'done'\n",
      "  Created wheel for keras-pos-embd: filename=keras_pos_embd-0.11.0-py3-none-any.whl size=7555 sha256=46ee95948b16cd71d1b87f6ed70071f7e7649b870ed8ce85d35548d066b91035\n",
      "  Stored in directory: c:\\users\\gsdav\\appdata\\local\\pip\\cache\\wheels\\65\\66\\e9\\c7eafddc29b81a98786f12b48a2aee7e3c633f6bf4a62cbc20\n",
      "  Building wheel for keras-multi-head (setup.py): started\n",
      "  Building wheel for keras-multi-head (setup.py): finished with status 'done'\n",
      "  Created wheel for keras-multi-head: filename=keras_multi_head-0.27.0-py3-none-any.whl size=15618 sha256=bedb5bb06e1bb7994e08d374d1621802764d9a86dca7a42953940900750cb87b\n",
      "  Stored in directory: c:\\users\\gsdav\\appdata\\local\\pip\\cache\\wheels\\21\\38\\cc\\50e6d62d6d458e8223d3ddaef7c622b67ae57708193918051b\n",
      "  Building wheel for keras-layer-normalization (setup.py): started\n",
      "  Building wheel for keras-layer-normalization (setup.py): finished with status 'done'\n",
      "  Created wheel for keras-layer-normalization: filename=keras_layer_normalization-0.14.0-py3-none-any.whl size=5273 sha256=cfa6a603827c3abceaed0850bad6d8e12513b220d2ce98261c990642f5348dd9\n",
      "  Stored in directory: c:\\users\\gsdav\\appdata\\local\\pip\\cache\\wheels\\58\\14\\24\\76b0d99b7d9cc17e110956e0fae825a5da3e70a60273220502\n",
      "  Building wheel for keras-position-wise-feed-forward (setup.py): started\n",
      "  Building wheel for keras-position-wise-feed-forward (setup.py): finished with status 'done'\n",
      "  Created wheel for keras-position-wise-feed-forward: filename=keras_position_wise_feed_forward-0.6.0-py3-none-any.whl size=5627 sha256=3baec29808b92444ccf7fbb497c5ad2826b00c55e8a99176667dffe7a697aaff\n",
      "  Stored in directory: c:\\users\\gsdav\\appdata\\local\\pip\\cache\\wheels\\9e\\53\\a2\\651c985b605e6a6c48688c779808eb1956fabb910b0557d871\n",
      "  Building wheel for keras-embed-sim (setup.py): started\n",
      "  Building wheel for keras-embed-sim (setup.py): finished with status 'done'\n",
      "  Created wheel for keras-embed-sim: filename=keras_embed_sim-0.8.0-py3-none-any.whl size=4563 sha256=224498eab4d36455f92c78e5f9e7fb4133e5ff2ef3a3bb0f3094d6d0afb6a40f\n",
      "  Stored in directory: c:\\users\\gsdav\\appdata\\local\\pip\\cache\\wheels\\2d\\31\\2c\\2d3fb4442f6112b92cd56bf801ff25421f302c755f935d4a79\n",
      "  Building wheel for keras-self-attention (setup.py): started\n",
      "  Building wheel for keras-self-attention (setup.py): finished with status 'done'\n",
      "  Created wheel for keras-self-attention: filename=keras_self_attention-0.46.0-py3-none-any.whl size=17281 sha256=5357cc4c743090feb0d9290d1f929926c4ad3da5afd0d02a411b60ce94f21ac8\n",
      "  Stored in directory: c:\\users\\gsdav\\appdata\\local\\pip\\cache\\wheels\\ec\\f7\\48\\30de93f8333298bad9202aab9b04db0cfd58dcd379b5a5ef1c\n",
      "Successfully built ktrain keras-bert langdetect jieba seqeval syntok keras-transformer keras-pos-embd keras-multi-head keras-layer-normalization keras-position-wise-feed-forward keras-embed-sim keras-self-attention\n",
      "Installing collected packages: fastprogress, Keras, keras-pos-embd, keras-self-attention, keras-multi-head, keras-layer-normalization, keras-position-wise-feed-forward, keras-embed-sim, keras-transformer, keras-bert, langdetect, jieba, cchardet, seqeval, tokenizers, transformers, syntok, whoosh, ktrain\n",
      "  Attempting uninstall: Keras\n",
      "    Found existing installation: Keras 2.0.0\n",
      "    Uninstalling Keras-2.0.0:\n",
      "      Successfully uninstalled Keras-2.0.0\n",
      "  Attempting uninstall: tokenizers\n",
      "    Found existing installation: tokenizers 0.5.2\n",
      "    Uninstalling tokenizers-0.5.2:\n",
      "      Successfully uninstalled tokenizers-0.5.2\n",
      "  Attempting uninstall: transformers\n",
      "    Found existing installation: transformers 2.7.0\n",
      "    Uninstalling transformers-2.7.0:\n",
      "      Successfully uninstalled transformers-2.7.0\n",
      "Successfully installed Keras-2.4.3 cchardet-2.1.6 fastprogress-1.0.0 jieba-0.42.1 keras-bert-0.86.0 keras-embed-sim-0.8.0 keras-layer-normalization-0.14.0 keras-multi-head-0.27.0 keras-pos-embd-0.11.0 keras-position-wise-feed-forward-0.6.0 keras-self-attention-0.46.0 keras-transformer-0.38.0 ktrain-0.21.3 langdetect-1.0.8 seqeval-0.0.12 syntok-1.3.1 tokenizers-0.8.1rc2 transformers-3.1.0 whoosh-2.7.4\n"
     ]
    },
    {
     "name": "stderr",
     "output_type": "stream",
     "text": [
      "WARNING: You are using pip version 20.1.1; however, version 20.2.3 is available.\n",
      "You should consider upgrading via the 'c:\\users\\gsdav\\anaconda3\\python.exe -m pip install --upgrade pip' command.\n"
     ]
    }
   ],
   "source": [
    "!pip install ktrain"
   ]
  },
  {
   "cell_type": "code",
   "execution_count": 4,
   "metadata": {},
   "outputs": [],
   "source": [
    "# load 20newsgroups datset into an array\n",
    "from sklearn.datasets import fetch_20newsgroups\n",
    "remove = ('headers', 'footers', 'quotes')\n",
    "newsgroups_train = fetch_20newsgroups(subset='train', remove=remove)\n",
    "newsgroups_test = fetch_20newsgroups(subset='test', remove=remove)\n",
    "docs = newsgroups_train.data +  newsgroups_test.data"
   ]
  },
  {
   "cell_type": "code",
   "execution_count": 5,
   "metadata": {},
   "outputs": [],
   "source": [
    "import ktrain\n",
    "from ktrain import text"
   ]
  },
  {
   "cell_type": "code",
   "execution_count": 6,
   "metadata": {},
   "outputs": [],
   "source": [
    "INDEXDIR = '/tmp/myindex'"
   ]
  },
  {
   "cell_type": "code",
   "execution_count": 7,
   "metadata": {},
   "outputs": [
    {
     "data": {
      "text/html": [],
      "text/plain": [
       "<IPython.core.display.HTML object>"
      ]
     },
     "metadata": {},
     "output_type": "display_data"
    }
   ],
   "source": [
    "text.SimpleQA.initialize_index(INDEXDIR)\n",
    "text.SimpleQA.index_from_list(docs, INDEXDIR, commit_every=len(docs))"
   ]
  },
  {
   "cell_type": "code",
   "execution_count": 8,
   "metadata": {},
   "outputs": [
    {
     "data": {
      "application/vnd.jupyter.widget-view+json": {
       "model_id": "55b750c237a343e6bd909be641635418",
       "version_major": 2,
       "version_minor": 0
      },
      "text/plain": [
       "HBox(children=(FloatProgress(value=0.0, description='Downloading', max=1341090760.0, style=ProgressStyle(descr…"
      ]
     },
     "metadata": {},
     "output_type": "display_data"
    },
    {
     "name": "stdout",
     "output_type": "stream",
     "text": [
      "\n"
     ]
    },
    {
     "data": {
      "application/vnd.jupyter.widget-view+json": {
       "model_id": "739ccd8a6552452fb99df677a14de8db",
       "version_major": 2,
       "version_minor": 0
      },
      "text/plain": [
       "HBox(children=(FloatProgress(value=0.0, description='Downloading', max=536063208.0, style=ProgressStyle(descri…"
      ]
     },
     "metadata": {},
     "output_type": "display_data"
    },
    {
     "name": "stdout",
     "output_type": "stream",
     "text": [
      "\n"
     ]
    }
   ],
   "source": [
    "qa = text.SimpleQA(INDEXDIR)"
   ]
  },
  {
   "cell_type": "code",
   "execution_count": 9,
   "metadata": {},
   "outputs": [
    {
     "data": {
      "text/html": [],
      "text/plain": [
       "<IPython.core.display.HTML object>"
      ]
     },
     "metadata": {},
     "output_type": "display_data"
    },
    {
     "data": {
      "text/html": [
       "<table border=\"1\" class=\"dataframe\">\n",
       "  <thead>\n",
       "    <tr style=\"text-align: right;\">\n",
       "      <th></th>\n",
       "      <th>Candidate Answer</th>\n",
       "      <th>Context</th>\n",
       "      <th>Confidence</th>\n",
       "      <th>Document Reference</th>\n",
       "    </tr>\n",
       "  </thead>\n",
       "  <tbody>\n",
       "    <tr>\n",
       "      <th>0</th>\n",
       "      <td>the v-8 interceptors</td>\n",
       "      <td><div>does anyone know what kind of car mad max used in \" road warrior \" ? they called it \" the last of  <font color='red'>the v-8 interceptors</font> ...</div></td>\n",
       "      <td>0.425788</td>\n",
       "      <td>13967</td>\n",
       "    </tr>\n",
       "    <tr>\n",
       "      <th>1</th>\n",
       "      <td>the iivx</td>\n",
       "      <td><div> what was  <font color='red'>the iivx</font>  ? i hear it was some machine that predated the main 040 line by about 6 mos, but used obsolete tech.</div></td>\n",
       "      <td>0.380736</td>\n",
       "      <td>14459</td>\n",
       "    </tr>\n",
       "    <tr>\n",
       "      <th>2</th>\n",
       "      <td>what the space program did was to find a way to get it to stick</td>\n",
       "      <td><div>  <font color='red'>what the space program did was to find a way to get it to stick</font> .</div></td>\n",
       "      <td>0.077205</td>\n",
       "      <td>11824</td>\n",
       "    </tr>\n",
       "    <tr>\n",
       "      <th>3</th>\n",
       "      <td>as classy as harold ballard</td>\n",
       "      <td><div> from what i ' ve heard about him, he was about  <font color='red'>as classy as harold ballard</font> .</div></td>\n",
       "      <td>0.064410</td>\n",
       "      <td>2517</td>\n",
       "    </tr>\n",
       "    <tr>\n",
       "      <th>4</th>\n",
       "      <td>1932 train conductor azerbaijani railroad</td>\n",
       "      <td><div>born  <font color='red'>1932 train conductor azerbaijani railroad</font> </div></td>\n",
       "      <td>0.051861</td>\n",
       "      <td>9623</td>\n",
       "    </tr>\n",
       "  </tbody>\n",
       "</table>"
      ],
      "text/plain": [
       "<IPython.core.display.HTML object>"
      ]
     },
     "metadata": {},
     "output_type": "display_data"
    }
   ],
   "source": [
    "answers = qa.ask('What was sputnik?')\n",
    "qa.display_answers(answers[:5])"
   ]
  },
  {
   "cell_type": "code",
   "execution_count": 16,
   "metadata": {},
   "outputs": [
    {
     "data": {
      "text/html": [],
      "text/plain": [
       "<IPython.core.display.HTML object>"
      ]
     },
     "metadata": {},
     "output_type": "display_data"
    },
    {
     "data": {
      "text/html": [
       "<table border=\"1\" class=\"dataframe\">\n",
       "  <thead>\n",
       "    <tr style=\"text-align: right;\">\n",
       "      <th></th>\n",
       "      <th>Candidate Answer</th>\n",
       "      <th>Context</th>\n",
       "      <th>Confidence</th>\n",
       "      <th>Document Reference</th>\n",
       "    </tr>\n",
       "  </thead>\n",
       "  <tbody>\n",
       "    <tr>\n",
       "      <th>0</th>\n",
       "      <td>of nevada and oregon</td>\n",
       "      <td><div>) in the states  <font color='red'>of nevada and oregon</font> .</div></td>\n",
       "      <td>0.992324</td>\n",
       "      <td>2560</td>\n",
       "    </tr>\n",
       "    <tr>\n",
       "      <th>1</th>\n",
       "      <td>in california</td>\n",
       "      <td><div>i ' ve heard that  <font color='red'>in california</font>  they ask you to swear without any mention of a god.</div></td>\n",
       "      <td>0.004637</td>\n",
       "      <td>12990</td>\n",
       "    </tr>\n",
       "    <tr>\n",
       "      <th>2</th>\n",
       "      <td>kent</td>\n",
       "      <td><div> then again what is the meaning of nil, false or true : -) ? cheers,  <font color='red'>kent</font> </div></td>\n",
       "      <td>0.002221</td>\n",
       "      <td>5340</td>\n",
       "    </tr>\n",
       "    <tr>\n",
       "      <th>3</th>\n",
       "      <td>and most states do not feel confortable basing their existence on that sort of thing.</td>\n",
       "      <td><div> your assessment of \" difference \" here is based on a whole lot of assumptions,  <font color='red'>and most states do not feel confortable basing their existence on that sort of thing.</font> </div></td>\n",
       "      <td>0.000306</td>\n",
       "      <td>7546</td>\n",
       "    </tr>\n",
       "    <tr>\n",
       "      <th>4</th>\n",
       "      <td>wonderful hawaii</td>\n",
       "      <td><div> everyone is always spewing forth about how  <font color='red'>wonderful hawaii</font>  is doing.</div></td>\n",
       "      <td>0.000298</td>\n",
       "      <td>17036</td>\n",
       "    </tr>\n",
       "  </tbody>\n",
       "</table>"
      ],
      "text/plain": [
       "<IPython.core.display.HTML object>"
      ]
     },
     "metadata": {},
     "output_type": "display_data"
    }
   ],
   "source": [
    "answers = qa.ask('What US states have beaches?')\n",
    "qa.display_answers(answers[:5])"
   ]
  }
 ],
 "metadata": {
  "kernelspec": {
   "display_name": "Python 3",
   "language": "python",
   "name": "python3"
  },
  "language_info": {
   "codemirror_mode": {
    "name": "ipython",
    "version": 3
   },
   "file_extension": ".py",
   "mimetype": "text/x-python",
   "name": "python",
   "nbconvert_exporter": "python",
   "pygments_lexer": "ipython3",
   "version": "3.7.6"
  }
 },
 "nbformat": 4,
 "nbformat_minor": 4
}
