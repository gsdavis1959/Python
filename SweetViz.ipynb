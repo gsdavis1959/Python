{
  "nbformat": 4,
  "nbformat_minor": 0,
  "metadata": {
    "colab": {
      "name": "SweetViz.ipynb",
      "provenance": []
    },
    "kernelspec": {
      "name": "python3",
      "display_name": "Python 3"
    }
  },
  "cells": [
    {
      "cell_type": "code",
      "metadata": {
        "id": "ecixpkuVIx53",
        "outputId": "3725d68c-d05e-4157-83e1-939c384f2cb0",
        "colab": {
          "base_uri": "https://localhost:8080/",
          "height": 488
        }
      },
      "source": [
        "#installing sweetviz library\n",
        "!pip install sweetviz"
      ],
      "execution_count": 1,
      "outputs": [
        {
          "output_type": "stream",
          "text": [
            "Collecting sweetviz\n",
            "\u001b[?25l  Downloading https://files.pythonhosted.org/packages/87/8a/a4025101bfc8141e3d9f2fd68b3861183dd165ee632af6bf4d9308c89229/sweetviz-1.0b6-py3-none-any.whl (325kB)\n",
            "\r\u001b[K     |█                               | 10kB 16.6MB/s eta 0:00:01\r\u001b[K     |██                              | 20kB 2.2MB/s eta 0:00:01\r\u001b[K     |███                             | 30kB 2.7MB/s eta 0:00:01\r\u001b[K     |████                            | 40kB 3.0MB/s eta 0:00:01\r\u001b[K     |█████                           | 51kB 2.4MB/s eta 0:00:01\r\u001b[K     |██████                          | 61kB 2.8MB/s eta 0:00:01\r\u001b[K     |███████                         | 71kB 3.0MB/s eta 0:00:01\r\u001b[K     |████████                        | 81kB 3.3MB/s eta 0:00:01\r\u001b[K     |█████████                       | 92kB 3.5MB/s eta 0:00:01\r\u001b[K     |██████████                      | 102kB 3.5MB/s eta 0:00:01\r\u001b[K     |███████████                     | 112kB 3.5MB/s eta 0:00:01\r\u001b[K     |████████████                    | 122kB 3.5MB/s eta 0:00:01\r\u001b[K     |█████████████                   | 133kB 3.5MB/s eta 0:00:01\r\u001b[K     |██████████████                  | 143kB 3.5MB/s eta 0:00:01\r\u001b[K     |███████████████                 | 153kB 3.5MB/s eta 0:00:01\r\u001b[K     |████████████████                | 163kB 3.5MB/s eta 0:00:01\r\u001b[K     |█████████████████▏              | 174kB 3.5MB/s eta 0:00:01\r\u001b[K     |██████████████████▏             | 184kB 3.5MB/s eta 0:00:01\r\u001b[K     |███████████████████▏            | 194kB 3.5MB/s eta 0:00:01\r\u001b[K     |████████████████████▏           | 204kB 3.5MB/s eta 0:00:01\r\u001b[K     |█████████████████████▏          | 215kB 3.5MB/s eta 0:00:01\r\u001b[K     |██████████████████████▏         | 225kB 3.5MB/s eta 0:00:01\r\u001b[K     |███████████████████████▏        | 235kB 3.5MB/s eta 0:00:01\r\u001b[K     |████████████████████████▏       | 245kB 3.5MB/s eta 0:00:01\r\u001b[K     |█████████████████████████▏      | 256kB 3.5MB/s eta 0:00:01\r\u001b[K     |██████████████████████████▏     | 266kB 3.5MB/s eta 0:00:01\r\u001b[K     |███████████████████████████▏    | 276kB 3.5MB/s eta 0:00:01\r\u001b[K     |████████████████████████████▏   | 286kB 3.5MB/s eta 0:00:01\r\u001b[K     |█████████████████████████████▏  | 296kB 3.5MB/s eta 0:00:01\r\u001b[K     |██████████████████████████████▏ | 307kB 3.5MB/s eta 0:00:01\r\u001b[K     |███████████████████████████████▏| 317kB 3.5MB/s eta 0:00:01\r\u001b[K     |████████████████████████████████| 327kB 3.5MB/s \n",
            "\u001b[?25hRequirement already satisfied: numpy>=1.16.0 in /usr/local/lib/python3.6/dist-packages (from sweetviz) (1.18.5)\n",
            "Requirement already satisfied: pandas!=1.0.0,!=1.0.1,!=1.0.2,>=0.25.3 in /usr/local/lib/python3.6/dist-packages (from sweetviz) (1.1.2)\n",
            "Collecting importlib-resources>=1.2.0\n",
            "  Downloading https://files.pythonhosted.org/packages/ba/03/0f9595c0c2ef12590877f3c47e5f579759ce5caf817f8256d5dcbd8a1177/importlib_resources-3.0.0-py2.py3-none-any.whl\n",
            "Requirement already satisfied: jinja2>=2.11.1 in /usr/local/lib/python3.6/dist-packages (from sweetviz) (2.11.2)\n",
            "Requirement already satisfied: scipy>=1.3.2 in /usr/local/lib/python3.6/dist-packages (from sweetviz) (1.4.1)\n",
            "Requirement already satisfied: matplotlib>=3.1.3 in /usr/local/lib/python3.6/dist-packages (from sweetviz) (3.2.2)\n",
            "Collecting tqdm>=4.43.0\n",
            "\u001b[?25l  Downloading https://files.pythonhosted.org/packages/bd/cf/f91813073e4135c1183cadf968256764a6fe4e35c351d596d527c0540461/tqdm-4.50.2-py2.py3-none-any.whl (70kB)\n",
            "\u001b[K     |████████████████████████████████| 71kB 5.0MB/s \n",
            "\u001b[?25hRequirement already satisfied: pytz>=2017.2 in /usr/local/lib/python3.6/dist-packages (from pandas!=1.0.0,!=1.0.1,!=1.0.2,>=0.25.3->sweetviz) (2018.9)\n",
            "Requirement already satisfied: python-dateutil>=2.7.3 in /usr/local/lib/python3.6/dist-packages (from pandas!=1.0.0,!=1.0.1,!=1.0.2,>=0.25.3->sweetviz) (2.8.1)\n",
            "Requirement already satisfied: zipp>=0.4; python_version < \"3.8\" in /usr/local/lib/python3.6/dist-packages (from importlib-resources>=1.2.0->sweetviz) (3.2.0)\n",
            "Requirement already satisfied: MarkupSafe>=0.23 in /usr/local/lib/python3.6/dist-packages (from jinja2>=2.11.1->sweetviz) (1.1.1)\n",
            "Requirement already satisfied: kiwisolver>=1.0.1 in /usr/local/lib/python3.6/dist-packages (from matplotlib>=3.1.3->sweetviz) (1.2.0)\n",
            "Requirement already satisfied: cycler>=0.10 in /usr/local/lib/python3.6/dist-packages (from matplotlib>=3.1.3->sweetviz) (0.10.0)\n",
            "Requirement already satisfied: pyparsing!=2.0.4,!=2.1.2,!=2.1.6,>=2.0.1 in /usr/local/lib/python3.6/dist-packages (from matplotlib>=3.1.3->sweetviz) (2.4.7)\n",
            "Requirement already satisfied: six>=1.5 in /usr/local/lib/python3.6/dist-packages (from python-dateutil>=2.7.3->pandas!=1.0.0,!=1.0.1,!=1.0.2,>=0.25.3->sweetviz) (1.15.0)\n",
            "Installing collected packages: importlib-resources, tqdm, sweetviz\n",
            "  Found existing installation: tqdm 4.41.1\n",
            "    Uninstalling tqdm-4.41.1:\n",
            "      Successfully uninstalled tqdm-4.41.1\n",
            "Successfully installed importlib-resources-3.0.0 sweetviz-1.0b6 tqdm-4.50.2\n"
          ],
          "name": "stdout"
        }
      ]
    },
    {
      "cell_type": "code",
      "metadata": {
        "id": "W_bWm6Q4I9Z0"
      },
      "source": [
        "import pandas as pd\n",
        "url = 'https://raw.githubusercontent.com/nytimes/covid-19-data/master/us-states.csv'\n",
        "df = pd.read_csv(url)"
      ],
      "execution_count": 9,
      "outputs": []
    },
    {
      "cell_type": "code",
      "metadata": {
        "id": "Pta36sTJJRAD",
        "outputId": "44e302eb-3a8e-475f-cf5d-d195171cdc70",
        "colab": {
          "base_uri": "https://localhost:8080/",
          "height": 202
        }
      },
      "source": [
        "df.head()"
      ],
      "execution_count": 10,
      "outputs": [
        {
          "output_type": "execute_result",
          "data": {
            "text/html": [
              "<div>\n",
              "<style scoped>\n",
              "    .dataframe tbody tr th:only-of-type {\n",
              "        vertical-align: middle;\n",
              "    }\n",
              "\n",
              "    .dataframe tbody tr th {\n",
              "        vertical-align: top;\n",
              "    }\n",
              "\n",
              "    .dataframe thead th {\n",
              "        text-align: right;\n",
              "    }\n",
              "</style>\n",
              "<table border=\"1\" class=\"dataframe\">\n",
              "  <thead>\n",
              "    <tr style=\"text-align: right;\">\n",
              "      <th></th>\n",
              "      <th>date</th>\n",
              "      <th>state</th>\n",
              "      <th>fips</th>\n",
              "      <th>cases</th>\n",
              "      <th>deaths</th>\n",
              "    </tr>\n",
              "  </thead>\n",
              "  <tbody>\n",
              "    <tr>\n",
              "      <th>0</th>\n",
              "      <td>2020-01-21</td>\n",
              "      <td>Washington</td>\n",
              "      <td>53</td>\n",
              "      <td>1</td>\n",
              "      <td>0</td>\n",
              "    </tr>\n",
              "    <tr>\n",
              "      <th>1</th>\n",
              "      <td>2020-01-22</td>\n",
              "      <td>Washington</td>\n",
              "      <td>53</td>\n",
              "      <td>1</td>\n",
              "      <td>0</td>\n",
              "    </tr>\n",
              "    <tr>\n",
              "      <th>2</th>\n",
              "      <td>2020-01-23</td>\n",
              "      <td>Washington</td>\n",
              "      <td>53</td>\n",
              "      <td>1</td>\n",
              "      <td>0</td>\n",
              "    </tr>\n",
              "    <tr>\n",
              "      <th>3</th>\n",
              "      <td>2020-01-24</td>\n",
              "      <td>Illinois</td>\n",
              "      <td>17</td>\n",
              "      <td>1</td>\n",
              "      <td>0</td>\n",
              "    </tr>\n",
              "    <tr>\n",
              "      <th>4</th>\n",
              "      <td>2020-01-24</td>\n",
              "      <td>Washington</td>\n",
              "      <td>53</td>\n",
              "      <td>1</td>\n",
              "      <td>0</td>\n",
              "    </tr>\n",
              "  </tbody>\n",
              "</table>\n",
              "</div>"
            ],
            "text/plain": [
              "         date       state  fips  cases  deaths\n",
              "0  2020-01-21  Washington    53      1       0\n",
              "1  2020-01-22  Washington    53      1       0\n",
              "2  2020-01-23  Washington    53      1       0\n",
              "3  2020-01-24    Illinois    17      1       0\n",
              "4  2020-01-24  Washington    53      1       0"
            ]
          },
          "metadata": {
            "tags": []
          },
          "execution_count": 10
        }
      ]
    },
    {
      "cell_type": "code",
      "metadata": {
        "id": "7Th3Qn--JWnE",
        "outputId": "472aaea0-9896-44e2-c298-3eb6007d939a",
        "colab": {
          "base_uri": "https://localhost:8080/",
          "height": 107
        }
      },
      "source": [
        "import sweetviz as sv\n",
        "#analyzing the dataset\n",
        "report = sv.analyze(df)\n",
        "#display the report\n",
        "report.show_html('Report.html')"
      ],
      "execution_count": 12,
      "outputs": [
        {
          "output_type": "stream",
          "text": [
            ":FEATURES DONE:                    |█████████████████████| [100%]   00:02  -> (00:00 left)\n",
            ":PAIRWISE DONE:                    |█████████████████████| [100%]   00:00  -> (00:00 left)\n"
          ],
          "name": "stderr"
        },
        {
          "output_type": "stream",
          "text": [
            "Creating Associations graph... DONE!\n",
            "Report Report.html was generated! NOTEBOOK/COLAB USERS: no browser will pop up, the report is saved in your notebook/colab files.\n"
          ],
          "name": "stdout"
        }
      ]
    }
  ]
}