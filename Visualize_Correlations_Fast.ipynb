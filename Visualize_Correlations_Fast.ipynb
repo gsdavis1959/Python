{
  "nbformat": 4,
  "nbformat_minor": 0,
  "metadata": {
    "colab": {
      "name": "Visualize Correlations Fast.ipynb",
      "provenance": [],
      "collapsed_sections": []
    },
    "kernelspec": {
      "name": "python3",
      "display_name": "Python 3"
    },
    "language_info": {
      "name": "python"
    }
  },
  "cells": [
    {
      "cell_type": "code",
      "metadata": {
        "id": "B5p5mfz0S9Tk"
      },
      "source": [
        "import numpy as np\n",
        "import pandas as pd\n",
        "df = pd.DataFrame(np.random.randint(0, 100, size=(15, 4)), columns=list(\"ABCD\"))"
      ],
      "execution_count": 1,
      "outputs": []
    },
    {
      "cell_type": "code",
      "metadata": {
        "colab": {
          "base_uri": "https://localhost:8080/",
          "height": 126
        },
        "id": "DhX0Nrt6TGrz",
        "outputId": "aa04e8f3-7485-432f-ede7-60d5100d3ab9"
      },
      "source": [
        "df.corr().style.background_gradient(cmap=\"Blues\")"
      ],
      "execution_count": 2,
      "outputs": [
        {
          "output_type": "execute_result",
          "data": {
            "text/html": [
              "<style  type=\"text/css\" >\n",
              "#T_664d485e_02ba_11ec_adfb_0242ac1c0002row0_col0,#T_664d485e_02ba_11ec_adfb_0242ac1c0002row1_col1,#T_664d485e_02ba_11ec_adfb_0242ac1c0002row2_col2,#T_664d485e_02ba_11ec_adfb_0242ac1c0002row3_col3{\n",
              "            background-color:  #08306b;\n",
              "            color:  #f1f1f1;\n",
              "        }#T_664d485e_02ba_11ec_adfb_0242ac1c0002row0_col1{\n",
              "            background-color:  #99c7e0;\n",
              "            color:  #000000;\n",
              "        }#T_664d485e_02ba_11ec_adfb_0242ac1c0002row0_col2{\n",
              "            background-color:  #97c6df;\n",
              "            color:  #000000;\n",
              "        }#T_664d485e_02ba_11ec_adfb_0242ac1c0002row0_col3{\n",
              "            background-color:  #82bbdb;\n",
              "            color:  #000000;\n",
              "        }#T_664d485e_02ba_11ec_adfb_0242ac1c0002row1_col0,#T_664d485e_02ba_11ec_adfb_0242ac1c0002row1_col2,#T_664d485e_02ba_11ec_adfb_0242ac1c0002row1_col3,#T_664d485e_02ba_11ec_adfb_0242ac1c0002row2_col0,#T_664d485e_02ba_11ec_adfb_0242ac1c0002row2_col1{\n",
              "            background-color:  #f7fbff;\n",
              "            color:  #000000;\n",
              "        }#T_664d485e_02ba_11ec_adfb_0242ac1c0002row2_col3{\n",
              "            background-color:  #e2edf8;\n",
              "            color:  #000000;\n",
              "        }#T_664d485e_02ba_11ec_adfb_0242ac1c0002row3_col0{\n",
              "            background-color:  #c8dcf0;\n",
              "            color:  #000000;\n",
              "        }#T_664d485e_02ba_11ec_adfb_0242ac1c0002row3_col1{\n",
              "            background-color:  #d6e5f4;\n",
              "            color:  #000000;\n",
              "        }#T_664d485e_02ba_11ec_adfb_0242ac1c0002row3_col2{\n",
              "            background-color:  #c3daee;\n",
              "            color:  #000000;\n",
              "        }</style><table id=\"T_664d485e_02ba_11ec_adfb_0242ac1c0002\" ><thead>    <tr>        <th class=\"blank level0\" ></th>        <th class=\"col_heading level0 col0\" >A</th>        <th class=\"col_heading level0 col1\" >B</th>        <th class=\"col_heading level0 col2\" >C</th>        <th class=\"col_heading level0 col3\" >D</th>    </tr></thead><tbody>\n",
              "                <tr>\n",
              "                        <th id=\"T_664d485e_02ba_11ec_adfb_0242ac1c0002level0_row0\" class=\"row_heading level0 row0\" >A</th>\n",
              "                        <td id=\"T_664d485e_02ba_11ec_adfb_0242ac1c0002row0_col0\" class=\"data row0 col0\" >1.000000</td>\n",
              "                        <td id=\"T_664d485e_02ba_11ec_adfb_0242ac1c0002row0_col1\" class=\"data row0 col1\" >0.127496</td>\n",
              "                        <td id=\"T_664d485e_02ba_11ec_adfb_0242ac1c0002row0_col2\" class=\"data row0 col2\" >0.129351</td>\n",
              "                        <td id=\"T_664d485e_02ba_11ec_adfb_0242ac1c0002row0_col3\" class=\"data row0 col3\" >0.338798</td>\n",
              "            </tr>\n",
              "            <tr>\n",
              "                        <th id=\"T_664d485e_02ba_11ec_adfb_0242ac1c0002level0_row1\" class=\"row_heading level0 row1\" >B</th>\n",
              "                        <td id=\"T_664d485e_02ba_11ec_adfb_0242ac1c0002row1_col0\" class=\"data row1 col0\" >0.127496</td>\n",
              "                        <td id=\"T_664d485e_02ba_11ec_adfb_0242ac1c0002row1_col1\" class=\"data row1 col1\" >1.000000</td>\n",
              "                        <td id=\"T_664d485e_02ba_11ec_adfb_0242ac1c0002row1_col2\" class=\"data row1 col2\" >-0.430433</td>\n",
              "                        <td id=\"T_664d485e_02ba_11ec_adfb_0242ac1c0002row1_col3\" class=\"data row1 col3\" >-0.187426</td>\n",
              "            </tr>\n",
              "            <tr>\n",
              "                        <th id=\"T_664d485e_02ba_11ec_adfb_0242ac1c0002level0_row2\" class=\"row_heading level0 row2\" >C</th>\n",
              "                        <td id=\"T_664d485e_02ba_11ec_adfb_0242ac1c0002row2_col0\" class=\"data row2 col0\" >0.129351</td>\n",
              "                        <td id=\"T_664d485e_02ba_11ec_adfb_0242ac1c0002row2_col1\" class=\"data row2 col1\" >-0.430433</td>\n",
              "                        <td id=\"T_664d485e_02ba_11ec_adfb_0242ac1c0002row2_col2\" class=\"data row2 col2\" >1.000000</td>\n",
              "                        <td id=\"T_664d485e_02ba_11ec_adfb_0242ac1c0002row2_col3\" class=\"data row2 col3\" >-0.059935</td>\n",
              "            </tr>\n",
              "            <tr>\n",
              "                        <th id=\"T_664d485e_02ba_11ec_adfb_0242ac1c0002level0_row3\" class=\"row_heading level0 row3\" >D</th>\n",
              "                        <td id=\"T_664d485e_02ba_11ec_adfb_0242ac1c0002row3_col0\" class=\"data row3 col0\" >0.338798</td>\n",
              "                        <td id=\"T_664d485e_02ba_11ec_adfb_0242ac1c0002row3_col1\" class=\"data row3 col1\" >-0.187426</td>\n",
              "                        <td id=\"T_664d485e_02ba_11ec_adfb_0242ac1c0002row3_col2\" class=\"data row3 col2\" >-0.059935</td>\n",
              "                        <td id=\"T_664d485e_02ba_11ec_adfb_0242ac1c0002row3_col3\" class=\"data row3 col3\" >1.000000</td>\n",
              "            </tr>\n",
              "    </tbody></table>"
            ],
            "text/plain": [
              "<pandas.io.formats.style.Styler at 0x7f1ee00b6c50>"
            ]
          },
          "metadata": {},
          "execution_count": 2
        }
      ]
    },
    {
      "cell_type": "markdown",
      "metadata": {
        "id": "z1iD0tQ5TTTT"
      },
      "source": [
        "Spearman correlation is often used to evaluate relationships involving ordinal variables."
      ]
    },
    {
      "cell_type": "code",
      "metadata": {
        "colab": {
          "base_uri": "https://localhost:8080/",
          "height": 126
        },
        "id": "W1X47HVQTUqZ",
        "outputId": "87ebdf4a-8c92-42c3-8e81-b04a1cba4830"
      },
      "source": [
        "df.corr('spearman').style.background_gradient(cmap=\"Blues\")"
      ],
      "execution_count": 3,
      "outputs": [
        {
          "output_type": "execute_result",
          "data": {
            "text/html": [
              "<style  type=\"text/css\" >\n",
              "#T_8c785e9c_02ba_11ec_adfb_0242ac1c0002row0_col0,#T_8c785e9c_02ba_11ec_adfb_0242ac1c0002row1_col1,#T_8c785e9c_02ba_11ec_adfb_0242ac1c0002row2_col2,#T_8c785e9c_02ba_11ec_adfb_0242ac1c0002row3_col3{\n",
              "            background-color:  #08306b;\n",
              "            color:  #f1f1f1;\n",
              "        }#T_8c785e9c_02ba_11ec_adfb_0242ac1c0002row0_col1{\n",
              "            background-color:  #b8d5ea;\n",
              "            color:  #000000;\n",
              "        }#T_8c785e9c_02ba_11ec_adfb_0242ac1c0002row0_col2{\n",
              "            background-color:  #a5cde3;\n",
              "            color:  #000000;\n",
              "        }#T_8c785e9c_02ba_11ec_adfb_0242ac1c0002row0_col3{\n",
              "            background-color:  #5ba3d0;\n",
              "            color:  #000000;\n",
              "        }#T_8c785e9c_02ba_11ec_adfb_0242ac1c0002row1_col0,#T_8c785e9c_02ba_11ec_adfb_0242ac1c0002row1_col2,#T_8c785e9c_02ba_11ec_adfb_0242ac1c0002row2_col1,#T_8c785e9c_02ba_11ec_adfb_0242ac1c0002row2_col3{\n",
              "            background-color:  #f7fbff;\n",
              "            color:  #000000;\n",
              "        }#T_8c785e9c_02ba_11ec_adfb_0242ac1c0002row1_col3{\n",
              "            background-color:  #e9f2fa;\n",
              "            color:  #000000;\n",
              "        }#T_8c785e9c_02ba_11ec_adfb_0242ac1c0002row2_col0{\n",
              "            background-color:  #e7f0fa;\n",
              "            color:  #000000;\n",
              "        }#T_8c785e9c_02ba_11ec_adfb_0242ac1c0002row3_col0{\n",
              "            background-color:  #77b5d9;\n",
              "            color:  #000000;\n",
              "        }#T_8c785e9c_02ba_11ec_adfb_0242ac1c0002row3_col1{\n",
              "            background-color:  #caddf0;\n",
              "            color:  #000000;\n",
              "        }#T_8c785e9c_02ba_11ec_adfb_0242ac1c0002row3_col2{\n",
              "            background-color:  #d5e5f4;\n",
              "            color:  #000000;\n",
              "        }</style><table id=\"T_8c785e9c_02ba_11ec_adfb_0242ac1c0002\" ><thead>    <tr>        <th class=\"blank level0\" ></th>        <th class=\"col_heading level0 col0\" >A</th>        <th class=\"col_heading level0 col1\" >B</th>        <th class=\"col_heading level0 col2\" >C</th>        <th class=\"col_heading level0 col3\" >D</th>    </tr></thead><tbody>\n",
              "                <tr>\n",
              "                        <th id=\"T_8c785e9c_02ba_11ec_adfb_0242ac1c0002level0_row0\" class=\"row_heading level0 row0\" >A</th>\n",
              "                        <td id=\"T_8c785e9c_02ba_11ec_adfb_0242ac1c0002row0_col0\" class=\"data row0 col0\" >1.000000</td>\n",
              "                        <td id=\"T_8c785e9c_02ba_11ec_adfb_0242ac1c0002row0_col1\" class=\"data row0 col1\" >0.041219</td>\n",
              "                        <td id=\"T_8c785e9c_02ba_11ec_adfb_0242ac1c0002row0_col2\" class=\"data row0 col2\" >0.120181</td>\n",
              "                        <td id=\"T_8c785e9c_02ba_11ec_adfb_0242ac1c0002row0_col3\" class=\"data row0 col3\" >0.493740</td>\n",
              "            </tr>\n",
              "            <tr>\n",
              "                        <th id=\"T_8c785e9c_02ba_11ec_adfb_0242ac1c0002level0_row1\" class=\"row_heading level0 row1\" >B</th>\n",
              "                        <td id=\"T_8c785e9c_02ba_11ec_adfb_0242ac1c0002row1_col0\" class=\"data row1 col0\" >0.041219</td>\n",
              "                        <td id=\"T_8c785e9c_02ba_11ec_adfb_0242ac1c0002row1_col1\" class=\"data row1 col1\" >1.000000</td>\n",
              "                        <td id=\"T_8c785e9c_02ba_11ec_adfb_0242ac1c0002row1_col2\" class=\"data row1 col2\" >-0.360936</td>\n",
              "                        <td id=\"T_8c785e9c_02ba_11ec_adfb_0242ac1c0002row1_col3\" class=\"data row1 col3\" >-0.043088</td>\n",
              "            </tr>\n",
              "            <tr>\n",
              "                        <th id=\"T_8c785e9c_02ba_11ec_adfb_0242ac1c0002level0_row2\" class=\"row_heading level0 row2\" >C</th>\n",
              "                        <td id=\"T_8c785e9c_02ba_11ec_adfb_0242ac1c0002row2_col0\" class=\"data row2 col0\" >0.120181</td>\n",
              "                        <td id=\"T_8c785e9c_02ba_11ec_adfb_0242ac1c0002row2_col1\" class=\"data row2 col1\" >-0.360936</td>\n",
              "                        <td id=\"T_8c785e9c_02ba_11ec_adfb_0242ac1c0002row2_col2\" class=\"data row2 col2\" >1.000000</td>\n",
              "                        <td id=\"T_8c785e9c_02ba_11ec_adfb_0242ac1c0002row2_col3\" class=\"data row2 col3\" >-0.123091</td>\n",
              "            </tr>\n",
              "            <tr>\n",
              "                        <th id=\"T_8c785e9c_02ba_11ec_adfb_0242ac1c0002level0_row3\" class=\"row_heading level0 row3\" >D</th>\n",
              "                        <td id=\"T_8c785e9c_02ba_11ec_adfb_0242ac1c0002row3_col0\" class=\"data row3 col0\" >0.493740</td>\n",
              "                        <td id=\"T_8c785e9c_02ba_11ec_adfb_0242ac1c0002row3_col1\" class=\"data row3 col1\" >-0.043088</td>\n",
              "                        <td id=\"T_8c785e9c_02ba_11ec_adfb_0242ac1c0002row3_col2\" class=\"data row3 col2\" >-0.123091</td>\n",
              "                        <td id=\"T_8c785e9c_02ba_11ec_adfb_0242ac1c0002row3_col3\" class=\"data row3 col3\" >1.000000</td>\n",
              "            </tr>\n",
              "    </tbody></table>"
            ],
            "text/plain": [
              "<pandas.io.formats.style.Styler at 0x7f1eddb9d8d0>"
            ]
          },
          "metadata": {},
          "execution_count": 3
        }
      ]
    },
    {
      "cell_type": "markdown",
      "metadata": {
        "id": "rHHgcr8HTjHq"
      },
      "source": [
        "Kendall’s rank correlation improves upon this by reflecting the strength of the dependence between the variables being compared."
      ]
    },
    {
      "cell_type": "code",
      "metadata": {
        "colab": {
          "base_uri": "https://localhost:8080/",
          "height": 126
        },
        "id": "Uh3vKZVVTkMY",
        "outputId": "8d120c10-a71b-4093-82f1-aa43974fd188"
      },
      "source": [
        "df.corr('kendall').style.background_gradient(cmap=\"Blues\")"
      ],
      "execution_count": 4,
      "outputs": [
        {
          "output_type": "execute_result",
          "data": {
            "text/html": [
              "<style  type=\"text/css\" >\n",
              "#T_aed6bb3c_02ba_11ec_adfb_0242ac1c0002row0_col0,#T_aed6bb3c_02ba_11ec_adfb_0242ac1c0002row1_col1,#T_aed6bb3c_02ba_11ec_adfb_0242ac1c0002row2_col2,#T_aed6bb3c_02ba_11ec_adfb_0242ac1c0002row3_col3{\n",
              "            background-color:  #08306b;\n",
              "            color:  #f1f1f1;\n",
              "        }#T_aed6bb3c_02ba_11ec_adfb_0242ac1c0002row0_col1{\n",
              "            background-color:  #ccdff1;\n",
              "            color:  #000000;\n",
              "        }#T_aed6bb3c_02ba_11ec_adfb_0242ac1c0002row0_col2{\n",
              "            background-color:  #c6dbef;\n",
              "            color:  #000000;\n",
              "        }#T_aed6bb3c_02ba_11ec_adfb_0242ac1c0002row0_col3{\n",
              "            background-color:  #6fb0d7;\n",
              "            color:  #000000;\n",
              "        }#T_aed6bb3c_02ba_11ec_adfb_0242ac1c0002row1_col0,#T_aed6bb3c_02ba_11ec_adfb_0242ac1c0002row1_col2,#T_aed6bb3c_02ba_11ec_adfb_0242ac1c0002row2_col1,#T_aed6bb3c_02ba_11ec_adfb_0242ac1c0002row2_col3{\n",
              "            background-color:  #f7fbff;\n",
              "            color:  #000000;\n",
              "        }#T_aed6bb3c_02ba_11ec_adfb_0242ac1c0002row1_col3{\n",
              "            background-color:  #dfecf7;\n",
              "            color:  #000000;\n",
              "        }#T_aed6bb3c_02ba_11ec_adfb_0242ac1c0002row2_col0{\n",
              "            background-color:  #eff6fc;\n",
              "            color:  #000000;\n",
              "        }#T_aed6bb3c_02ba_11ec_adfb_0242ac1c0002row3_col0{\n",
              "            background-color:  #95c5df;\n",
              "            color:  #000000;\n",
              "        }#T_aed6bb3c_02ba_11ec_adfb_0242ac1c0002row3_col1{\n",
              "            background-color:  #d2e3f3;\n",
              "            color:  #000000;\n",
              "        }#T_aed6bb3c_02ba_11ec_adfb_0242ac1c0002row3_col2{\n",
              "            background-color:  #e7f1fa;\n",
              "            color:  #000000;\n",
              "        }</style><table id=\"T_aed6bb3c_02ba_11ec_adfb_0242ac1c0002\" ><thead>    <tr>        <th class=\"blank level0\" ></th>        <th class=\"col_heading level0 col0\" >A</th>        <th class=\"col_heading level0 col1\" >B</th>        <th class=\"col_heading level0 col2\" >C</th>        <th class=\"col_heading level0 col3\" >D</th>    </tr></thead><tbody>\n",
              "                <tr>\n",
              "                        <th id=\"T_aed6bb3c_02ba_11ec_adfb_0242ac1c0002level0_row0\" class=\"row_heading level0 row0\" >A</th>\n",
              "                        <td id=\"T_aed6bb3c_02ba_11ec_adfb_0242ac1c0002row0_col0\" class=\"data row0 col0\" >1.000000</td>\n",
              "                        <td id=\"T_aed6bb3c_02ba_11ec_adfb_0242ac1c0002row0_col1\" class=\"data row0 col1\" >0.029132</td>\n",
              "                        <td id=\"T_aed6bb3c_02ba_11ec_adfb_0242ac1c0002row0_col2\" class=\"data row0 col2\" >0.067974</td>\n",
              "                        <td id=\"T_aed6bb3c_02ba_11ec_adfb_0242ac1c0002row0_col3\" class=\"data row0 col3\" >0.413481</td>\n",
              "            </tr>\n",
              "            <tr>\n",
              "                        <th id=\"T_aed6bb3c_02ba_11ec_adfb_0242ac1c0002level0_row1\" class=\"row_heading level0 row1\" >B</th>\n",
              "                        <td id=\"T_aed6bb3c_02ba_11ec_adfb_0242ac1c0002row1_col0\" class=\"data row1 col0\" >0.029132</td>\n",
              "                        <td id=\"T_aed6bb3c_02ba_11ec_adfb_0242ac1c0002row1_col1\" class=\"data row1 col1\" >1.000000</td>\n",
              "                        <td id=\"T_aed6bb3c_02ba_11ec_adfb_0242ac1c0002row1_col2\" class=\"data row1 col2\" >-0.247525</td>\n",
              "                        <td id=\"T_aed6bb3c_02ba_11ec_adfb_0242ac1c0002row1_col3\" class=\"data row1 col3\" >-0.009804</td>\n",
              "            </tr>\n",
              "            <tr>\n",
              "                        <th id=\"T_aed6bb3c_02ba_11ec_adfb_0242ac1c0002level0_row2\" class=\"row_heading level0 row2\" >C</th>\n",
              "                        <td id=\"T_aed6bb3c_02ba_11ec_adfb_0242ac1c0002row2_col0\" class=\"data row2 col0\" >0.067974</td>\n",
              "                        <td id=\"T_aed6bb3c_02ba_11ec_adfb_0242ac1c0002row2_col1\" class=\"data row2 col1\" >-0.247525</td>\n",
              "                        <td id=\"T_aed6bb3c_02ba_11ec_adfb_0242ac1c0002row2_col2\" class=\"data row2 col2\" >1.000000</td>\n",
              "                        <td id=\"T_aed6bb3c_02ba_11ec_adfb_0242ac1c0002row2_col3\" class=\"data row2 col3\" >-0.147066</td>\n",
              "            </tr>\n",
              "            <tr>\n",
              "                        <th id=\"T_aed6bb3c_02ba_11ec_adfb_0242ac1c0002level0_row3\" class=\"row_heading level0 row3\" >D</th>\n",
              "                        <td id=\"T_aed6bb3c_02ba_11ec_adfb_0242ac1c0002row3_col0\" class=\"data row3 col0\" >0.413481</td>\n",
              "                        <td id=\"T_aed6bb3c_02ba_11ec_adfb_0242ac1c0002row3_col1\" class=\"data row3 col1\" >-0.009804</td>\n",
              "                        <td id=\"T_aed6bb3c_02ba_11ec_adfb_0242ac1c0002row3_col2\" class=\"data row3 col2\" >-0.147066</td>\n",
              "                        <td id=\"T_aed6bb3c_02ba_11ec_adfb_0242ac1c0002row3_col3\" class=\"data row3 col3\" >1.000000</td>\n",
              "            </tr>\n",
              "    </tbody></table>"
            ],
            "text/plain": [
              "<pandas.io.formats.style.Styler at 0x7f1edd8b0250>"
            ]
          },
          "metadata": {},
          "execution_count": 4
        }
      ]
    }
  ]
}