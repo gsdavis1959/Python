{
  "nbformat": 4,
  "nbformat_minor": 0,
  "metadata": {
    "colab": {
      "provenance": []
    },
    "kernelspec": {
      "name": "python3",
      "display_name": "Python 3"
    },
    "language_info": {
      "name": "python"
    }
  },
  "cells": [
    {
      "cell_type": "code",
      "metadata": {
        "id": "B5p5mfz0S9Tk"
      },
      "source": [
        "import numpy as np\n",
        "import pandas as pd\n",
        "df = pd.DataFrame(np.random.randint(0, 100, size=(15, 4)), columns=list(\"ABCD\"))"
      ],
      "execution_count": 1,
      "outputs": []
    },
    {
      "cell_type": "code",
      "metadata": {
        "colab": {
          "base_uri": "https://localhost:8080/",
          "height": 174
        },
        "id": "DhX0Nrt6TGrz",
        "outputId": "0a11eb33-2b43-47d9-ff4d-b6a5e98a426f"
      },
      "source": [
        "df.corr().style.background_gradient(cmap=\"Blues\")"
      ],
      "execution_count": 2,
      "outputs": [
        {
          "output_type": "execute_result",
          "data": {
            "text/plain": [
              "<pandas.io.formats.style.Styler at 0x7c056e6a5720>"
            ],
            "text/html": [
              "<style type=\"text/css\">\n",
              "#T_b9e2d_row0_col0, #T_b9e2d_row1_col1, #T_b9e2d_row2_col2, #T_b9e2d_row3_col3 {\n",
              "  background-color: #08306b;\n",
              "  color: #f1f1f1;\n",
              "}\n",
              "#T_b9e2d_row0_col1 {\n",
              "  background-color: #e3eef9;\n",
              "  color: #000000;\n",
              "}\n",
              "#T_b9e2d_row0_col2, #T_b9e2d_row3_col2 {\n",
              "  background-color: #72b2d8;\n",
              "  color: #f1f1f1;\n",
              "}\n",
              "#T_b9e2d_row0_col3 {\n",
              "  background-color: #65aad4;\n",
              "  color: #f1f1f1;\n",
              "}\n",
              "#T_b9e2d_row1_col0, #T_b9e2d_row1_col2, #T_b9e2d_row1_col3, #T_b9e2d_row3_col1 {\n",
              "  background-color: #f7fbff;\n",
              "  color: #000000;\n",
              "}\n",
              "#T_b9e2d_row2_col0 {\n",
              "  background-color: #7ab6d9;\n",
              "  color: #000000;\n",
              "}\n",
              "#T_b9e2d_row2_col1 {\n",
              "  background-color: #ebf3fb;\n",
              "  color: #000000;\n",
              "}\n",
              "#T_b9e2d_row2_col3 {\n",
              "  background-color: #66abd4;\n",
              "  color: #f1f1f1;\n",
              "}\n",
              "#T_b9e2d_row3_col0 {\n",
              "  background-color: #79b5d9;\n",
              "  color: #000000;\n",
              "}\n",
              "</style>\n",
              "<table id=\"T_b9e2d\" class=\"dataframe\">\n",
              "  <thead>\n",
              "    <tr>\n",
              "      <th class=\"blank level0\" >&nbsp;</th>\n",
              "      <th id=\"T_b9e2d_level0_col0\" class=\"col_heading level0 col0\" >A</th>\n",
              "      <th id=\"T_b9e2d_level0_col1\" class=\"col_heading level0 col1\" >B</th>\n",
              "      <th id=\"T_b9e2d_level0_col2\" class=\"col_heading level0 col2\" >C</th>\n",
              "      <th id=\"T_b9e2d_level0_col3\" class=\"col_heading level0 col3\" >D</th>\n",
              "    </tr>\n",
              "  </thead>\n",
              "  <tbody>\n",
              "    <tr>\n",
              "      <th id=\"T_b9e2d_level0_row0\" class=\"row_heading level0 row0\" >A</th>\n",
              "      <td id=\"T_b9e2d_row0_col0\" class=\"data row0 col0\" >1.000000</td>\n",
              "      <td id=\"T_b9e2d_row0_col1\" class=\"data row0 col1\" >-0.317771</td>\n",
              "      <td id=\"T_b9e2d_row0_col2\" class=\"data row0 col2\" >0.290157</td>\n",
              "      <td id=\"T_b9e2d_row0_col3\" class=\"data row0 col3\" >0.296383</td>\n",
              "    </tr>\n",
              "    <tr>\n",
              "      <th id=\"T_b9e2d_level0_row1\" class=\"row_heading level0 row1\" >B</th>\n",
              "      <td id=\"T_b9e2d_row1_col0\" class=\"data row1 col0\" >-0.317771</td>\n",
              "      <td id=\"T_b9e2d_row1_col1\" class=\"data row1 col1\" >1.000000</td>\n",
              "      <td id=\"T_b9e2d_row1_col2\" class=\"data row1 col2\" >-0.372635</td>\n",
              "      <td id=\"T_b9e2d_row1_col3\" class=\"data row1 col3\" >-0.461945</td>\n",
              "    </tr>\n",
              "    <tr>\n",
              "      <th id=\"T_b9e2d_level0_row2\" class=\"row_heading level0 row2\" >C</th>\n",
              "      <td id=\"T_b9e2d_row2_col0\" class=\"data row2 col0\" >0.290157</td>\n",
              "      <td id=\"T_b9e2d_row2_col1\" class=\"data row2 col1\" >-0.372635</td>\n",
              "      <td id=\"T_b9e2d_row2_col2\" class=\"data row2 col2\" >1.000000</td>\n",
              "      <td id=\"T_b9e2d_row2_col3\" class=\"data row2 col3\" >0.290472</td>\n",
              "    </tr>\n",
              "    <tr>\n",
              "      <th id=\"T_b9e2d_level0_row3\" class=\"row_heading level0 row3\" >D</th>\n",
              "      <td id=\"T_b9e2d_row3_col0\" class=\"data row3 col0\" >0.296383</td>\n",
              "      <td id=\"T_b9e2d_row3_col1\" class=\"data row3 col1\" >-0.461945</td>\n",
              "      <td id=\"T_b9e2d_row3_col2\" class=\"data row3 col2\" >0.290472</td>\n",
              "      <td id=\"T_b9e2d_row3_col3\" class=\"data row3 col3\" >1.000000</td>\n",
              "    </tr>\n",
              "  </tbody>\n",
              "</table>\n"
            ]
          },
          "metadata": {},
          "execution_count": 2
        }
      ]
    },
    {
      "cell_type": "markdown",
      "metadata": {
        "id": "z1iD0tQ5TTTT"
      },
      "source": [
        "Spearman correlation is often used to evaluate relationships involving ordinal variables."
      ]
    },
    {
      "cell_type": "code",
      "metadata": {
        "colab": {
          "base_uri": "https://localhost:8080/",
          "height": 174
        },
        "id": "W1X47HVQTUqZ",
        "outputId": "41112e43-35f2-41b4-9841-d4c773651c17"
      },
      "source": [
        "df.corr('spearman').style.background_gradient(cmap=\"Blues\")"
      ],
      "execution_count": 3,
      "outputs": [
        {
          "output_type": "execute_result",
          "data": {
            "text/plain": [
              "<pandas.io.formats.style.Styler at 0x7c053f5e3e50>"
            ],
            "text/html": [
              "<style type=\"text/css\">\n",
              "#T_c18b6_row0_col0, #T_c18b6_row1_col1, #T_c18b6_row2_col2, #T_c18b6_row3_col3 {\n",
              "  background-color: #08306b;\n",
              "  color: #f1f1f1;\n",
              "}\n",
              "#T_c18b6_row0_col1 {\n",
              "  background-color: #dae8f6;\n",
              "  color: #000000;\n",
              "}\n",
              "#T_c18b6_row0_col2 {\n",
              "  background-color: #8cc0dd;\n",
              "  color: #000000;\n",
              "}\n",
              "#T_c18b6_row0_col3 {\n",
              "  background-color: #99c7e0;\n",
              "  color: #000000;\n",
              "}\n",
              "#T_c18b6_row1_col0, #T_c18b6_row1_col2, #T_c18b6_row1_col3, #T_c18b6_row3_col1 {\n",
              "  background-color: #f7fbff;\n",
              "  color: #000000;\n",
              "}\n",
              "#T_c18b6_row2_col0 {\n",
              "  background-color: #a0cbe2;\n",
              "  color: #000000;\n",
              "}\n",
              "#T_c18b6_row2_col1 {\n",
              "  background-color: #e9f2fa;\n",
              "  color: #000000;\n",
              "}\n",
              "#T_c18b6_row2_col3 {\n",
              "  background-color: #79b5d9;\n",
              "  color: #000000;\n",
              "}\n",
              "#T_c18b6_row3_col0 {\n",
              "  background-color: #bcd7eb;\n",
              "  color: #000000;\n",
              "}\n",
              "#T_c18b6_row3_col2 {\n",
              "  background-color: #8abfdd;\n",
              "  color: #000000;\n",
              "}\n",
              "</style>\n",
              "<table id=\"T_c18b6\" class=\"dataframe\">\n",
              "  <thead>\n",
              "    <tr>\n",
              "      <th class=\"blank level0\" >&nbsp;</th>\n",
              "      <th id=\"T_c18b6_level0_col0\" class=\"col_heading level0 col0\" >A</th>\n",
              "      <th id=\"T_c18b6_level0_col1\" class=\"col_heading level0 col1\" >B</th>\n",
              "      <th id=\"T_c18b6_level0_col2\" class=\"col_heading level0 col2\" >C</th>\n",
              "      <th id=\"T_c18b6_level0_col3\" class=\"col_heading level0 col3\" >D</th>\n",
              "    </tr>\n",
              "  </thead>\n",
              "  <tbody>\n",
              "    <tr>\n",
              "      <th id=\"T_c18b6_level0_row0\" class=\"row_heading level0 row0\" >A</th>\n",
              "      <td id=\"T_c18b6_row0_col0\" class=\"data row0 col0\" >1.000000</td>\n",
              "      <td id=\"T_c18b6_row0_col1\" class=\"data row0 col1\" >-0.224508</td>\n",
              "      <td id=\"T_c18b6_row0_col2\" class=\"data row0 col2\" >0.226297</td>\n",
              "      <td id=\"T_c18b6_row0_col3\" class=\"data row0 col3\" >0.123435</td>\n",
              "    </tr>\n",
              "    <tr>\n",
              "      <th id=\"T_c18b6_level0_row1\" class=\"row_heading level0 row1\" >B</th>\n",
              "      <td id=\"T_c18b6_row1_col0\" class=\"data row1 col0\" >-0.224508</td>\n",
              "      <td id=\"T_c18b6_row1_col1\" class=\"data row1 col1\" >1.000000</td>\n",
              "      <td id=\"T_c18b6_row1_col2\" class=\"data row1 col2\" >-0.330948</td>\n",
              "      <td id=\"T_c18b6_row1_col3\" class=\"data row1 col3\" >-0.436494</td>\n",
              "    </tr>\n",
              "    <tr>\n",
              "      <th id=\"T_c18b6_level0_row2\" class=\"row_heading level0 row2\" >C</th>\n",
              "      <td id=\"T_c18b6_row2_col0\" class=\"data row2 col0\" >0.226297</td>\n",
              "      <td id=\"T_c18b6_row2_col1\" class=\"data row2 col1\" >-0.330948</td>\n",
              "      <td id=\"T_c18b6_row2_col2\" class=\"data row2 col2\" >1.000000</td>\n",
              "      <td id=\"T_c18b6_row2_col3\" class=\"data row2 col3\" >0.232558</td>\n",
              "    </tr>\n",
              "    <tr>\n",
              "      <th id=\"T_c18b6_level0_row3\" class=\"row_heading level0 row3\" >D</th>\n",
              "      <td id=\"T_c18b6_row3_col0\" class=\"data row3 col0\" >0.123435</td>\n",
              "      <td id=\"T_c18b6_row3_col1\" class=\"data row3 col1\" >-0.436494</td>\n",
              "      <td id=\"T_c18b6_row3_col2\" class=\"data row3 col2\" >0.232558</td>\n",
              "      <td id=\"T_c18b6_row3_col3\" class=\"data row3 col3\" >1.000000</td>\n",
              "    </tr>\n",
              "  </tbody>\n",
              "</table>\n"
            ]
          },
          "metadata": {},
          "execution_count": 3
        }
      ]
    },
    {
      "cell_type": "markdown",
      "metadata": {
        "id": "rHHgcr8HTjHq"
      },
      "source": [
        "Kendall’s rank correlation improves upon this by reflecting the strength of the dependence between the variables being compared."
      ]
    },
    {
      "cell_type": "code",
      "metadata": {
        "colab": {
          "base_uri": "https://localhost:8080/",
          "height": 174
        },
        "id": "Uh3vKZVVTkMY",
        "outputId": "35cf8848-449f-4130-b6dd-0807f34e380a"
      },
      "source": [
        "df.corr('kendall').style.background_gradient(cmap=\"Blues\")"
      ],
      "execution_count": 4,
      "outputs": [
        {
          "output_type": "execute_result",
          "data": {
            "text/plain": [
              "<pandas.io.formats.style.Styler at 0x7c056e6a56c0>"
            ],
            "text/html": [
              "<style type=\"text/css\">\n",
              "#T_fc0f5_row0_col0, #T_fc0f5_row1_col1, #T_fc0f5_row2_col2, #T_fc0f5_row3_col3 {\n",
              "  background-color: #08306b;\n",
              "  color: #f1f1f1;\n",
              "}\n",
              "#T_fc0f5_row0_col1 {\n",
              "  background-color: #e0ecf8;\n",
              "  color: #000000;\n",
              "}\n",
              "#T_fc0f5_row0_col2 {\n",
              "  background-color: #add0e6;\n",
              "  color: #000000;\n",
              "}\n",
              "#T_fc0f5_row0_col3 {\n",
              "  background-color: #b5d4e9;\n",
              "  color: #000000;\n",
              "}\n",
              "#T_fc0f5_row1_col0, #T_fc0f5_row1_col2, #T_fc0f5_row1_col3, #T_fc0f5_row3_col1 {\n",
              "  background-color: #f7fbff;\n",
              "  color: #000000;\n",
              "}\n",
              "#T_fc0f5_row2_col0 {\n",
              "  background-color: #b3d3e8;\n",
              "  color: #000000;\n",
              "}\n",
              "#T_fc0f5_row2_col1 {\n",
              "  background-color: #e6f0f9;\n",
              "  color: #000000;\n",
              "}\n",
              "#T_fc0f5_row2_col3 {\n",
              "  background-color: #a3cce3;\n",
              "  color: #000000;\n",
              "}\n",
              "#T_fc0f5_row3_col0 {\n",
              "  background-color: #cde0f1;\n",
              "  color: #000000;\n",
              "}\n",
              "#T_fc0f5_row3_col2 {\n",
              "  background-color: #b7d4ea;\n",
              "  color: #000000;\n",
              "}\n",
              "</style>\n",
              "<table id=\"T_fc0f5\" class=\"dataframe\">\n",
              "  <thead>\n",
              "    <tr>\n",
              "      <th class=\"blank level0\" >&nbsp;</th>\n",
              "      <th id=\"T_fc0f5_level0_col0\" class=\"col_heading level0 col0\" >A</th>\n",
              "      <th id=\"T_fc0f5_level0_col1\" class=\"col_heading level0 col1\" >B</th>\n",
              "      <th id=\"T_fc0f5_level0_col2\" class=\"col_heading level0 col2\" >C</th>\n",
              "      <th id=\"T_fc0f5_level0_col3\" class=\"col_heading level0 col3\" >D</th>\n",
              "    </tr>\n",
              "  </thead>\n",
              "  <tbody>\n",
              "    <tr>\n",
              "      <th id=\"T_fc0f5_level0_row0\" class=\"row_heading level0 row0\" >A</th>\n",
              "      <td id=\"T_fc0f5_row0_col0\" class=\"data row0 col0\" >1.000000</td>\n",
              "      <td id=\"T_fc0f5_row0_col1\" class=\"data row0 col1\" >-0.182692</td>\n",
              "      <td id=\"T_fc0f5_row0_col2\" class=\"data row0 col2\" >0.182692</td>\n",
              "      <td id=\"T_fc0f5_row0_col3\" class=\"data row0 col3\" >0.067308</td>\n",
              "    </tr>\n",
              "    <tr>\n",
              "      <th id=\"T_fc0f5_level0_row1\" class=\"row_heading level0 row1\" >B</th>\n",
              "      <td id=\"T_fc0f5_row1_col0\" class=\"data row1 col0\" >-0.182692</td>\n",
              "      <td id=\"T_fc0f5_row1_col1\" class=\"data row1 col1\" >1.000000</td>\n",
              "      <td id=\"T_fc0f5_row1_col2\" class=\"data row1 col2\" >-0.221154</td>\n",
              "      <td id=\"T_fc0f5_row1_col3\" class=\"data row1 col3\" >-0.336538</td>\n",
              "    </tr>\n",
              "    <tr>\n",
              "      <th id=\"T_fc0f5_level0_row2\" class=\"row_heading level0 row2\" >C</th>\n",
              "      <td id=\"T_fc0f5_row2_col0\" class=\"data row2 col0\" >0.182692</td>\n",
              "      <td id=\"T_fc0f5_row2_col1\" class=\"data row2 col1\" >-0.221154</td>\n",
              "      <td id=\"T_fc0f5_row2_col2\" class=\"data row2 col2\" >1.000000</td>\n",
              "      <td id=\"T_fc0f5_row2_col3\" class=\"data row2 col3\" >0.144231</td>\n",
              "    </tr>\n",
              "    <tr>\n",
              "      <th id=\"T_fc0f5_level0_row3\" class=\"row_heading level0 row3\" >D</th>\n",
              "      <td id=\"T_fc0f5_row3_col0\" class=\"data row3 col0\" >0.067308</td>\n",
              "      <td id=\"T_fc0f5_row3_col1\" class=\"data row3 col1\" >-0.336538</td>\n",
              "      <td id=\"T_fc0f5_row3_col2\" class=\"data row3 col2\" >0.144231</td>\n",
              "      <td id=\"T_fc0f5_row3_col3\" class=\"data row3 col3\" >1.000000</td>\n",
              "    </tr>\n",
              "  </tbody>\n",
              "</table>\n"
            ]
          },
          "metadata": {},
          "execution_count": 4
        }
      ]
    },
    {
      "cell_type": "code",
      "source": [
        "from numpy import array, random, arange\n",
        "\n",
        "def xicor(X, Y, ties=True):\n",
        "    random.seed(42)\n",
        "    n = len(X)\n",
        "    order = array([i[0] for i in sorted(enumerate(X), key=lambda x: x[1])])\n",
        "    if ties:\n",
        "        l = array([sum(y >= Y[order]) for y in Y[order]])\n",
        "        r = l.copy()\n",
        "        for j in range(n):\n",
        "            if sum([r[j] == r[i] for i in range(n)]) > 1:\n",
        "                tie_index = array([r[j] == r[i] for i in range(n)])\n",
        "                r[tie_index] = random.choice(r[tie_index] - arange(0, sum([r[j] == r[i] for i in range(n)])), sum(tie_index), replace=False)\n",
        "        return 1 - n*sum( abs(r[1:] - r[:n-1]) ) / (2*sum(l*(n - l)))\n",
        "    else:\n",
        "        r = array([sum(y >= Y[order]) for y in Y[order]])\n",
        "        return 1 - 3 * sum( abs(r[1:] - r[:n-1]) ) / (n**2 - 1)"
      ],
      "metadata": {
        "id": "CGHY4RE6BVYJ"
      },
      "execution_count": 5,
      "outputs": []
    },
    {
      "cell_type": "code",
      "source": [
        "# new correlation - https://towardsdatascience.com/a-new-coefficient-of-correlation-64ae4f260310\n",
        "df.corr(method=xicor).style.background_gradient(cmap=\"Blues\")"
      ],
      "metadata": {
        "colab": {
          "base_uri": "https://localhost:8080/",
          "height": 174
        },
        "id": "TfDsaue7BbZc",
        "outputId": "f3363a56-aaf4-4436-f018-d07b6fb0a69e"
      },
      "execution_count": 6,
      "outputs": [
        {
          "output_type": "execute_result",
          "data": {
            "text/plain": [
              "<pandas.io.formats.style.Styler at 0x7c056f3853f0>"
            ],
            "text/html": [
              "<style type=\"text/css\">\n",
              "#T_d7cc4_row0_col0, #T_d7cc4_row1_col1, #T_d7cc4_row2_col2, #T_d7cc4_row3_col3 {\n",
              "  background-color: #08306b;\n",
              "  color: #f1f1f1;\n",
              "}\n",
              "#T_d7cc4_row0_col1, #T_d7cc4_row0_col3, #T_d7cc4_row3_col0, #T_d7cc4_row3_col2 {\n",
              "  background-color: #f7fbff;\n",
              "  color: #000000;\n",
              "}\n",
              "#T_d7cc4_row0_col2 {\n",
              "  background-color: #ebf3fb;\n",
              "  color: #000000;\n",
              "}\n",
              "#T_d7cc4_row1_col0 {\n",
              "  background-color: #dfebf7;\n",
              "  color: #000000;\n",
              "}\n",
              "#T_d7cc4_row1_col2 {\n",
              "  background-color: #c1d9ed;\n",
              "  color: #000000;\n",
              "}\n",
              "#T_d7cc4_row1_col3 {\n",
              "  background-color: #d9e7f5;\n",
              "  color: #000000;\n",
              "}\n",
              "#T_d7cc4_row2_col0 {\n",
              "  background-color: #e7f0fa;\n",
              "  color: #000000;\n",
              "}\n",
              "#T_d7cc4_row2_col1 {\n",
              "  background-color: #d3e3f3;\n",
              "  color: #000000;\n",
              "}\n",
              "#T_d7cc4_row2_col3 {\n",
              "  background-color: #f2f8fd;\n",
              "  color: #000000;\n",
              "}\n",
              "#T_d7cc4_row3_col1 {\n",
              "  background-color: #f1f7fd;\n",
              "  color: #000000;\n",
              "}\n",
              "</style>\n",
              "<table id=\"T_d7cc4\" class=\"dataframe\">\n",
              "  <thead>\n",
              "    <tr>\n",
              "      <th class=\"blank level0\" >&nbsp;</th>\n",
              "      <th id=\"T_d7cc4_level0_col0\" class=\"col_heading level0 col0\" >A</th>\n",
              "      <th id=\"T_d7cc4_level0_col1\" class=\"col_heading level0 col1\" >B</th>\n",
              "      <th id=\"T_d7cc4_level0_col2\" class=\"col_heading level0 col2\" >C</th>\n",
              "      <th id=\"T_d7cc4_level0_col3\" class=\"col_heading level0 col3\" >D</th>\n",
              "    </tr>\n",
              "  </thead>\n",
              "  <tbody>\n",
              "    <tr>\n",
              "      <th id=\"T_d7cc4_level0_row0\" class=\"row_heading level0 row0\" >A</th>\n",
              "      <td id=\"T_d7cc4_row0_col0\" class=\"data row0 col0\" >1.000000</td>\n",
              "      <td id=\"T_d7cc4_row0_col1\" class=\"data row0 col1\" >0.069149</td>\n",
              "      <td id=\"T_d7cc4_row0_col2\" class=\"data row0 col2\" >0.025271</td>\n",
              "      <td id=\"T_d7cc4_row0_col3\" class=\"data row0 col3\" >-0.063636</td>\n",
              "    </tr>\n",
              "    <tr>\n",
              "      <th id=\"T_d7cc4_level0_row1\" class=\"row_heading level0 row1\" >B</th>\n",
              "      <td id=\"T_d7cc4_row1_col0\" class=\"data row1 col0\" >0.069149</td>\n",
              "      <td id=\"T_d7cc4_row1_col1\" class=\"data row1 col1\" >1.000000</td>\n",
              "      <td id=\"T_d7cc4_row1_col2\" class=\"data row1 col2\" >0.241877</td>\n",
              "      <td id=\"T_d7cc4_row1_col3\" class=\"data row1 col3\" >0.100000</td>\n",
              "    </tr>\n",
              "    <tr>\n",
              "      <th id=\"T_d7cc4_level0_row2\" class=\"row_heading level0 row2\" >C</th>\n",
              "      <td id=\"T_d7cc4_row2_col0\" class=\"data row2 col0\" >0.025271</td>\n",
              "      <td id=\"T_d7cc4_row2_col1\" class=\"data row2 col1\" >0.241877</td>\n",
              "      <td id=\"T_d7cc4_row2_col2\" class=\"data row2 col2\" >1.000000</td>\n",
              "      <td id=\"T_d7cc4_row2_col3\" class=\"data row2 col3\" >-0.036364</td>\n",
              "    </tr>\n",
              "    <tr>\n",
              "      <th id=\"T_d7cc4_level0_row3\" class=\"row_heading level0 row3\" >D</th>\n",
              "      <td id=\"T_d7cc4_row3_col0\" class=\"data row3 col0\" >-0.063636</td>\n",
              "      <td id=\"T_d7cc4_row3_col1\" class=\"data row3 col1\" >0.100000</td>\n",
              "      <td id=\"T_d7cc4_row3_col2\" class=\"data row3 col2\" >-0.036364</td>\n",
              "      <td id=\"T_d7cc4_row3_col3\" class=\"data row3 col3\" >1.000000</td>\n",
              "    </tr>\n",
              "  </tbody>\n",
              "</table>\n"
            ]
          },
          "metadata": {},
          "execution_count": 6
        }
      ]
    }
  ]
}