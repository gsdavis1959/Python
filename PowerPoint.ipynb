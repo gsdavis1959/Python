{
  "nbformat": 4,
  "nbformat_minor": 0,
  "metadata": {
    "colab": {
      "name": "PowerPoint.ipynb",
      "provenance": []
    },
    "kernelspec": {
      "name": "python3",
      "display_name": "Python 3"
    },
    "language_info": {
      "name": "python"
    }
  },
  "cells": [
    {
      "cell_type": "code",
      "metadata": {
        "colab": {
          "base_uri": "https://localhost:8080/"
        },
        "id": "DBSmWxauQSX7",
        "outputId": "71c604b4-1ada-4101-8600-2dfc44cd4729"
      },
      "source": [
        "!pip install python-pptx"
      ],
      "execution_count": 1,
      "outputs": [
        {
          "output_type": "stream",
          "name": "stdout",
          "text": [
            "Collecting python-pptx\n",
            "  Downloading python-pptx-0.6.21.tar.gz (10.1 MB)\n",
            "\u001b[K     |████████████████████████████████| 10.1 MB 5.1 MB/s \n",
            "\u001b[?25hRequirement already satisfied: lxml>=3.1.0 in /usr/local/lib/python3.7/dist-packages (from python-pptx) (4.2.6)\n",
            "Requirement already satisfied: Pillow>=3.3.2 in /usr/local/lib/python3.7/dist-packages (from python-pptx) (7.1.2)\n",
            "Collecting XlsxWriter>=0.5.7\n",
            "  Downloading XlsxWriter-3.0.1-py3-none-any.whl (148 kB)\n",
            "\u001b[K     |████████████████████████████████| 148 kB 49.3 MB/s \n",
            "\u001b[?25hBuilding wheels for collected packages: python-pptx\n",
            "  Building wheel for python-pptx (setup.py) ... \u001b[?25l\u001b[?25hdone\n",
            "  Created wheel for python-pptx: filename=python_pptx-0.6.21-py3-none-any.whl size=470950 sha256=cd6132a060b674acc5afc89ee2d3066f90d376f74a436c400e311a2428b0f2ae\n",
            "  Stored in directory: /root/.cache/pip/wheels/a7/ab/f4/52560d0d4bd4055e9261c6df6e51c7b56c2b23cca3dee811a3\n",
            "Successfully built python-pptx\n",
            "Installing collected packages: XlsxWriter, python-pptx\n",
            "Successfully installed XlsxWriter-3.0.1 python-pptx-0.6.21\n"
          ]
        }
      ]
    },
    {
      "cell_type": "code",
      "metadata": {
        "id": "6sBrWu6EQdNt"
      },
      "source": [
        "from pptx import Presentation\n",
        "from pptx.enum.shapes import MSO_SHAPE\n",
        "from pptx.dml.color import RGBColor\n",
        "from pptx.util import Inches, Pt\n",
        "from pptx.enum.dml import MSO_THEME_COLOR"
      ],
      "execution_count": 19,
      "outputs": []
    },
    {
      "cell_type": "code",
      "metadata": {
        "id": "Pxlr9j2lQjM_"
      },
      "source": [
        "title='Automated Presentation Creating Process\\n\\\n",
        "How to Create PowerPoint Presentations with Python '\n",
        "pylogo='/content/creative-routines-edit4-scaled.png'\n",
        "pptlogo='/content/creative-routines-edit4-scaled.png'\n",
        "prs = Presentation()"
      ],
      "execution_count": 21,
      "outputs": []
    },
    {
      "cell_type": "code",
      "metadata": {
        "id": "QD4b073JQnP2"
      },
      "source": [
        "# front page\n",
        "#-----------------------------------------------------------------------------------------------------------------------\n",
        "slide = prs.slides.add_slide(prs.slide_layouts[6])\n",
        "prs.slide_width = Inches(16)\n",
        "prs.slide_height = Inches(9)\n",
        "\n",
        "\n",
        "\n",
        "shape = slide.shapes.add_shape(\n",
        "    MSO_SHAPE.RECTANGLE, 0, Inches(9/1.5),Inches(16),Inches(9/8.5)\n",
        ")\n",
        "shape.shadow.inherit = False\n",
        "fill=shape.fill\n",
        "fill.solid()\n",
        "fill.fore_color.rgb=RGBColor(255,0,0)\n",
        "shape.text= title\n",
        "line=shape.line\n",
        "line.color.rgb=RGBColor(255,0,0)\n",
        "logo1=slide.shapes.add_picture(pylogo,Inches(13.8),Inches(6.0),height=Inches(1.0),width=Inches(1.0))\n",
        "logo2=slide.shapes.add_picture(pptlogo,Inches(14.5),Inches(5.8),height=Inches(1.5),width=Inches(1.5))\n",
        "#-----------------------------------------------------------------------------------------------------------------------\n"
      ],
      "execution_count": 22,
      "outputs": []
    },
    {
      "cell_type": "code",
      "metadata": {
        "id": "RmwQvN49UW0U"
      },
      "source": [
        "#Page 1\n",
        "#-----------------------------------------------------------------------------------------------------------------------\n",
        "slide = prs.slides.add_slide(prs.slide_layouts[6])\n",
        "\n",
        "shape = slide.shapes.add_shape(\n",
        "    MSO_SHAPE.RECTANGLE, 0, Inches(0.5),Inches(16),Inches(0.3))\n",
        "shape.shadow.inherit = False\n",
        "fill=shape.fill\n",
        "fill.solid()\n",
        "fill.fore_color.rgb=RGBColor(255,0,0)\n",
        "shape.text= \"How to Add a Chart\"\n",
        "line=shape.line\n",
        "line.color.rgb=RGBColor(255,0,0)\n",
        "logo1=slide.shapes.add_picture(pylogo,Inches(14.5),Inches(0.4),height=Inches(0.5),width=Inches(0.5))\n",
        "logo2=slide.shapes.add_picture(pptlogo,Inches(15.0),Inches(0.4),height=Inches(0.5),width=Inches(0.5))\n"
      ],
      "execution_count": 23,
      "outputs": []
    },
    {
      "cell_type": "code",
      "metadata": {
        "id": "LbjH1yagUb1Y"
      },
      "source": [
        "from pptx.chart.data import CategoryChartData\n",
        "from pptx.enum.chart import XL_CHART_TYPE\n",
        "from pptx.chart.data import ChartData\n",
        "from pptx.util import Inches\n",
        "import numpy as np \n",
        "import datetime"
      ],
      "execution_count": 24,
      "outputs": []
    },
    {
      "cell_type": "code",
      "metadata": {
        "id": "oh14JfTXUhrv"
      },
      "source": [
        "N = 100\n",
        "\n",
        "random_x = np.random.randn(N) + 10\n",
        "random_y = np.random.randn(N)+5\n",
        "random_z = np.random.randn(N) +20\n",
        "\n",
        "dte=datetime.datetime.today()\n",
        "dt_lst=[dte-datetime.timedelta(days=i) for i in range(N)]\n",
        "\n",
        "chart_data = ChartData()\n",
        "chart_data.categories = dt_lst\n",
        "chart_data.add_series('Data 1',    random_x)\n",
        "chart_data.add_series('Data 2',    random_y)\n",
        "chart_data.add_series('Data 3',    random_z)\n",
        "\n",
        "x, y, cx, cy = Inches(1), Inches(2), Inches(14), Inches(6)\n",
        "chart = slide.shapes.add_chart(\n",
        "    XL_CHART_TYPE.LINE, x, y, cx, cy, chart_data\n",
        ").chart\n",
        "chart.has_legend = True\n",
        "chart.legend.include_in_layout = False\n",
        "chart.series[2].smooth = True\n",
        "\n"
      ],
      "execution_count": 25,
      "outputs": []
    },
    {
      "cell_type": "code",
      "metadata": {
        "id": "-PJHqPK4Un7x"
      },
      "source": [
        "#Page 2\n",
        "#-----------------------------------------------------------------------------------------------------------------------\n",
        "slide = prs.slides.add_slide(prs.slide_layouts[6])\n",
        "\n",
        "shape = slide.shapes.add_shape(\n",
        "    MSO_SHAPE.RECTANGLE, 0, Inches(0.5),Inches(16),Inches(0.3))\n",
        "shape.shadow.inherit = False\n",
        "fill=shape.fill\n",
        "fill.solid()\n",
        "fill.fore_color.rgb=RGBColor(255,0,0)\n",
        "shape.text= \"How to Add an Image\"\n",
        "line=shape.line\n",
        "line.color.rgb=RGBColor(255,0,0)\n",
        "logo1=slide.shapes.add_picture(pylogo,Inches(14.5),Inches(0.4),height=Inches(0.5),width=Inches(0.5))\n",
        "logo2=slide.shapes.add_picture(pptlogo,Inches(15.0),Inches(0.4),height=Inches(0.5),width=Inches(0.5))\n"
      ],
      "execution_count": 26,
      "outputs": []
    },
    {
      "cell_type": "code",
      "metadata": {
        "id": "FgTM7tw4UseT"
      },
      "source": [
        "import plotly.graph_objects as go\n",
        "import pandas as pd"
      ],
      "execution_count": 27,
      "outputs": []
    },
    {
      "cell_type": "code",
      "metadata": {
        "id": "E4xwzSo7Q88o"
      },
      "source": [
        "df = pd.read_csv('https://raw.githubusercontent.com/plotly/datasets/\\\n",
        "718417069ead87650b90472464c7565dc8c2cb1c/sunburst-coffee-flavors-complete.csv')\n",
        "\n"
      ],
      "execution_count": 29,
      "outputs": []
    },
    {
      "cell_type": "code",
      "metadata": {
        "colab": {
          "base_uri": "https://localhost:8080/",
          "height": 1000
        },
        "id": "tviMFMeWU_ZW",
        "outputId": "9a2509c9-875e-413b-e0c3-63039caf4e4f"
      },
      "source": [
        "fig = go.Figure(go.Sunburst(\n",
        "        ids = df.ids,\n",
        "        labels = df.labels,\n",
        "        parents = df.parents))\n",
        "\n",
        "\n",
        "fig.write_image(\"img.png\")\n",
        "\n",
        "imgpth='img.png'\n",
        "\n",
        "left = top = Inches(1)\n",
        "pic = slide.shapes.add_picture(imgpth, left, top)"
      ],
      "execution_count": 34,
      "outputs": [
        {
          "output_type": "error",
          "ename": "ValueError",
          "evalue": "ignored",
          "traceback": [
            "\u001b[0;31m---------------------------------------------------------------------------\u001b[0m",
            "\u001b[0;31mValueError\u001b[0m                                Traceback (most recent call last)",
            "\u001b[0;32m<ipython-input-34-8ec7bbe5c53e>\u001b[0m in \u001b[0;36m<module>\u001b[0;34m()\u001b[0m\n\u001b[1;32m      5\u001b[0m \u001b[0;34m\u001b[0m\u001b[0m\n\u001b[1;32m      6\u001b[0m \u001b[0;34m\u001b[0m\u001b[0m\n\u001b[0;32m----> 7\u001b[0;31m \u001b[0mfig\u001b[0m\u001b[0;34m.\u001b[0m\u001b[0mwrite_image\u001b[0m\u001b[0;34m(\u001b[0m\u001b[0;34m\"img.png\"\u001b[0m\u001b[0;34m)\u001b[0m\u001b[0;34m\u001b[0m\u001b[0;34m\u001b[0m\u001b[0m\n\u001b[0m\u001b[1;32m      8\u001b[0m \u001b[0;34m\u001b[0m\u001b[0m\n\u001b[1;32m      9\u001b[0m \u001b[0mimgpth\u001b[0m\u001b[0;34m=\u001b[0m\u001b[0;34m'img.png'\u001b[0m\u001b[0;34m\u001b[0m\u001b[0;34m\u001b[0m\u001b[0m\n",
            "\u001b[0;32m/usr/local/lib/python3.7/dist-packages/plotly/basedatatypes.py\u001b[0m in \u001b[0;36mwrite_image\u001b[0;34m(self, *args, **kwargs)\u001b[0m\n\u001b[1;32m   2822\u001b[0m         \u001b[0;32mimport\u001b[0m \u001b[0mplotly\u001b[0m\u001b[0;34m.\u001b[0m\u001b[0mio\u001b[0m \u001b[0;32mas\u001b[0m \u001b[0mpio\u001b[0m\u001b[0;34m\u001b[0m\u001b[0;34m\u001b[0m\u001b[0m\n\u001b[1;32m   2823\u001b[0m \u001b[0;34m\u001b[0m\u001b[0m\n\u001b[0;32m-> 2824\u001b[0;31m         \u001b[0;32mreturn\u001b[0m \u001b[0mpio\u001b[0m\u001b[0;34m.\u001b[0m\u001b[0mwrite_image\u001b[0m\u001b[0;34m(\u001b[0m\u001b[0mself\u001b[0m\u001b[0;34m,\u001b[0m \u001b[0;34m*\u001b[0m\u001b[0margs\u001b[0m\u001b[0;34m,\u001b[0m \u001b[0;34m**\u001b[0m\u001b[0mkwargs\u001b[0m\u001b[0;34m)\u001b[0m\u001b[0;34m\u001b[0m\u001b[0;34m\u001b[0m\u001b[0m\n\u001b[0m\u001b[1;32m   2825\u001b[0m \u001b[0;34m\u001b[0m\u001b[0m\n\u001b[1;32m   2826\u001b[0m     \u001b[0;31m# Static helpers\u001b[0m\u001b[0;34m\u001b[0m\u001b[0;34m\u001b[0m\u001b[0;34m\u001b[0m\u001b[0m\n",
            "\u001b[0;32m/usr/local/lib/python3.7/dist-packages/plotly/io/_orca.py\u001b[0m in \u001b[0;36mwrite_image\u001b[0;34m(fig, file, format, scale, width, height, validate)\u001b[0m\n\u001b[1;32m   1765\u001b[0m     \u001b[0;31m# Do this first so we don't create a file if image conversion fails\u001b[0m\u001b[0;34m\u001b[0m\u001b[0;34m\u001b[0m\u001b[0;34m\u001b[0m\u001b[0m\n\u001b[1;32m   1766\u001b[0m     img_data = to_image(\n\u001b[0;32m-> 1767\u001b[0;31m         \u001b[0mfig\u001b[0m\u001b[0;34m,\u001b[0m \u001b[0mformat\u001b[0m\u001b[0;34m=\u001b[0m\u001b[0mformat\u001b[0m\u001b[0;34m,\u001b[0m \u001b[0mscale\u001b[0m\u001b[0;34m=\u001b[0m\u001b[0mscale\u001b[0m\u001b[0;34m,\u001b[0m \u001b[0mwidth\u001b[0m\u001b[0;34m=\u001b[0m\u001b[0mwidth\u001b[0m\u001b[0;34m,\u001b[0m \u001b[0mheight\u001b[0m\u001b[0;34m=\u001b[0m\u001b[0mheight\u001b[0m\u001b[0;34m,\u001b[0m \u001b[0mvalidate\u001b[0m\u001b[0;34m=\u001b[0m\u001b[0mvalidate\u001b[0m\u001b[0;34m\u001b[0m\u001b[0;34m\u001b[0m\u001b[0m\n\u001b[0m\u001b[1;32m   1768\u001b[0m     )\n\u001b[1;32m   1769\u001b[0m \u001b[0;34m\u001b[0m\u001b[0m\n",
            "\u001b[0;32m/usr/local/lib/python3.7/dist-packages/plotly/io/_orca.py\u001b[0m in \u001b[0;36mto_image\u001b[0;34m(fig, format, width, height, scale, validate)\u001b[0m\n\u001b[1;32m   1530\u001b[0m     \u001b[0;31m# Make sure orca sever is running\u001b[0m\u001b[0;34m\u001b[0m\u001b[0;34m\u001b[0m\u001b[0;34m\u001b[0m\u001b[0m\n\u001b[1;32m   1531\u001b[0m     \u001b[0;31m# -------------------------------\u001b[0m\u001b[0;34m\u001b[0m\u001b[0;34m\u001b[0m\u001b[0;34m\u001b[0m\u001b[0m\n\u001b[0;32m-> 1532\u001b[0;31m     \u001b[0mensure_server\u001b[0m\u001b[0;34m(\u001b[0m\u001b[0;34m)\u001b[0m\u001b[0;34m\u001b[0m\u001b[0;34m\u001b[0m\u001b[0m\n\u001b[0m\u001b[1;32m   1533\u001b[0m \u001b[0;34m\u001b[0m\u001b[0m\n\u001b[1;32m   1534\u001b[0m     \u001b[0;31m# Handle defaults\u001b[0m\u001b[0;34m\u001b[0m\u001b[0;34m\u001b[0m\u001b[0;34m\u001b[0m\u001b[0m\n",
            "\u001b[0;32m/usr/local/lib/python3.7/dist-packages/plotly/io/_orca.py\u001b[0m in \u001b[0;36mensure_server\u001b[0;34m()\u001b[0m\n\u001b[1;32m   1388\u001b[0m         \u001b[0;31m# Validate orca executable only if server_url is not provided\u001b[0m\u001b[0;34m\u001b[0m\u001b[0;34m\u001b[0m\u001b[0;34m\u001b[0m\u001b[0m\n\u001b[1;32m   1389\u001b[0m         \u001b[0;32mif\u001b[0m \u001b[0mstatus\u001b[0m\u001b[0;34m.\u001b[0m\u001b[0mstate\u001b[0m \u001b[0;34m==\u001b[0m \u001b[0;34m\"unvalidated\"\u001b[0m\u001b[0;34m:\u001b[0m\u001b[0;34m\u001b[0m\u001b[0;34m\u001b[0m\u001b[0m\n\u001b[0;32m-> 1390\u001b[0;31m             \u001b[0mvalidate_executable\u001b[0m\u001b[0;34m(\u001b[0m\u001b[0;34m)\u001b[0m\u001b[0;34m\u001b[0m\u001b[0;34m\u001b[0m\u001b[0m\n\u001b[0m\u001b[1;32m   1391\u001b[0m         \u001b[0;31m# Acquire lock to make sure that we keep the properties of orca_state\u001b[0m\u001b[0;34m\u001b[0m\u001b[0;34m\u001b[0m\u001b[0;34m\u001b[0m\u001b[0m\n\u001b[1;32m   1392\u001b[0m         \u001b[0;31m# consistent across threads\u001b[0m\u001b[0;34m\u001b[0m\u001b[0;34m\u001b[0m\u001b[0;34m\u001b[0m\u001b[0m\n",
            "\u001b[0;32m/usr/local/lib/python3.7/dist-packages/plotly/io/_orca.py\u001b[0m in \u001b[0;36mvalidate_executable\u001b[0;34m()\u001b[0m\n\u001b[1;32m   1085\u001b[0m                 \u001b[0mexecutable\u001b[0m\u001b[0;34m=\u001b[0m\u001b[0mconfig\u001b[0m\u001b[0;34m.\u001b[0m\u001b[0mexecutable\u001b[0m\u001b[0;34m,\u001b[0m\u001b[0;34m\u001b[0m\u001b[0;34m\u001b[0m\u001b[0m\n\u001b[1;32m   1086\u001b[0m                 \u001b[0mformatted_path\u001b[0m\u001b[0;34m=\u001b[0m\u001b[0mformatted_path\u001b[0m\u001b[0;34m,\u001b[0m\u001b[0;34m\u001b[0m\u001b[0;34m\u001b[0m\u001b[0m\n\u001b[0;32m-> 1087\u001b[0;31m                 \u001b[0minstructions\u001b[0m\u001b[0;34m=\u001b[0m\u001b[0minstall_location_instructions\u001b[0m\u001b[0;34m,\u001b[0m\u001b[0;34m\u001b[0m\u001b[0;34m\u001b[0m\u001b[0m\n\u001b[0m\u001b[1;32m   1088\u001b[0m             )\n\u001b[1;32m   1089\u001b[0m         )\n",
            "\u001b[0;31mValueError\u001b[0m: \nThe orca executable is required to export figures as static images,\nbut it could not be found on the system path.\n\nSearched for executable 'orca' on the following path:\n    /usr/local/nvidia/bin\n    /usr/local/cuda/bin\n    /usr/local/sbin\n    /usr/local/bin\n    /usr/sbin\n    /usr/bin\n    /sbin\n    /bin\n    /tools/node/bin\n    /tools/google-cloud-sdk/bin\n    /opt/bin\n\nIf you haven't installed orca yet, you can do so using conda as follows:\n\n    $ conda install -c plotly plotly-orca\n\nAlternatively, see other installation methods in the orca project README at\nhttps://github.com/plotly/orca\n\nAfter installation is complete, no further configuration should be needed.\n\nIf you have installed orca, then for some reason plotly.py was unable to\nlocate it. In this case, set the `plotly.io.orca.config.executable`\nproperty to the full path of your orca executable. For example:\n\n    >>> plotly.io.orca.config.executable = '/path/to/orca'\n\nAfter updating this executable property, try the export operation again.\nIf it is successful then you may want to save this configuration so that it\nwill be applied automatically in future sessions. You can do this as follows:\n\n    >>> plotly.io.orca.config.save()\n\nIf you're still having trouble, feel free to ask for help on the forums at\nhttps://community.plot.ly/c/api/python\n"
          ]
        }
      ]
    },
    {
      "cell_type": "code",
      "metadata": {
        "id": "-Kul50ORVM7i"
      },
      "source": [
        "#Page 2\n",
        "#-----------------------------------------------------------------------------------------------------------------------\n",
        "slide = prs.slides.add_slide(prs.slide_layouts[6])\n",
        "\n",
        "shape = slide.shapes.add_shape(\n",
        "    MSO_SHAPE.RECTANGLE, 0, Inches(0.5),Inches(16),Inches(0.3))\n",
        "shape.shadow.inherit = False\n",
        "fill=shape.fill\n",
        "fill.solid()\n",
        "fill.fore_color.rgb=RGBColor(255,0,0)\n",
        "shape.text= \"How to Add an Image\"\n",
        "line=shape.line\n",
        "line.color.rgb=RGBColor(255,0,0)\n",
        "logo1=slide.shapes.add_picture(pylogo,Inches(14.5),Inches(0.4),height=Inches(0.5),width=Inches(0.5))\n",
        "logo2=slide.shapes.add_picture(pptlogo,Inches(15.0),Inches(0.4),height=Inches(0.5),width=Inches(0.5))\n",
        "\n",
        "left = Inches(1)\n",
        "top = Inches(2)\n",
        "width = Inches(12)\n",
        "height = Inches(5)\n",
        "\n",
        "text_box=slide.shapes.add_textbox(left, top, width, height)\n",
        "\n",
        "tb=text_box.text_frame\n",
        "tb.text='Do you know how the Orcs first came into being? They were elves once,\\n\\\n",
        "taken by the dark powers, tortured and mutilated. A ruined and terrible form of life.\\n\\\n",
        "Now... perfected. My fighting Uruk-Hai. Whom do you serve?'\n",
        "\n",
        "prg=tb.add_paragraph()\n",
        "prg.text=\" \"\n",
        "\n",
        "prg=tb.add_paragraph()\n",
        "prg.text=\"They will find the Ring, and kill the one who carries it.\""
      ],
      "execution_count": 31,
      "outputs": []
    },
    {
      "cell_type": "code",
      "metadata": {
        "id": "T36QxqAbRGbk"
      },
      "source": [
        "#Last Page\n",
        "#-----------------------------------------------------------------------------------------------------------------------\n",
        "slide = prs.slides.add_slide(prs.slide_layouts[6])\n",
        "\n",
        "shape = slide.shapes.add_shape(\n",
        "    MSO_SHAPE.RECTANGLE, 0, Inches(4.0),Inches(16),Inches(1.0))\n",
        "shape.shadow.inherit = False\n",
        "fill=shape.fill\n",
        "fill.solid()\n",
        "fill.fore_color.rgb=RGBColor(255,0,0)\n",
        "shape.text= \"Thank You\"\n",
        "line=shape.line\n",
        "line.color.rgb=RGBColor(255,0,0)\n",
        "logo1=slide.shapes.add_picture(pylogo,Inches(14.5),Inches(4.0),height=Inches(1.0),width=Inches(1.0))\n",
        "logo2=slide.shapes.add_picture(pptlogo,Inches(15.0),Inches(4.0),height=Inches(1.0),width=Inches(1.0))\n",
        "\n",
        "\n",
        "prs.save('basic_presentation.pptx')"
      ],
      "execution_count": 32,
      "outputs": []
    },
    {
      "cell_type": "code",
      "metadata": {
        "id": "D5y0--UiSrlP"
      },
      "source": [
        "slide = prs.slides.add_slide(prs.slide_layouts[6])\n",
        "prs.slide_width = Inches(16)\n",
        "prs.slide_height = Inches(9)\n",
        "shape = slide.shapes.add_shape(\n",
        "    MSO_SHAPE.RECTANGLE, 0, Inches(9/1.5),Inches(16),Inches(9/8.5)\n",
        ")\n",
        "shape.shadow.inherit = False\n",
        "fill=shape.fill\n",
        "fill.solid()\n",
        "fill.fore_color.rgb=RGBColor(255,0,0)\n",
        "shape.text= title\n",
        "line=shape.line\n",
        "line.color.rgb=RGBColor(255,0,0)\n",
        "logo1=slide.shapes.add_picture(pylogo,Inches(13.8),Inches(6.0),height=Inches(1.0),width=Inches(1.0))\n",
        "logo2=slide.shapes.add_picture(pptlogo,Inches(14.5),Inches(5.8),height=Inches(1.5),width=Inches(1.5))"
      ],
      "execution_count": 33,
      "outputs": []
    }
  ]
}