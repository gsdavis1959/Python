{
  "nbformat": 4,
  "nbformat_minor": 0,
  "metadata": {
    "colab": {
      "provenance": []
    },
    "kernelspec": {
      "name": "python3",
      "display_name": "Python 3"
    },
    "language_info": {
      "name": "python"
    }
  },
  "cells": [
    {
      "cell_type": "code",
      "execution_count": 8,
      "metadata": {
        "colab": {
          "base_uri": "https://localhost:8080/"
        },
        "id": "JVPT-pxid6TT",
        "outputId": "02e650a6-ffbc-480f-b153-977324814e21"
      },
      "outputs": [
        {
          "output_type": "stream",
          "name": "stdout",
          "text": [
            "   Activity ID Activity Type\n",
            "0            1        Task A\n",
            "1            2     Subtask A\n",
            "2            3     Subtask B\n",
            "3            4     Subtask C\n",
            "4            5        Task B\n",
            "5            6     Subtask A\n",
            "6            7     Subtask B\n",
            "7            8     Subtask C\n"
          ]
        }
      ],
      "source": [
        "import pandas as pd\n",
        "\n",
        "# Sample dataframe with 'id' and 'task_subtask_type' columns\n",
        "data = {\n",
        "    'Activity ID': [1, 2, 3, 4, 5, 6, 7, 8],\n",
        "    'Activity Type': ['Task A', 'Subtask A', 'Subtask B', 'Subtask C', 'Task B', 'Subtask A', 'Subtask B', 'Subtask C']\n",
        "}\n",
        "\n",
        "df = pd.DataFrame(data)\n",
        "print(df)\n",
        "\n"
      ]
    },
    {
      "cell_type": "code",
      "source": [
        "# Create a new column 'new_id' to store the modified IDs\n",
        "df['new_id'] = ''\n",
        "\n",
        "# Iterate over each row in the dataframe\n",
        "for i, row in df.iterrows():\n",
        "    task_subtask_type = row['Activity Type']\n",
        "    \n",
        "    # Check if the row represents a task\n",
        "    if 'Task' in task_subtask_type:\n",
        "        task_id = row['Activity ID']\n",
        "        df.at[i, 'new_id'] = task_id\n",
        "    \n",
        "    # Assign the task ID to all subsequent subtasks until the next task is encountered\n",
        "    else:\n",
        "        df.at[i, 'new_id'] = task_id\n",
        "\n",
        "# Print the modified dataframe\n",
        "print(df)"
      ],
      "metadata": {
        "colab": {
          "base_uri": "https://localhost:8080/"
        },
        "id": "ABkphFMleK9M",
        "outputId": "9297e2c6-258c-4b61-c639-89c762f2cbac"
      },
      "execution_count": 9,
      "outputs": [
        {
          "output_type": "stream",
          "name": "stdout",
          "text": [
            "   Activity ID Activity Type new_id\n",
            "0            1        Task A      1\n",
            "1            2     Subtask A      1\n",
            "2            3     Subtask B      1\n",
            "3            4     Subtask C      1\n",
            "4            5        Task B      5\n",
            "5            6     Subtask A      5\n",
            "6            7     Subtask B      5\n",
            "7            8     Subtask C      5\n"
          ]
        }
      ]
    }
  ]
}