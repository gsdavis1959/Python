{
  "nbformat": 4,
  "nbformat_minor": 0,
  "metadata": {
    "colab": {
      "provenance": []
    },
    "kernelspec": {
      "name": "python3",
      "display_name": "Python 3"
    },
    "language_info": {
      "name": "python"
    }
  },
  "cells": [
    {
      "cell_type": "code",
      "execution_count": 3,
      "metadata": {
        "colab": {
          "base_uri": "https://localhost:8080/"
        },
        "id": "QMwZfJs1IonN",
        "outputId": "ff018c31-b822-4a71-b499-44482bdcfecb"
      },
      "outputs": [
        {
          "output_type": "stream",
          "name": "stdout",
          "text": [
            "Fixed Length Anonymized IDs:\n",
            "        Id Anonymized_Id\n",
            "0  GD75225    BCA145CB2D\n",
            "1  AD46627    D81FBFE9A1\n",
            "2  AG00211    636844D8BB\n",
            "3  GD75225    BCA145CB2D\n",
            "4  SS09287    7481F15953\n",
            "5  AM11234    86EA2B2C03\n",
            "6  AM11234    86EA2B2C03\n",
            "7  AL75556    352C066569\n",
            "8  GD75225    BCA145CB2D\n"
          ]
        }
      ],
      "source": [
        "import pandas as pd\n",
        "import hashlib\n",
        "\n",
        "# Assuming 'tools' is intended to be a custom module, let's define a dummy one\n",
        "class Tools:\n",
        "    def display_dataframe_to_user(self, name, dataframe):\n",
        "        print(f'{name}:\\n{dataframe}')\n",
        "\n",
        "tools = Tools()\n",
        "\n",
        "ids_df = pd.read_excel('/content/ids.xlsx')\n",
        "\n",
        "# Create a dictionary to store anonymized IDs\n",
        "anonymized_id_map = {}\n",
        "\n",
        "# Function to anonymize an ID with a fixed length of 10 characters and uppercase\n",
        "def anonymize_id_fixed_length(original_id):\n",
        "    hash_value = hashlib.md5(original_id.encode()).hexdigest()\n",
        "    return hash_value[:10].upper()\n",
        "\n",
        "# Apply the fixed-length anonymization, ensuring duplicate IDs are mapped to the same anonymized ID\n",
        "ids_df['Anonymized_Id'] = ids_df['Id'].apply(lambda x: anonymized_id_map.setdefault(x, anonymize_id_fixed_length(x)))\n",
        "\n",
        "# Display the updated dataframe with anonymized IDs of fixed length\n",
        "tools.display_dataframe_to_user(name=\"Fixed Length Anonymized IDs\", dataframe=ids_df)\n",
        "\n",
        "# Saving the updated anonymized list to a new file\n",
        "output_file_path_fixed = '/content/new_ids.xlsx'\n",
        "ids_df.to_excel(output_file_path_fixed, index=False)\n"
      ]
    }
  ]
}