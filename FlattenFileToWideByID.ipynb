{
  "nbformat": 4,
  "nbformat_minor": 0,
  "metadata": {
    "colab": {
      "provenance": []
    },
    "kernelspec": {
      "name": "python3",
      "display_name": "Python 3"
    },
    "language_info": {
      "name": "python"
    }
  },
  "cells": [
    {
      "cell_type": "code",
      "execution_count": null,
      "metadata": {
        "id": "SCiIViMLtSLb"
      },
      "outputs": [],
      "source": [
        "import pandas as pd\n",
        "import numpy as np\n"
      ]
    },
    {
      "cell_type": "code",
      "source": [
        "def unique_values(group):\n",
        "    x = group.dropna().unique()\n",
        "    if len(x) == 1:\n",
        "        return str(x[0])\n",
        "    elif len(x) == 0:\n",
        "        return np.nan\n",
        "    else:\n",
        "        return 'multiple'\n",
        "\n",
        "def convert_to_python(df, SOEID):\n",
        "    grouped = df.groupby(SOEID)\n",
        "    return grouped.aggregate(unique_values)\n"
      ],
      "metadata": {
        "id": "IYIVYMTstV_0"
      },
      "execution_count": null,
      "outputs": []
    }
  ]
}