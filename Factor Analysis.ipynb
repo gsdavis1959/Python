{
 "cells": [
  {
   "cell_type": "code",
   "execution_count": 3,
   "metadata": {},
   "outputs": [
    {
     "data": {
      "text/plain": [
       "FactorAnalysis(copy=True, iterated_power=3, max_iter=1000, n_components=4,\n",
       "        noise_variance_init=None, random_state=101,\n",
       "        svd_method='randomized', tol=0.01)"
      ]
     },
     "execution_count": 3,
     "metadata": {},
     "output_type": "execute_result"
    }
   ],
   "source": [
    "from sklearn.datasets import load_iris\n",
    "from sklearn.decomposition import FactorAnalysis\n",
    "iris = load_iris()\n",
    "X, y = iris.data, iris.target\n",
    "factor = FactorAnalysis(n_components=4, random_state=101).fit(X)"
   ]
  },
  {
   "cell_type": "code",
   "execution_count": 4,
   "metadata": {},
   "outputs": [
    {
     "name": "stdout",
     "output_type": "stream",
     "text": [
      "   sepal length (cm)  sepal width (cm)  petal length (cm)  petal width (cm)\n",
      "0           0.706989         -0.158005           1.654236           0.70085\n",
      "1           0.115161          0.159635          -0.044321          -0.01403\n",
      "2          -0.000000          0.000000           0.000000           0.00000\n",
      "3          -0.000000          0.000000           0.000000          -0.00000\n"
     ]
    }
   ],
   "source": [
    "import pandas as pd\n",
    "print (pd.DataFrame(factor.components_,columns=iris.feature_names))"
   ]
  }
 ],
 "metadata": {
  "kernelspec": {
   "display_name": "Python 3",
   "language": "python",
   "name": "python3"
  },
  "language_info": {
   "codemirror_mode": {
    "name": "ipython",
    "version": 3
   },
   "file_extension": ".py",
   "mimetype": "text/x-python",
   "name": "python",
   "nbconvert_exporter": "python",
   "pygments_lexer": "ipython3",
   "version": "3.6.8"
  }
 },
 "nbformat": 4,
 "nbformat_minor": 2
}
