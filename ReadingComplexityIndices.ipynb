{
 "cells": [
  {
   "cell_type": "code",
   "execution_count": 4,
   "metadata": {},
   "outputs": [],
   "source": [
    "import textstat  # https://pypi.org/project/textstat/\n",
    "import os\n",
    "import glob       # using to read in many files\n",
    "import docx2txt   # because I'm reading in word docs"
   ]
  },
  {
   "cell_type": "code",
   "execution_count": 2,
   "metadata": {},
   "outputs": [
    {
     "name": "stdout",
     "output_type": "stream",
     "text": [
      "Collecting docx2txt\n",
      "  Using cached https://files.pythonhosted.org/packages/7d/7d/60ee3f2b16d9bfdfa72e8599470a2c1a5b759cb113c6fe1006be28359327/docx2txt-0.8.tar.gz\n",
      "Building wheels for collected packages: docx2txt\n",
      "  Running setup.py bdist_wheel for docx2txt: started\n",
      "  Running setup.py bdist_wheel for docx2txt: finished with status 'done'\n",
      "  Stored in directory: C:\\Users\\gsdav\\AppData\\Local\\pip\\Cache\\wheels\\b2\\1f\\26\\a051209bbb77fc6bcfae2bb7e01fa0ff941b82292ab084d596\n",
      "Successfully built docx2txt\n",
      "Installing collected packages: docx2txt\n",
      "Successfully installed docx2txt-0.8\n"
     ]
    }
   ],
   "source": [
    "!pip install docx2txt"
   ]
  },
  {
   "cell_type": "code",
   "execution_count": 5,
   "metadata": {},
   "outputs": [
    {
     "name": "stdout",
     "output_type": "stream",
     "text": [
      "['C:/Users/gsdav/Documents/Data/Personal/eCornell\\\\ILRHR584_course-project.docx', 'C:/Users/gsdav/Documents/Data/Personal/eCornell\\\\ILRHR584_course-project_GSD.docx']\n",
      "Document:                     C:/Users/gsdav/Documents/Data/Personal/eCornell\\ILRHR584_course-project.docx\n",
      "Flesch Reading Ease:          28.37\n",
      "Smog Index:                   19.0\n",
      "Flesch Kincaid Grade:         21.9\n",
      "Coleman Liau Index:           14.17\n",
      "Automated Readability Index:  29.5\n",
      "Dale Chall Readability Score: 8.55\n",
      "Difficult Words:              154\n",
      "Linsear Write Formula:        17.75\n",
      "Gunning Fog:                  23.63\n",
      "Text Standard:                21st and 22nd grade\n",
      "*********************************************************************************\n",
      "Document:                     C:/Users/gsdav/Documents/Data/Personal/eCornell\\ILRHR584_course-project_GSD.docx\n",
      "Flesch Reading Ease:          32.91\n",
      "Smog Index:                   18.3\n",
      "Flesch Kincaid Grade:         18.1\n",
      "Coleman Liau Index:           13.53\n",
      "Automated Readability Index:  22.7\n",
      "Dale Chall Readability Score: 7.59\n",
      "Difficult Words:              488\n",
      "Linsear Write Formula:        17.75\n",
      "Gunning Fog:                  18.17\n",
      "Text Standard:                17th and 18th grade\n",
      "*********************************************************************************\n"
     ]
    },
    {
     "data": {
      "text/plain": [
       "' Dale Chall = Different from other tests, since it uses a lookup table of the most commonly used 3000 English words. Thus it returns the grade level using the New Dale-Chall Formula.'"
      ]
     },
     "execution_count": 5,
     "metadata": {},
     "output_type": "execute_result"
    }
   ],
   "source": [
    "# where is the folder with your content?\n",
    "folderPath = 'C:/Users/gsdav/Documents/Data/Personal/eCornell'\n",
    "# I want to search in all of the folders, so I set recursive=True\n",
    "docs=[]\n",
    "docs = glob.glob(folderPath + '/**/*.txt',recursive=True)\n",
    "docs.extend(glob.glob(folderPath + '/**/*.docx',recursive=True))\n",
    "#... keep adding whatever types you need\n",
    "print(docs)\n",
    "# the language is English by default so no need to set the language\n",
    "# Loop through my docs\n",
    "for doc in docs:\n",
    "    if os.path.isfile(doc):\n",
    "        text = docx2txt.process(os.path.join(folderPath,doc))\n",
    "        \n",
    "        print('Document:                     ' + doc)\n",
    "        print('Flesch Reading Ease:          ' + str(textstat.flesch_reading_ease(text)))\n",
    "        print('Smog Index:                   ' + str(textstat.smog_index(text)))\n",
    "        print('Flesch Kincaid Grade:         ' + str(textstat.flesch_kincaid_grade(text)))\n",
    "        print('Coleman Liau Index:           ' + str(textstat.coleman_liau_index(text)))\n",
    "        print('Automated Readability Index:  ' + str(textstat.automated_readability_index(text)))\n",
    "        print('Dale Chall Readability Score: ' + str(textstat.dale_chall_readability_score(text)))\n",
    "        print('Difficult Words:              ' + str(textstat.difficult_words(text)))\n",
    "        print('Linsear Write Formula:        ' + str(textstat.linsear_write_formula(text)))\n",
    "        print('Gunning Fog:                  ' + str(textstat.gunning_fog(text)))\n",
    "        print('Text Standard:                ' + str(textstat.text_standard(text)))\n",
    "        print('*********************************************************************************')\n",
    "\"\"\"Flesch-Kincaid Grade Level = This is a grade formula in that a score of 9.3 means that a ninth grader would be able to read the document\"\"\"\n",
    "\"\"\"Gunning Fog = This is a grade formula in that a score of 9.3 means that a ninth grader would be able to read the document.\"\"\"\n",
    "\"\"\"SMOG - for 30 sentences or more  =This is a grade formula in that a score of 9.3 means that a ninth grader would be able to read the document.\"\"\"\n",
    "\"\"\"Automated Readability Index = Returns the ARI (Automated Readability Index) which outputs a number that approximates the grade level needed to comprehend the text.\"\"\"\n",
    "\"\"\" Coleman Liau Index = Returns the grade level of the text using the Coleman-Liau Formula.\"\"\"\n",
    "\"\"\"Linsear = Returns the grade level using the Linsear Write Formula.\"\"\"\n",
    "\"\"\" Dale Chall = Different from other tests, since it uses a lookup table of the most commonly used 3000 English words. Thus it returns the grade level using the New Dale-Chall Formula.\"\"\""
   ]
  }
 ],
 "metadata": {
  "kernelspec": {
   "display_name": "Python 3",
   "language": "python",
   "name": "python3"
  },
  "language_info": {
   "codemirror_mode": {
    "name": "ipython",
    "version": 3
   },
   "file_extension": ".py",
   "mimetype": "text/x-python",
   "name": "python",
   "nbconvert_exporter": "python",
   "pygments_lexer": "ipython3",
   "version": "3.6.8"
  }
 },
 "nbformat": 4,
 "nbformat_minor": 2
}
