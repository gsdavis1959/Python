{
 "cells": [
  {
   "cell_type": "code",
   "execution_count": 1,
   "metadata": {},
   "outputs": [
    {
     "name": "stdout",
     "output_type": "stream",
     "text": [
      "Requirement already satisfied: pandasgui in c:\\users\\gsdav\\anaconda3\\envs\\tensorflow\\lib\\site-packages (0.2.5.1)\n",
      "Requirement already satisfied: pandas in c:\\users\\gsdav\\anaconda3\\envs\\tensorflow\\lib\\site-packages (from pandasgui) (0.25.3)\n",
      "Requirement already satisfied: plotly in c:\\users\\gsdav\\anaconda3\\envs\\tensorflow\\lib\\site-packages (from pandasgui) (4.12.0)\n",
      "Requirement already satisfied: PyQtWebEngine in c:\\users\\gsdav\\anaconda3\\envs\\tensorflow\\lib\\site-packages (from pandasgui) (5.15.1)\n",
      "Requirement already satisfied: appdirs in c:\\users\\gsdav\\anaconda3\\envs\\tensorflow\\lib\\site-packages (from pandasgui) (1.4.3)\n",
      "Requirement already satisfied: IPython in c:\\users\\gsdav\\anaconda3\\envs\\tensorflow\\lib\\site-packages (from pandasgui) (7.10.1)\n",
      "Requirement already satisfied: dacite in c:\\users\\gsdav\\anaconda3\\envs\\tensorflow\\lib\\site-packages (from pandasgui) (1.5.1)\n",
      "Requirement already satisfied: PyQt5 in c:\\users\\gsdav\\anaconda3\\envs\\tensorflow\\lib\\site-packages (from pandasgui) (5.15.1)\n",
      "Requirement already satisfied: setuptools in c:\\users\\gsdav\\anaconda3\\envs\\tensorflow\\lib\\site-packages (from pandasgui) (41.6.0)\n",
      "Requirement already satisfied: pynput in c:\\users\\gsdav\\anaconda3\\envs\\tensorflow\\lib\\site-packages (from pandasgui) (1.7.1)\n",
      "Requirement already satisfied: python-dateutil>=2.6.1 in c:\\users\\gsdav\\anaconda3\\envs\\tensorflow\\lib\\site-packages (from pandas->pandasgui) (2.8.1)\n",
      "Requirement already satisfied: numpy>=1.13.3 in c:\\users\\gsdav\\anaconda3\\envs\\tensorflow\\lib\\site-packages (from pandas->pandasgui) (1.17.4)\n",
      "Requirement already satisfied: pytz>=2017.2 in c:\\users\\gsdav\\anaconda3\\envs\\tensorflow\\lib\\site-packages (from pandas->pandasgui) (2020.1)\n",
      "Requirement already satisfied: retrying>=1.3.3 in c:\\users\\gsdav\\anaconda3\\envs\\tensorflow\\lib\\site-packages (from plotly->pandasgui) (1.3.3)\n",
      "Requirement already satisfied: six in c:\\users\\gsdav\\anaconda3\\envs\\tensorflow\\lib\\site-packages (from plotly->pandasgui) (1.14.0)\n",
      "Requirement already satisfied: PyQt5-sip<13,>=12.8 in c:\\users\\gsdav\\anaconda3\\envs\\tensorflow\\lib\\site-packages (from PyQtWebEngine->pandasgui) (12.8.1)\n",
      "Requirement already satisfied: jedi>=0.10 in c:\\users\\gsdav\\anaconda3\\envs\\tensorflow\\lib\\site-packages (from IPython->pandasgui) (0.13.2)\n",
      "Requirement already satisfied: pickleshare in c:\\users\\gsdav\\anaconda3\\envs\\tensorflow\\lib\\site-packages (from IPython->pandasgui) (0.7.5)\n",
      "Requirement already satisfied: traitlets>=4.2 in c:\\users\\gsdav\\anaconda3\\envs\\tensorflow\\lib\\site-packages (from IPython->pandasgui) (4.3.2)\n",
      "Requirement already satisfied: prompt-toolkit!=3.0.0,!=3.0.1,<3.1.0,>=2.0.0 in c:\\users\\gsdav\\anaconda3\\envs\\tensorflow\\lib\\site-packages (from IPython->pandasgui) (2.0.7)\n",
      "Requirement already satisfied: pygments in c:\\users\\gsdav\\anaconda3\\envs\\tensorflow\\lib\\site-packages (from IPython->pandasgui) (2.7.2)\n",
      "Requirement already satisfied: colorama; sys_platform == \"win32\" in c:\\users\\gsdav\\anaconda3\\envs\\tensorflow\\lib\\site-packages (from IPython->pandasgui) (0.4.3)\n",
      "Requirement already satisfied: backcall in c:\\users\\gsdav\\anaconda3\\envs\\tensorflow\\lib\\site-packages (from IPython->pandasgui) (0.1.0)\n",
      "Requirement already satisfied: decorator in c:\\users\\gsdav\\anaconda3\\envs\\tensorflow\\lib\\site-packages (from IPython->pandasgui) (4.4.2)\n",
      "Requirement already satisfied: dataclasses; python_version < \"3.7\" in c:\\users\\gsdav\\anaconda3\\envs\\tensorflow\\lib\\site-packages (from dacite->pandasgui) (0.6)\n",
      "Requirement already satisfied: parso>=0.3.0 in c:\\users\\gsdav\\anaconda3\\envs\\tensorflow\\lib\\site-packages (from jedi>=0.10->IPython->pandasgui) (0.5.2)\n",
      "Requirement already satisfied: ipython_genutils in c:\\users\\gsdav\\anaconda3\\envs\\tensorflow\\lib\\site-packages (from traitlets>=4.2->IPython->pandasgui) (0.2.0)\n",
      "Requirement already satisfied: wcwidth in c:\\users\\gsdav\\anaconda3\\envs\\tensorflow\\lib\\site-packages (from prompt-toolkit!=3.0.0,!=3.0.1,<3.1.0,>=2.0.0->IPython->pandasgui) (0.2.5)\n"
     ]
    }
   ],
   "source": [
    "!pip install pandasgui"
   ]
  },
  {
   "cell_type": "code",
   "execution_count": 2,
   "metadata": {},
   "outputs": [],
   "source": [
    "from pandasgui.datasets import iris\n",
    "#importing the show function\n",
    "from pandasgui import show"
   ]
  },
  {
   "cell_type": "code",
   "execution_count": 3,
   "metadata": {},
   "outputs": [
    {
     "data": {
      "text/plain": [
       "<pandasgui.gui.PandasGui at 0x269d303fd38>"
      ]
     },
     "execution_count": 3,
     "metadata": {},
     "output_type": "execute_result"
    }
   ],
   "source": [
    "show(iris)"
   ]
  }
 ],
 "metadata": {
  "kernelspec": {
   "display_name": "Python 3",
   "language": "python",
   "name": "python3"
  },
  "language_info": {
   "codemirror_mode": {
    "name": "ipython",
    "version": 3
   },
   "file_extension": ".py",
   "mimetype": "text/x-python",
   "name": "python",
   "nbconvert_exporter": "python",
   "pygments_lexer": "ipython3",
   "version": "3.6.8"
  }
 },
 "nbformat": 4,
 "nbformat_minor": 2
}
