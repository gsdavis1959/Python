{
  "nbformat": 4,
  "nbformat_minor": 0,
  "metadata": {
    "colab": {
      "provenance": []
    },
    "kernelspec": {
      "name": "python3",
      "display_name": "Python 3"
    },
    "language_info": {
      "name": "python"
    }
  },
  "cells": [
    {
      "cell_type": "code",
      "execution_count": 1,
      "metadata": {
        "id": "eidPpfdJMb4_"
      },
      "outputs": [],
      "source": [
        "# Importing scipy \n",
        "\n",
        "import scipy"
      ]
    },
    {
      "cell_type": "code",
      "source": [
        "\n",
        "# Creating a dataset \n",
        "\n",
        "dataset = [10, 25, 14, 26, 35, 45, 67, 90,  \n",
        "\n",
        "           40, 50, 60, 10, 16, 18, 20]"
      ],
      "metadata": {
        "id": "OoqbubPhMiBf"
      },
      "execution_count": 2,
      "outputs": []
    },
    {
      "cell_type": "code",
      "source": [
        "# Calculate the skewness \n",
        "from scipy.stats import skew \n",
        "\n",
        "print(skew(dataset, axis=0, bias=True))"
      ],
      "metadata": {
        "colab": {
          "base_uri": "https://localhost:8080/"
        },
        "id": "G4BUNZUHMqNM",
        "outputId": "289a7d04-b7c9-4a60-c2b6-f224625999f9"
      },
      "execution_count": 3,
      "outputs": [
        {
          "output_type": "stream",
          "name": "stdout",
          "text": [
            "0.9064461387548666\n"
          ]
        }
      ]
    },
    {
      "cell_type": "code",
      "source": [
        "from scipy.stats import kurtosis \n",
        "\n",
        "  \n",
        "# Creating a dataset \n",
        "\n",
        "dataset = [88, 85, 82, 97, 67, 77, 74, 86, \n",
        "\n",
        "           81, 95, 77, 88, 85, 76, 81] \n",
        "\n",
        "  \n",
        "\n",
        "  \n",
        "# Calculate the kurtosis \n",
        "\n",
        "print(kurtosis(dataset, axis=0, bias=True))"
      ],
      "metadata": {
        "colab": {
          "base_uri": "https://localhost:8080/"
        },
        "id": "znAbRXjqNBkv",
        "outputId": "305c30f3-dbc9-485c-8d10-637fc75da32d"
      },
      "execution_count": 4,
      "outputs": [
        {
          "output_type": "stream",
          "name": "stdout",
          "text": [
            "-0.29271198374234686\n"
          ]
        }
      ]
    }
  ]
}