{
  "nbformat": 4,
  "nbformat_minor": 0,
  "metadata": {
    "colab": {
      "name": "PandasToHTML",
      "provenance": [],
      "collapsed_sections": []
    },
    "kernelspec": {
      "name": "python3",
      "display_name": "Python 3"
    },
    "language_info": {
      "name": "python"
    }
  },
  "cells": [
    {
      "cell_type": "code",
      "metadata": {
        "colab": {
          "base_uri": "https://localhost:8080/",
          "height": 223
        },
        "id": "hl6NSRBI85Kl",
        "outputId": "6f45998c-8fac-4950-974d-bca776222252"
      },
      "source": [
        "# importing pandas as pd \n",
        "\n",
        "import pandas as pd \n",
        "\n",
        "from IPython.display import HTML \n",
        "\n",
        "  \n",
        "# creating the dataframe \n",
        "\n",
        "df = pd.DataFrame({\"Name\": ['Anurag', 'Manjeet', 'Shubham',  \n",
        "\n",
        "                            'Saurabh', 'Ujjawal'], \n",
        "\n",
        "                     \n",
        "\n",
        "                   \"Address\": ['Patna', 'Delhi', 'Coimbatore', \n",
        "\n",
        "                               'Greater noida', 'Patna'], \n",
        "\n",
        "                     \n",
        "\n",
        "                   \"ID\": [20123, 20124, 20145, 20146, 20147], \n",
        "\n",
        "                     \n",
        "\n",
        "                   \"Sell\": [140000, 300000, 600000, 200000, 600000]}) \n",
        "\n",
        "  \n",
        "\n",
        "print(\"Original DataFrame :\") \n",
        "display(df)"
      ],
      "execution_count": 1,
      "outputs": [
        {
          "output_type": "stream",
          "name": "stdout",
          "text": [
            "Original DataFrame :\n"
          ]
        },
        {
          "output_type": "display_data",
          "data": {
            "text/html": [
              "<div>\n",
              "<style scoped>\n",
              "    .dataframe tbody tr th:only-of-type {\n",
              "        vertical-align: middle;\n",
              "    }\n",
              "\n",
              "    .dataframe tbody tr th {\n",
              "        vertical-align: top;\n",
              "    }\n",
              "\n",
              "    .dataframe thead th {\n",
              "        text-align: right;\n",
              "    }\n",
              "</style>\n",
              "<table border=\"1\" class=\"dataframe\">\n",
              "  <thead>\n",
              "    <tr style=\"text-align: right;\">\n",
              "      <th></th>\n",
              "      <th>Name</th>\n",
              "      <th>Address</th>\n",
              "      <th>ID</th>\n",
              "      <th>Sell</th>\n",
              "    </tr>\n",
              "  </thead>\n",
              "  <tbody>\n",
              "    <tr>\n",
              "      <th>0</th>\n",
              "      <td>Anurag</td>\n",
              "      <td>Patna</td>\n",
              "      <td>20123</td>\n",
              "      <td>140000</td>\n",
              "    </tr>\n",
              "    <tr>\n",
              "      <th>1</th>\n",
              "      <td>Manjeet</td>\n",
              "      <td>Delhi</td>\n",
              "      <td>20124</td>\n",
              "      <td>300000</td>\n",
              "    </tr>\n",
              "    <tr>\n",
              "      <th>2</th>\n",
              "      <td>Shubham</td>\n",
              "      <td>Coimbatore</td>\n",
              "      <td>20145</td>\n",
              "      <td>600000</td>\n",
              "    </tr>\n",
              "    <tr>\n",
              "      <th>3</th>\n",
              "      <td>Saurabh</td>\n",
              "      <td>Greater noida</td>\n",
              "      <td>20146</td>\n",
              "      <td>200000</td>\n",
              "    </tr>\n",
              "    <tr>\n",
              "      <th>4</th>\n",
              "      <td>Ujjawal</td>\n",
              "      <td>Patna</td>\n",
              "      <td>20147</td>\n",
              "      <td>600000</td>\n",
              "    </tr>\n",
              "  </tbody>\n",
              "</table>\n",
              "</div>"
            ],
            "text/plain": [
              "      Name        Address     ID    Sell\n",
              "0   Anurag          Patna  20123  140000\n",
              "1  Manjeet          Delhi  20124  300000\n",
              "2  Shubham     Coimbatore  20145  600000\n",
              "3  Saurabh  Greater noida  20146  200000\n",
              "4  Ujjawal          Patna  20147  600000"
            ]
          },
          "metadata": {}
        }
      ]
    },
    {
      "cell_type": "code",
      "metadata": {
        "colab": {
          "base_uri": "https://localhost:8080/"
        },
        "id": "gUyLIKLg9ARd",
        "outputId": "f1b88b95-7890-40d3-9147-43e4854edb07"
      },
      "source": [
        "result = df.to_html() \n",
        "\n",
        "print(result)"
      ],
      "execution_count": 2,
      "outputs": [
        {
          "output_type": "stream",
          "name": "stdout",
          "text": [
            "<table border=\"1\" class=\"dataframe\">\n",
            "  <thead>\n",
            "    <tr style=\"text-align: right;\">\n",
            "      <th></th>\n",
            "      <th>Name</th>\n",
            "      <th>Address</th>\n",
            "      <th>ID</th>\n",
            "      <th>Sell</th>\n",
            "    </tr>\n",
            "  </thead>\n",
            "  <tbody>\n",
            "    <tr>\n",
            "      <th>0</th>\n",
            "      <td>Anurag</td>\n",
            "      <td>Patna</td>\n",
            "      <td>20123</td>\n",
            "      <td>140000</td>\n",
            "    </tr>\n",
            "    <tr>\n",
            "      <th>1</th>\n",
            "      <td>Manjeet</td>\n",
            "      <td>Delhi</td>\n",
            "      <td>20124</td>\n",
            "      <td>300000</td>\n",
            "    </tr>\n",
            "    <tr>\n",
            "      <th>2</th>\n",
            "      <td>Shubham</td>\n",
            "      <td>Coimbatore</td>\n",
            "      <td>20145</td>\n",
            "      <td>600000</td>\n",
            "    </tr>\n",
            "    <tr>\n",
            "      <th>3</th>\n",
            "      <td>Saurabh</td>\n",
            "      <td>Greater noida</td>\n",
            "      <td>20146</td>\n",
            "      <td>200000</td>\n",
            "    </tr>\n",
            "    <tr>\n",
            "      <th>4</th>\n",
            "      <td>Ujjawal</td>\n",
            "      <td>Patna</td>\n",
            "      <td>20147</td>\n",
            "      <td>600000</td>\n",
            "    </tr>\n",
            "  </tbody>\n",
            "</table>\n"
          ]
        }
      ]
    },
    {
      "cell_type": "code",
      "metadata": {
        "colab": {
          "base_uri": "https://localhost:8080/",
          "height": 206
        },
        "id": "0a41EixK9wRp",
        "outputId": "088b2567-4d98-4327-99ee-192b7b922b46"
      },
      "source": [
        "HTML(df.to_html(classes='table table-striped')) "
      ],
      "execution_count": 5,
      "outputs": [
        {
          "output_type": "execute_result",
          "data": {
            "text/html": [
              "<table border=\"1\" class=\"dataframe table table-striped\">\n",
              "  <thead>\n",
              "    <tr style=\"text-align: right;\">\n",
              "      <th></th>\n",
              "      <th>Name</th>\n",
              "      <th>Address</th>\n",
              "      <th>ID</th>\n",
              "      <th>Sell</th>\n",
              "    </tr>\n",
              "  </thead>\n",
              "  <tbody>\n",
              "    <tr>\n",
              "      <th>0</th>\n",
              "      <td>Anurag</td>\n",
              "      <td>Patna</td>\n",
              "      <td>20123</td>\n",
              "      <td>140000</td>\n",
              "    </tr>\n",
              "    <tr>\n",
              "      <th>1</th>\n",
              "      <td>Manjeet</td>\n",
              "      <td>Delhi</td>\n",
              "      <td>20124</td>\n",
              "      <td>300000</td>\n",
              "    </tr>\n",
              "    <tr>\n",
              "      <th>2</th>\n",
              "      <td>Shubham</td>\n",
              "      <td>Coimbatore</td>\n",
              "      <td>20145</td>\n",
              "      <td>600000</td>\n",
              "    </tr>\n",
              "    <tr>\n",
              "      <th>3</th>\n",
              "      <td>Saurabh</td>\n",
              "      <td>Greater noida</td>\n",
              "      <td>20146</td>\n",
              "      <td>200000</td>\n",
              "    </tr>\n",
              "    <tr>\n",
              "      <th>4</th>\n",
              "      <td>Ujjawal</td>\n",
              "      <td>Patna</td>\n",
              "      <td>20147</td>\n",
              "      <td>600000</td>\n",
              "    </tr>\n",
              "  </tbody>\n",
              "</table>"
            ],
            "text/plain": [
              "<IPython.core.display.HTML object>"
            ]
          },
          "metadata": {},
          "execution_count": 5
        }
      ]
    },
    {
      "cell_type": "code",
      "metadata": {
        "id": "8CzH0jG_9FqV"
      },
      "source": [
        "html = df.to_html(classes='table table-striped')\n",
        "\n",
        "  \n",
        "# write html to file \n",
        "\n",
        "text_file = open(\"index.html\", \"w\") \n",
        "text_file.write(html) \n",
        "text_file.close() "
      ],
      "execution_count": 13,
      "outputs": []
    },
    {
      "cell_type": "code",
      "metadata": {
        "colab": {
          "base_uri": "https://localhost:8080/",
          "height": 139
        },
        "id": "MjdS9jKD-kyE",
        "outputId": "835bf496-ade3-485e-b05c-15621b566765"
      },
      "source": [
        "html"
      ],
      "execution_count": 8,
      "outputs": [
        {
          "output_type": "execute_result",
          "data": {
            "application/vnd.google.colaboratory.intrinsic+json": {
              "type": "string"
            },
            "text/plain": [
              "'<table border=\"1\" class=\"dataframe table table-striped\">\\n  <thead>\\n    <tr style=\"text-align: right;\">\\n      <th></th>\\n      <th>Name</th>\\n      <th>Address</th>\\n      <th>ID</th>\\n      <th>Sell</th>\\n    </tr>\\n  </thead>\\n  <tbody>\\n    <tr>\\n      <th>0</th>\\n      <td>Anurag</td>\\n      <td>Patna</td>\\n      <td>20123</td>\\n      <td>140000</td>\\n    </tr>\\n    <tr>\\n      <th>1</th>\\n      <td>Manjeet</td>\\n      <td>Delhi</td>\\n      <td>20124</td>\\n      <td>300000</td>\\n    </tr>\\n    <tr>\\n      <th>2</th>\\n      <td>Shubham</td>\\n      <td>Coimbatore</td>\\n      <td>20145</td>\\n      <td>600000</td>\\n    </tr>\\n    <tr>\\n      <th>3</th>\\n      <td>Saurabh</td>\\n      <td>Greater noida</td>\\n      <td>20146</td>\\n      <td>200000</td>\\n    </tr>\\n    <tr>\\n      <th>4</th>\\n      <td>Ujjawal</td>\\n      <td>Patna</td>\\n      <td>20147</td>\\n      <td>600000</td>\\n    </tr>\\n  </tbody>\\n</table>'"
            ]
          },
          "metadata": {},
          "execution_count": 8
        }
      ]
    }
  ]
}