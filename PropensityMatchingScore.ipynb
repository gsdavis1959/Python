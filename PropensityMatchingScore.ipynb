{
  "nbformat": 4,
  "nbformat_minor": 0,
  "metadata": {
    "colab": {
      "provenance": []
    },
    "kernelspec": {
      "name": "python3",
      "display_name": "Python 3"
    },
    "language_info": {
      "name": "python"
    }
  },
  "cells": [
    {
      "cell_type": "code",
      "execution_count": 1,
      "metadata": {
        "id": "DrpHCvkZHKMN"
      },
      "outputs": [],
      "source": [
        "\n",
        "import numpy as np\n",
        "import pandas as pd\n",
        "import matplotlib.pyplot as plt\n",
        "import seaborn as sns\n",
        "import math\n",
        "sns.set()  # set the style"
      ]
    },
    {
      "cell_type": "code",
      "source": [
        "# read data\n",
        "df = pd.read_csv('/content/groupon.csv')\n",
        "df.info()"
      ],
      "metadata": {
        "colab": {
          "base_uri": "https://localhost:8080/"
        },
        "id": "SBAlq1kFHOUJ",
        "outputId": "a1a98370-5b0b-463b-b315-c2c43d1ffc02"
      },
      "execution_count": 2,
      "outputs": [
        {
          "output_type": "stream",
          "name": "stdout",
          "text": [
            "<class 'pandas.core.frame.DataFrame'>\n",
            "RangeIndex: 710 entries, 0 to 709\n",
            "Data columns (total 13 columns):\n",
            " #   Column           Non-Null Count  Dtype \n",
            "---  ------           --------------  ----- \n",
            " 0   deal_id          710 non-null    object\n",
            " 1   start_date       710 non-null    object\n",
            " 2   min_req          710 non-null    int64 \n",
            " 3   treatment        710 non-null    int64 \n",
            " 4   prom_length      710 non-null    int64 \n",
            " 5   price            710 non-null    int64 \n",
            " 6   discount_pct     710 non-null    int64 \n",
            " 7   coupon_duration  710 non-null    int64 \n",
            " 8   featured         710 non-null    int64 \n",
            " 9   limited_supply   710 non-null    int64 \n",
            " 10  fb_likes         710 non-null    int64 \n",
            " 11  quantity_sold    710 non-null    int64 \n",
            " 12  revenue          710 non-null    int64 \n",
            "dtypes: int64(11), object(2)\n",
            "memory usage: 72.2+ KB\n"
          ]
        }
      ]
    },
    {
      "cell_type": "code",
      "source": [
        "# check the means for control and treatment\n",
        "df.groupby('treatment').mean()"
      ],
      "metadata": {
        "colab": {
          "base_uri": "https://localhost:8080/",
          "height": 143
        },
        "id": "LG_QJa06IXjd",
        "outputId": "8af4be3e-ec01-4675-d5ca-e2202fed4500"
      },
      "execution_count": 3,
      "outputs": [
        {
          "output_type": "execute_result",
          "data": {
            "text/plain": [
              "            min_req  prom_length      price  discount_pct  coupon_duration  \\\n",
              "treatment                                                                    \n",
              "0           1.00000     3.809717  37.870445     52.973684        95.941296   \n",
              "1          26.50463     3.379630  29.421296     53.263889       131.842593   \n",
              "\n",
              "           featured  limited_supply    fb_likes  quantity_sold       revenue  \n",
              "treatment                                                                     \n",
              "0          0.105263        0.852227   77.941296     333.002024   9720.987854  \n",
              "1          0.143519        0.777778  113.203704     509.351852  12750.694444  "
            ],
            "text/html": [
              "\n",
              "  <div id=\"df-36d4361e-1c35-432d-999b-779f94d89de4\">\n",
              "    <div class=\"colab-df-container\">\n",
              "      <div>\n",
              "<style scoped>\n",
              "    .dataframe tbody tr th:only-of-type {\n",
              "        vertical-align: middle;\n",
              "    }\n",
              "\n",
              "    .dataframe tbody tr th {\n",
              "        vertical-align: top;\n",
              "    }\n",
              "\n",
              "    .dataframe thead th {\n",
              "        text-align: right;\n",
              "    }\n",
              "</style>\n",
              "<table border=\"1\" class=\"dataframe\">\n",
              "  <thead>\n",
              "    <tr style=\"text-align: right;\">\n",
              "      <th></th>\n",
              "      <th>min_req</th>\n",
              "      <th>prom_length</th>\n",
              "      <th>price</th>\n",
              "      <th>discount_pct</th>\n",
              "      <th>coupon_duration</th>\n",
              "      <th>featured</th>\n",
              "      <th>limited_supply</th>\n",
              "      <th>fb_likes</th>\n",
              "      <th>quantity_sold</th>\n",
              "      <th>revenue</th>\n",
              "    </tr>\n",
              "    <tr>\n",
              "      <th>treatment</th>\n",
              "      <th></th>\n",
              "      <th></th>\n",
              "      <th></th>\n",
              "      <th></th>\n",
              "      <th></th>\n",
              "      <th></th>\n",
              "      <th></th>\n",
              "      <th></th>\n",
              "      <th></th>\n",
              "      <th></th>\n",
              "    </tr>\n",
              "  </thead>\n",
              "  <tbody>\n",
              "    <tr>\n",
              "      <th>0</th>\n",
              "      <td>1.00000</td>\n",
              "      <td>3.809717</td>\n",
              "      <td>37.870445</td>\n",
              "      <td>52.973684</td>\n",
              "      <td>95.941296</td>\n",
              "      <td>0.105263</td>\n",
              "      <td>0.852227</td>\n",
              "      <td>77.941296</td>\n",
              "      <td>333.002024</td>\n",
              "      <td>9720.987854</td>\n",
              "    </tr>\n",
              "    <tr>\n",
              "      <th>1</th>\n",
              "      <td>26.50463</td>\n",
              "      <td>3.379630</td>\n",
              "      <td>29.421296</td>\n",
              "      <td>53.263889</td>\n",
              "      <td>131.842593</td>\n",
              "      <td>0.143519</td>\n",
              "      <td>0.777778</td>\n",
              "      <td>113.203704</td>\n",
              "      <td>509.351852</td>\n",
              "      <td>12750.694444</td>\n",
              "    </tr>\n",
              "  </tbody>\n",
              "</table>\n",
              "</div>\n",
              "      <button class=\"colab-df-convert\" onclick=\"convertToInteractive('df-36d4361e-1c35-432d-999b-779f94d89de4')\"\n",
              "              title=\"Convert this dataframe to an interactive table.\"\n",
              "              style=\"display:none;\">\n",
              "        \n",
              "  <svg xmlns=\"http://www.w3.org/2000/svg\" height=\"24px\"viewBox=\"0 0 24 24\"\n",
              "       width=\"24px\">\n",
              "    <path d=\"M0 0h24v24H0V0z\" fill=\"none\"/>\n",
              "    <path d=\"M18.56 5.44l.94 2.06.94-2.06 2.06-.94-2.06-.94-.94-2.06-.94 2.06-2.06.94zm-11 1L8.5 8.5l.94-2.06 2.06-.94-2.06-.94L8.5 2.5l-.94 2.06-2.06.94zm10 10l.94 2.06.94-2.06 2.06-.94-2.06-.94-.94-2.06-.94 2.06-2.06.94z\"/><path d=\"M17.41 7.96l-1.37-1.37c-.4-.4-.92-.59-1.43-.59-.52 0-1.04.2-1.43.59L10.3 9.45l-7.72 7.72c-.78.78-.78 2.05 0 2.83L4 21.41c.39.39.9.59 1.41.59.51 0 1.02-.2 1.41-.59l7.78-7.78 2.81-2.81c.8-.78.8-2.07 0-2.86zM5.41 20L4 18.59l7.72-7.72 1.47 1.35L5.41 20z\"/>\n",
              "  </svg>\n",
              "      </button>\n",
              "      \n",
              "  <style>\n",
              "    .colab-df-container {\n",
              "      display:flex;\n",
              "      flex-wrap:wrap;\n",
              "      gap: 12px;\n",
              "    }\n",
              "\n",
              "    .colab-df-convert {\n",
              "      background-color: #E8F0FE;\n",
              "      border: none;\n",
              "      border-radius: 50%;\n",
              "      cursor: pointer;\n",
              "      display: none;\n",
              "      fill: #1967D2;\n",
              "      height: 32px;\n",
              "      padding: 0 0 0 0;\n",
              "      width: 32px;\n",
              "    }\n",
              "\n",
              "    .colab-df-convert:hover {\n",
              "      background-color: #E2EBFA;\n",
              "      box-shadow: 0px 1px 2px rgba(60, 64, 67, 0.3), 0px 1px 3px 1px rgba(60, 64, 67, 0.15);\n",
              "      fill: #174EA6;\n",
              "    }\n",
              "\n",
              "    [theme=dark] .colab-df-convert {\n",
              "      background-color: #3B4455;\n",
              "      fill: #D2E3FC;\n",
              "    }\n",
              "\n",
              "    [theme=dark] .colab-df-convert:hover {\n",
              "      background-color: #434B5C;\n",
              "      box-shadow: 0px 1px 3px 1px rgba(0, 0, 0, 0.15);\n",
              "      filter: drop-shadow(0px 1px 2px rgba(0, 0, 0, 0.3));\n",
              "      fill: #FFFFFF;\n",
              "    }\n",
              "  </style>\n",
              "\n",
              "      <script>\n",
              "        const buttonEl =\n",
              "          document.querySelector('#df-36d4361e-1c35-432d-999b-779f94d89de4 button.colab-df-convert');\n",
              "        buttonEl.style.display =\n",
              "          google.colab.kernel.accessAllowed ? 'block' : 'none';\n",
              "\n",
              "        async function convertToInteractive(key) {\n",
              "          const element = document.querySelector('#df-36d4361e-1c35-432d-999b-779f94d89de4');\n",
              "          const dataTable =\n",
              "            await google.colab.kernel.invokeFunction('convertToInteractive',\n",
              "                                                     [key], {});\n",
              "          if (!dataTable) return;\n",
              "\n",
              "          const docLinkHtml = 'Like what you see? Visit the ' +\n",
              "            '<a target=\"_blank\" href=https://colab.research.google.com/notebooks/data_table.ipynb>data table notebook</a>'\n",
              "            + ' to learn more about interactive tables.';\n",
              "          element.innerHTML = '';\n",
              "          dataTable['output_type'] = 'display_data';\n",
              "          await google.colab.output.renderOutput(dataTable, element);\n",
              "          const docLink = document.createElement('div');\n",
              "          docLink.innerHTML = docLinkHtml;\n",
              "          element.appendChild(docLink);\n",
              "        }\n",
              "      </script>\n",
              "    </div>\n",
              "  </div>\n",
              "  "
            ]
          },
          "metadata": {},
          "execution_count": 3
        }
      ]
    },
    {
      "cell_type": "code",
      "source": [
        "# separate control and treatment for t-test\n",
        "df_control = df[df.treatment==0]\n",
        "df_treatment = df[df.treatment==1]"
      ],
      "metadata": {
        "id": "nXqaVwjlId4g"
      },
      "execution_count": 5,
      "outputs": []
    },
    {
      "cell_type": "code",
      "source": [
        "# student's t-test for revenue (dependent variable)\n",
        "from scipy.stats import ttest_ind\n",
        "\n",
        "print(df_control.revenue.mean(), df_treatment.revenue.mean())\n",
        "\n",
        "# compare samples\n",
        "_, p = ttest_ind(df_control.revenue, df_treatment.revenue)\n",
        "print(f'p={p:.3f}')\n",
        "\n",
        "# interpret\n",
        "alpha = 0.05  # significance level\n",
        "if p > alpha:\n",
        "    print('same distributions/same group mean (fail to reject H0 - we do not have enough evidence to reject H0)')\n",
        "else:\n",
        "    print('different distributions/different group mean (reject H0)')"
      ],
      "metadata": {
        "colab": {
          "base_uri": "https://localhost:8080/"
        },
        "id": "5OtTzzzHInYi",
        "outputId": "4de3ed26-65f7-4936-9062-79bf4d01269d"
      },
      "execution_count": 6,
      "outputs": [
        {
          "output_type": "stream",
          "name": "stdout",
          "text": [
            "9720.987854251012 12750.694444444445\n",
            "p=0.040\n",
            "different distributions/different group mean (reject H0)\n"
          ]
        }
      ]
    },
    {
      "cell_type": "code",
      "source": [
        "# student's t-test for facebook likes (dependent variable)\n",
        "from scipy.stats import ttest_ind\n",
        "\n",
        "print(df_control.fb_likes.mean(), df_treatment.fb_likes.mean())\n",
        "\n",
        "# compare samples\n",
        "_, p = ttest_ind(df_control.fb_likes, df_treatment.fb_likes)\n",
        "print(f'p={p:.3f}')\n",
        "\n",
        "# interpret\n",
        "alpha = 0.05  # significance level\n",
        "if p > alpha:\n",
        "    print('same distributions/same group mean (fail to reject H0 - we do not have enough evidence to reject H0)')\n",
        "else:\n",
        "    print('different distributions/different group mean (reject H0)')"
      ],
      "metadata": {
        "colab": {
          "base_uri": "https://localhost:8080/"
        },
        "id": "L6TSorhZIv9G",
        "outputId": "ffef1e28-1dc4-4c70-c6da-045decf836ea"
      },
      "execution_count": 7,
      "outputs": [
        {
          "output_type": "stream",
          "name": "stdout",
          "text": [
            "77.9412955465587 113.20370370370371\n",
            "p=0.004\n",
            "different distributions/different group mean (reject H0)\n"
          ]
        }
      ]
    },
    {
      "cell_type": "code",
      "source": [
        "# choose features for propensity score calculation\n",
        "X = df[['prom_length', 'price', 'discount_pct', 'coupon_duration', 'featured', 'limited_supply']]\n",
        "y = df['treatment']\n",
        "\n",
        "X.head()"
      ],
      "metadata": {
        "colab": {
          "base_uri": "https://localhost:8080/",
          "height": 206
        },
        "id": "VjceNktmI2Oa",
        "outputId": "f9b23794-6bfe-4970-e82c-358b9c20c133"
      },
      "execution_count": 8,
      "outputs": [
        {
          "output_type": "execute_result",
          "data": {
            "text/plain": [
              "   prom_length  price  discount_pct  coupon_duration  featured  limited_supply\n",
              "0            4     99            51              185         1               1\n",
              "1            2     95            41                9         0               1\n",
              "2            3     25            50               38         0               1\n",
              "3            3     50            50              369         0               1\n",
              "4            4     25            52              185         0               1"
            ],
            "text/html": [
              "\n",
              "  <div id=\"df-c8d299e7-4748-474a-a1ad-f66c6c8b489b\">\n",
              "    <div class=\"colab-df-container\">\n",
              "      <div>\n",
              "<style scoped>\n",
              "    .dataframe tbody tr th:only-of-type {\n",
              "        vertical-align: middle;\n",
              "    }\n",
              "\n",
              "    .dataframe tbody tr th {\n",
              "        vertical-align: top;\n",
              "    }\n",
              "\n",
              "    .dataframe thead th {\n",
              "        text-align: right;\n",
              "    }\n",
              "</style>\n",
              "<table border=\"1\" class=\"dataframe\">\n",
              "  <thead>\n",
              "    <tr style=\"text-align: right;\">\n",
              "      <th></th>\n",
              "      <th>prom_length</th>\n",
              "      <th>price</th>\n",
              "      <th>discount_pct</th>\n",
              "      <th>coupon_duration</th>\n",
              "      <th>featured</th>\n",
              "      <th>limited_supply</th>\n",
              "    </tr>\n",
              "  </thead>\n",
              "  <tbody>\n",
              "    <tr>\n",
              "      <th>0</th>\n",
              "      <td>4</td>\n",
              "      <td>99</td>\n",
              "      <td>51</td>\n",
              "      <td>185</td>\n",
              "      <td>1</td>\n",
              "      <td>1</td>\n",
              "    </tr>\n",
              "    <tr>\n",
              "      <th>1</th>\n",
              "      <td>2</td>\n",
              "      <td>95</td>\n",
              "      <td>41</td>\n",
              "      <td>9</td>\n",
              "      <td>0</td>\n",
              "      <td>1</td>\n",
              "    </tr>\n",
              "    <tr>\n",
              "      <th>2</th>\n",
              "      <td>3</td>\n",
              "      <td>25</td>\n",
              "      <td>50</td>\n",
              "      <td>38</td>\n",
              "      <td>0</td>\n",
              "      <td>1</td>\n",
              "    </tr>\n",
              "    <tr>\n",
              "      <th>3</th>\n",
              "      <td>3</td>\n",
              "      <td>50</td>\n",
              "      <td>50</td>\n",
              "      <td>369</td>\n",
              "      <td>0</td>\n",
              "      <td>1</td>\n",
              "    </tr>\n",
              "    <tr>\n",
              "      <th>4</th>\n",
              "      <td>4</td>\n",
              "      <td>25</td>\n",
              "      <td>52</td>\n",
              "      <td>185</td>\n",
              "      <td>0</td>\n",
              "      <td>1</td>\n",
              "    </tr>\n",
              "  </tbody>\n",
              "</table>\n",
              "</div>\n",
              "      <button class=\"colab-df-convert\" onclick=\"convertToInteractive('df-c8d299e7-4748-474a-a1ad-f66c6c8b489b')\"\n",
              "              title=\"Convert this dataframe to an interactive table.\"\n",
              "              style=\"display:none;\">\n",
              "        \n",
              "  <svg xmlns=\"http://www.w3.org/2000/svg\" height=\"24px\"viewBox=\"0 0 24 24\"\n",
              "       width=\"24px\">\n",
              "    <path d=\"M0 0h24v24H0V0z\" fill=\"none\"/>\n",
              "    <path d=\"M18.56 5.44l.94 2.06.94-2.06 2.06-.94-2.06-.94-.94-2.06-.94 2.06-2.06.94zm-11 1L8.5 8.5l.94-2.06 2.06-.94-2.06-.94L8.5 2.5l-.94 2.06-2.06.94zm10 10l.94 2.06.94-2.06 2.06-.94-2.06-.94-.94-2.06-.94 2.06-2.06.94z\"/><path d=\"M17.41 7.96l-1.37-1.37c-.4-.4-.92-.59-1.43-.59-.52 0-1.04.2-1.43.59L10.3 9.45l-7.72 7.72c-.78.78-.78 2.05 0 2.83L4 21.41c.39.39.9.59 1.41.59.51 0 1.02-.2 1.41-.59l7.78-7.78 2.81-2.81c.8-.78.8-2.07 0-2.86zM5.41 20L4 18.59l7.72-7.72 1.47 1.35L5.41 20z\"/>\n",
              "  </svg>\n",
              "      </button>\n",
              "      \n",
              "  <style>\n",
              "    .colab-df-container {\n",
              "      display:flex;\n",
              "      flex-wrap:wrap;\n",
              "      gap: 12px;\n",
              "    }\n",
              "\n",
              "    .colab-df-convert {\n",
              "      background-color: #E8F0FE;\n",
              "      border: none;\n",
              "      border-radius: 50%;\n",
              "      cursor: pointer;\n",
              "      display: none;\n",
              "      fill: #1967D2;\n",
              "      height: 32px;\n",
              "      padding: 0 0 0 0;\n",
              "      width: 32px;\n",
              "    }\n",
              "\n",
              "    .colab-df-convert:hover {\n",
              "      background-color: #E2EBFA;\n",
              "      box-shadow: 0px 1px 2px rgba(60, 64, 67, 0.3), 0px 1px 3px 1px rgba(60, 64, 67, 0.15);\n",
              "      fill: #174EA6;\n",
              "    }\n",
              "\n",
              "    [theme=dark] .colab-df-convert {\n",
              "      background-color: #3B4455;\n",
              "      fill: #D2E3FC;\n",
              "    }\n",
              "\n",
              "    [theme=dark] .colab-df-convert:hover {\n",
              "      background-color: #434B5C;\n",
              "      box-shadow: 0px 1px 3px 1px rgba(0, 0, 0, 0.15);\n",
              "      filter: drop-shadow(0px 1px 2px rgba(0, 0, 0, 0.3));\n",
              "      fill: #FFFFFF;\n",
              "    }\n",
              "  </style>\n",
              "\n",
              "      <script>\n",
              "        const buttonEl =\n",
              "          document.querySelector('#df-c8d299e7-4748-474a-a1ad-f66c6c8b489b button.colab-df-convert');\n",
              "        buttonEl.style.display =\n",
              "          google.colab.kernel.accessAllowed ? 'block' : 'none';\n",
              "\n",
              "        async function convertToInteractive(key) {\n",
              "          const element = document.querySelector('#df-c8d299e7-4748-474a-a1ad-f66c6c8b489b');\n",
              "          const dataTable =\n",
              "            await google.colab.kernel.invokeFunction('convertToInteractive',\n",
              "                                                     [key], {});\n",
              "          if (!dataTable) return;\n",
              "\n",
              "          const docLinkHtml = 'Like what you see? Visit the ' +\n",
              "            '<a target=\"_blank\" href=https://colab.research.google.com/notebooks/data_table.ipynb>data table notebook</a>'\n",
              "            + ' to learn more about interactive tables.';\n",
              "          element.innerHTML = '';\n",
              "          dataTable['output_type'] = 'display_data';\n",
              "          await google.colab.output.renderOutput(dataTable, element);\n",
              "          const docLink = document.createElement('div');\n",
              "          docLink.innerHTML = docLinkHtml;\n",
              "          element.appendChild(docLink);\n",
              "        }\n",
              "      </script>\n",
              "    </div>\n",
              "  </div>\n",
              "  "
            ]
          },
          "metadata": {},
          "execution_count": 8
        }
      ]
    },
    {
      "cell_type": "code",
      "source": [
        "# use logistic regression to calculate the propensity scores\n",
        "from sklearn.linear_model import LogisticRegression\n",
        "lr = LogisticRegression()\n",
        "lr.fit(X, y)"
      ],
      "metadata": {
        "colab": {
          "base_uri": "https://localhost:8080/",
          "height": 74
        },
        "id": "v6WSLb5BI7g1",
        "outputId": "b9eb1729-61df-4f42-da88-0a15dae8cce4"
      },
      "execution_count": 9,
      "outputs": [
        {
          "output_type": "execute_result",
          "data": {
            "text/plain": [
              "LogisticRegression()"
            ],
            "text/html": [
              "<style>#sk-container-id-1 {color: black;background-color: white;}#sk-container-id-1 pre{padding: 0;}#sk-container-id-1 div.sk-toggleable {background-color: white;}#sk-container-id-1 label.sk-toggleable__label {cursor: pointer;display: block;width: 100%;margin-bottom: 0;padding: 0.3em;box-sizing: border-box;text-align: center;}#sk-container-id-1 label.sk-toggleable__label-arrow:before {content: \"▸\";float: left;margin-right: 0.25em;color: #696969;}#sk-container-id-1 label.sk-toggleable__label-arrow:hover:before {color: black;}#sk-container-id-1 div.sk-estimator:hover label.sk-toggleable__label-arrow:before {color: black;}#sk-container-id-1 div.sk-toggleable__content {max-height: 0;max-width: 0;overflow: hidden;text-align: left;background-color: #f0f8ff;}#sk-container-id-1 div.sk-toggleable__content pre {margin: 0.2em;color: black;border-radius: 0.25em;background-color: #f0f8ff;}#sk-container-id-1 input.sk-toggleable__control:checked~div.sk-toggleable__content {max-height: 200px;max-width: 100%;overflow: auto;}#sk-container-id-1 input.sk-toggleable__control:checked~label.sk-toggleable__label-arrow:before {content: \"▾\";}#sk-container-id-1 div.sk-estimator input.sk-toggleable__control:checked~label.sk-toggleable__label {background-color: #d4ebff;}#sk-container-id-1 div.sk-label input.sk-toggleable__control:checked~label.sk-toggleable__label {background-color: #d4ebff;}#sk-container-id-1 input.sk-hidden--visually {border: 0;clip: rect(1px 1px 1px 1px);clip: rect(1px, 1px, 1px, 1px);height: 1px;margin: -1px;overflow: hidden;padding: 0;position: absolute;width: 1px;}#sk-container-id-1 div.sk-estimator {font-family: monospace;background-color: #f0f8ff;border: 1px dotted black;border-radius: 0.25em;box-sizing: border-box;margin-bottom: 0.5em;}#sk-container-id-1 div.sk-estimator:hover {background-color: #d4ebff;}#sk-container-id-1 div.sk-parallel-item::after {content: \"\";width: 100%;border-bottom: 1px solid gray;flex-grow: 1;}#sk-container-id-1 div.sk-label:hover label.sk-toggleable__label {background-color: #d4ebff;}#sk-container-id-1 div.sk-serial::before {content: \"\";position: absolute;border-left: 1px solid gray;box-sizing: border-box;top: 0;bottom: 0;left: 50%;z-index: 0;}#sk-container-id-1 div.sk-serial {display: flex;flex-direction: column;align-items: center;background-color: white;padding-right: 0.2em;padding-left: 0.2em;position: relative;}#sk-container-id-1 div.sk-item {position: relative;z-index: 1;}#sk-container-id-1 div.sk-parallel {display: flex;align-items: stretch;justify-content: center;background-color: white;position: relative;}#sk-container-id-1 div.sk-item::before, #sk-container-id-1 div.sk-parallel-item::before {content: \"\";position: absolute;border-left: 1px solid gray;box-sizing: border-box;top: 0;bottom: 0;left: 50%;z-index: -1;}#sk-container-id-1 div.sk-parallel-item {display: flex;flex-direction: column;z-index: 1;position: relative;background-color: white;}#sk-container-id-1 div.sk-parallel-item:first-child::after {align-self: flex-end;width: 50%;}#sk-container-id-1 div.sk-parallel-item:last-child::after {align-self: flex-start;width: 50%;}#sk-container-id-1 div.sk-parallel-item:only-child::after {width: 0;}#sk-container-id-1 div.sk-dashed-wrapped {border: 1px dashed gray;margin: 0 0.4em 0.5em 0.4em;box-sizing: border-box;padding-bottom: 0.4em;background-color: white;}#sk-container-id-1 div.sk-label label {font-family: monospace;font-weight: bold;display: inline-block;line-height: 1.2em;}#sk-container-id-1 div.sk-label-container {text-align: center;}#sk-container-id-1 div.sk-container {/* jupyter's `normalize.less` sets `[hidden] { display: none; }` but bootstrap.min.css set `[hidden] { display: none !important; }` so we also need the `!important` here to be able to override the default hidden behavior on the sphinx rendered scikit-learn.org. See: https://github.com/scikit-learn/scikit-learn/issues/21755 */display: inline-block !important;position: relative;}#sk-container-id-1 div.sk-text-repr-fallback {display: none;}</style><div id=\"sk-container-id-1\" class=\"sk-top-container\"><div class=\"sk-text-repr-fallback\"><pre>LogisticRegression()</pre><b>In a Jupyter environment, please rerun this cell to show the HTML representation or trust the notebook. <br />On GitHub, the HTML representation is unable to render, please try loading this page with nbviewer.org.</b></div><div class=\"sk-container\" hidden><div class=\"sk-item\"><div class=\"sk-estimator sk-toggleable\"><input class=\"sk-toggleable__control sk-hidden--visually\" id=\"sk-estimator-id-1\" type=\"checkbox\" checked><label for=\"sk-estimator-id-1\" class=\"sk-toggleable__label sk-toggleable__label-arrow\">LogisticRegression</label><div class=\"sk-toggleable__content\"><pre>LogisticRegression()</pre></div></div></div></div></div>"
            ]
          },
          "metadata": {},
          "execution_count": 9
        }
      ]
    },
    {
      "cell_type": "code",
      "source": [
        "# get the coefficients \n",
        "lr.coef_.ravel()  # or reshape(-1) refers to an unknown dimension, often used to flatten the array"
      ],
      "metadata": {
        "colab": {
          "base_uri": "https://localhost:8080/"
        },
        "id": "m2Jcq7OVJBr2",
        "outputId": "d6997e19-4ad6-4480-a728-0dac9615e597"
      },
      "execution_count": 10,
      "outputs": [
        {
          "output_type": "execute_result",
          "data": {
            "text/plain": [
              "array([-0.3283715 , -0.00859709, -0.00794035,  0.00352025,  0.30799384,\n",
              "       -0.36649838])"
            ]
          },
          "metadata": {},
          "execution_count": 10
        }
      ]
    },
    {
      "cell_type": "code",
      "source": [
        "# get the feature names\n",
        "X.columns.to_numpy()"
      ],
      "metadata": {
        "colab": {
          "base_uri": "https://localhost:8080/"
        },
        "id": "kaFsb5kuJGZm",
        "outputId": "4f994d89-2eb6-4f2b-b804-462ed59eddb5"
      },
      "execution_count": 11,
      "outputs": [
        {
          "output_type": "execute_result",
          "data": {
            "text/plain": [
              "array(['prom_length', 'price', 'discount_pct', 'coupon_duration',\n",
              "       'featured', 'limited_supply'], dtype=object)"
            ]
          },
          "metadata": {},
          "execution_count": 11
        }
      ]
    },
    {
      "cell_type": "code",
      "source": [
        "# combine features and coefficients into a dataframe\n",
        "coeffs = pd.DataFrame({\n",
        "    'column':X.columns.to_numpy(),\n",
        "    'coeff':lr.coef_.ravel(),\n",
        "})\n",
        "coeffs"
      ],
      "metadata": {
        "colab": {
          "base_uri": "https://localhost:8080/",
          "height": 237
        },
        "id": "jA_5PyCyJLwx",
        "outputId": "17e0e88a-8bfd-4e6c-f715-55f5a843bf30"
      },
      "execution_count": 12,
      "outputs": [
        {
          "output_type": "execute_result",
          "data": {
            "text/plain": [
              "            column     coeff\n",
              "0      prom_length -0.328371\n",
              "1            price -0.008597\n",
              "2     discount_pct -0.007940\n",
              "3  coupon_duration  0.003520\n",
              "4         featured  0.307994\n",
              "5   limited_supply -0.366498"
            ],
            "text/html": [
              "\n",
              "  <div id=\"df-52f9881a-7a6d-4bbb-bdc9-3d984d65e505\">\n",
              "    <div class=\"colab-df-container\">\n",
              "      <div>\n",
              "<style scoped>\n",
              "    .dataframe tbody tr th:only-of-type {\n",
              "        vertical-align: middle;\n",
              "    }\n",
              "\n",
              "    .dataframe tbody tr th {\n",
              "        vertical-align: top;\n",
              "    }\n",
              "\n",
              "    .dataframe thead th {\n",
              "        text-align: right;\n",
              "    }\n",
              "</style>\n",
              "<table border=\"1\" class=\"dataframe\">\n",
              "  <thead>\n",
              "    <tr style=\"text-align: right;\">\n",
              "      <th></th>\n",
              "      <th>column</th>\n",
              "      <th>coeff</th>\n",
              "    </tr>\n",
              "  </thead>\n",
              "  <tbody>\n",
              "    <tr>\n",
              "      <th>0</th>\n",
              "      <td>prom_length</td>\n",
              "      <td>-0.328371</td>\n",
              "    </tr>\n",
              "    <tr>\n",
              "      <th>1</th>\n",
              "      <td>price</td>\n",
              "      <td>-0.008597</td>\n",
              "    </tr>\n",
              "    <tr>\n",
              "      <th>2</th>\n",
              "      <td>discount_pct</td>\n",
              "      <td>-0.007940</td>\n",
              "    </tr>\n",
              "    <tr>\n",
              "      <th>3</th>\n",
              "      <td>coupon_duration</td>\n",
              "      <td>0.003520</td>\n",
              "    </tr>\n",
              "    <tr>\n",
              "      <th>4</th>\n",
              "      <td>featured</td>\n",
              "      <td>0.307994</td>\n",
              "    </tr>\n",
              "    <tr>\n",
              "      <th>5</th>\n",
              "      <td>limited_supply</td>\n",
              "      <td>-0.366498</td>\n",
              "    </tr>\n",
              "  </tbody>\n",
              "</table>\n",
              "</div>\n",
              "      <button class=\"colab-df-convert\" onclick=\"convertToInteractive('df-52f9881a-7a6d-4bbb-bdc9-3d984d65e505')\"\n",
              "              title=\"Convert this dataframe to an interactive table.\"\n",
              "              style=\"display:none;\">\n",
              "        \n",
              "  <svg xmlns=\"http://www.w3.org/2000/svg\" height=\"24px\"viewBox=\"0 0 24 24\"\n",
              "       width=\"24px\">\n",
              "    <path d=\"M0 0h24v24H0V0z\" fill=\"none\"/>\n",
              "    <path d=\"M18.56 5.44l.94 2.06.94-2.06 2.06-.94-2.06-.94-.94-2.06-.94 2.06-2.06.94zm-11 1L8.5 8.5l.94-2.06 2.06-.94-2.06-.94L8.5 2.5l-.94 2.06-2.06.94zm10 10l.94 2.06.94-2.06 2.06-.94-2.06-.94-.94-2.06-.94 2.06-2.06.94z\"/><path d=\"M17.41 7.96l-1.37-1.37c-.4-.4-.92-.59-1.43-.59-.52 0-1.04.2-1.43.59L10.3 9.45l-7.72 7.72c-.78.78-.78 2.05 0 2.83L4 21.41c.39.39.9.59 1.41.59.51 0 1.02-.2 1.41-.59l7.78-7.78 2.81-2.81c.8-.78.8-2.07 0-2.86zM5.41 20L4 18.59l7.72-7.72 1.47 1.35L5.41 20z\"/>\n",
              "  </svg>\n",
              "      </button>\n",
              "      \n",
              "  <style>\n",
              "    .colab-df-container {\n",
              "      display:flex;\n",
              "      flex-wrap:wrap;\n",
              "      gap: 12px;\n",
              "    }\n",
              "\n",
              "    .colab-df-convert {\n",
              "      background-color: #E8F0FE;\n",
              "      border: none;\n",
              "      border-radius: 50%;\n",
              "      cursor: pointer;\n",
              "      display: none;\n",
              "      fill: #1967D2;\n",
              "      height: 32px;\n",
              "      padding: 0 0 0 0;\n",
              "      width: 32px;\n",
              "    }\n",
              "\n",
              "    .colab-df-convert:hover {\n",
              "      background-color: #E2EBFA;\n",
              "      box-shadow: 0px 1px 2px rgba(60, 64, 67, 0.3), 0px 1px 3px 1px rgba(60, 64, 67, 0.15);\n",
              "      fill: #174EA6;\n",
              "    }\n",
              "\n",
              "    [theme=dark] .colab-df-convert {\n",
              "      background-color: #3B4455;\n",
              "      fill: #D2E3FC;\n",
              "    }\n",
              "\n",
              "    [theme=dark] .colab-df-convert:hover {\n",
              "      background-color: #434B5C;\n",
              "      box-shadow: 0px 1px 3px 1px rgba(0, 0, 0, 0.15);\n",
              "      filter: drop-shadow(0px 1px 2px rgba(0, 0, 0, 0.3));\n",
              "      fill: #FFFFFF;\n",
              "    }\n",
              "  </style>\n",
              "\n",
              "      <script>\n",
              "        const buttonEl =\n",
              "          document.querySelector('#df-52f9881a-7a6d-4bbb-bdc9-3d984d65e505 button.colab-df-convert');\n",
              "        buttonEl.style.display =\n",
              "          google.colab.kernel.accessAllowed ? 'block' : 'none';\n",
              "\n",
              "        async function convertToInteractive(key) {\n",
              "          const element = document.querySelector('#df-52f9881a-7a6d-4bbb-bdc9-3d984d65e505');\n",
              "          const dataTable =\n",
              "            await google.colab.kernel.invokeFunction('convertToInteractive',\n",
              "                                                     [key], {});\n",
              "          if (!dataTable) return;\n",
              "\n",
              "          const docLinkHtml = 'Like what you see? Visit the ' +\n",
              "            '<a target=\"_blank\" href=https://colab.research.google.com/notebooks/data_table.ipynb>data table notebook</a>'\n",
              "            + ' to learn more about interactive tables.';\n",
              "          element.innerHTML = '';\n",
              "          dataTable['output_type'] = 'display_data';\n",
              "          await google.colab.output.renderOutput(dataTable, element);\n",
              "          const docLink = document.createElement('div');\n",
              "          docLink.innerHTML = docLinkHtml;\n",
              "          element.appendChild(docLink);\n",
              "        }\n",
              "      </script>\n",
              "    </div>\n",
              "  </div>\n",
              "  "
            ]
          },
          "metadata": {},
          "execution_count": 12
        }
      ]
    },
    {
      "cell_type": "code",
      "source": [
        "# prediction\n",
        "pred_binary = lr.predict(X)  # binary 0 control, 1, treatment\n",
        "pred_prob = lr.predict_proba(X)  # probabilities for classes\n",
        "\n",
        "print('the binary prediction is:', pred_binary[0])\n",
        "print('the corresponding probabilities are:', pred_prob[0])"
      ],
      "metadata": {
        "colab": {
          "base_uri": "https://localhost:8080/"
        },
        "id": "dHhv84_2JRHl",
        "outputId": "f6e33393-4b1a-45dc-eb9a-f685b60ac388"
      },
      "execution_count": 13,
      "outputs": [
        {
          "output_type": "stream",
          "name": "stdout",
          "text": [
            "the binary prediction is: 0\n",
            "the corresponding probabilities are: [0.74080759 0.25919241]\n"
          ]
        }
      ]
    },
    {
      "cell_type": "code",
      "source": [
        "# the propensity score (ps) is the probability of being 1 (i.e., in the treatment group)\n",
        "df['ps'] = pred_prob[:, 1]\n",
        "\n",
        "# calculate the logit of the propensity score for matching if needed\n",
        "# I just use the propensity score to match in this tutorial\n",
        "def logit(p):\n",
        "    logit_value = math.log(p / (1-p))\n",
        "    return logit_value\n",
        "\n",
        "df['ps_logit'] = df.ps.apply(lambda x: logit(x))\n",
        "\n",
        "df.head()"
      ],
      "metadata": {
        "colab": {
          "base_uri": "https://localhost:8080/",
          "height": 443
        },
        "id": "aJrs5QJrJWSL",
        "outputId": "15051986-7d4d-4a68-cb01-84874f919e22"
      },
      "execution_count": 14,
      "outputs": [
        {
          "output_type": "execute_result",
          "data": {
            "text/plain": [
              "                                      deal_id start_date  min_req  treatment  \\\n",
              "0                                heli-flights  9/23/2011       10          1   \n",
              "1  gl-champion-series-tennis-electric-factory  9/23/2011       20          1   \n",
              "2           realm-of-terror-horror-experience  9/23/2011       50          1   \n",
              "3                             newport-gourmet  9/23/2011       15          1   \n",
              "4                                the-clayroom  9/23/2011       20          1   \n",
              "\n",
              "   prom_length  price  discount_pct  coupon_duration  featured  \\\n",
              "0            4     99            51              185         1   \n",
              "1            2     95            41                9         0   \n",
              "2            3     25            50               38         0   \n",
              "3            3     50            50              369         0   \n",
              "4            4     25            52              185         0   \n",
              "\n",
              "   limited_supply  fb_likes  quantity_sold  revenue        ps  ps_logit  \n",
              "0               1       290            540    53460  0.259192 -1.050170  \n",
              "1               1        43            190    18050  0.230198 -1.207193  \n",
              "2               1       208            380     9500  0.288405 -0.903144  \n",
              "3               1        16             90     4500  0.511781  0.047131  \n",
              "4               1        85            580    14500  0.325212 -0.729920  "
            ],
            "text/html": [
              "\n",
              "  <div id=\"df-e18f4d66-39df-4d38-81c8-db61a375683f\">\n",
              "    <div class=\"colab-df-container\">\n",
              "      <div>\n",
              "<style scoped>\n",
              "    .dataframe tbody tr th:only-of-type {\n",
              "        vertical-align: middle;\n",
              "    }\n",
              "\n",
              "    .dataframe tbody tr th {\n",
              "        vertical-align: top;\n",
              "    }\n",
              "\n",
              "    .dataframe thead th {\n",
              "        text-align: right;\n",
              "    }\n",
              "</style>\n",
              "<table border=\"1\" class=\"dataframe\">\n",
              "  <thead>\n",
              "    <tr style=\"text-align: right;\">\n",
              "      <th></th>\n",
              "      <th>deal_id</th>\n",
              "      <th>start_date</th>\n",
              "      <th>min_req</th>\n",
              "      <th>treatment</th>\n",
              "      <th>prom_length</th>\n",
              "      <th>price</th>\n",
              "      <th>discount_pct</th>\n",
              "      <th>coupon_duration</th>\n",
              "      <th>featured</th>\n",
              "      <th>limited_supply</th>\n",
              "      <th>fb_likes</th>\n",
              "      <th>quantity_sold</th>\n",
              "      <th>revenue</th>\n",
              "      <th>ps</th>\n",
              "      <th>ps_logit</th>\n",
              "    </tr>\n",
              "  </thead>\n",
              "  <tbody>\n",
              "    <tr>\n",
              "      <th>0</th>\n",
              "      <td>heli-flights</td>\n",
              "      <td>9/23/2011</td>\n",
              "      <td>10</td>\n",
              "      <td>1</td>\n",
              "      <td>4</td>\n",
              "      <td>99</td>\n",
              "      <td>51</td>\n",
              "      <td>185</td>\n",
              "      <td>1</td>\n",
              "      <td>1</td>\n",
              "      <td>290</td>\n",
              "      <td>540</td>\n",
              "      <td>53460</td>\n",
              "      <td>0.259192</td>\n",
              "      <td>-1.050170</td>\n",
              "    </tr>\n",
              "    <tr>\n",
              "      <th>1</th>\n",
              "      <td>gl-champion-series-tennis-electric-factory</td>\n",
              "      <td>9/23/2011</td>\n",
              "      <td>20</td>\n",
              "      <td>1</td>\n",
              "      <td>2</td>\n",
              "      <td>95</td>\n",
              "      <td>41</td>\n",
              "      <td>9</td>\n",
              "      <td>0</td>\n",
              "      <td>1</td>\n",
              "      <td>43</td>\n",
              "      <td>190</td>\n",
              "      <td>18050</td>\n",
              "      <td>0.230198</td>\n",
              "      <td>-1.207193</td>\n",
              "    </tr>\n",
              "    <tr>\n",
              "      <th>2</th>\n",
              "      <td>realm-of-terror-horror-experience</td>\n",
              "      <td>9/23/2011</td>\n",
              "      <td>50</td>\n",
              "      <td>1</td>\n",
              "      <td>3</td>\n",
              "      <td>25</td>\n",
              "      <td>50</td>\n",
              "      <td>38</td>\n",
              "      <td>0</td>\n",
              "      <td>1</td>\n",
              "      <td>208</td>\n",
              "      <td>380</td>\n",
              "      <td>9500</td>\n",
              "      <td>0.288405</td>\n",
              "      <td>-0.903144</td>\n",
              "    </tr>\n",
              "    <tr>\n",
              "      <th>3</th>\n",
              "      <td>newport-gourmet</td>\n",
              "      <td>9/23/2011</td>\n",
              "      <td>15</td>\n",
              "      <td>1</td>\n",
              "      <td>3</td>\n",
              "      <td>50</td>\n",
              "      <td>50</td>\n",
              "      <td>369</td>\n",
              "      <td>0</td>\n",
              "      <td>1</td>\n",
              "      <td>16</td>\n",
              "      <td>90</td>\n",
              "      <td>4500</td>\n",
              "      <td>0.511781</td>\n",
              "      <td>0.047131</td>\n",
              "    </tr>\n",
              "    <tr>\n",
              "      <th>4</th>\n",
              "      <td>the-clayroom</td>\n",
              "      <td>9/23/2011</td>\n",
              "      <td>20</td>\n",
              "      <td>1</td>\n",
              "      <td>4</td>\n",
              "      <td>25</td>\n",
              "      <td>52</td>\n",
              "      <td>185</td>\n",
              "      <td>0</td>\n",
              "      <td>1</td>\n",
              "      <td>85</td>\n",
              "      <td>580</td>\n",
              "      <td>14500</td>\n",
              "      <td>0.325212</td>\n",
              "      <td>-0.729920</td>\n",
              "    </tr>\n",
              "  </tbody>\n",
              "</table>\n",
              "</div>\n",
              "      <button class=\"colab-df-convert\" onclick=\"convertToInteractive('df-e18f4d66-39df-4d38-81c8-db61a375683f')\"\n",
              "              title=\"Convert this dataframe to an interactive table.\"\n",
              "              style=\"display:none;\">\n",
              "        \n",
              "  <svg xmlns=\"http://www.w3.org/2000/svg\" height=\"24px\"viewBox=\"0 0 24 24\"\n",
              "       width=\"24px\">\n",
              "    <path d=\"M0 0h24v24H0V0z\" fill=\"none\"/>\n",
              "    <path d=\"M18.56 5.44l.94 2.06.94-2.06 2.06-.94-2.06-.94-.94-2.06-.94 2.06-2.06.94zm-11 1L8.5 8.5l.94-2.06 2.06-.94-2.06-.94L8.5 2.5l-.94 2.06-2.06.94zm10 10l.94 2.06.94-2.06 2.06-.94-2.06-.94-.94-2.06-.94 2.06-2.06.94z\"/><path d=\"M17.41 7.96l-1.37-1.37c-.4-.4-.92-.59-1.43-.59-.52 0-1.04.2-1.43.59L10.3 9.45l-7.72 7.72c-.78.78-.78 2.05 0 2.83L4 21.41c.39.39.9.59 1.41.59.51 0 1.02-.2 1.41-.59l7.78-7.78 2.81-2.81c.8-.78.8-2.07 0-2.86zM5.41 20L4 18.59l7.72-7.72 1.47 1.35L5.41 20z\"/>\n",
              "  </svg>\n",
              "      </button>\n",
              "      \n",
              "  <style>\n",
              "    .colab-df-container {\n",
              "      display:flex;\n",
              "      flex-wrap:wrap;\n",
              "      gap: 12px;\n",
              "    }\n",
              "\n",
              "    .colab-df-convert {\n",
              "      background-color: #E8F0FE;\n",
              "      border: none;\n",
              "      border-radius: 50%;\n",
              "      cursor: pointer;\n",
              "      display: none;\n",
              "      fill: #1967D2;\n",
              "      height: 32px;\n",
              "      padding: 0 0 0 0;\n",
              "      width: 32px;\n",
              "    }\n",
              "\n",
              "    .colab-df-convert:hover {\n",
              "      background-color: #E2EBFA;\n",
              "      box-shadow: 0px 1px 2px rgba(60, 64, 67, 0.3), 0px 1px 3px 1px rgba(60, 64, 67, 0.15);\n",
              "      fill: #174EA6;\n",
              "    }\n",
              "\n",
              "    [theme=dark] .colab-df-convert {\n",
              "      background-color: #3B4455;\n",
              "      fill: #D2E3FC;\n",
              "    }\n",
              "\n",
              "    [theme=dark] .colab-df-convert:hover {\n",
              "      background-color: #434B5C;\n",
              "      box-shadow: 0px 1px 3px 1px rgba(0, 0, 0, 0.15);\n",
              "      filter: drop-shadow(0px 1px 2px rgba(0, 0, 0, 0.3));\n",
              "      fill: #FFFFFF;\n",
              "    }\n",
              "  </style>\n",
              "\n",
              "      <script>\n",
              "        const buttonEl =\n",
              "          document.querySelector('#df-e18f4d66-39df-4d38-81c8-db61a375683f button.colab-df-convert');\n",
              "        buttonEl.style.display =\n",
              "          google.colab.kernel.accessAllowed ? 'block' : 'none';\n",
              "\n",
              "        async function convertToInteractive(key) {\n",
              "          const element = document.querySelector('#df-e18f4d66-39df-4d38-81c8-db61a375683f');\n",
              "          const dataTable =\n",
              "            await google.colab.kernel.invokeFunction('convertToInteractive',\n",
              "                                                     [key], {});\n",
              "          if (!dataTable) return;\n",
              "\n",
              "          const docLinkHtml = 'Like what you see? Visit the ' +\n",
              "            '<a target=\"_blank\" href=https://colab.research.google.com/notebooks/data_table.ipynb>data table notebook</a>'\n",
              "            + ' to learn more about interactive tables.';\n",
              "          element.innerHTML = '';\n",
              "          dataTable['output_type'] = 'display_data';\n",
              "          await google.colab.output.renderOutput(dataTable, element);\n",
              "          const docLink = document.createElement('div');\n",
              "          docLink.innerHTML = docLinkHtml;\n",
              "          element.appendChild(docLink);\n",
              "        }\n",
              "      </script>\n",
              "    </div>\n",
              "  </div>\n",
              "  "
            ]
          },
          "metadata": {},
          "execution_count": 14
        }
      ]
    },
    {
      "cell_type": "code",
      "source": [
        "# check the overlap of ps for control and treatment using histogram\n",
        "# if not much overlap, the matching won't work\n",
        "sns.histplot(data=df, x='ps', hue='treatment')  # multiple=\"dodge\" for "
      ],
      "metadata": {
        "colab": {
          "base_uri": "https://localhost:8080/",
          "height": 302
        },
        "id": "uM6D6YZqJbeK",
        "outputId": "6927a60c-4642-45d6-f40f-7c89c369753f"
      },
      "execution_count": 16,
      "outputs": [
        {
          "output_type": "execute_result",
          "data": {
            "text/plain": [
              "<Axes: xlabel='ps', ylabel='Count'>"
            ]
          },
          "metadata": {},
          "execution_count": 16
        },
        {
          "output_type": "display_data",
          "data": {
            "text/plain": [
              "<Figure size 432x288 with 1 Axes>"
            ],
            "image/png": "[encoded data removed]"
          },
          "metadata": {}
        }
      ]
    },
    {
      "cell_type": "code",
      "source": [
        "# adding 'min_req' here makes matching not working - because treatment is derived from min_req\n",
        "# there is no overlap and thus matching will not work\n",
        "X1 = df[['min_req', 'prom_length', 'price', 'discount_pct', 'coupon_duration', 'featured','limited_supply']]\n",
        "y = df['treatment']\n",
        "\n",
        "# use logistic regression to calculate the propensity scores\n",
        "lr1 = LogisticRegression(max_iter=1000)\n",
        "lr1.fit(X1, y)\n",
        "\n",
        "pred_prob1 = lr1.predict_proba(X1)  # probabilities for classes\n",
        "df['ps1'] = pred_prob1[:, 1]\n",
        "\n",
        "sns.histplot(data=df, x='ps1', hue='treatment')"
      ],
      "metadata": {
        "colab": {
          "base_uri": "https://localhost:8080/",
          "height": 302
        },
        "id": "knBY5kv1JuCK",
        "outputId": "e40760e1-7d59-4566-b7cf-e4f133a6aac5"
      },
      "execution_count": 17,
      "outputs": [
        {
          "output_type": "execute_result",
          "data": {
            "text/plain": [
              "<Axes: xlabel='ps1', ylabel='Count'>"
            ]
          },
          "metadata": {},
          "execution_count": 17
        },
        {
          "output_type": "display_data",
          "data": {
            "text/plain": [
              "<Figure size 432x288 with 1 Axes>"
            ],
            "image/png": "[encoded data removed]"
          },
          "metadata": {}
        }
      ]
    },
    {
      "cell_type": "code",
      "source": [
        "# stating date can also determine treatment value for most cases\n",
        "# so we do not include it in the propensity score calculation\n",
        "df.start_date = pd.to_datetime(df.start_date)\n",
        "fig, ax = plt.subplots(figsize=(20, 10))\n",
        "sns.scatterplot(data=df, x='start_date', y='revenue', hue='treatment')"
      ],
      "metadata": {
        "colab": {
          "base_uri": "https://localhost:8080/",
          "height": 609
        },
        "id": "1aE1hmgTJw2p",
        "outputId": "6c1aa923-09f3-4e4f-872d-9d42e4751ffb"
      },
      "execution_count": 18,
      "outputs": [
        {
          "output_type": "execute_result",
          "data": {
            "text/plain": [
              "<Axes: xlabel='start_date', ylabel='revenue'>"
            ]
          },
          "metadata": {},
          "execution_count": 18
        },
        {
          "output_type": "display_data",
          "data": {
            "text/plain": [
              "<Figure size 1440x720 with 1 Axes>"
            ],
            "image/png": "[encoded data removed]"
          },
          "metadata": {}
        }
      ]
    },
    {
      "cell_type": "code",
      "source": [
        "# adding 'starting_date' here via a `recency` feature\n",
        "# there is only little overlap resulting in not enough matched observations\n",
        "\n",
        "last_date = df.start_date.max()\n",
        "df['recency'] = (last_date - df.start_date).dt.days\n",
        "\n",
        "X2 = df[['recency', 'prom_length', 'price', 'discount_pct', 'coupon_duration', 'featured','limited_supply']]\n",
        "y = df['treatment']\n",
        "\n",
        "# use logistic regression to calculate the propensity scores\n",
        "lr2 = LogisticRegression(max_iter=1000)\n",
        "lr2.fit(X2, y)\n",
        "\n",
        "pred_prob2 = lr2.predict_proba(X2)  # probabilities for classes\n",
        "df['ps2'] = pred_prob2[:, 1]\n",
        "\n",
        "sns.histplot(data=df, x='ps2', hue='treatment')"
      ],
      "metadata": {
        "colab": {
          "base_uri": "https://localhost:8080/",
          "height": 302
        },
        "id": "qlAdzvQrJ3f6",
        "outputId": "f7950a13-19f7-4044-b38d-7e8202088321"
      },
      "execution_count": 19,
      "outputs": [
        {
          "output_type": "execute_result",
          "data": {
            "text/plain": [
              "<Axes: xlabel='ps2', ylabel='Count'>"
            ]
          },
          "metadata": {},
          "execution_count": 19
        },
        {
          "output_type": "display_data",
          "data": {
            "text/plain": [
              "<Figure size 432x288 with 1 Axes>"
            ],
            "image/png": "[encoded data removed]"
          },
          "metadata": {}
        }
      ]
    },
    {
      "cell_type": "code",
      "source": [
        "# use 25% of standard deviation of the propensity score as the caliper/radius\n",
        "# get the k closest neighbors for each observations\n",
        "# relax caliper and increase k can provide more matches\n",
        "\n",
        "from sklearn.neighbors import NearestNeighbors\n",
        "\n",
        "caliper = np.std(df.ps) * 0.25\n",
        "print(f'caliper (radius) is: {caliper:.4f}')\n",
        "\n",
        "n_neighbors = 10\n",
        "\n",
        "# setup knn\n",
        "knn = NearestNeighbors(n_neighbors=n_neighbors, radius=caliper)\n",
        "\n",
        "ps = df[['ps']]  # double brackets as a dataframe\n",
        "knn.fit(ps)"
      ],
      "metadata": {
        "colab": {
          "base_uri": "https://localhost:8080/",
          "height": 91
        },
        "id": "pzlFIDWvJ-z9",
        "outputId": "0adef25c-b0f0-4113-b57b-f555b2e7c8e6"
      },
      "execution_count": 20,
      "outputs": [
        {
          "output_type": "stream",
          "name": "stdout",
          "text": [
            "caliper (radius) is: 0.0304\n"
          ]
        },
        {
          "output_type": "execute_result",
          "data": {
            "text/plain": [
              "NearestNeighbors(n_neighbors=10, radius=0.030379114699693434)"
            ],
            "text/html": [
              "<style>#sk-container-id-2 {color: black;background-color: white;}#sk-container-id-2 pre{padding: 0;}#sk-container-id-2 div.sk-toggleable {background-color: white;}#sk-container-id-2 label.sk-toggleable__label {cursor: pointer;display: block;width: 100%;margin-bottom: 0;padding: 0.3em;box-sizing: border-box;text-align: center;}#sk-container-id-2 label.sk-toggleable__label-arrow:before {content: \"▸\";float: left;margin-right: 0.25em;color: #696969;}#sk-container-id-2 label.sk-toggleable__label-arrow:hover:before {color: black;}#sk-container-id-2 div.sk-estimator:hover label.sk-toggleable__label-arrow:before {color: black;}#sk-container-id-2 div.sk-toggleable__content {max-height: 0;max-width: 0;overflow: hidden;text-align: left;background-color: #f0f8ff;}#sk-container-id-2 div.sk-toggleable__content pre {margin: 0.2em;color: black;border-radius: 0.25em;background-color: #f0f8ff;}#sk-container-id-2 input.sk-toggleable__control:checked~div.sk-toggleable__content {max-height: 200px;max-width: 100%;overflow: auto;}#sk-container-id-2 input.sk-toggleable__control:checked~label.sk-toggleable__label-arrow:before {content: \"▾\";}#sk-container-id-2 div.sk-estimator input.sk-toggleable__control:checked~label.sk-toggleable__label {background-color: #d4ebff;}#sk-container-id-2 div.sk-label input.sk-toggleable__control:checked~label.sk-toggleable__label {background-color: #d4ebff;}#sk-container-id-2 input.sk-hidden--visually {border: 0;clip: rect(1px 1px 1px 1px);clip: rect(1px, 1px, 1px, 1px);height: 1px;margin: -1px;overflow: hidden;padding: 0;position: absolute;width: 1px;}#sk-container-id-2 div.sk-estimator {font-family: monospace;background-color: #f0f8ff;border: 1px dotted black;border-radius: 0.25em;box-sizing: border-box;margin-bottom: 0.5em;}#sk-container-id-2 div.sk-estimator:hover {background-color: #d4ebff;}#sk-container-id-2 div.sk-parallel-item::after {content: \"\";width: 100%;border-bottom: 1px solid gray;flex-grow: 1;}#sk-container-id-2 div.sk-label:hover label.sk-toggleable__label {background-color: #d4ebff;}#sk-container-id-2 div.sk-serial::before {content: \"\";position: absolute;border-left: 1px solid gray;box-sizing: border-box;top: 0;bottom: 0;left: 50%;z-index: 0;}#sk-container-id-2 div.sk-serial {display: flex;flex-direction: column;align-items: center;background-color: white;padding-right: 0.2em;padding-left: 0.2em;position: relative;}#sk-container-id-2 div.sk-item {position: relative;z-index: 1;}#sk-container-id-2 div.sk-parallel {display: flex;align-items: stretch;justify-content: center;background-color: white;position: relative;}#sk-container-id-2 div.sk-item::before, #sk-container-id-2 div.sk-parallel-item::before {content: \"\";position: absolute;border-left: 1px solid gray;box-sizing: border-box;top: 0;bottom: 0;left: 50%;z-index: -1;}#sk-container-id-2 div.sk-parallel-item {display: flex;flex-direction: column;z-index: 1;position: relative;background-color: white;}#sk-container-id-2 div.sk-parallel-item:first-child::after {align-self: flex-end;width: 50%;}#sk-container-id-2 div.sk-parallel-item:last-child::after {align-self: flex-start;width: 50%;}#sk-container-id-2 div.sk-parallel-item:only-child::after {width: 0;}#sk-container-id-2 div.sk-dashed-wrapped {border: 1px dashed gray;margin: 0 0.4em 0.5em 0.4em;box-sizing: border-box;padding-bottom: 0.4em;background-color: white;}#sk-container-id-2 div.sk-label label {font-family: monospace;font-weight: bold;display: inline-block;line-height: 1.2em;}#sk-container-id-2 div.sk-label-container {text-align: center;}#sk-container-id-2 div.sk-container {/* jupyter's `normalize.less` sets `[hidden] { display: none; }` but bootstrap.min.css set `[hidden] { display: none !important; }` so we also need the `!important` here to be able to override the default hidden behavior on the sphinx rendered scikit-learn.org. See: https://github.com/scikit-learn/scikit-learn/issues/21755 */display: inline-block !important;position: relative;}#sk-container-id-2 div.sk-text-repr-fallback {display: none;}</style><div id=\"sk-container-id-2\" class=\"sk-top-container\"><div class=\"sk-text-repr-fallback\"><pre>NearestNeighbors(n_neighbors=10, radius=0.030379114699693434)</pre><b>In a Jupyter environment, please rerun this cell to show the HTML representation or trust the notebook. <br />On GitHub, the HTML representation is unable to render, please try loading this page with nbviewer.org.</b></div><div class=\"sk-container\" hidden><div class=\"sk-item\"><div class=\"sk-estimator sk-toggleable\"><input class=\"sk-toggleable__control sk-hidden--visually\" id=\"sk-estimator-id-2\" type=\"checkbox\" checked><label for=\"sk-estimator-id-2\" class=\"sk-toggleable__label sk-toggleable__label-arrow\">NearestNeighbors</label><div class=\"sk-toggleable__content\"><pre>NearestNeighbors(n_neighbors=10, radius=0.030379114699693434)</pre></div></div></div></div></div>"
            ]
          },
          "metadata": {},
          "execution_count": 20
        }
      ]
    },
    {
      "cell_type": "code",
      "source": [
        "# distances and indexes\n",
        "distances, neighbor_indexes = knn.kneighbors(ps)\n",
        "\n",
        "print(neighbor_indexes.shape)\n",
        "\n",
        "# the 10 closest points to the first point\n",
        "print(distances[0])\n",
        "print(neighbor_indexes[0])"
      ],
      "metadata": {
        "colab": {
          "base_uri": "https://localhost:8080/"
        },
        "id": "B1iG0tssKEgH",
        "outputId": "df246135-1d92-4a10-ea67-93c67ee9c975"
      },
      "execution_count": 21,
      "outputs": [
        {
          "output_type": "stream",
          "name": "stdout",
          "text": [
            "(710, 10)\n",
            "[0.         0.00010796 0.00040665 0.00078187 0.00115838 0.00135219\n",
            " 0.00135219 0.00164927 0.00166947 0.00203843]\n",
            "[  0 348 388 415 624 150 494 463 372 345]\n"
          ]
        }
      ]
    },
    {
      "cell_type": "code",
      "source": [
        "# for each point in treatment, we find a matching point in control without replacement\n",
        "# note the 10 neighbors may include both points in treatment and control\n",
        "\n",
        "matched_control = []  # keep track of the matched observations in control\n",
        "\n",
        "for current_index, row in df.iterrows():  # iterate over the dataframe\n",
        "    if row.treatment == 0:  # the current row is in the control group\n",
        "        df.loc[current_index, 'matched'] = np.nan  # set matched to nan\n",
        "    else: \n",
        "        for idx in neighbor_indexes[current_index, :]: # for each row in treatment, find the k neighbors\n",
        "            # make sure the current row is not the idx - don't match to itself\n",
        "            # and the neighbor is in the control \n",
        "            if (current_index != idx) and (df.loc[idx].treatment == 0):\n",
        "                if idx not in matched_control:  # this control has not been matched yet\n",
        "                    df.loc[current_index, 'matched'] = idx  # record the matching\n",
        "                    matched_control.append(idx)  # add the matched to the list\n",
        "                    break"
      ],
      "metadata": {
        "id": "wK_LqflqKJ0q"
      },
      "execution_count": 22,
      "outputs": []
    },
    {
      "cell_type": "code",
      "source": [
        "# try to increase the number of neighbors and/or caliper to get more matches\n",
        "print('total observations in treatment:', len(df[df.treatment==1]))\n",
        "print('total matched observations in control:', len(matched_control))"
      ],
      "metadata": {
        "colab": {
          "base_uri": "https://localhost:8080/"
        },
        "id": "rqbeGLyyKUra",
        "outputId": "bcbcf233-9628-4a8d-9c01-0cf23515e583"
      },
      "execution_count": 23,
      "outputs": [
        {
          "output_type": "stream",
          "name": "stdout",
          "text": [
            "total observations in treatment: 216\n",
            "total matched observations in control: 185\n"
          ]
        }
      ]
    },
    {
      "cell_type": "code",
      "source": [
        "# control have no match\n",
        "treatment_matched = df.dropna(subset=['matched'])  # drop not matched\n",
        "\n",
        "# matched control observation indexes\n",
        "control_matched_idx = treatment_matched.matched\n",
        "control_matched_idx = control_matched_idx.astype(int)  # change to int\n",
        "control_matched = df.loc[control_matched_idx, :]  # select matched control observations\n",
        "\n",
        "# combine the matched treatment and control\n",
        "df_matched = pd.concat([treatment_matched, control_matched])\n",
        "\n",
        "df_matched.treatment.value_counts()"
      ],
      "metadata": {
        "colab": {
          "base_uri": "https://localhost:8080/"
        },
        "id": "bw_WtxrSKYo2",
        "outputId": "96b77572-75cd-491c-f483-947d7b19754a"
      },
      "execution_count": 24,
      "outputs": [
        {
          "output_type": "execute_result",
          "data": {
            "text/plain": [
              "1    185\n",
              "0    185\n",
              "Name: treatment, dtype: int64"
            ]
          },
          "metadata": {},
          "execution_count": 24
        }
      ]
    },
    {
      "cell_type": "code",
      "source": [
        "# matched control and treatment\n",
        "df_matched_control = df_matched[df_matched.treatment==0]\n",
        "df_matched_treatment = df_matched[df_matched.treatment==1]"
      ],
      "metadata": {
        "id": "l7We69nmKdNh"
      },
      "execution_count": 25,
      "outputs": []
    },
    {
      "cell_type": "code",
      "source": [
        "# student's t-test for revenue (dependent variable) after matching\n",
        "# p value is not significant now\n",
        "from scipy.stats import ttest_ind\n",
        "print(df_matched_control.revenue.mean(), df_matched_treatment.revenue.mean())\n",
        "\n",
        "# compare samples\n",
        "_, p = ttest_ind(df_matched_control.revenue, df_matched_treatment.revenue)\n",
        "print(f'p={p:.3f}')\n",
        "\n",
        "# interpret\n",
        "alpha = 0.05  # significance level\n",
        "if p > alpha:\n",
        "    print('same distributions/same group mean (fail to reject H0 - we do not have enough evidence to reject H0)')\n",
        "else:\n",
        "    print('different distributions/different group mean (reject H0)')"
      ],
      "metadata": {
        "colab": {
          "base_uri": "https://localhost:8080/"
        },
        "id": "oIYbyO3mKhx_",
        "outputId": "ff23a539-8c94-4443-899f-b94f7394b325"
      },
      "execution_count": 26,
      "outputs": [
        {
          "output_type": "stream",
          "name": "stdout",
          "text": [
            "9146.783783783783 13275.405405405405\n",
            "p=0.051\n",
            "same distributions/same group mean (fail to reject H0 - we do not have enough evidence to reject H0)\n"
          ]
        }
      ]
    },
    {
      "cell_type": "code",
      "source": [
        "# student's t-test for facebook likes(dependent variable) after matching\n",
        "# p value is smaller compared with before matching\n",
        "from scipy.stats import ttest_ind\n",
        "print(df_matched_control.fb_likes.mean(), df_matched_treatment.fb_likes.mean())\n",
        "\n",
        "# compare samples\n",
        "_, p = ttest_ind(df_matched_control.fb_likes, df_matched_treatment.fb_likes)\n",
        "print(f'p={p:.3f}')\n",
        "\n",
        "# interpret\n",
        "alpha = 0.05  # significance level\n",
        "if p > alpha:\n",
        "    print('same distributions/same group mean (fail to reject H0 - we do not have enough evidence to reject H0)')\n",
        "else:\n",
        "    print('different distributions/different group mean (reject H0)')"
      ],
      "metadata": {
        "colab": {
          "base_uri": "https://localhost:8080/"
        },
        "id": "uCCfw-HoKnka",
        "outputId": "d8a85b75-b697-4db1-e29a-6434b8b1a292"
      },
      "execution_count": 27,
      "outputs": [
        {
          "output_type": "stream",
          "name": "stdout",
          "text": [
            "68.0 115.75135135135135\n",
            "p=0.002\n",
            "different distributions/different group mean (reject H0)\n"
          ]
        }
      ]
    },
    {
      "cell_type": "code",
      "source": [
        "# As an effect size, Cohen's d is typically used to represent the magnitude of differences between two (or more) groups on a given variable, with larger values representing a greater differentiation between the two groups on that variable.\n",
        "# we hope the effect sizes for features decrease after matching\n",
        "# adapted from https://machinelearningmastery.com/effect-size-measures-in-python/\n",
        "\n",
        "from numpy import mean\n",
        "from numpy import var\n",
        "from math import sqrt\n",
        " \n",
        "# function to calculate Cohen's d for independent samples\n",
        "def cohen_d(d1, d2):\n",
        "\t# calculate the size of samples\n",
        "\tn1, n2 = len(d1), len(d2)\n",
        "\t# calculate the variance of the samples\n",
        "\ts1, s2 = var(d1, ddof=1), var(d2, ddof=1)\n",
        "\t# calculate the pooled standard deviation\n",
        "\ts = sqrt(((n1 - 1) * s1 + (n2 - 1) * s2) / (n1 + n2 - 2))\n",
        "\t# calculate the means of the samples\n",
        "\tu1, u2 = mean(d1), mean(d2)\n",
        "\t# calculate the effect size\n",
        "\treturn (u1 - u2) / s"
      ],
      "metadata": {
        "id": "3p6cJtcAKwLC"
      },
      "execution_count": 28,
      "outputs": []
    },
    {
      "cell_type": "code",
      "source": [
        "effect_sizes = []\n",
        "cols = ['prom_length', 'price', 'discount_pct', 'coupon_duration', 'featured','limited_supply']\n",
        "\n",
        "for cl in cols:\n",
        "    _, p_before = ttest_ind(df_control[cl], df_treatment[cl])\n",
        "    _, p_after = ttest_ind(df_matched_control[cl], df_matched_treatment[cl])\n",
        "    cohen_d_before = cohen_d(df_treatment[cl], df_control[cl])\n",
        "    cohen_d_after = cohen_d(df_matched_treatment[cl], df_matched_control[cl])\n",
        "    effect_sizes.append([cl,'before', cohen_d_before, p_before])\n",
        "    effect_sizes.append([cl,'after', cohen_d_after, p_after])"
      ],
      "metadata": {
        "id": "vmjCkIKyK0mL"
      },
      "execution_count": 29,
      "outputs": []
    },
    {
      "cell_type": "code",
      "source": [
        "df_effect_sizes = pd.DataFrame(effect_sizes, columns=['feature', 'matching', 'effect_size', 'p-value'])\n",
        "df_effect_sizes"
      ],
      "metadata": {
        "colab": {
          "base_uri": "https://localhost:8080/",
          "height": 425
        },
        "id": "KxRC2ftAK7SU",
        "outputId": "3cf7574a-98b8-4a22-d0f9-e7821137b17b"
      },
      "execution_count": 30,
      "outputs": [
        {
          "output_type": "execute_result",
          "data": {
            "text/plain": [
              "            feature matching  effect_size   p-value\n",
              "0       prom_length   before    -0.328313  0.000063\n",
              "1       prom_length    after    -0.055414  0.594388\n",
              "2             price   before    -0.233573  0.004315\n",
              "3             price    after    -0.004145  0.968225\n",
              "4      discount_pct   before     0.035411  0.664344\n",
              "5      discount_pct    after     0.118635  0.254612\n",
              "6   coupon_duration   before     0.282300  0.000571\n",
              "7   coupon_duration    after    -0.032618  0.753920\n",
              "8          featured   before     0.119074  0.144802\n",
              "9          featured    after    -0.030542  0.769122\n",
              "10   limited_supply   before    -0.198547  0.015178\n",
              "11   limited_supply    after     0.077935  0.454002"
            ],
            "text/html": [
              "\n",
              "  <div id=\"df-49a9b467-6468-4b4c-8d63-0f33508ec543\">\n",
              "    <div class=\"colab-df-container\">\n",
              "      <div>\n",
              "<style scoped>\n",
              "    .dataframe tbody tr th:only-of-type {\n",
              "        vertical-align: middle;\n",
              "    }\n",
              "\n",
              "    .dataframe tbody tr th {\n",
              "        vertical-align: top;\n",
              "    }\n",
              "\n",
              "    .dataframe thead th {\n",
              "        text-align: right;\n",
              "    }\n",
              "</style>\n",
              "<table border=\"1\" class=\"dataframe\">\n",
              "  <thead>\n",
              "    <tr style=\"text-align: right;\">\n",
              "      <th></th>\n",
              "      <th>feature</th>\n",
              "      <th>matching</th>\n",
              "      <th>effect_size</th>\n",
              "      <th>p-value</th>\n",
              "    </tr>\n",
              "  </thead>\n",
              "  <tbody>\n",
              "    <tr>\n",
              "      <th>0</th>\n",
              "      <td>prom_length</td>\n",
              "      <td>before</td>\n",
              "      <td>-0.328313</td>\n",
              "      <td>0.000063</td>\n",
              "    </tr>\n",
              "    <tr>\n",
              "      <th>1</th>\n",
              "      <td>prom_length</td>\n",
              "      <td>after</td>\n",
              "      <td>-0.055414</td>\n",
              "      <td>0.594388</td>\n",
              "    </tr>\n",
              "    <tr>\n",
              "      <th>2</th>\n",
              "      <td>price</td>\n",
              "      <td>before</td>\n",
              "      <td>-0.233573</td>\n",
              "      <td>0.004315</td>\n",
              "    </tr>\n",
              "    <tr>\n",
              "      <th>3</th>\n",
              "      <td>price</td>\n",
              "      <td>after</td>\n",
              "      <td>-0.004145</td>\n",
              "      <td>0.968225</td>\n",
              "    </tr>\n",
              "    <tr>\n",
              "      <th>4</th>\n",
              "      <td>discount_pct</td>\n",
              "      <td>before</td>\n",
              "      <td>0.035411</td>\n",
              "      <td>0.664344</td>\n",
              "    </tr>\n",
              "    <tr>\n",
              "      <th>5</th>\n",
              "      <td>discount_pct</td>\n",
              "      <td>after</td>\n",
              "      <td>0.118635</td>\n",
              "      <td>0.254612</td>\n",
              "    </tr>\n",
              "    <tr>\n",
              "      <th>6</th>\n",
              "      <td>coupon_duration</td>\n",
              "      <td>before</td>\n",
              "      <td>0.282300</td>\n",
              "      <td>0.000571</td>\n",
              "    </tr>\n",
              "    <tr>\n",
              "      <th>7</th>\n",
              "      <td>coupon_duration</td>\n",
              "      <td>after</td>\n",
              "      <td>-0.032618</td>\n",
              "      <td>0.753920</td>\n",
              "    </tr>\n",
              "    <tr>\n",
              "      <th>8</th>\n",
              "      <td>featured</td>\n",
              "      <td>before</td>\n",
              "      <td>0.119074</td>\n",
              "      <td>0.144802</td>\n",
              "    </tr>\n",
              "    <tr>\n",
              "      <th>9</th>\n",
              "      <td>featured</td>\n",
              "      <td>after</td>\n",
              "      <td>-0.030542</td>\n",
              "      <td>0.769122</td>\n",
              "    </tr>\n",
              "    <tr>\n",
              "      <th>10</th>\n",
              "      <td>limited_supply</td>\n",
              "      <td>before</td>\n",
              "      <td>-0.198547</td>\n",
              "      <td>0.015178</td>\n",
              "    </tr>\n",
              "    <tr>\n",
              "      <th>11</th>\n",
              "      <td>limited_supply</td>\n",
              "      <td>after</td>\n",
              "      <td>0.077935</td>\n",
              "      <td>0.454002</td>\n",
              "    </tr>\n",
              "  </tbody>\n",
              "</table>\n",
              "</div>\n",
              "      <button class=\"colab-df-convert\" onclick=\"convertToInteractive('df-49a9b467-6468-4b4c-8d63-0f33508ec543')\"\n",
              "              title=\"Convert this dataframe to an interactive table.\"\n",
              "              style=\"display:none;\">\n",
              "        \n",
              "  <svg xmlns=\"http://www.w3.org/2000/svg\" height=\"24px\"viewBox=\"0 0 24 24\"\n",
              "       width=\"24px\">\n",
              "    <path d=\"M0 0h24v24H0V0z\" fill=\"none\"/>\n",
              "    <path d=\"M18.56 5.44l.94 2.06.94-2.06 2.06-.94-2.06-.94-.94-2.06-.94 2.06-2.06.94zm-11 1L8.5 8.5l.94-2.06 2.06-.94-2.06-.94L8.5 2.5l-.94 2.06-2.06.94zm10 10l.94 2.06.94-2.06 2.06-.94-2.06-.94-.94-2.06-.94 2.06-2.06.94z\"/><path d=\"M17.41 7.96l-1.37-1.37c-.4-.4-.92-.59-1.43-.59-.52 0-1.04.2-1.43.59L10.3 9.45l-7.72 7.72c-.78.78-.78 2.05 0 2.83L4 21.41c.39.39.9.59 1.41.59.51 0 1.02-.2 1.41-.59l7.78-7.78 2.81-2.81c.8-.78.8-2.07 0-2.86zM5.41 20L4 18.59l7.72-7.72 1.47 1.35L5.41 20z\"/>\n",
              "  </svg>\n",
              "      </button>\n",
              "      \n",
              "  <style>\n",
              "    .colab-df-container {\n",
              "      display:flex;\n",
              "      flex-wrap:wrap;\n",
              "      gap: 12px;\n",
              "    }\n",
              "\n",
              "    .colab-df-convert {\n",
              "      background-color: #E8F0FE;\n",
              "      border: none;\n",
              "      border-radius: 50%;\n",
              "      cursor: pointer;\n",
              "      display: none;\n",
              "      fill: #1967D2;\n",
              "      height: 32px;\n",
              "      padding: 0 0 0 0;\n",
              "      width: 32px;\n",
              "    }\n",
              "\n",
              "    .colab-df-convert:hover {\n",
              "      background-color: #E2EBFA;\n",
              "      box-shadow: 0px 1px 2px rgba(60, 64, 67, 0.3), 0px 1px 3px 1px rgba(60, 64, 67, 0.15);\n",
              "      fill: #174EA6;\n",
              "    }\n",
              "\n",
              "    [theme=dark] .colab-df-convert {\n",
              "      background-color: #3B4455;\n",
              "      fill: #D2E3FC;\n",
              "    }\n",
              "\n",
              "    [theme=dark] .colab-df-convert:hover {\n",
              "      background-color: #434B5C;\n",
              "      box-shadow: 0px 1px 3px 1px rgba(0, 0, 0, 0.15);\n",
              "      filter: drop-shadow(0px 1px 2px rgba(0, 0, 0, 0.3));\n",
              "      fill: #FFFFFF;\n",
              "    }\n",
              "  </style>\n",
              "\n",
              "      <script>\n",
              "        const buttonEl =\n",
              "          document.querySelector('#df-49a9b467-6468-4b4c-8d63-0f33508ec543 button.colab-df-convert');\n",
              "        buttonEl.style.display =\n",
              "          google.colab.kernel.accessAllowed ? 'block' : 'none';\n",
              "\n",
              "        async function convertToInteractive(key) {\n",
              "          const element = document.querySelector('#df-49a9b467-6468-4b4c-8d63-0f33508ec543');\n",
              "          const dataTable =\n",
              "            await google.colab.kernel.invokeFunction('convertToInteractive',\n",
              "                                                     [key], {});\n",
              "          if (!dataTable) return;\n",
              "\n",
              "          const docLinkHtml = 'Like what you see? Visit the ' +\n",
              "            '<a target=\"_blank\" href=https://colab.research.google.com/notebooks/data_table.ipynb>data table notebook</a>'\n",
              "            + ' to learn more about interactive tables.';\n",
              "          element.innerHTML = '';\n",
              "          dataTable['output_type'] = 'display_data';\n",
              "          await google.colab.output.renderOutput(dataTable, element);\n",
              "          const docLink = document.createElement('div');\n",
              "          docLink.innerHTML = docLinkHtml;\n",
              "          element.appendChild(docLink);\n",
              "        }\n",
              "      </script>\n",
              "    </div>\n",
              "  </div>\n",
              "  "
            ]
          },
          "metadata": {},
          "execution_count": 30
        }
      ]
    },
    {
      "cell_type": "code",
      "source": [
        "# discount_pct and featured are not significant, all other features are more balanced after matching\n",
        "fig, ax = plt.subplots(figsize=(15, 5))\n",
        "sns.barplot(data=df_effect_sizes, x='effect_size', y='feature', hue='matching', orient='h')"
      ],
      "metadata": {
        "colab": {
          "base_uri": "https://localhost:8080/",
          "height": 356
        },
        "id": "ydyfLWJPLBfi",
        "outputId": "c4d3f8fc-ab56-442e-ee60-41bcfd2e9941"
      },
      "execution_count": 31,
      "outputs": [
        {
          "output_type": "execute_result",
          "data": {
            "text/plain": [
              "<Axes: xlabel='effect_size', ylabel='feature'>"
            ]
          },
          "metadata": {},
          "execution_count": 31
        },
        {
          "output_type": "display_data",
          "data": {
            "text/plain": [
              "<Figure size 1080x360 with 1 Axes>"
            ],
            "image/png": "[encoded data removed]"
          },
          "metadata": {}
        }
      ]
    },
    {
      "cell_type": "code",
      "source": [
        "!pip install psmpy"
      ],
      "metadata": {
        "colab": {
          "base_uri": "https://localhost:8080/"
        },
        "id": "1x_9tpyrLIUs",
        "outputId": "8795fc80-f6e6-4b43-8472-0320b53102c2"
      },
      "execution_count": 32,
      "outputs": [
        {
          "output_type": "stream",
          "name": "stdout",
          "text": [
            "Looking in indexes: https://pypi.org/simple, https://us-python.pkg.dev/colab-wheels/public/simple/\n",
            "Collecting psmpy\n",
            "  Downloading psmpy-0.3.13-py3-none-any.whl (13 kB)\n",
            "Requirement already satisfied: scikit-learn in /usr/local/lib/python3.9/dist-packages (from psmpy) (1.2.2)\n",
            "Requirement already satisfied: numpy in /usr/local/lib/python3.9/dist-packages (from psmpy) (1.22.4)\n",
            "Requirement already satisfied: seaborn in /usr/local/lib/python3.9/dist-packages (from psmpy) (0.12.2)\n",
            "Requirement already satisfied: scipy in /usr/local/lib/python3.9/dist-packages (from psmpy) (1.10.1)\n",
            "Requirement already satisfied: matplotlib in /usr/local/lib/python3.9/dist-packages (from psmpy) (3.7.1)\n",
            "Requirement already satisfied: pandas in /usr/local/lib/python3.9/dist-packages (from psmpy) (1.4.4)\n",
            "Requirement already satisfied: fonttools>=4.22.0 in /usr/local/lib/python3.9/dist-packages (from matplotlib->psmpy) (4.39.2)\n",
            "Requirement already satisfied: pyparsing>=2.3.1 in /usr/local/lib/python3.9/dist-packages (from matplotlib->psmpy) (3.0.9)\n",
            "Requirement already satisfied: contourpy>=1.0.1 in /usr/local/lib/python3.9/dist-packages (from matplotlib->psmpy) (1.0.7)\n",
            "Requirement already satisfied: pillow>=6.2.0 in /usr/local/lib/python3.9/dist-packages (from matplotlib->psmpy) (8.4.0)\n",
            "Requirement already satisfied: importlib-resources>=3.2.0 in /usr/local/lib/python3.9/dist-packages (from matplotlib->psmpy) (5.12.0)\n",
            "Requirement already satisfied: packaging>=20.0 in /usr/local/lib/python3.9/dist-packages (from matplotlib->psmpy) (23.0)\n",
            "Requirement already satisfied: kiwisolver>=1.0.1 in /usr/local/lib/python3.9/dist-packages (from matplotlib->psmpy) (1.4.4)\n",
            "Requirement already satisfied: cycler>=0.10 in /usr/local/lib/python3.9/dist-packages (from matplotlib->psmpy) (0.11.0)\n",
            "Requirement already satisfied: python-dateutil>=2.7 in /usr/local/lib/python3.9/dist-packages (from matplotlib->psmpy) (2.8.2)\n",
            "Requirement already satisfied: pytz>=2020.1 in /usr/local/lib/python3.9/dist-packages (from pandas->psmpy) (2022.7.1)\n",
            "Requirement already satisfied: threadpoolctl>=2.0.0 in /usr/local/lib/python3.9/dist-packages (from scikit-learn->psmpy) (3.1.0)\n",
            "Requirement already satisfied: joblib>=1.1.1 in /usr/local/lib/python3.9/dist-packages (from scikit-learn->psmpy) (1.1.1)\n",
            "Requirement already satisfied: zipp>=3.1.0 in /usr/local/lib/python3.9/dist-packages (from importlib-resources>=3.2.0->matplotlib->psmpy) (3.15.0)\n",
            "Requirement already satisfied: six>=1.5 in /usr/local/lib/python3.9/dist-packages (from python-dateutil>=2.7->matplotlib->psmpy) (1.16.0)\n",
            "Installing collected packages: psmpy\n",
            "Successfully installed psmpy-0.3.13\n"
          ]
        }
      ]
    },
    {
      "cell_type": "code",
      "source": [
        "from psmpy import PsmPy\n",
        "from psmpy.plotting import *"
      ],
      "metadata": {
        "id": "9FtXA1-7LMTm"
      },
      "execution_count": 33,
      "outputs": []
    },
    {
      "cell_type": "code",
      "source": [
        "df_psmpy = pd.read_csv('/content/groupon.csv')\n",
        "df_psmpy.info()"
      ],
      "metadata": {
        "colab": {
          "base_uri": "https://localhost:8080/"
        },
        "id": "z7-m1DhPLSiH",
        "outputId": "8ce40a29-ec42-452a-8ab5-00c5b5bd482f"
      },
      "execution_count": 34,
      "outputs": [
        {
          "output_type": "stream",
          "name": "stdout",
          "text": [
            "<class 'pandas.core.frame.DataFrame'>\n",
            "RangeIndex: 710 entries, 0 to 709\n",
            "Data columns (total 13 columns):\n",
            " #   Column           Non-Null Count  Dtype \n",
            "---  ------           --------------  ----- \n",
            " 0   deal_id          710 non-null    object\n",
            " 1   start_date       710 non-null    object\n",
            " 2   min_req          710 non-null    int64 \n",
            " 3   treatment        710 non-null    int64 \n",
            " 4   prom_length      710 non-null    int64 \n",
            " 5   price            710 non-null    int64 \n",
            " 6   discount_pct     710 non-null    int64 \n",
            " 7   coupon_duration  710 non-null    int64 \n",
            " 8   featured         710 non-null    int64 \n",
            " 9   limited_supply   710 non-null    int64 \n",
            " 10  fb_likes         710 non-null    int64 \n",
            " 11  quantity_sold    710 non-null    int64 \n",
            " 12  revenue          710 non-null    int64 \n",
            "dtypes: int64(11), object(2)\n",
            "memory usage: 72.2+ KB\n"
          ]
        }
      ]
    },
    {
      "cell_type": "code",
      "source": [
        "# exclude: ignore any covariates (columns) passed to the it during model fitting\n",
        "# indx - required parameter that references a unique ID number for each case\n",
        "psm = PsmPy(df_psmpy, treatment='treatment', indx='deal_id', exclude = ['min_req', 'start_date', 'fb_likes', 'quantity_sold', 'revenue'])"
      ],
      "metadata": {
        "id": "CB1DdHOWLer_"
      },
      "execution_count": 35,
      "outputs": []
    },
    {
      "cell_type": "code",
      "source": [
        "# same as my code using balance=False\n",
        "psm.logistic_ps(balance=False)\n",
        "psm.predicted_data"
      ],
      "metadata": {
        "colab": {
          "base_uri": "https://localhost:8080/",
          "height": 519
        },
        "id": "sm1MX1eBLkdu",
        "outputId": "6a5a90e7-d7ab-4437-f5ca-801fd1935f04"
      },
      "execution_count": 36,
      "outputs": [
        {
          "output_type": "execute_result",
          "data": {
            "text/plain": [
              "                            deal_id  prom_length  price  discount_pct  \\\n",
              "0              3rd-coast-cruising-1            3     75            50   \n",
              "1              516-skydive-new-york            7    145            39   \n",
              "2                     92nd-st-y-nyc            3     29            82   \n",
              "3              above-all-cruises-ny            4     39            51   \n",
              "4               adaptive-adventures            3     10             0   \n",
              "..                              ...          ...    ...           ...   \n",
              "705          gl-windy-city-circus-1            4     20            50   \n",
              "706             lets-go-paragliding            6     99            58   \n",
              "707            spare-time-chicago-3            4     12            74   \n",
              "708      dc-gmt-slice-chicago-tours            7     22            51   \n",
              "709  slice-of-chicago-pizza-tours-3            3     22            51   \n",
              "\n",
              "     coupon_duration  featured  limited_supply  propensity_score  \\\n",
              "0                378         1               1          0.541488   \n",
              "1                170         0               1          0.063623   \n",
              "2                125         0               0          0.392219   \n",
              "3                207         0               1          0.317265   \n",
              "4                  5         0               1          0.321258   \n",
              "..               ...       ...             ...               ...   \n",
              "705                5         0               1          0.212691   \n",
              "706               73         0               1          0.083981   \n",
              "707              166         0               0          0.392404   \n",
              "708              106         0               1          0.128638   \n",
              "709               83         0               1          0.322159   \n",
              "\n",
              "     propensity_logit  treatment  \n",
              "0            0.166333          0  \n",
              "1           -2.689036          0  \n",
              "2           -0.437994          0  \n",
              "3           -0.766371          0  \n",
              "4           -0.747996          0  \n",
              "..                ...        ...  \n",
              "705         -1.308780          1  \n",
              "706         -2.389441          1  \n",
              "707         -0.437220          1  \n",
              "708         -1.913052          1  \n",
              "709         -0.743866          1  \n",
              "\n",
              "[710 rows x 10 columns]"
            ],
            "text/html": [
              "\n",
              "  <div id=\"df-e07d3997-7ee8-4879-8410-7bafb9d026d7\">\n",
              "    <div class=\"colab-df-container\">\n",
              "      <div>\n",
              "<style scoped>\n",
              "    .dataframe tbody tr th:only-of-type {\n",
              "        vertical-align: middle;\n",
              "    }\n",
              "\n",
              "    .dataframe tbody tr th {\n",
              "        vertical-align: top;\n",
              "    }\n",
              "\n",
              "    .dataframe thead th {\n",
              "        text-align: right;\n",
              "    }\n",
              "</style>\n",
              "<table border=\"1\" class=\"dataframe\">\n",
              "  <thead>\n",
              "    <tr style=\"text-align: right;\">\n",
              "      <th></th>\n",
              "      <th>deal_id</th>\n",
              "      <th>prom_length</th>\n",
              "      <th>price</th>\n",
              "      <th>discount_pct</th>\n",
              "      <th>coupon_duration</th>\n",
              "      <th>featured</th>\n",
              "      <th>limited_supply</th>\n",
              "      <th>propensity_score</th>\n",
              "      <th>propensity_logit</th>\n",
              "      <th>treatment</th>\n",
              "    </tr>\n",
              "  </thead>\n",
              "  <tbody>\n",
              "    <tr>\n",
              "      <th>0</th>\n",
              "      <td>3rd-coast-cruising-1</td>\n",
              "      <td>3</td>\n",
              "      <td>75</td>\n",
              "      <td>50</td>\n",
              "      <td>378</td>\n",
              "      <td>1</td>\n",
              "      <td>1</td>\n",
              "      <td>0.541488</td>\n",
              "      <td>0.166333</td>\n",
              "      <td>0</td>\n",
              "    </tr>\n",
              "    <tr>\n",
              "      <th>1</th>\n",
              "      <td>516-skydive-new-york</td>\n",
              "      <td>7</td>\n",
              "      <td>145</td>\n",
              "      <td>39</td>\n",
              "      <td>170</td>\n",
              "      <td>0</td>\n",
              "      <td>1</td>\n",
              "      <td>0.063623</td>\n",
              "      <td>-2.689036</td>\n",
              "      <td>0</td>\n",
              "    </tr>\n",
              "    <tr>\n",
              "      <th>2</th>\n",
              "      <td>92nd-st-y-nyc</td>\n",
              "      <td>3</td>\n",
              "      <td>29</td>\n",
              "      <td>82</td>\n",
              "      <td>125</td>\n",
              "      <td>0</td>\n",
              "      <td>0</td>\n",
              "      <td>0.392219</td>\n",
              "      <td>-0.437994</td>\n",
              "      <td>0</td>\n",
              "    </tr>\n",
              "    <tr>\n",
              "      <th>3</th>\n",
              "      <td>above-all-cruises-ny</td>\n",
              "      <td>4</td>\n",
              "      <td>39</td>\n",
              "      <td>51</td>\n",
              "      <td>207</td>\n",
              "      <td>0</td>\n",
              "      <td>1</td>\n",
              "      <td>0.317265</td>\n",
              "      <td>-0.766371</td>\n",
              "      <td>0</td>\n",
              "    </tr>\n",
              "    <tr>\n",
              "      <th>4</th>\n",
              "      <td>adaptive-adventures</td>\n",
              "      <td>3</td>\n",
              "      <td>10</td>\n",
              "      <td>0</td>\n",
              "      <td>5</td>\n",
              "      <td>0</td>\n",
              "      <td>1</td>\n",
              "      <td>0.321258</td>\n",
              "      <td>-0.747996</td>\n",
              "      <td>0</td>\n",
              "    </tr>\n",
              "    <tr>\n",
              "      <th>...</th>\n",
              "      <td>...</td>\n",
              "      <td>...</td>\n",
              "      <td>...</td>\n",
              "      <td>...</td>\n",
              "      <td>...</td>\n",
              "      <td>...</td>\n",
              "      <td>...</td>\n",
              "      <td>...</td>\n",
              "      <td>...</td>\n",
              "      <td>...</td>\n",
              "    </tr>\n",
              "    <tr>\n",
              "      <th>705</th>\n",
              "      <td>gl-windy-city-circus-1</td>\n",
              "      <td>4</td>\n",
              "      <td>20</td>\n",
              "      <td>50</td>\n",
              "      <td>5</td>\n",
              "      <td>0</td>\n",
              "      <td>1</td>\n",
              "      <td>0.212691</td>\n",
              "      <td>-1.308780</td>\n",
              "      <td>1</td>\n",
              "    </tr>\n",
              "    <tr>\n",
              "      <th>706</th>\n",
              "      <td>lets-go-paragliding</td>\n",
              "      <td>6</td>\n",
              "      <td>99</td>\n",
              "      <td>58</td>\n",
              "      <td>73</td>\n",
              "      <td>0</td>\n",
              "      <td>1</td>\n",
              "      <td>0.083981</td>\n",
              "      <td>-2.389441</td>\n",
              "      <td>1</td>\n",
              "    </tr>\n",
              "    <tr>\n",
              "      <th>707</th>\n",
              "      <td>spare-time-chicago-3</td>\n",
              "      <td>4</td>\n",
              "      <td>12</td>\n",
              "      <td>74</td>\n",
              "      <td>166</td>\n",
              "      <td>0</td>\n",
              "      <td>0</td>\n",
              "      <td>0.392404</td>\n",
              "      <td>-0.437220</td>\n",
              "      <td>1</td>\n",
              "    </tr>\n",
              "    <tr>\n",
              "      <th>708</th>\n",
              "      <td>dc-gmt-slice-chicago-tours</td>\n",
              "      <td>7</td>\n",
              "      <td>22</td>\n",
              "      <td>51</td>\n",
              "      <td>106</td>\n",
              "      <td>0</td>\n",
              "      <td>1</td>\n",
              "      <td>0.128638</td>\n",
              "      <td>-1.913052</td>\n",
              "      <td>1</td>\n",
              "    </tr>\n",
              "    <tr>\n",
              "      <th>709</th>\n",
              "      <td>slice-of-chicago-pizza-tours-3</td>\n",
              "      <td>3</td>\n",
              "      <td>22</td>\n",
              "      <td>51</td>\n",
              "      <td>83</td>\n",
              "      <td>0</td>\n",
              "      <td>1</td>\n",
              "      <td>0.322159</td>\n",
              "      <td>-0.743866</td>\n",
              "      <td>1</td>\n",
              "    </tr>\n",
              "  </tbody>\n",
              "</table>\n",
              "<p>710 rows × 10 columns</p>\n",
              "</div>\n",
              "      <button class=\"colab-df-convert\" onclick=\"convertToInteractive('df-e07d3997-7ee8-4879-8410-7bafb9d026d7')\"\n",
              "              title=\"Convert this dataframe to an interactive table.\"\n",
              "              style=\"display:none;\">\n",
              "        \n",
              "  <svg xmlns=\"http://www.w3.org/2000/svg\" height=\"24px\"viewBox=\"0 0 24 24\"\n",
              "       width=\"24px\">\n",
              "    <path d=\"M0 0h24v24H0V0z\" fill=\"none\"/>\n",
              "    <path d=\"M18.56 5.44l.94 2.06.94-2.06 2.06-.94-2.06-.94-.94-2.06-.94 2.06-2.06.94zm-11 1L8.5 8.5l.94-2.06 2.06-.94-2.06-.94L8.5 2.5l-.94 2.06-2.06.94zm10 10l.94 2.06.94-2.06 2.06-.94-2.06-.94-.94-2.06-.94 2.06-2.06.94z\"/><path d=\"M17.41 7.96l-1.37-1.37c-.4-.4-.92-.59-1.43-.59-.52 0-1.04.2-1.43.59L10.3 9.45l-7.72 7.72c-.78.78-.78 2.05 0 2.83L4 21.41c.39.39.9.59 1.41.59.51 0 1.02-.2 1.41-.59l7.78-7.78 2.81-2.81c.8-.78.8-2.07 0-2.86zM5.41 20L4 18.59l7.72-7.72 1.47 1.35L5.41 20z\"/>\n",
              "  </svg>\n",
              "      </button>\n",
              "      \n",
              "  <style>\n",
              "    .colab-df-container {\n",
              "      display:flex;\n",
              "      flex-wrap:wrap;\n",
              "      gap: 12px;\n",
              "    }\n",
              "\n",
              "    .colab-df-convert {\n",
              "      background-color: #E8F0FE;\n",
              "      border: none;\n",
              "      border-radius: 50%;\n",
              "      cursor: pointer;\n",
              "      display: none;\n",
              "      fill: #1967D2;\n",
              "      height: 32px;\n",
              "      padding: 0 0 0 0;\n",
              "      width: 32px;\n",
              "    }\n",
              "\n",
              "    .colab-df-convert:hover {\n",
              "      background-color: #E2EBFA;\n",
              "      box-shadow: 0px 1px 2px rgba(60, 64, 67, 0.3), 0px 1px 3px 1px rgba(60, 64, 67, 0.15);\n",
              "      fill: #174EA6;\n",
              "    }\n",
              "\n",
              "    [theme=dark] .colab-df-convert {\n",
              "      background-color: #3B4455;\n",
              "      fill: #D2E3FC;\n",
              "    }\n",
              "\n",
              "    [theme=dark] .colab-df-convert:hover {\n",
              "      background-color: #434B5C;\n",
              "      box-shadow: 0px 1px 3px 1px rgba(0, 0, 0, 0.15);\n",
              "      filter: drop-shadow(0px 1px 2px rgba(0, 0, 0, 0.3));\n",
              "      fill: #FFFFFF;\n",
              "    }\n",
              "  </style>\n",
              "\n",
              "      <script>\n",
              "        const buttonEl =\n",
              "          document.querySelector('#df-e07d3997-7ee8-4879-8410-7bafb9d026d7 button.colab-df-convert');\n",
              "        buttonEl.style.display =\n",
              "          google.colab.kernel.accessAllowed ? 'block' : 'none';\n",
              "\n",
              "        async function convertToInteractive(key) {\n",
              "          const element = document.querySelector('#df-e07d3997-7ee8-4879-8410-7bafb9d026d7');\n",
              "          const dataTable =\n",
              "            await google.colab.kernel.invokeFunction('convertToInteractive',\n",
              "                                                     [key], {});\n",
              "          if (!dataTable) return;\n",
              "\n",
              "          const docLinkHtml = 'Like what you see? Visit the ' +\n",
              "            '<a target=\"_blank\" href=https://colab.research.google.com/notebooks/data_table.ipynb>data table notebook</a>'\n",
              "            + ' to learn more about interactive tables.';\n",
              "          element.innerHTML = '';\n",
              "          dataTable['output_type'] = 'display_data';\n",
              "          await google.colab.output.renderOutput(dataTable, element);\n",
              "          const docLink = document.createElement('div');\n",
              "          docLink.innerHTML = docLinkHtml;\n",
              "          element.appendChild(docLink);\n",
              "        }\n",
              "      </script>\n",
              "    </div>\n",
              "  </div>\n",
              "  "
            ]
          },
          "metadata": {},
          "execution_count": 36
        }
      ]
    },
    {
      "cell_type": "code",
      "source": [
        "psm.knn_matched(matcher='propensity_logit', replacement=False, caliper=None)"
      ],
      "metadata": {
        "colab": {
          "base_uri": "https://localhost:8080/"
        },
        "id": "aBkU6n9pLp9B",
        "outputId": "7371b0fa-e99c-4337-e3b0-837d5c14ee59"
      },
      "execution_count": 37,
      "outputs": [
        {
          "output_type": "stream",
          "name": "stderr",
          "text": [
            "/usr/local/lib/python3.9/dist-packages/psmpy/psmpy.py:363: UserWarning: Some values do not have a match. These are dropped for purposes of establishing a matched dataframe, and subsequent calculations and plots (effect size). If you do not wish this to be the case please set drop_unmatched=False\n",
            "  warnings.warn('Some values do not have a match. These are dropped for purposes of establishing a matched dataframe, and subsequent calculations and plots (effect size). If you do not wish this to be the case please set drop_unmatched=False')\n"
          ]
        }
      ]
    },
    {
      "cell_type": "code",
      "source": [
        "psm.plot_match(Title='Matching Result', Ylabel='# of obs', Xlabel= 'propensity logit', names = ['treatment', 'control'])\n"
      ],
      "metadata": {
        "colab": {
          "base_uri": "https://localhost:8080/",
          "height": 526
        },
        "id": "GORXFUhmLukm",
        "outputId": "95412d34-5af5-484f-b81a-02244f174c4d"
      },
      "execution_count": 38,
      "outputs": [
        {
          "output_type": "display_data",
          "data": {
            "text/plain": [
              "<Figure size 720x576 with 1 Axes>"
            ],
            "image/png": "[encoded data removed]"
          },
          "metadata": {}
        }
      ]
    },
    {
      "cell_type": "code",
      "source": [
        "psm.effect_size_plot()"
      ],
      "metadata": {
        "colab": {
          "base_uri": "https://localhost:8080/",
          "height": 526
        },
        "id": "0GJr21ImL3cI",
        "outputId": "8e3af3b6-f9a6-494e-de68-1258e7bf06be"
      },
      "execution_count": 39,
      "outputs": [
        {
          "output_type": "display_data",
          "data": {
            "text/plain": [
              "<Figure size 720x576 with 1 Axes>"
            ],
            "image/png": "[encoded data removed]"
          },
          "metadata": {}
        }
      ]
    },
    {
      "cell_type": "code",
      "source": [
        "psm.effect_size"
      ],
      "metadata": {
        "colab": {
          "base_uri": "https://localhost:8080/",
          "height": 425
        },
        "id": "5H3Br985L-hn",
        "outputId": "d76d09bb-e52b-467e-de82-b616d3aaee45"
      },
      "execution_count": 40,
      "outputs": [
        {
          "output_type": "execute_result",
          "data": {
            "text/plain": [
              "           Variable matching  Effect Size\n",
              "0       prom_length   before     0.328313\n",
              "1       prom_length    after     0.045102\n",
              "2             price   before     0.233573\n",
              "3             price    after     0.076804\n",
              "4      discount_pct   before     0.035411\n",
              "5      discount_pct    after     0.027746\n",
              "6   coupon_duration   before     0.282300\n",
              "7   coupon_duration    after     0.169019\n",
              "8          featured   before     0.119074\n",
              "9          featured    after     0.065908\n",
              "10   limited_supply   before     0.198547\n",
              "11   limited_supply    after     0.046427"
            ],
            "text/html": [
              "\n",
              "  <div id=\"df-9851c493-4dbc-4564-a2b1-396fb4b0315a\">\n",
              "    <div class=\"colab-df-container\">\n",
              "      <div>\n",
              "<style scoped>\n",
              "    .dataframe tbody tr th:only-of-type {\n",
              "        vertical-align: middle;\n",
              "    }\n",
              "\n",
              "    .dataframe tbody tr th {\n",
              "        vertical-align: top;\n",
              "    }\n",
              "\n",
              "    .dataframe thead th {\n",
              "        text-align: right;\n",
              "    }\n",
              "</style>\n",
              "<table border=\"1\" class=\"dataframe\">\n",
              "  <thead>\n",
              "    <tr style=\"text-align: right;\">\n",
              "      <th></th>\n",
              "      <th>Variable</th>\n",
              "      <th>matching</th>\n",
              "      <th>Effect Size</th>\n",
              "    </tr>\n",
              "  </thead>\n",
              "  <tbody>\n",
              "    <tr>\n",
              "      <th>0</th>\n",
              "      <td>prom_length</td>\n",
              "      <td>before</td>\n",
              "      <td>0.328313</td>\n",
              "    </tr>\n",
              "    <tr>\n",
              "      <th>1</th>\n",
              "      <td>prom_length</td>\n",
              "      <td>after</td>\n",
              "      <td>0.045102</td>\n",
              "    </tr>\n",
              "    <tr>\n",
              "      <th>2</th>\n",
              "      <td>price</td>\n",
              "      <td>before</td>\n",
              "      <td>0.233573</td>\n",
              "    </tr>\n",
              "    <tr>\n",
              "      <th>3</th>\n",
              "      <td>price</td>\n",
              "      <td>after</td>\n",
              "      <td>0.076804</td>\n",
              "    </tr>\n",
              "    <tr>\n",
              "      <th>4</th>\n",
              "      <td>discount_pct</td>\n",
              "      <td>before</td>\n",
              "      <td>0.035411</td>\n",
              "    </tr>\n",
              "    <tr>\n",
              "      <th>5</th>\n",
              "      <td>discount_pct</td>\n",
              "      <td>after</td>\n",
              "      <td>0.027746</td>\n",
              "    </tr>\n",
              "    <tr>\n",
              "      <th>6</th>\n",
              "      <td>coupon_duration</td>\n",
              "      <td>before</td>\n",
              "      <td>0.282300</td>\n",
              "    </tr>\n",
              "    <tr>\n",
              "      <th>7</th>\n",
              "      <td>coupon_duration</td>\n",
              "      <td>after</td>\n",
              "      <td>0.169019</td>\n",
              "    </tr>\n",
              "    <tr>\n",
              "      <th>8</th>\n",
              "      <td>featured</td>\n",
              "      <td>before</td>\n",
              "      <td>0.119074</td>\n",
              "    </tr>\n",
              "    <tr>\n",
              "      <th>9</th>\n",
              "      <td>featured</td>\n",
              "      <td>after</td>\n",
              "      <td>0.065908</td>\n",
              "    </tr>\n",
              "    <tr>\n",
              "      <th>10</th>\n",
              "      <td>limited_supply</td>\n",
              "      <td>before</td>\n",
              "      <td>0.198547</td>\n",
              "    </tr>\n",
              "    <tr>\n",
              "      <th>11</th>\n",
              "      <td>limited_supply</td>\n",
              "      <td>after</td>\n",
              "      <td>0.046427</td>\n",
              "    </tr>\n",
              "  </tbody>\n",
              "</table>\n",
              "</div>\n",
              "      <button class=\"colab-df-convert\" onclick=\"convertToInteractive('df-9851c493-4dbc-4564-a2b1-396fb4b0315a')\"\n",
              "              title=\"Convert this dataframe to an interactive table.\"\n",
              "              style=\"display:none;\">\n",
              "        \n",
              "  <svg xmlns=\"http://www.w3.org/2000/svg\" height=\"24px\"viewBox=\"0 0 24 24\"\n",
              "       width=\"24px\">\n",
              "    <path d=\"M0 0h24v24H0V0z\" fill=\"none\"/>\n",
              "    <path d=\"M18.56 5.44l.94 2.06.94-2.06 2.06-.94-2.06-.94-.94-2.06-.94 2.06-2.06.94zm-11 1L8.5 8.5l.94-2.06 2.06-.94-2.06-.94L8.5 2.5l-.94 2.06-2.06.94zm10 10l.94 2.06.94-2.06 2.06-.94-2.06-.94-.94-2.06-.94 2.06-2.06.94z\"/><path d=\"M17.41 7.96l-1.37-1.37c-.4-.4-.92-.59-1.43-.59-.52 0-1.04.2-1.43.59L10.3 9.45l-7.72 7.72c-.78.78-.78 2.05 0 2.83L4 21.41c.39.39.9.59 1.41.59.51 0 1.02-.2 1.41-.59l7.78-7.78 2.81-2.81c.8-.78.8-2.07 0-2.86zM5.41 20L4 18.59l7.72-7.72 1.47 1.35L5.41 20z\"/>\n",
              "  </svg>\n",
              "      </button>\n",
              "      \n",
              "  <style>\n",
              "    .colab-df-container {\n",
              "      display:flex;\n",
              "      flex-wrap:wrap;\n",
              "      gap: 12px;\n",
              "    }\n",
              "\n",
              "    .colab-df-convert {\n",
              "      background-color: #E8F0FE;\n",
              "      border: none;\n",
              "      border-radius: 50%;\n",
              "      cursor: pointer;\n",
              "      display: none;\n",
              "      fill: #1967D2;\n",
              "      height: 32px;\n",
              "      padding: 0 0 0 0;\n",
              "      width: 32px;\n",
              "    }\n",
              "\n",
              "    .colab-df-convert:hover {\n",
              "      background-color: #E2EBFA;\n",
              "      box-shadow: 0px 1px 2px rgba(60, 64, 67, 0.3), 0px 1px 3px 1px rgba(60, 64, 67, 0.15);\n",
              "      fill: #174EA6;\n",
              "    }\n",
              "\n",
              "    [theme=dark] .colab-df-convert {\n",
              "      background-color: #3B4455;\n",
              "      fill: #D2E3FC;\n",
              "    }\n",
              "\n",
              "    [theme=dark] .colab-df-convert:hover {\n",
              "      background-color: #434B5C;\n",
              "      box-shadow: 0px 1px 3px 1px rgba(0, 0, 0, 0.15);\n",
              "      filter: drop-shadow(0px 1px 2px rgba(0, 0, 0, 0.3));\n",
              "      fill: #FFFFFF;\n",
              "    }\n",
              "  </style>\n",
              "\n",
              "      <script>\n",
              "        const buttonEl =\n",
              "          document.querySelector('#df-9851c493-4dbc-4564-a2b1-396fb4b0315a button.colab-df-convert');\n",
              "        buttonEl.style.display =\n",
              "          google.colab.kernel.accessAllowed ? 'block' : 'none';\n",
              "\n",
              "        async function convertToInteractive(key) {\n",
              "          const element = document.querySelector('#df-9851c493-4dbc-4564-a2b1-396fb4b0315a');\n",
              "          const dataTable =\n",
              "            await google.colab.kernel.invokeFunction('convertToInteractive',\n",
              "                                                     [key], {});\n",
              "          if (!dataTable) return;\n",
              "\n",
              "          const docLinkHtml = 'Like what you see? Visit the ' +\n",
              "            '<a target=\"_blank\" href=https://colab.research.google.com/notebooks/data_table.ipynb>data table notebook</a>'\n",
              "            + ' to learn more about interactive tables.';\n",
              "          element.innerHTML = '';\n",
              "          dataTable['output_type'] = 'display_data';\n",
              "          await google.colab.output.renderOutput(dataTable, element);\n",
              "          const docLink = document.createElement('div');\n",
              "          docLink.innerHTML = docLinkHtml;\n",
              "          element.appendChild(docLink);\n",
              "        }\n",
              "      </script>\n",
              "    </div>\n",
              "  </div>\n",
              "  "
            ]
          },
          "metadata": {},
          "execution_count": 40
        }
      ]
    },
    {
      "cell_type": "code",
      "source": [],
      "metadata": {
        "id": "PA6c2yQSMEYL"
      },
      "execution_count": null,
      "outputs": []
    }
  ]
}