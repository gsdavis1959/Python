{
  "nbformat": 4,
  "nbformat_minor": 0,
  "metadata": {
    "colab": {
      "name": "nlppretext.ipynb",
      "provenance": [],
      "collapsed_sections": []
    },
    "kernelspec": {
      "name": "python3",
      "display_name": "Python 3"
    },
    "language_info": {
      "name": "python"
    }
  },
  "cells": [
    {
      "cell_type": "code",
      "metadata": {
        "colab": {
          "base_uri": "https://localhost:8080/"
        },
        "id": "m6uQJcJ_qCAa",
        "outputId": "81b9e32b-d1fe-4831-90e6-26e4a60aceff"
      },
      "source": [
        "!pip install nlpretext"
      ],
      "execution_count": 1,
      "outputs": [
        {
          "output_type": "stream",
          "text": [
            "Collecting nlpretext\n",
            "\u001b[?25l  Downloading https://files.pythonhosted.org/packages/11/1f/db7c29a8f6d0d1685e33613dd3b199b4b75d2bb54cf6cc710b59508a64ac/nlpretext-1.0.2-py3-none-any.whl (135kB)\n",
            "\r\u001b[K     |██▍                             | 10kB 10.5MB/s eta 0:00:01\r\u001b[K     |████▉                           | 20kB 14.6MB/s eta 0:00:01\r\u001b[K     |███████▎                        | 30kB 17.6MB/s eta 0:00:01\r\u001b[K     |█████████▊                      | 40kB 3.7MB/s eta 0:00:01\r\u001b[K     |████████████▏                   | 51kB 4.4MB/s eta 0:00:01\r\u001b[K     |██████████████▌                 | 61kB 5.1MB/s eta 0:00:01\r\u001b[K     |█████████████████               | 71kB 5.7MB/s eta 0:00:01\r\u001b[K     |███████████████████▍            | 81kB 6.3MB/s eta 0:00:01\r\u001b[K     |█████████████████████▉          | 92kB 6.9MB/s eta 0:00:01\r\u001b[K     |████████████████████████▎       | 102kB 7.4MB/s eta 0:00:01\r\u001b[K     |██████████████████████████▊     | 112kB 7.4MB/s eta 0:00:01\r\u001b[K     |█████████████████████████████   | 122kB 7.4MB/s eta 0:00:01\r\u001b[K     |███████████████████████████████▌| 133kB 7.4MB/s eta 0:00:01\r\u001b[K     |████████████████████████████████| 143kB 7.4MB/s \n",
            "\u001b[?25hCollecting flashtext==2.7\n",
            "  Downloading https://files.pythonhosted.org/packages/81/d8/2cd0656eae456d615c2f1efbcae8dfca2cb871a31f34ba8925aba47d5e09/flashtext-2.7.tar.gz\n",
            "Requirement already satisfied: numpy>1.15.4 in /usr/local/lib/python3.7/dist-packages (from nlpretext) (1.19.5)\n",
            "Collecting stop-words==2018.7.23\n",
            "  Downloading https://files.pythonhosted.org/packages/1c/cb/d58290804b7a4c5daa42abbbe2a93c477ae53e45541b1825e86f0dfaaf63/stop-words-2018.7.23.tar.gz\n",
            "Collecting regex==2019.8.19\n",
            "\u001b[?25l  Downloading https://files.pythonhosted.org/packages/6f/a6/99eeb5904ab763db87af4bd71d9b1dfdd9792681240657a4c0a599c10a81/regex-2019.08.19.tar.gz (654kB)\n",
            "\u001b[K     |████████████████████████████████| 655kB 19.9MB/s \n",
            "\u001b[?25hCollecting mosestokenizer==1.1.0\n",
            "  Downloading https://files.pythonhosted.org/packages/4b/b3/c0af235b16c4f44a2828ef017f7947d1262b2646e440f85c6a2ff26a8c6f/mosestokenizer-1.1.0.tar.gz\n",
            "Collecting pylint==2.4.4\n",
            "\u001b[?25l  Downloading https://files.pythonhosted.org/packages/e9/59/43fc36c5ee316bb9aeb7cf5329cdbdca89e5749c34d5602753827c0aa2dc/pylint-2.4.4-py3-none-any.whl (302kB)\n",
            "\u001b[K     |████████████████████████████████| 307kB 34.5MB/s \n",
            "\u001b[?25hCollecting nltk>=3.4.5\n",
            "\u001b[?25l  Downloading https://files.pythonhosted.org/packages/5e/37/9532ddd4b1bbb619333d5708aaad9bf1742f051a664c3c6fa6632a105fd8/nltk-3.6.2-py3-none-any.whl (1.5MB)\n",
            "\u001b[K     |████████████████████████████████| 1.5MB 34.8MB/s \n",
            "\u001b[?25hCollecting spacy==2.3.4\n",
            "\u001b[?25l  Downloading https://files.pythonhosted.org/packages/51/92/ce37391be0980e03cdef9dab057c95561dacb36937bd6941c3204b40f5ca/spacy-2.3.4-cp37-cp37m-manylinux2014_x86_64.whl (10.4MB)\n",
            "\u001b[K     |████████████████████████████████| 10.4MB 20.1MB/s \n",
            "\u001b[?25hCollecting emoji>=0.5.2\n",
            "\u001b[?25l  Downloading https://files.pythonhosted.org/packages/24/fa/b3368f41b95a286f8d300e323449ab4e86b85334c2e0b477e94422b8ed0f/emoji-1.2.0-py3-none-any.whl (131kB)\n",
            "\u001b[K     |████████████████████████████████| 133kB 40.7MB/s \n",
            "\u001b[?25hCollecting scikit-learn==0.23.2\n",
            "\u001b[?25l  Downloading https://files.pythonhosted.org/packages/f4/cb/64623369f348e9bfb29ff898a57ac7c91ed4921f228e9726546614d63ccb/scikit_learn-0.23.2-cp37-cp37m-manylinux1_x86_64.whl (6.8MB)\n",
            "\u001b[K     |████████████████████████████████| 6.8MB 36.5MB/s \n",
            "\u001b[?25hCollecting ftfy<5.0.0,>=4.2.0\n",
            "\u001b[?25l  Downloading https://files.pythonhosted.org/packages/21/5d/9385540977b00df1f3a0c0f07b7e6c15b5e7a3109d7f6ae78a0a764dab22/ftfy-4.4.3.tar.gz (50kB)\n",
            "\u001b[K     |████████████████████████████████| 51kB 5.6MB/s \n",
            "\u001b[?25hCollecting nlpaug==1.0.1\n",
            "\u001b[?25l  Downloading https://files.pythonhosted.org/packages/ed/c1/aa7f3ece5ecf6eac7fbfd2a419818e89433d1e7cfd78efdb05a1686b510d/nlpaug-1.0.1-py3-none-any.whl (376kB)\n",
            "\u001b[K     |████████████████████████████████| 378kB 43.1MB/s \n",
            "\u001b[?25hRequirement already satisfied: chardet==3.0.4 in /usr/local/lib/python3.7/dist-packages (from nlpretext) (3.0.4)\n",
            "Collecting sacremoses==0.0.13\n",
            "\u001b[?25l  Downloading https://files.pythonhosted.org/packages/56/69/7064f7277b027589dd00adb2da3d9ec49cbdd20a2212ced762d4af587af0/sacremoses-0.0.13.tar.gz (118kB)\n",
            "\u001b[K     |████████████████████████████████| 122kB 28.4MB/s \n",
            "\u001b[?25hCollecting phonenumbers==8.10.12\n",
            "\u001b[?25l  Downloading https://files.pythonhosted.org/packages/00/13/118a79e417f06a23473d28de65db95f3a14a4548cf39cdf407f8ffb335a1/phonenumbers-8.10.12-py2.py3-none-any.whl (2.6MB)\n",
            "\u001b[K     |████████████████████████████████| 2.6MB 33.7MB/s \n",
            "\u001b[?25hRequirement already satisfied: docopt in /usr/local/lib/python3.7/dist-packages (from mosestokenizer==1.1.0->nlpretext) (0.6.2)\n",
            "Collecting openfile\n",
            "  Downloading https://files.pythonhosted.org/packages/93/e6/805db6867faacb488b44ba8e0829ef4de151dd0499f3c5da5f4ad11698a7/openfile-0.0.7-py3-none-any.whl\n",
            "Collecting uctools\n",
            "  Downloading https://files.pythonhosted.org/packages/04/cb/70ed842d9a43460eedaa11f7503b4ab6537b43b63f0d854d59d8e150fac1/uctools-1.3.0.tar.gz\n",
            "Collecting toolwrapper\n",
            "  Downloading https://files.pythonhosted.org/packages/41/7b/34bf8fb69426d8a18bcc61081e9d126f4fcd41c3c832072bef39af1602cd/toolwrapper-2.1.0.tar.gz\n",
            "Collecting isort<5,>=4.2.5\n",
            "\u001b[?25l  Downloading https://files.pythonhosted.org/packages/e5/b0/c121fd1fa3419ea9bfd55c7f9c4fedfec5143208d8c7ad3ce3db6c623c21/isort-4.3.21-py2.py3-none-any.whl (42kB)\n",
            "\u001b[K     |████████████████████████████████| 51kB 5.1MB/s \n",
            "\u001b[?25hCollecting mccabe<0.7,>=0.6\n",
            "  Downloading https://files.pythonhosted.org/packages/87/89/479dc97e18549e21354893e4ee4ef36db1d237534982482c3681ee6e7b57/mccabe-0.6.1-py2.py3-none-any.whl\n",
            "Collecting astroid<2.4,>=2.3.0\n",
            "\u001b[?25l  Downloading https://files.pythonhosted.org/packages/ad/ae/86734823047962e7b8c8529186a1ac4a7ca19aaf1aa0c7713c022ef593fd/astroid-2.3.3-py3-none-any.whl (205kB)\n",
            "\u001b[K     |████████████████████████████████| 215kB 49.1MB/s \n",
            "\u001b[?25hRequirement already satisfied: tqdm in /usr/local/lib/python3.7/dist-packages (from nltk>=3.4.5->nlpretext) (4.41.1)\n",
            "Requirement already satisfied: joblib in /usr/local/lib/python3.7/dist-packages (from nltk>=3.4.5->nlpretext) (1.0.1)\n",
            "Requirement already satisfied: click in /usr/local/lib/python3.7/dist-packages (from nltk>=3.4.5->nlpretext) (7.1.2)\n",
            "Requirement already satisfied: srsly<1.1.0,>=1.0.2 in /usr/local/lib/python3.7/dist-packages (from spacy==2.3.4->nlpretext) (1.0.5)\n",
            "Collecting thinc<7.5.0,>=7.4.1\n",
            "\u001b[?25l  Downloading https://files.pythonhosted.org/packages/9a/92/71ab278f865f7565c37ed6917d0f23342e4f9a0633013113bd435cf0a691/thinc-7.4.5-cp37-cp37m-manylinux2014_x86_64.whl (1.0MB)\n",
            "\u001b[K     |████████████████████████████████| 1.1MB 42.9MB/s \n",
            "\u001b[?25hRequirement already satisfied: setuptools in /usr/local/lib/python3.7/dist-packages (from spacy==2.3.4->nlpretext) (56.1.0)\n",
            "Requirement already satisfied: plac<1.2.0,>=0.9.6 in /usr/local/lib/python3.7/dist-packages (from spacy==2.3.4->nlpretext) (1.1.3)\n",
            "Requirement already satisfied: blis<0.8.0,>=0.4.0; python_version >= \"3.6\" in /usr/local/lib/python3.7/dist-packages (from spacy==2.3.4->nlpretext) (0.4.1)\n",
            "Requirement already satisfied: murmurhash<1.1.0,>=0.28.0 in /usr/local/lib/python3.7/dist-packages (from spacy==2.3.4->nlpretext) (1.0.5)\n",
            "Requirement already satisfied: wasabi<1.1.0,>=0.4.0 in /usr/local/lib/python3.7/dist-packages (from spacy==2.3.4->nlpretext) (0.8.2)\n",
            "Requirement already satisfied: requests<3.0.0,>=2.13.0 in /usr/local/lib/python3.7/dist-packages (from spacy==2.3.4->nlpretext) (2.23.0)\n",
            "Requirement already satisfied: preshed<3.1.0,>=3.0.2 in /usr/local/lib/python3.7/dist-packages (from spacy==2.3.4->nlpretext) (3.0.5)\n",
            "Requirement already satisfied: cymem<2.1.0,>=2.0.2 in /usr/local/lib/python3.7/dist-packages (from spacy==2.3.4->nlpretext) (2.0.5)\n",
            "Requirement already satisfied: catalogue<1.1.0,>=0.0.7 in /usr/local/lib/python3.7/dist-packages (from spacy==2.3.4->nlpretext) (1.0.0)\n",
            "Requirement already satisfied: scipy>=0.19.1 in /usr/local/lib/python3.7/dist-packages (from scikit-learn==0.23.2->nlpretext) (1.4.1)\n",
            "Collecting threadpoolctl>=2.0.0\n",
            "  Downloading https://files.pythonhosted.org/packages/f7/12/ec3f2e203afa394a149911729357aa48affc59c20e2c1c8297a60f33f133/threadpoolctl-2.1.0-py3-none-any.whl\n",
            "Requirement already satisfied: html5lib in /usr/local/lib/python3.7/dist-packages (from ftfy<5.0.0,>=4.2.0->nlpretext) (1.0.1)\n",
            "Requirement already satisfied: wcwidth in /usr/local/lib/python3.7/dist-packages (from ftfy<5.0.0,>=4.2.0->nlpretext) (0.2.5)\n",
            "Requirement already satisfied: six in /usr/local/lib/python3.7/dist-packages (from sacremoses==0.0.13->nlpretext) (1.15.0)\n",
            "Collecting lazy-object-proxy==1.4.*\n",
            "\u001b[?25l  Downloading https://files.pythonhosted.org/packages/23/f8/69df5a663b59512eb9f9b84e7f203c48c7a933e460316e9ebf4db2871ae0/lazy_object_proxy-1.4.3-cp37-cp37m-manylinux1_x86_64.whl (56kB)\n",
            "\u001b[K     |████████████████████████████████| 61kB 6.5MB/s \n",
            "\u001b[?25hCollecting wrapt==1.11.*\n",
            "  Downloading https://files.pythonhosted.org/packages/23/84/323c2415280bc4fc880ac5050dddfb3c8062c2552b34c2e512eb4aa68f79/wrapt-1.11.2.tar.gz\n",
            "Collecting typed-ast<1.5,>=1.4.0; implementation_name == \"cpython\" and python_version < \"3.8\"\n",
            "\u001b[?25l  Downloading https://files.pythonhosted.org/packages/65/b3/573d2f1fecbbe8f82a8d08172e938c247f99abe1be3bef3da2efaa3810bf/typed_ast-1.4.3-cp37-cp37m-manylinux1_x86_64.whl (743kB)\n",
            "\u001b[K     |████████████████████████████████| 747kB 37.7MB/s \n",
            "\u001b[?25hRequirement already satisfied: idna<3,>=2.5 in /usr/local/lib/python3.7/dist-packages (from requests<3.0.0,>=2.13.0->spacy==2.3.4->nlpretext) (2.10)\n",
            "Requirement already satisfied: certifi>=2017.4.17 in /usr/local/lib/python3.7/dist-packages (from requests<3.0.0,>=2.13.0->spacy==2.3.4->nlpretext) (2020.12.5)\n",
            "Requirement already satisfied: urllib3!=1.25.0,!=1.25.1,<1.26,>=1.21.1 in /usr/local/lib/python3.7/dist-packages (from requests<3.0.0,>=2.13.0->spacy==2.3.4->nlpretext) (1.24.3)\n",
            "Requirement already satisfied: importlib-metadata>=0.20; python_version < \"3.8\" in /usr/local/lib/python3.7/dist-packages (from catalogue<1.1.0,>=0.0.7->spacy==2.3.4->nlpretext) (3.10.1)\n",
            "Requirement already satisfied: webencodings in /usr/local/lib/python3.7/dist-packages (from html5lib->ftfy<5.0.0,>=4.2.0->nlpretext) (0.5.1)\n",
            "Requirement already satisfied: zipp>=0.5 in /usr/local/lib/python3.7/dist-packages (from importlib-metadata>=0.20; python_version < \"3.8\"->catalogue<1.1.0,>=0.0.7->spacy==2.3.4->nlpretext) (3.4.1)\n",
            "Requirement already satisfied: typing-extensions>=3.6.4; python_version < \"3.8\" in /usr/local/lib/python3.7/dist-packages (from importlib-metadata>=0.20; python_version < \"3.8\"->catalogue<1.1.0,>=0.0.7->spacy==2.3.4->nlpretext) (3.7.4.3)\n",
            "Building wheels for collected packages: flashtext, stop-words, regex, mosestokenizer, ftfy, sacremoses, uctools, toolwrapper, wrapt\n",
            "  Building wheel for flashtext (setup.py) ... \u001b[?25l\u001b[?25hdone\n",
            "  Created wheel for flashtext: filename=flashtext-2.7-py2.py3-none-any.whl size=9299 sha256=676ad1da454d4fa5b9c8f827c25ef1a87fe9a043c6c188d8ec1fa80bb0134734\n",
            "  Stored in directory: /root/.cache/pip/wheels/37/db/d7/fe74f7cb8e5c3afed90fe6f4967c933a6f13d81ab6b3d3128c\n",
            "  Building wheel for stop-words (setup.py) ... \u001b[?25l\u001b[?25hdone\n",
            "  Created wheel for stop-words: filename=stop_words-2018.7.23-cp37-none-any.whl size=32917 sha256=d1ad942f038a516d3b1a48b1ab73268355096d2cf08d5ef6877ea6d79a7c85c5\n",
            "  Stored in directory: /root/.cache/pip/wheels/75/37/6a/2b295e03bd07290f0da95c3adb9a74ba95fbc333aa8b0c7c78\n",
            "  Building wheel for regex (setup.py) ... \u001b[?25l\u001b[?25hdone\n",
            "  Created wheel for regex: filename=regex-2019.8.19-cp37-cp37m-linux_x86_64.whl size=609775 sha256=6d6e53cd81e18958adc4d5c1486cdb743b6c0b3b74cb8f70ae667ac3c763aa76\n",
            "  Stored in directory: /root/.cache/pip/wheels/90/04/07/b5010fb816721eb3d6dd64ed5cc8111ca23f97fdab8619b5be\n",
            "  Building wheel for mosestokenizer (setup.py) ... \u001b[?25l\u001b[?25hdone\n",
            "  Created wheel for mosestokenizer: filename=mosestokenizer-1.1.0-cp37-none-any.whl size=49120 sha256=b9691da5c24e0d59637dfadff463e7d8c9ad9c9994df1e9eb47ff4a3733c1a59\n",
            "  Stored in directory: /root/.cache/pip/wheels/a2/e7/48/48d5e0f9c0cd5def2dfd7cb8543945f906448ed1313de24a29\n",
            "  Building wheel for ftfy (setup.py) ... \u001b[?25l\u001b[?25hdone\n",
            "  Created wheel for ftfy: filename=ftfy-4.4.3-cp37-none-any.whl size=41070 sha256=ab4db49e0b656c333c422a46ab3baa653b435ac0e8771974e7a55d7e1fe63185\n",
            "  Stored in directory: /root/.cache/pip/wheels/37/54/00/d320239bfc8aad1455314f302dd82a75253fc585e17b81704e\n",
            "  Building wheel for sacremoses (setup.py) ... \u001b[?25l\u001b[?25hdone\n",
            "  Created wheel for sacremoses: filename=sacremoses-0.0.13-cp37-none-any.whl size=154738 sha256=693a58417d288b5b856a167ed0c845b02ddff32530c589ecaa1416f4ffd3763c\n",
            "  Stored in directory: /root/.cache/pip/wheels/da/9b/34/ce023990ea1082fbe2a1577c9d301c5977c5510157b4db1083\n",
            "  Building wheel for uctools (setup.py) ... \u001b[?25l\u001b[?25hdone\n",
            "  Created wheel for uctools: filename=uctools-1.3.0-cp37-none-any.whl size=6163 sha256=9d47d1a0df333ad3a29718998ca24c78505ea75f7f81bea3c7bc3e3c90ae5202\n",
            "  Stored in directory: /root/.cache/pip/wheels/06/b6/8f/935d5bf5bca85d47c6f5ec31641879bba057d336ab36b1e773\n",
            "  Building wheel for toolwrapper (setup.py) ... \u001b[?25l\u001b[?25hdone\n",
            "  Created wheel for toolwrapper: filename=toolwrapper-2.1.0-cp37-none-any.whl size=3356 sha256=b9ae93d6990bb4a2255f72e5fd57077bcc2d87e63dad5a8114a566aee81d1469\n",
            "  Stored in directory: /root/.cache/pip/wheels/84/ea/29/e02f3b855bf19344972092873a1091b329309bbc3d3d0cbaef\n",
            "  Building wheel for wrapt (setup.py) ... \u001b[?25l\u001b[?25hdone\n",
            "  Created wheel for wrapt: filename=wrapt-1.11.2-cp37-cp37m-linux_x86_64.whl size=68453 sha256=1ac5aa0e3f935e5a0efa41245bfc4066cf797ec5f2d35398830a0cfb3fb5b357\n",
            "  Stored in directory: /root/.cache/pip/wheels/d7/de/2e/efa132238792efb6459a96e85916ef8597fcb3d2ae51590dfd\n",
            "Successfully built flashtext stop-words regex mosestokenizer ftfy sacremoses uctools toolwrapper wrapt\n",
            "\u001b[31mERROR: tensorflow 2.4.1 has requirement wrapt~=1.12.1, but you'll have wrapt 1.11.2 which is incompatible.\u001b[0m\n",
            "Installing collected packages: flashtext, stop-words, regex, openfile, uctools, toolwrapper, mosestokenizer, isort, mccabe, lazy-object-proxy, wrapt, typed-ast, astroid, pylint, nltk, thinc, spacy, emoji, threadpoolctl, scikit-learn, ftfy, nlpaug, sacremoses, phonenumbers, nlpretext\n",
            "  Found existing installation: regex 2019.12.20\n",
            "    Uninstalling regex-2019.12.20:\n",
            "      Successfully uninstalled regex-2019.12.20\n",
            "  Found existing installation: wrapt 1.12.1\n",
            "    Uninstalling wrapt-1.12.1:\n",
            "      Successfully uninstalled wrapt-1.12.1\n",
            "  Found existing installation: nltk 3.2.5\n",
            "    Uninstalling nltk-3.2.5:\n",
            "      Successfully uninstalled nltk-3.2.5\n",
            "  Found existing installation: thinc 7.4.0\n",
            "    Uninstalling thinc-7.4.0:\n",
            "      Successfully uninstalled thinc-7.4.0\n",
            "  Found existing installation: spacy 2.2.4\n",
            "    Uninstalling spacy-2.2.4:\n",
            "      Successfully uninstalled spacy-2.2.4\n",
            "  Found existing installation: scikit-learn 0.22.2.post1\n",
            "    Uninstalling scikit-learn-0.22.2.post1:\n",
            "      Successfully uninstalled scikit-learn-0.22.2.post1\n",
            "Successfully installed astroid-2.3.3 emoji-1.2.0 flashtext-2.7 ftfy-4.4.3 isort-4.3.21 lazy-object-proxy-1.4.3 mccabe-0.6.1 mosestokenizer-1.1.0 nlpaug-1.0.1 nlpretext-1.0.2 nltk-3.6.2 openfile-0.0.7 phonenumbers-8.10.12 pylint-2.4.4 regex-2019.8.19 sacremoses-0.0.13 scikit-learn-0.23.2 spacy-2.3.4 stop-words-2018.7.23 thinc-7.4.5 threadpoolctl-2.1.0 toolwrapper-2.1.0 typed-ast-1.4.3 uctools-1.3.0 wrapt-1.11.2\n"
          ],
          "name": "stdout"
        }
      ]
    },
    {
      "cell_type": "code",
      "metadata": {
        "colab": {
          "base_uri": "https://localhost:8080/"
        },
        "id": "rgh-6-vnqKEA",
        "outputId": "95468061-2c31-4ee0-cf5b-e18b24e71187"
      },
      "source": [
        "from nlpretext.basic.preprocess import replace_emails\n",
        "example = \"I have forwarded this email to obama@whitehouse.gov\"\n",
        "example = replace_emails(example, replace_with=\"*EMAIL*\")\n",
        "print(example)"
      ],
      "execution_count": 2,
      "outputs": [
        {
          "output_type": "stream",
          "text": [
            "I have forwarded this email to *EMAIL*\n"
          ],
          "name": "stdout"
        }
      ]
    },
    {
      "cell_type": "code",
      "metadata": {
        "colab": {
          "base_uri": "https://localhost:8080/"
        },
        "id": "eGy6QZQbqegc",
        "outputId": "5b4a5732-658a-41a9-9139-61889b329ebf"
      },
      "source": [
        "from nlpretext.social.preprocess import extract_emojis\n",
        "example = \"I take care of my skin 😀\"\n",
        "example = extract_emojis(example)\n",
        "print(example)"
      ],
      "execution_count": 3,
      "outputs": [
        {
          "output_type": "stream",
          "text": [
            "[':grinning_face:']\n"
          ],
          "name": "stdout"
        }
      ]
    },
    {
      "cell_type": "code",
      "metadata": {
        "colab": {
          "base_uri": "https://localhost:8080/"
        },
        "id": "YRoc1IeGqkCz",
        "outputId": "f110f148-fd59-44c3-997f-fe22c13823ff"
      },
      "source": [
        "from nlpretext.token.preprocess import remove_stopwords\n",
        "example = ['I', 'like', 'when', 'you', 'move', 'your', 'body']\n",
        "example = remove_stopwords(example, lang=\"en\")\n",
        "print(example)"
      ],
      "execution_count": 5,
      "outputs": [
        {
          "output_type": "stream",
          "text": [
            "['I', 'move', 'body']\n"
          ],
          "name": "stdout"
        }
      ]
    },
    {
      "cell_type": "code",
      "metadata": {
        "colab": {
          "base_uri": "https://localhost:8080/"
        },
        "id": "QjSB5Rnjq34d",
        "outputId": "97eecc4b-4ac9-4ef9-fc56-bd9908b0d2bb"
      },
      "source": [
        "from nlpretext.augmentation.text_augmentation import augment_text\n",
        "example = \"I want to buy a small black handbag please.\"\n",
        "entities = [{'entity': 'Color', 'word': 'black', 'startCharIndex': 22, 'endCharIndex': 27}]\n",
        "example = augment_text(example, method='wordnet_synonym', entities=entities)\n",
        "print(example)"
      ],
      "execution_count": 7,
      "outputs": [
        {
          "output_type": "stream",
          "text": [
            "[nltk_data] Downloading package wordnet to /root/nltk_data...\n",
            "[nltk_data]   Unzipping corpora/wordnet.zip.\n",
            "[nltk_data] Downloading package averaged_perceptron_tagger to\n",
            "[nltk_data]     /root/nltk_data...\n",
            "[nltk_data]   Unzipping taggers/averaged_perceptron_tagger.zip.\n"
          ],
          "name": "stderr"
        },
        {
          "output_type": "stream",
          "text": [
            "('I need to buy a low black handbag please.', [{'entity': 'Color', 'endCharIndex': 25, 'startCharIndex': 20, 'word': 'black'}])\n"
          ],
          "name": "stdout"
        }
      ]
    },
    {
      "cell_type": "code",
      "metadata": {
        "colab": {
          "base_uri": "https://localhost:8080/"
        },
        "id": "6fC9ZoTgrGTx",
        "outputId": "e27e8886-b7b7-4d54-83f0-c6863f217440"
      },
      "source": [
        "from nlpretext import Preprocessor\n",
        "from nlpretext.basic.preprocess import (normalize_whitespace, remove_punct, remove_eol_characters, remove_stopwords, lower_text)\n",
        "from nlpretext.social.preprocess import remove_mentions, remove_hashtag, remove_emoji\n",
        "text = \"I just got the best dinner in my life @latourdargent !!! I  recommend 😀 #food #paris \\n\"\n",
        "preprocessor = Preprocessor()\n",
        "preprocessor.pipe(lower_text)\n",
        "preprocessor.pipe(remove_mentions)\n",
        "preprocessor.pipe(remove_hashtag)\n",
        "preprocessor.pipe(remove_emoji)\n",
        "preprocessor.pipe(remove_eol_characters)\n",
        "preprocessor.pipe(remove_stopwords, args={'lang': 'en'})\n",
        "preprocessor.pipe(remove_punct)\n",
        "preprocessor.pipe(normalize_whitespace)\n",
        "text = preprocessor.run(text)\n",
        "print(text)"
      ],
      "execution_count": 8,
      "outputs": [
        {
          "output_type": "stream",
          "text": [
            "/usr/local/lib/python3.7/dist-packages/spacy/util.py:275: UserWarning: [W031] Model 'en_core_web_sm' (2.2.5) requires spaCy v2.2 and is incompatible with the current spaCy version (2.3.4). This may lead to unexpected results or runtime errors. To resolve this, download a newer compatible model or retrain your custom model with the current spaCy version. For more details and available updates, run: python -m spacy validate\n",
            "  warnings.warn(warn_msg)\n"
          ],
          "name": "stderr"
        },
        {
          "output_type": "stream",
          "text": [
            "dinner life recommend\n"
          ],
          "name": "stdout"
        }
      ]
    }
  ]
}