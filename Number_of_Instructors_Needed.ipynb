{
  "nbformat": 4,
  "nbformat_minor": 0,
  "metadata": {
    "colab": {
      "provenance": []
    },
    "kernelspec": {
      "name": "python3",
      "display_name": "Python 3"
    },
    "language_info": {
      "name": "python"
    }
  },
  "cells": [
    {
      "cell_type": "code",
      "execution_count": 2,
      "metadata": {
        "colab": {
          "base_uri": "https://localhost:8080/"
        },
        "id": "i-F8zsCP2TnY",
        "outputId": "24e41f49-0a6d-4d89-9cba-8875ef5ec567"
      },
      "outputs": [
        {
          "output_type": "stream",
          "name": "stdout",
          "text": [
            "Instructors needed: 6\n"
          ]
        }
      ],
      "source": [
        "import math\n",
        "\n",
        "# Constants\n",
        "total_classes = 1094\n",
        "sessions_per_class = {\n",
        "    \"4-session\": 120,\n",
        "    \"2-session\": 636,\n",
        "    \"1-session\": 338,\n",
        "}\n",
        "travel_percent = 0.30\n",
        "instructor_vacation_weeks = 4\n",
        "us_holidays = 10\n",
        "workdays_per_week = 3\n",
        "teaching_percentage = 0.85\n",
        "\n",
        "# Calculate the total number of sessions\n",
        "total_sessions = (\n",
        "    sessions_per_class[\"4-session\"] * 4\n",
        "    + sessions_per_class[\"2-session\"] * 2\n",
        "    + sessions_per_class[\"1-session\"]\n",
        ")\n",
        "\n",
        "# Calculate the number of sessions requiring travel\n",
        "total_travel_sessions = travel_percent * total_sessions\n",
        "\n",
        "# Calculate the number of workdays in a year\n",
        "total_workdays = workdays_per_week * 52 - instructor_vacation_weeks * workdays_per_week - us_holidays\n",
        "\n",
        "# Calculate the number of teaching days in a year\n",
        "teaching_days_per_year = teaching_percentage * total_workdays\n",
        "\n",
        "# Calculate the number of instructors needed\n",
        "instructors_needed = math.ceil(total_travel_sessions / teaching_days_per_year)\n",
        "\n",
        "print(f\"Instructors needed: {instructors_needed}\")\n"
      ]
    }
  ]
}