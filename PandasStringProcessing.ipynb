{
  "nbformat": 4,
  "nbformat_minor": 0,
  "metadata": {
    "colab": {
      "name": "PandasStringProcessing.ipynb",
      "provenance": [],
      "collapsed_sections": []
    },
    "kernelspec": {
      "name": "python3",
      "display_name": "Python 3"
    },
    "language_info": {
      "name": "python"
    }
  },
  "cells": [
    {
      "cell_type": "code",
      "metadata": {
        "colab": {
          "base_uri": "https://localhost:8080/",
          "height": 206
        },
        "id": "9frlVa1YXowS",
        "outputId": "fea49863-24cc-4cfd-e750-cc51376ae5c2"
      },
      "source": [
        "import pandas as pd\n",
        "client_dictionary = {'name': ['Michael Smith', 'Ana Kors', 'Sean Bill', 'Carl Jonson', 'Bob Evan'], \n",
        "                     'grade': [['A', 'A'], ['C'], ['A', 'C', 'B'], [], ['F']], \n",
        "                     'age': ['19', '19', '17', '18', '-'],\n",
        "                     'group': ['class 1', 'class 2', 'class 2', 'class 1', 'class 2'],\n",
        "                     'suspended': [True, False, True, False, True]\n",
        "                    }\n",
        "df = pd.DataFrame(client_dictionary)\n",
        "df"
      ],
      "execution_count": 1,
      "outputs": [
        {
          "output_type": "execute_result",
          "data": {
            "text/html": [
              "<div>\n",
              "<style scoped>\n",
              "    .dataframe tbody tr th:only-of-type {\n",
              "        vertical-align: middle;\n",
              "    }\n",
              "\n",
              "    .dataframe tbody tr th {\n",
              "        vertical-align: top;\n",
              "    }\n",
              "\n",
              "    .dataframe thead th {\n",
              "        text-align: right;\n",
              "    }\n",
              "</style>\n",
              "<table border=\"1\" class=\"dataframe\">\n",
              "  <thead>\n",
              "    <tr style=\"text-align: right;\">\n",
              "      <th></th>\n",
              "      <th>name</th>\n",
              "      <th>grade</th>\n",
              "      <th>age</th>\n",
              "      <th>group</th>\n",
              "      <th>suspended</th>\n",
              "    </tr>\n",
              "  </thead>\n",
              "  <tbody>\n",
              "    <tr>\n",
              "      <th>0</th>\n",
              "      <td>Michael Smith</td>\n",
              "      <td>[A, A]</td>\n",
              "      <td>19</td>\n",
              "      <td>class 1</td>\n",
              "      <td>True</td>\n",
              "    </tr>\n",
              "    <tr>\n",
              "      <th>1</th>\n",
              "      <td>Ana Kors</td>\n",
              "      <td>[C]</td>\n",
              "      <td>19</td>\n",
              "      <td>class 2</td>\n",
              "      <td>False</td>\n",
              "    </tr>\n",
              "    <tr>\n",
              "      <th>2</th>\n",
              "      <td>Sean Bill</td>\n",
              "      <td>[A, C, B]</td>\n",
              "      <td>17</td>\n",
              "      <td>class 2</td>\n",
              "      <td>True</td>\n",
              "    </tr>\n",
              "    <tr>\n",
              "      <th>3</th>\n",
              "      <td>Carl Jonson</td>\n",
              "      <td>[]</td>\n",
              "      <td>18</td>\n",
              "      <td>class 1</td>\n",
              "      <td>False</td>\n",
              "    </tr>\n",
              "    <tr>\n",
              "      <th>4</th>\n",
              "      <td>Bob Evan</td>\n",
              "      <td>[F]</td>\n",
              "      <td>-</td>\n",
              "      <td>class 2</td>\n",
              "      <td>True</td>\n",
              "    </tr>\n",
              "  </tbody>\n",
              "</table>\n",
              "</div>"
            ],
            "text/plain": [
              "            name      grade age    group  suspended\n",
              "0  Michael Smith     [A, A]  19  class 1       True\n",
              "1       Ana Kors        [C]  19  class 2      False\n",
              "2      Sean Bill  [A, C, B]  17  class 2       True\n",
              "3    Carl Jonson         []  18  class 1      False\n",
              "4       Bob Evan        [F]   -  class 2       True"
            ]
          },
          "metadata": {},
          "execution_count": 1
        }
      ]
    },
    {
      "cell_type": "code",
      "metadata": {
        "colab": {
          "base_uri": "https://localhost:8080/"
        },
        "id": "6f7v8vxIXzjN",
        "outputId": "cc2b6d11-6a32-4d7c-cd75-36c2f626d3f0"
      },
      "source": [
        "df.name.str.upper()"
      ],
      "execution_count": 2,
      "outputs": [
        {
          "output_type": "execute_result",
          "data": {
            "text/plain": [
              "0    MICHAEL SMITH\n",
              "1         ANA KORS\n",
              "2        SEAN BILL\n",
              "3      CARL JONSON\n",
              "4         BOB EVAN\n",
              "Name: name, dtype: object"
            ]
          },
          "metadata": {},
          "execution_count": 2
        }
      ]
    },
    {
      "cell_type": "code",
      "metadata": {
        "colab": {
          "base_uri": "https://localhost:8080/"
        },
        "id": "wwr1E3XZX5Rb",
        "outputId": "d855f577-bc8a-4ab6-ddfa-8805d2b5b3cd"
      },
      "source": [
        "df.name.str.lower()"
      ],
      "execution_count": 3,
      "outputs": [
        {
          "output_type": "execute_result",
          "data": {
            "text/plain": [
              "0    michael smith\n",
              "1         ana kors\n",
              "2        sean bill\n",
              "3      carl jonson\n",
              "4         bob evan\n",
              "Name: name, dtype: object"
            ]
          },
          "metadata": {},
          "execution_count": 3
        }
      ]
    },
    {
      "cell_type": "code",
      "metadata": {
        "colab": {
          "base_uri": "https://localhost:8080/"
        },
        "id": "BzKwk5yiX_JA",
        "outputId": "74c22872-4376-4086-b7b8-1b4a4540d1f3"
      },
      "source": [
        "df.group.str.replace('class ', '')"
      ],
      "execution_count": 4,
      "outputs": [
        {
          "output_type": "execute_result",
          "data": {
            "text/plain": [
              "0    1\n",
              "1    2\n",
              "2    2\n",
              "3    1\n",
              "4    2\n",
              "Name: group, dtype: object"
            ]
          },
          "metadata": {},
          "execution_count": 4
        }
      ]
    },
    {
      "cell_type": "code",
      "metadata": {
        "colab": {
          "base_uri": "https://localhost:8080/"
        },
        "id": "UVUO-7NrYNAL",
        "outputId": "b000216d-544a-467d-8b7f-3c625f94e0d5"
      },
      "source": [
        "df.group.str.replace(r'[a-z]+ ', '')"
      ],
      "execution_count": 5,
      "outputs": [
        {
          "output_type": "execute_result",
          "data": {
            "text/plain": [
              "0    1\n",
              "1    2\n",
              "2    2\n",
              "3    1\n",
              "4    2\n",
              "Name: group, dtype: object"
            ]
          },
          "metadata": {},
          "execution_count": 5
        }
      ]
    },
    {
      "cell_type": "code",
      "metadata": {
        "colab": {
          "base_uri": "https://localhost:8080/"
        },
        "id": "PqKzDVEFYVPK",
        "outputId": "a9b1b51c-cac9-46f6-c723-87c0dd03fdcd"
      },
      "source": [
        "df.name.str.split()"
      ],
      "execution_count": 6,
      "outputs": [
        {
          "output_type": "execute_result",
          "data": {
            "text/plain": [
              "0    [Michael, Smith]\n",
              "1         [Ana, Kors]\n",
              "2        [Sean, Bill]\n",
              "3      [Carl, Jonson]\n",
              "4         [Bob, Evan]\n",
              "Name: name, dtype: object"
            ]
          },
          "metadata": {},
          "execution_count": 6
        }
      ]
    },
    {
      "cell_type": "code",
      "metadata": {
        "colab": {
          "base_uri": "https://localhost:8080/"
        },
        "id": "ZltJQOcyYcCr",
        "outputId": "eb05406b-8796-413a-e89e-f8b4dee69c8c"
      },
      "source": [
        "df.name.str.split(',')"
      ],
      "execution_count": 7,
      "outputs": [
        {
          "output_type": "execute_result",
          "data": {
            "text/plain": [
              "0    [Michael Smith]\n",
              "1         [Ana Kors]\n",
              "2        [Sean Bill]\n",
              "3      [Carl Jonson]\n",
              "4         [Bob Evan]\n",
              "Name: name, dtype: object"
            ]
          },
          "metadata": {},
          "execution_count": 7
        }
      ]
    },
    {
      "cell_type": "code",
      "metadata": {
        "colab": {
          "base_uri": "https://localhost:8080/"
        },
        "id": "EGL_buZ-YlWd",
        "outputId": "769a0ced-f392-488a-f1fc-ee105a78791a"
      },
      "source": [
        "df.name.str.find('s')"
      ],
      "execution_count": 8,
      "outputs": [
        {
          "output_type": "execute_result",
          "data": {
            "text/plain": [
              "0   -1\n",
              "1    7\n",
              "2   -1\n",
              "3    8\n",
              "4   -1\n",
              "Name: name, dtype: int64"
            ]
          },
          "metadata": {},
          "execution_count": 8
        }
      ]
    },
    {
      "cell_type": "code",
      "metadata": {
        "colab": {
          "base_uri": "https://localhost:8080/"
        },
        "id": "c3X3ARYfZ1qy",
        "outputId": "5e46d305-83bd-4e82-f047-98619fab317a"
      },
      "source": [
        "df.name.str.findall('an')"
      ],
      "execution_count": 9,
      "outputs": [
        {
          "output_type": "execute_result",
          "data": {
            "text/plain": [
              "0      []\n",
              "1      []\n",
              "2    [an]\n",
              "3      []\n",
              "4    [an]\n",
              "Name: name, dtype: object"
            ]
          },
          "metadata": {},
          "execution_count": 9
        }
      ]
    },
    {
      "cell_type": "code",
      "metadata": {
        "colab": {
          "base_uri": "https://localhost:8080/"
        },
        "id": "4Lp50GH1aR9n",
        "outputId": "3820b732-c57b-4bc4-c1ea-2a0932ae18f7"
      },
      "source": [
        "import re\n",
        "df.name.str.findall('an', flags=re.IGNORECASE)"
      ],
      "execution_count": 10,
      "outputs": [
        {
          "output_type": "execute_result",
          "data": {
            "text/plain": [
              "0      []\n",
              "1    [An]\n",
              "2    [an]\n",
              "3      []\n",
              "4    [an]\n",
              "Name: name, dtype: object"
            ]
          },
          "metadata": {},
          "execution_count": 10
        }
      ]
    }
  ]
}