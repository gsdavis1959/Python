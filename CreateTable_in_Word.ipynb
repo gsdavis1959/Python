{
  "nbformat": 4,
  "nbformat_minor": 0,
  "metadata": {
    "colab": {
      "provenance": []
    },
    "kernelspec": {
      "name": "python3",
      "display_name": "Python 3"
    },
    "language_info": {
      "name": "python"
    }
  },
  "cells": [
    {
      "cell_type": "code",
      "source": [
        "pip install python-docx"
      ],
      "metadata": {
        "colab": {
          "base_uri": "https://localhost:8080/"
        },
        "id": "-rWsjsBm0FEw",
        "outputId": "afc19d2f-aea0-465c-a54d-62d7766f63a4"
      },
      "execution_count": 8,
      "outputs": [
        {
          "output_type": "stream",
          "name": "stdout",
          "text": [
            "Collecting python-docx\n",
            "  Downloading python_docx-1.1.0-py3-none-any.whl (239 kB)\n",
            "\u001b[?25l     \u001b[90m━━━━━━━━━━━━━━━━━━━━━━━━━━━━━━━━━━━━━━━━\u001b[0m \u001b[32m0.0/239.6 kB\u001b[0m \u001b[31m?\u001b[0m eta \u001b[36m-:--:--\u001b[0m\r\u001b[2K     \u001b[91m━━━━━━━━━━━━━━━━━━━━━━━\u001b[0m\u001b[91m╸\u001b[0m\u001b[90m━━━━━━━━━━━━━━━━\u001b[0m \u001b[32m143.4/239.6 kB\u001b[0m \u001b[31m4.1 MB/s\u001b[0m eta \u001b[36m0:00:01\u001b[0m\r\u001b[2K     \u001b[90m━━━━━━━━━━━━━━━━━━━━━━━━━━━━━━━━━━━━━━━━\u001b[0m \u001b[32m239.6/239.6 kB\u001b[0m \u001b[31m4.7 MB/s\u001b[0m eta \u001b[36m0:00:00\u001b[0m\n",
            "\u001b[?25hRequirement already satisfied: lxml>=3.1.0 in /usr/local/lib/python3.10/dist-packages (from python-docx) (4.9.4)\n",
            "Requirement already satisfied: typing-extensions in /usr/local/lib/python3.10/dist-packages (from python-docx) (4.10.0)\n",
            "Installing collected packages: python-docx\n",
            "Successfully installed python-docx-1.1.0\n"
          ]
        }
      ]
    },
    {
      "cell_type": "code",
      "execution_count": 9,
      "metadata": {
        "id": "rPUmkqMVzQp5"
      },
      "outputs": [],
      "source": [
        "import pandas as pd\n",
        "from docx import Document\n",
        "from docx.shared import Pt\n",
        "from docx.oxml import OxmlElement\n",
        "from docx.oxml.ns import nsdecls\n",
        "from docx.oxml import parse_xml\n",
        "from docx.enum.text import WD_PARAGRAPH_ALIGNMENT\n",
        "\n",
        "# Load the Excel file into a DataFrame\n",
        "df = pd.read_excel('/content/Classes.xlsx')\n",
        "\n",
        "# Create a new Word document\n",
        "doc = Document()\n",
        "\n",
        "# Add a title to the document\n",
        "doc.add_heading('Classes Overview', 0)\n",
        "\n",
        "# Add a table to the document. The number of rows is one more than the DataFrame (for headers),\n",
        "# and the number of columns is the same as in the DataFrame.\n",
        "table = doc.add_table(rows=df.shape[0]+1, cols=df.shape[1])\n",
        "table.style = 'Table Grid'  # Apply a basic grid style to the table\n",
        "\n",
        "# Define the function to set cell background color\n",
        "def set_cell_background(cell, fill):\n",
        "    shading_elm = parse_xml(r'<w:shd {} w:fill=\"{}\"/>'.format(nsdecls('w'), fill))\n",
        "    cell._tc.get_or_add_tcPr().append(shading_elm)\n",
        "\n",
        "# Populate the header row of the table with DataFrame column names\n",
        "header_cells = table.rows[0].cells\n",
        "for i, column_name in enumerate(df.columns):\n",
        "    header_cells[i].text = column_name\n",
        "    header_cells[i].paragraphs[0].alignment = WD_PARAGRAPH_ALIGNMENT.CENTER\n",
        "    run = header_cells[i].paragraphs[0].runs[0]\n",
        "    run.font.size = Pt(12)  # Set font size for the header\n",
        "    set_cell_background(header_cells[i], \"DDDDDD\")  # Set a light gray background for the header\n",
        "\n",
        "# Populate the table with data from the DataFrame\n",
        "for i, row in enumerate(df.itertuples(), start=1):\n",
        "    for j, value in enumerate(row[1:]):  # Skip the index in row\n",
        "        cell = table.rows[i].cells[j]\n",
        "        cell.text = str(value)\n",
        "        cell.paragraphs[0].alignment = WD_PARAGRAPH_ALIGNMENT.CENTER\n",
        "        for paragraph in cell.paragraphs:\n",
        "            for run in paragraph.runs:\n",
        "                run.font.size = Pt(10)  # Set font size for table content\n",
        "\n",
        "# Define the path for saving the document\n",
        "doc_path = '/content/Classes_Document.docx'\n",
        "# Save the document\n",
        "doc.save(doc_path)\n"
      ]
    }
  ]
}