{
  "nbformat": 4,
  "nbformat_minor": 0,
  "metadata": {
    "colab": {
      "name": "PandasChangeValuesBasedOnCondition",
      "provenance": [],
      "collapsed_sections": []
    },
    "kernelspec": {
      "name": "python3",
      "display_name": "Python 3"
    },
    "language_info": {
      "name": "python"
    }
  },
  "cells": [
    {
      "cell_type": "code",
      "metadata": {
        "colab": {
          "base_uri": "https://localhost:8080/"
        },
        "id": "OA04S4lsC_U4",
        "outputId": "5edb1cd2-f81b-43fa-84f4-ccf8a23e3e39"
      },
      "source": [
        "import pandas as pd\n",
        "data = {'Stock': ['AAPL', 'IBM', 'MSFT', 'WMT'],\n",
        "       'Price': [144.8, 141.61, 304.21, 139.5],\n",
        "       'PE': [25, 21, 39, 16],  \n",
        "       'TradingExchange': ['NASDAQ', 'NYSE', 'NASDAQ', 'NYSE']}\n",
        "df = pd.DataFrame(data)\n",
        "print(df)"
      ],
      "execution_count": 8,
      "outputs": [
        {
          "output_type": "stream",
          "name": "stdout",
          "text": [
            "  Stock   Price  PE TradingExchange\n",
            "0  AAPL  144.80  25          NASDAQ\n",
            "1   IBM  141.61  21            NYSE\n",
            "2  MSFT  304.21  39          NASDAQ\n",
            "3   WMT  139.50  16            NYSE\n"
          ]
        }
      ]
    },
    {
      "cell_type": "code",
      "metadata": {
        "colab": {
          "base_uri": "https://localhost:8080/"
        },
        "id": "6vYJCPuWDFfR",
        "outputId": "8837a44c-72e0-4d62-df8e-761ab976aa64"
      },
      "source": [
        "df[\"Price_Category\"] = \"Over 150\"\n",
        "df.loc[df[\"Price\"] < 150, \"Price_Category\"] = \"Under 150\"\n",
        "print(df)"
      ],
      "execution_count": 9,
      "outputs": [
        {
          "output_type": "stream",
          "name": "stdout",
          "text": [
            "  Stock   Price  PE TradingExchange Price_Category\n",
            "0  AAPL  144.80  25          NASDAQ      Under 150\n",
            "1   IBM  141.61  21            NYSE      Under 150\n",
            "2  MSFT  304.21  39          NASDAQ       Over 150\n",
            "3   WMT  139.50  16            NYSE      Under 150\n"
          ]
        }
      ]
    },
    {
      "cell_type": "code",
      "metadata": {
        "colab": {
          "base_uri": "https://localhost:8080/"
        },
        "id": "FqTRZzZ9EMP7",
        "outputId": "f32d3b32-ee8b-42d6-8e2d-c8ff000bf502"
      },
      "source": [
        "import numpy as np\n",
        "df[\"Price_Category\"] = \"Over 150\"\n",
        "df['Price_Category'] = np.where(df[\"Price\"] < 150, \"Under 150\", df['Price_Category'])\n",
        "print(df)"
      ],
      "execution_count": 10,
      "outputs": [
        {
          "output_type": "stream",
          "name": "stdout",
          "text": [
            "  Stock   Price  PE TradingExchange Price_Category\n",
            "0  AAPL  144.80  25          NASDAQ      Under 150\n",
            "1   IBM  141.61  21            NYSE      Under 150\n",
            "2  MSFT  304.21  39          NASDAQ       Over 150\n",
            "3   WMT  139.50  16            NYSE      Under 150\n"
          ]
        }
      ]
    },
    {
      "cell_type": "code",
      "metadata": {
        "colab": {
          "base_uri": "https://localhost:8080/"
        },
        "id": "7cV4qHSPEbYd",
        "outputId": "f3ac563d-020b-430e-8834-1266817cbdd6"
      },
      "source": [
        "PE_Conditions = [\n",
        "    (df['PE'] < 20),\n",
        "    (df['PE'] >= 20) & (df['PE'] < 30),\n",
        "    (df['PE'] >= 30)\n",
        "]\n",
        "PE_Categories = ['Less than 20', '20-30', '30+']\n",
        "df['PE_Category'] = np.select(PE_Conditions, PE_Categories)\n",
        "print(df)"
      ],
      "execution_count": 11,
      "outputs": [
        {
          "output_type": "stream",
          "name": "stdout",
          "text": [
            "  Stock   Price  PE TradingExchange Price_Category   PE_Category\n",
            "0  AAPL  144.80  25          NASDAQ      Under 150         20-30\n",
            "1   IBM  141.61  21            NYSE      Under 150         20-30\n",
            "2  MSFT  304.21  39          NASDAQ       Over 150           30+\n",
            "3   WMT  139.50  16            NYSE      Under 150  Less than 20\n"
          ]
        }
      ]
    },
    {
      "cell_type": "code",
      "metadata": {
        "id": "W-vEhPHuEo_b"
      },
      "source": [
        ""
      ],
      "execution_count": null,
      "outputs": []
    }
  ]
}