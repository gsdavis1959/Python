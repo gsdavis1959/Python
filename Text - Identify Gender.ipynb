{
 "cells": [
  {
   "cell_type": "code",
   "execution_count": 1,
   "metadata": {},
   "outputs": [],
   "source": [
    "import random\n",
    "from nltk.corpus import names\n",
    "from nltk import NaiveBayesClassifier\n",
    "from nltk.classify import accuracy as nltk_accuracy"
   ]
  },
  {
   "cell_type": "code",
   "execution_count": 3,
   "metadata": {
    "scrolled": true
   },
   "outputs": [],
   "source": [
    "# Extract features from the input word\n",
    "def gender_features(word, num_letters=2):\n",
    "    return {'feature': word[-num_letters:].lower()}\n",
    "\n",
    "if __name__=='__main__':\n",
    "    # Extract labeled names\n",
    "    labeled_names = ([(name, 'male') for name in names.words('male.txt')] +\n",
    "            [(name, 'female') for name in names.words('female.txt')])\n",
    "\n",
    "    random.seed(7)\n",
    "    random.shuffle(labeled_names)\n",
    "    input_names = ['Leonardo', 'Amy', 'Sam']"
   ]
  },
  {
   "cell_type": "code",
   "execution_count": 4,
   "metadata": {},
   "outputs": [
    {
     "name": "stdout",
     "output_type": "stream",
     "text": [
      "\n",
      "Number of letters: 1\n",
      "\n",
      "Number of letters: 2\n",
      "\n",
      "Number of letters: 3\n",
      "\n",
      "Number of letters: 4\n"
     ]
    }
   ],
   "source": [
    "# Sweeping the parameter space\n",
    "for i in range(1, 5):\n",
    "    print ('\\nNumber of letters:', i)\n",
    "    featuresets = [(gender_features(n, i), gender) for (n, gender) in labeled_names]\n",
    "    train_set, test_set = featuresets[500:], featuresets[:500]\n",
    "    classifier = NaiveBayesClassifier.train(train_set)"
   ]
  },
  {
   "cell_type": "code",
   "execution_count": 5,
   "metadata": {},
   "outputs": [
    {
     "name": "stdout",
     "output_type": "stream",
     "text": [
      "Accuracy ==> 70.8%\n"
     ]
    }
   ],
   "source": [
    "# Print classifier accuracy\n",
    "print ('Accuracy ==>', str(100 * nltk_accuracy(classifier, test_set)) + str('%'))"
   ]
  },
  {
   "cell_type": "code",
   "execution_count": 7,
   "metadata": {},
   "outputs": [
    {
     "name": "stdout",
     "output_type": "stream",
     "text": [
      "Leonardo ==> male\n",
      "Amy ==> female\n",
      "Sam ==> female\n"
     ]
    }
   ],
   "source": [
    "# Predict outputs for new inputs\n",
    "for name in input_names:\n",
    "    print (name, '==>', classifier.classify(gender_features(name, i)))"
   ]
  },
  {
   "cell_type": "code",
   "execution_count": null,
   "metadata": {},
   "outputs": [],
   "source": []
  }
 ],
 "metadata": {
  "kernelspec": {
   "display_name": "Python 3",
   "language": "python",
   "name": "python3"
  },
  "language_info": {
   "codemirror_mode": {
    "name": "ipython",
    "version": 3
   },
   "file_extension": ".py",
   "mimetype": "text/x-python",
   "name": "python",
   "nbconvert_exporter": "python",
   "pygments_lexer": "ipython3",
   "version": "3.6.8"
  }
 },
 "nbformat": 4,
 "nbformat_minor": 2
}
