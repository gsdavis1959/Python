{
  "nbformat": 4,
  "nbformat_minor": 0,
  "metadata": {
    "colab": {
      "name": "JointAndConditionalProbabilities",
      "provenance": []
    },
    "kernelspec": {
      "name": "python3",
      "display_name": "Python 3"
    },
    "language_info": {
      "name": "python"
    }
  },
  "cells": [
    {
      "cell_type": "code",
      "metadata": {
        "colab": {
          "base_uri": "https://localhost:8080/"
        },
        "id": "5mQlBVcN3qtf",
        "outputId": "5738c2f6-329a-4369-de40-e0e1d6dd35d0"
      },
      "source": [
        "# packages\n",
        "import seaborn as sns\n",
        "import pandas as pd\n",
        "import numpy as np\n",
        "\n",
        "# get data\n",
        "peng = sns.load_dataset('penguins', cache=True, data_home=None)\n",
        "print(peng.shape)\n",
        "\n",
        "# clean data to make continous variables categorical\n",
        "cont_cols = list( peng.select_dtypes('float64').columns )\n",
        "\n",
        "# number of levels\n",
        "levels = 2\n",
        "\n",
        "for col in cont_cols:\n",
        "    peng[col] = pd.cut(  peng[col], levels )"
      ],
      "execution_count": 1,
      "outputs": [
        {
          "output_type": "stream",
          "name": "stdout",
          "text": [
            "(344, 7)\n"
          ]
        }
      ]
    },
    {
      "cell_type": "code",
      "metadata": {
        "id": "n4dDOSQ23xWq"
      },
      "source": [
        "# joint probs for only two variables\n",
        "def joint_probs(DF, index, cols ):\n",
        "    all_cols = index + cols\n",
        "    N = DF.shape[0]\n",
        "    \n",
        "    joint_counts = pd.pivot_table( DF[all_cols] , index = index , columns= cols , aggfunc= 'size' ).replace(np.nan,0)\n",
        "    \n",
        "    joint_prob = np.round( joint_counts / N, 3)\n",
        "    \n",
        "    return joint_prob"
      ],
      "execution_count": 2,
      "outputs": []
    },
    {
      "cell_type": "code",
      "metadata": {
        "colab": {
          "base_uri": "https://localhost:8080/"
        },
        "id": "UVIIrHyf33Jv",
        "outputId": "3bbb0768-7acf-421e-d605-a2e14e2b93b8"
      },
      "source": [
        "JP = joint_probs(peng, ['species'], ['island'] )\n",
        "print(JP,'\\n')"
      ],
      "execution_count": 3,
      "outputs": [
        {
          "output_type": "stream",
          "name": "stdout",
          "text": [
            "island     Biscoe  Dream  Torgersen\n",
            "species                            \n",
            "Adelie      0.128  0.163      0.151\n",
            "Chinstrap   0.000  0.198      0.000\n",
            "Gentoo      0.360  0.000      0.000 \n",
            "\n"
          ]
        }
      ]
    },
    {
      "cell_type": "code",
      "metadata": {
        "id": "a79Ptsm24MLs"
      },
      "source": [
        "# conditional probs\n",
        "\n",
        "def cond_prob_dist(joint_probs):\n",
        "    # P(A | B) = P( A and B ) / P(B)\n",
        "    ## https://en.wikipedia.org/wiki/Conditional_probability\n",
        "    \n",
        "    \"\"\"\n",
        "    calculates the conditions prob. distribution where:\n",
        "    joint_probs: is a joint prob distribution as pandas dataframe\n",
        "    A = {index   of joint_probs} = {a1, a2, .. an }\n",
        "    B = {columns of joint_probs} = {b1, b2, .. bn }\n",
        "    \n",
        "    \n",
        "    returns:\n",
        "    CPD = the conditional probability dist P(A|B) as a pandas dataframe\n",
        "    \"\"\"\n",
        "    \n",
        "    CPD = joint_probs.copy()\n",
        "\n",
        "    # column sum\n",
        "    col_totals = joint_probs.sum(axis=0)\n",
        "    \n",
        "    for col in col_totals.index:\n",
        "        CPD[col] =   CPD[col] / col_totals.loc[col]\n",
        "        \n",
        "    # rename columns\n",
        "    CPD.columns = [ f'b{i+1} = {x}' for i,x in enumerate(CPD.columns) ]\n",
        "    CPD.index   = [ f'a{i+1} = {x}' for i,x in enumerate(CPD.index) ]\n",
        "        \n",
        "    return CPD.round(3)"
      ],
      "execution_count": 4,
      "outputs": []
    },
    {
      "cell_type": "code",
      "metadata": {
        "colab": {
          "base_uri": "https://localhost:8080/"
        },
        "id": "jk83K9gR4N2C",
        "outputId": "029f870a-60b8-4431-a0d3-163852ef9e56"
      },
      "source": [
        "print( cond_prob_dist(JP) , '\\n'*2)"
      ],
      "execution_count": 5,
      "outputs": [
        {
          "output_type": "stream",
          "name": "stdout",
          "text": [
            "                b1 = Biscoe  b2 = Dream  b3 = Torgersen\n",
            "a1 = Adelie           0.262       0.452             1.0\n",
            "a2 = Chinstrap        0.000       0.548             0.0\n",
            "a3 = Gentoo           0.738       0.000             0.0 \n",
            "\n",
            "\n"
          ]
        }
      ]
    },
    {
      "cell_type": "code",
      "metadata": {
        "colab": {
          "base_uri": "https://localhost:8080/"
        },
        "id": "DLYm17UP4nom",
        "outputId": "c26a4a14-1d27-4d10-b926-c1c010bedf6d"
      },
      "source": [
        "print( cond_prob_dist(JP.T).T  )"
      ],
      "execution_count": 6,
      "outputs": [
        {
          "output_type": "stream",
          "name": "stdout",
          "text": [
            "                a1 = Biscoe  a2 = Dream  a3 = Torgersen\n",
            "b1 = Adelie            0.29       0.369           0.342\n",
            "b2 = Chinstrap         0.00       1.000           0.000\n",
            "b3 = Gentoo            1.00       0.000           0.000\n"
          ]
        }
      ]
    }
  ]
}