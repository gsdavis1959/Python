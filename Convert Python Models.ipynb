{
 "cells": [
  {
   "cell_type": "code",
   "execution_count": 1,
   "metadata": {},
   "outputs": [
    {
     "name": "stdout",
     "output_type": "stream",
     "text": [
      "Collecting m2cgen\n",
      "  Downloading https://files.pythonhosted.org/packages/d4/5c/b891849528f948cc985bace0799a5c227af886e19232a03cf360d8d9622e/m2cgen-0.9.0-py3-none-any.whl (73kB)\n",
      "Requirement already satisfied: numpy in c:\\users\\gsdav\\anaconda3\\envs\\tensorflow\\lib\\site-packages (from m2cgen) (1.17.3)\n",
      "Installing collected packages: m2cgen\n",
      "Successfully installed m2cgen-0.9.0\n"
     ]
    }
   ],
   "source": [
    "!pip install m2cgen"
   ]
  },
  {
   "cell_type": "code",
   "execution_count": 2,
   "metadata": {},
   "outputs": [],
   "source": [
    "import pandas as pd\n",
    "import numpy as np                     \n",
    "from sklearn.preprocessing import StandardScaler, LabelEncoder\n",
    "from sklearn.model_selection import train_test_split \n",
    "from sklearn.linear_model import LogisticRegression\n",
    "import m2cgen as m2c \n",
    "import warnings                        # To ignore any warnings\n",
    "warnings.filterwarnings(\"ignore\")"
   ]
  },
  {
   "cell_type": "code",
   "execution_count": 3,
   "metadata": {},
   "outputs": [],
   "source": [
    "data = pd.read_csv('https://raw.githubusercontent.com/Davisy/Convert-Trained-ML-Models-To-Native-Code/74f6b539dd1493b6bf139494079ccb4413e01bf1/data/loans_data.csv')"
   ]
  },
  {
   "cell_type": "code",
   "execution_count": 4,
   "metadata": {},
   "outputs": [
    {
     "data": {
      "text/plain": [
       "['Loan_ID',\n",
       " 'Gender',\n",
       " 'Married',\n",
       " 'Dependents',\n",
       " 'Education',\n",
       " 'Self_Employed',\n",
       " 'ApplicantIncome',\n",
       " 'CoapplicantIncome',\n",
       " 'LoanAmount',\n",
       " 'Loan_Amount_Term',\n",
       " 'Credit_History',\n",
       " 'Property_Area',\n",
       " 'Loan_Status']"
      ]
     },
     "execution_count": 4,
     "metadata": {},
     "output_type": "execute_result"
    }
   ],
   "source": [
    "list(data.columns)"
   ]
  },
  {
   "cell_type": "code",
   "execution_count": 5,
   "metadata": {},
   "outputs": [
    {
     "data": {
      "text/html": [
       "<div>\n",
       "<style scoped>\n",
       "    .dataframe tbody tr th:only-of-type {\n",
       "        vertical-align: middle;\n",
       "    }\n",
       "\n",
       "    .dataframe tbody tr th {\n",
       "        vertical-align: top;\n",
       "    }\n",
       "\n",
       "    .dataframe thead th {\n",
       "        text-align: right;\n",
       "    }\n",
       "</style>\n",
       "<table border=\"1\" class=\"dataframe\">\n",
       "  <thead>\n",
       "    <tr style=\"text-align: right;\">\n",
       "      <th></th>\n",
       "      <th>Loan_ID</th>\n",
       "      <th>Gender</th>\n",
       "      <th>Married</th>\n",
       "      <th>Dependents</th>\n",
       "      <th>Education</th>\n",
       "      <th>Self_Employed</th>\n",
       "      <th>ApplicantIncome</th>\n",
       "      <th>CoapplicantIncome</th>\n",
       "      <th>LoanAmount</th>\n",
       "      <th>Loan_Amount_Term</th>\n",
       "      <th>Credit_History</th>\n",
       "      <th>Property_Area</th>\n",
       "      <th>Loan_Status</th>\n",
       "    </tr>\n",
       "  </thead>\n",
       "  <tbody>\n",
       "    <tr>\n",
       "      <th>0</th>\n",
       "      <td>LP001002</td>\n",
       "      <td>Male</td>\n",
       "      <td>No</td>\n",
       "      <td>0</td>\n",
       "      <td>Graduate</td>\n",
       "      <td>No</td>\n",
       "      <td>5849</td>\n",
       "      <td>0.0</td>\n",
       "      <td>NaN</td>\n",
       "      <td>360.0</td>\n",
       "      <td>1.0</td>\n",
       "      <td>Urban</td>\n",
       "      <td>Y</td>\n",
       "    </tr>\n",
       "    <tr>\n",
       "      <th>1</th>\n",
       "      <td>LP001003</td>\n",
       "      <td>Male</td>\n",
       "      <td>Yes</td>\n",
       "      <td>1</td>\n",
       "      <td>Graduate</td>\n",
       "      <td>No</td>\n",
       "      <td>4583</td>\n",
       "      <td>1508.0</td>\n",
       "      <td>128.0</td>\n",
       "      <td>360.0</td>\n",
       "      <td>1.0</td>\n",
       "      <td>Rural</td>\n",
       "      <td>N</td>\n",
       "    </tr>\n",
       "    <tr>\n",
       "      <th>2</th>\n",
       "      <td>LP001005</td>\n",
       "      <td>Male</td>\n",
       "      <td>Yes</td>\n",
       "      <td>0</td>\n",
       "      <td>Graduate</td>\n",
       "      <td>Yes</td>\n",
       "      <td>3000</td>\n",
       "      <td>0.0</td>\n",
       "      <td>66.0</td>\n",
       "      <td>360.0</td>\n",
       "      <td>1.0</td>\n",
       "      <td>Urban</td>\n",
       "      <td>Y</td>\n",
       "    </tr>\n",
       "    <tr>\n",
       "      <th>3</th>\n",
       "      <td>LP001006</td>\n",
       "      <td>Male</td>\n",
       "      <td>Yes</td>\n",
       "      <td>0</td>\n",
       "      <td>Not Graduate</td>\n",
       "      <td>No</td>\n",
       "      <td>2583</td>\n",
       "      <td>2358.0</td>\n",
       "      <td>120.0</td>\n",
       "      <td>360.0</td>\n",
       "      <td>1.0</td>\n",
       "      <td>Urban</td>\n",
       "      <td>Y</td>\n",
       "    </tr>\n",
       "    <tr>\n",
       "      <th>4</th>\n",
       "      <td>LP001008</td>\n",
       "      <td>Male</td>\n",
       "      <td>No</td>\n",
       "      <td>0</td>\n",
       "      <td>Graduate</td>\n",
       "      <td>No</td>\n",
       "      <td>6000</td>\n",
       "      <td>0.0</td>\n",
       "      <td>141.0</td>\n",
       "      <td>360.0</td>\n",
       "      <td>1.0</td>\n",
       "      <td>Urban</td>\n",
       "      <td>Y</td>\n",
       "    </tr>\n",
       "  </tbody>\n",
       "</table>\n",
       "</div>"
      ],
      "text/plain": [
       "    Loan_ID Gender Married Dependents     Education Self_Employed  \\\n",
       "0  LP001002   Male      No          0      Graduate            No   \n",
       "1  LP001003   Male     Yes          1      Graduate            No   \n",
       "2  LP001005   Male     Yes          0      Graduate           Yes   \n",
       "3  LP001006   Male     Yes          0  Not Graduate            No   \n",
       "4  LP001008   Male      No          0      Graduate            No   \n",
       "\n",
       "   ApplicantIncome  CoapplicantIncome  LoanAmount  Loan_Amount_Term  \\\n",
       "0             5849                0.0         NaN             360.0   \n",
       "1             4583             1508.0       128.0             360.0   \n",
       "2             3000                0.0        66.0             360.0   \n",
       "3             2583             2358.0       120.0             360.0   \n",
       "4             6000                0.0       141.0             360.0   \n",
       "\n",
       "   Credit_History Property_Area Loan_Status  \n",
       "0             1.0         Urban           Y  \n",
       "1             1.0         Rural           N  \n",
       "2             1.0         Urban           Y  \n",
       "3             1.0         Urban           Y  \n",
       "4             1.0         Urban           Y  "
      ]
     },
     "execution_count": 5,
     "metadata": {},
     "output_type": "execute_result"
    }
   ],
   "source": [
    "#show the first 5 rows of the dataset\n",
    "data.head() "
   ]
  },
  {
   "cell_type": "code",
   "execution_count": 6,
   "metadata": {},
   "outputs": [],
   "source": [
    "# preprocessing the dataset.\n",
    "\n",
    "def preprocessing(data):\n",
    "\n",
    "    # replace with numerical values\n",
    "    data['Dependents'].replace('3+', 3,inplace=True)\n",
    "    data['Loan_Status'].replace('N', 0,inplace=True)\n",
    "    data['Loan_Status'].replace('Y', 1,inplace=True)\n",
    "\n",
    "    # handle missing data \n",
    "    data['Gender'].fillna(data['Gender'].mode()[0], inplace=True)\n",
    "    data['Married'].fillna(data['Married'].mode()[0], inplace=True)\n",
    "    data['Dependents'].fillna(data['Dependents'].mode()[0], inplace=True)\n",
    "    data['Self_Employed'].fillna(data['Self_Employed'].mode()[0], inplace=True)\n",
    "    data['Credit_History'].fillna(data['Credit_History'].mode()[0], inplace=True)\n",
    "    data['Loan_Amount_Term'].fillna(data['Loan_Amount_Term'].mode()[0], inplace=True)\n",
    "    data['LoanAmount'].fillna(data['LoanAmount'].median(), inplace=True)\n",
    "\n",
    "    # drop ID column\n",
    "    data = data.drop('Loan_ID',axis=1)\n",
    "    \n",
    "    #split features and target \n",
    "    X = data.drop('Loan_Status',axis=1)\n",
    "    y = data.Loan_Status.values\n",
    "\n",
    "    #scale the  features \n",
    "    X  = pd.get_dummies(X,columns=[\"Gender\",\"Married\",\"Education\",\"Self_Employed\",\"Property_Area\"])\n",
    "    X = StandardScaler().fit_transform(X)\n",
    "    \n",
    "\n",
    "    return X,y "
   ]
  },
  {
   "cell_type": "code",
   "execution_count": 7,
   "metadata": {},
   "outputs": [],
   "source": [
    "X,y = preprocessing(data)"
   ]
  },
  {
   "cell_type": "code",
   "execution_count": 8,
   "metadata": {},
   "outputs": [],
   "source": [
    "# split into train and test set \n",
    "X_train, X_test, y_train, y_test = train_test_split(X, y, test_size=0.1)"
   ]
  },
  {
   "cell_type": "code",
   "execution_count": 9,
   "metadata": {},
   "outputs": [
    {
     "data": {
      "text/plain": [
       "LogisticRegression(C=1.0, class_weight=None, dual=False, fit_intercept=True,\n",
       "                   intercept_scaling=1, l1_ratio=None, max_iter=100,\n",
       "                   multi_class='auto', n_jobs=None, penalty='l2',\n",
       "                   random_state=None, solver='lbfgs', tol=0.0001, verbose=0,\n",
       "                   warm_start=False)"
      ]
     },
     "execution_count": 9,
     "metadata": {},
     "output_type": "execute_result"
    }
   ],
   "source": [
    "# create and train the classifier \n",
    "\n",
    "classifier = LogisticRegression()\n",
    "\n",
    "classifier.fit(X_train,y_train)"
   ]
  },
  {
   "cell_type": "code",
   "execution_count": 10,
   "metadata": {},
   "outputs": [],
   "source": [
    "# convert model to pure python code  \n",
    "model_to_python = m2c.export_to_python(classifier)  "
   ]
  },
  {
   "cell_type": "code",
   "execution_count": 11,
   "metadata": {},
   "outputs": [],
   "source": [
    "#pure python code \n",
    "\n",
    "def score(input):\n",
    "    \n",
    "    return (((((((((((((((((0.7929123964945446) + ((input[0]) * (0.07801862594632314))) + ((input[1]) * (-0.014853900985478468))) + ((input[2]) * (-0.15783041201914427))) + ((input[3]) * (-0.05222073553791883))) + ((input[4]) * (-0.0787403404504791))) + ((input[5]) * (1.3714807410150505))) + ((input[6]) * (0.015077765348160292))) + ((input[7]) * (-0.015077765348160353))) + ((input[8]) * (-0.12161041350915254))) + ((input[9]) * (0.12161041350915253))) + ((input[10]) * (0.09387440269562626))) + ((input[11]) * (-0.09387440269562626))) + ((input[12]) * (-0.0047109053878701835))) + ((input[13]) * (0.004710905387870008))) + ((input[14]) * (-0.14569247529698154))) + ((input[15]) * (0.19858601990225683))) + ((input[16]) * (-0.06417592734444703))"
   ]
  },
  {
   "cell_type": "code",
   "execution_count": 12,
   "metadata": {},
   "outputs": [
    {
     "name": "stdout",
     "output_type": "stream",
     "text": [
      "[ 1.24474546 -0.34902304  0.06797654 -0.7705073   0.2732313   0.41173269\n",
      " -0.47234264  0.47234264 -0.72881553  0.72881553 -1.89264089  1.89264089\n",
      "  0.39260074 -0.39260074 -0.64147818 -0.7820157   1.42814704]\n"
     ]
    }
   ],
   "source": [
    "test_data = X_test[6]\n",
    "print(test_data)"
   ]
  },
  {
   "cell_type": "code",
   "execution_count": 13,
   "metadata": {},
   "outputs": [
    {
     "name": "stdout",
     "output_type": "stream",
     "text": [
      "prediction result: [1]\n"
     ]
    }
   ],
   "source": [
    "pred = classifier.predict(test_data.reshape(1,-1))  \n",
    "print(\"prediction result: {}\".format(pred))"
   ]
  },
  {
   "cell_type": "code",
   "execution_count": 14,
   "metadata": {},
   "outputs": [
    {
     "name": "stdout",
     "output_type": "stream",
     "text": [
      "prediction result: 1\n"
     ]
    }
   ],
   "source": [
    "# test prediction in pure python code \n",
    "input = [ 1.24474546,  1.9817189 , -0.55448733,  3.02536229,  0.2732313 ,\n",
    "        0.41173269, -0.47234264,  0.47234264, -0.72881553,  0.72881553,\n",
    "        0.52836225, -0.52836225, -2.54711697,  2.54711697,  1.55889948,\n",
    "       -0.7820157 , -0.70020801]\n",
    "\n",
    "pred = score(input) \n",
    "print(\"prediction result: {}\".format(int(pred)))"
   ]
  },
  {
   "cell_type": "code",
   "execution_count": 15,
   "metadata": {},
   "outputs": [],
   "source": [
    "# convert model to pure PHP code  \n",
    "model_to_php = m2c.export_to_php(classifier)  "
   ]
  },
  {
   "cell_type": "code",
   "execution_count": 19,
   "metadata": {},
   "outputs": [
    {
     "name": "stdout",
     "output_type": "stream",
     "text": [
      "<?php\n",
      "function score(array $input) {\n",
      "    return (((((((((((((((((0.8346106662696756) + (($input[0]) * (0.06075040055935869))) + (($input[1]) * (0.05467749358694019))) + (($input[2]) * (-0.18777807373431765))) + (($input[3]) * (-0.18202624707641105))) + (($input[4]) * (-0.09599797902649951))) + (($input[5]) * (1.3563115571112725))) + (($input[6]) * (-0.0036551030501364066))) + (($input[7]) * (0.0036551030501361763))) + (($input[8]) * (-0.14600912963966495))) + (($input[9]) * (0.14600912963966517))) + (($input[10]) * (0.10907520355952062))) + (($input[11]) * (-0.10907520355952062))) + (($input[12]) * (0.024783363511021218))) + (($input[13]) * (-0.024783363511021412))) + (($input[14]) * (-0.14921317328932557))) + (($input[15]) * (0.22868775606416253))) + (($input[16]) * (-0.09185953643225361));\n",
      "}\n",
      "\n"
     ]
    }
   ],
   "source": [
    "print(model_to_php)"
   ]
  },
  {
   "cell_type": "code",
   "execution_count": null,
   "metadata": {},
   "outputs": [],
   "source": [
    "# test prediction in pure PHP code\n",
    "$input = [1.24474546, 1.9817189, -0.55448733, 3.02536229, 0.2732313,\n",
    "    0.41173269, -0.47234264, 0.47234264, -0.72881553, 0.72881553,\n",
    "    0.52836225, -0.52836225, -2.54711697, 2.54711697, 1.55889948,\n",
    "    -0.7820157, -0.70020801];\n",
    "\n",
    "// perform predition with pure php code\n",
    "$pred = score($input);\n",
    "\n",
    "\n",
    "echo \"Predicton result: \". round($pred);"
   ]
  },
  {
   "cell_type": "code",
   "execution_count": 17,
   "metadata": {},
   "outputs": [],
   "source": [
    "# convert model to pure Javascript code  \n",
    "model_to_javascript = m2c.export_to_javascript(classifier)  "
   ]
  },
  {
   "cell_type": "code",
   "execution_count": 18,
   "metadata": {},
   "outputs": [
    {
     "name": "stdout",
     "output_type": "stream",
     "text": [
      "function score(input) {\n",
      "    return (((((((((((((((((0.8346106662696756) + ((input[0]) * (0.06075040055935869))) + ((input[1]) * (0.05467749358694019))) + ((input[2]) * (-0.18777807373431765))) + ((input[3]) * (-0.18202624707641105))) + ((input[4]) * (-0.09599797902649951))) + ((input[5]) * (1.3563115571112725))) + ((input[6]) * (-0.0036551030501364066))) + ((input[7]) * (0.0036551030501361763))) + ((input[8]) * (-0.14600912963966495))) + ((input[9]) * (0.14600912963966517))) + ((input[10]) * (0.10907520355952062))) + ((input[11]) * (-0.10907520355952062))) + ((input[12]) * (0.024783363511021218))) + ((input[13]) * (-0.024783363511021412))) + ((input[14]) * (-0.14921317328932557))) + ((input[15]) * (0.22868775606416253))) + ((input[16]) * (-0.09185953643225361));\n",
      "}\n",
      "\n"
     ]
    }
   ],
   "source": [
    "print(model_to_javascript)"
   ]
  },
  {
   "cell_type": "code",
   "execution_count": 20,
   "metadata": {},
   "outputs": [
    {
     "ename": "SyntaxError",
     "evalue": "invalid syntax (<ipython-input-20-1a5351bb1147>, line 1)",
     "output_type": "error",
     "traceback": [
      "\u001b[1;36m  File \u001b[1;32m\"<ipython-input-20-1a5351bb1147>\"\u001b[1;36m, line \u001b[1;32m1\u001b[0m\n\u001b[1;33m    // perform predition with pure Javascript code\u001b[0m\n\u001b[1;37m     ^\u001b[0m\n\u001b[1;31mSyntaxError\u001b[0m\u001b[1;31m:\u001b[0m invalid syntax\n"
     ]
    }
   ],
   "source": [
    "// perform predition with pure Javascript code\n",
    "let input =  [1.24474546, 1.9817189, -0.55448733, 3.02536229, 0.2732313,\n",
    "    0.41173269, -0.47234264, 0.47234264, -0.72881553, 0.72881553,\n",
    "    0.52836225, -0.52836225, -2.54711697, 2.54711697, 1.55889948,\n",
    "    -0.7820157, -0.70020801];\n",
    "\n",
    "let pred = score(input);\n",
    "\n",
    "console.log(\"Prediction results:\",Math.round(pred));"
   ]
  },
  {
   "cell_type": "code",
   "execution_count": 22,
   "metadata": {},
   "outputs": [],
   "source": [
    "code = m2c.export_to_javascript(classifier, function_name = 'pred')"
   ]
  },
  {
   "cell_type": "code",
   "execution_count": 23,
   "metadata": {},
   "outputs": [
    {
     "name": "stdout",
     "output_type": "stream",
     "text": [
      "function pred(input) {\n",
      "    return (((((((((((((((((0.8346106662696756) + ((input[0]) * (0.06075040055935869))) + ((input[1]) * (0.05467749358694019))) + ((input[2]) * (-0.18777807373431765))) + ((input[3]) * (-0.18202624707641105))) + ((input[4]) * (-0.09599797902649951))) + ((input[5]) * (1.3563115571112725))) + ((input[6]) * (-0.0036551030501364066))) + ((input[7]) * (0.0036551030501361763))) + ((input[8]) * (-0.14600912963966495))) + ((input[9]) * (0.14600912963966517))) + ((input[10]) * (0.10907520355952062))) + ((input[11]) * (-0.10907520355952062))) + ((input[12]) * (0.024783363511021218))) + ((input[13]) * (-0.024783363511021412))) + ((input[14]) * (-0.14921317328932557))) + ((input[15]) * (0.22868775606416253))) + ((input[16]) * (-0.09185953643225361));\n",
      "}\n",
      "\n"
     ]
    }
   ],
   "source": [
    "print(code)"
   ]
  },
  {
   "cell_type": "code",
   "execution_count": 24,
   "metadata": {},
   "outputs": [],
   "source": [
    "with open('./model.js','w') as f:\n",
    "    f.write(code)"
   ]
  }
 ],
 "metadata": {
  "kernelspec": {
   "display_name": "Python 3",
   "language": "python",
   "name": "python3"
  },
  "language_info": {
   "codemirror_mode": {
    "name": "ipython",
    "version": 3
   },
   "file_extension": ".py",
   "mimetype": "text/x-python",
   "name": "python",
   "nbconvert_exporter": "python",
   "pygments_lexer": "ipython3",
   "version": "3.6.8"
  }
 },
 "nbformat": 4,
 "nbformat_minor": 2
}
