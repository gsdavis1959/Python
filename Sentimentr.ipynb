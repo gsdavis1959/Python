{
  "nbformat": 4,
  "nbformat_minor": 0,
  "metadata": {
    "colab": {
      "name": "Sentimentr.ipynb",
      "provenance": []
    },
    "kernelspec": {
      "name": "python3",
      "display_name": "Python 3"
    },
    "language_info": {
      "name": "python"
    }
  },
  "cells": [
    {
      "cell_type": "code",
      "metadata": {
        "colab": {
          "base_uri": "https://localhost:8080/"
        },
        "id": "J7y8w5Td59mX",
        "outputId": "74a2a3ef-6b70-4dcc-a9f8-11f344fcc273"
      },
      "source": [
        "!pip install sentimentr"
      ],
      "execution_count": 1,
      "outputs": [
        {
          "output_type": "stream",
          "name": "stdout",
          "text": [
            "Collecting sentimentr\n",
            "  Downloading sentimentr-2.0.tar.gz (72 kB)\n",
            "\u001b[K     |████████████████████████████████| 72 kB 689 kB/s \n",
            "\u001b[?25hRequirement already satisfied: nltk in /usr/local/lib/python3.7/dist-packages (from sentimentr) (3.2.5)\n",
            "Requirement already satisfied: six in /usr/local/lib/python3.7/dist-packages (from nltk->sentimentr) (1.15.0)\n",
            "Building wheels for collected packages: sentimentr\n",
            "  Building wheel for sentimentr (setup.py) ... \u001b[?25l\u001b[?25hdone\n",
            "  Created wheel for sentimentr: filename=sentimentr-2.0-py3-none-any.whl size=73427 sha256=aa65f6591880879cc39a323873056f28441fd45f19839fdb426f2f5ec302732f\n",
            "  Stored in directory: /root/.cache/pip/wheels/a2/54/b5/1f4ba4b5b0feee0488d60ca20bca677514a3afc791c9ef3197\n",
            "Successfully built sentimentr\n",
            "Installing collected packages: sentimentr\n",
            "Successfully installed sentimentr-2.0\n"
          ]
        }
      ]
    },
    {
      "cell_type": "code",
      "metadata": {
        "colab": {
          "base_uri": "https://localhost:8080/"
        },
        "id": "PHh3tWw46PLh",
        "outputId": "ed0c8386-2d0d-4016-a146-108f87ce6d5f"
      },
      "source": [
        "import nltk\n",
        "nltk.download('punkt')\n",
        "nltk.download('wordnet')"
      ],
      "execution_count": 5,
      "outputs": [
        {
          "output_type": "stream",
          "name": "stdout",
          "text": [
            "[nltk_data] Downloading package punkt to /root/nltk_data...\n",
            "[nltk_data]   Package punkt is already up-to-date!\n",
            "[nltk_data] Downloading package wordnet to /root/nltk_data...\n",
            "[nltk_data]   Unzipping corpora/wordnet.zip.\n"
          ]
        },
        {
          "output_type": "execute_result",
          "data": {
            "text/plain": [
              "True"
            ]
          },
          "metadata": {},
          "execution_count": 5
        }
      ]
    },
    {
      "cell_type": "code",
      "metadata": {
        "colab": {
          "base_uri": "https://localhost:8080/"
        },
        "id": "qpB3zKrj6Hjx",
        "outputId": "0da07566-9935-404c-aea4-35b8e7b0d407"
      },
      "source": [
        "from sentimentr.sentimentr import Sentiment\n",
        "\n",
        "s = Sentiment\n",
        "text = \"The movie was totally awesome!! I loveeee it.\"\n",
        "print(s.get_polarity_score(text))"
      ],
      "execution_count": 6,
      "outputs": [
        {
          "output_type": "stream",
          "name": "stdout",
          "text": [
            "0.3633\n"
          ]
        }
      ]
    },
    {
      "cell_type": "code",
      "metadata": {
        "colab": {
          "base_uri": "https://localhost:8080/"
        },
        "id": "Lb3WwXOi6bOQ",
        "outputId": "9e1b46e1-7332-4e06-aef4-99f453151d3b"
      },
      "source": [
        "s = Sentiment\n",
        "text = \"The movie was totally awesome!! I loveeee it.\"\n",
        "print(s.get_polarity_score(text, subjectivity=True))"
      ],
      "execution_count": 7,
      "outputs": [
        {
          "output_type": "stream",
          "name": "stdout",
          "text": [
            "{'polarity': 0.3633, 'pos portion': 0.5, 'neg portion': 0.0, 'neutral portion': 0.5}\n"
          ]
        }
      ]
    },
    {
      "cell_type": "code",
      "metadata": {
        "colab": {
          "base_uri": "https://localhost:8080/"
        },
        "id": "D8FZCUAb6qzG",
        "outputId": "67eb7918-09f4-487a-945d-d2c35c475dce"
      },
      "source": [
        "s = Sentiment\n",
        "\n",
        "text_docs = [\"okay movie\", # weakly positive\n",
        "             \"good movie\", # strong positive\n",
        "             \"great movie\", # stronger\n",
        "             \"amazing movie\", # even stronger\n",
        "             \"stellar movie\", # strongest\n",
        "             \"bad movie\", # weakly negative\n",
        "             \"poor movie\", # strong negative\n",
        "             \"boring movie\", # stronger\n",
        "             \"disgusting movie\", # even stronger\n",
        "             \"horrible movie\"] # strongest\n",
        "\n",
        "for text_doc in text_docs:\n",
        "    print(text_doc)\n",
        "    print(s.get_polarity_score(text_doc, subjectivity=True))    "
      ],
      "execution_count": 11,
      "outputs": [
        {
          "output_type": "stream",
          "name": "stdout",
          "text": [
            "okay movie\n",
            "{'polarity': 0.01, 'pos portion': 0.5, 'neg portion': 0.0, 'neutral portion': 0.5}\n",
            "good movie\n",
            "{'polarity': 0.0499, 'pos portion': 0.5, 'neg portion': 0.0, 'neutral portion': 0.5}\n",
            "great movie\n",
            "{'polarity': 0.0698, 'pos portion': 0.5, 'neg portion': 0.0, 'neutral portion': 0.5}\n",
            "amazing movie\n",
            "{'polarity': 0.0896, 'pos portion': 0.5, 'neg portion': 0.0, 'neutral portion': 0.5}\n",
            "stellar movie\n",
            "{'polarity': 0.0995, 'pos portion': 0.5, 'neg portion': 0.0, 'neutral portion': 0.5}\n",
            "bad movie\n",
            "{'polarity': -0.0499, 'pos portion': 0.0, 'neg portion': 0.5, 'neutral portion': 0.5}\n",
            "poor movie\n",
            "{'polarity': -0.0698, 'pos portion': 0.0, 'neg portion': 0.5, 'neutral portion': 0.5}\n",
            "boring movie\n",
            "{'polarity': -0.0797, 'pos portion': 0.0, 'neg portion': 0.5, 'neutral portion': 0.5}\n",
            "disgusting movie\n",
            "{'polarity': -0.0896, 'pos portion': 0.0, 'neg portion': 0.5, 'neutral portion': 0.5}\n",
            "horrible movie\n",
            "{'polarity': -0.0995, 'pos portion': 0.0, 'neg portion': 0.5, 'neutral portion': 0.5}\n"
          ]
        }
      ]
    }
  ]
}