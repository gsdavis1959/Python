{
  "nbformat": 4,
  "nbformat_minor": 0,
  "metadata": {
    "colab": {
      "name": "Sentimentr.ipynb",
      "provenance": [],
      "collapsed_sections": []
    },
    "kernelspec": {
      "name": "python3",
      "display_name": "Python 3"
    },
    "language_info": {
      "name": "python"
    }
  },
  "cells": [
    {
      "cell_type": "code",
      "metadata": {
        "colab": {
          "base_uri": "https://localhost:8080/"
        },
        "id": "J7y8w5Td59mX",
        "outputId": "74a2a3ef-6b70-4dcc-a9f8-11f344fcc273"
      },
      "source": [
        "!pip install sentimentr"
      ],
      "execution_count": null,
      "outputs": [
        {
          "output_type": "stream",
          "name": "stdout",
          "text": [
            "Collecting sentimentr\n",
            "  Downloading sentimentr-2.0.tar.gz (72 kB)\n",
            "\u001b[K     |████████████████████████████████| 72 kB 689 kB/s \n",
            "\u001b[?25hRequirement already satisfied: nltk in /usr/local/lib/python3.7/dist-packages (from sentimentr) (3.2.5)\n",
            "Requirement already satisfied: six in /usr/local/lib/python3.7/dist-packages (from nltk->sentimentr) (1.15.0)\n",
            "Building wheels for collected packages: sentimentr\n",
            "  Building wheel for sentimentr (setup.py) ... \u001b[?25l\u001b[?25hdone\n",
            "  Created wheel for sentimentr: filename=sentimentr-2.0-py3-none-any.whl size=73427 sha256=aa65f6591880879cc39a323873056f28441fd45f19839fdb426f2f5ec302732f\n",
            "  Stored in directory: /root/.cache/pip/wheels/a2/54/b5/1f4ba4b5b0feee0488d60ca20bca677514a3afc791c9ef3197\n",
            "Successfully built sentimentr\n",
            "Installing collected packages: sentimentr\n",
            "Successfully installed sentimentr-2.0\n"
          ]
        }
      ]
    },
    {
      "cell_type": "code",
      "metadata": {
        "colab": {
          "base_uri": "https://localhost:8080/"
        },
        "id": "PHh3tWw46PLh",
        "outputId": "ed0c8386-2d0d-4016-a146-108f87ce6d5f"
      },
      "source": [
        "import nltk\n",
        "nltk.download('punkt')\n",
        "nltk.download('wordnet')"
      ],
      "execution_count": null,
      "outputs": [
        {
          "output_type": "stream",
          "name": "stdout",
          "text": [
            "[nltk_data] Downloading package punkt to /root/nltk_data...\n",
            "[nltk_data]   Package punkt is already up-to-date!\n",
            "[nltk_data] Downloading package wordnet to /root/nltk_data...\n",
            "[nltk_data]   Unzipping corpora/wordnet.zip.\n"
          ]
        },
        {
          "output_type": "execute_result",
          "data": {
            "text/plain": [
              "True"
            ]
          },
          "metadata": {},
          "execution_count": 5
        }
      ]
    },
    {
      "cell_type": "code",
      "metadata": {
        "colab": {
          "base_uri": "https://localhost:8080/"
        },
        "id": "qpB3zKrj6Hjx",
        "outputId": "0da07566-9935-404c-aea4-35b8e7b0d407"
      },
      "source": [
        "from sentimentr.sentimentr import Sentiment\n",
        "\n",
        "s = Sentiment\n",
        "text = \"The movie was totally awesome!! I loveeee it.\"\n",
        "print(s.get_polarity_score(text))"
      ],
      "execution_count": null,
      "outputs": [
        {
          "output_type": "stream",
          "name": "stdout",
          "text": [
            "0.3633\n"
          ]
        }
      ]
    },
    {
      "cell_type": "code",
      "metadata": {
        "colab": {
          "base_uri": "https://localhost:8080/"
        },
        "id": "Lb3WwXOi6bOQ",
        "outputId": "9e1b46e1-7332-4e06-aef4-99f453151d3b"
      },
      "source": [
        "s = Sentiment\n",
        "text = \"The movie was totally awesome!! I loveeee it.\"\n",
        "print(s.get_polarity_score(text, subjectivity=True))"
      ],
      "execution_count": null,
      "outputs": [
        {
          "output_type": "stream",
          "name": "stdout",
          "text": [
            "{'polarity': 0.3633, 'pos portion': 0.5, 'neg portion': 0.0, 'neutral portion': 0.5}\n"
          ]
        }
      ]
    },
    {
      "cell_type": "code",
      "metadata": {
        "colab": {
          "base_uri": "https://localhost:8080/"
        },
        "id": "D8FZCUAb6qzG",
        "outputId": "67eb7918-09f4-487a-945d-d2c35c475dce"
      },
      "source": [
        "s = Sentiment\n",
        "\n",
        "text_docs = [\"okay movie\", # weakly positive\n",
        "             \"good movie\", # strong positive\n",
        "             \"great movie\", # stronger\n",
        "             \"amazing movie\", # even stronger\n",
        "             \"stellar movie\", # strongest\n",
        "             \"bad movie\", # weakly negative\n",
        "             \"poor movie\", # strong negative\n",
        "             \"boring movie\", # stronger\n",
        "             \"disgusting movie\", # even stronger\n",
        "             \"horrible movie\"] # strongest\n",
        "\n",
        "for text_doc in text_docs:\n",
        "    print(text_doc)\n",
        "    print(s.get_polarity_score(text_doc, subjectivity=True))    "
      ],
      "execution_count": null,
      "outputs": [
        {
          "output_type": "stream",
          "name": "stdout",
          "text": [
            "okay movie\n",
            "{'polarity': 0.01, 'pos portion': 0.5, 'neg portion': 0.0, 'neutral portion': 0.5}\n",
            "good movie\n",
            "{'polarity': 0.0499, 'pos portion': 0.5, 'neg portion': 0.0, 'neutral portion': 0.5}\n",
            "great movie\n",
            "{'polarity': 0.0698, 'pos portion': 0.5, 'neg portion': 0.0, 'neutral portion': 0.5}\n",
            "amazing movie\n",
            "{'polarity': 0.0896, 'pos portion': 0.5, 'neg portion': 0.0, 'neutral portion': 0.5}\n",
            "stellar movie\n",
            "{'polarity': 0.0995, 'pos portion': 0.5, 'neg portion': 0.0, 'neutral portion': 0.5}\n",
            "bad movie\n",
            "{'polarity': -0.0499, 'pos portion': 0.0, 'neg portion': 0.5, 'neutral portion': 0.5}\n",
            "poor movie\n",
            "{'polarity': -0.0698, 'pos portion': 0.0, 'neg portion': 0.5, 'neutral portion': 0.5}\n",
            "boring movie\n",
            "{'polarity': -0.0797, 'pos portion': 0.0, 'neg portion': 0.5, 'neutral portion': 0.5}\n",
            "disgusting movie\n",
            "{'polarity': -0.0896, 'pos portion': 0.0, 'neg portion': 0.5, 'neutral portion': 0.5}\n",
            "horrible movie\n",
            "{'polarity': -0.0995, 'pos portion': 0.0, 'neg portion': 0.5, 'neutral portion': 0.5}\n"
          ]
        }
      ]
    },
    {
      "cell_type": "code",
      "metadata": {
        "colab": {
          "base_uri": "https://localhost:8080/"
        },
        "id": "L4S8GzCQRuo2",
        "outputId": "d6396d98-6f57-4187-ed00-7909886acce4"
      },
      "source": [
        "!pip install NRCLex"
      ],
      "execution_count": 1,
      "outputs": [
        {
          "output_type": "stream",
          "name": "stdout",
          "text": [
            "Collecting NRCLex\n",
            "  Downloading NRCLex-3.0.0.tar.gz (396 kB)\n",
            "\u001b[?25l\r\u001b[K     |▉                               | 10 kB 18.3 MB/s eta 0:00:01\r\u001b[K     |█▋                              | 20 kB 22.7 MB/s eta 0:00:01\r\u001b[K     |██▌                             | 30 kB 24.9 MB/s eta 0:00:01\r\u001b[K     |███▎                            | 40 kB 26.4 MB/s eta 0:00:01\r\u001b[K     |████▏                           | 51 kB 15.2 MB/s eta 0:00:01\r\u001b[K     |█████                           | 61 kB 16.8 MB/s eta 0:00:01\r\u001b[K     |█████▉                          | 71 kB 18.2 MB/s eta 0:00:01\r\u001b[K     |██████▋                         | 81 kB 19.5 MB/s eta 0:00:01\r\u001b[K     |███████▍                        | 92 kB 11.7 MB/s eta 0:00:01\r\u001b[K     |████████▎                       | 102 kB 12.6 MB/s eta 0:00:01\r\u001b[K     |█████████                       | 112 kB 12.6 MB/s eta 0:00:01\r\u001b[K     |██████████                      | 122 kB 12.6 MB/s eta 0:00:01\r\u001b[K     |██████████▊                     | 133 kB 12.6 MB/s eta 0:00:01\r\u001b[K     |███████████▋                    | 143 kB 12.6 MB/s eta 0:00:01\r\u001b[K     |████████████▍                   | 153 kB 12.6 MB/s eta 0:00:01\r\u001b[K     |█████████████▎                  | 163 kB 12.6 MB/s eta 0:00:01\r\u001b[K     |██████████████                  | 174 kB 12.6 MB/s eta 0:00:01\r\u001b[K     |██████████████▉                 | 184 kB 12.6 MB/s eta 0:00:01\r\u001b[K     |███████████████▊                | 194 kB 12.6 MB/s eta 0:00:01\r\u001b[K     |████████████████▌               | 204 kB 12.6 MB/s eta 0:00:01\r\u001b[K     |█████████████████▍              | 215 kB 12.6 MB/s eta 0:00:01\r\u001b[K     |██████████████████▏             | 225 kB 12.6 MB/s eta 0:00:01\r\u001b[K     |███████████████████             | 235 kB 12.6 MB/s eta 0:00:01\r\u001b[K     |███████████████████▉            | 245 kB 12.6 MB/s eta 0:00:01\r\u001b[K     |████████████████████▊           | 256 kB 12.6 MB/s eta 0:00:01\r\u001b[K     |█████████████████████▌          | 266 kB 12.6 MB/s eta 0:00:01\r\u001b[K     |██████████████████████▎         | 276 kB 12.6 MB/s eta 0:00:01\r\u001b[K     |███████████████████████▏        | 286 kB 12.6 MB/s eta 0:00:01\r\u001b[K     |████████████████████████        | 296 kB 12.6 MB/s eta 0:00:01\r\u001b[K     |████████████████████████▉       | 307 kB 12.6 MB/s eta 0:00:01\r\u001b[K     |█████████████████████████▋      | 317 kB 12.6 MB/s eta 0:00:01\r\u001b[K     |██████████████████████████▌     | 327 kB 12.6 MB/s eta 0:00:01\r\u001b[K     |███████████████████████████▎    | 337 kB 12.6 MB/s eta 0:00:01\r\u001b[K     |████████████████████████████    | 348 kB 12.6 MB/s eta 0:00:01\r\u001b[K     |█████████████████████████████   | 358 kB 12.6 MB/s eta 0:00:01\r\u001b[K     |█████████████████████████████▊  | 368 kB 12.6 MB/s eta 0:00:01\r\u001b[K     |██████████████████████████████▋ | 378 kB 12.6 MB/s eta 0:00:01\r\u001b[K     |███████████████████████████████▍| 389 kB 12.6 MB/s eta 0:00:01\r\u001b[K     |████████████████████████████████| 396 kB 12.6 MB/s \n",
            "\u001b[?25hRequirement already satisfied: textblob in /usr/local/lib/python3.7/dist-packages (from NRCLex) (0.15.3)\n",
            "Requirement already satisfied: nltk>=3.1 in /usr/local/lib/python3.7/dist-packages (from textblob->NRCLex) (3.2.5)\n",
            "Requirement already satisfied: six in /usr/local/lib/python3.7/dist-packages (from nltk>=3.1->textblob->NRCLex) (1.15.0)\n",
            "Building wheels for collected packages: NRCLex\n",
            "  Building wheel for NRCLex (setup.py) ... \u001b[?25l\u001b[?25hdone\n",
            "  Created wheel for NRCLex: filename=NRCLex-3.0.0-py3-none-any.whl size=43328 sha256=02cb091b12d929b514eb7f18c5a0b8d57a21fad30d4e1d2f69799df62122f3f0\n",
            "  Stored in directory: /root/.cache/pip/wheels/af/2c/9c/dfa19d1b65326c520b32850a9311f6d4eda679ac04dba26081\n",
            "Successfully built NRCLex\n",
            "Installing collected packages: NRCLex\n",
            "Successfully installed NRCLex-3.0.0\n"
          ]
        }
      ]
    },
    {
      "cell_type": "code",
      "metadata": {
        "id": "AbOp-DFwR3nC"
      },
      "source": [
        "import textblob\n",
        "\n"
      ],
      "execution_count": 4,
      "outputs": []
    },
    {
      "cell_type": "code",
      "metadata": {
        "colab": {
          "base_uri": "https://localhost:8080/"
        },
        "id": "exIjZQm5SGvA",
        "outputId": "ce14a6b7-996d-4448-fd56-95e16a6d61f5"
      },
      "source": [
        "!python -m textblob.download_corpora"
      ],
      "execution_count": 5,
      "outputs": [
        {
          "output_type": "stream",
          "name": "stdout",
          "text": [
            "[nltk_data] Downloading package brown to /root/nltk_data...\n",
            "[nltk_data]   Unzipping corpora/brown.zip.\n",
            "[nltk_data] Downloading package punkt to /root/nltk_data...\n",
            "[nltk_data]   Unzipping tokenizers/punkt.zip.\n",
            "[nltk_data] Downloading package wordnet to /root/nltk_data...\n",
            "[nltk_data]   Unzipping corpora/wordnet.zip.\n",
            "[nltk_data] Downloading package averaged_perceptron_tagger to\n",
            "[nltk_data]     /root/nltk_data...\n",
            "[nltk_data]   Unzipping taggers/averaged_perceptron_tagger.zip.\n",
            "[nltk_data] Downloading package conll2000 to /root/nltk_data...\n",
            "[nltk_data]   Unzipping corpora/conll2000.zip.\n",
            "[nltk_data] Downloading package movie_reviews to /root/nltk_data...\n",
            "[nltk_data]   Unzipping corpora/movie_reviews.zip.\n",
            "Finished.\n"
          ]
        }
      ]
    },
    {
      "cell_type": "code",
      "metadata": {
        "id": "8bPLHy9zSK5Y"
      },
      "source": [
        "from nrclex import NRCLex"
      ],
      "execution_count": 6,
      "outputs": []
    },
    {
      "cell_type": "code",
      "metadata": {
        "id": "PuHkeWDsSP8_"
      },
      "source": [
        "# Assigning list of words\n",
        "\n",
        "text = ['hate', 'lovely', 'person', 'worst']"
      ],
      "execution_count": 7,
      "outputs": []
    },
    {
      "cell_type": "code",
      "metadata": {
        "colab": {
          "base_uri": "https://localhost:8080/"
        },
        "id": "Sa9XSiBVSVTN",
        "outputId": "c1b94af6-50dd-432e-f5f7-afadcc35be93"
      },
      "source": [
        "for i in range(len(text)):\n",
        "    # Create object\n",
        "    emotion = NRCLex(text[i])\n",
        "    # Classify emotion\n",
        "\n",
        "    print('\\n\\n', text[i], ': ', emotion.top_emotions)"
      ],
      "execution_count": 9,
      "outputs": [
        {
          "output_type": "stream",
          "name": "stdout",
          "text": [
            "\n",
            "\n",
            " hate :  [('fear', 0.2), ('anger', 0.2), ('negative', 0.2), ('sadness', 0.2), ('disgust', 0.2)]\n",
            "\n",
            "\n",
            " lovely :  [('trust', 0.16666666666666666), ('surprise', 0.16666666666666666), ('positive', 0.16666666666666666), ('sadness', 0.16666666666666666), ('joy', 0.16666666666666666), ('anticipation', 0.16666666666666666)]\n",
            "\n",
            "\n",
            " person :  [('fear', 0.0), ('anger', 0.0), ('anticip', 0.0), ('trust', 0.0), ('surprise', 0.0), ('positive', 0.0), ('negative', 0.0), ('sadness', 0.0), ('disgust', 0.0), ('joy', 0.0)]\n",
            "\n",
            "\n",
            " worst :  [('fear', 0.0), ('anger', 0.0), ('anticip', 0.0), ('trust', 0.0), ('surprise', 0.0), ('positive', 0.0), ('negative', 0.0), ('sadness', 0.0), ('disgust', 0.0), ('joy', 0.0)]\n"
          ]
        }
      ]
    },
    {
      "cell_type": "code",
      "metadata": {
        "colab": {
          "base_uri": "https://localhost:8080/"
        },
        "id": "xQfm3lmDSwYr",
        "outputId": "f1c7e050-26e5-45cd-acc3-d3c4dd53ba0b"
      },
      "source": [
        "text = 'love'\n",
        " \n",
        "# Create object\n",
        "\n",
        "emotion = NRCLex(text)\n",
        " \n",
        "# Using methods to classigy emotion\n",
        "\n",
        "print('\\n', emotion.words)\n",
        "\n",
        "print('\\n', emotion.sentences)\n",
        "\n",
        "print('\\n', emotion.affect_list)\n",
        "\n",
        "print('\\n', emotion.affect_dict)\n",
        "\n",
        "print('\\n', emotion.raw_emotion_scores)\n",
        "\n",
        "print('\\n', emotion.top_emotions)\n",
        "\n",
        "print('\\n', emotion.affect_frequencies)"
      ],
      "execution_count": 10,
      "outputs": [
        {
          "output_type": "stream",
          "name": "stdout",
          "text": [
            "\n",
            " ['love']\n",
            "\n",
            " [Sentence(\"love\")]\n",
            "\n",
            " ['joy', 'positive']\n",
            "\n",
            " {'love': ['joy', 'positive']}\n",
            "\n",
            " {'joy': 1, 'positive': 1}\n",
            "\n",
            " [('positive', 0.5), ('joy', 0.5)]\n",
            "\n",
            " {'fear': 0.0, 'anger': 0.0, 'anticip': 0.0, 'trust': 0.0, 'surprise': 0.0, 'positive': 0.5, 'negative': 0.0, 'sadness': 0.0, 'disgust': 0.0, 'joy': 0.5}\n"
          ]
        }
      ]
    },
    {
      "cell_type": "code",
      "metadata": {
        "id": "ycrYZDxHSznu"
      },
      "source": [
        ""
      ],
      "execution_count": null,
      "outputs": []
    }
  ]
}