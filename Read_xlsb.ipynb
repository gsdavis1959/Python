{
 "cells": [
  {
   "cell_type": "code",
   "execution_count": 2,
   "metadata": {
    "colab": {
     "base_uri": "https://localhost:8080/"
    },
    "id": "GIhty_x5dOyg",
    "outputId": "13564928-e29f-40cc-a409-930cb20497f0"
   },
   "outputs": [
    {
     "name": "stdout",
     "output_type": "stream",
     "text": [
      "Collecting pyxlsb\n",
      "  Downloading pyxlsb-1.0.9-py2.py3-none-any.whl (23 kB)\n",
      "Installing collected packages: pyxlsb\n",
      "Successfully installed pyxlsb-1.0.9\n"
     ]
    }
   ],
   "source": [
    "!pip install pyxlsb"
   ]
  },
  {
   "cell_type": "code",
   "execution_count": 5,
   "metadata": {
    "colab": {
     "base_uri": "https://localhost:8080/",
     "height": 149
    },
    "id": "o0um_ZBIbh_U",
    "outputId": "3339f09b-3d58-4307-8afd-004bdde56474"
   },
   "outputs": [],
   "source": [
    "import pandas as pd\n",
    "\n",
    "df = pd.read_excel(r'C:\\Users\\gsdav\\Documents\\Data\\Datasets\\Geographic Master Data\\us-zip-code-latitude-and-longitude.xlsb', sheet_name='us-zip-code-latitude-and-longit', index_col=0, engine='pyxlsb')"
   ]
  },
  {
   "cell_type": "code",
   "execution_count": 6,
   "metadata": {},
   "outputs": [
    {
     "data": {
      "text/html": [
       "<div>\n",
       "<style scoped>\n",
       "    .dataframe tbody tr th:only-of-type {\n",
       "        vertical-align: middle;\n",
       "    }\n",
       "\n",
       "    .dataframe tbody tr th {\n",
       "        vertical-align: top;\n",
       "    }\n",
       "\n",
       "    .dataframe thead th {\n",
       "        text-align: right;\n",
       "    }\n",
       "</style>\n",
       "<table border=\"1\" class=\"dataframe\">\n",
       "  <thead>\n",
       "    <tr style=\"text-align: right;\">\n",
       "      <th></th>\n",
       "      <th>City</th>\n",
       "      <th>State</th>\n",
       "      <th>Latitude</th>\n",
       "      <th>Longitude</th>\n",
       "      <th>Timezone</th>\n",
       "      <th>Daylight savings time flag</th>\n",
       "      <th>geopoint</th>\n",
       "    </tr>\n",
       "    <tr>\n",
       "      <th>Zip</th>\n",
       "      <th></th>\n",
       "      <th></th>\n",
       "      <th></th>\n",
       "      <th></th>\n",
       "      <th></th>\n",
       "      <th></th>\n",
       "      <th></th>\n",
       "    </tr>\n",
       "  </thead>\n",
       "  <tbody>\n",
       "    <tr>\n",
       "      <th>67553</th>\n",
       "      <td>Liebenthal</td>\n",
       "      <td>KS</td>\n",
       "      <td>38.654948</td>\n",
       "      <td>-99.320620</td>\n",
       "      <td>-6</td>\n",
       "      <td>1</td>\n",
       "      <td>38.654948</td>\n",
       "    </tr>\n",
       "    <tr>\n",
       "      <th>85743</th>\n",
       "      <td>Tucson</td>\n",
       "      <td>AZ</td>\n",
       "      <td>32.335122</td>\n",
       "      <td>-111.148880</td>\n",
       "      <td>-7</td>\n",
       "      <td>0</td>\n",
       "      <td>32.335122</td>\n",
       "    </tr>\n",
       "    <tr>\n",
       "      <th>75016</th>\n",
       "      <td>Irving</td>\n",
       "      <td>TX</td>\n",
       "      <td>32.767268</td>\n",
       "      <td>-96.777626</td>\n",
       "      <td>-6</td>\n",
       "      <td>1</td>\n",
       "      <td>32.767268</td>\n",
       "    </tr>\n",
       "    <tr>\n",
       "      <th>60401</th>\n",
       "      <td>Beecher</td>\n",
       "      <td>IL</td>\n",
       "      <td>41.350484</td>\n",
       "      <td>-87.624080</td>\n",
       "      <td>-6</td>\n",
       "      <td>1</td>\n",
       "      <td>41.350484</td>\n",
       "    </tr>\n",
       "    <tr>\n",
       "      <th>80432</th>\n",
       "      <td>Como</td>\n",
       "      <td>CO</td>\n",
       "      <td>39.243440</td>\n",
       "      <td>-105.794310</td>\n",
       "      <td>-7</td>\n",
       "      <td>1</td>\n",
       "      <td>39.243440</td>\n",
       "    </tr>\n",
       "  </tbody>\n",
       "</table>\n",
       "</div>"
      ],
      "text/plain": [
       "             City State   Latitude   Longitude  Timezone  \\\n",
       "Zip                                                        \n",
       "67553  Liebenthal    KS  38.654948  -99.320620        -6   \n",
       "85743      Tucson    AZ  32.335122 -111.148880        -7   \n",
       "75016      Irving    TX  32.767268  -96.777626        -6   \n",
       "60401     Beecher    IL  41.350484  -87.624080        -6   \n",
       "80432        Como    CO  39.243440 -105.794310        -7   \n",
       "\n",
       "       Daylight savings time flag   geopoint  \n",
       "Zip                                           \n",
       "67553                           1  38.654948  \n",
       "85743                           0  32.335122  \n",
       "75016                           1  32.767268  \n",
       "60401                           1  41.350484  \n",
       "80432                           1  39.243440  "
      ]
     },
     "execution_count": 6,
     "metadata": {},
     "output_type": "execute_result"
    }
   ],
   "source": [
    "df.head()"
   ]
  }
 ],
 "metadata": {
  "colab": {
   "collapsed_sections": [],
   "name": "Read xlsb",
   "provenance": []
  },
  "kernelspec": {
   "display_name": "Python 3",
   "language": "python",
   "name": "python3"
  },
  "language_info": {
   "codemirror_mode": {
    "name": "ipython",
    "version": 3
   },
   "file_extension": ".py",
   "mimetype": "text/x-python",
   "name": "python",
   "nbconvert_exporter": "python",
   "pygments_lexer": "ipython3",
   "version": "3.6.8"
  }
 },
 "nbformat": 4,
 "nbformat_minor": 1
}
