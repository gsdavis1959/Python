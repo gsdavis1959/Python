{
 "cells": [
  {
   "cell_type": "code",
   "execution_count": 1,
   "metadata": {},
   "outputs": [],
   "source": [
    "import win32com.client as win32\n",
    "from datetime import datetime\n",
    "import os"
   ]
  },
  {
   "cell_type": "code",
   "execution_count": 3,
   "metadata": {},
   "outputs": [],
   "source": [
    "outlook = win32.Dispatch('outlook.application')\n",
    "mail = outlook.CreateItem(0)\n",
    "mail.Subject = 'Currencies Exchange Prices as of ' + datetime.now().strftime('%#d %b %Y %H:%M')\n",
    "mail.To = \"gregory_s_davis@yahoo.com\"\n",
    "mail.BCC = \"gsdavis1959@gmail.com\"\n",
    "# attachment = mail.Attachments.Add(os.getcwd() + \"\\\\Currencies.png\")\n",
    "# attachment.PropertyAccessor.SetProperty(\"http://schemas.microsoft.com/mapi/proptag/0x3712001F\", \"currency_img\")\n",
    "mail.HTMLBody = r\"\"\"\n",
    "Dear Carrie,<br><br>\n",
    "The highlighted of currencies exchange prices is as follow:<br><br>\n",
    "<img src=\"cid:currency_img\"><br><br>\n",
    "For more details, you can check the table in the Excel file attached.<br><br>\n",
    "Best regards,<br>\n",
    "Yeung\n",
    "\"\"\"\n",
    "# mail.Attachments.Add(os.getcwd() + \"\\\\Currencies.xlsx\")\n",
    "mail.Send()"
   ]
  }
 ],
 "metadata": {
  "kernelspec": {
   "display_name": "Python 3",
   "language": "python",
   "name": "python3"
  },
  "language_info": {
   "codemirror_mode": {
    "name": "ipython",
    "version": 3
   },
   "file_extension": ".py",
   "mimetype": "text/x-python",
   "name": "python",
   "nbconvert_exporter": "python",
   "pygments_lexer": "ipython3",
   "version": "3.6.8"
  }
 },
 "nbformat": 4,
 "nbformat_minor": 2
}
