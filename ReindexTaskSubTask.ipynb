{
  "nbformat": 4,
  "nbformat_minor": 0,
  "metadata": {
    "colab": {
      "provenance": []
    },
    "kernelspec": {
      "name": "python3",
      "display_name": "Python 3"
    },
    "language_info": {
      "name": "python"
    }
  },
  "cells": [
    {
      "cell_type": "code",
      "execution_count": 1,
      "metadata": {
        "colab": {
          "base_uri": "https://localhost:8080/"
        },
        "id": "JVPT-pxid6TT",
        "outputId": "e1f3fe3e-ea67-43bf-dec8-0f29228f856b"
      },
      "outputs": [
        {
          "output_type": "stream",
          "name": "stdout",
          "text": [
            "   Activity ID Activity Type New Activity ID\n",
            "0            1         Class               1\n",
            "1            2         Study               1\n",
            "2            3         Study               1\n",
            "3            4         Class               4\n",
            "4            5         Study               4\n",
            "5            6         Class               6\n",
            "6            7         Study               6\n",
            "7            8         Study               6\n",
            "8            9         Class               9\n"
          ]
        }
      ],
      "source": [
        "import pandas as pd\n",
        "\n",
        "# Sample data frame\n",
        "df = pd.DataFrame({\n",
        "    'Activity ID': [1, 2, 3, 4, 5, 6, 7, 8, 9],\n",
        "    'Activity Type': ['Class', 'Study', 'Study', 'Class', 'Study', 'Class', 'Study', 'Study', 'Class']\n",
        "})\n",
        "\n",
        "# Create a new column named 'New Activity ID'\n",
        "df['New Activity ID'] = ''\n",
        "\n",
        "# Initialize a variable to store the current 'Class' activity ID\n",
        "current_class_id = None\n",
        "\n",
        "# Iterate through the rows of the data frame\n",
        "for index, row in df.iterrows():\n",
        "    activity_id = row['Activity ID']\n",
        "    activity_type = row['Activity Type']\n",
        "    \n",
        "    # Check if the activity type is 'Class'\n",
        "    if activity_type == 'Class':\n",
        "        current_class_id = activity_id\n",
        "    \n",
        "    # Assign the current 'Class' activity ID to the 'New Activity ID' column\n",
        "    df.at[index, 'New Activity ID'] = current_class_id\n",
        "\n",
        "# Print the updated data frame\n",
        "print(df)\n"
      ]
    },
    {
      "cell_type": "code",
      "source": [
        "# Create a new column 'new_id' to store the modified IDs\n",
        "df['new_id'] = ''\n",
        "\n",
        "# Iterate over each row in the dataframe\n",
        "for i, row in df.iterrows():\n",
        "    task_subtask_type = row['Activity Type']\n",
        "    \n",
        "    # Check if the row represents a task\n",
        "    if 'Task' in task_subtask_type:\n",
        "        task_id = row['Activity ID']\n",
        "        df.at[i, 'new_id'] = task_id\n",
        "    \n",
        "    # Assign the task ID to all subsequent subtasks until the next task is encountered\n",
        "    else:\n",
        "        df.at[i, 'new_id'] = task_id\n",
        "\n",
        "# Print the modified dataframe\n",
        "print(df)"
      ],
      "metadata": {
        "colab": {
          "base_uri": "https://localhost:8080/"
        },
        "id": "ABkphFMleK9M",
        "outputId": "9297e2c6-258c-4b61-c639-89c762f2cbac"
      },
      "execution_count": null,
      "outputs": [
        {
          "output_type": "stream",
          "name": "stdout",
          "text": [
            "   Activity ID Activity Type new_id\n",
            "0            1        Task A      1\n",
            "1            2     Subtask A      1\n",
            "2            3     Subtask B      1\n",
            "3            4     Subtask C      1\n",
            "4            5        Task B      5\n",
            "5            6     Subtask A      5\n",
            "6            7     Subtask B      5\n",
            "7            8     Subtask C      5\n"
          ]
        }
      ]
    }
  ]
}