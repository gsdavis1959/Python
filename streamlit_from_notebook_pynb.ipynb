{
  "nbformat": 4,
  "nbformat_minor": 0,
  "metadata": {
    "colab": {
      "provenance": []
    },
    "kernelspec": {
      "name": "python3",
      "display_name": "Python 3"
    },
    "language_info": {
      "name": "python"
    }
  },
  "cells": [
    {
      "cell_type": "code",
      "source": [
        "!pip install streamlit"
      ],
      "metadata": {
        "colab": {
          "base_uri": "https://localhost:8080/"
        },
        "id": "361naOmYPdC3",
        "outputId": "bb3de689-1e87-4909-e140-61d15131bd14"
      },
      "execution_count": null,
      "outputs": [
        {
          "output_type": "stream",
          "name": "stdout",
          "text": [
            "Looking in indexes: https://pypi.org/simple, https://us-python.pkg.dev/colab-wheels/public/simple/\n",
            "Requirement already satisfied: streamlit in /usr/local/lib/python3.9/dist-packages (1.21.0)\n",
            "Requirement already satisfied: protobuf<4,>=3.12 in /usr/local/lib/python3.9/dist-packages (from streamlit) (3.20.3)\n",
            "Requirement already satisfied: packaging>=14.1 in /usr/local/lib/python3.9/dist-packages (from streamlit) (23.0)\n",
            "Requirement already satisfied: pydeck>=0.1.dev5 in /usr/local/lib/python3.9/dist-packages (from streamlit) (0.8.1b0)\n",
            "Requirement already satisfied: pympler>=0.9 in /usr/local/lib/python3.9/dist-packages (from streamlit) (1.0.1)\n",
            "Requirement already satisfied: altair<5,>=3.2.0 in /usr/local/lib/python3.9/dist-packages (from streamlit) (4.2.2)\n",
            "Requirement already satisfied: gitpython!=3.1.19 in /usr/local/lib/python3.9/dist-packages (from streamlit) (3.1.31)\n",
            "Requirement already satisfied: watchdog in /usr/local/lib/python3.9/dist-packages (from streamlit) (3.0.0)\n",
            "Requirement already satisfied: toml in /usr/local/lib/python3.9/dist-packages (from streamlit) (0.10.2)\n",
            "Requirement already satisfied: click>=7.0 in /usr/local/lib/python3.9/dist-packages (from streamlit) (8.1.3)\n",
            "Requirement already satisfied: python-dateutil in /usr/local/lib/python3.9/dist-packages (from streamlit) (2.8.2)\n",
            "Requirement already satisfied: cachetools>=4.0 in /usr/local/lib/python3.9/dist-packages (from streamlit) (5.3.0)\n",
            "Requirement already satisfied: pyarrow>=4.0 in /usr/local/lib/python3.9/dist-packages (from streamlit) (9.0.0)\n",
            "Requirement already satisfied: pillow>=6.2.0 in /usr/local/lib/python3.9/dist-packages (from streamlit) (8.4.0)\n",
            "Requirement already satisfied: requests>=2.4 in /usr/local/lib/python3.9/dist-packages (from streamlit) (2.27.1)\n",
            "Requirement already satisfied: importlib-metadata>=1.4 in /usr/local/lib/python3.9/dist-packages (from streamlit) (6.3.0)\n",
            "Requirement already satisfied: numpy in /usr/local/lib/python3.9/dist-packages (from streamlit) (1.22.4)\n",
            "Requirement already satisfied: validators>=0.2 in /usr/local/lib/python3.9/dist-packages (from streamlit) (0.20.0)\n",
            "Requirement already satisfied: typing-extensions>=3.10.0.0 in /usr/local/lib/python3.9/dist-packages (from streamlit) (4.5.0)\n",
            "Requirement already satisfied: pandas<2,>=0.25 in /usr/local/lib/python3.9/dist-packages (from streamlit) (1.5.3)\n",
            "Requirement already satisfied: tornado>=6.0.3 in /usr/local/lib/python3.9/dist-packages (from streamlit) (6.2)\n",
            "Requirement already satisfied: rich>=10.11.0 in /usr/local/lib/python3.9/dist-packages (from streamlit) (13.3.3)\n",
            "Requirement already satisfied: blinker>=1.0.0 in /usr/local/lib/python3.9/dist-packages (from streamlit) (1.6.2)\n",
            "Requirement already satisfied: tzlocal>=1.1 in /usr/local/lib/python3.9/dist-packages (from streamlit) (4.3)\n",
            "Requirement already satisfied: jsonschema>=3.0 in /usr/local/lib/python3.9/dist-packages (from altair<5,>=3.2.0->streamlit) (4.3.3)\n",
            "Requirement already satisfied: entrypoints in /usr/local/lib/python3.9/dist-packages (from altair<5,>=3.2.0->streamlit) (0.4)\n",
            "Requirement already satisfied: jinja2 in /usr/local/lib/python3.9/dist-packages (from altair<5,>=3.2.0->streamlit) (3.1.2)\n",
            "Requirement already satisfied: toolz in /usr/local/lib/python3.9/dist-packages (from altair<5,>=3.2.0->streamlit) (0.12.0)\n",
            "Requirement already satisfied: gitdb<5,>=4.0.1 in /usr/local/lib/python3.9/dist-packages (from gitpython!=3.1.19->streamlit) (4.0.10)\n",
            "Requirement already satisfied: zipp>=0.5 in /usr/local/lib/python3.9/dist-packages (from importlib-metadata>=1.4->streamlit) (3.15.0)\n",
            "Requirement already satisfied: pytz>=2020.1 in /usr/local/lib/python3.9/dist-packages (from pandas<2,>=0.25->streamlit) (2022.7.1)\n",
            "Requirement already satisfied: six>=1.5 in /usr/local/lib/python3.9/dist-packages (from python-dateutil->streamlit) (1.16.0)\n",
            "Requirement already satisfied: certifi>=2017.4.17 in /usr/local/lib/python3.9/dist-packages (from requests>=2.4->streamlit) (2022.12.7)\n",
            "Requirement already satisfied: idna<4,>=2.5 in /usr/local/lib/python3.9/dist-packages (from requests>=2.4->streamlit) (3.4)\n",
            "Requirement already satisfied: urllib3<1.27,>=1.21.1 in /usr/local/lib/python3.9/dist-packages (from requests>=2.4->streamlit) (1.26.15)\n",
            "Requirement already satisfied: charset-normalizer~=2.0.0 in /usr/local/lib/python3.9/dist-packages (from requests>=2.4->streamlit) (2.0.12)\n",
            "Requirement already satisfied: markdown-it-py<3.0.0,>=2.2.0 in /usr/local/lib/python3.9/dist-packages (from rich>=10.11.0->streamlit) (2.2.0)\n",
            "Requirement already satisfied: pygments<3.0.0,>=2.13.0 in /usr/local/lib/python3.9/dist-packages (from rich>=10.11.0->streamlit) (2.14.0)\n",
            "Requirement already satisfied: pytz-deprecation-shim in /usr/local/lib/python3.9/dist-packages (from tzlocal>=1.1->streamlit) (0.1.0.post0)\n",
            "Requirement already satisfied: decorator>=3.4.0 in /usr/local/lib/python3.9/dist-packages (from validators>=0.2->streamlit) (4.4.2)\n",
            "Requirement already satisfied: smmap<6,>=3.0.1 in /usr/local/lib/python3.9/dist-packages (from gitdb<5,>=4.0.1->gitpython!=3.1.19->streamlit) (5.0.0)\n",
            "Requirement already satisfied: MarkupSafe>=2.0 in /usr/local/lib/python3.9/dist-packages (from jinja2->altair<5,>=3.2.0->streamlit) (2.1.2)\n",
            "Requirement already satisfied: attrs>=17.4.0 in /usr/local/lib/python3.9/dist-packages (from jsonschema>=3.0->altair<5,>=3.2.0->streamlit) (22.2.0)\n",
            "Requirement already satisfied: pyrsistent!=0.17.0,!=0.17.1,!=0.17.2,>=0.14.0 in /usr/local/lib/python3.9/dist-packages (from jsonschema>=3.0->altair<5,>=3.2.0->streamlit) (0.19.3)\n",
            "Requirement already satisfied: mdurl~=0.1 in /usr/local/lib/python3.9/dist-packages (from markdown-it-py<3.0.0,>=2.2.0->rich>=10.11.0->streamlit) (0.1.2)\n",
            "Requirement already satisfied: tzdata in /usr/local/lib/python3.9/dist-packages (from pytz-deprecation-shim->tzlocal>=1.1->streamlit) (2023.3)\n"
          ]
        }
      ]
    },
    {
      "cell_type": "code",
      "execution_count": null,
      "metadata": {
        "id": "5GGKEu1tPZFY"
      },
      "outputs": [],
      "source": [
        "# Import all the packages\n",
        "\n",
        "import streamlit as st\n",
        "import urllib.request\n",
        "from PIL import Image\n",
        "import time\n",
        "import pandas as pd\n",
        "import numpy as np\n",
        "import matplotlib.pyplot as plt\n",
        "from streamlit.web import cli as stcli\n",
        "from streamlit import runtime\n",
        "import sys"
      ]
    },
    {
      "cell_type": "code",
      "source": [
        "def videoUserDefined(src: str, width=\"100%\", height=315):\n",
        "    \"\"\"An extension of the video widget\n",
        "    Arguments:\n",
        "        src {str} -- url of the video Eg:- https://www.youtube.com/embed/B2iAodr0fOo\n",
        "    Keyword Arguments:\n",
        "        width {str} -- video width(By default: {\"100%\"})\n",
        "        height {int} -- video height (By default: {315})\n",
        "    \"\"\"\n",
        "    st.write(\n",
        "        f'<iframe width=\"{width}\" height=\"{height}\" src=\"{src}\" frameborder=\"0\" allow=\"accelerometer; autoplay; encrypted-media; gyroscope; picture-in-picture\" allowfullscreen></iframe>',\n",
        "        unsafe_allow_html=True,\n",
        "    )"
      ],
      "metadata": {
        "id": "JCJvwLzsPpqq"
      },
      "execution_count": null,
      "outputs": []
    },
    {
      "cell_type": "code",
      "source": [
        "@st.cache_data\n",
        "\n",
        "def load_data():\n",
        "    df = pd.read_csv(\"https://github.com/SurendraRedd/StreamlitProjects/raw/master/lang.csv\")\n",
        "    return df"
      ],
      "metadata": {
        "colab": {
          "base_uri": "https://localhost:8080/"
        },
        "id": "GApFgdiyPuAr",
        "outputId": "f817377d-bf69-4da9-da36-5ecbc5df2854"
      },
      "execution_count": null,
      "outputs": [
        {
          "output_type": "stream",
          "name": "stderr",
          "text": [
            "2023-04-15 15:19:40.560 WARNING streamlit.runtime.caching.cache_data_api: No runtime found, using MemoryCacheStorageManager\n"
          ]
        }
      ]
    },
    {
      "cell_type": "code",
      "source": [
        "def main():\n",
        "\n",
        "    # Test/Title\n",
        "    st.title('StreamLit Concepts')\n",
        "\n",
        "    # Header/Subheader\n",
        "    st.header(\"To Create Header\")\n",
        "    st.subheader(\"To Create subheader\")    \n",
        "\n",
        "    st.subheader(\"Do you want to build the GUI using web app\")\n",
        "    st.code('pip install streamlit')\n",
        "\n",
        "    #text\n",
        "    st.text(\"hello Streamlit\")\n",
        "\n",
        "    html_temp = \"\"\"\n",
        "\t<div style=\"background-color:tomato;padding:10px\">\n",
        "\t<h2 style=\"color:white;text-align:center;\">Streamlit ML App </h2>\n",
        "\t</div>\n",
        "\n",
        "\t\"\"\"\n",
        "    st.markdown(html_temp,unsafe_allow_html=True)\n",
        "    st.markdown('<i class=\"material-icons\">{}</i>'.format(\"people\"), unsafe_allow_html=True)\n",
        "    st.latex(r''' e^{i\\pi} + 1 = 0 ''')\n",
        "    st.latex(r'''\n",
        "    ...     a + ar + a r^2 + a r^3 + \\cdots + a r^{n-1} =\n",
        "    ...     \\sum_{k=0}^{n-1} ar^k =\n",
        "    ...     a \\left(\\frac{1-r^{n}}{1-r}\\right)\n",
        "    ...     ''')\n",
        "    st.write(['st', 'is <', 3])\n",
        "    st.write(\"✔️ Time up!\")\n",
        "    st.code('s=\"Happy\" for i in range(0,10): print(s)')\n",
        "\n",
        "    df1 = pd.DataFrame(\n",
        "        np.random.randn(50, 5),\n",
        "        columns=('col %d' % i for i in range(5)))\n",
        "    my_table = st.table(df1)\n",
        "\n",
        "    df = st.cache_data(pd.read_csv)(\"https://github.com/SurendraRedd/StreamlitProjects/raw/master/lang.csv\")\n",
        "    is_check = st.checkbox(\"Display Data\")\n",
        "    if is_check:\n",
        "        st.write(df)\n",
        "\n",
        "    st.write('Dataframe example')\n",
        "    st.dataframe(df1)\n",
        "\n",
        "    #Markdown\n",
        "    st.markdown(\"### This is a Markdown\")\n",
        "\n",
        "    st.markdown(\"### 🎲 Demo on streamlit\")\n",
        "    st.markdown(\"Streamlit python package is used to develop applications\"\n",
        "            \"with out knowing much web application concepts.\")\n",
        "    st.markdown(\"**♟ Examples ♟**\")\n",
        "    st.markdown(\"* Happly learning!.\")\n",
        "\n",
        "    #Will be used for displaying the Error Messages in a colourful format\n",
        "    st.success(\"Successful\")\n",
        "    st.info(\"Information!\")\n",
        "    st.warning('this is a warning')\n",
        "    st.error(\"this is an error Danger\")\n",
        "\n",
        "    data = {'1':\"True\",'2':\"True\",'3':\"False\"}\n",
        "    st.json(data)\n",
        "    \n",
        "    # Exception handling\n",
        "    st.exception(\"IndexError('list out of index')\")\n",
        "\n",
        "    place_holder = st.empty()\n",
        "    place_holder.text('Replaced!')\n",
        "\n",
        "    #help of the function\n",
        "    st.help(range)\n",
        "\n",
        "    st.write(\"Text with write\")\n",
        "\n",
        "    st.write(range(10))\n",
        "\n",
        "    st.line_chart({\"data\": [1, 5, 2, 6, 2, 1]})\n",
        "    st.area_chart({\"data\": [1, 5, 2, 6, 2, 1]})\n",
        "    st.bar_chart({\"data\": [1, 5, 2, 6, 2, 1]})\n",
        "\n",
        "    arr = np.random.normal(1, 1, size=100)\n",
        "    fig, ax = plt.subplots()\n",
        "    ax.hist(arr, bins=20)\n",
        "    st.pyplot(fig)\n",
        "\n",
        "    '''\n",
        "    # Markdown magic\n",
        "\n",
        "    This is some _**text**_.\n",
        "    '''\n",
        "\n",
        "    df = pd.DataFrame({'col1': [1,2,3]})\n",
        "    df  # <-- Draw the dataframe\n",
        "\n",
        "    x = 10\n",
        "    'x', x  # <-- Draw the string 'x' and then the value of x\n",
        "\n",
        "    # Select box\n",
        "    exp = st.selectbox(\"Select your experience: \", np.arange(1, 40, 1))\n",
        "\n",
        "    # Slider\n",
        "    exp = st.slider(\"Select your experience: \", min_value=1,   \n",
        "                       max_value=40, value=1, step=1)\n",
        "\n",
        "    # Multiselect\n",
        "    movies = st.multiselect(\"Select Balayya Favourite movies?\", \n",
        "                         [\"SamaraSimhaReddy\", \"Simha\",\n",
        "                         \"NarasimhaNaidu\", \"Legend\"])\n",
        "\n",
        "\n",
        "    # Will only run once if already cached\n",
        "    df = load_data()\n",
        "    st.write(df)\n",
        "    \n",
        "\n",
        "    st.button('Click')\n",
        "    st.checkbox('Check the checkbox')\n",
        "    st.radio('Radio Button',[1,2,3])\n",
        "    st.selectbox('Select', [1,2,3])\n",
        "    st.multiselect('Multiselect', [1,2,3])\n",
        "    st.slider('slide',min_value=0, max_value=10)\n",
        "    st.text_input('Enter Username')\n",
        "    st.number_input('Enter a Number')\n",
        "    st.text_area('Enter Text Here!')\n",
        "    st.date_input('Date Input')\n",
        "    st.time_input('Time entry')\n",
        "    st.file_uploader('File Uploader')\n",
        "    st.color_picker('Select color')\n",
        "\n",
        "    st.echo()\n",
        "    with st.echo():\n",
        "        text = 's=\"Happy Learning!\" for i in range(0,10): print(s)'\n",
        "        st.write(text)\n",
        "    \n",
        "\n",
        "    #Image opening\n",
        "    #img = Image.open(\"download.jfif\") #open the image stored in specified location\n",
        "    img = Image.open(urllib.request.urlopen(\"https://github.com/SurendraRedd/ChallengeDeploy/raw/main/singlefile/Solution.png\")) # Opens the image from the url\n",
        "    #response = requests.get(\"https://github.com/SurendraRedd/Techgig/blob/main/images/Solution.png\")\n",
        "    #img = Image.open(BytesIO(response.content))\n",
        "    #img = Image.open(urllib.request.urlopen(\"https://github.com/SurendraRedd/Techgig/blob/main/images/Solution.png\"))\n",
        "    st.image(img, width=300, caption=\"Simple Image\")\n",
        "\n",
        "    # Video playing\n",
        "    vid_file = open(\"sample-mp4-file.mp4\",\"rb\").read() #play the video stored in specified location\n",
        "    st.video(vid_file)\n",
        "    #videoUserDefined(\"https://www.youtube.com/embed/B2iAodr0fOo\")\n",
        "\n",
        "    #widgets\n",
        "    if st.checkbox(\"Show/hide\"):\n",
        "        st.text(\"Showing or Hiding Widget\")\n",
        "\n",
        "    # Radio\n",
        "    status = st.radio(\"What is your status\",(\"Married\",\"Single\"))\n",
        "    if status == 'Married':\n",
        "        st.success(\"You are Married\")\n",
        "\n",
        "    # Add a selectbox to the sidebar:\n",
        "    add_selectbox = st.sidebar.selectbox(\n",
        "        'Navigation',\n",
        "        ('Home', 'About', 'Help')\n",
        "    )\n",
        "\n",
        "    if add_selectbox == 'About':\n",
        "        st.write('You have selected about page')\n",
        "    elif add_selectbox == 'Home':\n",
        "        st.write('you have selected Home page')\n",
        "    else:\n",
        "        st.write('you have selected help page')\n",
        "\n",
        "    # Sample Progress bar\n",
        "    my_bar = st.progress(0)\n",
        "\n",
        "    for percent_complete in range(100):\n",
        "        time.sleep(0.1)\n",
        "        my_bar.progress(percent_complete + 1)\n",
        "    \n",
        "    with st.spinner('Wait for it...'):\n",
        "        time.sleep(5)\n",
        "    st.success('Done!')\n",
        "\n",
        "    st.balloons()\n",
        "\n",
        "    st.write('Happy Stream Lite App Learning')"
      ],
      "metadata": {
        "id": "lza8V_FnQBXo"
      },
      "execution_count": null,
      "outputs": []
    },
    {
      "cell_type": "code",
      "source": [
        "\n"
      ],
      "metadata": {
        "id": "s9ybc6Z7QLJ3"
      },
      "execution_count": null,
      "outputs": []
    },
    {
      "cell_type": "code",
      "source": [
        "!streamlit run /usr/local/lib/python3.9/dist-packages/ipykernel_launcher.py"
      ],
      "metadata": {
        "colab": {
          "base_uri": "https://localhost:8080/"
        },
        "id": "6fa5Cnt5QVoh",
        "outputId": "f96d2ff7-adbf-4c93-b9a0-49ec08ecb8be"
      },
      "execution_count": null,
      "outputs": [
        {
          "output_type": "stream",
          "name": "stdout",
          "text": [
            "\n",
            "Collecting usage statistics. To deactivate, set browser.gatherUsageStats to False.\n",
            "\u001b[0m\n",
            "Traceback (most recent call last):\n",
            "  File \"/usr/local/bin/streamlit\", line 8, in <module>\n",
            "    sys.exit(main())\n",
            "  File \"/usr/local/lib/python3.9/dist-packages/click/core.py\", line 1130, in __call__\n",
            "    return self.main(*args, **kwargs)\n",
            "  File \"/usr/local/lib/python3.9/dist-packages/click/core.py\", line 1055, in main\n",
            "    rv = self.invoke(ctx)\n",
            "  File \"/usr/local/lib/python3.9/dist-packages/click/core.py\", line 1657, in invoke\n",
            "    return _process_result(sub_ctx.command.invoke(sub_ctx))\n",
            "  File \"/usr/local/lib/python3.9/dist-packages/click/core.py\", line 1404, in invoke\n",
            "    return ctx.invoke(self.callback, **ctx.params)\n",
            "  File \"/usr/local/lib/python3.9/dist-packages/click/core.py\", line 760, in invoke\n",
            "    return __callback(*args, **kwargs)\n",
            "  File \"/usr/local/lib/python3.9/dist-packages/streamlit/web/cli.py\", line 209, in main_run\n",
            "    _main_run(target, args, flag_options=kwargs)\n",
            "  File \"/usr/local/lib/python3.9/dist-packages/streamlit/web/cli.py\", line 245, in _main_run\n",
            "    bootstrap.run(file, command_line, args, flag_options)\n",
            "  File \"/usr/local/lib/python3.9/dist-packages/streamlit/web/bootstrap.py\", line 385, in run\n",
            "    _install_pages_watcher(main_script_path)\n",
            "  File \"/usr/local/lib/python3.9/dist-packages/streamlit/web/bootstrap.py\", line 361, in _install_pages_watcher\n",
            "    watch_dir(\n",
            "  File \"/usr/local/lib/python3.9/dist-packages/streamlit/watcher/path_watcher.py\", line 153, in watch_dir\n",
            "    return _watch_path(\n",
            "  File \"/usr/local/lib/python3.9/dist-packages/streamlit/watcher/path_watcher.py\", line 128, in _watch_path\n",
            "    watcher_class(\n",
            "  File \"/usr/local/lib/python3.9/dist-packages/streamlit/watcher/event_based_path_watcher.py\", line 92, in __init__\n",
            "    path_watcher.watch_path(\n",
            "  File \"/usr/local/lib/python3.9/dist-packages/streamlit/watcher/event_based_path_watcher.py\", line 170, in watch_path\n",
            "    folder_handler.watch = self._observer.schedule(\n",
            "  File \"/usr/local/lib/python3.9/dist-packages/watchdog/observers/api.py\", line 301, in schedule\n",
            "    emitter.start()\n",
            "  File \"/usr/local/lib/python3.9/dist-packages/watchdog/utils/__init__.py\", line 92, in start\n",
            "    self.on_thread_start()\n",
            "  File \"/usr/local/lib/python3.9/dist-packages/watchdog/observers/inotify.py\", line 119, in on_thread_start\n",
            "    self._inotify = InotifyBuffer(path, self.watch.is_recursive)\n",
            "  File \"/usr/local/lib/python3.9/dist-packages/watchdog/observers/inotify_buffer.py\", line 37, in __init__\n",
            "    self._inotify = Inotify(path, recursive)\n",
            "  File \"/usr/local/lib/python3.9/dist-packages/watchdog/observers/inotify_c.py\", line 179, in __init__\n",
            "    self._add_dir_watch(path, recursive, event_mask)\n",
            "  File \"/usr/local/lib/python3.9/dist-packages/watchdog/observers/inotify_c.py\", line 402, in _add_dir_watch\n",
            "    self._add_watch(full_path, mask)\n",
            "  File \"/usr/local/lib/python3.9/dist-packages/watchdog/observers/inotify_c.py\", line 416, in _add_watch\n",
            "    Inotify._raise_error()\n",
            "  File \"/usr/local/lib/python3.9/dist-packages/watchdog/observers/inotify_c.py\", line 428, in _raise_error\n",
            "    raise OSError(errno.ENOSPC, \"inotify watch limit reached\")\n",
            "OSError: [Errno 28] inotify watch limit reached\n"
          ]
        }
      ]
    },
    {
      "cell_type": "code",
      "source": [
        "main()"
      ],
      "metadata": {
        "colab": {
          "base_uri": "https://localhost:8080/",
          "height": 968
        },
        "id": "ZO74AkPRZ7t3",
        "outputId": "18702bac-40e5-4a88-e9eb-0c7426d9df65"
      },
      "execution_count": null,
      "outputs": [
        {
          "output_type": "stream",
          "name": "stderr",
          "text": [
            "WARNING:root:\n",
            "  \u001b[33m\u001b[1mWarning:\u001b[0m to view this Streamlit app on a browser, run it with the following\n",
            "  command:\n",
            "\n",
            "    streamlit run /usr/local/lib/python3.9/dist-packages/ipykernel_launcher.py [ARGUMENTS]\n",
            "2023-04-15 15:19:59.649 \n",
            "  \u001b[33m\u001b[1mWarning:\u001b[0m to view this Streamlit app on a browser, run it with the following\n",
            "  command:\n",
            "\n",
            "    streamlit run /usr/local/lib/python3.9/dist-packages/ipykernel_launcher.py [ARGUMENTS]\n",
            "2023-04-15 15:19:59.667 No runtime found, using MemoryCacheStorageManager\n",
            "2023-04-15 15:19:59.677 No runtime found, using MemoryCacheStorageManager\n",
            "2023-04-15 15:20:00.559 No runtime found, using MemoryCacheStorageManager\n",
            "2023-04-15 15:20:00.843 Session state does not function when running a script without `streamlit run`\n"
          ]
        },
        {
          "output_type": "error",
          "ename": "RuntimeError",
          "evalue": "ignored",
          "traceback": [
            "\u001b[0;31m---------------------------------------------------------------------------\u001b[0m",
            "\u001b[0;31mRuntimeError\u001b[0m                              Traceback (most recent call last)",
            "\u001b[0;32m<ipython-input-6-263240bbee7e>\u001b[0m in \u001b[0;36m<cell line: 1>\u001b[0;34m()\u001b[0m\n\u001b[0;32m----> 1\u001b[0;31m \u001b[0mmain\u001b[0m\u001b[0;34m(\u001b[0m\u001b[0;34m)\u001b[0m\u001b[0;34m\u001b[0m\u001b[0;34m\u001b[0m\u001b[0m\n\u001b[0m",
            "\u001b[0;32m<ipython-input-5-b11f35b09e4b>\u001b[0m in \u001b[0;36mmain\u001b[0;34m()\u001b[0m\n\u001b[1;32m    130\u001b[0m \u001b[0;34m\u001b[0m\u001b[0m\n\u001b[1;32m    131\u001b[0m     \u001b[0mst\u001b[0m\u001b[0;34m.\u001b[0m\u001b[0mecho\u001b[0m\u001b[0;34m(\u001b[0m\u001b[0;34m)\u001b[0m\u001b[0;34m\u001b[0m\u001b[0;34m\u001b[0m\u001b[0m\n\u001b[0;32m--> 132\u001b[0;31m     \u001b[0;32mwith\u001b[0m \u001b[0mst\u001b[0m\u001b[0;34m.\u001b[0m\u001b[0mecho\u001b[0m\u001b[0;34m(\u001b[0m\u001b[0;34m)\u001b[0m\u001b[0;34m:\u001b[0m\u001b[0;34m\u001b[0m\u001b[0;34m\u001b[0m\u001b[0m\n\u001b[0m\u001b[1;32m    133\u001b[0m         \u001b[0mtext\u001b[0m \u001b[0;34m=\u001b[0m \u001b[0;34m's=\"Happy Learning!\" for i in range(0,10): print(s)'\u001b[0m\u001b[0;34m\u001b[0m\u001b[0;34m\u001b[0m\u001b[0m\n\u001b[1;32m    134\u001b[0m         \u001b[0mst\u001b[0m\u001b[0;34m.\u001b[0m\u001b[0mwrite\u001b[0m\u001b[0;34m(\u001b[0m\u001b[0mtext\u001b[0m\u001b[0;34m)\u001b[0m\u001b[0;34m\u001b[0m\u001b[0;34m\u001b[0m\u001b[0m\n",
            "\u001b[0;32m/usr/lib/python3.9/contextlib.py\u001b[0m in \u001b[0;36m__enter__\u001b[0;34m(self)\u001b[0m\n\u001b[1;32m    119\u001b[0m             \u001b[0;32mreturn\u001b[0m \u001b[0mnext\u001b[0m\u001b[0;34m(\u001b[0m\u001b[0mself\u001b[0m\u001b[0;34m.\u001b[0m\u001b[0mgen\u001b[0m\u001b[0;34m)\u001b[0m\u001b[0;34m\u001b[0m\u001b[0;34m\u001b[0m\u001b[0m\n\u001b[1;32m    120\u001b[0m         \u001b[0;32mexcept\u001b[0m \u001b[0mStopIteration\u001b[0m\u001b[0;34m:\u001b[0m\u001b[0;34m\u001b[0m\u001b[0;34m\u001b[0m\u001b[0m\n\u001b[0;32m--> 121\u001b[0;31m             \u001b[0;32mraise\u001b[0m \u001b[0mRuntimeError\u001b[0m\u001b[0;34m(\u001b[0m\u001b[0;34m\"generator didn't yield\"\u001b[0m\u001b[0;34m)\u001b[0m \u001b[0;32mfrom\u001b[0m \u001b[0;32mNone\u001b[0m\u001b[0;34m\u001b[0m\u001b[0;34m\u001b[0m\u001b[0m\n\u001b[0m\u001b[1;32m    122\u001b[0m \u001b[0;34m\u001b[0m\u001b[0m\n\u001b[1;32m    123\u001b[0m     \u001b[0;32mdef\u001b[0m \u001b[0m__exit__\u001b[0m\u001b[0;34m(\u001b[0m\u001b[0mself\u001b[0m\u001b[0;34m,\u001b[0m \u001b[0mtyp\u001b[0m\u001b[0;34m,\u001b[0m \u001b[0mvalue\u001b[0m\u001b[0;34m,\u001b[0m \u001b[0mtraceback\u001b[0m\u001b[0;34m)\u001b[0m\u001b[0;34m:\u001b[0m\u001b[0;34m\u001b[0m\u001b[0;34m\u001b[0m\u001b[0m\n",
            "\u001b[0;31mRuntimeError\u001b[0m: generator didn't yield"
          ]
        },
        {
          "output_type": "display_data",
          "data": {
            "text/plain": [
              "<Figure size 640x480 with 1 Axes>"
            ],
            "image/png": "[encoded data removed]"
          },
          "metadata": {}
        }
      ]
    },
    {
      "cell_type": "code",
      "source": [
        "!streamlit run main()"
      ],
      "metadata": {
        "colab": {
          "base_uri": "https://localhost:8080/"
        },
        "id": "H3EnI8xeRDYV",
        "outputId": "c91e477d-4660-44d3-dc2d-fd891a0f96a2"
      },
      "execution_count": null,
      "outputs": [
        {
          "output_type": "stream",
          "name": "stdout",
          "text": [
            "/bin/bash: -c: line 0: syntax error near unexpected token `('\n",
            "/bin/bash: -c: line 0: `streamlit run main()'\n"
          ]
        }
      ]
    }
  ]
}