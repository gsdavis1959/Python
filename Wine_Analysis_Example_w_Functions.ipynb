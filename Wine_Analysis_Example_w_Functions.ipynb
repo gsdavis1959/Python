{
  "nbformat": 4,
  "nbformat_minor": 0,
  "metadata": {
    "colab": {
      "provenance": []
    },
    "kernelspec": {
      "name": "python3",
      "display_name": "Python 3"
    },
    "language_info": {
      "name": "python"
    }
  },
  "cells": [
    {
      "cell_type": "code",
      "execution_count": 1,
      "metadata": {
        "id": "HKOOh-3BHxMj"
      },
      "outputs": [],
      "source": [
        "import pandas as pd\n",
        "import numpy as np\n",
        "from sklearn.model_selection import train_test_split\n",
        "from sklearn.preprocessing import StandardScaler\n",
        "from sklearn.ensemble import RandomForestRegressor\n",
        "from sklearn.metrics import mean_squared_error, r2_score\n",
        "import requests\n",
        "from io import StringIO"
      ]
    },
    {
      "cell_type": "code",
      "source": [
        "# User-defined functions\n",
        "def load_wine_data(url):\n",
        "    \"\"\"Download and load wine data from a given URL.\"\"\"\n",
        "    response = requests.get(url)\n",
        "    data = StringIO(response.text)\n",
        "    df = pd.read_csv(data, sep=';')\n",
        "    return df\n",
        "\n",
        "def calculate_stats(df, columns):\n",
        "    \"\"\"Calculate basic statistics for specified columns.\"\"\"\n",
        "    stats = {}\n",
        "    for col in columns:\n",
        "        stats[col] = {\n",
        "            'mean': np.mean(df[col]),\n",
        "            'median': np.median(df[col]),\n",
        "            'std': np.std(df[col])\n",
        "        }\n",
        "    return stats\n",
        "\n",
        "def engineer_features(df):\n",
        "    \"\"\"Create new features from existing ones.\"\"\"\n",
        "    df['total_acidity'] = df['fixed acidity'] + df['volatile acidity']\n",
        "    df['sugar_to_acid_ratio'] = df['residual sugar'] / df['total_acidity']\n",
        "    return df"
      ],
      "metadata": {
        "id": "1hbBzzBZH1uI"
      },
      "execution_count": 2,
      "outputs": []
    },
    {
      "cell_type": "code",
      "source": [
        "# Higher-order function for applying transformations\n",
        "def apply_transformations(df, transformations):\n",
        "    for column, transform_func in transformations.items():\n",
        "        df[column] = df[column].apply(transform_func)\n",
        "    return df"
      ],
      "metadata": {
        "id": "CELHi1UjH7Zt"
      },
      "execution_count": 3,
      "outputs": []
    },
    {
      "cell_type": "code",
      "source": [
        "# Main workflow\n",
        "def main():\n",
        "    # Load data\n",
        "    url = \"https://archive.ics.uci.edu/ml/machine-learning-databases/wine-quality/winequality-red.csv\"\n",
        "    df = load_wine_data(url)\n",
        "\n",
        "    # Data cleaning (using built-in function)\n",
        "    df = df.dropna()\n",
        "\n",
        "    # Feature engineering\n",
        "    df = engineer_features(df)\n",
        "\n",
        "    # Apply transformations using lambda functions\n",
        "    transformations = {\n",
        "        'alcohol': lambda x: x / 100,  # Convert to decimal\n",
        "        'pH': lambda x: 10**(-x)  # Convert pH to hydrogen ion concentration\n",
        "    }\n",
        "    df = apply_transformations(df, transformations)\n",
        "\n",
        "    # Calculate statistics for numeric columns\n",
        "    numeric_columns = df.select_dtypes(include=[np.number]).columns\n",
        "    stats = calculate_stats(df, numeric_columns)\n",
        "    print(\"Basic statistics:\")\n",
        "    print(pd.DataFrame(stats))\n",
        "\n",
        "    # Prepare features and target\n",
        "    X = df.drop('quality', axis=1)\n",
        "    y = df['quality']\n",
        "\n",
        "    # Split data\n",
        "    X_train, X_test, y_train, y_test = train_test_split(X, y, test_size=0.2, random_state=42)\n",
        "\n",
        "    # Scale features\n",
        "    scaler = StandardScaler()\n",
        "    X_train_scaled = scaler.fit_transform(X_train)\n",
        "    X_test_scaled = scaler.transform(X_test)\n",
        "\n",
        "    # Train model\n",
        "    model = RandomForestRegressor(n_estimators=100, random_state=42)\n",
        "    model.fit(X_train_scaled, y_train)\n",
        "\n",
        "    # Make predictions\n",
        "    y_pred = model.predict(X_test_scaled)\n",
        "\n",
        "    # Calculate metrics\n",
        "    mse = mean_squared_error(y_test, y_pred)\n",
        "    r2 = r2_score(y_test, y_pred)\n",
        "    print(f\"\\nMean Squared Error: {mse:.4f}\")\n",
        "    print(f\"R-squared Score: {r2:.4f}\")\n",
        "\n",
        "    # Print feature importances (using lambda function)\n",
        "    feature_importances = sorted(\n",
        "        zip(model.feature_importances_, X.columns),\n",
        "        key=lambda x: x[0],\n",
        "        reverse=True\n",
        "    )\n",
        "    print(\"\\nTop 5 Feature Importances:\")\n",
        "    for importance, feature in feature_importances[:5]:\n",
        "        print(f\"{feature}: {importance:.4f}\")\n",
        "\n",
        "# Call the main workflow\n",
        "if __name__ == \"__main__\":\n",
        "    main()\n"
      ],
      "metadata": {
        "colab": {
          "base_uri": "https://localhost:8080/"
        },
        "id": "h9fEVWpeIAZr",
        "outputId": "1633ad5d-1697-47dc-8ede-528cf6126b51"
      },
      "execution_count": 4,
      "outputs": [
        {
          "output_type": "stream",
          "name": "stdout",
          "text": [
            "Basic statistics:\n",
            "        fixed acidity  volatile acidity  citric acid  residual sugar  \\\n",
            "mean         8.319637          0.527821     0.270976        2.538806   \n",
            "median       7.900000          0.520000     0.260000        2.200000   \n",
            "std          1.740552          0.179004     0.194740        1.409487   \n",
            "\n",
            "        chlorides  free sulfur dioxide  total sulfur dioxide   density  \\\n",
            "mean     0.087467            15.874922             46.467792  0.996747   \n",
            "median   0.079000            14.000000             38.000000  0.996750   \n",
            "std      0.047051            10.456886             32.885037  0.001887   \n",
            "\n",
            "              pH  sulphates   alcohol   quality  total_acidity  \\\n",
            "mean    0.000520   0.658149  0.104230  5.636023       8.847458   \n",
            "median  0.000490   0.620000  0.102000  6.000000       8.445000   \n",
            "std     0.000188   0.169454  0.010653  0.807317       1.703514   \n",
            "\n",
            "        sugar_to_acid_ratio  \n",
            "mean               0.293776  \n",
            "median             0.253485  \n",
            "std                0.171719  \n",
            "\n",
            "Mean Squared Error: 0.3035\n",
            "R-squared Score: 0.5356\n",
            "\n",
            "Top 5 Feature Importances:\n",
            "alcohol: 0.2676\n",
            "sulphates: 0.1427\n",
            "volatile acidity: 0.1058\n",
            "total sulfur dioxide: 0.0724\n",
            "chlorides: 0.0629\n"
          ]
        }
      ]
    }
  ]
}