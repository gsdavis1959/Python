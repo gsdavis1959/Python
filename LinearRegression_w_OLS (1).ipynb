{
  "nbformat": 4,
  "nbformat_minor": 0,
  "metadata": {
    "colab": {
      "name": "LinearRegression_w_OLS.ipynb",
      "provenance": [],
      "collapsed_sections": []
    },
    "kernelspec": {
      "name": "python3",
      "display_name": "Python 3"
    },
    "language_info": {
      "name": "python"
    }
  },
  "cells": [
    {
      "cell_type": "code",
      "metadata": {
        "id": "HlYAuUTgsaBP"
      },
      "source": [
        "import numpy as np\n",
        "x = np.array([ 56755.72171242,  44178.04737774,  40991.80813814,   8814.00098681, 43585.51198178,  13574.17183072,   6175.8760297 ,  17829.69832237, 53254.85637009,  17522.23018625,  42784.69836164,  36638.18492916, 41086.72967373,  18167.77372717,  12706.89121489,  52564.42917946, 61995.42280258,  35776.79516181,  30230.22630213,  34524.46986093, 13774.60527391,  14258.22933451, 101376.49657434,   9616.64500569, 45175.23189338,  38615.99518491,  74355.51585756,  12578.49547344, 19242.3664711 ,  16310.988409  ,  20881.76692993,   5734.63362915, 25732.01836475,  51545.48360953,  82081.59716162,  11006.2497364 , 44974.83187718,  56839.38177423])\n",
        "y = np.array([7.3, 7.1, 6.9, 6.4, 7.4, 6.5, 6.3, 6.7, 7.6, 5.7, 7.6, 6.5, 7.0, 5.4, 5.6, 7.5, 7.0, 7.2, 6.0, 5.9, 5.9, 5.9, 6.9, 6.5, 7.4, 7.3, 7.6, 6.1, 5.4, 6.2, 5.9, 4.7, 6.3, 7.3, 7.5, 5.5, 6.8, 6.9])"
      ],
      "execution_count": null,
      "outputs": []
    },
    {
      "cell_type": "code",
      "metadata": {
        "colab": {
          "base_uri": "https://localhost:8080/",
          "height": 265
        },
        "id": "zj5M6qKyskcw",
        "outputId": "15805531-a3f8-480f-ddbb-724c8b6d57a2"
      },
      "source": [
        "import matplotlib.pyplot as plt\n",
        "p = np.poly1d(np.polyfit(x, y, 1))\n",
        "x_line = np.linspace(np.amin(x), np.amax(x), 200)\n",
        "plt.scatter(x, y)\n",
        "plt.plot(x_line, p(x_line))\n",
        "plt.show()"
      ],
      "execution_count": null,
      "outputs": [
        {
          "output_type": "display_data",
          "data": {
            "image/png": "[encoded data removed]",
            "text/plain": [
              "<Figure size 432x288 with 1 Axes>"
            ]
          },
          "metadata": {
            "needs_background": "light"
          }
        }
      ]
    },
    {
      "cell_type": "code",
      "metadata": {
        "id": "gSd-HYDlsxnT"
      },
      "source": [
        "import statsmodels.api as sm\n",
        "x = sm.add_constant(x) # Adds an intercept term to the simple linear regression formula\n",
        "lin_model = sm.OLS(y, x)\n",
        "regr_results = lin_model.fit()"
      ],
      "execution_count": null,
      "outputs": []
    },
    {
      "cell_type": "code",
      "metadata": {
        "colab": {
          "base_uri": "https://localhost:8080/"
        },
        "id": "NkgtWbCbtIld",
        "outputId": "4329ccd7-91a1-4a3b-9fc4-8805a9e06753"
      },
      "source": [
        "print(regr_results.summary())"
      ],
      "execution_count": null,
      "outputs": [
        {
          "output_type": "stream",
          "text": [
            "                            OLS Regression Results                            \n",
            "==============================================================================\n",
            "Dep. Variable:                      y   R-squared:                       0.519\n",
            "Model:                            OLS   Adj. R-squared:                  0.505\n",
            "Method:                 Least Squares   F-statistic:                     38.82\n",
            "Date:                Sat, 28 Aug 2021   Prob (F-statistic):           3.43e-07\n",
            "Time:                        17:01:01   Log-Likelihood:                -28.824\n",
            "No. Observations:                  38   AIC:                             61.65\n",
            "Df Residuals:                      36   BIC:                             64.92\n",
            "Df Model:                           1                                         \n",
            "Covariance Type:            nonrobust                                         \n",
            "==============================================================================\n",
            "                 coef    std err          t      P>|t|      [0.025      0.975]\n",
            "------------------------------------------------------------------------------\n",
            "const          5.7418      0.159     36.218      0.000       5.420       6.063\n",
            "x1            2.4e-05   3.85e-06      6.230      0.000    1.62e-05    3.18e-05\n",
            "==============================================================================\n",
            "Omnibus:                        2.630   Durbin-Watson:                   1.765\n",
            "Prob(Omnibus):                  0.268   Jarque-Bera (JB):                2.372\n",
            "Skew:                          -0.591   Prob(JB):                        0.305\n",
            "Kurtosis:                       2.680   Cond. No.                     7.58e+04\n",
            "==============================================================================\n",
            "\n",
            "Warnings:\n",
            "[1] Standard Errors assume that the covariance matrix of the errors is correctly specified.\n",
            "[2] The condition number is large, 7.58e+04. This might indicate that there are\n",
            "strong multicollinearity or other numerical problems.\n"
          ],
          "name": "stdout"
        }
      ]
    },
    {
      "cell_type": "code",
      "metadata": {
        "id": "PpCDbTn8RDnN"
      },
      "source": [
        "# multiple linear regression\n",
        "from sklearn import linear_model\n",
        "# import data here\n",
        "\n",
        "X = df[['calculo1', 'lpt', 'p1', 'ic', 'calculo2']]\n",
        "y = df['cra']\n",
        "\n",
        "regr = linear_model.LinearRegression()\n",
        "regr.fit(X, y)\n",
        "\n",
        "print(regr.coef_)\n",
        "print(regr.intercept_)"
      ],
      "execution_count": null,
      "outputs": []
    }
  ]
}