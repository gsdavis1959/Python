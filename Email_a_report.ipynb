{
  "nbformat": 4,
  "nbformat_minor": 0,
  "metadata": {
    "colab": {
      "provenance": [],
      "collapsed_sections": []
    },
    "kernelspec": {
      "name": "python3",
      "display_name": "Python 3"
    },
    "language_info": {
      "name": "python"
    }
  },
  "cells": [
    {
      "cell_type": "code",
      "execution_count": 1,
      "metadata": {
        "id": "YCYYk5e69MhG"
      },
      "outputs": [],
      "source": [
        "import pandas as pd\n",
        "import smtplib\n",
        "import matplotlib.pyplot as plt\n",
        "\n",
        "from email.mime.image import MIMEImage\n",
        "from email.mime.multipart import MIMEMultipart\n",
        "from email.mime.text import MIMEText\n",
        "from email.message import EmailMessage\n",
        "from email.mime.base import MIMEBase\n",
        "\n",
        "import codecs"
      ]
    },
    {
      "cell_type": "code",
      "source": [
        "dict_days = dict(zip(['MON', 'TUE', 'WED', 'THU', 'FRI', 'SAT', 'SUN'], \n",
        "                     ['Monday', 'Tuesday', 'Wednesday', 'Thursday', 'Friday', 'Saturday', 'Sunday']\n",
        "                    ))\n",
        "WEEK = 'WEEK-1'"
      ],
      "metadata": {
        "id": "eYK60Eu49THb"
      },
      "execution_count": 2,
      "outputs": []
    },
    {
      "cell_type": "code",
      "source": [
        "# Volumes per day\n",
        "df_day = pd.read_csv('https://raw.githubusercontent.com/samirsaci/automated_report/main/volumes%20per%20day.csv')\n",
        "df_plot = df_day[df_day['WEEK'] ==WEEK].copy()\n",
        "\n",
        "''' Calculate KPIs for Comments'''\n",
        "# Lines per orders\n",
        "df_plot['LINES/ORDER'] = df_plot['LINES']/df_plot['ORDERS']\n",
        "avg_ratio = '{:.2f} lines/order'.format(df_plot['LINES/ORDER'].mean())\n",
        "max_ratio = '{:.2f} lines/order'.format(df_plot['LINES/ORDER'].max())\n",
        "print(avg_ratio)\n",
        "print(max_ratio)\n",
        "\n",
        "# Maximum Day Lines\n",
        "busy_day = dict_days[df_plot.set_index('DAY')['LINES'].idxmax()]\n",
        "max_lines = '{:,} lines'.format(df_plot['LINES'].max())\n",
        "print(busy_day)\n",
        "print(max_lines)\n",
        "\n",
        "# Total Workload\n",
        "total_lines = '{:,} lines'.format(df_plot['LINES'].sum())\n",
        "print(total_lines)\n",
        "\n",
        "# Bar Plot: Orders/Lines\n",
        "fig, ax = plt.subplots(figsize=(14, 7))\n",
        "df_plot.plot.bar(figsize=(8, 6), edgecolor='black', x='DAY', y=['ORDERS', 'LINES'], \n",
        "                                           color=['tab:blue', 'tab:red'], legend= True, ax = ax)\n",
        "plt.xlabel('DAY', fontsize = 12)\n",
        "plt.title('Workload per day (Lines/day)', fontsize = 12)\n",
        "plt.show()"
      ],
      "metadata": {
        "colab": {
          "base_uri": "https://localhost:8080/",
          "height": 508
        },
        "id": "aZrO0DEo9XIY",
        "outputId": "484c1e57-57cb-447e-c2f5-2c930ae09591"
      },
      "execution_count": 4,
      "outputs": [
        {
          "output_type": "stream",
          "name": "stdout",
          "text": [
            "1.85 lines/order\n",
            "2.52 lines/order\n",
            "Sunday\n",
            "3,479 lines\n",
            "14,583 lines\n"
          ]
        },
        {
          "output_type": "display_data",
          "data": {
            "text/plain": [
              "<Figure size 576x432 with 1 Axes>"
            ],
            "image/png": "[encoded data removed]"
          },
          "metadata": {
            "needs_background": "light"
          }
        }
      ]
    },
    {
      "cell_type": "code",
      "source": [
        "# save plot\n",
        "filename = 'visual' + \".png\"\n",
        "path_plot = filename\n",
        "fig.savefig(path_plot, dpi=fig.dpi)"
      ],
      "metadata": {
        "id": "XUeHdNp49u_3"
      },
      "execution_count": 5,
      "outputs": []
    },
    {
      "cell_type": "code",
      "source": [
        "# Files Name\n",
        "file_img = 'visual.png'\n",
        "file_header =  \"header_img.png\"\n",
        "\n",
        "# Settings\n",
        "from_mail = '@gmail.com'\n",
        "from_password = ''\n",
        "to_mail = \"@gmail.com\"\n",
        "\n",
        "# SMTP Server (example of gmail)\n",
        "smtp_server = 'smtp.google.com'\n",
        "smtp_port = 465"
      ],
      "metadata": {
        "id": "creSbFHV91fl"
      },
      "execution_count": 11,
      "outputs": []
    },
    {
      "cell_type": "code",
      "source": [
        "# Message Object\n",
        "msg = MIMEMultipart()\n",
        "msg['Subject'] = 'Workload Report for {}'.format(WEEK)\n",
        "msg['From'] = from_mail\n",
        "msg['To'] = ', '.join([from_mail, to_mail])\n",
        "msg.preamble = 'Workload Report for {}'.format(WEEK)\n",
        "\n",
        "# Open the visual\n",
        "with open(file_img, 'rb') as fp:\n",
        "    img = MIMEImage(fp.read())\n",
        "    img.add_header('Content-Disposition', 'attachment', filename=file_img)\n",
        "    img.add_header('X-Attachment-Id', '0')\n",
        "    img.add_header('Content-ID', '<0>')\n",
        "    fp.close()\n",
        "    msg.attach(img)\n",
        "\n",
        "# Open the header\n",
        "with open(file_header, 'rb') as fp:\n",
        "    img = MIMEImage(fp.read())\n",
        "    img.add_header('Content-Disposition', 'attachment', filename=file_header)\n",
        "    img.add_header('X-Attachment-Id', '1')\n",
        "    img.add_header('Content-ID', '<1>')\n",
        "    fp.close()\n",
        "    msg.attach(img)\n",
        "\n",
        "# Attach the HTML email\n",
        "f = codecs.open(\"report.html\", 'r')\n",
        "string = f.read()\n",
        "\n",
        "# Add the images in the HTML report\n",
        "html_string = string.replace(\"IMG_HTML\", \"cid:0\")\n",
        "html_string = html_string.replace(\"HEADER_HTML\", \"cid:1\")\n",
        "\n",
        "# Add the insights\n",
        "html_string = html_string.replace(\"WEEK\", WEEK)\n",
        "html_string = html_string.replace(\"total_lines\", total_lines)\n",
        "html_string = html_string.replace(\"busy_day\", busy_day)\n",
        "html_string = html_string.replace(\"max_lines\", max_lines)\n",
        "html_string = html_string.replace(\"avg_ratio\", avg_ratio)\n",
        "html_string = html_string.replace(\"max_ratio\", max_ratio)\n",
        "\n",
        "# Attach the HTML page\n",
        "msg.attach(MIMEText(html_string, 'html', 'utf-8'))\n",
        "\n",
        "# Send the email via our own SMTP server\n",
        "server = smtplib.SMTP_SSL(smtp_server, smtp_port)\n",
        "server.ehlo()\n",
        "server.login(from_mail, from_password)\n",
        "\n",
        "server.sendmail(from_mail, [from_mail, to_mail], msg.as_string())\n",
        "server.quit()"
      ],
      "metadata": {
        "colab": {
          "base_uri": "https://localhost:8080/",
          "height": 381
        },
        "id": "2IEJ_drk-IUl",
        "outputId": "05b38789-268b-4373-d873-9c50933a07bd"
      },
      "execution_count": 14,
      "outputs": [
        {
          "output_type": "error",
          "ename": "KeyboardInterrupt",
          "evalue": "ignored",
          "traceback": [
            "\u001b[0;31m---------------------------------------------------------------------------\u001b[0m",
            "\u001b[0;31mKeyboardInterrupt\u001b[0m                         Traceback (most recent call last)",
            "\u001b[0;32m<ipython-input-14-e008a6692d9d>\u001b[0m in \u001b[0;36m<module>\u001b[0;34m\u001b[0m\n\u001b[1;32m     44\u001b[0m \u001b[0;34m\u001b[0m\u001b[0m\n\u001b[1;32m     45\u001b[0m \u001b[0;31m# Send the email via our own SMTP server\u001b[0m\u001b[0;34m\u001b[0m\u001b[0;34m\u001b[0m\u001b[0;34m\u001b[0m\u001b[0m\n\u001b[0;32m---> 46\u001b[0;31m \u001b[0mserver\u001b[0m \u001b[0;34m=\u001b[0m \u001b[0msmtplib\u001b[0m\u001b[0;34m.\u001b[0m\u001b[0mSMTP_SSL\u001b[0m\u001b[0;34m(\u001b[0m\u001b[0msmtp_server\u001b[0m\u001b[0;34m,\u001b[0m \u001b[0msmtp_port\u001b[0m\u001b[0;34m)\u001b[0m\u001b[0;34m\u001b[0m\u001b[0;34m\u001b[0m\u001b[0m\n\u001b[0m\u001b[1;32m     47\u001b[0m \u001b[0mserver\u001b[0m\u001b[0;34m.\u001b[0m\u001b[0mehlo\u001b[0m\u001b[0;34m(\u001b[0m\u001b[0;34m)\u001b[0m\u001b[0;34m\u001b[0m\u001b[0;34m\u001b[0m\u001b[0m\n\u001b[1;32m     48\u001b[0m \u001b[0mserver\u001b[0m\u001b[0;34m.\u001b[0m\u001b[0mlogin\u001b[0m\u001b[0;34m(\u001b[0m\u001b[0mfrom_mail\u001b[0m\u001b[0;34m,\u001b[0m \u001b[0mfrom_password\u001b[0m\u001b[0;34m)\u001b[0m\u001b[0;34m\u001b[0m\u001b[0;34m\u001b[0m\u001b[0m\n",
            "\u001b[0;32m/usr/lib/python3.7/smtplib.py\u001b[0m in \u001b[0;36m__init__\u001b[0;34m(self, host, port, local_hostname, keyfile, certfile, timeout, source_address, context)\u001b[0m\n\u001b[1;32m   1034\u001b[0m             \u001b[0mself\u001b[0m\u001b[0;34m.\u001b[0m\u001b[0mcontext\u001b[0m \u001b[0;34m=\u001b[0m \u001b[0mcontext\u001b[0m\u001b[0;34m\u001b[0m\u001b[0;34m\u001b[0m\u001b[0m\n\u001b[1;32m   1035\u001b[0m             SMTP.__init__(self, host, port, local_hostname, timeout,\n\u001b[0;32m-> 1036\u001b[0;31m                     source_address)\n\u001b[0m\u001b[1;32m   1037\u001b[0m \u001b[0;34m\u001b[0m\u001b[0m\n\u001b[1;32m   1038\u001b[0m         \u001b[0;32mdef\u001b[0m \u001b[0m_get_socket\u001b[0m\u001b[0;34m(\u001b[0m\u001b[0mself\u001b[0m\u001b[0;34m,\u001b[0m \u001b[0mhost\u001b[0m\u001b[0;34m,\u001b[0m \u001b[0mport\u001b[0m\u001b[0;34m,\u001b[0m \u001b[0mtimeout\u001b[0m\u001b[0;34m)\u001b[0m\u001b[0;34m:\u001b[0m\u001b[0;34m\u001b[0m\u001b[0;34m\u001b[0m\u001b[0m\n",
            "\u001b[0;32m/usr/lib/python3.7/smtplib.py\u001b[0m in \u001b[0;36m__init__\u001b[0;34m(self, host, port, local_hostname, timeout, source_address)\u001b[0m\n\u001b[1;32m    249\u001b[0m \u001b[0;34m\u001b[0m\u001b[0m\n\u001b[1;32m    250\u001b[0m         \u001b[0;32mif\u001b[0m \u001b[0mhost\u001b[0m\u001b[0;34m:\u001b[0m\u001b[0;34m\u001b[0m\u001b[0;34m\u001b[0m\u001b[0m\n\u001b[0;32m--> 251\u001b[0;31m             \u001b[0;34m(\u001b[0m\u001b[0mcode\u001b[0m\u001b[0;34m,\u001b[0m \u001b[0mmsg\u001b[0m\u001b[0;34m)\u001b[0m \u001b[0;34m=\u001b[0m \u001b[0mself\u001b[0m\u001b[0;34m.\u001b[0m\u001b[0mconnect\u001b[0m\u001b[0;34m(\u001b[0m\u001b[0mhost\u001b[0m\u001b[0;34m,\u001b[0m \u001b[0mport\u001b[0m\u001b[0;34m)\u001b[0m\u001b[0;34m\u001b[0m\u001b[0;34m\u001b[0m\u001b[0m\n\u001b[0m\u001b[1;32m    252\u001b[0m             \u001b[0;32mif\u001b[0m \u001b[0mcode\u001b[0m \u001b[0;34m!=\u001b[0m \u001b[0;36m220\u001b[0m\u001b[0;34m:\u001b[0m\u001b[0;34m\u001b[0m\u001b[0;34m\u001b[0m\u001b[0m\n\u001b[1;32m    253\u001b[0m                 \u001b[0mself\u001b[0m\u001b[0;34m.\u001b[0m\u001b[0mclose\u001b[0m\u001b[0;34m(\u001b[0m\u001b[0;34m)\u001b[0m\u001b[0;34m\u001b[0m\u001b[0;34m\u001b[0m\u001b[0m\n",
            "\u001b[0;32m/usr/lib/python3.7/smtplib.py\u001b[0m in \u001b[0;36mconnect\u001b[0;34m(self, host, port, source_address)\u001b[0m\n\u001b[1;32m    334\u001b[0m         \u001b[0;32mif\u001b[0m \u001b[0mself\u001b[0m\u001b[0;34m.\u001b[0m\u001b[0mdebuglevel\u001b[0m \u001b[0;34m>\u001b[0m \u001b[0;36m0\u001b[0m\u001b[0;34m:\u001b[0m\u001b[0;34m\u001b[0m\u001b[0;34m\u001b[0m\u001b[0m\n\u001b[1;32m    335\u001b[0m             \u001b[0mself\u001b[0m\u001b[0;34m.\u001b[0m\u001b[0m_print_debug\u001b[0m\u001b[0;34m(\u001b[0m\u001b[0;34m'connect:'\u001b[0m\u001b[0;34m,\u001b[0m \u001b[0;34m(\u001b[0m\u001b[0mhost\u001b[0m\u001b[0;34m,\u001b[0m \u001b[0mport\u001b[0m\u001b[0;34m)\u001b[0m\u001b[0;34m)\u001b[0m\u001b[0;34m\u001b[0m\u001b[0;34m\u001b[0m\u001b[0m\n\u001b[0;32m--> 336\u001b[0;31m         \u001b[0mself\u001b[0m\u001b[0;34m.\u001b[0m\u001b[0msock\u001b[0m \u001b[0;34m=\u001b[0m \u001b[0mself\u001b[0m\u001b[0;34m.\u001b[0m\u001b[0m_get_socket\u001b[0m\u001b[0;34m(\u001b[0m\u001b[0mhost\u001b[0m\u001b[0;34m,\u001b[0m \u001b[0mport\u001b[0m\u001b[0;34m,\u001b[0m \u001b[0mself\u001b[0m\u001b[0;34m.\u001b[0m\u001b[0mtimeout\u001b[0m\u001b[0;34m)\u001b[0m\u001b[0;34m\u001b[0m\u001b[0;34m\u001b[0m\u001b[0m\n\u001b[0m\u001b[1;32m    337\u001b[0m         \u001b[0mself\u001b[0m\u001b[0;34m.\u001b[0m\u001b[0mfile\u001b[0m \u001b[0;34m=\u001b[0m \u001b[0;32mNone\u001b[0m\u001b[0;34m\u001b[0m\u001b[0;34m\u001b[0m\u001b[0m\n\u001b[1;32m    338\u001b[0m         \u001b[0;34m(\u001b[0m\u001b[0mcode\u001b[0m\u001b[0;34m,\u001b[0m \u001b[0mmsg\u001b[0m\u001b[0;34m)\u001b[0m \u001b[0;34m=\u001b[0m \u001b[0mself\u001b[0m\u001b[0;34m.\u001b[0m\u001b[0mgetreply\u001b[0m\u001b[0;34m(\u001b[0m\u001b[0;34m)\u001b[0m\u001b[0;34m\u001b[0m\u001b[0;34m\u001b[0m\u001b[0m\n",
            "\u001b[0;32m/usr/lib/python3.7/smtplib.py\u001b[0m in \u001b[0;36m_get_socket\u001b[0;34m(self, host, port, timeout)\u001b[0m\n\u001b[1;32m   1040\u001b[0m                 \u001b[0mself\u001b[0m\u001b[0;34m.\u001b[0m\u001b[0m_print_debug\u001b[0m\u001b[0;34m(\u001b[0m\u001b[0;34m'connect:'\u001b[0m\u001b[0;34m,\u001b[0m \u001b[0;34m(\u001b[0m\u001b[0mhost\u001b[0m\u001b[0;34m,\u001b[0m \u001b[0mport\u001b[0m\u001b[0;34m)\u001b[0m\u001b[0;34m)\u001b[0m\u001b[0;34m\u001b[0m\u001b[0;34m\u001b[0m\u001b[0m\n\u001b[1;32m   1041\u001b[0m             new_socket = socket.create_connection((host, port), timeout,\n\u001b[0;32m-> 1042\u001b[0;31m                     self.source_address)\n\u001b[0m\u001b[1;32m   1043\u001b[0m             new_socket = self.context.wrap_socket(new_socket,\n\u001b[1;32m   1044\u001b[0m                                                   server_hostname=self._host)\n",
            "\u001b[0;32m/usr/lib/python3.7/socket.py\u001b[0m in \u001b[0;36mcreate_connection\u001b[0;34m(address, timeout, source_address)\u001b[0m\n\u001b[1;32m    714\u001b[0m             \u001b[0;32mif\u001b[0m \u001b[0msource_address\u001b[0m\u001b[0;34m:\u001b[0m\u001b[0;34m\u001b[0m\u001b[0;34m\u001b[0m\u001b[0m\n\u001b[1;32m    715\u001b[0m                 \u001b[0msock\u001b[0m\u001b[0;34m.\u001b[0m\u001b[0mbind\u001b[0m\u001b[0;34m(\u001b[0m\u001b[0msource_address\u001b[0m\u001b[0;34m)\u001b[0m\u001b[0;34m\u001b[0m\u001b[0;34m\u001b[0m\u001b[0m\n\u001b[0;32m--> 716\u001b[0;31m             \u001b[0msock\u001b[0m\u001b[0;34m.\u001b[0m\u001b[0mconnect\u001b[0m\u001b[0;34m(\u001b[0m\u001b[0msa\u001b[0m\u001b[0;34m)\u001b[0m\u001b[0;34m\u001b[0m\u001b[0;34m\u001b[0m\u001b[0m\n\u001b[0m\u001b[1;32m    717\u001b[0m             \u001b[0;31m# Break explicitly a reference cycle\u001b[0m\u001b[0;34m\u001b[0m\u001b[0;34m\u001b[0m\u001b[0;34m\u001b[0m\u001b[0m\n\u001b[1;32m    718\u001b[0m             \u001b[0merr\u001b[0m \u001b[0;34m=\u001b[0m \u001b[0;32mNone\u001b[0m\u001b[0;34m\u001b[0m\u001b[0;34m\u001b[0m\u001b[0m\n",
            "\u001b[0;31mKeyboardInterrupt\u001b[0m: "
          ]
        }
      ]
    }
  ]
}