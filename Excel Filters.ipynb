{
 "cells": [
  {
   "cell_type": "code",
   "execution_count": 1,
   "metadata": {},
   "outputs": [],
   "source": [
    "from openpyxl import Workbook\n",
    "\n",
    "wb = Workbook()\n",
    "ws = wb.active\n",
    "\n",
    "data = [\n",
    "    [\"Fruit\", \"Quantity\"],\n",
    "    [\"Kiwi\", 3],\n",
    "    [\"Grape\", 15],\n",
    "    [\"Apple\", 3],\n",
    "    [\"Peach\", 3],\n",
    "    [\"Pomegranate\", 3],\n",
    "    [\"Pear\", 3],\n",
    "    [\"Tangerine\", 3],\n",
    "    [\"Blueberry\", 3],\n",
    "    [\"Mango\", 3],\n",
    "    [\"Watermelon\", 3],\n",
    "    [\"Blackberry\", 3],\n",
    "    [\"Orange\", 3],\n",
    "    [\"Raspberry\", 3],\n",
    "    [\"Banana\", 3]\n",
    "]\n",
    "\n",
    "for r in data:\n",
    "    ws.append(r)\n",
    "\n",
    "ws.auto_filter.ref = \"A1:B15\"\n",
    "ws.auto_filter.add_filter_column(0, [\"Kiwi\", \"Apple\", \"Mango\"])\n",
    "ws.auto_filter.add_sort_condition(\"B2:B15\")\n",
    "\n",
    "wb.save(\"filtered.xlsx\")"
   ]
  }
 ],
 "metadata": {
  "kernelspec": {
   "display_name": "Python 3",
   "language": "python",
   "name": "python3"
  },
  "language_info": {
   "codemirror_mode": {
    "name": "ipython",
    "version": 3
   },
   "file_extension": ".py",
   "mimetype": "text/x-python",
   "name": "python",
   "nbconvert_exporter": "python",
   "pygments_lexer": "ipython3",
   "version": "3.6.8"
  }
 },
 "nbformat": 4,
 "nbformat_minor": 2
}
