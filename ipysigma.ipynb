{
  "nbformat": 4,
  "nbformat_minor": 0,
  "metadata": {
    "colab": {
      "provenance": []
    },
    "kernelspec": {
      "name": "python3",
      "display_name": "Python 3"
    },
    "language_info": {
      "name": "python"
    },
    "widgets": {
      "application/vnd.jupyter.widget-state+json": {
        "4c93e7bbf8b6434594a41e7d476fdda4": {
          "model_module": "ipysigma",
          "model_name": "SigmaModel",
          "model_module_version": "^0.24.2",
          "state": {
            "_dom_classes": [],
            "_model_module": "ipysigma",
            "_model_module_version": "^0.24.2",
            "_model_name": "SigmaModel",
            "_view_count": null,
            "_view_module": "ipysigma",
            "_view_module_version": "^0.24.2",
            "_view_name": "SigmaView",
            "background_color": "white",
            "camera_state": {
              "x": 3.075516188927726,
              "y": 0.05217729568531301,
              "angle": 0,
              "ratio": 4.105581307878325
            },
            "clickable_edges": false,
            "data": {
              "nodes": [
                {
                  "key": "Alice",
                  "attributes": {}
                },
                {
                  "key": "Bob",
                  "attributes": {}
                },
                {
                  "key": "Chloe",
                  "attributes": {}
                }
              ],
              "edges": [
                {
                  "source": "Alice",
                  "target": "Bob",
                  "attributes": {
                    "weight": 1
                  }
                },
                {
                  "source": "Alice",
                  "target": "Chloe",
                  "attributes": {
                    "weight": 1
                  }
                },
                {
                  "source": "Bob",
                  "target": "Chloe",
                  "attributes": {
                    "weight": 2
                  }
                }
              ],
              "options": {
                "type": "directed",
                "multi": false
              }
            },
            "edge_weight": "weight",
            "height": "500px",
            "layout": {
              "Alice": {
                "x": 0.15428945819567985,
                "y": 0.25273989917914547
              },
              "Bob": {
                "x": 0.576205102830118,
                "y": 0.8675055928414426
              },
              "Chloe": {
                "x": 0.4923044575685007,
                "y": 0.754932884707381
              }
            },
            "layout_settings": null,
            "max_categorical_colors": 10,
            "name": null,
            "node_metrics": {},
            "program_settings": {},
            "renderer_settings": {
              "zIndex": true,
              "enableEdgeClickEvents": false,
              "enableEdgeHoverEvents": false,
              "labelDensity": 1,
              "labelGridCellSize": 250,
              "renderEdgeLabels": true,
              "labelFont": "sans-serif",
              "hideEdgesOnMove": false,
              "defaultNodeType": "point",
              "defaultEdgeType": "arrow"
            },
            "selected_edge": null,
            "selected_edge_category_values": null,
            "selected_node": null,
            "selected_node_category_values": null,
            "snapshot": null,
            "start_layout": false,
            "start_layout_for_seconds": null,
            "sync_key": null,
            "sync_targets": [
              "layout",
              "selection",
              "hover",
              "camera"
            ],
            "ui_settings": {
              "hideInfoPanel": false,
              "hideSearch": false
            },
            "visual_variables": {
              "nodeLabel": {
                "type": "raw",
                "attribute": "label",
                "default": null
              },
              "nodeLabelSize": {
                "type": "constant",
                "default": 12
              },
              "nodeLabelColor": {
                "type": "constant",
                "default": "#000"
              },
              "nodeColor": {
                "type": "raw",
                "attribute": "color",
                "default": "#999"
              },
              "nodeColorSaturation": {
                "type": "disabled",
                "default": null
              },
              "nodeBorderColor": {
                "type": "disabled",
                "default": null
              },
              "nodeBorderRatio": {
                "type": "disabled",
                "default": null
              },
              "nodeBorderSize": {
                "type": "constant",
                "default": 1
              },
              "nodeSize": {
                "type": "continuous",
                "range": [
                  3,
                  15
                ],
                "attribute": "size",
                "default": 3
              },
              "nodePictogram": {
                "type": "disabled",
                "default": null
              },
              "nodePictogramColor": {
                "type": "constant",
                "default": "#000"
              },
              "nodeHaloSize": {
                "type": "disabled",
                "default": null
              },
              "nodeHaloColor": {
                "type": "constant",
                "default": "red"
              },
              "nodeShape": {
                "type": "disabled",
                "default": null
              },
              "edgeLabel": {
                "type": "raw",
                "attribute": "label",
                "default": null
              },
              "edgeColor": {
                "type": "raw",
                "attribute": "color",
                "default": "#ccc"
              },
              "edgeSize": {
                "type": "continuous",
                "range": [
                  0.5,
                  10
                ],
                "attribute": "weight",
                "default": 0.5
              },
              "edgeCurveness": {
                "type": "constant",
                "default": 0.25
              }
            }
          }
        },
        "5d1fc384196b4dabaab938400de0ee80": {
          "model_module": "ipysigma",
          "model_name": "SigmaModel",
          "model_module_version": "^0.24.2",
          "state": {
            "_dom_classes": [],
            "_model_module": "ipysigma",
            "_model_module_version": "^0.24.2",
            "_model_name": "SigmaModel",
            "_view_count": null,
            "_view_module": "ipysigma",
            "_view_module_version": "^0.24.2",
            "_view_name": "SigmaView",
            "background_color": "white",
            "camera_state": {
              "ratio": 1,
              "x": 0.5,
              "y": 0.5,
              "angle": 0
            },
            "clickable_edges": false,
            "data": {
              "nodes": [
                {
                  "key": 0,
                  "attributes": {
                    "status": "student",
                    "label": "C"
                  }
                },
                {
                  "key": 1,
                  "attributes": {
                    "status": "professor",
                    "label": "A"
                  }
                },
                {
                  "key": 2,
                  "attributes": {
                    "status": "student",
                    "label": "D"
                  }
                },
                {
                  "key": 3,
                  "attributes": {
                    "status": "student",
                    "label": "E"
                  }
                },
                {
                  "key": 4,
                  "attributes": {
                    "status": "professor",
                    "label": "B"
                  }
                },
                {
                  "key": 5,
                  "attributes": {
                    "status": "student",
                    "label": "F"
                  }
                },
                {
                  "key": 6,
                  "attributes": {
                    "status": "student",
                    "label": "G"
                  }
                },
                {
                  "key": 7,
                  "attributes": {
                    "status": "student",
                    "label": "H"
                  }
                }
              ],
              "edges": [
                {
                  "source": 0,
                  "target": 1,
                  "attributes": {
                    "weight": 1
                  }
                },
                {
                  "source": 0,
                  "target": 4,
                  "attributes": {
                    "weight": 1
                  }
                },
                {
                  "source": 1,
                  "target": 2,
                  "attributes": {
                    "weight": 1
                  }
                },
                {
                  "source": 1,
                  "target": 3,
                  "attributes": {
                    "weight": 1
                  }
                },
                {
                  "source": 4,
                  "target": 5,
                  "attributes": {
                    "weight": 1
                  }
                },
                {
                  "source": 4,
                  "target": 6,
                  "attributes": {
                    "weight": 1
                  }
                },
                {
                  "source": 4,
                  "target": 7,
                  "attributes": {
                    "weight": 1
                  }
                }
              ],
              "options": {
                "type": "undirected",
                "multi": false
              }
            },
            "edge_weight": "weight",
            "height": "500px",
            "layout": {
              "0": {
                "x": 0.15428948876230283,
                "y": 0.25273986629959766
              },
              "1": {
                "x": 0.5762050567157171,
                "y": 0.8675055755423209
              },
              "2": {
                "x": 0.4923045147706771,
                "y": 0.7549328770522359
              },
              "3": {
                "x": 0.536310160588477,
                "y": 0.6607164922702594
              },
              "4": {
                "x": 0.17898877761019927,
                "y": 0.7423470400617883
              },
              "5": {
                "x": 0.7654569574501733,
                "y": 0.2409002179776765
              },
              "6": {
                "x": 0.8666364121438902,
                "y": 0.3612731622048909
              },
              "7": {
                "x": 0.3750092524652347,
                "y": 0.43898357292952234
              }
            },
            "layout_settings": null,
            "max_categorical_colors": 10,
            "name": null,
            "node_metrics": {},
            "program_settings": {},
            "renderer_settings": {
              "zIndex": true,
              "enableEdgeClickEvents": false,
              "enableEdgeHoverEvents": false,
              "labelDensity": 10000,
              "labelGridCellSize": 250,
              "renderEdgeLabels": true,
              "labelFont": "sans-serif",
              "hideEdgesOnMove": false,
              "labelRenderedSizeThreshold": 0,
              "defaultNodeType": "point",
              "defaultEdgeType": "rectangle"
            },
            "selected_edge": null,
            "selected_edge_category_values": null,
            "selected_node": null,
            "selected_node_category_values": null,
            "snapshot": null,
            "start_layout": false,
            "start_layout_for_seconds": null,
            "sync_key": null,
            "sync_targets": [
              "layout",
              "selection",
              "hover",
              "camera"
            ],
            "ui_settings": {
              "hideInfoPanel": false,
              "hideSearch": false
            },
            "visual_variables": {
              "nodeLabel": {
                "type": "raw",
                "attribute": "label",
                "default": null
              },
              "nodeLabelSize": {
                "type": "constant",
                "default": 12
              },
              "nodeLabelColor": {
                "type": "constant",
                "default": "#000"
              },
              "nodeColor": {
                "type": "category",
                "attribute": "status",
                "default": "#999"
              },
              "nodeColorSaturation": {
                "type": "disabled",
                "default": null
              },
              "nodeBorderColor": {
                "type": "disabled",
                "default": null
              },
              "nodeBorderRatio": {
                "type": "disabled",
                "default": null
              },
              "nodeBorderSize": {
                "type": "constant",
                "default": 1
              },
              "nodeSize": {
                "type": "continuous",
                "range": [
                  3,
                  15
                ],
                "attribute": "size",
                "default": 10
              },
              "nodePictogram": {
                "type": "disabled",
                "default": null
              },
              "nodePictogramColor": {
                "type": "constant",
                "default": "#000"
              },
              "nodeHaloSize": {
                "type": "disabled",
                "default": null
              },
              "nodeHaloColor": {
                "type": "constant",
                "default": "red"
              },
              "nodeShape": {
                "type": "disabled",
                "default": null
              },
              "edgeLabel": {
                "type": "raw",
                "attribute": "label",
                "default": null
              },
              "edgeColor": {
                "type": "raw",
                "attribute": "color",
                "default": "#ccc"
              },
              "edgeSize": {
                "type": "continuous",
                "range": [
                  0.5,
                  10
                ],
                "attribute": "size",
                "default": 0.5
              },
              "edgeCurveness": {
                "type": "constant",
                "default": 0.25
              }
            }
          }
        },
        "861da80599b844d4a580bf78ef021a45": {
          "model_module": "@jupyter-widgets/controls",
          "model_name": "VBoxModel",
          "model_module_version": "1.5.0",
          "state": {
            "_dom_classes": [],
            "_model_module": "@jupyter-widgets/controls",
            "_model_module_version": "1.5.0",
            "_model_name": "VBoxModel",
            "_view_count": null,
            "_view_module": "@jupyter-widgets/controls",
            "_view_module_version": "1.5.0",
            "_view_name": "VBoxView",
            "box_style": "",
            "children": [
              "IPY_MODEL_085aa260550140868673daf698bd2cf0"
            ],
            "layout": "IPY_MODEL_ea9c850089b4459d85663ad22e76dd8f"
          }
        },
        "085aa260550140868673daf698bd2cf0": {
          "model_module": "@jupyter-widgets/controls",
          "model_name": "HBoxModel",
          "model_module_version": "1.5.0",
          "state": {
            "_dom_classes": [],
            "_model_module": "@jupyter-widgets/controls",
            "_model_module_version": "1.5.0",
            "_model_name": "HBoxModel",
            "_view_count": null,
            "_view_module": "@jupyter-widgets/controls",
            "_view_module_version": "1.5.0",
            "_view_name": "HBoxView",
            "box_style": "",
            "children": [
              "IPY_MODEL_f4991f6021e5409b92951d260ff4eddf",
              "IPY_MODEL_997e321d680b48e4b53fd74ac5a1c180",
              "IPY_MODEL_5af63da3de674e07ac2b17de8e59353d"
            ],
            "layout": "IPY_MODEL_4e80c5786b874b059fe0483527c8087c"
          }
        },
        "ea9c850089b4459d85663ad22e76dd8f": {
          "model_module": "@jupyter-widgets/base",
          "model_name": "LayoutModel",
          "model_module_version": "1.2.0",
          "state": {
            "_model_module": "@jupyter-widgets/base",
            "_model_module_version": "1.2.0",
            "_model_name": "LayoutModel",
            "_view_count": null,
            "_view_module": "@jupyter-widgets/base",
            "_view_module_version": "1.2.0",
            "_view_name": "LayoutView",
            "align_content": null,
            "align_items": null,
            "align_self": null,
            "border": null,
            "bottom": null,
            "display": null,
            "flex": null,
            "flex_flow": null,
            "grid_area": null,
            "grid_auto_columns": null,
            "grid_auto_flow": null,
            "grid_auto_rows": null,
            "grid_column": null,
            "grid_gap": null,
            "grid_row": null,
            "grid_template_areas": null,
            "grid_template_columns": null,
            "grid_template_rows": null,
            "height": null,
            "justify_content": null,
            "justify_items": null,
            "left": null,
            "margin": null,
            "max_height": null,
            "max_width": null,
            "min_height": null,
            "min_width": null,
            "object_fit": null,
            "object_position": null,
            "order": null,
            "overflow": null,
            "overflow_x": null,
            "overflow_y": null,
            "padding": null,
            "right": null,
            "top": null,
            "visibility": null,
            "width": null
          }
        },
        "f4991f6021e5409b92951d260ff4eddf": {
          "model_module": "ipysigma",
          "model_name": "SigmaModel",
          "model_module_version": "^0.24.2",
          "state": {
            "_dom_classes": [],
            "_model_module": "ipysigma",
            "_model_module_version": "^0.24.2",
            "_model_name": "SigmaModel",
            "_view_count": null,
            "_view_module": "ipysigma",
            "_view_module_version": "^0.24.2",
            "_view_name": "SigmaView",
            "background_color": "white",
            "camera_state": {
              "ratio": 1,
              "x": 0.5,
              "y": 0.5,
              "angle": 0
            },
            "clickable_edges": false,
            "data": {
              "nodes": [
                {
                  "key": 0,
                  "attributes": {
                    "status": "student",
                    "label": "C",
                    "ipysigma_kwarg_node_size": 4
                  }
                },
                {
                  "key": 1,
                  "attributes": {
                    "status": "professor",
                    "label": "A",
                    "ipysigma_kwarg_node_size": 6
                  }
                },
                {
                  "key": 2,
                  "attributes": {
                    "status": "student",
                    "label": "D",
                    "ipysigma_kwarg_node_size": 2
                  }
                },
                {
                  "key": 3,
                  "attributes": {
                    "status": "student",
                    "label": "E",
                    "ipysigma_kwarg_node_size": 2
                  }
                },
                {
                  "key": 4,
                  "attributes": {
                    "status": "professor",
                    "label": "B",
                    "ipysigma_kwarg_node_size": 8
                  }
                },
                {
                  "key": 5,
                  "attributes": {
                    "status": "student",
                    "label": "F",
                    "ipysigma_kwarg_node_size": 2
                  }
                },
                {
                  "key": 6,
                  "attributes": {
                    "status": "student",
                    "label": "G",
                    "ipysigma_kwarg_node_size": 2
                  }
                },
                {
                  "key": 7,
                  "attributes": {
                    "status": "student",
                    "label": "H",
                    "ipysigma_kwarg_node_size": 2
                  }
                }
              ],
              "edges": [
                {
                  "source": 0,
                  "target": 1,
                  "attributes": {
                    "weight": 1
                  }
                },
                {
                  "source": 0,
                  "target": 4,
                  "attributes": {
                    "weight": 1
                  }
                },
                {
                  "source": 1,
                  "target": 0,
                  "attributes": {
                    "weight": 1
                  }
                },
                {
                  "source": 1,
                  "target": 2,
                  "attributes": {
                    "weight": 1
                  }
                },
                {
                  "source": 1,
                  "target": 3,
                  "attributes": {
                    "weight": 1
                  }
                },
                {
                  "source": 2,
                  "target": 1,
                  "attributes": {
                    "weight": 1
                  }
                },
                {
                  "source": 3,
                  "target": 1,
                  "attributes": {
                    "weight": 1
                  }
                },
                {
                  "source": 4,
                  "target": 0,
                  "attributes": {
                    "weight": 1
                  }
                },
                {
                  "source": 4,
                  "target": 5,
                  "attributes": {
                    "weight": 1
                  }
                },
                {
                  "source": 4,
                  "target": 6,
                  "attributes": {
                    "weight": 1
                  }
                },
                {
                  "source": 4,
                  "target": 7,
                  "attributes": {
                    "weight": 1
                  }
                },
                {
                  "source": 5,
                  "target": 4,
                  "attributes": {
                    "weight": 1
                  }
                },
                {
                  "source": 6,
                  "target": 4,
                  "attributes": {
                    "weight": 1
                  }
                },
                {
                  "source": 7,
                  "target": 4,
                  "attributes": {
                    "weight": 1
                  }
                }
              ],
              "options": {
                "type": "directed",
                "multi": false
              }
            },
            "edge_weight": "weight",
            "height": "500px",
            "layout": {
              "0": {
                "x": 0.15428948876230283,
                "y": 0.25273986629959766
              },
              "1": {
                "x": 0.5762050567157171,
                "y": 0.8675055755423209
              },
              "2": {
                "x": 0.4923045147706771,
                "y": 0.7549328770522359
              },
              "3": {
                "x": 0.536310160588477,
                "y": 0.6607164922702594
              },
              "4": {
                "x": 0.17898877761019927,
                "y": 0.7423470400617883
              },
              "5": {
                "x": 0.7654569574501733,
                "y": 0.2409002179776765
              },
              "6": {
                "x": 0.8666364121438902,
                "y": 0.3612731622048909
              },
              "7": {
                "x": 0.3750092524652347,
                "y": 0.43898357292952234
              }
            },
            "layout_settings": null,
            "max_categorical_colors": 10,
            "name": null,
            "node_metrics": {},
            "program_settings": {},
            "renderer_settings": {
              "zIndex": true,
              "enableEdgeClickEvents": false,
              "enableEdgeHoverEvents": false,
              "labelDensity": 1,
              "labelGridCellSize": 250,
              "renderEdgeLabels": true,
              "labelFont": "sans-serif",
              "hideEdgesOnMove": false,
              "defaultNodeType": "point",
              "defaultEdgeType": "arrow"
            },
            "selected_edge": null,
            "selected_edge_category_values": null,
            "selected_node": null,
            "selected_node_category_values": null,
            "snapshot": null,
            "start_layout": false,
            "start_layout_for_seconds": null,
            "sync_key": "SigmaGrid_7",
            "sync_targets": [
              "layout",
              "selection",
              "hover",
              "camera"
            ],
            "ui_settings": {
              "hideInfoPanel": true,
              "hideSearch": false
            },
            "visual_variables": {
              "nodeLabel": {
                "type": "raw",
                "attribute": "label",
                "default": null
              },
              "nodeLabelSize": {
                "type": "constant",
                "default": 12
              },
              "nodeLabelColor": {
                "type": "constant",
                "default": "#000"
              },
              "nodeColor": {
                "type": "raw",
                "attribute": "color",
                "default": "#999"
              },
              "nodeColorSaturation": {
                "type": "disabled",
                "default": null
              },
              "nodeBorderColor": {
                "type": "disabled",
                "default": null
              },
              "nodeBorderRatio": {
                "type": "disabled",
                "default": null
              },
              "nodeBorderSize": {
                "type": "constant",
                "default": 1
              },
              "nodeSize": {
                "type": "continuous",
                "range": [
                  3,
                  15
                ],
                "attribute": "ipysigma_kwarg_node_size",
                "default": 3
              },
              "nodePictogram": {
                "type": "disabled",
                "default": null
              },
              "nodePictogramColor": {
                "type": "constant",
                "default": "#000"
              },
              "nodeHaloSize": {
                "type": "disabled",
                "default": null
              },
              "nodeHaloColor": {
                "type": "constant",
                "default": "red"
              },
              "nodeShape": {
                "type": "disabled",
                "default": null
              },
              "edgeLabel": {
                "type": "raw",
                "attribute": "label",
                "default": null
              },
              "edgeColor": {
                "type": "raw",
                "attribute": "color",
                "default": "#ccc"
              },
              "edgeSize": {
                "type": "continuous",
                "range": [
                  0.5,
                  10
                ],
                "attribute": "size",
                "default": 0.5
              },
              "edgeCurveness": {
                "type": "constant",
                "default": 0.25
              }
            }
          }
        },
        "997e321d680b48e4b53fd74ac5a1c180": {
          "model_module": "ipysigma",
          "model_name": "SigmaModel",
          "model_module_version": "^0.24.2",
          "state": {
            "_dom_classes": [],
            "_model_module": "ipysigma",
            "_model_module_version": "^0.24.2",
            "_model_name": "SigmaModel",
            "_view_count": null,
            "_view_module": "ipysigma",
            "_view_module_version": "^0.24.2",
            "_view_name": "SigmaView",
            "background_color": "white",
            "camera_state": {
              "ratio": 1,
              "x": 0.5,
              "y": 0.5,
              "angle": 0
            },
            "clickable_edges": false,
            "data": {
              "nodes": [
                {
                  "key": 0,
                  "attributes": {
                    "status": "student",
                    "label": "C",
                    "ipysigma_kwarg_node_size": 2
                  }
                },
                {
                  "key": 1,
                  "attributes": {
                    "status": "professor",
                    "label": "A",
                    "ipysigma_kwarg_node_size": 3
                  }
                },
                {
                  "key": 2,
                  "attributes": {
                    "status": "student",
                    "label": "D",
                    "ipysigma_kwarg_node_size": 1
                  }
                },
                {
                  "key": 3,
                  "attributes": {
                    "status": "student",
                    "label": "E",
                    "ipysigma_kwarg_node_size": 1
                  }
                },
                {
                  "key": 4,
                  "attributes": {
                    "status": "professor",
                    "label": "B",
                    "ipysigma_kwarg_node_size": 4
                  }
                },
                {
                  "key": 5,
                  "attributes": {
                    "status": "student",
                    "label": "F",
                    "ipysigma_kwarg_node_size": 1
                  }
                },
                {
                  "key": 6,
                  "attributes": {
                    "status": "student",
                    "label": "G",
                    "ipysigma_kwarg_node_size": 1
                  }
                },
                {
                  "key": 7,
                  "attributes": {
                    "status": "student",
                    "label": "H",
                    "ipysigma_kwarg_node_size": 1
                  }
                }
              ],
              "edges": [
                {
                  "source": 0,
                  "target": 1,
                  "attributes": {
                    "weight": 1
                  }
                },
                {
                  "source": 0,
                  "target": 4,
                  "attributes": {
                    "weight": 1
                  }
                },
                {
                  "source": 1,
                  "target": 0,
                  "attributes": {
                    "weight": 1
                  }
                },
                {
                  "source": 1,
                  "target": 2,
                  "attributes": {
                    "weight": 1
                  }
                },
                {
                  "source": 1,
                  "target": 3,
                  "attributes": {
                    "weight": 1
                  }
                },
                {
                  "source": 2,
                  "target": 1,
                  "attributes": {
                    "weight": 1
                  }
                },
                {
                  "source": 3,
                  "target": 1,
                  "attributes": {
                    "weight": 1
                  }
                },
                {
                  "source": 4,
                  "target": 0,
                  "attributes": {
                    "weight": 1
                  }
                },
                {
                  "source": 4,
                  "target": 5,
                  "attributes": {
                    "weight": 1
                  }
                },
                {
                  "source": 4,
                  "target": 6,
                  "attributes": {
                    "weight": 1
                  }
                },
                {
                  "source": 4,
                  "target": 7,
                  "attributes": {
                    "weight": 1
                  }
                },
                {
                  "source": 5,
                  "target": 4,
                  "attributes": {
                    "weight": 1
                  }
                },
                {
                  "source": 6,
                  "target": 4,
                  "attributes": {
                    "weight": 1
                  }
                },
                {
                  "source": 7,
                  "target": 4,
                  "attributes": {
                    "weight": 1
                  }
                }
              ],
              "options": {
                "type": "directed",
                "multi": false
              }
            },
            "edge_weight": "weight",
            "height": "500px",
            "layout": {
              "0": {
                "x": 0.15428948876230283,
                "y": 0.25273986629959766
              },
              "1": {
                "x": 0.5762050567157171,
                "y": 0.8675055755423209
              },
              "2": {
                "x": 0.4923045147706771,
                "y": 0.7549328770522359
              },
              "3": {
                "x": 0.536310160588477,
                "y": 0.6607164922702594
              },
              "4": {
                "x": 0.17898877761019927,
                "y": 0.7423470400617883
              },
              "5": {
                "x": 0.7654569574501733,
                "y": 0.2409002179776765
              },
              "6": {
                "x": 0.8666364121438902,
                "y": 0.3612731622048909
              },
              "7": {
                "x": 0.3750092524652347,
                "y": 0.43898357292952234
              }
            },
            "layout_settings": null,
            "max_categorical_colors": 10,
            "name": null,
            "node_metrics": {},
            "program_settings": {},
            "renderer_settings": {
              "zIndex": true,
              "enableEdgeClickEvents": false,
              "enableEdgeHoverEvents": false,
              "labelDensity": 1,
              "labelGridCellSize": 250,
              "renderEdgeLabels": true,
              "labelFont": "sans-serif",
              "hideEdgesOnMove": false,
              "defaultNodeType": "point",
              "defaultEdgeType": "arrow"
            },
            "selected_edge": null,
            "selected_edge_category_values": null,
            "selected_node": null,
            "selected_node_category_values": null,
            "snapshot": null,
            "start_layout": false,
            "start_layout_for_seconds": null,
            "sync_key": "SigmaGrid_7",
            "sync_targets": [
              "layout",
              "selection",
              "hover",
              "camera"
            ],
            "ui_settings": {
              "hideInfoPanel": true,
              "hideSearch": false
            },
            "visual_variables": {
              "nodeLabel": {
                "type": "raw",
                "attribute": "label",
                "default": null
              },
              "nodeLabelSize": {
                "type": "constant",
                "default": 12
              },
              "nodeLabelColor": {
                "type": "constant",
                "default": "#000"
              },
              "nodeColor": {
                "type": "raw",
                "attribute": "color",
                "default": "#999"
              },
              "nodeColorSaturation": {
                "type": "disabled",
                "default": null
              },
              "nodeBorderColor": {
                "type": "disabled",
                "default": null
              },
              "nodeBorderRatio": {
                "type": "disabled",
                "default": null
              },
              "nodeBorderSize": {
                "type": "constant",
                "default": 1
              },
              "nodeSize": {
                "type": "continuous",
                "range": [
                  3,
                  15
                ],
                "attribute": "ipysigma_kwarg_node_size",
                "default": 3
              },
              "nodePictogram": {
                "type": "disabled",
                "default": null
              },
              "nodePictogramColor": {
                "type": "constant",
                "default": "#000"
              },
              "nodeHaloSize": {
                "type": "disabled",
                "default": null
              },
              "nodeHaloColor": {
                "type": "constant",
                "default": "red"
              },
              "nodeShape": {
                "type": "disabled",
                "default": null
              },
              "edgeLabel": {
                "type": "raw",
                "attribute": "label",
                "default": null
              },
              "edgeColor": {
                "type": "raw",
                "attribute": "color",
                "default": "#ccc"
              },
              "edgeSize": {
                "type": "continuous",
                "range": [
                  0.5,
                  10
                ],
                "attribute": "size",
                "default": 0.5
              },
              "edgeCurveness": {
                "type": "constant",
                "default": 0.25
              }
            }
          }
        },
        "5af63da3de674e07ac2b17de8e59353d": {
          "model_module": "ipysigma",
          "model_name": "SigmaModel",
          "model_module_version": "^0.24.2",
          "state": {
            "_dom_classes": [],
            "_model_module": "ipysigma",
            "_model_module_version": "^0.24.2",
            "_model_name": "SigmaModel",
            "_view_count": null,
            "_view_module": "ipysigma",
            "_view_module_version": "^0.24.2",
            "_view_name": "SigmaView",
            "background_color": "white",
            "camera_state": {
              "ratio": 1,
              "x": 0.5,
              "y": 0.5,
              "angle": 0
            },
            "clickable_edges": false,
            "data": {
              "nodes": [
                {
                  "key": 0,
                  "attributes": {
                    "status": "student",
                    "label": "C",
                    "ipysigma_kwarg_node_size": 2
                  }
                },
                {
                  "key": 1,
                  "attributes": {
                    "status": "professor",
                    "label": "A",
                    "ipysigma_kwarg_node_size": 3
                  }
                },
                {
                  "key": 2,
                  "attributes": {
                    "status": "student",
                    "label": "D",
                    "ipysigma_kwarg_node_size": 1
                  }
                },
                {
                  "key": 3,
                  "attributes": {
                    "status": "student",
                    "label": "E",
                    "ipysigma_kwarg_node_size": 1
                  }
                },
                {
                  "key": 4,
                  "attributes": {
                    "status": "professor",
                    "label": "B",
                    "ipysigma_kwarg_node_size": 4
                  }
                },
                {
                  "key": 5,
                  "attributes": {
                    "status": "student",
                    "label": "F",
                    "ipysigma_kwarg_node_size": 1
                  }
                },
                {
                  "key": 6,
                  "attributes": {
                    "status": "student",
                    "label": "G",
                    "ipysigma_kwarg_node_size": 1
                  }
                },
                {
                  "key": 7,
                  "attributes": {
                    "status": "student",
                    "label": "H",
                    "ipysigma_kwarg_node_size": 1
                  }
                }
              ],
              "edges": [
                {
                  "source": 0,
                  "target": 1,
                  "attributes": {
                    "weight": 1
                  }
                },
                {
                  "source": 0,
                  "target": 4,
                  "attributes": {
                    "weight": 1
                  }
                },
                {
                  "source": 1,
                  "target": 0,
                  "attributes": {
                    "weight": 1
                  }
                },
                {
                  "source": 1,
                  "target": 2,
                  "attributes": {
                    "weight": 1
                  }
                },
                {
                  "source": 1,
                  "target": 3,
                  "attributes": {
                    "weight": 1
                  }
                },
                {
                  "source": 2,
                  "target": 1,
                  "attributes": {
                    "weight": 1
                  }
                },
                {
                  "source": 3,
                  "target": 1,
                  "attributes": {
                    "weight": 1
                  }
                },
                {
                  "source": 4,
                  "target": 0,
                  "attributes": {
                    "weight": 1
                  }
                },
                {
                  "source": 4,
                  "target": 5,
                  "attributes": {
                    "weight": 1
                  }
                },
                {
                  "source": 4,
                  "target": 6,
                  "attributes": {
                    "weight": 1
                  }
                },
                {
                  "source": 4,
                  "target": 7,
                  "attributes": {
                    "weight": 1
                  }
                },
                {
                  "source": 5,
                  "target": 4,
                  "attributes": {
                    "weight": 1
                  }
                },
                {
                  "source": 6,
                  "target": 4,
                  "attributes": {
                    "weight": 1
                  }
                },
                {
                  "source": 7,
                  "target": 4,
                  "attributes": {
                    "weight": 1
                  }
                }
              ],
              "options": {
                "type": "directed",
                "multi": false
              }
            },
            "edge_weight": "weight",
            "height": "500px",
            "layout": {
              "0": {
                "x": 0.15428948876230283,
                "y": 0.25273986629959766
              },
              "1": {
                "x": 0.5762050567157171,
                "y": 0.8675055755423209
              },
              "2": {
                "x": 0.4923045147706771,
                "y": 0.7549328770522359
              },
              "3": {
                "x": 0.536310160588477,
                "y": 0.6607164922702594
              },
              "4": {
                "x": 0.17898877761019927,
                "y": 0.7423470400617883
              },
              "5": {
                "x": 0.7654569574501733,
                "y": 0.2409002179776765
              },
              "6": {
                "x": 0.8666364121438902,
                "y": 0.3612731622048909
              },
              "7": {
                "x": 0.3750092524652347,
                "y": 0.43898357292952234
              }
            },
            "layout_settings": null,
            "max_categorical_colors": 10,
            "name": null,
            "node_metrics": {},
            "program_settings": {},
            "renderer_settings": {
              "zIndex": true,
              "enableEdgeClickEvents": false,
              "enableEdgeHoverEvents": false,
              "labelDensity": 1,
              "labelGridCellSize": 250,
              "renderEdgeLabels": true,
              "labelFont": "sans-serif",
              "hideEdgesOnMove": false,
              "defaultNodeType": "point",
              "defaultEdgeType": "arrow"
            },
            "selected_edge": null,
            "selected_edge_category_values": null,
            "selected_node": null,
            "selected_node_category_values": null,
            "snapshot": null,
            "start_layout": false,
            "start_layout_for_seconds": null,
            "sync_key": "SigmaGrid_7",
            "sync_targets": [
              "layout",
              "selection",
              "hover",
              "camera"
            ],
            "ui_settings": {
              "hideInfoPanel": true,
              "hideSearch": false
            },
            "visual_variables": {
              "nodeLabel": {
                "type": "raw",
                "attribute": "label",
                "default": null
              },
              "nodeLabelSize": {
                "type": "constant",
                "default": 12
              },
              "nodeLabelColor": {
                "type": "constant",
                "default": "#000"
              },
              "nodeColor": {
                "type": "raw",
                "attribute": "color",
                "default": "#999"
              },
              "nodeColorSaturation": {
                "type": "disabled",
                "default": null
              },
              "nodeBorderColor": {
                "type": "disabled",
                "default": null
              },
              "nodeBorderRatio": {
                "type": "disabled",
                "default": null
              },
              "nodeBorderSize": {
                "type": "constant",
                "default": 1
              },
              "nodeSize": {
                "type": "continuous",
                "range": [
                  3,
                  15
                ],
                "attribute": "ipysigma_kwarg_node_size",
                "default": 3
              },
              "nodePictogram": {
                "type": "disabled",
                "default": null
              },
              "nodePictogramColor": {
                "type": "constant",
                "default": "#000"
              },
              "nodeHaloSize": {
                "type": "disabled",
                "default": null
              },
              "nodeHaloColor": {
                "type": "constant",
                "default": "red"
              },
              "nodeShape": {
                "type": "disabled",
                "default": null
              },
              "edgeLabel": {
                "type": "raw",
                "attribute": "label",
                "default": null
              },
              "edgeColor": {
                "type": "raw",
                "attribute": "color",
                "default": "#ccc"
              },
              "edgeSize": {
                "type": "continuous",
                "range": [
                  0.5,
                  10
                ],
                "attribute": "size",
                "default": 0.5
              },
              "edgeCurveness": {
                "type": "constant",
                "default": 0.25
              }
            }
          }
        },
        "4e80c5786b874b059fe0483527c8087c": {
          "model_module": "@jupyter-widgets/base",
          "model_name": "LayoutModel",
          "model_module_version": "1.2.0",
          "state": {
            "_model_module": "@jupyter-widgets/base",
            "_model_module_version": "1.2.0",
            "_model_name": "LayoutModel",
            "_view_count": null,
            "_view_module": "@jupyter-widgets/base",
            "_view_module_version": "1.2.0",
            "_view_name": "LayoutView",
            "align_content": null,
            "align_items": null,
            "align_self": null,
            "border": null,
            "bottom": null,
            "display": null,
            "flex": null,
            "flex_flow": null,
            "grid_area": null,
            "grid_auto_columns": null,
            "grid_auto_flow": null,
            "grid_auto_rows": null,
            "grid_column": null,
            "grid_gap": null,
            "grid_row": null,
            "grid_template_areas": null,
            "grid_template_columns": null,
            "grid_template_rows": null,
            "height": null,
            "justify_content": null,
            "justify_items": null,
            "left": null,
            "margin": null,
            "max_height": null,
            "max_width": null,
            "min_height": null,
            "min_width": null,
            "object_fit": null,
            "object_position": null,
            "order": null,
            "overflow": null,
            "overflow_x": null,
            "overflow_y": null,
            "padding": null,
            "right": null,
            "top": null,
            "visibility": null,
            "width": null
          }
        }
      }
    }
  },
  "cells": [
    {
      "cell_type": "code",
      "execution_count": 1,
      "metadata": {
        "id": "R6dU_vDF-NRr"
      },
      "outputs": [],
      "source": [
        "from google.colab import output\n",
        "\n",
        "output.enable_custom_widget_manager()"
      ]
    },
    {
      "cell_type": "code",
      "source": [
        "!pip install networkx ipysigma --quiet"
      ],
      "metadata": {
        "colab": {
          "base_uri": "https://localhost:8080/"
        },
        "id": "uGnPhUtm-S1a",
        "outputId": "3e6513a8-9fa9-4a83-b2ec-4b0ddb15f65b"
      },
      "execution_count": 2,
      "outputs": [
        {
          "output_type": "stream",
          "name": "stdout",
          "text": [
            "\u001b[2K     \u001b[90m━━━━━━━━━━━━━━━━━━━━━━━━━━━━━━━━━━━━━━━━\u001b[0m \u001b[32m2.6/2.6 MB\u001b[0m \u001b[31m11.2 MB/s\u001b[0m eta \u001b[36m0:00:00\u001b[0m\n",
            "\u001b[2K     \u001b[90m━━━━━━━━━━━━━━━━━━━━━━━━━━━━━━━━━━━━━━━━\u001b[0m \u001b[32m1.6/1.6 MB\u001b[0m \u001b[31m49.4 MB/s\u001b[0m eta \u001b[36m0:00:00\u001b[0m\n",
            "\u001b[?25h"
          ]
        }
      ]
    },
    {
      "cell_type": "code",
      "source": [
        "!pip install pelote --quiet"
      ],
      "metadata": {
        "colab": {
          "base_uri": "https://localhost:8080/"
        },
        "id": "9s_obsub-lFJ",
        "outputId": "9af3b8f5-8741-452e-fcd2-c44a6e459017"
      },
      "execution_count": 4,
      "outputs": [
        {
          "output_type": "stream",
          "name": "stdout",
          "text": [
            "\u001b[2K     \u001b[90m━━━━━━━━━━━━━━━━━━━━━━━━━━━━━━━━━━━━━━━━\u001b[0m \u001b[32m41.4/41.4 kB\u001b[0m \u001b[31m635.0 kB/s\u001b[0m eta \u001b[36m0:00:00\u001b[0m\n",
            "\u001b[?25h  Preparing metadata (setup.py) ... \u001b[?25l\u001b[?25hdone\n",
            "\u001b[2K     \u001b[90m━━━━━━━━━━━━━━━━━━━━━━━━━━━━━━━━━━━━━━━━\u001b[0m \u001b[32m2.0/2.0 MB\u001b[0m \u001b[31m9.4 MB/s\u001b[0m eta \u001b[36m0:00:00\u001b[0m\n",
            "\u001b[?25h  Building wheel for pyllist (setup.py) ... \u001b[?25l\u001b[?25hdone\n",
            "\u001b[31mERROR: pip's dependency resolver does not currently take into account all the packages that are installed. This behaviour is the source of the following dependency conflicts.\n",
            "torch 2.3.0+cu121 requires nvidia-cublas-cu12==12.1.3.1; platform_system == \"Linux\" and platform_machine == \"x86_64\", which is not installed.\n",
            "torch 2.3.0+cu121 requires nvidia-cuda-cupti-cu12==12.1.105; platform_system == \"Linux\" and platform_machine == \"x86_64\", which is not installed.\n",
            "torch 2.3.0+cu121 requires nvidia-cuda-nvrtc-cu12==12.1.105; platform_system == \"Linux\" and platform_machine == \"x86_64\", which is not installed.\n",
            "torch 2.3.0+cu121 requires nvidia-cuda-runtime-cu12==12.1.105; platform_system == \"Linux\" and platform_machine == \"x86_64\", which is not installed.\n",
            "torch 2.3.0+cu121 requires nvidia-cudnn-cu12==8.9.2.26; platform_system == \"Linux\" and platform_machine == \"x86_64\", which is not installed.\n",
            "torch 2.3.0+cu121 requires nvidia-cufft-cu12==11.0.2.54; platform_system == \"Linux\" and platform_machine == \"x86_64\", which is not installed.\n",
            "torch 2.3.0+cu121 requires nvidia-curand-cu12==10.3.2.106; platform_system == \"Linux\" and platform_machine == \"x86_64\", which is not installed.\n",
            "torch 2.3.0+cu121 requires nvidia-cusolver-cu12==11.4.5.107; platform_system == \"Linux\" and platform_machine == \"x86_64\", which is not installed.\n",
            "torch 2.3.0+cu121 requires nvidia-cusparse-cu12==12.1.0.106; platform_system == \"Linux\" and platform_machine == \"x86_64\", which is not installed.\n",
            "torch 2.3.0+cu121 requires nvidia-nccl-cu12==2.20.5; platform_system == \"Linux\" and platform_machine == \"x86_64\", which is not installed.\n",
            "torch 2.3.0+cu121 requires nvidia-nvtx-cu12==12.1.105; platform_system == \"Linux\" and platform_machine == \"x86_64\", which is not installed.\u001b[0m\u001b[31m\n",
            "\u001b[0m"
          ]
        }
      ]
    },
    {
      "cell_type": "code",
      "source": [
        "import pandas as pd\n",
        "from ipysigma import Sigma\n",
        "from pelote import edges_table_to_graph\n",
        "\n",
        "# Alice invited Bob and Chloe. Bob invited Chloe twice.\n",
        "df = pd.DataFrame({\n",
        "  \"hosts\": [\"Alice\", \"Alice\", \"Bob\", \"Bob\"],\n",
        "  \"guests\": [\"Bob\", \"Chloe\", \"Chloe\", \"Chloe\"]\n",
        "})\n",
        "\n",
        "g = edges_table_to_graph(\n",
        "  df,\n",
        "  edge_source_col=\"hosts\",\n",
        "  edge_target_col=\"guests\",\n",
        "  count_rows_as_weight=True,\n",
        "  directed=True\n",
        ")\n",
        "\n",
        "Sigma(g, edge_size='weight')"
      ],
      "metadata": {
        "colab": {
          "base_uri": "https://localhost:8080/",
          "height": 538,
          "referenced_widgets": [
            "4c93e7bbf8b6434594a41e7d476fdda4"
          ]
        },
        "id": "2eQjKL4e-aST",
        "outputId": "44e10c16-c587-49b3-9aa3-124eb07d5d07"
      },
      "execution_count": 6,
      "outputs": [
        {
          "output_type": "display_data",
          "data": {
            "text/plain": [
              "Sigma(nx.DiGraph with 3 nodes and 3 edges)"
            ],
            "application/vnd.jupyter.widget-view+json": {
              "version_major": 2,
              "version_minor": 0,
              "model_id": "4c93e7bbf8b6434594a41e7d476fdda4"
            }
          },
          "metadata": {
            "application/vnd.jupyter.widget-view+json": {
              "colab": {
                "custom_widget_manager": {
                  "url": "https://ssl.gstatic.com/colaboratory-static/widgets/colab-cdn-widget-manager/2b70e893a8ba7c0f/manager.min.js"
                }
              }
            }
          }
        }
      ]
    },
    {
      "cell_type": "code",
      "source": [
        "import pandas as pd\n",
        "from pelote import table_to_bipartite_graph\n",
        "\n",
        "df = pd.DataFrame({\n",
        "  \"professor\": [\"A\", \"A\", \"A\", \"B\", \"B\", \"B\", \"B\"],\n",
        "  \"student\": [\"C\", \"D\", \"E\", \"C\", \"F\", \"G\", \"H\"],\n",
        "})\n",
        "\n",
        "g = table_to_bipartite_graph(df, 'student', 'professor', node_part_attr='status')\n",
        "\n",
        "Sigma(g, node_color='status', default_node_size=10, show_all_labels=True)"
      ],
      "metadata": {
        "colab": {
          "base_uri": "https://localhost:8080/",
          "height": 538,
          "referenced_widgets": [
            "5d1fc384196b4dabaab938400de0ee80"
          ]
        },
        "id": "HCe3V88K_uHg",
        "outputId": "87a262be-b9e5-4501-e84c-00cc7629422a"
      },
      "execution_count": 7,
      "outputs": [
        {
          "output_type": "display_data",
          "data": {
            "text/plain": [
              "Sigma(nx.Graph with 8 nodes and 7 edges)"
            ],
            "application/vnd.jupyter.widget-view+json": {
              "version_major": 2,
              "version_minor": 0,
              "model_id": "5d1fc384196b4dabaab938400de0ee80"
            }
          },
          "metadata": {
            "application/vnd.jupyter.widget-view+json": {
              "colab": {
                "custom_widget_manager": {
                  "url": "https://ssl.gstatic.com/colaboratory-static/widgets/colab-cdn-widget-manager/2b70e893a8ba7c0f/manager.min.js"
                }
              }
            }
          }
        }
      ]
    },
    {
      "cell_type": "code",
      "source": [
        "from ipysigma import SigmaGrid\n",
        "\n",
        "# Views to display can be specified through the `views` kwarg, expecting\n",
        "# a list of dicts of keyword arguments to give to the underlying Sigma widgets:\n",
        "SigmaGrid(g, views=[\n",
        "  {\"node_color\": \"type\"},\n",
        "  {\"node_color\": \"type\"}\n",
        "])\n",
        "\n",
        "# You can do the same by using the `#.add` method of the grid to\n",
        "# dynamically add views:\n",
        "SigmaGrid(g).add(node_color=\"lang\").add(node_color=\"type\")\n",
        "\n",
        "# Any kwarg passed to the grid directly will be used by all of the views.\n",
        "# This is useful to avoid repetition:\n",
        "SigmaGrid(g, node_size=g.degree(), views=[ # Call the degree() function\n",
        "  {\"node_color\": \"type\"},\n",
        "  {\"node_color\": \"type\"}\n",
        "])\n",
        "\n",
        "# You can of course display more than 2 views\n",
        "# By default the grid has 2 columns and will wrap to new rows,\n",
        "# but you can change the number of columns using the `columns` kwarg:\n",
        "# Convert the graph to a directed graph to use in_degree and out_degree\n",
        "g_directed = g.to_directed()\n",
        "SigmaGrid(g_directed, columns=3, views=[\n",
        "  {\"node_size\": g_directed.degree()}, # Call the degree() function\n",
        "  {\"node_size\": g_directed.in_degree()},\n",
        "  {\"node_size\": g_directed.out_degree()}\n",
        "])"
      ],
      "metadata": {
        "colab": {
          "base_uri": "https://localhost:8080/",
          "height": 518,
          "referenced_widgets": [
            "861da80599b844d4a580bf78ef021a45",
            "085aa260550140868673daf698bd2cf0",
            "ea9c850089b4459d85663ad22e76dd8f",
            "f4991f6021e5409b92951d260ff4eddf",
            "997e321d680b48e4b53fd74ac5a1c180",
            "5af63da3de674e07ac2b17de8e59353d",
            "4e80c5786b874b059fe0483527c8087c"
          ]
        },
        "id": "9306Hj8E_25x",
        "outputId": "4318926f-bf86-4f16-d03f-d20260f8d17d"
      },
      "execution_count": 9,
      "outputs": [
        {
          "output_type": "display_data",
          "data": {
            "text/plain": [
              "VBox(children=(HBox(children=(Sigma(nx.DiGraph with 8 nodes and 14 edges), Sigma(nx.DiGraph with 8 nodes and 1…"
            ],
            "application/vnd.jupyter.widget-view+json": {
              "version_major": 2,
              "version_minor": 0,
              "model_id": "861da80599b844d4a580bf78ef021a45"
            }
          },
          "metadata": {
            "application/vnd.jupyter.widget-view+json": {
              "colab": {
                "custom_widget_manager": {
                  "url": "https://ssl.gstatic.com/colaboratory-static/widgets/colab-cdn-widget-manager/2b70e893a8ba7c0f/manager.min.js"
                }
              }
            }
          }
        }
      ]
    }
  ]
}