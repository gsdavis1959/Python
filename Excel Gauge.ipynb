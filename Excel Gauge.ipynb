{
 "cells": [
  {
   "cell_type": "code",
   "execution_count": 1,
   "metadata": {},
   "outputs": [
    {
     "name": "stdout",
     "output_type": "stream",
     "text": [
      "Requirement already satisfied: openpyxl in c:\\users\\gsdav\\anaconda3\\envs\\tensorflow\\lib\\site-packages (3.0.6)\n",
      "Requirement already satisfied: et-xmlfile in c:\\users\\gsdav\\anaconda3\\envs\\tensorflow\\lib\\site-packages (from openpyxl) (1.0.1)\n",
      "Requirement already satisfied: jdcal in c:\\users\\gsdav\\anaconda3\\envs\\tensorflow\\lib\\site-packages (from openpyxl) (1.4.1)\n"
     ]
    }
   ],
   "source": [
    "!pip install openpyxl"
   ]
  },
  {
   "cell_type": "code",
   "execution_count": 2,
   "metadata": {},
   "outputs": [],
   "source": [
    "from openpyxl import Workbook\n",
    "\n",
    "from openpyxl.chart import PieChart, DoughnutChart, Series, Reference\n",
    "from openpyxl.chart.series import DataPoint\n",
    "\n",
    "\n",
    "data = [\n",
    "    [\"Donut\", \"Pie\"],\n",
    "    [25, 75],\n",
    "    [50, 1],\n",
    "    [25, 124],\n",
    "    [100],\n",
    "]\n",
    "\n",
    "# based on http://www.excel-easy.com/examples/gauge-chart.html\n",
    "\n",
    "wb = Workbook()\n",
    "ws = wb.active\n",
    "for row in data:\n",
    "    ws.append(row)\n",
    "\n",
    "# First chart is a doughnut chart\n",
    "c1 = DoughnutChart(firstSliceAng=270, holeSize=50)\n",
    "c1.title = \"Code coverage\"\n",
    "c1.legend = None\n",
    "\n",
    "ref = Reference(ws, min_col=1, min_row=2, max_row=5)\n",
    "s1 = Series(ref, title_from_data=False)\n",
    "\n",
    "slices = [DataPoint(idx=i) for i in range(4)]\n",
    "slices[0].graphicalProperties.solidFill = \"FF3300\" # red\n",
    "slices[1].graphicalProperties.solidFill = \"FCF305\" # yellow\n",
    "slices[2].graphicalProperties.solidFill = \"1FB714\" # green\n",
    "slices[3].graphicalProperties.noFill = True # invisible\n",
    "\n",
    "s1.data_points = slices\n",
    "c1.series = [s1]\n",
    "\n",
    "# Second chart is a pie chart\n",
    "c2 = PieChart(firstSliceAng=270)\n",
    "c2.legend = None\n",
    "\n",
    "ref = Reference(ws, min_col=2, min_row=2, max_col=2, max_row=4)\n",
    "s2 = Series(ref, title_from_data=False)\n",
    "\n",
    "slices = [DataPoint(idx=i) for i in range(3)]\n",
    "slices[0].graphicalProperties.noFill = True # invisible\n",
    "slices[1].graphicalProperties.solidFill = \"000000\" # black needle\n",
    "slices[2].graphicalProperties.noFill = True # invisible\n",
    "s2.data_points = slices\n",
    "c2.series = [s2]\n",
    "\n",
    "c1 += c2 # combine charts\n",
    "\n",
    "ws.add_chart(c1, \"D1\")\n",
    "\n",
    "wb.save(\"gauge.xlsx\")"
   ]
  }
 ],
 "metadata": {
  "kernelspec": {
   "display_name": "Python 3",
   "language": "python",
   "name": "python3"
  },
  "language_info": {
   "codemirror_mode": {
    "name": "ipython",
    "version": 3
   },
   "file_extension": ".py",
   "mimetype": "text/x-python",
   "name": "python",
   "nbconvert_exporter": "python",
   "pygments_lexer": "ipython3",
   "version": "3.6.8"
  }
 },
 "nbformat": 4,
 "nbformat_minor": 2
}
