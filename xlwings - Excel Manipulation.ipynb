{
 "cells": [
  {
   "cell_type": "code",
   "execution_count": 2,
   "metadata": {},
   "outputs": [
    {
     "name": "stdout",
     "output_type": "stream",
     "text": [
      "Collecting xlwings\n",
      "  Downloading https://files.pythonhosted.org/packages/83/00/498e7d6a698f4e7cbbf0929ac97c3f22a0d292193b39cf4c650303047dbd/xlwings-0.22.1.tar.gz (744kB)\n",
      "Requirement already satisfied: pywin32 in c:\\users\\gsdav\\anaconda3\\envs\\tensorflow\\lib\\site-packages (from xlwings) (223)\n",
      "Building wheels for collected packages: xlwings\n",
      "  Running setup.py bdist_wheel for xlwings: started\n",
      "  Running setup.py bdist_wheel for xlwings: finished with status 'done'\n",
      "  Stored in directory: C:\\Users\\gsdav\\AppData\\Local\\pip\\Cache\\wheels\\0d\\88\\6c\\76a7b9e115610d7e0a7f4b660836f2fea72f9498ae4e6371d8\n",
      "Successfully built xlwings\n",
      "Installing collected packages: xlwings\n",
      "Successfully installed xlwings-0.22.1\n"
     ]
    }
   ],
   "source": [
    "!pip install xlwings"
   ]
  },
  {
   "cell_type": "code",
   "execution_count": 4,
   "metadata": {},
   "outputs": [],
   "source": [
    "import pandas as pd\n",
    "import xlwings as xw"
   ]
  },
  {
   "cell_type": "code",
   "execution_count": 5,
   "metadata": {},
   "outputs": [],
   "source": [
    "df = pd.read_csv(r\"https://raw.githubusercontent.com/Nishan-Pradhan/xlwings_report/master/fruit_and_veg_sales.csv\")"
   ]
  },
  {
   "cell_type": "code",
   "execution_count": 6,
   "metadata": {},
   "outputs": [],
   "source": [
    "wb = xw.Book()"
   ]
  },
  {
   "cell_type": "code",
   "execution_count": 7,
   "metadata": {},
   "outputs": [],
   "source": [
    "sht = wb.sheets[\"Sheet1\"]\n",
    "sht.name = \"fruit_and_veg_sales\""
   ]
  },
  {
   "cell_type": "code",
   "execution_count": null,
   "metadata": {},
   "outputs": [],
   "source": []
  },
  {
   "cell_type": "code",
   "execution_count": 8,
   "metadata": {},
   "outputs": [],
   "source": [
    "# put data into Excel\n",
    "sht.range(\"A1\").options(index=False).value = df"
   ]
  },
  {
   "cell_type": "code",
   "execution_count": 9,
   "metadata": {},
   "outputs": [],
   "source": [
    "# set table range\n",
    "all_data_range = sht.range(\"A1\").expand('table')"
   ]
  },
  {
   "cell_type": "code",
   "execution_count": 10,
   "metadata": {},
   "outputs": [
    {
     "name": "stdout",
     "output_type": "stream",
     "text": [
      "$A$1:$I$1001\n"
     ]
    }
   ],
   "source": [
    "print(all_data_range.address)"
   ]
  },
  {
   "cell_type": "code",
   "execution_count": 11,
   "metadata": {},
   "outputs": [],
   "source": [
    "all_data_range.row_height = 22.5\n",
    "all_data_range.column_width = 12"
   ]
  },
  {
   "cell_type": "code",
   "execution_count": 12,
   "metadata": {},
   "outputs": [],
   "source": [
    "all_data_range.color = (208,206,206)"
   ]
  },
  {
   "cell_type": "code",
   "execution_count": 13,
   "metadata": {},
   "outputs": [],
   "source": [
    "all_data_range.api.Font.Name = 'Tahoma'\n",
    "all_data_range.api.Font.Size = 8\n",
    "all_data_range.api.HorizontalAlignment = xw.constants.HAlign.xlHAlignCenter\n",
    "all_data_range.api.VerticalAlignment = xw.constants.HAlign.xlHAlignCenter\n",
    "all_data_range.api.WrapText = True"
   ]
  },
  {
   "cell_type": "code",
   "execution_count": 14,
   "metadata": {},
   "outputs": [],
   "source": [
    "header_range = sht.range(\"A1\").expand('right')\n",
    "header_range.color = (112,173,71)\n",
    "header_range.api.Font.Color = 0xFFFFFF\n",
    "header_range.api.Font.Bold = True\n",
    "header_range.api.Font.Size = 9"
   ]
  },
  {
   "cell_type": "code",
   "execution_count": 15,
   "metadata": {},
   "outputs": [],
   "source": [
    "id_column_range = sht.range(\"A2\").expand('down')\n",
    "id_column_range.color=(198,224,180)"
   ]
  },
  {
   "cell_type": "code",
   "execution_count": 16,
   "metadata": {},
   "outputs": [],
   "source": [
    "data_ex_headers_range = sht.range(\"A2\").expand('table')\n",
    "for border_id in range(7,13):\n",
    "    data_ex_headers_range.api.Borders(border_id).Weight = 2\n",
    "    data_ex_headers_range.api.Borders(border_id).Color = 0xFFFFFF"
   ]
  },
  {
   "cell_type": "code",
   "execution_count": 17,
   "metadata": {},
   "outputs": [],
   "source": [
    "wb.save(r\"C:\\Users\\gsdav\\OneDrive\\Documents\\fruit_and_veg_report.xlsx\")"
   ]
  }
 ],
 "metadata": {
  "kernelspec": {
   "display_name": "Python 3",
   "language": "python",
   "name": "python3"
  },
  "language_info": {
   "codemirror_mode": {
    "name": "ipython",
    "version": 3
   },
   "file_extension": ".py",
   "mimetype": "text/x-python",
   "name": "python",
   "nbconvert_exporter": "python",
   "pygments_lexer": "ipython3",
   "version": "3.6.8"
  }
 },
 "nbformat": 4,
 "nbformat_minor": 2
}
