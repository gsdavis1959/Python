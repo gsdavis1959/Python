{
 "cells": [
  {
   "cell_type": "code",
   "execution_count": 6,
   "metadata": {},
   "outputs": [
    {
     "name": "stdout",
     "output_type": "stream",
     "text": [
      "Collecting O365\n",
      "  Downloading O365-2.0.14-py3-none-any.whl (138 kB)\n",
      "Requirement already satisfied: stringcase>=1.2.0 in c:\\users\\gsdav\\anaconda3\\lib\\site-packages (from O365) (1.2.0)\n",
      "Requirement already satisfied: pytz>=2018.5 in c:\\users\\gsdav\\anaconda3\\lib\\site-packages (from O365) (2019.3)\n",
      "Requirement already satisfied: python-dateutil>=2.7 in c:\\users\\gsdav\\anaconda3\\lib\\site-packages (from O365) (2.8.1)\n",
      "Requirement already satisfied: requests>=2.18.0 in c:\\users\\gsdav\\anaconda3\\lib\\site-packages (from O365) (2.22.0)\n",
      "Requirement already satisfied: requests-oauthlib>=1.2.0 in c:\\users\\gsdav\\anaconda3\\lib\\site-packages (from O365) (1.3.0)\n",
      "Requirement already satisfied: tzlocal>=1.5.0 in c:\\users\\gsdav\\anaconda3\\lib\\site-packages (from O365) (2.1)\n",
      "Requirement already satisfied: beautifulsoup4>=4.0.0 in c:\\users\\gsdav\\anaconda3\\lib\\site-packages (from O365) (4.8.2)\n",
      "Requirement already satisfied: soupsieve>=1.2 in c:\\users\\gsdav\\anaconda3\\lib\\site-packages (from beautifulsoup4>=4.0.0->O365) (1.9.5)\n",
      "Requirement already satisfied: six>=1.5 in c:\\users\\gsdav\\anaconda3\\lib\\site-packages (from python-dateutil>=2.7->O365) (1.14.0)\n",
      "Requirement already satisfied: chardet<3.1.0,>=3.0.2 in c:\\users\\gsdav\\anaconda3\\lib\\site-packages (from requests>=2.18.0->O365) (3.0.4)\n",
      "Requirement already satisfied: certifi>=2017.4.17 in c:\\users\\gsdav\\anaconda3\\lib\\site-packages (from requests>=2.18.0->O365) (2020.6.20)\n",
      "Requirement already satisfied: idna<2.9,>=2.5 in c:\\users\\gsdav\\anaconda3\\lib\\site-packages (from requests>=2.18.0->O365) (2.8)\n",
      "Requirement already satisfied: urllib3!=1.25.0,!=1.25.1,<1.26,>=1.21.1 in c:\\users\\gsdav\\anaconda3\\lib\\site-packages (from requests>=2.18.0->O365) (1.24.3)\n",
      "Requirement already satisfied: oauthlib>=3.0.0 in c:\\users\\gsdav\\anaconda3\\lib\\site-packages (from requests-oauthlib>=1.2.0->O365) (3.1.0)\n",
      "Installing collected packages: O365\n",
      "Successfully installed O365-2.0.14\n"
     ]
    },
    {
     "name": "stderr",
     "output_type": "stream",
     "text": [
      "WARNING: You are using pip version 21.0.1; however, version 21.1.1 is available.\n",
      "You should consider upgrading via the 'c:\\users\\gsdav\\anaconda3\\python.exe -m pip install --upgrade pip' command.\n"
     ]
    }
   ],
   "source": [
    "!pip install O365"
   ]
  },
  {
   "cell_type": "code",
   "execution_count": 10,
   "metadata": {},
   "outputs": [
    {
     "name": "stdout",
     "output_type": "stream",
     "text": [
      "(-1, b'\\x02\\x01Z\\x15\\x03\\x03\\x00\\x02\\x01\\x00')\n"
     ]
    },
    {
     "ename": "SMTPNotSupportedError",
     "evalue": "STARTTLS extension not supported by server.",
     "output_type": "error",
     "traceback": [
      "\u001b[1;31m---------------------------------------------------------------------------\u001b[0m",
      "\u001b[1;31mSMTPNotSupportedError\u001b[0m                     Traceback (most recent call last)",
      "\u001b[1;32m<ipython-input-10-bfbf817b4107>\u001b[0m in \u001b[0;36m<module>\u001b[1;34m\u001b[0m\n\u001b[0;32m      9\u001b[0m \u001b[1;31m#type(smtpObj)\u001b[0m\u001b[1;33m\u001b[0m\u001b[1;33m\u001b[0m\u001b[1;33m\u001b[0m\u001b[0m\n\u001b[0;32m     10\u001b[0m \u001b[0msmtpObj\u001b[0m\u001b[1;33m.\u001b[0m\u001b[0mehlo\u001b[0m\u001b[1;33m(\u001b[0m\u001b[1;33m)\u001b[0m\u001b[1;33m\u001b[0m\u001b[1;33m\u001b[0m\u001b[0m\n\u001b[1;32m---> 11\u001b[1;33m \u001b[0msmtpObj\u001b[0m\u001b[1;33m.\u001b[0m\u001b[0mstarttls\u001b[0m\u001b[1;33m(\u001b[0m\u001b[1;33m)\u001b[0m\u001b[1;33m\u001b[0m\u001b[1;33m\u001b[0m\u001b[0m\n\u001b[0m\u001b[0;32m     12\u001b[0m \u001b[0msmtpObj\u001b[0m\u001b[1;33m.\u001b[0m\u001b[0mlogin\u001b[0m\u001b[1;33m(\u001b[0m\u001b[1;34m'gregory_s_davis@yahoo.com'\u001b[0m\u001b[1;33m,\u001b[0m \u001b[1;34m\"YHClayClaire1959\"\u001b[0m\u001b[1;33m)\u001b[0m\u001b[1;33m\u001b[0m\u001b[1;33m\u001b[0m\u001b[0m\n\u001b[0;32m     13\u001b[0m \u001b[0msmtpObj\u001b[0m\u001b[1;33m.\u001b[0m\u001b[0msendmail\u001b[0m\u001b[1;33m(\u001b[0m\u001b[1;34m'gregory_s_davis@yahoo.com'\u001b[0m\u001b[1;33m,\u001b[0m \u001b[1;34m'gsdavis1959@gmail.com'\u001b[0m\u001b[1;33m,\u001b[0m \u001b[0mbody\u001b[0m\u001b[1;33m)\u001b[0m \u001b[1;31m# Or recipient@outlook\u001b[0m\u001b[1;33m\u001b[0m\u001b[1;33m\u001b[0m\u001b[0m\n",
      "\u001b[1;32m~\\Anaconda3\\lib\\smtplib.py\u001b[0m in \u001b[0;36mstarttls\u001b[1;34m(self, keyfile, certfile, context)\u001b[0m\n\u001b[0;32m    750\u001b[0m         \u001b[1;32mif\u001b[0m \u001b[1;32mnot\u001b[0m \u001b[0mself\u001b[0m\u001b[1;33m.\u001b[0m\u001b[0mhas_extn\u001b[0m\u001b[1;33m(\u001b[0m\u001b[1;34m\"starttls\"\u001b[0m\u001b[1;33m)\u001b[0m\u001b[1;33m:\u001b[0m\u001b[1;33m\u001b[0m\u001b[1;33m\u001b[0m\u001b[0m\n\u001b[0;32m    751\u001b[0m             raise SMTPNotSupportedError(\n\u001b[1;32m--> 752\u001b[1;33m                 \"STARTTLS extension not supported by server.\")\n\u001b[0m\u001b[0;32m    753\u001b[0m         \u001b[1;33m(\u001b[0m\u001b[0mresp\u001b[0m\u001b[1;33m,\u001b[0m \u001b[0mreply\u001b[0m\u001b[1;33m)\u001b[0m \u001b[1;33m=\u001b[0m \u001b[0mself\u001b[0m\u001b[1;33m.\u001b[0m\u001b[0mdocmd\u001b[0m\u001b[1;33m(\u001b[0m\u001b[1;34m\"STARTTLS\"\u001b[0m\u001b[1;33m)\u001b[0m\u001b[1;33m\u001b[0m\u001b[1;33m\u001b[0m\u001b[0m\n\u001b[0;32m    754\u001b[0m         \u001b[1;32mif\u001b[0m \u001b[0mresp\u001b[0m \u001b[1;33m==\u001b[0m \u001b[1;36m220\u001b[0m\u001b[1;33m:\u001b[0m\u001b[1;33m\u001b[0m\u001b[1;33m\u001b[0m\u001b[0m\n",
      "\u001b[1;31mSMTPNotSupportedError\u001b[0m: STARTTLS extension not supported by server."
     ]
    }
   ],
   "source": [
    "import smtplib\n",
    "\n",
    "body = 'Subject: Subject Here .\\nDear ContactName, \\n\\n' + 'Email\\'s BODY text' + '\\nYour :: Signature/Innitials'\n",
    "try:\n",
    "    smtpObj = smtplib.SMTP('smtp.mail.yahoo.com', 465)\n",
    "except Exception as e:\n",
    "    print(e)\n",
    "    smtpObj = smtplib.SMTP_SSL('smtp.mail.yahoo.com', 465)\n",
    "#type(smtpObj) \n",
    "smtpObj.ehlo()\n",
    "smtpObj.starttls()\n",
    "smtpObj.login('gregory_s_davis@yahoo.com', \"YHClayClaire1959\") \n",
    "smtpObj.sendmail('gregory_s_davis@yahoo.com', 'gsdavis1959@gmail.com', body) # Or recipient@outlook\n",
    "\n",
    "smtpObj.quit()\n",
    "pass"
   ]
  },
  {
   "cell_type": "code",
   "execution_count": 11,
   "metadata": {},
   "outputs": [],
   "source": [
    "import win32com.client as win32\n",
    "outlook = win32.Dispatch('outlook.application')\n",
    "mail = outlook.CreateItem(0)\n",
    "mail.To = 'gregory_s_davis@yahoo.com'\n",
    "mail.Subject = 'Test'\n",
    "mail.Body = 'Message body'\n",
    "mail.HTMLBody = '<h2>HTML Message body</h2>' #this field is optional\n",
    "\n",
    "# To attach a file to the email (optional):\n",
    "#attachment  = \"Path to the attachment\"\n",
    "#mail.Attachments.Add(attachment)\n",
    "\n",
    "mail.Send()"
   ]
  }
 ],
 "metadata": {
  "kernelspec": {
   "display_name": "Python 3",
   "language": "python",
   "name": "python3"
  },
  "language_info": {
   "codemirror_mode": {
    "name": "ipython",
    "version": 3
   },
   "file_extension": ".py",
   "mimetype": "text/x-python",
   "name": "python",
   "nbconvert_exporter": "python",
   "pygments_lexer": "ipython3",
   "version": "3.7.6"
  }
 },
 "nbformat": 4,
 "nbformat_minor": 4
}
