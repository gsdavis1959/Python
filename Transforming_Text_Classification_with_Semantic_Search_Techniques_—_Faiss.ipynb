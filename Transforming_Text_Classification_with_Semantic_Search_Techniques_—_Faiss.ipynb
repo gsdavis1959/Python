{
  "nbformat": 4,
  "nbformat_minor": 0,
  "metadata": {
    "colab": {
      "provenance": []
    },
    "kernelspec": {
      "name": "python3",
      "display_name": "Python 3"
    },
    "language_info": {
      "name": "python"
    },
    "widgets": {
      "application/vnd.jupyter.widget-state+json": {
        "cb8abe65d9634f9e9951f5ae2646239f": {
          "model_module": "@jupyter-widgets/controls",
          "model_name": "HBoxModel",
          "model_module_version": "1.5.0",
          "state": {
            "_dom_classes": [],
            "_model_module": "@jupyter-widgets/controls",
            "_model_module_version": "1.5.0",
            "_model_name": "HBoxModel",
            "_view_count": null,
            "_view_module": "@jupyter-widgets/controls",
            "_view_module_version": "1.5.0",
            "_view_name": "HBoxView",
            "box_style": "",
            "children": [
              "IPY_MODEL_e411ee29057641ff803c25f03435fafd",
              "IPY_MODEL_58dd64d0721b4bc28064250343653eef",
              "IPY_MODEL_7861e79d174f4ff39be92539a479b1b9"
            ],
            "layout": "IPY_MODEL_71d961e7565d4df8bb7d532a52947f37"
          }
        },
        "e411ee29057641ff803c25f03435fafd": {
          "model_module": "@jupyter-widgets/controls",
          "model_name": "HTMLModel",
          "model_module_version": "1.5.0",
          "state": {
            "_dom_classes": [],
            "_model_module": "@jupyter-widgets/controls",
            "_model_module_version": "1.5.0",
            "_model_name": "HTMLModel",
            "_view_count": null,
            "_view_module": "@jupyter-widgets/controls",
            "_view_module_version": "1.5.0",
            "_view_name": "HTMLView",
            "description": "",
            "description_tooltip": null,
            "layout": "IPY_MODEL_b288f3c6fe314454a49fcab5234dfc93",
            "placeholder": "​",
            "style": "IPY_MODEL_98e64f2f3bbc4a4a8a544e10646c4f3b",
            "value": "Batches: 100%"
          }
        },
        "58dd64d0721b4bc28064250343653eef": {
          "model_module": "@jupyter-widgets/controls",
          "model_name": "FloatProgressModel",
          "model_module_version": "1.5.0",
          "state": {
            "_dom_classes": [],
            "_model_module": "@jupyter-widgets/controls",
            "_model_module_version": "1.5.0",
            "_model_name": "FloatProgressModel",
            "_view_count": null,
            "_view_module": "@jupyter-widgets/controls",
            "_view_module_version": "1.5.0",
            "_view_name": "ProgressView",
            "bar_style": "success",
            "description": "",
            "description_tooltip": null,
            "layout": "IPY_MODEL_304ec117543749e88fa051798c9eea3d",
            "max": 102,
            "min": 0,
            "orientation": "horizontal",
            "style": "IPY_MODEL_7ff8f26a207049cc8ccef2f43b560d8e",
            "value": 102
          }
        },
        "7861e79d174f4ff39be92539a479b1b9": {
          "model_module": "@jupyter-widgets/controls",
          "model_name": "HTMLModel",
          "model_module_version": "1.5.0",
          "state": {
            "_dom_classes": [],
            "_model_module": "@jupyter-widgets/controls",
            "_model_module_version": "1.5.0",
            "_model_name": "HTMLModel",
            "_view_count": null,
            "_view_module": "@jupyter-widgets/controls",
            "_view_module_version": "1.5.0",
            "_view_name": "HTMLView",
            "description": "",
            "description_tooltip": null,
            "layout": "IPY_MODEL_1119fa2a3404439aad0b9864c4f92713",
            "placeholder": "​",
            "style": "IPY_MODEL_497e32ad37d74cb6aba592abef4b5d4b",
            "value": " 102/102 [03:03&lt;00:00,  7.10it/s]"
          }
        },
        "71d961e7565d4df8bb7d532a52947f37": {
          "model_module": "@jupyter-widgets/base",
          "model_name": "LayoutModel",
          "model_module_version": "1.2.0",
          "state": {
            "_model_module": "@jupyter-widgets/base",
            "_model_module_version": "1.2.0",
            "_model_name": "LayoutModel",
            "_view_count": null,
            "_view_module": "@jupyter-widgets/base",
            "_view_module_version": "1.2.0",
            "_view_name": "LayoutView",
            "align_content": null,
            "align_items": null,
            "align_self": null,
            "border": null,
            "bottom": null,
            "display": null,
            "flex": null,
            "flex_flow": null,
            "grid_area": null,
            "grid_auto_columns": null,
            "grid_auto_flow": null,
            "grid_auto_rows": null,
            "grid_column": null,
            "grid_gap": null,
            "grid_row": null,
            "grid_template_areas": null,
            "grid_template_columns": null,
            "grid_template_rows": null,
            "height": null,
            "justify_content": null,
            "justify_items": null,
            "left": null,
            "margin": null,
            "max_height": null,
            "max_width": null,
            "min_height": null,
            "min_width": null,
            "object_fit": null,
            "object_position": null,
            "order": null,
            "overflow": null,
            "overflow_x": null,
            "overflow_y": null,
            "padding": null,
            "right": null,
            "top": null,
            "visibility": null,
            "width": null
          }
        },
        "b288f3c6fe314454a49fcab5234dfc93": {
          "model_module": "@jupyter-widgets/base",
          "model_name": "LayoutModel",
          "model_module_version": "1.2.0",
          "state": {
            "_model_module": "@jupyter-widgets/base",
            "_model_module_version": "1.2.0",
            "_model_name": "LayoutModel",
            "_view_count": null,
            "_view_module": "@jupyter-widgets/base",
            "_view_module_version": "1.2.0",
            "_view_name": "LayoutView",
            "align_content": null,
            "align_items": null,
            "align_self": null,
            "border": null,
            "bottom": null,
            "display": null,
            "flex": null,
            "flex_flow": null,
            "grid_area": null,
            "grid_auto_columns": null,
            "grid_auto_flow": null,
            "grid_auto_rows": null,
            "grid_column": null,
            "grid_gap": null,
            "grid_row": null,
            "grid_template_areas": null,
            "grid_template_columns": null,
            "grid_template_rows": null,
            "height": null,
            "justify_content": null,
            "justify_items": null,
            "left": null,
            "margin": null,
            "max_height": null,
            "max_width": null,
            "min_height": null,
            "min_width": null,
            "object_fit": null,
            "object_position": null,
            "order": null,
            "overflow": null,
            "overflow_x": null,
            "overflow_y": null,
            "padding": null,
            "right": null,
            "top": null,
            "visibility": null,
            "width": null
          }
        },
        "98e64f2f3bbc4a4a8a544e10646c4f3b": {
          "model_module": "@jupyter-widgets/controls",
          "model_name": "DescriptionStyleModel",
          "model_module_version": "1.5.0",
          "state": {
            "_model_module": "@jupyter-widgets/controls",
            "_model_module_version": "1.5.0",
            "_model_name": "DescriptionStyleModel",
            "_view_count": null,
            "_view_module": "@jupyter-widgets/base",
            "_view_module_version": "1.2.0",
            "_view_name": "StyleView",
            "description_width": ""
          }
        },
        "304ec117543749e88fa051798c9eea3d": {
          "model_module": "@jupyter-widgets/base",
          "model_name": "LayoutModel",
          "model_module_version": "1.2.0",
          "state": {
            "_model_module": "@jupyter-widgets/base",
            "_model_module_version": "1.2.0",
            "_model_name": "LayoutModel",
            "_view_count": null,
            "_view_module": "@jupyter-widgets/base",
            "_view_module_version": "1.2.0",
            "_view_name": "LayoutView",
            "align_content": null,
            "align_items": null,
            "align_self": null,
            "border": null,
            "bottom": null,
            "display": null,
            "flex": null,
            "flex_flow": null,
            "grid_area": null,
            "grid_auto_columns": null,
            "grid_auto_flow": null,
            "grid_auto_rows": null,
            "grid_column": null,
            "grid_gap": null,
            "grid_row": null,
            "grid_template_areas": null,
            "grid_template_columns": null,
            "grid_template_rows": null,
            "height": null,
            "justify_content": null,
            "justify_items": null,
            "left": null,
            "margin": null,
            "max_height": null,
            "max_width": null,
            "min_height": null,
            "min_width": null,
            "object_fit": null,
            "object_position": null,
            "order": null,
            "overflow": null,
            "overflow_x": null,
            "overflow_y": null,
            "padding": null,
            "right": null,
            "top": null,
            "visibility": null,
            "width": null
          }
        },
        "7ff8f26a207049cc8ccef2f43b560d8e": {
          "model_module": "@jupyter-widgets/controls",
          "model_name": "ProgressStyleModel",
          "model_module_version": "1.5.0",
          "state": {
            "_model_module": "@jupyter-widgets/controls",
            "_model_module_version": "1.5.0",
            "_model_name": "ProgressStyleModel",
            "_view_count": null,
            "_view_module": "@jupyter-widgets/base",
            "_view_module_version": "1.2.0",
            "_view_name": "StyleView",
            "bar_color": null,
            "description_width": ""
          }
        },
        "1119fa2a3404439aad0b9864c4f92713": {
          "model_module": "@jupyter-widgets/base",
          "model_name": "LayoutModel",
          "model_module_version": "1.2.0",
          "state": {
            "_model_module": "@jupyter-widgets/base",
            "_model_module_version": "1.2.0",
            "_model_name": "LayoutModel",
            "_view_count": null,
            "_view_module": "@jupyter-widgets/base",
            "_view_module_version": "1.2.0",
            "_view_name": "LayoutView",
            "align_content": null,
            "align_items": null,
            "align_self": null,
            "border": null,
            "bottom": null,
            "display": null,
            "flex": null,
            "flex_flow": null,
            "grid_area": null,
            "grid_auto_columns": null,
            "grid_auto_flow": null,
            "grid_auto_rows": null,
            "grid_column": null,
            "grid_gap": null,
            "grid_row": null,
            "grid_template_areas": null,
            "grid_template_columns": null,
            "grid_template_rows": null,
            "height": null,
            "justify_content": null,
            "justify_items": null,
            "left": null,
            "margin": null,
            "max_height": null,
            "max_width": null,
            "min_height": null,
            "min_width": null,
            "object_fit": null,
            "object_position": null,
            "order": null,
            "overflow": null,
            "overflow_x": null,
            "overflow_y": null,
            "padding": null,
            "right": null,
            "top": null,
            "visibility": null,
            "width": null
          }
        },
        "497e32ad37d74cb6aba592abef4b5d4b": {
          "model_module": "@jupyter-widgets/controls",
          "model_name": "DescriptionStyleModel",
          "model_module_version": "1.5.0",
          "state": {
            "_model_module": "@jupyter-widgets/controls",
            "_model_module_version": "1.5.0",
            "_model_name": "DescriptionStyleModel",
            "_view_count": null,
            "_view_module": "@jupyter-widgets/base",
            "_view_module_version": "1.2.0",
            "_view_name": "StyleView",
            "description_width": ""
          }
        }
      }
    }
  },
  "cells": [
    {
      "cell_type": "code",
      "execution_count": 3,
      "metadata": {
        "colab": {
          "base_uri": "https://localhost:8080/"
        },
        "id": "vdyQlkif5IA8",
        "outputId": "18554711-fcb0-4876-e746-554adf1a8319"
      },
      "outputs": [
        {
          "output_type": "stream",
          "name": "stdout",
          "text": [
            "Requirement already satisfied: faiss-cpu in /usr/local/lib/python3.10/dist-packages (1.8.0)\n",
            "Requirement already satisfied: numpy in /usr/local/lib/python3.10/dist-packages (from faiss-cpu) (1.25.2)\n",
            "Collecting sentence_transformers\n",
            "  Downloading sentence_transformers-2.7.0-py3-none-any.whl (171 kB)\n",
            "\u001b[2K     \u001b[90m━━━━━━━━━━━━━━━━━━━━━━━━━━━━━━━━━━━━━━━━\u001b[0m \u001b[32m171.5/171.5 kB\u001b[0m \u001b[31m2.0 MB/s\u001b[0m eta \u001b[36m0:00:00\u001b[0m\n",
            "\u001b[?25hRequirement already satisfied: transformers<5.0.0,>=4.34.0 in /usr/local/lib/python3.10/dist-packages (from sentence_transformers) (4.38.2)\n",
            "Requirement already satisfied: tqdm in /usr/local/lib/python3.10/dist-packages (from sentence_transformers) (4.66.2)\n",
            "Requirement already satisfied: torch>=1.11.0 in /usr/local/lib/python3.10/dist-packages (from sentence_transformers) (2.2.1+cu121)\n",
            "Requirement already satisfied: numpy in /usr/local/lib/python3.10/dist-packages (from sentence_transformers) (1.25.2)\n",
            "Requirement already satisfied: scikit-learn in /usr/local/lib/python3.10/dist-packages (from sentence_transformers) (1.2.2)\n",
            "Requirement already satisfied: scipy in /usr/local/lib/python3.10/dist-packages (from sentence_transformers) (1.11.4)\n",
            "Requirement already satisfied: huggingface-hub>=0.15.1 in /usr/local/lib/python3.10/dist-packages (from sentence_transformers) (0.20.3)\n",
            "Requirement already satisfied: Pillow in /usr/local/lib/python3.10/dist-packages (from sentence_transformers) (9.4.0)\n",
            "Requirement already satisfied: filelock in /usr/local/lib/python3.10/dist-packages (from huggingface-hub>=0.15.1->sentence_transformers) (3.13.4)\n",
            "Requirement already satisfied: fsspec>=2023.5.0 in /usr/local/lib/python3.10/dist-packages (from huggingface-hub>=0.15.1->sentence_transformers) (2023.6.0)\n",
            "Requirement already satisfied: requests in /usr/local/lib/python3.10/dist-packages (from huggingface-hub>=0.15.1->sentence_transformers) (2.31.0)\n",
            "Requirement already satisfied: pyyaml>=5.1 in /usr/local/lib/python3.10/dist-packages (from huggingface-hub>=0.15.1->sentence_transformers) (6.0.1)\n",
            "Requirement already satisfied: typing-extensions>=3.7.4.3 in /usr/local/lib/python3.10/dist-packages (from huggingface-hub>=0.15.1->sentence_transformers) (4.11.0)\n",
            "Requirement already satisfied: packaging>=20.9 in /usr/local/lib/python3.10/dist-packages (from huggingface-hub>=0.15.1->sentence_transformers) (24.0)\n",
            "Requirement already satisfied: sympy in /usr/local/lib/python3.10/dist-packages (from torch>=1.11.0->sentence_transformers) (1.12)\n",
            "Requirement already satisfied: networkx in /usr/local/lib/python3.10/dist-packages (from torch>=1.11.0->sentence_transformers) (3.3)\n",
            "Requirement already satisfied: jinja2 in /usr/local/lib/python3.10/dist-packages (from torch>=1.11.0->sentence_transformers) (3.1.3)\n",
            "Collecting nvidia-cuda-nvrtc-cu12==12.1.105 (from torch>=1.11.0->sentence_transformers)\n",
            "  Using cached nvidia_cuda_nvrtc_cu12-12.1.105-py3-none-manylinux1_x86_64.whl (23.7 MB)\n",
            "Collecting nvidia-cuda-runtime-cu12==12.1.105 (from torch>=1.11.0->sentence_transformers)\n",
            "  Using cached nvidia_cuda_runtime_cu12-12.1.105-py3-none-manylinux1_x86_64.whl (823 kB)\n",
            "Collecting nvidia-cuda-cupti-cu12==12.1.105 (from torch>=1.11.0->sentence_transformers)\n",
            "  Using cached nvidia_cuda_cupti_cu12-12.1.105-py3-none-manylinux1_x86_64.whl (14.1 MB)\n",
            "Collecting nvidia-cudnn-cu12==8.9.2.26 (from torch>=1.11.0->sentence_transformers)\n",
            "  Using cached nvidia_cudnn_cu12-8.9.2.26-py3-none-manylinux1_x86_64.whl (731.7 MB)\n",
            "Collecting nvidia-cublas-cu12==12.1.3.1 (from torch>=1.11.0->sentence_transformers)\n",
            "  Using cached nvidia_cublas_cu12-12.1.3.1-py3-none-manylinux1_x86_64.whl (410.6 MB)\n",
            "Collecting nvidia-cufft-cu12==11.0.2.54 (from torch>=1.11.0->sentence_transformers)\n",
            "  Using cached nvidia_cufft_cu12-11.0.2.54-py3-none-manylinux1_x86_64.whl (121.6 MB)\n",
            "Collecting nvidia-curand-cu12==10.3.2.106 (from torch>=1.11.0->sentence_transformers)\n",
            "  Using cached nvidia_curand_cu12-10.3.2.106-py3-none-manylinux1_x86_64.whl (56.5 MB)\n",
            "Collecting nvidia-cusolver-cu12==11.4.5.107 (from torch>=1.11.0->sentence_transformers)\n",
            "  Using cached nvidia_cusolver_cu12-11.4.5.107-py3-none-manylinux1_x86_64.whl (124.2 MB)\n",
            "Collecting nvidia-cusparse-cu12==12.1.0.106 (from torch>=1.11.0->sentence_transformers)\n",
            "  Using cached nvidia_cusparse_cu12-12.1.0.106-py3-none-manylinux1_x86_64.whl (196.0 MB)\n",
            "Collecting nvidia-nccl-cu12==2.19.3 (from torch>=1.11.0->sentence_transformers)\n",
            "  Using cached nvidia_nccl_cu12-2.19.3-py3-none-manylinux1_x86_64.whl (166.0 MB)\n",
            "Collecting nvidia-nvtx-cu12==12.1.105 (from torch>=1.11.0->sentence_transformers)\n",
            "  Using cached nvidia_nvtx_cu12-12.1.105-py3-none-manylinux1_x86_64.whl (99 kB)\n",
            "Requirement already satisfied: triton==2.2.0 in /usr/local/lib/python3.10/dist-packages (from torch>=1.11.0->sentence_transformers) (2.2.0)\n",
            "Collecting nvidia-nvjitlink-cu12 (from nvidia-cusolver-cu12==11.4.5.107->torch>=1.11.0->sentence_transformers)\n",
            "  Using cached nvidia_nvjitlink_cu12-12.4.127-py3-none-manylinux2014_x86_64.whl (21.1 MB)\n",
            "Requirement already satisfied: regex!=2019.12.17 in /usr/local/lib/python3.10/dist-packages (from transformers<5.0.0,>=4.34.0->sentence_transformers) (2023.12.25)\n",
            "Requirement already satisfied: tokenizers<0.19,>=0.14 in /usr/local/lib/python3.10/dist-packages (from transformers<5.0.0,>=4.34.0->sentence_transformers) (0.15.2)\n",
            "Requirement already satisfied: safetensors>=0.4.1 in /usr/local/lib/python3.10/dist-packages (from transformers<5.0.0,>=4.34.0->sentence_transformers) (0.4.3)\n",
            "Requirement already satisfied: joblib>=1.1.1 in /usr/local/lib/python3.10/dist-packages (from scikit-learn->sentence_transformers) (1.4.0)\n",
            "Requirement already satisfied: threadpoolctl>=2.0.0 in /usr/local/lib/python3.10/dist-packages (from scikit-learn->sentence_transformers) (3.4.0)\n",
            "Requirement already satisfied: MarkupSafe>=2.0 in /usr/local/lib/python3.10/dist-packages (from jinja2->torch>=1.11.0->sentence_transformers) (2.1.5)\n",
            "Requirement already satisfied: charset-normalizer<4,>=2 in /usr/local/lib/python3.10/dist-packages (from requests->huggingface-hub>=0.15.1->sentence_transformers) (3.3.2)\n",
            "Requirement already satisfied: idna<4,>=2.5 in /usr/local/lib/python3.10/dist-packages (from requests->huggingface-hub>=0.15.1->sentence_transformers) (3.7)\n",
            "Requirement already satisfied: urllib3<3,>=1.21.1 in /usr/local/lib/python3.10/dist-packages (from requests->huggingface-hub>=0.15.1->sentence_transformers) (2.0.7)\n",
            "Requirement already satisfied: certifi>=2017.4.17 in /usr/local/lib/python3.10/dist-packages (from requests->huggingface-hub>=0.15.1->sentence_transformers) (2024.2.2)\n",
            "Requirement already satisfied: mpmath>=0.19 in /usr/local/lib/python3.10/dist-packages (from sympy->torch>=1.11.0->sentence_transformers) (1.3.0)\n",
            "Installing collected packages: nvidia-nvtx-cu12, nvidia-nvjitlink-cu12, nvidia-nccl-cu12, nvidia-curand-cu12, nvidia-cufft-cu12, nvidia-cuda-runtime-cu12, nvidia-cuda-nvrtc-cu12, nvidia-cuda-cupti-cu12, nvidia-cublas-cu12, nvidia-cusparse-cu12, nvidia-cudnn-cu12, nvidia-cusolver-cu12, sentence_transformers\n",
            "Successfully installed nvidia-cublas-cu12-12.1.3.1 nvidia-cuda-cupti-cu12-12.1.105 nvidia-cuda-nvrtc-cu12-12.1.105 nvidia-cuda-runtime-cu12-12.1.105 nvidia-cudnn-cu12-8.9.2.26 nvidia-cufft-cu12-11.0.2.54 nvidia-curand-cu12-10.3.2.106 nvidia-cusolver-cu12-11.4.5.107 nvidia-cusparse-cu12-12.1.0.106 nvidia-nccl-cu12-2.19.3 nvidia-nvjitlink-cu12-12.4.127 nvidia-nvtx-cu12-12.1.105 sentence_transformers-2.7.0\n"
          ]
        }
      ],
      "source": [
        "!pip install faiss-cpu\n",
        "!pip install sentence_transformers"
      ]
    },
    {
      "cell_type": "code",
      "source": [
        "import os\n",
        "import time\n",
        "import faiss\n",
        "import string\n",
        "import pickle\n",
        "import numpy as np\n",
        "import pandas as pd\n",
        "import seaborn as sns\n",
        "\n",
        "from typing import List\n",
        "from collections import Counter\n",
        "\n",
        "from sklearn.metrics import accuracy_score\n",
        "\n",
        "from sklearn.model_selection import train_test_split\n",
        "from sentence_transformers import SentenceTransformer\n",
        "from sklearn.metrics import classification_report,confusion_matrix"
      ],
      "metadata": {
        "id": "CoMkR6b05vUU"
      },
      "execution_count": 4,
      "outputs": []
    },
    {
      "cell_type": "code",
      "source": [
        "df=pd.read_csv(\"https://raw.githubusercontent.com/Harika-3196/classification-using-faiss-semantic-search-index/main/data/20_newsgroup.csv\")\n",
        "df=df[[\"text\",\"title\"]]\n",
        "df.head()"
      ],
      "metadata": {
        "colab": {
          "base_uri": "https://localhost:8080/",
          "height": 206
        },
        "id": "bpngUxl06QZ9",
        "outputId": "48b30949-e3cd-47ad-ef38-0b1214d61b08"
      },
      "execution_count": 5,
      "outputs": [
        {
          "output_type": "execute_result",
          "data": {
            "text/plain": [
              "                                                text      title\n",
              "0  I was wondering if anyone out there could enli...  rec.autos\n",
              "1  I recently posted an article asking what kind ...  rec.autos\n",
              "2  \\nIt depends on your priorities.  A lot of peo...  rec.autos\n",
              "3  an excellent automatic can be found in the sub...  rec.autos\n",
              "4  : Ford and his automobile.  I need information...  rec.autos"
            ],
            "text/html": [
              "\n",
              "  <div id=\"df-4c780438-f2bf-41b7-8a39-fd20b6310c50\" class=\"colab-df-container\">\n",
              "    <div>\n",
              "<style scoped>\n",
              "    .dataframe tbody tr th:only-of-type {\n",
              "        vertical-align: middle;\n",
              "    }\n",
              "\n",
              "    .dataframe tbody tr th {\n",
              "        vertical-align: top;\n",
              "    }\n",
              "\n",
              "    .dataframe thead th {\n",
              "        text-align: right;\n",
              "    }\n",
              "</style>\n",
              "<table border=\"1\" class=\"dataframe\">\n",
              "  <thead>\n",
              "    <tr style=\"text-align: right;\">\n",
              "      <th></th>\n",
              "      <th>text</th>\n",
              "      <th>title</th>\n",
              "    </tr>\n",
              "  </thead>\n",
              "  <tbody>\n",
              "    <tr>\n",
              "      <th>0</th>\n",
              "      <td>I was wondering if anyone out there could enli...</td>\n",
              "      <td>rec.autos</td>\n",
              "    </tr>\n",
              "    <tr>\n",
              "      <th>1</th>\n",
              "      <td>I recently posted an article asking what kind ...</td>\n",
              "      <td>rec.autos</td>\n",
              "    </tr>\n",
              "    <tr>\n",
              "      <th>2</th>\n",
              "      <td>\\nIt depends on your priorities.  A lot of peo...</td>\n",
              "      <td>rec.autos</td>\n",
              "    </tr>\n",
              "    <tr>\n",
              "      <th>3</th>\n",
              "      <td>an excellent automatic can be found in the sub...</td>\n",
              "      <td>rec.autos</td>\n",
              "    </tr>\n",
              "    <tr>\n",
              "      <th>4</th>\n",
              "      <td>: Ford and his automobile.  I need information...</td>\n",
              "      <td>rec.autos</td>\n",
              "    </tr>\n",
              "  </tbody>\n",
              "</table>\n",
              "</div>\n",
              "    <div class=\"colab-df-buttons\">\n",
              "\n",
              "  <div class=\"colab-df-container\">\n",
              "    <button class=\"colab-df-convert\" onclick=\"convertToInteractive('df-4c780438-f2bf-41b7-8a39-fd20b6310c50')\"\n",
              "            title=\"Convert this dataframe to an interactive table.\"\n",
              "            style=\"display:none;\">\n",
              "\n",
              "  <svg xmlns=\"http://www.w3.org/2000/svg\" height=\"24px\" viewBox=\"0 -960 960 960\">\n",
              "    <path d=\"M120-120v-720h720v720H120Zm60-500h600v-160H180v160Zm220 220h160v-160H400v160Zm0 220h160v-160H400v160ZM180-400h160v-160H180v160Zm440 0h160v-160H620v160ZM180-180h160v-160H180v160Zm440 0h160v-160H620v160Z\"/>\n",
              "  </svg>\n",
              "    </button>\n",
              "\n",
              "  <style>\n",
              "    .colab-df-container {\n",
              "      display:flex;\n",
              "      gap: 12px;\n",
              "    }\n",
              "\n",
              "    .colab-df-convert {\n",
              "      background-color: #E8F0FE;\n",
              "      border: none;\n",
              "      border-radius: 50%;\n",
              "      cursor: pointer;\n",
              "      display: none;\n",
              "      fill: #1967D2;\n",
              "      height: 32px;\n",
              "      padding: 0 0 0 0;\n",
              "      width: 32px;\n",
              "    }\n",
              "\n",
              "    .colab-df-convert:hover {\n",
              "      background-color: #E2EBFA;\n",
              "      box-shadow: 0px 1px 2px rgba(60, 64, 67, 0.3), 0px 1px 3px 1px rgba(60, 64, 67, 0.15);\n",
              "      fill: #174EA6;\n",
              "    }\n",
              "\n",
              "    .colab-df-buttons div {\n",
              "      margin-bottom: 4px;\n",
              "    }\n",
              "\n",
              "    [theme=dark] .colab-df-convert {\n",
              "      background-color: #3B4455;\n",
              "      fill: #D2E3FC;\n",
              "    }\n",
              "\n",
              "    [theme=dark] .colab-df-convert:hover {\n",
              "      background-color: #434B5C;\n",
              "      box-shadow: 0px 1px 3px 1px rgba(0, 0, 0, 0.15);\n",
              "      filter: drop-shadow(0px 1px 2px rgba(0, 0, 0, 0.3));\n",
              "      fill: #FFFFFF;\n",
              "    }\n",
              "  </style>\n",
              "\n",
              "    <script>\n",
              "      const buttonEl =\n",
              "        document.querySelector('#df-4c780438-f2bf-41b7-8a39-fd20b6310c50 button.colab-df-convert');\n",
              "      buttonEl.style.display =\n",
              "        google.colab.kernel.accessAllowed ? 'block' : 'none';\n",
              "\n",
              "      async function convertToInteractive(key) {\n",
              "        const element = document.querySelector('#df-4c780438-f2bf-41b7-8a39-fd20b6310c50');\n",
              "        const dataTable =\n",
              "          await google.colab.kernel.invokeFunction('convertToInteractive',\n",
              "                                                    [key], {});\n",
              "        if (!dataTable) return;\n",
              "\n",
              "        const docLinkHtml = 'Like what you see? Visit the ' +\n",
              "          '<a target=\"_blank\" href=https://colab.research.google.com/notebooks/data_table.ipynb>data table notebook</a>'\n",
              "          + ' to learn more about interactive tables.';\n",
              "        element.innerHTML = '';\n",
              "        dataTable['output_type'] = 'display_data';\n",
              "        await google.colab.output.renderOutput(dataTable, element);\n",
              "        const docLink = document.createElement('div');\n",
              "        docLink.innerHTML = docLinkHtml;\n",
              "        element.appendChild(docLink);\n",
              "      }\n",
              "    </script>\n",
              "  </div>\n",
              "\n",
              "\n",
              "<div id=\"df-2a0e4bea-452e-495f-903f-13ccf63ff683\">\n",
              "  <button class=\"colab-df-quickchart\" onclick=\"quickchart('df-2a0e4bea-452e-495f-903f-13ccf63ff683')\"\n",
              "            title=\"Suggest charts\"\n",
              "            style=\"display:none;\">\n",
              "\n",
              "<svg xmlns=\"http://www.w3.org/2000/svg\" height=\"24px\"viewBox=\"0 0 24 24\"\n",
              "     width=\"24px\">\n",
              "    <g>\n",
              "        <path d=\"M19 3H5c-1.1 0-2 .9-2 2v14c0 1.1.9 2 2 2h14c1.1 0 2-.9 2-2V5c0-1.1-.9-2-2-2zM9 17H7v-7h2v7zm4 0h-2V7h2v10zm4 0h-2v-4h2v4z\"/>\n",
              "    </g>\n",
              "</svg>\n",
              "  </button>\n",
              "\n",
              "<style>\n",
              "  .colab-df-quickchart {\n",
              "      --bg-color: #E8F0FE;\n",
              "      --fill-color: #1967D2;\n",
              "      --hover-bg-color: #E2EBFA;\n",
              "      --hover-fill-color: #174EA6;\n",
              "      --disabled-fill-color: #AAA;\n",
              "      --disabled-bg-color: #DDD;\n",
              "  }\n",
              "\n",
              "  [theme=dark] .colab-df-quickchart {\n",
              "      --bg-color: #3B4455;\n",
              "      --fill-color: #D2E3FC;\n",
              "      --hover-bg-color: #434B5C;\n",
              "      --hover-fill-color: #FFFFFF;\n",
              "      --disabled-bg-color: #3B4455;\n",
              "      --disabled-fill-color: #666;\n",
              "  }\n",
              "\n",
              "  .colab-df-quickchart {\n",
              "    background-color: var(--bg-color);\n",
              "    border: none;\n",
              "    border-radius: 50%;\n",
              "    cursor: pointer;\n",
              "    display: none;\n",
              "    fill: var(--fill-color);\n",
              "    height: 32px;\n",
              "    padding: 0;\n",
              "    width: 32px;\n",
              "  }\n",
              "\n",
              "  .colab-df-quickchart:hover {\n",
              "    background-color: var(--hover-bg-color);\n",
              "    box-shadow: 0 1px 2px rgba(60, 64, 67, 0.3), 0 1px 3px 1px rgba(60, 64, 67, 0.15);\n",
              "    fill: var(--button-hover-fill-color);\n",
              "  }\n",
              "\n",
              "  .colab-df-quickchart-complete:disabled,\n",
              "  .colab-df-quickchart-complete:disabled:hover {\n",
              "    background-color: var(--disabled-bg-color);\n",
              "    fill: var(--disabled-fill-color);\n",
              "    box-shadow: none;\n",
              "  }\n",
              "\n",
              "  .colab-df-spinner {\n",
              "    border: 2px solid var(--fill-color);\n",
              "    border-color: transparent;\n",
              "    border-bottom-color: var(--fill-color);\n",
              "    animation:\n",
              "      spin 1s steps(1) infinite;\n",
              "  }\n",
              "\n",
              "  @keyframes spin {\n",
              "    0% {\n",
              "      border-color: transparent;\n",
              "      border-bottom-color: var(--fill-color);\n",
              "      border-left-color: var(--fill-color);\n",
              "    }\n",
              "    20% {\n",
              "      border-color: transparent;\n",
              "      border-left-color: var(--fill-color);\n",
              "      border-top-color: var(--fill-color);\n",
              "    }\n",
              "    30% {\n",
              "      border-color: transparent;\n",
              "      border-left-color: var(--fill-color);\n",
              "      border-top-color: var(--fill-color);\n",
              "      border-right-color: var(--fill-color);\n",
              "    }\n",
              "    40% {\n",
              "      border-color: transparent;\n",
              "      border-right-color: var(--fill-color);\n",
              "      border-top-color: var(--fill-color);\n",
              "    }\n",
              "    60% {\n",
              "      border-color: transparent;\n",
              "      border-right-color: var(--fill-color);\n",
              "    }\n",
              "    80% {\n",
              "      border-color: transparent;\n",
              "      border-right-color: var(--fill-color);\n",
              "      border-bottom-color: var(--fill-color);\n",
              "    }\n",
              "    90% {\n",
              "      border-color: transparent;\n",
              "      border-bottom-color: var(--fill-color);\n",
              "    }\n",
              "  }\n",
              "</style>\n",
              "\n",
              "  <script>\n",
              "    async function quickchart(key) {\n",
              "      const quickchartButtonEl =\n",
              "        document.querySelector('#' + key + ' button');\n",
              "      quickchartButtonEl.disabled = true;  // To prevent multiple clicks.\n",
              "      quickchartButtonEl.classList.add('colab-df-spinner');\n",
              "      try {\n",
              "        const charts = await google.colab.kernel.invokeFunction(\n",
              "            'suggestCharts', [key], {});\n",
              "      } catch (error) {\n",
              "        console.error('Error during call to suggestCharts:', error);\n",
              "      }\n",
              "      quickchartButtonEl.classList.remove('colab-df-spinner');\n",
              "      quickchartButtonEl.classList.add('colab-df-quickchart-complete');\n",
              "    }\n",
              "    (() => {\n",
              "      let quickchartButtonEl =\n",
              "        document.querySelector('#df-2a0e4bea-452e-495f-903f-13ccf63ff683 button');\n",
              "      quickchartButtonEl.style.display =\n",
              "        google.colab.kernel.accessAllowed ? 'block' : 'none';\n",
              "    })();\n",
              "  </script>\n",
              "</div>\n",
              "\n",
              "    </div>\n",
              "  </div>\n"
            ],
            "application/vnd.google.colaboratory.intrinsic+json": {
              "type": "dataframe",
              "variable_name": "df",
              "summary": "{\n  \"name\": \"df\",\n  \"rows\": 11314,\n  \"fields\": [\n    {\n      \"column\": \"text\",\n      \"properties\": {\n        \"dtype\": \"string\",\n        \"num_unique_values\": 10993,\n        \"samples\": [\n          \"I'm looking for a replacement radio/tape player for a 1984 \\nToyota Tercel.  Standard off-the-shelf unit is fine, but \\nevery place I've gone to (Service Merchandise, etc.) doesn't \\nhave my car in its model application book.  I want to just \\ntake out the old radio, and slide in the new, with minimal time\\nspent hooking it up and adjusting the dashboard.\\n\\nIf you have put in a new unit in a similar car, I'd like to hear\\nwhat brand,  how easy it was to do the change, and any other \\nrelevant information. \\n\\nPlease answer via E-mail.\\nThanks,  Tom Ostrand\\n\",\n          \"     Digitally-tuned shorwave radio with alarm clock and 5 presets per band.\\n       Has AM, FM, SW1, and SW2 bands.   Asking $25 + shppg.\\n         Reply for more details.    Thanks      Pete 3mwieu4@cmuvm.cmich.edu\\n\",\n          \"\\nDidn't Alicea get a hit, though? \\n\\nSee y'all at the ballyard\\nGo Braves\\nChop Chop\\n\\nMichael Mule'\\n\"\n        ],\n        \"semantic_type\": \"\",\n        \"description\": \"\"\n      }\n    },\n    {\n      \"column\": \"title\",\n      \"properties\": {\n        \"dtype\": \"category\",\n        \"num_unique_values\": 20,\n        \"samples\": [\n          \"rec.autos\",\n          \"talk.politics.mideast\",\n          \"rec.sport.baseball\"\n        ],\n        \"semantic_type\": \"\",\n        \"description\": \"\"\n      }\n    }\n  ]\n}"
            }
          },
          "metadata": {},
          "execution_count": 5
        }
      ]
    },
    {
      "cell_type": "code",
      "source": [
        "df[\"title\"].value_counts()"
      ],
      "metadata": {
        "colab": {
          "base_uri": "https://localhost:8080/"
        },
        "id": "Y0AsQECe6r5d",
        "outputId": "8e5ab77f-b2d4-4c20-8fbe-ad0341b4ff34"
      },
      "execution_count": 6,
      "outputs": [
        {
          "output_type": "execute_result",
          "data": {
            "text/plain": [
              "title\n",
              "rec.sport.hockey            600\n",
              "soc.religion.christian      599\n",
              "rec.motorcycles             598\n",
              "rec.sport.baseball          597\n",
              "sci.crypt                   595\n",
              "rec.autos                   594\n",
              "sci.med                     594\n",
              "comp.windows.x              593\n",
              "sci.space                   593\n",
              "comp.os.ms-windows.misc     591\n",
              "sci.electronics             591\n",
              "comp.sys.ibm.pc.hardware    590\n",
              "misc.forsale                585\n",
              "comp.graphics               584\n",
              "comp.sys.mac.hardware       578\n",
              "talk.politics.mideast       564\n",
              "talk.politics.guns          546\n",
              "alt.atheism                 480\n",
              "talk.politics.misc          465\n",
              "talk.religion.misc          377\n",
              "Name: count, dtype: int64"
            ]
          },
          "metadata": {},
          "execution_count": 6
        }
      ]
    },
    {
      "cell_type": "code",
      "source": [
        "df['title'].unique()"
      ],
      "metadata": {
        "colab": {
          "base_uri": "https://localhost:8080/"
        },
        "id": "zFMhgjrC6xoc",
        "outputId": "18e68e8d-d28f-4905-926b-93d2228c280c"
      },
      "execution_count": 7,
      "outputs": [
        {
          "output_type": "execute_result",
          "data": {
            "text/plain": [
              "array(['rec.autos', 'comp.sys.mac.hardware', 'comp.graphics', 'sci.space',\n",
              "       'talk.politics.guns', 'sci.med', 'comp.sys.ibm.pc.hardware',\n",
              "       'comp.os.ms-windows.misc', 'rec.motorcycles', 'talk.religion.misc',\n",
              "       'misc.forsale', 'alt.atheism', 'sci.electronics', 'comp.windows.x',\n",
              "       'rec.sport.hockey', 'rec.sport.baseball', 'soc.religion.christian',\n",
              "       'talk.politics.mideast', 'talk.politics.misc', 'sci.crypt'],\n",
              "      dtype=object)"
            ]
          },
          "metadata": {},
          "execution_count": 7
        }
      ]
    },
    {
      "cell_type": "code",
      "source": [
        "list_=['sci.space','comp.sys.mac.hardware','soc.religion.christian','sci.med','rec.sport.hockey','sci.crypt','comp.graphics']\n",
        "selected=df[df[\"title\"].isin(list_)]"
      ],
      "metadata": {
        "id": "IjkW0kuX63eq"
      },
      "execution_count": 8,
      "outputs": []
    },
    {
      "cell_type": "code",
      "source": [
        "selected.drop_duplicates(inplace=True)"
      ],
      "metadata": {
        "colab": {
          "base_uri": "https://localhost:8080/"
        },
        "id": "5FuVjWpx6-D_",
        "outputId": "21074bef-4026-452a-e062-a16e9bbfca02"
      },
      "execution_count": 9,
      "outputs": [
        {
          "output_type": "stream",
          "name": "stderr",
          "text": [
            "<ipython-input-9-352da0281460>:1: SettingWithCopyWarning: \n",
            "A value is trying to be set on a copy of a slice from a DataFrame\n",
            "\n",
            "See the caveats in the documentation: https://pandas.pydata.org/pandas-docs/stable/user_guide/indexing.html#returning-a-view-versus-a-copy\n",
            "  selected.drop_duplicates(inplace=True)\n"
          ]
        }
      ]
    },
    {
      "cell_type": "code",
      "source": [
        "selected[\"text\"]=selected[\"text\"].astype(str)"
      ],
      "metadata": {
        "colab": {
          "base_uri": "https://localhost:8080/"
        },
        "id": "4sNPsdqb7Cmy",
        "outputId": "16104501-e9bd-4b86-8e06-a06367fe207f"
      },
      "execution_count": 10,
      "outputs": [
        {
          "output_type": "stream",
          "name": "stderr",
          "text": [
            "<ipython-input-10-0c6c1c75ab59>:1: SettingWithCopyWarning: \n",
            "A value is trying to be set on a copy of a slice from a DataFrame.\n",
            "Try using .loc[row_indexer,col_indexer] = value instead\n",
            "\n",
            "See the caveats in the documentation: https://pandas.pydata.org/pandas-docs/stable/user_guide/indexing.html#returning-a-view-versus-a-copy\n",
            "  selected[\"text\"]=selected[\"text\"].astype(str)\n"
          ]
        }
      ]
    },
    {
      "cell_type": "code",
      "source": [
        "len(selected)"
      ],
      "metadata": {
        "colab": {
          "base_uri": "https://localhost:8080/"
        },
        "id": "_VU7Alwy7Ife",
        "outputId": "351b93bd-bde4-48ab-a39a-c1a57000fcfb"
      },
      "execution_count": 11,
      "outputs": [
        {
          "output_type": "execute_result",
          "data": {
            "text/plain": [
              "4064"
            ]
          },
          "metadata": {},
          "execution_count": 11
        }
      ]
    },
    {
      "cell_type": "code",
      "source": [
        "selected[[\"text\",\"title\"]].sample(5)"
      ],
      "metadata": {
        "colab": {
          "base_uri": "https://localhost:8080/",
          "height": 206
        },
        "id": "jHYt__TI7Mxg",
        "outputId": "7af26ceb-1624-4933-a00f-64cfe16cbaae"
      },
      "execution_count": 12,
      "outputs": [
        {
          "output_type": "execute_result",
          "data": {
            "text/plain": [
              "                                                    text  \\\n",
              "1316   I am currently using POVRay on Mac and was won...   \n",
              "3270   \\nSurprise surprise, different people react di...   \n",
              "10792  \\nThe final stages of denial... I can hardly i...   \n",
              "9451   \\nPerhaps we have different definitions of abs...   \n",
              "8334   \\nWell, actually now that you mention it, a fe...   \n",
              "\n",
              "                        title  \n",
              "1316            comp.graphics  \n",
              "3270                  sci.med  \n",
              "10792               sci.crypt  \n",
              "9451   soc.religion.christian  \n",
              "8334         rec.sport.hockey  "
            ],
            "text/html": [
              "\n",
              "  <div id=\"df-e146f170-be8d-4b19-b10b-b02a7754f579\" class=\"colab-df-container\">\n",
              "    <div>\n",
              "<style scoped>\n",
              "    .dataframe tbody tr th:only-of-type {\n",
              "        vertical-align: middle;\n",
              "    }\n",
              "\n",
              "    .dataframe tbody tr th {\n",
              "        vertical-align: top;\n",
              "    }\n",
              "\n",
              "    .dataframe thead th {\n",
              "        text-align: right;\n",
              "    }\n",
              "</style>\n",
              "<table border=\"1\" class=\"dataframe\">\n",
              "  <thead>\n",
              "    <tr style=\"text-align: right;\">\n",
              "      <th></th>\n",
              "      <th>text</th>\n",
              "      <th>title</th>\n",
              "    </tr>\n",
              "  </thead>\n",
              "  <tbody>\n",
              "    <tr>\n",
              "      <th>1316</th>\n",
              "      <td>I am currently using POVRay on Mac and was won...</td>\n",
              "      <td>comp.graphics</td>\n",
              "    </tr>\n",
              "    <tr>\n",
              "      <th>3270</th>\n",
              "      <td>\\nSurprise surprise, different people react di...</td>\n",
              "      <td>sci.med</td>\n",
              "    </tr>\n",
              "    <tr>\n",
              "      <th>10792</th>\n",
              "      <td>\\nThe final stages of denial... I can hardly i...</td>\n",
              "      <td>sci.crypt</td>\n",
              "    </tr>\n",
              "    <tr>\n",
              "      <th>9451</th>\n",
              "      <td>\\nPerhaps we have different definitions of abs...</td>\n",
              "      <td>soc.religion.christian</td>\n",
              "    </tr>\n",
              "    <tr>\n",
              "      <th>8334</th>\n",
              "      <td>\\nWell, actually now that you mention it, a fe...</td>\n",
              "      <td>rec.sport.hockey</td>\n",
              "    </tr>\n",
              "  </tbody>\n",
              "</table>\n",
              "</div>\n",
              "    <div class=\"colab-df-buttons\">\n",
              "\n",
              "  <div class=\"colab-df-container\">\n",
              "    <button class=\"colab-df-convert\" onclick=\"convertToInteractive('df-e146f170-be8d-4b19-b10b-b02a7754f579')\"\n",
              "            title=\"Convert this dataframe to an interactive table.\"\n",
              "            style=\"display:none;\">\n",
              "\n",
              "  <svg xmlns=\"http://www.w3.org/2000/svg\" height=\"24px\" viewBox=\"0 -960 960 960\">\n",
              "    <path d=\"M120-120v-720h720v720H120Zm60-500h600v-160H180v160Zm220 220h160v-160H400v160Zm0 220h160v-160H400v160ZM180-400h160v-160H180v160Zm440 0h160v-160H620v160ZM180-180h160v-160H180v160Zm440 0h160v-160H620v160Z\"/>\n",
              "  </svg>\n",
              "    </button>\n",
              "\n",
              "  <style>\n",
              "    .colab-df-container {\n",
              "      display:flex;\n",
              "      gap: 12px;\n",
              "    }\n",
              "\n",
              "    .colab-df-convert {\n",
              "      background-color: #E8F0FE;\n",
              "      border: none;\n",
              "      border-radius: 50%;\n",
              "      cursor: pointer;\n",
              "      display: none;\n",
              "      fill: #1967D2;\n",
              "      height: 32px;\n",
              "      padding: 0 0 0 0;\n",
              "      width: 32px;\n",
              "    }\n",
              "\n",
              "    .colab-df-convert:hover {\n",
              "      background-color: #E2EBFA;\n",
              "      box-shadow: 0px 1px 2px rgba(60, 64, 67, 0.3), 0px 1px 3px 1px rgba(60, 64, 67, 0.15);\n",
              "      fill: #174EA6;\n",
              "    }\n",
              "\n",
              "    .colab-df-buttons div {\n",
              "      margin-bottom: 4px;\n",
              "    }\n",
              "\n",
              "    [theme=dark] .colab-df-convert {\n",
              "      background-color: #3B4455;\n",
              "      fill: #D2E3FC;\n",
              "    }\n",
              "\n",
              "    [theme=dark] .colab-df-convert:hover {\n",
              "      background-color: #434B5C;\n",
              "      box-shadow: 0px 1px 3px 1px rgba(0, 0, 0, 0.15);\n",
              "      filter: drop-shadow(0px 1px 2px rgba(0, 0, 0, 0.3));\n",
              "      fill: #FFFFFF;\n",
              "    }\n",
              "  </style>\n",
              "\n",
              "    <script>\n",
              "      const buttonEl =\n",
              "        document.querySelector('#df-e146f170-be8d-4b19-b10b-b02a7754f579 button.colab-df-convert');\n",
              "      buttonEl.style.display =\n",
              "        google.colab.kernel.accessAllowed ? 'block' : 'none';\n",
              "\n",
              "      async function convertToInteractive(key) {\n",
              "        const element = document.querySelector('#df-e146f170-be8d-4b19-b10b-b02a7754f579');\n",
              "        const dataTable =\n",
              "          await google.colab.kernel.invokeFunction('convertToInteractive',\n",
              "                                                    [key], {});\n",
              "        if (!dataTable) return;\n",
              "\n",
              "        const docLinkHtml = 'Like what you see? Visit the ' +\n",
              "          '<a target=\"_blank\" href=https://colab.research.google.com/notebooks/data_table.ipynb>data table notebook</a>'\n",
              "          + ' to learn more about interactive tables.';\n",
              "        element.innerHTML = '';\n",
              "        dataTable['output_type'] = 'display_data';\n",
              "        await google.colab.output.renderOutput(dataTable, element);\n",
              "        const docLink = document.createElement('div');\n",
              "        docLink.innerHTML = docLinkHtml;\n",
              "        element.appendChild(docLink);\n",
              "      }\n",
              "    </script>\n",
              "  </div>\n",
              "\n",
              "\n",
              "<div id=\"df-2a2d0c9a-d04b-426e-a736-00bef44b0428\">\n",
              "  <button class=\"colab-df-quickchart\" onclick=\"quickchart('df-2a2d0c9a-d04b-426e-a736-00bef44b0428')\"\n",
              "            title=\"Suggest charts\"\n",
              "            style=\"display:none;\">\n",
              "\n",
              "<svg xmlns=\"http://www.w3.org/2000/svg\" height=\"24px\"viewBox=\"0 0 24 24\"\n",
              "     width=\"24px\">\n",
              "    <g>\n",
              "        <path d=\"M19 3H5c-1.1 0-2 .9-2 2v14c0 1.1.9 2 2 2h14c1.1 0 2-.9 2-2V5c0-1.1-.9-2-2-2zM9 17H7v-7h2v7zm4 0h-2V7h2v10zm4 0h-2v-4h2v4z\"/>\n",
              "    </g>\n",
              "</svg>\n",
              "  </button>\n",
              "\n",
              "<style>\n",
              "  .colab-df-quickchart {\n",
              "      --bg-color: #E8F0FE;\n",
              "      --fill-color: #1967D2;\n",
              "      --hover-bg-color: #E2EBFA;\n",
              "      --hover-fill-color: #174EA6;\n",
              "      --disabled-fill-color: #AAA;\n",
              "      --disabled-bg-color: #DDD;\n",
              "  }\n",
              "\n",
              "  [theme=dark] .colab-df-quickchart {\n",
              "      --bg-color: #3B4455;\n",
              "      --fill-color: #D2E3FC;\n",
              "      --hover-bg-color: #434B5C;\n",
              "      --hover-fill-color: #FFFFFF;\n",
              "      --disabled-bg-color: #3B4455;\n",
              "      --disabled-fill-color: #666;\n",
              "  }\n",
              "\n",
              "  .colab-df-quickchart {\n",
              "    background-color: var(--bg-color);\n",
              "    border: none;\n",
              "    border-radius: 50%;\n",
              "    cursor: pointer;\n",
              "    display: none;\n",
              "    fill: var(--fill-color);\n",
              "    height: 32px;\n",
              "    padding: 0;\n",
              "    width: 32px;\n",
              "  }\n",
              "\n",
              "  .colab-df-quickchart:hover {\n",
              "    background-color: var(--hover-bg-color);\n",
              "    box-shadow: 0 1px 2px rgba(60, 64, 67, 0.3), 0 1px 3px 1px rgba(60, 64, 67, 0.15);\n",
              "    fill: var(--button-hover-fill-color);\n",
              "  }\n",
              "\n",
              "  .colab-df-quickchart-complete:disabled,\n",
              "  .colab-df-quickchart-complete:disabled:hover {\n",
              "    background-color: var(--disabled-bg-color);\n",
              "    fill: var(--disabled-fill-color);\n",
              "    box-shadow: none;\n",
              "  }\n",
              "\n",
              "  .colab-df-spinner {\n",
              "    border: 2px solid var(--fill-color);\n",
              "    border-color: transparent;\n",
              "    border-bottom-color: var(--fill-color);\n",
              "    animation:\n",
              "      spin 1s steps(1) infinite;\n",
              "  }\n",
              "\n",
              "  @keyframes spin {\n",
              "    0% {\n",
              "      border-color: transparent;\n",
              "      border-bottom-color: var(--fill-color);\n",
              "      border-left-color: var(--fill-color);\n",
              "    }\n",
              "    20% {\n",
              "      border-color: transparent;\n",
              "      border-left-color: var(--fill-color);\n",
              "      border-top-color: var(--fill-color);\n",
              "    }\n",
              "    30% {\n",
              "      border-color: transparent;\n",
              "      border-left-color: var(--fill-color);\n",
              "      border-top-color: var(--fill-color);\n",
              "      border-right-color: var(--fill-color);\n",
              "    }\n",
              "    40% {\n",
              "      border-color: transparent;\n",
              "      border-right-color: var(--fill-color);\n",
              "      border-top-color: var(--fill-color);\n",
              "    }\n",
              "    60% {\n",
              "      border-color: transparent;\n",
              "      border-right-color: var(--fill-color);\n",
              "    }\n",
              "    80% {\n",
              "      border-color: transparent;\n",
              "      border-right-color: var(--fill-color);\n",
              "      border-bottom-color: var(--fill-color);\n",
              "    }\n",
              "    90% {\n",
              "      border-color: transparent;\n",
              "      border-bottom-color: var(--fill-color);\n",
              "    }\n",
              "  }\n",
              "</style>\n",
              "\n",
              "  <script>\n",
              "    async function quickchart(key) {\n",
              "      const quickchartButtonEl =\n",
              "        document.querySelector('#' + key + ' button');\n",
              "      quickchartButtonEl.disabled = true;  // To prevent multiple clicks.\n",
              "      quickchartButtonEl.classList.add('colab-df-spinner');\n",
              "      try {\n",
              "        const charts = await google.colab.kernel.invokeFunction(\n",
              "            'suggestCharts', [key], {});\n",
              "      } catch (error) {\n",
              "        console.error('Error during call to suggestCharts:', error);\n",
              "      }\n",
              "      quickchartButtonEl.classList.remove('colab-df-spinner');\n",
              "      quickchartButtonEl.classList.add('colab-df-quickchart-complete');\n",
              "    }\n",
              "    (() => {\n",
              "      let quickchartButtonEl =\n",
              "        document.querySelector('#df-2a2d0c9a-d04b-426e-a736-00bef44b0428 button');\n",
              "      quickchartButtonEl.style.display =\n",
              "        google.colab.kernel.accessAllowed ? 'block' : 'none';\n",
              "    })();\n",
              "  </script>\n",
              "</div>\n",
              "\n",
              "    </div>\n",
              "  </div>\n"
            ],
            "application/vnd.google.colaboratory.intrinsic+json": {
              "type": "dataframe",
              "summary": "{\n  \"name\": \"selected[[\\\"text\\\",\\\"title\\\"]]\",\n  \"rows\": 5,\n  \"fields\": [\n    {\n      \"column\": \"text\",\n      \"properties\": {\n        \"dtype\": \"string\",\n        \"num_unique_values\": 5,\n        \"samples\": [\n          \"\\nSurprise surprise, different people react differently to different things. One\\nslightly off the subject case in point. My brother got stung by a bee. I know\\nhe is allergic to bee stings, but that his reaction is severe localized\\nswelling, not anaphylactic shock. I could not convince the doctors of that,\\nhowever, because that's not written in their little rule book.\\n\\nI would not be surprised in the least to find out the SOME people have bad\\nreactions to MSG, including headaches, stomachaches and even vomiting. Not that\\nthe stuff is BAD or POISON and needs to be banned, but people need to be aware\\nthat it can have a bad effect on SOME people.\\n\\nLone Wolf\",\n          \"\\nWell, actually now that you mention it, a few weeks ago the CBC ran a\\ndocumentary on \\\"Ice Hockey in Harlem\\\".  the Canadian Club of New York\\n(something like that) sponsors a league for kids in Harlem and based on\\nthe TV report they all seemed to be having a lot of fun.  All playing\\nwith regular equipment, jerseys, etc etc, on a proper outdoor rink.  It\\nlooked just like kids playing hockey anywhere else.\",\n          \"\\nThe final stages of denial... I can hardly imagine what the result\\nwould have been if the Clinton administration had actually supported\\nthis plan, instead of merely acquiescing with repugnance as they've so\\nobviously doing.  I don't believe the chip originated with the Clinton\\nadministration either, but the Clinton administration has embraced it\\nand brought it to fruition.\\n\\nBoth of the major parties have what they consider excellent reasons\\nfor limiting your freedoms and violating your privacy, and even seem\\nto feel that they're doing you a favor.  If this is really surprising\\nto anyone it means they've been willfully ignoring quite a bit of\\nprevious evidence.  There's only one political party (not calling\\nanarchists a party) that considers your freedom and privacy goals\\nworthy in and of themselves.  If you're voting for the big two, you're\\nsupporting a reduction of those rights (given their goals and their\\nhistories), regardless of whether you personally support that\\nreduction.  To paint Clinton and Gore as unwitting tools is really\\nstretching things.\\n\"\n        ],\n        \"semantic_type\": \"\",\n        \"description\": \"\"\n      }\n    },\n    {\n      \"column\": \"title\",\n      \"properties\": {\n        \"dtype\": \"string\",\n        \"num_unique_values\": 5,\n        \"samples\": [\n          \"sci.med\",\n          \"rec.sport.hockey\",\n          \"sci.crypt\"\n        ],\n        \"semantic_type\": \"\",\n        \"description\": \"\"\n      }\n    }\n  ]\n}"
            }
          },
          "metadata": {},
          "execution_count": 12
        }
      ]
    },
    {
      "cell_type": "code",
      "source": [
        "import re\n",
        "\n",
        "def clean(text):\n",
        "    text=text.lower()\n",
        "    url_removed=re.sub(r'https\\S+','',text,flags=re.MULTILINE)\n",
        "    text=re.sub(\"[^a-zA-Z]\",\" \",url_removed)\n",
        "    text=re.sub(\"\\.+\",\" \",text)\n",
        "    text=[word for word in text if word not in string.punctuation]\n",
        "    text=\"\".join(text).strip()\n",
        "    text=re.sub(\"\\s\\s+\", \" \", text)\n",
        "    return \"\".join(text).strip()\n",
        "\n",
        "\n",
        "selected[\"cleaned_data\"]=selected[\"text\"].apply(lambda x:clean(x) if x!=None else x)"
      ],
      "metadata": {
        "colab": {
          "base_uri": "https://localhost:8080/"
        },
        "id": "03Db9LsL7Qv6",
        "outputId": "dd6a9fed-a96a-4c21-cd94-992ce5a952e8"
      },
      "execution_count": 13,
      "outputs": [
        {
          "output_type": "stream",
          "name": "stderr",
          "text": [
            "<ipython-input-13-354dd9d35bf2>:14: SettingWithCopyWarning: \n",
            "A value is trying to be set on a copy of a slice from a DataFrame.\n",
            "Try using .loc[row_indexer,col_indexer] = value instead\n",
            "\n",
            "See the caveats in the documentation: https://pandas.pydata.org/pandas-docs/stable/user_guide/indexing.html#returning-a-view-versus-a-copy\n",
            "  selected[\"cleaned_data\"]=selected[\"text\"].apply(lambda x:clean(x) if x!=None else x)\n"
          ]
        }
      ]
    },
    {
      "cell_type": "code",
      "source": [
        "train,test= train_test_split(selected,stratify=selected[[\"title\"]],test_size=0.2)\n",
        "train.reset_index(drop=True,inplace=True)\n",
        "test.reset_index(drop=True,inplace=True)"
      ],
      "metadata": {
        "id": "2XV8V4KM7Xgx"
      },
      "execution_count": 14,
      "outputs": []
    },
    {
      "cell_type": "code",
      "source": [
        "train['title'].value_counts()"
      ],
      "metadata": {
        "colab": {
          "base_uri": "https://localhost:8080/"
        },
        "id": "a389yHQC7cW-",
        "outputId": "3d29715d-4411-42e9-ecea-47fc107b6574"
      },
      "execution_count": 15,
      "outputs": [
        {
          "output_type": "execute_result",
          "data": {
            "text/plain": [
              "title\n",
              "soc.religion.christian    476\n",
              "rec.sport.hockey          470\n",
              "sci.crypt                 467\n",
              "sci.med                   466\n",
              "sci.space                 463\n",
              "comp.graphics             459\n",
              "comp.sys.mac.hardware     450\n",
              "Name: count, dtype: int64"
            ]
          },
          "metadata": {},
          "execution_count": 15
        }
      ]
    },
    {
      "cell_type": "code",
      "source": [
        "train.to_csv(\"train_data.csv\",index=False)\n",
        "test.to_csv(\"test_data.csv\",index=False)"
      ],
      "metadata": {
        "id": "c2uMN7Rr7gsw"
      },
      "execution_count": 16,
      "outputs": []
    },
    {
      "cell_type": "code",
      "source": [
        "model=SentenceTransformer('sentence-transformers/all-MiniLM-L6-v2')\n",
        "train_cleaned_texts = train[\"cleaned_data\"].tolist()\n",
        "train_cleaned_texts = list(map(str, train_cleaned_texts))\n",
        "import time\n",
        "import os\n",
        "\n",
        "def get_embeddings(model, sentences: List[str], parallel: bool = True):\n",
        "    start = time.time()\n",
        "    if parallel:\n",
        "        # Start the multi-process pool on all cores\n",
        "        os.environ[\"TOKENIZERS_PARALLELISM\"] = \"false\"\n",
        "        pool = model.start_multi_process_pool(target_devices=[\"cpu\"] * 5)\n",
        "        embeddings = model.encode_multi_process(sentences, pool, batch_size=16)\n",
        "        model.stop_multi_process_pool(pool)\n",
        "    else:\n",
        "        os.environ[\"TOKENIZERS_PARALLELISM\"] = \"true\"\n",
        "        embeddings = model.encode(\n",
        "            sentences,\n",
        "            batch_size=32,\n",
        "            show_progress_bar=True,\n",
        "            convert_to_tensor=True,\n",
        "        )\n",
        "    print(f\"Time taken to encode {len(sentences)} items: {round(time.time() - start, 2)}\")\n",
        "    return embeddings.detach().numpy()\n",
        "\n",
        "train_embeddings = get_embeddings(model=model, sentences=train_cleaned_texts, parallel=False)\n",
        "print(train_embeddings.shape)\n",
        "\n",
        "#save embeddings of idea texts\n",
        "cleaned_train_texts_embeddings_file = f\"train_embeddings_all_minilm_l6_v2.pkl\"\n",
        "pickle.dump(train_embeddings, open(cleaned_train_texts_embeddings_file, \"wb\"))"
      ],
      "metadata": {
        "colab": {
          "base_uri": "https://localhost:8080/",
          "height": 84,
          "referenced_widgets": [
            "cb8abe65d9634f9e9951f5ae2646239f",
            "e411ee29057641ff803c25f03435fafd",
            "58dd64d0721b4bc28064250343653eef",
            "7861e79d174f4ff39be92539a479b1b9",
            "71d961e7565d4df8bb7d532a52947f37",
            "b288f3c6fe314454a49fcab5234dfc93",
            "98e64f2f3bbc4a4a8a544e10646c4f3b",
            "304ec117543749e88fa051798c9eea3d",
            "7ff8f26a207049cc8ccef2f43b560d8e",
            "1119fa2a3404439aad0b9864c4f92713",
            "497e32ad37d74cb6aba592abef4b5d4b"
          ]
        },
        "id": "i7RLes2P7mTa",
        "outputId": "4bd62b8a-db16-4bee-fde1-f76abf0271b8"
      },
      "execution_count": 18,
      "outputs": [
        {
          "output_type": "display_data",
          "data": {
            "text/plain": [
              "Batches:   0%|          | 0/102 [00:00<?, ?it/s]"
            ],
            "application/vnd.jupyter.widget-view+json": {
              "version_major": 2,
              "version_minor": 0,
              "model_id": "cb8abe65d9634f9e9951f5ae2646239f"
            }
          },
          "metadata": {}
        },
        {
          "output_type": "stream",
          "name": "stdout",
          "text": [
            "Time taken to encode 3251 items: 183.91\n",
            "(3251, 384)\n"
          ]
        }
      ]
    },
    {
      "cell_type": "code",
      "source": [
        "#create mappings for index and category this will be later used for faiss\n",
        "train_category_index_mapping=dict(zip(train.index,train.title))\n",
        "with open('train_category_index.pickle', 'wb') as handle:\n",
        "    pickle.dump(train_category_index_mapping, handle, protocol=pickle.HIGHEST_PROTOCOL)\n",
        "\n",
        "#load the mappings file which is used for printing category as output\n",
        "def get_mappings(file_name):\n",
        "    with open(file_name, 'rb') as handle:\n",
        "        category_mapping_dict = pickle.load(handle)\n",
        "    return category_mapping_dict\n",
        "\n",
        "\n",
        "mappings = get_mappings(file_name='train_category_index.pickle')"
      ],
      "metadata": {
        "id": "pyhmT9vU70VS"
      },
      "execution_count": 19,
      "outputs": []
    },
    {
      "cell_type": "code",
      "source": [
        "#read the embeddings created at earlier step\n",
        "def read_embeddings(file_name):\n",
        "    cleaned_texts_embeddings_file = file_name\n",
        "    if os.path.exists(cleaned_texts_embeddings_file):\n",
        "        with open(cleaned_texts_embeddings_file, \"rb\") as f:\n",
        "            embeddings = pickle.load(f)\n",
        "    temp1=np.asarray(embeddings,dtype=\"float32\")\n",
        "    return temp1\n",
        "\n",
        "\n",
        "    return\n",
        "\n",
        "samples = read_embeddings(file_name=f\"train_embeddings_all_minilm_l6_v2.pkl\")"
      ],
      "metadata": {
        "id": "rIzyVt2v-ect"
      },
      "execution_count": 20,
      "outputs": []
    },
    {
      "cell_type": "code",
      "source": [
        "#save the index once its created\n",
        "def save_index(index):\n",
        "    path = os.path.join(\"news_train_index\")\n",
        "    faiss.write_index(index, path)\n",
        "\n",
        "# we have used flat Index and with Inner product\n",
        "def create_index(mappings,samples):\n",
        "    index = faiss.IndexIDMap(faiss.IndexFlatIP(samples.shape[1]))\n",
        "    faiss.normalize_L2(samples)  # normalise the embedding\n",
        "    #index.train(samples)\n",
        "    index.add_with_ids(samples,np.array(list(mappings.keys())))\n",
        "    save_index(index)\n",
        "create_index(mappings=mappings,samples=samples)"
      ],
      "metadata": {
        "id": "c7gIZWR6-k4Q"
      },
      "execution_count": 21,
      "outputs": []
    },
    {
      "cell_type": "code",
      "source": [
        "# print top 2 categories among top5 nearest neighbours returned from index search\n",
        "train=pd.read_csv(\"train_data.csv\") # using the file from previous notebook created step\n",
        "test=pd.read_csv(\"test_data.csv\")"
      ],
      "metadata": {
        "id": "RzMxNDfl-tzD"
      },
      "execution_count": 22,
      "outputs": []
    },
    {
      "cell_type": "code",
      "source": [
        "#read the index\n",
        "index = faiss.read_index(\"news_train_index\")\n",
        "\n",
        "# embeddings for query\n",
        "def predict_embeddings(query):\n",
        "    query_embedding=model.encode(query)\n",
        "    query_embedding=np.asarray([query_embedding],dtype=\"float32\")\n",
        "    return query_embedding\n",
        "\n",
        "\n",
        "#predict for given query\n",
        "def predict(query,mappings):\n",
        "    cleaned_query= clean(query)\n",
        "    query_embedding=predict_embeddings(cleaned_query)\n",
        "    faiss.normalize_L2(query_embedding)\n",
        "    D, I = index.search(query_embedding, 10) # d is the distance and I is the index number\n",
        "    D=[np.unique(D)]\n",
        "    I=[np.unique(I)]\n",
        "    res_df=[]\n",
        "    for values in I:\n",
        "        for val in D:\n",
        "            details= {'cleaned_text':list(train.iloc[values][\"cleaned_data\"]),\n",
        "            'category':list(train.iloc[values][\"title\"]),\n",
        "            'score':list(val)\n",
        "            }\n",
        "            res_df.append(details)\n",
        "    return res_df"
      ],
      "metadata": {
        "id": "RGWd_oDp-yXT"
      },
      "execution_count": 23,
      "outputs": []
    },
    {
      "cell_type": "code",
      "source": [
        "def most_frequent(result):\n",
        "    top2 = Counter(result)\n",
        "    return top2.most_common(1)"
      ],
      "metadata": {
        "id": "pHrt1fXY-8Mp"
      },
      "execution_count": 24,
      "outputs": []
    },
    {
      "cell_type": "code",
      "source": [
        "pd.set_option('display.max_rows', None)"
      ],
      "metadata": {
        "id": "QDXBC_9Z_AQz"
      },
      "execution_count": 25,
      "outputs": []
    },
    {
      "cell_type": "code",
      "source": [
        "res=predict(\"glycemic index\",mappings=mappings)"
      ],
      "metadata": {
        "id": "kVKwWR_Y_ErW"
      },
      "execution_count": 26,
      "outputs": []
    },
    {
      "cell_type": "code",
      "source": [
        "pd.set_option('display.max_rows', None)\n",
        "pd.set_option('display.max_columns', None)\n",
        "pd.set_option('display.max_colwidth', None)\n",
        "pd.DataFrame(res[0])"
      ],
      "metadata": {
        "colab": {
          "base_uri": "https://localhost:8080/",
          "height": 1000
        },
        "id": "T8z8D-Oz_Ilt",
        "outputId": "dfa09c06-64cd-40f4-9792-f4cf60a8eec1"
      },
      "execution_count": 27,
      "outputs": [
        {
          "output_type": "execute_result",
          "data": {
            "text/plain": [
              "                                                                                                                                                                                                                                                                                                                                                                                                                                                                                                                                                                                                                                                                                                                                                                                                                                                                                                                                                                                                                                                                                                                                                                                                                                                                                                                                                                                                                                                                                                                                                                                                                                                                                                                                                                                                                                                                                                                                                                                                                                                                                                                                                                                                                                                                                                                                                                                                                                                cleaned_text  \\\n",
              "0                                                                                                                                                                                                                                                                                                                                                                                                                                                                                                                                                                                                                                                                                                                                                                                                                                                                                                                                                                                                                                                                                                                                                                                                                                                                                                                                                                                                                                                                                                                                                                                                                                                                                                                                                                                                                                                                                                                                                                                                                                                                                                                                                                                                                                                                                are you sure g is the right number as far as i know pilots are blackout in dives that exceed g g g seems to be out of human tolerance would anybody clarify this please lan   \n",
              "1                                                                                                                                                                                                                                                                                                                                                                                                                                                                                                                                                                                                                                                                                                                                                                                                                                                                                                                                                                                                                                                                                                                                                                                                                                                                                                                                                      serum actually but plasma numbers are the same whole blood numbers for humans tend to be somewhat lower roughly to percent lower i find the following range for whole blood in fundamentals of clinical chemistry n w teitz editor w b saunders human glucose whole blood fasting levels mg dl indeed they do measure whole blood levels although they are not as accurate as a serum test done in a laboratory one problem is that cells in the sample continue to metabolize glucose after the sample is drawn reducing the apparent level according to teitz however results compare reasonably well with laboratory results although values below mg dl tend to be lower with strip tests whereas values above mg dl can be very erratic as stated above whole blood levels tend to be roughly to percent lower than serum levels sample freshness will affect whole blood levels however i don t believe there is a well defined conversion factor since cell metabolism will affect samples to varying degrees the serum plasma test is much preferred for any except general ball park testing   \n",
              "2                                                                                                                                                                                                                                                                                                                                                                                                                                                                                                                                                                                                                                                                                                                                                                                                                                                                                                                                                                                                                                                                                                                                                                                                                                                                                                                                                                                                                                                                                                                                                                                                                                                                                                                                                                                                                                                           my blood pressure soars my heart pounds and i can t get to sleep for the life of me feels about like i just drank cups of coffee i avoid it and beet sugar flavor enhancers beet powder and whatever other names it may go under basicaly i read the ingredients and if i don t know what they all are i don t buy the product msg sensitivity is definately real relativity schmelativity richard h clark my opinions are my own and lunatik watch for me on the road ought to be yours but under it s not my fault i voted perot no circumstances are they richard tis com those of my company   \n",
              "3                                                                                                                                                                                                                                                                                                                                                                                                                                                                                                                                                                                                                                                                                                                                                                                                                                                                                                                                                                                                                                                                                                                                                                                                                                                                                                                                                                                                                                                                                                                                                                                                                                                                                                                                                                                                                                                                                                                                                                                                                                                                                                  can anyone tell me if a bloodcount of when diagnosed as hypoglycemic is dangerous i e indicates a possible pancreatic problem one dr says no the other not his specialty says the first is negligent and that another blood test should be done also what is a good diet what has worked for a hypo glycemic tia anthony anello fermilab batavia illinois   \n",
              "4                                                                                                                                                                                                                                                                                                                                                                                                                                                                                                                                                                                                                                                                                                                                                                                                                                                                                                                                                                                                                                                                                                                                                                                                                                                                                                                                                                                                                                                                                                                                                                                                                                                                                                                                                                                                                                                                                                                                                                                                           blood glucose levels of or so are common several hours after a big meal this level will usually not cause symptoms if you mean reactive hypoglycemia there are usually no symptoms hence there is no disease hence the dietary recommendations are the same as for anyone else if a patient complains of dizziness faintness sweating palpitations etc reliably several hours after a big meal the recommendations are obvious eat smaller meals   \n",
              "5                                                                                                                                                                                                                                                                                                                                                                                                                                                                                                                                                                                                                                                                                                                                                                                                                                                                                                                                                                                                                                                                                                                                                                                                                                                                                                                                                                                                                                                                                                                                                                                                                                                                                                                                                                                                                                                                                                                                                                                                                        check out the diabetic mailing list a knowledgable helpful friendly voluminous bunch send email to listserv pccvm bitnet with this line in the body subscribe diabetic your name here also the vote for misc health diabetes a newsgroup for general discussion of diabetes is currently underway and will close on april from the nd cfv posted to news announce newgroups news groups and sci med message q jshinn v rodan uu net   \n",
              "6                                                                                                                                                                                                                                                                                                                                                                                                                                                                                                                                                                                                                                                                                                                                                                                                                                                                                                                                                                                                                                                                                                                                                                                                                                                                                                                                                                                                                                                                                                                                                                                                                                                                                                                                                                                                                                                                                                                                                                                       it s worse than that there is no such thing as a double blind study on the effects of msg by virtue of the fact that msg changes the taste of food in a characteristic way that is detectable by the subject and that cannot be duplicated by a placebo common you can easily disguise to flavor of msg by putting it in a capsule then the study becomes a double blind of msg capsules against control capsules containing exactly the same contents minus the msg   \n",
              "7                                                                                                                                                                                                                                                                                                                                                                                                                                                                                                                                                                                                                                                                                                                                                                                                                                                                                                                                                                                                                                                                                                                                                                                                                                                                                                                                                                                                                                                                                                                                                                                   a can anyone tell me if a bloodcount of when diagnosed as hypoglycemic is a dangerous i e indicates a possible pancreatic problem one dr says no the a other not his specialty says the first is negligent and that another blood a test should be done also what is a good diet what has worked for a hypo a glycemic tia a a a anthony anello a fermilab a batavia illinois once you have your hypoglycemia confirmed through the proper channels you might consider ther following chelated manganese mg day chelated chromium mcg day increase protein through foods or supplements avoid supplements foods high in potassium calcium zinc avoid vit c supplements in excess of mg avoid honey and foods high in simple sugars enjoy breads cereals grains discuss the above with your health practitioner for compatibility with your body chemistry and safety ron   \n",
              "8  jb jb ron roth recommends once you have your hypoglycemia confirmed through the jb proper channels you might consider the following jb diet omitted jb jb ron what do you consider to be proper channels this sounds suspiciously i m glad it caught your eye that s the purpose of this forum to educate those eager to learn about the facts of life that phrase is used to bridle the frenzy of all the would be respondents who otherwise would feel being left out as the proper authorities to be consulted on that topic in short it means absolutely nothing jb like a blood chemistry glucose tolerance and the like suddenly chemistry jb exists you know perfectly well that this person can be saved needless trouble jb and expense with simple muscle testing and hair analysis to diagnose no jb confirm any aberrant physiology but then again maybe that s what you mean muscle testing and hair analysis eh so what other fascinating space age medical techniques do you use do you sit under a pyramid over night as well to shrink your brain back to normal after a mind expanding day at your save the earth clinic jb were you able to understand dick king s post that of diseases is not thy jb evaluate the statistic you cited from the new england journal of medicine coul once i figure out what you are trying to say i ll still have to wrestle with the possibility of you conceivably not being able to understand my answer to your question jb ron have you ever thought about why you never post in misc health alterna jb tive and insist instead upon insinuating your untrained non medical often jb delusional notions of health and disease into this forum i suspect from your jb apparent anger toward mds and heteropathic medicine that there may be an you little psychoanalytical rascal you got me all figured out ja jb underlying father problem of course i can confirm this by surrogate muscle jb testing one of my patients while they ponder my theory to see if one of their jb previously weak indicator muscles strengthens or do you have reservations jb about my unique methods of diagnosis jb jb john badanes dc ca jb romdas uclink berkeley edu oh man when are you going to start teaching all this stuff i ll bet everyone on this net must be absolutely dying to learn more about going beyond spinal adjustments and head straight for the mind for some freudian subluxation ron   \n",
              "9                                                                                                                                                                                                                                                                                                                                                                                                                                                                                                                                                                                                                                                  um i hate to break this to you but article numbers are unique per site they have no meaning on other machines you mean the responses some of which pointed to double blind tests which show no such chinese restaurant effect unique to msg it s elicited by the placebo as well like youself someone who can read a scientific paper and apparently come away from it with bizarrely cracked ideas which have nothing to do with the use of this substance in human nutrition no it s undisputed in the literature that glutamate is an amino acid which is an excitatory neurotransmitter there is also evidence that excessive release of glutamate may be involved in the pathology of certain conditions like stroke drowning and lou gehrig s disease just to name a few this is a completely different issue than the use of this ubiquitous amino acid in foods people are not receiving intra ventricular injections of glutamate i don t know about premier but it s certainly an important one sez you such an effect in humans has not been demonstrated in any controlled studies infant mice and other models are useful as far as they go but they re not relevant to the matter at hand which is not to say that i favor its use in things like baby food a patently ridiculous use of the additive but we have no reason to believe that msg in the diet effects humans adversely wrong do you know how much aspartate or phenylalanine is in a soft drink milligrams worth compare that to a glass of milk do you know how much glutamate is present in most protein containing foods compared to that added by the use of msg notice the subtle covering of her ass here anyone with a sensitivity we re disputing the size of that class impeccable there most certainly is a dispute   \n",
              "\n",
              "    category     score  \n",
              "0  sci.space  0.335596  \n",
              "1    sci.med  0.338126  \n",
              "2    sci.med  0.349964  \n",
              "3    sci.med  0.353059  \n",
              "4    sci.med  0.366020  \n",
              "5    sci.med  0.387805  \n",
              "6    sci.med  0.405019  \n",
              "7    sci.med  0.444681  \n",
              "8    sci.med  0.501760  \n",
              "9    sci.med  0.551272  "
            ],
            "text/html": [
              "\n",
              "  <div id=\"df-cf808605-f06d-4d6a-b2ed-d8cbf7b0160b\" class=\"colab-df-container\">\n",
              "    <div>\n",
              "<style scoped>\n",
              "    .dataframe tbody tr th:only-of-type {\n",
              "        vertical-align: middle;\n",
              "    }\n",
              "\n",
              "    .dataframe tbody tr th {\n",
              "        vertical-align: top;\n",
              "    }\n",
              "\n",
              "    .dataframe thead th {\n",
              "        text-align: right;\n",
              "    }\n",
              "</style>\n",
              "<table border=\"1\" class=\"dataframe\">\n",
              "  <thead>\n",
              "    <tr style=\"text-align: right;\">\n",
              "      <th></th>\n",
              "      <th>cleaned_text</th>\n",
              "      <th>category</th>\n",
              "      <th>score</th>\n",
              "    </tr>\n",
              "  </thead>\n",
              "  <tbody>\n",
              "    <tr>\n",
              "      <th>0</th>\n",
              "      <td>are you sure g is the right number as far as i know pilots are blackout in dives that exceed g g g seems to be out of human tolerance would anybody clarify this please lan</td>\n",
              "      <td>sci.space</td>\n",
              "      <td>0.335596</td>\n",
              "    </tr>\n",
              "    <tr>\n",
              "      <th>1</th>\n",
              "      <td>serum actually but plasma numbers are the same whole blood numbers for humans tend to be somewhat lower roughly to percent lower i find the following range for whole blood in fundamentals of clinical chemistry n w teitz editor w b saunders human glucose whole blood fasting levels mg dl indeed they do measure whole blood levels although they are not as accurate as a serum test done in a laboratory one problem is that cells in the sample continue to metabolize glucose after the sample is drawn reducing the apparent level according to teitz however results compare reasonably well with laboratory results although values below mg dl tend to be lower with strip tests whereas values above mg dl can be very erratic as stated above whole blood levels tend to be roughly to percent lower than serum levels sample freshness will affect whole blood levels however i don t believe there is a well defined conversion factor since cell metabolism will affect samples to varying degrees the serum plasma test is much preferred for any except general ball park testing</td>\n",
              "      <td>sci.med</td>\n",
              "      <td>0.338126</td>\n",
              "    </tr>\n",
              "    <tr>\n",
              "      <th>2</th>\n",
              "      <td>my blood pressure soars my heart pounds and i can t get to sleep for the life of me feels about like i just drank cups of coffee i avoid it and beet sugar flavor enhancers beet powder and whatever other names it may go under basicaly i read the ingredients and if i don t know what they all are i don t buy the product msg sensitivity is definately real relativity schmelativity richard h clark my opinions are my own and lunatik watch for me on the road ought to be yours but under it s not my fault i voted perot no circumstances are they richard tis com those of my company</td>\n",
              "      <td>sci.med</td>\n",
              "      <td>0.349964</td>\n",
              "    </tr>\n",
              "    <tr>\n",
              "      <th>3</th>\n",
              "      <td>can anyone tell me if a bloodcount of when diagnosed as hypoglycemic is dangerous i e indicates a possible pancreatic problem one dr says no the other not his specialty says the first is negligent and that another blood test should be done also what is a good diet what has worked for a hypo glycemic tia anthony anello fermilab batavia illinois</td>\n",
              "      <td>sci.med</td>\n",
              "      <td>0.353059</td>\n",
              "    </tr>\n",
              "    <tr>\n",
              "      <th>4</th>\n",
              "      <td>blood glucose levels of or so are common several hours after a big meal this level will usually not cause symptoms if you mean reactive hypoglycemia there are usually no symptoms hence there is no disease hence the dietary recommendations are the same as for anyone else if a patient complains of dizziness faintness sweating palpitations etc reliably several hours after a big meal the recommendations are obvious eat smaller meals</td>\n",
              "      <td>sci.med</td>\n",
              "      <td>0.366020</td>\n",
              "    </tr>\n",
              "    <tr>\n",
              "      <th>5</th>\n",
              "      <td>check out the diabetic mailing list a knowledgable helpful friendly voluminous bunch send email to listserv pccvm bitnet with this line in the body subscribe diabetic your name here also the vote for misc health diabetes a newsgroup for general discussion of diabetes is currently underway and will close on april from the nd cfv posted to news announce newgroups news groups and sci med message q jshinn v rodan uu net</td>\n",
              "      <td>sci.med</td>\n",
              "      <td>0.387805</td>\n",
              "    </tr>\n",
              "    <tr>\n",
              "      <th>6</th>\n",
              "      <td>it s worse than that there is no such thing as a double blind study on the effects of msg by virtue of the fact that msg changes the taste of food in a characteristic way that is detectable by the subject and that cannot be duplicated by a placebo common you can easily disguise to flavor of msg by putting it in a capsule then the study becomes a double blind of msg capsules against control capsules containing exactly the same contents minus the msg</td>\n",
              "      <td>sci.med</td>\n",
              "      <td>0.405019</td>\n",
              "    </tr>\n",
              "    <tr>\n",
              "      <th>7</th>\n",
              "      <td>a can anyone tell me if a bloodcount of when diagnosed as hypoglycemic is a dangerous i e indicates a possible pancreatic problem one dr says no the a other not his specialty says the first is negligent and that another blood a test should be done also what is a good diet what has worked for a hypo a glycemic tia a a a anthony anello a fermilab a batavia illinois once you have your hypoglycemia confirmed through the proper channels you might consider ther following chelated manganese mg day chelated chromium mcg day increase protein through foods or supplements avoid supplements foods high in potassium calcium zinc avoid vit c supplements in excess of mg avoid honey and foods high in simple sugars enjoy breads cereals grains discuss the above with your health practitioner for compatibility with your body chemistry and safety ron</td>\n",
              "      <td>sci.med</td>\n",
              "      <td>0.444681</td>\n",
              "    </tr>\n",
              "    <tr>\n",
              "      <th>8</th>\n",
              "      <td>jb jb ron roth recommends once you have your hypoglycemia confirmed through the jb proper channels you might consider the following jb diet omitted jb jb ron what do you consider to be proper channels this sounds suspiciously i m glad it caught your eye that s the purpose of this forum to educate those eager to learn about the facts of life that phrase is used to bridle the frenzy of all the would be respondents who otherwise would feel being left out as the proper authorities to be consulted on that topic in short it means absolutely nothing jb like a blood chemistry glucose tolerance and the like suddenly chemistry jb exists you know perfectly well that this person can be saved needless trouble jb and expense with simple muscle testing and hair analysis to diagnose no jb confirm any aberrant physiology but then again maybe that s what you mean muscle testing and hair analysis eh so what other fascinating space age medical techniques do you use do you sit under a pyramid over night as well to shrink your brain back to normal after a mind expanding day at your save the earth clinic jb were you able to understand dick king s post that of diseases is not thy jb evaluate the statistic you cited from the new england journal of medicine coul once i figure out what you are trying to say i ll still have to wrestle with the possibility of you conceivably not being able to understand my answer to your question jb ron have you ever thought about why you never post in misc health alterna jb tive and insist instead upon insinuating your untrained non medical often jb delusional notions of health and disease into this forum i suspect from your jb apparent anger toward mds and heteropathic medicine that there may be an you little psychoanalytical rascal you got me all figured out ja jb underlying father problem of course i can confirm this by surrogate muscle jb testing one of my patients while they ponder my theory to see if one of their jb previously weak indicator muscles strengthens or do you have reservations jb about my unique methods of diagnosis jb jb john badanes dc ca jb romdas uclink berkeley edu oh man when are you going to start teaching all this stuff i ll bet everyone on this net must be absolutely dying to learn more about going beyond spinal adjustments and head straight for the mind for some freudian subluxation ron</td>\n",
              "      <td>sci.med</td>\n",
              "      <td>0.501760</td>\n",
              "    </tr>\n",
              "    <tr>\n",
              "      <th>9</th>\n",
              "      <td>um i hate to break this to you but article numbers are unique per site they have no meaning on other machines you mean the responses some of which pointed to double blind tests which show no such chinese restaurant effect unique to msg it s elicited by the placebo as well like youself someone who can read a scientific paper and apparently come away from it with bizarrely cracked ideas which have nothing to do with the use of this substance in human nutrition no it s undisputed in the literature that glutamate is an amino acid which is an excitatory neurotransmitter there is also evidence that excessive release of glutamate may be involved in the pathology of certain conditions like stroke drowning and lou gehrig s disease just to name a few this is a completely different issue than the use of this ubiquitous amino acid in foods people are not receiving intra ventricular injections of glutamate i don t know about premier but it s certainly an important one sez you such an effect in humans has not been demonstrated in any controlled studies infant mice and other models are useful as far as they go but they re not relevant to the matter at hand which is not to say that i favor its use in things like baby food a patently ridiculous use of the additive but we have no reason to believe that msg in the diet effects humans adversely wrong do you know how much aspartate or phenylalanine is in a soft drink milligrams worth compare that to a glass of milk do you know how much glutamate is present in most protein containing foods compared to that added by the use of msg notice the subtle covering of her ass here anyone with a sensitivity we re disputing the size of that class impeccable there most certainly is a dispute</td>\n",
              "      <td>sci.med</td>\n",
              "      <td>0.551272</td>\n",
              "    </tr>\n",
              "  </tbody>\n",
              "</table>\n",
              "</div>\n",
              "    <div class=\"colab-df-buttons\">\n",
              "\n",
              "  <div class=\"colab-df-container\">\n",
              "    <button class=\"colab-df-convert\" onclick=\"convertToInteractive('df-cf808605-f06d-4d6a-b2ed-d8cbf7b0160b')\"\n",
              "            title=\"Convert this dataframe to an interactive table.\"\n",
              "            style=\"display:none;\">\n",
              "\n",
              "  <svg xmlns=\"http://www.w3.org/2000/svg\" height=\"24px\" viewBox=\"0 -960 960 960\">\n",
              "    <path d=\"M120-120v-720h720v720H120Zm60-500h600v-160H180v160Zm220 220h160v-160H400v160Zm0 220h160v-160H400v160ZM180-400h160v-160H180v160Zm440 0h160v-160H620v160ZM180-180h160v-160H180v160Zm440 0h160v-160H620v160Z\"/>\n",
              "  </svg>\n",
              "    </button>\n",
              "\n",
              "  <style>\n",
              "    .colab-df-container {\n",
              "      display:flex;\n",
              "      gap: 12px;\n",
              "    }\n",
              "\n",
              "    .colab-df-convert {\n",
              "      background-color: #E8F0FE;\n",
              "      border: none;\n",
              "      border-radius: 50%;\n",
              "      cursor: pointer;\n",
              "      display: none;\n",
              "      fill: #1967D2;\n",
              "      height: 32px;\n",
              "      padding: 0 0 0 0;\n",
              "      width: 32px;\n",
              "    }\n",
              "\n",
              "    .colab-df-convert:hover {\n",
              "      background-color: #E2EBFA;\n",
              "      box-shadow: 0px 1px 2px rgba(60, 64, 67, 0.3), 0px 1px 3px 1px rgba(60, 64, 67, 0.15);\n",
              "      fill: #174EA6;\n",
              "    }\n",
              "\n",
              "    .colab-df-buttons div {\n",
              "      margin-bottom: 4px;\n",
              "    }\n",
              "\n",
              "    [theme=dark] .colab-df-convert {\n",
              "      background-color: #3B4455;\n",
              "      fill: #D2E3FC;\n",
              "    }\n",
              "\n",
              "    [theme=dark] .colab-df-convert:hover {\n",
              "      background-color: #434B5C;\n",
              "      box-shadow: 0px 1px 3px 1px rgba(0, 0, 0, 0.15);\n",
              "      filter: drop-shadow(0px 1px 2px rgba(0, 0, 0, 0.3));\n",
              "      fill: #FFFFFF;\n",
              "    }\n",
              "  </style>\n",
              "\n",
              "    <script>\n",
              "      const buttonEl =\n",
              "        document.querySelector('#df-cf808605-f06d-4d6a-b2ed-d8cbf7b0160b button.colab-df-convert');\n",
              "      buttonEl.style.display =\n",
              "        google.colab.kernel.accessAllowed ? 'block' : 'none';\n",
              "\n",
              "      async function convertToInteractive(key) {\n",
              "        const element = document.querySelector('#df-cf808605-f06d-4d6a-b2ed-d8cbf7b0160b');\n",
              "        const dataTable =\n",
              "          await google.colab.kernel.invokeFunction('convertToInteractive',\n",
              "                                                    [key], {});\n",
              "        if (!dataTable) return;\n",
              "\n",
              "        const docLinkHtml = 'Like what you see? Visit the ' +\n",
              "          '<a target=\"_blank\" href=https://colab.research.google.com/notebooks/data_table.ipynb>data table notebook</a>'\n",
              "          + ' to learn more about interactive tables.';\n",
              "        element.innerHTML = '';\n",
              "        dataTable['output_type'] = 'display_data';\n",
              "        await google.colab.output.renderOutput(dataTable, element);\n",
              "        const docLink = document.createElement('div');\n",
              "        docLink.innerHTML = docLinkHtml;\n",
              "        element.appendChild(docLink);\n",
              "      }\n",
              "    </script>\n",
              "  </div>\n",
              "\n",
              "\n",
              "<div id=\"df-0c08330b-5d5c-49be-af81-5c53fa700e3a\">\n",
              "  <button class=\"colab-df-quickchart\" onclick=\"quickchart('df-0c08330b-5d5c-49be-af81-5c53fa700e3a')\"\n",
              "            title=\"Suggest charts\"\n",
              "            style=\"display:none;\">\n",
              "\n",
              "<svg xmlns=\"http://www.w3.org/2000/svg\" height=\"24px\"viewBox=\"0 0 24 24\"\n",
              "     width=\"24px\">\n",
              "    <g>\n",
              "        <path d=\"M19 3H5c-1.1 0-2 .9-2 2v14c0 1.1.9 2 2 2h14c1.1 0 2-.9 2-2V5c0-1.1-.9-2-2-2zM9 17H7v-7h2v7zm4 0h-2V7h2v10zm4 0h-2v-4h2v4z\"/>\n",
              "    </g>\n",
              "</svg>\n",
              "  </button>\n",
              "\n",
              "<style>\n",
              "  .colab-df-quickchart {\n",
              "      --bg-color: #E8F0FE;\n",
              "      --fill-color: #1967D2;\n",
              "      --hover-bg-color: #E2EBFA;\n",
              "      --hover-fill-color: #174EA6;\n",
              "      --disabled-fill-color: #AAA;\n",
              "      --disabled-bg-color: #DDD;\n",
              "  }\n",
              "\n",
              "  [theme=dark] .colab-df-quickchart {\n",
              "      --bg-color: #3B4455;\n",
              "      --fill-color: #D2E3FC;\n",
              "      --hover-bg-color: #434B5C;\n",
              "      --hover-fill-color: #FFFFFF;\n",
              "      --disabled-bg-color: #3B4455;\n",
              "      --disabled-fill-color: #666;\n",
              "  }\n",
              "\n",
              "  .colab-df-quickchart {\n",
              "    background-color: var(--bg-color);\n",
              "    border: none;\n",
              "    border-radius: 50%;\n",
              "    cursor: pointer;\n",
              "    display: none;\n",
              "    fill: var(--fill-color);\n",
              "    height: 32px;\n",
              "    padding: 0;\n",
              "    width: 32px;\n",
              "  }\n",
              "\n",
              "  .colab-df-quickchart:hover {\n",
              "    background-color: var(--hover-bg-color);\n",
              "    box-shadow: 0 1px 2px rgba(60, 64, 67, 0.3), 0 1px 3px 1px rgba(60, 64, 67, 0.15);\n",
              "    fill: var(--button-hover-fill-color);\n",
              "  }\n",
              "\n",
              "  .colab-df-quickchart-complete:disabled,\n",
              "  .colab-df-quickchart-complete:disabled:hover {\n",
              "    background-color: var(--disabled-bg-color);\n",
              "    fill: var(--disabled-fill-color);\n",
              "    box-shadow: none;\n",
              "  }\n",
              "\n",
              "  .colab-df-spinner {\n",
              "    border: 2px solid var(--fill-color);\n",
              "    border-color: transparent;\n",
              "    border-bottom-color: var(--fill-color);\n",
              "    animation:\n",
              "      spin 1s steps(1) infinite;\n",
              "  }\n",
              "\n",
              "  @keyframes spin {\n",
              "    0% {\n",
              "      border-color: transparent;\n",
              "      border-bottom-color: var(--fill-color);\n",
              "      border-left-color: var(--fill-color);\n",
              "    }\n",
              "    20% {\n",
              "      border-color: transparent;\n",
              "      border-left-color: var(--fill-color);\n",
              "      border-top-color: var(--fill-color);\n",
              "    }\n",
              "    30% {\n",
              "      border-color: transparent;\n",
              "      border-left-color: var(--fill-color);\n",
              "      border-top-color: var(--fill-color);\n",
              "      border-right-color: var(--fill-color);\n",
              "    }\n",
              "    40% {\n",
              "      border-color: transparent;\n",
              "      border-right-color: var(--fill-color);\n",
              "      border-top-color: var(--fill-color);\n",
              "    }\n",
              "    60% {\n",
              "      border-color: transparent;\n",
              "      border-right-color: var(--fill-color);\n",
              "    }\n",
              "    80% {\n",
              "      border-color: transparent;\n",
              "      border-right-color: var(--fill-color);\n",
              "      border-bottom-color: var(--fill-color);\n",
              "    }\n",
              "    90% {\n",
              "      border-color: transparent;\n",
              "      border-bottom-color: var(--fill-color);\n",
              "    }\n",
              "  }\n",
              "</style>\n",
              "\n",
              "  <script>\n",
              "    async function quickchart(key) {\n",
              "      const quickchartButtonEl =\n",
              "        document.querySelector('#' + key + ' button');\n",
              "      quickchartButtonEl.disabled = true;  // To prevent multiple clicks.\n",
              "      quickchartButtonEl.classList.add('colab-df-spinner');\n",
              "      try {\n",
              "        const charts = await google.colab.kernel.invokeFunction(\n",
              "            'suggestCharts', [key], {});\n",
              "      } catch (error) {\n",
              "        console.error('Error during call to suggestCharts:', error);\n",
              "      }\n",
              "      quickchartButtonEl.classList.remove('colab-df-spinner');\n",
              "      quickchartButtonEl.classList.add('colab-df-quickchart-complete');\n",
              "    }\n",
              "    (() => {\n",
              "      let quickchartButtonEl =\n",
              "        document.querySelector('#df-0c08330b-5d5c-49be-af81-5c53fa700e3a button');\n",
              "      quickchartButtonEl.style.display =\n",
              "        google.colab.kernel.accessAllowed ? 'block' : 'none';\n",
              "    })();\n",
              "  </script>\n",
              "</div>\n",
              "\n",
              "    </div>\n",
              "  </div>\n"
            ],
            "application/vnd.google.colaboratory.intrinsic+json": {
              "type": "dataframe",
              "summary": "{\n  \"name\": \"pd\",\n  \"rows\": 10,\n  \"fields\": [\n    {\n      \"column\": \"cleaned_text\",\n      \"properties\": {\n        \"dtype\": \"string\",\n        \"num_unique_values\": 10,\n        \"samples\": [\n          \"jb jb ron roth recommends once you have your hypoglycemia confirmed through the jb proper channels you might consider the following jb diet omitted jb jb ron what do you consider to be proper channels this sounds suspiciously i m glad it caught your eye that s the purpose of this forum to educate those eager to learn about the facts of life that phrase is used to bridle the frenzy of all the would be respondents who otherwise would feel being left out as the proper authorities to be consulted on that topic in short it means absolutely nothing jb like a blood chemistry glucose tolerance and the like suddenly chemistry jb exists you know perfectly well that this person can be saved needless trouble jb and expense with simple muscle testing and hair analysis to diagnose no jb confirm any aberrant physiology but then again maybe that s what you mean muscle testing and hair analysis eh so what other fascinating space age medical techniques do you use do you sit under a pyramid over night as well to shrink your brain back to normal after a mind expanding day at your save the earth clinic jb were you able to understand dick king s post that of diseases is not thy jb evaluate the statistic you cited from the new england journal of medicine coul once i figure out what you are trying to say i ll still have to wrestle with the possibility of you conceivably not being able to understand my answer to your question jb ron have you ever thought about why you never post in misc health alterna jb tive and insist instead upon insinuating your untrained non medical often jb delusional notions of health and disease into this forum i suspect from your jb apparent anger toward mds and heteropathic medicine that there may be an you little psychoanalytical rascal you got me all figured out ja jb underlying father problem of course i can confirm this by surrogate muscle jb testing one of my patients while they ponder my theory to see if one of their jb previously weak indicator muscles strengthens or do you have reservations jb about my unique methods of diagnosis jb jb john badanes dc ca jb romdas uclink berkeley edu oh man when are you going to start teaching all this stuff i ll bet everyone on this net must be absolutely dying to learn more about going beyond spinal adjustments and head straight for the mind for some freudian subluxation ron\",\n          \"serum actually but plasma numbers are the same whole blood numbers for humans tend to be somewhat lower roughly to percent lower i find the following range for whole blood in fundamentals of clinical chemistry n w teitz editor w b saunders human glucose whole blood fasting levels mg dl indeed they do measure whole blood levels although they are not as accurate as a serum test done in a laboratory one problem is that cells in the sample continue to metabolize glucose after the sample is drawn reducing the apparent level according to teitz however results compare reasonably well with laboratory results although values below mg dl tend to be lower with strip tests whereas values above mg dl can be very erratic as stated above whole blood levels tend to be roughly to percent lower than serum levels sample freshness will affect whole blood levels however i don t believe there is a well defined conversion factor since cell metabolism will affect samples to varying degrees the serum plasma test is much preferred for any except general ball park testing\",\n          \"check out the diabetic mailing list a knowledgable helpful friendly voluminous bunch send email to listserv pccvm bitnet with this line in the body subscribe diabetic your name here also the vote for misc health diabetes a newsgroup for general discussion of diabetes is currently underway and will close on april from the nd cfv posted to news announce newgroups news groups and sci med message q jshinn v rodan uu net\"\n        ],\n        \"semantic_type\": \"\",\n        \"description\": \"\"\n      }\n    },\n    {\n      \"column\": \"category\",\n      \"properties\": {\n        \"dtype\": \"category\",\n        \"num_unique_values\": 2,\n        \"samples\": [\n          \"sci.med\",\n          \"sci.space\"\n        ],\n        \"semantic_type\": \"\",\n        \"description\": \"\"\n      }\n    },\n    {\n      \"column\": \"score\",\n      \"properties\": {\n        \"dtype\": \"float32\",\n        \"num_unique_values\": 10,\n        \"samples\": [\n          0.5017595887184143,\n          0.33812639117240906\n        ],\n        \"semantic_type\": \"\",\n        \"description\": \"\"\n      }\n    }\n  ]\n}"
            }
          },
          "metadata": {},
          "execution_count": 27
        }
      ]
    },
    {
      "cell_type": "code",
      "source": [
        "def test_predict(query,mappings=mappings):\n",
        "    cleaned_query= clean(query)\n",
        "    query_embedding=predict_embeddings(cleaned_query)\n",
        "    faiss.normalize_L2(query_embedding)\n",
        "    D, I = index.search(query_embedding, 5) # d is the distance and I is the index number\n",
        "    return most_frequent([mappings[id_] for id_ in I[0]])[0][0]\n",
        "\n",
        "\n",
        "test[\"predict\"]=test[\"cleaned_data\"].astype(str).apply(lambda x:test_predict(x))"
      ],
      "metadata": {
        "id": "-_iwNjRW_SF0"
      },
      "execution_count": 28,
      "outputs": []
    },
    {
      "cell_type": "code",
      "source": [
        "print(classification_report(test['title'],test[\"predict\"]))\n",
        "cm = confusion_matrix(test['title'],test[\"predict\"])"
      ],
      "metadata": {
        "colab": {
          "base_uri": "https://localhost:8080/"
        },
        "id": "AF7GSBLt_Y38",
        "outputId": "17231647-da77-4dec-f069-941413bbae5f"
      },
      "execution_count": 29,
      "outputs": [
        {
          "output_type": "stream",
          "name": "stdout",
          "text": [
            "                        precision    recall  f1-score   support\n",
            "\n",
            "         comp.graphics       0.84      0.90      0.87       114\n",
            " comp.sys.mac.hardware       0.91      0.88      0.90       112\n",
            "      rec.sport.hockey       0.95      0.91      0.93       118\n",
            "             sci.crypt       0.93      0.95      0.94       117\n",
            "               sci.med       0.91      0.90      0.91       117\n",
            "             sci.space       0.87      0.90      0.89       116\n",
            "soc.religion.christian       0.95      0.92      0.93       119\n",
            "\n",
            "              accuracy                           0.91       813\n",
            "             macro avg       0.91      0.91      0.91       813\n",
            "          weighted avg       0.91      0.91      0.91       813\n",
            "\n"
          ]
        }
      ]
    },
    {
      "cell_type": "code",
      "source": [
        "labels = ['sci.space','comp.sys.mac.hardware','soc.religion.christian','sci.med','rec.sport.hockey','sci.crypt','alt.atheism','comp.graphics']\n",
        "sns.heatmap(cm, fmt='d', annot=True,\n",
        "     # set all to white\n",
        "            linewidths=0.5, linecolor='w',  # draw black grid lines\n",
        "            xticklabels=labels,yticklabels=labels)                     # disable colorbar\n"
      ],
      "metadata": {
        "colab": {
          "base_uri": "https://localhost:8080/",
          "height": 602
        },
        "id": "cY1Oy8KJ_mT9",
        "outputId": "efd0ee8f-8818-4b2e-f7a6-44abe3ae9e18"
      },
      "execution_count": 30,
      "outputs": [
        {
          "output_type": "execute_result",
          "data": {
            "text/plain": [
              "<Axes: >"
            ]
          },
          "metadata": {},
          "execution_count": 30
        },
        {
          "output_type": "display_data",
          "data": {
            "text/plain": [
              "<Figure size 640x480 with 2 Axes>"
            ],
            "image/png": "[encoded data removed]"
          },
          "metadata": {}
        }
      ]
    },
    {
      "cell_type": "code",
      "source": [
        "acc_score = accuracy_score(test['title'],test[\"predict\"])\n",
        "print(\"Test Accuracy Score\",acc_score)"
      ],
      "metadata": {
        "colab": {
          "base_uri": "https://localhost:8080/"
        },
        "id": "ALdQcD5w_sR5",
        "outputId": "22043300-d662-42c0-ac94-76481c19535e"
      },
      "execution_count": 31,
      "outputs": [
        {
          "output_type": "stream",
          "name": "stdout",
          "text": [
            "Test Accuracy Score 0.9077490774907749\n"
          ]
        }
      ]
    },
    {
      "cell_type": "code",
      "source": [
        "from sklearn.metrics import f1_score\n",
        "print(\"f1 score\",f1_score(test['title'],test[\"predict\"],average=\"macro\"))"
      ],
      "metadata": {
        "colab": {
          "base_uri": "https://localhost:8080/"
        },
        "id": "FUSoxKxC_xgp",
        "outputId": "2ae8935b-ab7f-49f7-b579-239466cd723c"
      },
      "execution_count": 32,
      "outputs": [
        {
          "output_type": "stream",
          "name": "stdout",
          "text": [
            "f1 score 0.9076896390434769\n"
          ]
        }
      ]
    },
    {
      "cell_type": "code",
      "source": [
        "# second index\n",
        "\n",
        "\n",
        "#save the index once its created\n",
        "def save_index(index):\n",
        "    path = os.path.join(\"news_ivf_flat\")\n",
        "    faiss.write_index(index, path)\n",
        "\n",
        "\n",
        "nlist = 5  # number of clusters\n",
        "dimension=384 # embeddings dimension\n",
        "\n",
        "# we have used flat Index and with Inner product\n",
        "def create_index_ivf(mappings,samples,nlist=nlist,dimension=dimension):\n",
        "    quantiser = faiss.IndexFlatL2(dimension)\n",
        "    index = faiss.IndexIVFFlat(quantiser, dimension, nlist,   faiss.METRIC_L2)\n",
        "    index.train(samples)\n",
        "    index.add(samples)   # add the vectors and update the index\n",
        "    print(index.is_trained)  # True\n",
        "    print(index.ntotal)\n",
        "    index.add_with_ids(samples,np.array(list(mappings.keys())))\n",
        "    save_index(index)\n",
        "    return\n",
        "\n",
        "\n",
        "create_index_ivf(mappings=mappings,samples=samples)"
      ],
      "metadata": {
        "colab": {
          "base_uri": "https://localhost:8080/"
        },
        "id": "gBRYbOGj_1sO",
        "outputId": "a5677767-1eb8-41aa-cfbb-3792567dc1dc"
      },
      "execution_count": 33,
      "outputs": [
        {
          "output_type": "stream",
          "name": "stdout",
          "text": [
            "True\n",
            "3251\n"
          ]
        }
      ]
    },
    {
      "cell_type": "code",
      "source": [
        "#read the index\n",
        "index = faiss.read_index(\"news_ivf_flat\")\n",
        "\n",
        "# embeddings for query\n",
        "def predict_embeddings(query):\n",
        "    query_embedding=model.encode(query)\n",
        "    query_embedding=np.asarray([query_embedding],dtype=\"float32\")\n",
        "    return query_embedding\n",
        "\n",
        "\n",
        "#predict for given query\n",
        "def predict(query,mappings):\n",
        "    cleaned_query= clean(query)\n",
        "    query_embedding=predict_embeddings(cleaned_query)\n",
        "    faiss.normalize_L2(query_embedding)\n",
        "    D, I = index.search(query_embedding, 10) # d is the distance and I is the index number\n",
        "    D=[np.unique(D)]\n",
        "    I=[np.unique(I)]\n",
        "\n",
        "    for values in I:\n",
        "        for distance in D:\n",
        "            details= {'cleaned_text':train.iloc[values][\"cleaned_data\"],\n",
        "            'category':train.iloc[values][\"title\"],\n",
        "            'score':distance\n",
        "            }\n",
        "            print(\"===============================================\")\n",
        "            print(pd.DataFrame(details))\n",
        "            print(\"===============================================\")\n",
        "    return most_frequent([mappings[id_] for id_ in I[0]])"
      ],
      "metadata": {
        "id": "LFmRMU9O_881"
      },
      "execution_count": 34,
      "outputs": []
    },
    {
      "cell_type": "code",
      "source": [
        "res=predict(query=\"'I was wondering if anyone out there could enlighten me on this car I saw\\nthe other day. It was a 2-door sports car, looked to be from the late 60s/\\nearly 70s. It was called a Bricklin. The doors were really small. In addition,\\nthe front bumper was separate from the rest of the body. This is \\nall I know. If anyone can tellme a model name, engine specs, years\\nof production, where this car is made, history, or whatever info you\\nhave on this funky looking car, please e-mail.\",mappings=mappings)"
      ],
      "metadata": {
        "colab": {
          "base_uri": "https://localhost:8080/"
        },
        "id": "rjfiaVeCAEuo",
        "outputId": "3ff9a12b-010a-4606-afb3-08e0cf5db67c"
      },
      "execution_count": 35,
      "outputs": [
        {
          "output_type": "stream",
          "name": "stdout",
          "text": [
            "===============================================\n",
            "                                                                                                                                                                                                                                                                                                                                                                                                                                                                                                                                                                                                                                                                                                                                                                                                                                                                                                                                                                                                                                                                                                                                                                                                                                                                                                                                                                                                                                                                                                                                                                                                                                                                                                                                                                                                                                                                  cleaned_text  \\\n",
            "1031                                                                                                                                                                                                                                                                                                                                                                                                                                                                                                                                                                                                                                                                                                                                                                                                                                                                                                                                                                                                                                                                                                                                                                                                                                                          i always thought gd s fighter plants were in long island no northrup has a plant on long island i don t think northrup ever had a plant on long island the two main airframe manufacturers there were fairchild republic which closed its doors after the t cancellation and grumman which is still hanging on last i time i called i think sperry also started there if you re ever in the area check out the cradle of aviation museum at mitchell field now mostly parking lots behind the nassau coliseum and the community college good display of vehicles from long island including a lem flight article   \n",
            "2414  archive name space launchers last modified date orbital and planetary launch services the following data comes from international reference guide to space launch systems by steven j isakowitz edition notes unless otherwise specified leo and polar paylaods are for a nm orbit reliablity data includes launches through dec reliabity for a familiy of vehicles includes launches by types no longer built when applicable prices are in millions of us and are subject to change only operational vehicle families are included individual vehicles which have not yet flown are marked by an asterisk if a vehicle had first launch after publication of my data it may still be marked with an asterisk vehicle payload kg lbs reliability price launch site nation leo polar gto lat long ariane kourou esa n w ar m ar p m ar p m ar l m ar lp m ar l m ar m nm atlas cape canaveral usa n w atlas e m vandeberg afb n w atlas i m atlas ii m atlas iia m atlas iias m delta cape canaveral usa vandenberg afb delta m delta m energia baikonur russia n e energia m h series tangeshima japan n e h m kosmos plestek russia n e kosmos kapustin yar km orbit inclination n e long march jiquan slc china n e cz d m xichang slc n e taiyuan slc cz c m n e cz e m cz e ho cz m cz a m cz m pegasus taurus peg b l usa taur canaveral pegasus m or vandenberg taurus m proton baikonour russia proton m scout vandenberg afb usa wallops ff scout g m n w san marco s e enhanced scout m shavit palmachim afb israel n shavit m space shuttle kennedy space usa center shuttle srb m n w fy shuttle asrm slv shar center india km km polar n e aslv m pslv m gslv m titan cape canaveral usa vandenberg titan ii m titan iii m titan iv srm m m titan iv srmu m vostok baikonur russia km plesetsk vostok m soyuz m molniya kg lbs in m highly eliptical orbit   \n",
            "2668                                                                                                                                                                                                                                                                                                                                                                                                                                                                                                                                                                                                                                                                                                                                                                                                                                                                                                                                                                                                                                                                                                                                                                                                                                                                                                                                                                                                                                                                                                                                                                                                                                                                                                   the national air space museum has both the prototype and the film when i was there some years ago they had the prototype on display and the film continuously repeating   \n",
            "2922                                                                                                                                                                                                                                                                                                                                                                                                                                                                                                                                                                                                                                                                                                                                                                                                                                                                                                                                                                                                                                                                                                                                                                                                                                                                                                                                                                                                                                                                                                                                                                                                          i was wondering if anyone knows where i can get more information about the graphics in the wingcommander series and the realspace system they use i think it s really awesome and wouldn t mind being able to use similar features in programs thanks in advance   \n",
            "3237                                                                                                                                                                                                                                                                                                                                                                                                                                                                                                                                                                                                                                                                                                                                                                                                                                                                                                                                                                                                                                                                                                                                                                                                                                                                           this was known as journey to the far side of the sun in the united states and as doppelganger in the u k it was produced by the great team of gerry and sylvia anderson whose science was usually a bit better than this it may have been their first production using live actors they were better known for their technophilic puppet shows such as supercar stingray and thunderbirds later they went on to do more live action sf series ufo and space the astronomy was lousy but the lifting body spacecraft vtol airliners and mighty portugese launch complex were wonderful to look at   \n",
            "\n",
            "           category     score  \n",
            "1031      sci.space  1.305116  \n",
            "2414      sci.space  1.433473  \n",
            "2668      sci.space  1.488755  \n",
            "2922  comp.graphics  1.490236  \n",
            "3237      sci.space  1.497017  \n",
            "===============================================\n"
          ]
        }
      ]
    },
    {
      "cell_type": "code",
      "source": [
        "def test_predict_ivf(query,mappings=mappings):\n",
        "    cleaned_query= clean(query)\n",
        "    query_embedding=predict_embeddings(cleaned_query)\n",
        "    faiss.normalize_L2(query_embedding)\n",
        "    D, I = index.search(query_embedding, 5) # d is the distance and I is the index number\n",
        "    return most_frequent([mappings[id_] for id_ in I[0]])[0][0]\n",
        "\n",
        "\n",
        "test[\"predict_ivf\"]=test[\"cleaned_data\"].astype(str).apply(lambda x:test_predict_ivf(x))"
      ],
      "metadata": {
        "id": "vgn-DZf8ALyE"
      },
      "execution_count": 36,
      "outputs": []
    },
    {
      "cell_type": "code",
      "source": [
        "print(classification_report(test['title'],test[\"predict_ivf\"]))\n",
        "cm2 = confusion_matrix(test['title'],test[\"predict_ivf\"])\n",
        "labels = ['comp.graphics','comp.sys.mac.hardware','sci.med','sci.space','soc.religion.christian']\n",
        "sns.heatmap(cm2, fmt='d', annot=True,\n",
        "     # set all to white\n",
        "            linewidths=0.5, linecolor='w',  # draw black grid lines\n",
        "            xticklabels=labels,yticklabels=labels)"
      ],
      "metadata": {
        "colab": {
          "base_uri": "https://localhost:8080/",
          "height": 845
        },
        "id": "96sN2xb7ASdg",
        "outputId": "0aac439d-d65a-45a9-b991-2ade74e50adc"
      },
      "execution_count": 37,
      "outputs": [
        {
          "output_type": "stream",
          "name": "stdout",
          "text": [
            "                        precision    recall  f1-score   support\n",
            "\n",
            "         comp.graphics       0.84      0.85      0.84       114\n",
            " comp.sys.mac.hardware       0.83      0.86      0.85       112\n",
            "      rec.sport.hockey       0.95      0.86      0.91       118\n",
            "             sci.crypt       0.88      0.90      0.89       117\n",
            "               sci.med       0.93      0.92      0.93       117\n",
            "             sci.space       0.86      0.88      0.87       116\n",
            "soc.religion.christian       0.91      0.92      0.91       119\n",
            "\n",
            "              accuracy                           0.88       813\n",
            "             macro avg       0.89      0.88      0.88       813\n",
            "          weighted avg       0.89      0.88      0.88       813\n",
            "\n"
          ]
        },
        {
          "output_type": "execute_result",
          "data": {
            "text/plain": [
              "<Axes: >"
            ]
          },
          "metadata": {},
          "execution_count": 37
        },
        {
          "output_type": "display_data",
          "data": {
            "text/plain": [
              "<Figure size 640x480 with 2 Axes>"
            ],
            "image/png": "[encoded data removed]"
          },
          "metadata": {}
        }
      ]
    },
    {
      "cell_type": "code",
      "source": [
        "print(classification_report(test['title'],test[\"predict_ivf\"]))\n",
        "cm2 = confusion_matrix(test['title'],test[\"predict_ivf\"])"
      ],
      "metadata": {
        "colab": {
          "base_uri": "https://localhost:8080/"
        },
        "id": "xezvsAndA2LJ",
        "outputId": "5e10302a-1da5-414a-c518-4beb0cd8c2d6"
      },
      "execution_count": 38,
      "outputs": [
        {
          "output_type": "stream",
          "name": "stdout",
          "text": [
            "                        precision    recall  f1-score   support\n",
            "\n",
            "         comp.graphics       0.84      0.85      0.84       114\n",
            " comp.sys.mac.hardware       0.83      0.86      0.85       112\n",
            "      rec.sport.hockey       0.95      0.86      0.91       118\n",
            "             sci.crypt       0.88      0.90      0.89       117\n",
            "               sci.med       0.93      0.92      0.93       117\n",
            "             sci.space       0.86      0.88      0.87       116\n",
            "soc.religion.christian       0.91      0.92      0.91       119\n",
            "\n",
            "              accuracy                           0.88       813\n",
            "             macro avg       0.89      0.88      0.88       813\n",
            "          weighted avg       0.89      0.88      0.88       813\n",
            "\n"
          ]
        }
      ]
    }
  ]
}