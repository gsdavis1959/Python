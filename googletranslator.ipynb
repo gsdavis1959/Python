{
 "cells": [
  {
   "cell_type": "code",
   "execution_count": 1,
   "metadata": {},
   "outputs": [
    {
     "name": "stdout",
     "output_type": "stream",
     "text": [
      "Collecting googletrans\n",
      "  Downloading googletrans-3.0.0.tar.gz (17 kB)\n",
      "Collecting httpx==0.13.3\n",
      "  Downloading httpx-0.13.3-py3-none-any.whl (55 kB)\n",
      "Requirement already satisfied: idna==2.* in c:\\users\\gsdav\\anaconda3\\lib\\site-packages (from httpx==0.13.3->googletrans) (2.8)\n",
      "Collecting rfc3986<2,>=1.3\n",
      "  Downloading rfc3986-1.4.0-py2.py3-none-any.whl (31 kB)\n",
      "Collecting httpcore==0.9.*\n",
      "  Downloading httpcore-0.9.1-py3-none-any.whl (42 kB)\n",
      "Collecting sniffio\n",
      "  Downloading sniffio-1.1.0-py3-none-any.whl (4.5 kB)\n",
      "Requirement already satisfied: chardet==3.* in c:\\users\\gsdav\\anaconda3\\lib\\site-packages (from httpx==0.13.3->googletrans) (3.0.4)\n",
      "Requirement already satisfied: certifi in c:\\users\\gsdav\\anaconda3\\lib\\site-packages (from httpx==0.13.3->googletrans) (2019.11.28)\n",
      "Collecting hstspreload\n",
      "  Downloading hstspreload-2020.9.2-py3-none-any.whl (950 kB)\n",
      "Collecting h11<0.10,>=0.8\n",
      "  Downloading h11-0.9.0-py2.py3-none-any.whl (53 kB)\n",
      "Collecting h2==3.*\n",
      "  Downloading h2-3.2.0-py2.py3-none-any.whl (65 kB)\n",
      "Collecting hpack<4,>=3.0\n",
      "  Using cached hpack-3.0.0-py2.py3-none-any.whl (38 kB)\n",
      "Collecting hyperframe<6,>=5.2.0\n",
      "  Using cached hyperframe-5.2.0-py2.py3-none-any.whl (12 kB)\n",
      "Building wheels for collected packages: googletrans\n",
      "  Building wheel for googletrans (setup.py): started\n",
      "  Building wheel for googletrans (setup.py): finished with status 'done'\n",
      "  Created wheel for googletrans: filename=googletrans-3.0.0-py3-none-any.whl size=15740 sha256=d8f5d78f606e80fdb14adbb41f0e362cbe0346baec14998f911d4bb92f8b0ec8\n",
      "  Stored in directory: c:\\users\\gsdav\\appdata\\local\\pip\\cache\\wheels\\20\\da\\eb\\a54579056f265eede0417df537dd56d3df5b9eb2b25df0003d\n",
      "Successfully built googletrans\n",
      "Installing collected packages: rfc3986, sniffio, h11, hpack, hyperframe, h2, httpcore, hstspreload, httpx, googletrans\n",
      "Successfully installed googletrans-3.0.0 h11-0.9.0 h2-3.2.0 hpack-3.0.0 hstspreload-2020.9.2 httpcore-0.9.1 httpx-0.13.3 hyperframe-5.2.0 rfc3986-1.4.0 sniffio-1.1.0\n"
     ]
    },
    {
     "name": "stderr",
     "output_type": "stream",
     "text": [
      "WARNING: You are using pip version 20.1.1; however, version 20.2.2 is available.\n",
      "You should consider upgrading via the 'c:\\users\\gsdav\\anaconda3\\python.exe -m pip install --upgrade pip' command.\n"
     ]
    }
   ],
   "source": [
    "# install googletrans using pip\n",
    "!pip install googletrans"
   ]
  },
  {
   "cell_type": "code",
   "execution_count": 1,
   "metadata": {},
   "outputs": [],
   "source": [
    "# import the library\n",
    "import googletrans\n",
    "from googletrans import Translator\n",
    "import numpy as np"
   ]
  },
  {
   "cell_type": "code",
   "execution_count": 2,
   "metadata": {},
   "outputs": [
    {
     "name": "stdout",
     "output_type": "stream",
     "text": [
      "Translated(src=es, dest=en, text=Hello World, pronunciation=Hello World, extra_data=\"{'translat...\")\n"
     ]
    },
    {
     "data": {
      "text/plain": [
       "'Hello World'"
      ]
     },
     "execution_count": 2,
     "metadata": {},
     "output_type": "execute_result"
    }
   ],
   "source": [
    "# create a translator object\n",
    "translator = Translator()\n",
    "\n",
    "# use translate method to translate a string - by default, the destination language is english\n",
    "translated = translator.translate('Hola Mundo')\n",
    "\n",
    "# the translate method returns an object\n",
    "print(translated)\n",
    "# Translated(src=es, dest=en, text=Hello World, pronunciation=Hello World, extra_data=\"{'translat...\")\n",
    "\n",
    "# obtain translated string by using attribute .text\n",
    "translated.text\n",
    "# 'Hello World'"
   ]
  },
  {
   "cell_type": "code",
   "execution_count": 3,
   "metadata": {},
   "outputs": [
    {
     "data": {
      "text/plain": [
       "'Hallo Welt'"
      ]
     },
     "execution_count": 3,
     "metadata": {},
     "output_type": "execute_result"
    }
   ],
   "source": [
    "# use method translate to translate a string into italian\n",
    "translated_ita = translator.translate('Hola Mundo', dest='it')\n",
    "translated_ita.text\n",
    "# 'Ciao mondo'\n",
    "\n",
    "# use method translate to translate a string into german\n",
    "translated_de = translator.translate('Hola Mundo', dest='de')\n",
    "translated_de.text\n",
    "# 'Hallo Welt'"
   ]
  },
  {
   "cell_type": "code",
   "execution_count": 4,
   "metadata": {},
   "outputs": [
    {
     "name": "stdout",
     "output_type": "stream",
     "text": [
      "{'af': 'afrikaans', 'sq': 'albanian', 'am': 'amharic', 'ar': 'arabic', 'hy': 'armenian', 'az': 'azerbaijani', 'eu': 'basque', 'be': 'belarusian', 'bn': 'bengali', 'bs': 'bosnian', 'bg': 'bulgarian', 'ca': 'catalan', 'ceb': 'cebuano', 'ny': 'chichewa', 'zh-cn': 'chinese (simplified)', 'zh-tw': 'chinese (traditional)', 'co': 'corsican', 'hr': 'croatian', 'cs': 'czech', 'da': 'danish', 'nl': 'dutch', 'en': 'english', 'eo': 'esperanto', 'et': 'estonian', 'tl': 'filipino', 'fi': 'finnish', 'fr': 'french', 'fy': 'frisian', 'gl': 'galician', 'ka': 'georgian', 'de': 'german', 'el': 'greek', 'gu': 'gujarati', 'ht': 'haitian creole', 'ha': 'hausa', 'haw': 'hawaiian', 'iw': 'hebrew', 'he': 'hebrew', 'hi': 'hindi', 'hmn': 'hmong', 'hu': 'hungarian', 'is': 'icelandic', 'ig': 'igbo', 'id': 'indonesian', 'ga': 'irish', 'it': 'italian', 'ja': 'japanese', 'jw': 'javanese', 'kn': 'kannada', 'kk': 'kazakh', 'km': 'khmer', 'ko': 'korean', 'ku': 'kurdish (kurmanji)', 'ky': 'kyrgyz', 'lo': 'lao', 'la': 'latin', 'lv': 'latvian', 'lt': 'lithuanian', 'lb': 'luxembourgish', 'mk': 'macedonian', 'mg': 'malagasy', 'ms': 'malay', 'ml': 'malayalam', 'mt': 'maltese', 'mi': 'maori', 'mr': 'marathi', 'mn': 'mongolian', 'my': 'myanmar (burmese)', 'ne': 'nepali', 'no': 'norwegian', 'or': 'odia', 'ps': 'pashto', 'fa': 'persian', 'pl': 'polish', 'pt': 'portuguese', 'pa': 'punjabi', 'ro': 'romanian', 'ru': 'russian', 'sm': 'samoan', 'gd': 'scots gaelic', 'sr': 'serbian', 'st': 'sesotho', 'sn': 'shona', 'sd': 'sindhi', 'si': 'sinhala', 'sk': 'slovak', 'sl': 'slovenian', 'so': 'somali', 'es': 'spanish', 'su': 'sundanese', 'sw': 'swahili', 'sv': 'swedish', 'tg': 'tajik', 'ta': 'tamil', 'te': 'telugu', 'th': 'thai', 'tr': 'turkish', 'uk': 'ukrainian', 'ur': 'urdu', 'ug': 'uyghur', 'uz': 'uzbek', 'vi': 'vietnamese', 'cy': 'welsh', 'xh': 'xhosa', 'yi': 'yiddish', 'yo': 'yoruba', 'zu': 'zulu'}\n"
     ]
    }
   ],
   "source": [
    "# available languages for translation\n",
    "print(googletrans.LANGUAGES)\n",
    "# {'af': 'afrikaans', 'sq': 'albanian', 'am': 'amharic', 'ar': 'arabic', 'hy': 'armenian', 'az': 'azerbaijani', 'eu': 'basque', 'be': 'belarusian', 'bn': 'bengali', 'bs': 'bosnian', 'bg': 'bulgarian', 'ca': 'catalan', 'ceb': 'cebuano', 'ny': 'chichewa', 'zh-cn': 'chinese (simplified)', 'zh-tw': 'chinese (traditional)', 'co': 'corsican', 'hr': 'croatian', 'cs': 'czech', 'da': 'danish', 'nl': 'dutch', 'en': 'english', 'eo': 'esperanto', 'et': 'estonian', 'tl': 'filipino', 'fi': 'finnish', 'fr': 'french', 'fy': 'frisian', 'gl': 'galician', 'ka': 'georgian', 'de': 'german', 'el': 'greek', 'gu': 'gujarati', 'ht': 'haitian creole', 'ha': 'hausa', 'haw': 'hawaiian', 'iw': 'hebrew', 'hi': 'hindi', 'hmn': 'hmong', 'hu': 'hungarian', 'is': 'icelandic', 'ig': 'igbo', 'id': 'indonesian', 'ga': 'irish', 'it': 'italian', 'ja': 'japanese', 'jw': 'javanese', 'kn': 'kannada', 'kk': 'kazakh', 'km': 'khmer', 'ko': 'korean', 'ku': 'kurdish (kurmanji)', 'ky': 'kyrgyz', 'lo': 'lao', 'la': 'latin', 'lv': 'latvian', 'lt': 'lithuanian', 'lb': 'luxembourgish', 'mk': 'macedonian', 'mg': 'malagasy', 'ms': 'malay', 'ml': 'malayalam', 'mt': 'maltese', 'mi': 'maori', 'mr': 'marathi', 'mn': 'mongolian', 'my': 'myanmar (burmese)', 'ne': 'nepali', 'no': 'norwegian', 'ps': 'pashto', 'fa': 'persian', 'pl': 'polish', 'pt': 'portuguese', 'pa': 'punjabi', 'ro': 'romanian', 'ru': 'russian', 'sm': 'samoan', 'gd': 'scots gaelic', 'sr': 'serbian', 'st': 'sesotho', 'sn': 'shona', 'sd': 'sindhi', 'si': 'sinhala', 'sk': 'slovak', 'sl': 'slovenian', 'so': 'somali', 'es': 'spanish', 'su': 'sundanese', 'sw': 'swahili', 'sv': 'swedish', 'tg': 'tajik', 'ta': 'tamil', 'te': 'telugu', 'th': 'thai', 'tr': 'turkish', 'uk': 'ukrainian', 'ur': 'urdu', 'uz': 'uzbek', 'vi': 'vietnamese', 'cy': 'welsh', 'xh': 'xhosa', 'yi': 'yiddish', 'yo': 'yoruba', 'zu': 'zulu', 'fil': 'Filipino', 'he': 'Hebrew'}\n"
   ]
  },
  {
   "cell_type": "code",
   "execution_count": 5,
   "metadata": {},
   "outputs": [
    {
     "data": {
      "text/plain": [
       "'en'"
      ]
     },
     "execution_count": 5,
     "metadata": {},
     "output_type": "execute_result"
    }
   ],
   "source": [
    "# use translate method to translate a string - by default, the destination language is english\n",
    "translator = Translator()\n",
    "translated = translator.translate('Hola Mundo')\n",
    "\n",
    "# obtain translated text - attribute .text\n",
    "translated.text\n",
    "# 'Hello World'\n",
    "\n",
    "# obtain original text - attribute .origin\n",
    "translated.origin\n",
    "# 'Hola Mundo'\n",
    "\n",
    "# obtain source language - attribute .src\n",
    "translated.src\n",
    "# 'es'\n",
    "\n",
    "# obtain destination language - attribute .dest\n",
    "translated.dest\n",
    "# 'en'"
   ]
  },
  {
   "cell_type": "code",
   "execution_count": 9,
   "metadata": {},
   "outputs": [
    {
     "name": "stdout",
     "output_type": "stream",
     "text": [
      "Current working directory C:\\Users\\gsdav\\Documents\\Data\\PythonPrograms\\jupyternotebook\n"
     ]
    }
   ],
   "source": [
    "import os \n",
    "os.chdir (\"C:\\\\Users\\gsdav\\Documents\\Data\\PythonPrograms\\jupyternotebook\")\n",
    "\n",
    "retval = os.getcwd()\n",
    "print(\"Current working directory %s\" % retval)\n"
   ]
  },
  {
   "cell_type": "code",
   "execution_count": 14,
   "metadata": {},
   "outputs": [
    {
     "ename": "NameError",
     "evalue": "name 'sftp' is not defined",
     "output_type": "error",
     "traceback": [
      "\u001b[1;31m---------------------------------------------------------------------------\u001b[0m",
      "\u001b[1;31mNameError\u001b[0m                                 Traceback (most recent call last)",
      "\u001b[1;32m<ipython-input-14-171d6c9ee77b>\u001b[0m in \u001b[0;36m<module>\u001b[1;34m\u001b[0m\n\u001b[0;32m      2\u001b[0m \u001b[0mserver_file\u001b[0m \u001b[1;33m=\u001b[0m \u001b[1;34m'/Lexicons/CEspanol_2019_ene_septiembre.csv'\u001b[0m\u001b[1;33m\u001b[0m\u001b[1;33m\u001b[0m\u001b[0m\n\u001b[0;32m      3\u001b[0m \u001b[1;33m\u001b[0m\u001b[0m\n\u001b[1;32m----> 4\u001b[1;33m \u001b[0msftp\u001b[0m\u001b[1;33m.\u001b[0m\u001b[0mget\u001b[0m\u001b[1;33m(\u001b[0m\u001b[0mserver_file\u001b[0m\u001b[1;33m)\u001b[0m\u001b[1;33m\u001b[0m\u001b[1;33m\u001b[0m\u001b[0m\n\u001b[0m",
      "\u001b[1;31mNameError\u001b[0m: name 'sftp' is not defined"
     ]
    }
   ],
   "source": [
    "import raspberry_server_file\n",
    "server_file = '/Lexicons/CEspanol_2019_ene_septiembre.csv'\n",
    "\n",
    "sftp.get(server_file)"
   ]
  },
  {
   "cell_type": "code",
   "execution_count": 13,
   "metadata": {},
   "outputs": [
    {
     "ename": "NameError",
     "evalue": "name 'sftp' is not defined",
     "output_type": "error",
     "traceback": [
      "\u001b[1;31m---------------------------------------------------------------------------\u001b[0m",
      "\u001b[1;31mNameError\u001b[0m                                 Traceback (most recent call last)",
      "\u001b[1;32m<ipython-input-13-e4435be81e6a>\u001b[0m in \u001b[0;36m<module>\u001b[1;34m\u001b[0m\n\u001b[0;32m      1\u001b[0m \u001b[0mserver_file\u001b[0m \u001b[1;33m=\u001b[0m \u001b[1;34m'/Lexicons/CEspanol_2019_ene_septiembre.csv'\u001b[0m\u001b[1;33m\u001b[0m\u001b[1;33m\u001b[0m\u001b[0m\n\u001b[0;32m      2\u001b[0m \u001b[1;33m\u001b[0m\u001b[0m\n\u001b[1;32m----> 3\u001b[1;33m \u001b[0msftp\u001b[0m\u001b[1;33m.\u001b[0m\u001b[0mget\u001b[0m\u001b[1;33m(\u001b[0m\u001b[0mserver_file\u001b[0m\u001b[1;33m)\u001b[0m\u001b[1;33m\u001b[0m\u001b[1;33m\u001b[0m\u001b[0m\n\u001b[0m\u001b[0;32m      4\u001b[0m \u001b[1;33m\u001b[0m\u001b[0m\n\u001b[0;32m      5\u001b[0m \u001b[0mdf_es\u001b[0m \u001b[1;33m=\u001b[0m \u001b[0mpd\u001b[0m\u001b[1;33m.\u001b[0m\u001b[0mread_csv\u001b[0m\u001b[1;33m(\u001b[0m\u001b[0mserver_file\u001b[0m\u001b[1;33m,\u001b[0m \u001b[0msep\u001b[0m\u001b[1;33m=\u001b[0m\u001b[1;34m';'\u001b[0m\u001b[1;33m,\u001b[0m\u001b[0mencoding\u001b[0m\u001b[1;33m=\u001b[0m\u001b[1;34m'latin-1'\u001b[0m\u001b[1;33m)\u001b[0m\u001b[1;33m\u001b[0m\u001b[1;33m\u001b[0m\u001b[0m\n",
      "\u001b[1;31mNameError\u001b[0m: name 'sftp' is not defined"
     ]
    }
   ],
   "source": [
    "df_es = pd.read_csv(server_file, sep=';',encoding='latin-1')"
   ]
  },
  {
   "cell_type": "code",
   "execution_count": 6,
   "metadata": {},
   "outputs": [],
   "source": [
    "import pysftp\n",
    "cnopts = pysftp.CnOpts()"
   ]
  },
  {
   "cell_type": "code",
   "execution_count": 10,
   "metadata": {},
   "outputs": [
    {
     "name": "stdout",
     "output_type": "stream",
     "text": [
      "Connection succesfully stablished ... \n",
      "bin drwxr-xr-x   1 0        0            4096 23 Feb 2020  bin\n",
      "boot drwxr-xr-x   1 0        0            3584 31 Dec 1969  boot\n",
      "dev drwxr-xr-x   1 0        0            4220 16 Aug 19:17 dev\n",
      "etc drwxr-xr-x   1 0        0            4096 04 Apr 21:30 etc\n",
      "home drwxr-xr-x   1 0        0            4096 09 Jul 2019  home\n",
      "lib drwxr-xr-x   1 0        0            4096 09 Jul 2019  lib\n",
      "lost+found drwx------   1 0        0           16384 09 Jul 2019  lost+found\n",
      "media drwxr-xr-x   1 0        0            4096 09 Jul 2019  media\n",
      "mnt drwxr-xr-x   1 0        0            4096 22 Feb 2020  mnt\n",
      "opt drwxr-xr-x   1 0        0            4096 09 Jul 2019  opt\n",
      "proc dr-xr-xr-x   1 0        0               0 31 Dec 1969  proc\n",
      "root drwx------   1 0        0            4096 27 Mar 16:35 root\n",
      "run drwxr-xr-x   1 0        0             980 05 Sep 12:55 run\n",
      "sbin drwxr-xr-x   1 0        0            4096 23 Feb 2020  sbin\n",
      "snap drwxr-xr-x   1 0        0            4096 27 Mar 16:35 snap\n",
      "srv drwxr-xr-x   1 0        0            4096 09 Jul 2019  srv\n",
      "sys dr-xr-xr-x   1 0        0               0 31 Dec 1969  sys\n",
      "tmp drwxrwxrwt   1 0        0            4096 05 Sep 12:42 tmp\n",
      "usr drwxr-xr-x   1 0        0            4096 09 Jul 2019  usr\n",
      "var drwxr-xr-x   1 0        0            4096 27 Mar 16:31 var\n"
     ]
    }
   ],
   "source": [
    "#This PC\\Swish\\sftp://pi@192.168.1.18:22//\n",
    "myHostname = \"raspberrypi\"\n",
    "myUsername = \"pi\"\n",
    "myPassword = \"clayclaire\"\n",
    "cnopts.hostkeys = None\n",
    "\n",
    "with pysftp.Connection(host=myHostname, username=myUsername, password=myPassword, cnopts=cnopts) as sftp:\n",
    "    print (\"Connection succesfully stablished ... \")\n",
    "\n",
    "    # Switch to a remote directory\n",
    "    sftp.cwd('/')\n",
    "\n",
    "    # Obtain structure of the remote directory '/var/www/vhosts'\n",
    "    directory_structure = sftp.listdir_attr()\n",
    "\n",
    "    # Print data\n",
    "    for attr in directory_structure:\n",
    "        print (attr.filename, attr)\n",
    "    \n",
    "# connection closed automatically at the end of the with-block"
   ]
  },
  {
   "cell_type": "code",
   "execution_count": 12,
   "metadata": {},
   "outputs": [
    {
     "name": "stdout",
     "output_type": "stream",
     "text": [
      "Connection succesfully stablished ... \n",
      "Current working directory /media/pi/GSD_02_2020/Data/Datasets/Lexicons\n"
     ]
    }
   ],
   "source": [
    "import pandas as pd\n",
    "import os \n",
    "\n",
    "\n",
    "myHostname = \"raspberrypi\"\n",
    "myUsername = \"pi\"\n",
    "myPassword = \"clayclaire\"\n",
    "cnopts.hostkeys = None\n",
    "\n",
    "sftp = pysftp.Connection(host=myHostname, username=myUsername, password=myPassword, cnopts=cnopts)\n",
    "\n",
    "print (\"Connection succesfully stablished ... \")\n",
    "\n",
    "sftp.chdir ('/media/pi/GSD_02_2020/Data/Datasets/Lexicons')\n",
    "\n",
    "retval = sftp.getcwd()\n",
    "print(\"Current working directory %s\" % retval)\n",
    "\n",
    "server_file = 'CEspanol_2019_ene_septiembre.csv'\n",
    "\n",
    "sftp.get(server_file)\n",
    "\n",
    "df_es = pd.read_csv(server_file, sep=';',encoding='latin-1')\n"
   ]
  },
  {
   "cell_type": "code",
   "execution_count": 13,
   "metadata": {},
   "outputs": [
    {
     "data": {
      "text/html": [
       "<div>\n",
       "<style scoped>\n",
       "    .dataframe tbody tr th:only-of-type {\n",
       "        vertical-align: middle;\n",
       "    }\n",
       "\n",
       "    .dataframe tbody tr th {\n",
       "        vertical-align: top;\n",
       "    }\n",
       "\n",
       "    .dataframe thead th {\n",
       "        text-align: right;\n",
       "    }\n",
       "</style>\n",
       "<table border=\"1\" class=\"dataframe\">\n",
       "  <thead>\n",
       "    <tr style=\"text-align: right;\">\n",
       "      <th></th>\n",
       "      <th>Año</th>\n",
       "      <th>Mes</th>\n",
       "      <th>Nivel</th>\n",
       "      <th>Sexo</th>\n",
       "      <th>Edad</th>\n",
       "      <th>Situación administrativa</th>\n",
       "      <th>Nacionalidad-País</th>\n",
       "      <th>Area Geográfica</th>\n",
       "      <th>Categoría profesional</th>\n",
       "      <th>Nivel de estudios</th>\n",
       "      <th>Oficina</th>\n",
       "    </tr>\n",
       "  </thead>\n",
       "  <tbody>\n",
       "    <tr>\n",
       "      <th>0</th>\n",
       "      <td>2019</td>\n",
       "      <td>Enero</td>\n",
       "      <td>A2</td>\n",
       "      <td>Mujer</td>\n",
       "      <td>31 a 50 años</td>\n",
       "      <td>ART</td>\n",
       "      <td>Nigeria</td>\n",
       "      <td>África Subsahariana</td>\n",
       "      <td>Desempleado con prestación</td>\n",
       "      <td>Secundaria</td>\n",
       "      <td>Oficina Norte</td>\n",
       "    </tr>\n",
       "    <tr>\n",
       "      <th>1</th>\n",
       "      <td>2019</td>\n",
       "      <td>Enero</td>\n",
       "      <td>A2</td>\n",
       "      <td>Mujer</td>\n",
       "      <td>18 a 30 años</td>\n",
       "      <td>ART</td>\n",
       "      <td>Filipinas</td>\n",
       "      <td>Asia</td>\n",
       "      <td>Desempleado sin prestación</td>\n",
       "      <td>Universitario</td>\n",
       "      <td>Oficina Norte</td>\n",
       "    </tr>\n",
       "    <tr>\n",
       "      <th>2</th>\n",
       "      <td>2019</td>\n",
       "      <td>Enero</td>\n",
       "      <td>A2</td>\n",
       "      <td>Mujer</td>\n",
       "      <td>31 a 50 años</td>\n",
       "      <td>ART</td>\n",
       "      <td>Filipinas</td>\n",
       "      <td>Asia</td>\n",
       "      <td>Empleado</td>\n",
       "      <td>Secundaria</td>\n",
       "      <td>Oficina Norte</td>\n",
       "    </tr>\n",
       "    <tr>\n",
       "      <th>3</th>\n",
       "      <td>2019</td>\n",
       "      <td>Enero</td>\n",
       "      <td>A2</td>\n",
       "      <td>Mujer</td>\n",
       "      <td>31 a 50 años</td>\n",
       "      <td>Irregular</td>\n",
       "      <td>Marruecos</td>\n",
       "      <td>Magreb</td>\n",
       "      <td>Empleado</td>\n",
       "      <td>Secundaria</td>\n",
       "      <td>Oficina Norte</td>\n",
       "    </tr>\n",
       "    <tr>\n",
       "      <th>4</th>\n",
       "      <td>2019</td>\n",
       "      <td>Enero</td>\n",
       "      <td>A2</td>\n",
       "      <td>Mujer</td>\n",
       "      <td>31 a 50 años</td>\n",
       "      <td>Irregular</td>\n",
       "      <td>Marruecos</td>\n",
       "      <td>Magreb</td>\n",
       "      <td>Desempleado sin prestación</td>\n",
       "      <td>Bachillerato</td>\n",
       "      <td>Oficina Norte</td>\n",
       "    </tr>\n",
       "  </tbody>\n",
       "</table>\n",
       "</div>"
      ],
      "text/plain": [
       "    Año    Mes Nivel   Sexo          Edad Situación administrativa  \\\n",
       "0  2019  Enero    A2  Mujer  31 a 50 años                      ART   \n",
       "1  2019  Enero    A2  Mujer  18 a 30 años                      ART   \n",
       "2  2019  Enero    A2  Mujer  31 a 50 años                      ART   \n",
       "3  2019  Enero    A2  Mujer  31 a 50 años                Irregular   \n",
       "4  2019  Enero    A2  Mujer  31 a 50 años                Irregular   \n",
       "\n",
       "  Nacionalidad-País      Area Geográfica       Categoría profesional  \\\n",
       "0           Nigeria  África Subsahariana  Desempleado con prestación   \n",
       "1         Filipinas                 Asia  Desempleado sin prestación   \n",
       "2         Filipinas                 Asia                    Empleado   \n",
       "3         Marruecos               Magreb                    Empleado   \n",
       "4         Marruecos               Magreb  Desempleado sin prestación   \n",
       "\n",
       "  Nivel de estudios        Oficina  \n",
       "0        Secundaria  Oficina Norte  \n",
       "1     Universitario  Oficina Norte  \n",
       "2        Secundaria  Oficina Norte  \n",
       "3        Secundaria  Oficina Norte  \n",
       "4      Bachillerato  Oficina Norte  "
      ]
     },
     "execution_count": 13,
     "metadata": {},
     "output_type": "execute_result"
    }
   ],
   "source": [
    "# print first rows of the data frame\n",
    "df_es.head()"
   ]
  },
  {
   "cell_type": "code",
   "execution_count": 14,
   "metadata": {},
   "outputs": [
    {
     "data": {
      "text/plain": [
       "Index(['Year', 'My', 'level', 'Sex', 'Age', 'Administrative situation',\n",
       "       'Nationality country', 'Geographical area', 'Professional category',\n",
       "       'Level of studies', 'Office'],\n",
       "      dtype='object')"
      ]
     },
     "execution_count": 14,
     "metadata": {},
     "output_type": "execute_result"
    }
   ],
   "source": [
    "# make a deep copy of the data frame\n",
    "df_en = df_es.copy()\n",
    "\n",
    "# translate columns' name using rename function\n",
    "df_en.rename(columns=lambda x: translator.translate(x).text, inplace=True)\n",
    "\n",
    "# translated column names\n",
    "df_en.columns\n",
    "# Index(['level', 'Sex', 'Age', 'administrative status', 'Nationality country',\n",
    "    #'Geographical area', 'Professional category', 'Level studies'],\n",
    "    #dtype='object')"
   ]
  },
  {
   "cell_type": "code",
   "execution_count": 27,
   "metadata": {
    "scrolled": true
   },
   "outputs": [
    {
     "ename": "TypeError",
     "evalue": "'numpy.int64' object is not iterable",
     "output_type": "error",
     "traceback": [
      "\u001b[1;31m---------------------------------------------------------------------------\u001b[0m",
      "\u001b[1;31mTypeError\u001b[0m                                 Traceback (most recent call last)",
      "\u001b[1;32m<ipython-input-27-3368de298c0f>\u001b[0m in \u001b[0;36m<module>\u001b[1;34m\u001b[0m\n\u001b[0;32m      5\u001b[0m     \u001b[1;32mfor\u001b[0m \u001b[0melement\u001b[0m \u001b[1;32min\u001b[0m \u001b[0munique_elements\u001b[0m\u001b[1;33m:\u001b[0m\u001b[1;33m\u001b[0m\u001b[1;33m\u001b[0m\u001b[0m\n\u001b[0;32m      6\u001b[0m         \u001b[1;31m# add translation to the dictionary\u001b[0m\u001b[1;33m\u001b[0m\u001b[1;33m\u001b[0m\u001b[1;33m\u001b[0m\u001b[0m\n\u001b[1;32m----> 7\u001b[1;33m         \u001b[0mtranslations\u001b[0m\u001b[1;33m[\u001b[0m\u001b[0melement\u001b[0m\u001b[1;33m]\u001b[0m \u001b[1;33m=\u001b[0m \u001b[0mnp\u001b[0m\u001b[1;33m.\u001b[0m\u001b[0marray\u001b[0m\u001b[1;33m(\u001b[0m\u001b[0mtranslator\u001b[0m\u001b[1;33m.\u001b[0m\u001b[0mtranslate\u001b[0m\u001b[1;33m(\u001b[0m\u001b[0melement\u001b[0m\u001b[1;33m)\u001b[0m\u001b[1;33m.\u001b[0m\u001b[0mtext\u001b[0m\u001b[1;33m)\u001b[0m\u001b[1;33m\u001b[0m\u001b[1;33m\u001b[0m\u001b[0m\n\u001b[0m\u001b[0;32m      8\u001b[0m \u001b[1;33m\u001b[0m\u001b[0m\n\u001b[0;32m      9\u001b[0m \u001b[0mprint\u001b[0m\u001b[1;33m(\u001b[0m\u001b[0mtranslations\u001b[0m\u001b[1;33m)\u001b[0m\u001b[1;33m\u001b[0m\u001b[1;33m\u001b[0m\u001b[0m\n",
      "\u001b[1;32m~\\Anaconda3\\lib\\site-packages\\googletrans\\client.py\u001b[0m in \u001b[0;36mtranslate\u001b[1;34m(self, text, dest, src, **kwargs)\u001b[0m\n\u001b[0;32m    180\u001b[0m \u001b[1;33m\u001b[0m\u001b[0m\n\u001b[0;32m    181\u001b[0m         \u001b[0morigin\u001b[0m \u001b[1;33m=\u001b[0m \u001b[0mtext\u001b[0m\u001b[1;33m\u001b[0m\u001b[1;33m\u001b[0m\u001b[0m\n\u001b[1;32m--> 182\u001b[1;33m         \u001b[0mdata\u001b[0m \u001b[1;33m=\u001b[0m \u001b[0mself\u001b[0m\u001b[1;33m.\u001b[0m\u001b[0m_translate\u001b[0m\u001b[1;33m(\u001b[0m\u001b[0mtext\u001b[0m\u001b[1;33m,\u001b[0m \u001b[0mdest\u001b[0m\u001b[1;33m,\u001b[0m \u001b[0msrc\u001b[0m\u001b[1;33m,\u001b[0m \u001b[0mkwargs\u001b[0m\u001b[1;33m)\u001b[0m\u001b[1;33m\u001b[0m\u001b[1;33m\u001b[0m\u001b[0m\n\u001b[0m\u001b[0;32m    183\u001b[0m \u001b[1;33m\u001b[0m\u001b[0m\n\u001b[0;32m    184\u001b[0m         \u001b[1;31m# this code will be updated when the format is changed.\u001b[0m\u001b[1;33m\u001b[0m\u001b[1;33m\u001b[0m\u001b[1;33m\u001b[0m\u001b[0m\n",
      "\u001b[1;32m~\\Anaconda3\\lib\\site-packages\\googletrans\\client.py\u001b[0m in \u001b[0;36m_translate\u001b[1;34m(self, text, dest, src, override)\u001b[0m\n\u001b[0;32m     76\u001b[0m \u001b[1;33m\u001b[0m\u001b[0m\n\u001b[0;32m     77\u001b[0m     \u001b[1;32mdef\u001b[0m \u001b[0m_translate\u001b[0m\u001b[1;33m(\u001b[0m\u001b[0mself\u001b[0m\u001b[1;33m,\u001b[0m \u001b[0mtext\u001b[0m\u001b[1;33m,\u001b[0m \u001b[0mdest\u001b[0m\u001b[1;33m,\u001b[0m \u001b[0msrc\u001b[0m\u001b[1;33m,\u001b[0m \u001b[0moverride\u001b[0m\u001b[1;33m)\u001b[0m\u001b[1;33m:\u001b[0m\u001b[1;33m\u001b[0m\u001b[1;33m\u001b[0m\u001b[0m\n\u001b[1;32m---> 78\u001b[1;33m         \u001b[0mtoken\u001b[0m \u001b[1;33m=\u001b[0m \u001b[0mself\u001b[0m\u001b[1;33m.\u001b[0m\u001b[0mtoken_acquirer\u001b[0m\u001b[1;33m.\u001b[0m\u001b[0mdo\u001b[0m\u001b[1;33m(\u001b[0m\u001b[0mtext\u001b[0m\u001b[1;33m)\u001b[0m\u001b[1;33m\u001b[0m\u001b[1;33m\u001b[0m\u001b[0m\n\u001b[0m\u001b[0;32m     79\u001b[0m         params = utils.build_params(query=text, src=src, dest=dest,\n\u001b[0;32m     80\u001b[0m                                     token=token, override=override)\n",
      "\u001b[1;32m~\\Anaconda3\\lib\\site-packages\\googletrans\\gtoken.py\u001b[0m in \u001b[0;36mdo\u001b[1;34m(self, text)\u001b[0m\n\u001b[0;32m    193\u001b[0m     \u001b[1;32mdef\u001b[0m \u001b[0mdo\u001b[0m\u001b[1;33m(\u001b[0m\u001b[0mself\u001b[0m\u001b[1;33m,\u001b[0m \u001b[0mtext\u001b[0m\u001b[1;33m)\u001b[0m\u001b[1;33m:\u001b[0m\u001b[1;33m\u001b[0m\u001b[1;33m\u001b[0m\u001b[0m\n\u001b[0;32m    194\u001b[0m         \u001b[0mself\u001b[0m\u001b[1;33m.\u001b[0m\u001b[0m_update\u001b[0m\u001b[1;33m(\u001b[0m\u001b[1;33m)\u001b[0m\u001b[1;33m\u001b[0m\u001b[1;33m\u001b[0m\u001b[0m\n\u001b[1;32m--> 195\u001b[1;33m         \u001b[0mtk\u001b[0m \u001b[1;33m=\u001b[0m \u001b[0mself\u001b[0m\u001b[1;33m.\u001b[0m\u001b[0macquire\u001b[0m\u001b[1;33m(\u001b[0m\u001b[0mtext\u001b[0m\u001b[1;33m)\u001b[0m\u001b[1;33m\u001b[0m\u001b[1;33m\u001b[0m\u001b[0m\n\u001b[0m\u001b[0;32m    196\u001b[0m         \u001b[1;32mreturn\u001b[0m \u001b[0mtk\u001b[0m\u001b[1;33m\u001b[0m\u001b[1;33m\u001b[0m\u001b[0m\n",
      "\u001b[1;32m~\\Anaconda3\\lib\\site-packages\\googletrans\\gtoken.py\u001b[0m in \u001b[0;36macquire\u001b[1;34m(self, text)\u001b[0m\n\u001b[0;32m    138\u001b[0m         \u001b[0ma\u001b[0m \u001b[1;33m=\u001b[0m \u001b[1;33m[\u001b[0m\u001b[1;33m]\u001b[0m\u001b[1;33m\u001b[0m\u001b[1;33m\u001b[0m\u001b[0m\n\u001b[0;32m    139\u001b[0m         \u001b[1;31m# Convert text to ints\u001b[0m\u001b[1;33m\u001b[0m\u001b[1;33m\u001b[0m\u001b[1;33m\u001b[0m\u001b[0m\n\u001b[1;32m--> 140\u001b[1;33m         \u001b[1;32mfor\u001b[0m \u001b[0mi\u001b[0m \u001b[1;32min\u001b[0m \u001b[0mtext\u001b[0m\u001b[1;33m:\u001b[0m\u001b[1;33m\u001b[0m\u001b[1;33m\u001b[0m\u001b[0m\n\u001b[0m\u001b[0;32m    141\u001b[0m             \u001b[0mval\u001b[0m \u001b[1;33m=\u001b[0m \u001b[0mord\u001b[0m\u001b[1;33m(\u001b[0m\u001b[0mi\u001b[0m\u001b[1;33m)\u001b[0m\u001b[1;33m\u001b[0m\u001b[1;33m\u001b[0m\u001b[0m\n\u001b[0;32m    142\u001b[0m             \u001b[1;32mif\u001b[0m \u001b[0mval\u001b[0m \u001b[1;33m<\u001b[0m \u001b[1;36m0x10000\u001b[0m\u001b[1;33m:\u001b[0m\u001b[1;33m\u001b[0m\u001b[1;33m\u001b[0m\u001b[0m\n",
      "\u001b[1;31mTypeError\u001b[0m: 'numpy.int64' object is not iterable"
     ]
    }
   ],
   "source": [
    "translations = {}\n",
    "for column in df_en.columns:\n",
    "    # unique elements of the column\n",
    "    unique_elements = df_en[column].unique()\n",
    "    for element in unique_elements:\n",
    "        # add translation to the dictionary\n",
    "        translations[element] = translator.translate(element).text\n",
    "    \n",
    "print(translations)"
   ]
  },
  {
   "cell_type": "code",
   "execution_count": 20,
   "metadata": {},
   "outputs": [
    {
     "name": "stdout",
     "output_type": "stream",
     "text": [
      "{'A2': 'A2', 'A2 DELE': 'A2 DELE'}\n"
     ]
    }
   ],
   "source": [
    "# modify wrong translation\n",
    "translations['A2'] = 'A2'\n",
    "translations['A2 DELE'] = 'A2 DELE'\n",
    "\n",
    "# check modifications\n",
    "print(translations)"
   ]
  },
  {
   "cell_type": "code",
   "execution_count": 21,
   "metadata": {},
   "outputs": [
    {
     "data": {
      "text/html": [
       "<div>\n",
       "<style scoped>\n",
       "    .dataframe tbody tr th:only-of-type {\n",
       "        vertical-align: middle;\n",
       "    }\n",
       "\n",
       "    .dataframe tbody tr th {\n",
       "        vertical-align: top;\n",
       "    }\n",
       "\n",
       "    .dataframe thead th {\n",
       "        text-align: right;\n",
       "    }\n",
       "</style>\n",
       "<table border=\"1\" class=\"dataframe\">\n",
       "  <thead>\n",
       "    <tr style=\"text-align: right;\">\n",
       "      <th></th>\n",
       "      <th>Year</th>\n",
       "      <th>My</th>\n",
       "      <th>level</th>\n",
       "      <th>Sex</th>\n",
       "      <th>Age</th>\n",
       "      <th>Administrative situation</th>\n",
       "      <th>Nationality country</th>\n",
       "      <th>Geographical area</th>\n",
       "      <th>Professional category</th>\n",
       "      <th>Level of studies</th>\n",
       "      <th>Office</th>\n",
       "    </tr>\n",
       "  </thead>\n",
       "  <tbody>\n",
       "    <tr>\n",
       "      <th>0</th>\n",
       "      <td>2019</td>\n",
       "      <td>Enero</td>\n",
       "      <td>A2</td>\n",
       "      <td>Mujer</td>\n",
       "      <td>31 a 50 años</td>\n",
       "      <td>ART</td>\n",
       "      <td>Nigeria</td>\n",
       "      <td>África Subsahariana</td>\n",
       "      <td>Desempleado con prestación</td>\n",
       "      <td>Secundaria</td>\n",
       "      <td>Oficina Norte</td>\n",
       "    </tr>\n",
       "    <tr>\n",
       "      <th>1</th>\n",
       "      <td>2019</td>\n",
       "      <td>Enero</td>\n",
       "      <td>A2</td>\n",
       "      <td>Mujer</td>\n",
       "      <td>18 a 30 años</td>\n",
       "      <td>ART</td>\n",
       "      <td>Filipinas</td>\n",
       "      <td>Asia</td>\n",
       "      <td>Desempleado sin prestación</td>\n",
       "      <td>Universitario</td>\n",
       "      <td>Oficina Norte</td>\n",
       "    </tr>\n",
       "    <tr>\n",
       "      <th>2</th>\n",
       "      <td>2019</td>\n",
       "      <td>Enero</td>\n",
       "      <td>A2</td>\n",
       "      <td>Mujer</td>\n",
       "      <td>31 a 50 años</td>\n",
       "      <td>ART</td>\n",
       "      <td>Filipinas</td>\n",
       "      <td>Asia</td>\n",
       "      <td>Empleado</td>\n",
       "      <td>Secundaria</td>\n",
       "      <td>Oficina Norte</td>\n",
       "    </tr>\n",
       "    <tr>\n",
       "      <th>3</th>\n",
       "      <td>2019</td>\n",
       "      <td>Enero</td>\n",
       "      <td>A2</td>\n",
       "      <td>Mujer</td>\n",
       "      <td>31 a 50 años</td>\n",
       "      <td>Irregular</td>\n",
       "      <td>Marruecos</td>\n",
       "      <td>Magreb</td>\n",
       "      <td>Empleado</td>\n",
       "      <td>Secundaria</td>\n",
       "      <td>Oficina Norte</td>\n",
       "    </tr>\n",
       "    <tr>\n",
       "      <th>4</th>\n",
       "      <td>2019</td>\n",
       "      <td>Enero</td>\n",
       "      <td>A2</td>\n",
       "      <td>Mujer</td>\n",
       "      <td>31 a 50 años</td>\n",
       "      <td>Irregular</td>\n",
       "      <td>Marruecos</td>\n",
       "      <td>Magreb</td>\n",
       "      <td>Desempleado sin prestación</td>\n",
       "      <td>Bachillerato</td>\n",
       "      <td>Oficina Norte</td>\n",
       "    </tr>\n",
       "  </tbody>\n",
       "</table>\n",
       "</div>"
      ],
      "text/plain": [
       "   Year     My level    Sex           Age Administrative situation  \\\n",
       "0  2019  Enero    A2  Mujer  31 a 50 años                      ART   \n",
       "1  2019  Enero    A2  Mujer  18 a 30 años                      ART   \n",
       "2  2019  Enero    A2  Mujer  31 a 50 años                      ART   \n",
       "3  2019  Enero    A2  Mujer  31 a 50 años                Irregular   \n",
       "4  2019  Enero    A2  Mujer  31 a 50 años                Irregular   \n",
       "\n",
       "  Nationality country    Geographical area       Professional category  \\\n",
       "0             Nigeria  África Subsahariana  Desempleado con prestación   \n",
       "1           Filipinas                 Asia  Desempleado sin prestación   \n",
       "2           Filipinas                 Asia                    Empleado   \n",
       "3           Marruecos               Magreb                    Empleado   \n",
       "4           Marruecos               Magreb  Desempleado sin prestación   \n",
       "\n",
       "  Level of studies         Office  \n",
       "0       Secundaria  Oficina Norte  \n",
       "1    Universitario  Oficina Norte  \n",
       "2       Secundaria  Oficina Norte  \n",
       "3       Secundaria  Oficina Norte  \n",
       "4     Bachillerato  Oficina Norte  "
      ]
     },
     "execution_count": 21,
     "metadata": {},
     "output_type": "execute_result"
    }
   ],
   "source": [
    "# modify all the terms of the data frame by using the previously created dictionary\n",
    "df_en.replace(translations, inplace = True)\n",
    "\n",
    "# check translation\n",
    "df_en.head()"
   ]
  }
 ],
 "metadata": {
  "kernelspec": {
   "display_name": "Python 3",
   "language": "python",
   "name": "python3"
  },
  "language_info": {
   "codemirror_mode": {
    "name": "ipython",
    "version": 3
   },
   "file_extension": ".py",
   "mimetype": "text/x-python",
   "name": "python",
   "nbconvert_exporter": "python",
   "pygments_lexer": "ipython3",
   "version": "3.7.6"
  }
 },
 "nbformat": 4,
 "nbformat_minor": 2
}
